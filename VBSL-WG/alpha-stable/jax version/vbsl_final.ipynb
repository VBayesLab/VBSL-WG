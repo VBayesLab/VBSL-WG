{
  "cells": [
    {
      "cell_type": "code",
      "execution_count": 1,
      "metadata": {
        "id": "CTZuTAU29F6E"
      },
      "outputs": [],
      "source": [
        "import jax.numpy as jnp\n",
        "import numpy as np\n",
        "from jax import grad, jit, vmap\n",
        "from jax import random\n",
        "from functools import partial\n",
        "import time\n",
        "import math\n",
        "from tqdm import tqdm\n",
        "import matplotlib.pyplot as plt\n",
        "\n",
        "from jax.scipy.stats import multivariate_normal"
      ]
    },
    {
      "cell_type": "code",
      "execution_count": 2,
      "metadata": {
        "id": "5WIggNkC9F6H"
      },
      "outputs": [
        {
          "name": "stderr",
          "output_type": "stream",
          "text": [
            "No GPU/TPU found, falling back to CPU. (Set TF_CPP_MIN_LOG_LEVEL=0 and rerun for more info.)\n"
          ]
        }
      ],
      "source": [
        "key = random.PRNGKey(68)\n",
        "key1 = random.PRNGKey(6898)\n",
        "key2 = random.PRNGKey(681998)\n",
        "subkeys = random.split(key, 5000)"
      ]
    },
    {
      "cell_type": "code",
      "execution_count": 3,
      "metadata": {
        "colab": {
          "base_uri": "https://localhost:8080/"
        },
        "id": "Q9S_qWl7-0ff",
        "outputId": "35d4b19c-cd84-4261-a524-ddb96c678ed2"
      },
      "outputs": [
        {
          "data": {
            "text/plain": [
              "[CpuDevice(id=0)]"
            ]
          },
          "execution_count": 3,
          "metadata": {},
          "output_type": "execute_result"
        }
      ],
      "source": [
        "import jax\n",
        "jax.devices()"
      ]
    },
    {
      "cell_type": "code",
      "execution_count": 4,
      "metadata": {
        "id": "hx9So0XT9F6I"
      },
      "outputs": [],
      "source": [
        "# Generate data from stable distribution\n",
        "@partial(jit, static_argnames=['dataset_size','num_datasets'])\n",
        "def alpha_stable(alpha, beta, gamma, delta, dataset_size, num_datasets):\n",
        "    V = jnp.pi / 2 * (2 * random.uniform(key, shape = (num_datasets, dataset_size)) - 1)\n",
        "    W = - jnp.log(random.uniform(key1, shape = (num_datasets, dataset_size)))\n",
        "\n",
        "    const = beta * jnp.tan(jnp.pi * alpha / 2)\n",
        "    b = jnp.arctan(const)\n",
        "    s = (1 + const * const)**(1 / (2 * alpha))\n",
        "    r = s * jnp.sin(alpha * V + b) / ((jnp.cos(V)) ** (1/alpha)) * (( jnp.cos( (1-alpha) * V - b ) / W )**((1-alpha)/alpha))\n",
        "    r1 = gamma * r + delta\n",
        "\n",
        "    piover2 = jnp.pi / 2\n",
        "    sclshftV = piover2 + beta * V\n",
        "    r_immi = 1/piover2 * (sclshftV * jnp.tan(V) - beta * jnp.log( (piover2 * W * jnp.cos(V) ) / sclshftV ))\n",
        "    r2 = gamma * r_immi + (2 / jnp.pi) * beta * gamma * jnp.log(gamma) + delta\n",
        "    return jnp.where(alpha !=1, r1, r2)"
      ]
    },
    {
      "cell_type": "code",
      "execution_count": 5,
      "metadata": {
        "id": "PHdBmGuc9F6J"
      },
      "outputs": [],
      "source": [
        "true_theta = jnp.array([1.8, 0.5, 1, 0])"
      ]
    },
    {
      "cell_type": "code",
      "execution_count": 6,
      "metadata": {
        "colab": {
          "base_uri": "https://localhost:8080/"
        },
        "id": "bw_4u0kw9F6K",
        "outputId": "354e1acb-614e-47a2-db48-e5b27079d0db"
      },
      "outputs": [
        {
          "data": {
            "text/plain": [
              "Array([[-1.6334486 ,  1.5174317 ,  4.24649   , -4.8381543 ,  0.64197326,\n",
              "         0.39844236,  2.4244406 , -1.2824332 ,  0.61709064,  0.6190466 ,\n",
              "         1.3917288 ,  1.1016402 , -1.6254115 ,  0.84490776,  0.8627061 ,\n",
              "        -1.8524674 ,  1.378993  , -2.183561  , -1.0380331 , -0.7735235 ,\n",
              "         6.423514  ,  0.7586694 , -1.2398438 , -0.3079772 ,  0.21602353,\n",
              "        -0.6321861 , -0.09919483, -1.3860799 , -1.7547234 , -1.8337234 ,\n",
              "        -0.86124027,  0.9649672 ,  1.5633817 ,  2.1552198 , -1.3592112 ,\n",
              "        -1.1377506 ,  1.640167  ,  2.3048286 , -2.553866  , -3.0846903 ,\n",
              "         7.861281  ,  2.7072375 , -0.50437045, -1.029171  ,  2.6327825 ,\n",
              "         1.4847413 , -0.71307284, -1.7468956 ,  2.2234023 ,  1.9118462 ,\n",
              "        -1.9870437 , -1.1224518 ,  0.03529875,  0.36310923, -1.4472983 ,\n",
              "         0.41029164,  0.9988213 , -0.09633697,  0.9191452 , -3.1026917 ,\n",
              "         0.49486703,  0.785038  , -0.22163996, -3.4021223 , -1.4490677 ,\n",
              "        -0.50902945,  1.3431433 , -0.8682272 ,  1.9125338 , -2.3823152 ,\n",
              "         2.7576976 ,  0.24713762,  0.3857236 ,  0.22915752,  0.42111614,\n",
              "         1.6717799 , -1.9102207 , -2.2022703 ,  1.0823581 , -0.05140373,\n",
              "         1.7845526 ,  2.22265   ,  0.10809179, -1.801263  ,  0.36522153,\n",
              "         1.8090432 ,  0.17276877,  0.10668145, -2.1321852 , -0.30278245,\n",
              "        -0.05617664,  1.7080227 ,  0.18564215,  5.913018  ,  1.5736713 ,\n",
              "        13.563836  , -2.4944868 ,  3.1647668 , -2.4242132 , -1.4763749 ,\n",
              "        -0.56842357, -0.43943748,  2.7317731 ,  0.16019513, -0.7842672 ,\n",
              "        -1.3907789 , -1.0308871 ,  1.0093303 ,  1.0830983 ,  0.7699464 ,\n",
              "         1.0657783 , -2.3154843 ,  1.7512023 , -1.9862357 , -1.616438  ,\n",
              "        -0.75063723,  0.8717972 ,  2.131937  ,  1.0082202 ,  1.062505  ,\n",
              "         0.6232378 , -0.56809074, -2.1922574 ,  0.94491506, -1.055978  ,\n",
              "         0.68482476,  0.961041  , -2.2441568 ,  1.1329873 ,  0.7772562 ,\n",
              "         0.40007117,  0.41340324, -0.12126197,  0.60782737,  1.8542302 ,\n",
              "        -1.0445437 , -0.3700999 ,  0.3106515 , -0.40656415, -1.384188  ,\n",
              "        -1.1821096 , -1.037864  , -0.818411  , -2.692245  ,  0.6137839 ,\n",
              "         1.8955481 , -1.9742218 , -0.9974842 , -0.48349676,  1.0368679 ,\n",
              "         1.7684188 ,  1.1128467 ,  0.15335132,  0.8018599 , -0.06486619,\n",
              "         2.2418396 ,  0.8796513 ,  0.69941765,  0.7140469 , -1.44496   ,\n",
              "         1.0775949 , -0.33749938, -1.9621152 , -0.5723532 , -2.7104495 ,\n",
              "         2.3456247 , -3.0670998 , -1.5704004 ,  0.80386823, -1.9162542 ,\n",
              "         0.49001557,  1.0652575 , -0.54898447,  0.46575546,  3.2017877 ,\n",
              "        -2.0288296 , -0.35482812,  1.1319435 , -0.5600692 ,  0.19785026,\n",
              "         2.4342773 ,  0.0398329 ,  2.384901  ,  0.3694786 , -0.6764997 ,\n",
              "         1.378811  , -0.8158604 ,  0.519063  , -2.3797886 ,  0.04350826,\n",
              "        -0.22207476,  1.1640971 ,  0.9513145 ,  1.0265208 , -0.9994088 ,\n",
              "        -0.32586622,  0.63955015,  0.97930855, -1.208098  ,  1.1329074 ]],      dtype=float32)"
            ]
          },
          "execution_count": 6,
          "metadata": {},
          "output_type": "execute_result"
        }
      ],
      "source": [
        "actual_data = alpha_stable(true_theta[0], true_theta[1], true_theta[2], true_theta[3], 200, 1)\n",
        "actual_data"
      ]
    },
    {
      "cell_type": "code",
      "execution_count": 7,
      "metadata": {
        "id": "kwRIRLPr9F6M"
      },
      "outputs": [],
      "source": [
        "# CALCULATE SUMMARY STATS\n",
        "@jit\n",
        "def alpha_stable_ss(data):\n",
        "  # Compute quantile statistics\n",
        "  v_stability = (jnp.percentile(data, 95) - jnp.percentile(data, 5)) / (jnp.percentile(data, 75) - jnp.percentile(data, 25))\n",
        "  v_skewness = (jnp.percentile(data, 95) + jnp.percentile(data, 5) - 2 * jnp.percentile(data, 50)) / (jnp.percentile(data, 95) - jnp.percentile(data, 5))\n",
        "  v_scale = (jnp.percentile(data, 75) - jnp.percentile(data, 25)) / 1\n",
        "  v_loc = jnp.mean(data)\n",
        "\n",
        "  # Define interpolation matrices (see [1])\n",
        "  tv_stability = jnp.array([2.439, 2.5, 2.6, 2.7, 2.8, 3.0, 3.2, 3.5, 4.0, 5.0, 6.0, 8.0, 10.0, 15.0, 25.0])\n",
        "  tv_skewness = jnp.array([0.0, 0.1, 0.2, 0.3, 0.5, 0.7, 1.0])\n",
        "  t_stability = jnp.array([2.0, 1.9, 1.8, 1.7, 1.6, 1.5, 1.4, 1.3, 1.2, 1.1, 1.0, 0.9, 0.8, 0.7, 0.6, 0.5])\n",
        "  t_skewness = jnp.array([0.0, 0.25, 0.5, 0.75, 1.0])\n",
        "\n",
        "  psi1 = jnp.array([[2.000, 2.000, 2.000, 2.000, 2.000, 2.000, 2.000],\n",
        "    [1.916, 1.924, 1.924, 1.924, 1.924, 1.924, 1.924],\n",
        "    [1.808, 1.813, 1.829, 1.829, 1.829, 1.829, 1.829],\n",
        "    [1.729, 1.730, 1.737, 1.745, 1.745, 1.745, 1.745],\n",
        "    [1.664, 1.663, 1.663, 1.668, 1.676, 1.676, 1.676],\n",
        "    [1.563, 1.560, 1.553, 1.548, 1.547, 1.547, 1.547],\n",
        "    [1.484, 1.480, 1.471, 1.460, 1.448, 1.438, 1.438],\n",
        "    [1.391, 1.386, 1.378, 1.364, 1.337, 1.318, 1.318],\n",
        "    [1.279, 1.273, 1.266, 1.250, 1.210, 1.184, 1.150],\n",
        "    [1.128, 1.121, 1.114, 1.101, 1.067, 1.027, 0.973],\n",
        "    [1.029, 1.021, 1.014, 1.004, 0.974, 0.935, 0.874],\n",
        "    [0.896, 0.892, 0.887, 0.883, 0.855, 0.823, 0.769],\n",
        "    [0.818, 0.812, 0.806, 0.801, 0.780, 0.756, 0.691],\n",
        "    [0.698, 0.695, 0.692, 0.689, 0.676, 0.656, 0.595],\n",
        "    [0.593, 0.590, 0.588, 0.586, 0.579, 0.563, 0.513]])\n",
        "\n",
        "  psi2 = jnp.array([[0.000, 2.160, 1.000, 1.000, 1.000, 1.000, 1.000],\n",
        "    [0.000, 1.592, 3.390, 1.000, 1.000, 1.000, 1.000],\n",
        "    [0.000, 0.759, 1.800, 1.000, 1.000, 1.000, 1.000],\n",
        "    [0.000, 0.482, 1.048, 1.694, 1.000, 1.000, 1.000],\n",
        "    [0.000, 0.360, 0.760, 1.232, 2.229, 1.000, 1.000],\n",
        "    [0.000, 0.253, 0.518, 0.823, 1.575, 1.000, 1.000],\n",
        "    [0.000, 0.203, 0.410, 0.632, 1.244, 1.906, 1.000],\n",
        "    [0.000, 0.165, 0.332, 0.499, 0.943, 1.560, 1.000],\n",
        "    [0.000, 0.136, 0.271, 0.404, 0.689, 1.230, 2.195],\n",
        "    [0.000, 0.109, 0.216, 0.323, 0.539, 0.827, 1.917],\n",
        "    [0.000, 0.096, 0.190, 0.284, 0.472, 0.693, 1.759],\n",
        "    [0.000, 0.082, 0.163, 0.243, 0.412, 0.601, 1.596],\n",
        "    [0.000, 0.074, 0.147, 0.220, 0.377, 0.546, 1.482],\n",
        "    [0.000, 0.064, 0.128, 0.191, 0.330, 0.478, 1.362],\n",
        "    [0.000, 0.056, 0.112, 0.167, 0.285, 0.428, 1.274]])\n",
        "\n",
        "  psi3 = jnp.array([[1.908, 1.908, 1.908, 1.908, 1.908],\n",
        "    [1.914, 1.915, 1.916, 1.918, 1.921],\n",
        "    [1.921, 1.922, 1.927, 1.936, 1.947],\n",
        "    [1.927, 1.930, 1.943, 1.961, 1.987],\n",
        "    [1.933, 1.940, 1.962, 1.997, 2.043],\n",
        "    [1.939, 1.952, 1.988, 2.045, 2.116],\n",
        "    [1.946, 1.967, 2.022, 2.106, 2.211],\n",
        "    [1.955, 1.984, 2.067, 2.188, 2.333],\n",
        "    [1.965, 2.007, 2.125, 2.294, 2.491],\n",
        "    [1.980, 2.040, 2.205, 2.435, 2.696],\n",
        "    [2.000, 2.085, 2.311, 2.624, 2.973],\n",
        "    [2.040, 2.149, 2.461, 2.886, 3.356],\n",
        "    [2.098, 2.244, 2.676, 3.265, 3.912],\n",
        "    [2.189, 2.392, 3.004, 3.844, 4.775],\n",
        "    [2.337, 2.635, 3.542, 4.808, 6.247],\n",
        "    [2.588, 3.073, 4.534, 6.636, 9.144]])\n",
        "\n",
        "\n",
        "  psi4 = jnp.array([[0.0,    0.0,    0.0,    0.0,  0.0],\n",
        "    [0.0, -0.017, -0.032, -0.049, -0.064],\n",
        "    [0.0, -0.030, -0.061, -0.092, -0.123],\n",
        "    [0.0, -0.043, -0.088, -0.132, -0.179],\n",
        "    [0.0, -0.056, -0.111, -0.170, -0.232],\n",
        "    [0.0, -0.066, -0.134, -0.206, -0.283],\n",
        "    [0.0, -0.075, -0.154, -0.241, -0.335],\n",
        "    [0.0, -0.084, -0.173, -0.276, -0.390],\n",
        "    [0.0, -0.090, -0.192, -0.310, -0.447],\n",
        "    [0.0, -0.095, -0.208, -0.346, -0.508],\n",
        "    [0.0, -0.098, -0.223, -0.383, -0.576],\n",
        "    [0.0, -0.099, -0.237, -0.424, -0.652],\n",
        "    [0.0, -0.096, -0.250, -0.469, -0.742],\n",
        "    [0.0, -0.089, -0.262, -0.520, -0.853],\n",
        "    [0.0, -0.078, -0.272, -0.581, -0.997],\n",
        "    [0.0, -0.061, -0.279, -0.659, -1.198]])\n",
        "\n",
        "  tv_stability_i1 = jnp.max(jnp.append(0, jnp.argwhere(tv_stability <= v_stability, size=len(tv_stability), fill_value=0)))\n",
        "  tv_stability_i2 = jnp.min(jnp.append(14, jnp.argwhere(tv_stability >= v_stability, size=len(tv_stability), fill_value=14)))\n",
        "  tv_skewness_i1 = jnp.max(jnp.append(0, jnp.argwhere(tv_skewness <= jnp.abs(v_skewness), size=len(tv_skewness), fill_value=0)))\n",
        "  tv_skewness_i2 = jnp.min(jnp.append(6, jnp.argwhere(tv_skewness >= jnp.abs(v_skewness), size=len(tv_skewness), fill_value=6)))\n",
        "\n",
        "  dist_stability_tv = tv_stability[tv_stability_i2] - tv_stability[tv_stability_i1]\n",
        "\n",
        "  dist_stability = jnp.where(dist_stability_tv != 0, (v_stability - tv_stability[tv_stability_i1]) / dist_stability_tv, dist_stability_tv)\n",
        "\n",
        "  dist_skewness_tv = tv_skewness[tv_skewness_i2] - tv_skewness[tv_skewness_i1]\n",
        "\n",
        "  dist_skewness = jnp.where(dist_skewness_tv != 0, (jnp.abs(v_skewness) - tv_skewness[tv_skewness_i1]) / dist_skewness_tv, dist_skewness_tv)\n",
        "\n",
        "  psi1b1 = dist_stability*psi1[tv_stability_i2,tv_skewness_i1]+(1-dist_stability)*psi1[tv_stability_i1,tv_skewness_i1]\n",
        "  psi1b2 = dist_stability*psi1[tv_stability_i2,tv_skewness_i2]+(1-dist_stability)*psi1[tv_stability_i1,tv_skewness_i2]\n",
        "  alpha = dist_skewness*psi1b2+(1-dist_skewness)*psi1b1\n",
        "  psi2b1 = dist_stability*psi2[tv_stability_i2,tv_skewness_i1]+(1-dist_stability)*psi2[tv_stability_i1,tv_skewness_i1]\n",
        "  psi2b2 = dist_stability*psi2[tv_stability_i2,tv_skewness_i2]+(1-dist_stability)*psi2[tv_stability_i1,tv_skewness_i2]\n",
        "  beta = jnp.sign(v_skewness)*(dist_skewness*psi2b2+(1-dist_skewness)*psi2b1)\n",
        "  t_stability_i1 = jnp.max(jnp.append(0, jnp.argwhere(t_stability >= alpha, size=len(t_stability), fill_value=0)))\n",
        "  t_stability_i2 = jnp.min(jnp.append(15, jnp.argwhere(t_stability <= alpha, size=len(t_stability), fill_value=15)))\n",
        "  t_skewness_i1 = jnp.max(jnp.append(0, jnp.argwhere(t_skewness <= jnp.abs(beta),size=len(t_skewness), fill_value=0)))\n",
        "  t_skewness_i2 = jnp.min(jnp.append(4, jnp.argwhere(t_skewness >= jnp.abs(beta),size=len(t_skewness), fill_value=4)))\n",
        "\n",
        "  dist_stability_t = t_stability[t_stability_i2] - t_stability[t_stability_i1]\n",
        "\n",
        "  dist_stability = jnp.where(dist_stability_t != 0, (alpha - t_stability[t_stability_i1]) / dist_stability_t, dist_stability_t)\n",
        "\n",
        "  dist_skewness_t = t_skewness[t_skewness_i2] - t_skewness[t_skewness_i1]\n",
        "\n",
        "  dist_skewness = jnp.where(dist_skewness_t != 0, (jnp.abs(beta) - t_skewness[t_skewness_i1]) / dist_skewness_t, dist_skewness_t)\n",
        "\n",
        "  psi3b1 = dist_stability*psi3[t_stability_i2,t_skewness_i1]+(1-dist_stability)*psi3[t_stability_i1,t_skewness_i1]\n",
        "  psi3b2 = dist_stability*psi3[t_stability_i2,t_skewness_i2]+(1-dist_stability)*psi3[t_stability_i1,t_skewness_i2]\n",
        "  sigma = v_scale/(dist_skewness*psi3b2+(1-dist_skewness)*psi3b1)\n",
        "  psi4b1 = dist_stability*psi4[t_stability_i2,t_skewness_i1]+(1-dist_stability)*psi4[t_stability_i1,t_skewness_i1]\n",
        "  psi4b2 = dist_stability*psi4[t_stability_i2,t_skewness_i2]+(1-dist_stability)*psi4[t_stability_i1,t_skewness_i2]\n",
        "  zeta = jnp.sign(beta)*sigma*(dist_skewness*psi4b2+(1-dist_skewness)*psi4b1) + jnp.percentile(data, 50)\n",
        "\n",
        "  mu = jnp.where(jnp.abs(alpha-1) < 0.05, zeta, zeta - beta * sigma * jnp.tan(0.5 * jnp.pi *alpha))\n",
        "\n",
        "  return jnp.array([alpha, beta, sigma, mu]) #stability, skewness, scale, loc"
      ]
    },
    {
      "cell_type": "code",
      "execution_count": 8,
      "metadata": {
        "colab": {
          "base_uri": "https://localhost:8080/"
        },
        "id": "ID5I2Ipd9F6O",
        "outputId": "a74d4bb1-451c-4c4b-94f2-3e3829f7cd36"
      },
      "outputs": [
        {
          "data": {
            "text/plain": [
              "Array([ 2.        , -0.69597113,  1.103275  ,  0.20693697], dtype=float32)"
            ]
          },
          "execution_count": 8,
          "metadata": {},
          "output_type": "execute_result"
        }
      ],
      "source": [
        "actual_summary_statistics = alpha_stable_ss(actual_data)\n",
        "actual_summary_statistics"
      ]
    },
    {
      "cell_type": "code",
      "execution_count": 9,
      "metadata": {
        "id": "Cavr09_p9F6P"
      },
      "outputs": [],
      "source": [
        "num_coeffs = np.shape(actual_summary_statistics)[0]\n",
        "n_samples = 200\n",
        "num_datasets = 200\n",
        "lambda_dim = num_coeffs + int((num_coeffs * (num_coeffs + 1)) / 2)"
      ]
    },
    {
      "cell_type": "code",
      "execution_count": 10,
      "metadata": {
        "id": "Yw-uFoi29F6Q"
      },
      "outputs": [],
      "source": [
        "def summary_statistics(theta, n_samples, n_datasets):\n",
        "    datasets = alpha_stable(theta[0], theta[1], theta[2], theta[3], n_samples, n_datasets)\n",
        "    n_summary_statistics = jnp.array([alpha_stable_ss(datasets[i,:]) for i in range(n_datasets)])\n",
        "    sample_mean = jnp.mean(n_summary_statistics, axis = 0)\n",
        "    sample_variance = jnp.cov(n_summary_statistics.T)\n",
        "    return sample_mean, sample_variance"
      ]
    },
    {
      "cell_type": "code",
      "execution_count": 11,
      "metadata": {
        "id": "xQxmVYcf9F6R"
      },
      "outputs": [],
      "source": [
        "def my_inv(x):\n",
        "    return jnp.linalg.inv(x + (jnp.eye(x.shape[0]) * 1e-7))"
      ]
    },
    {
      "cell_type": "code",
      "execution_count": 12,
      "metadata": {
        "id": "9lga6Wy49F6S"
      },
      "outputs": [],
      "source": [
        "@jit\n",
        "def prior(theta):\n",
        "    log_prior = multivariate_normal.logpdf(theta, mean = jnp.array([0] * num_coeffs), cov= 10 * jnp.identity(num_coeffs))\n",
        "    return log_prior"
      ]
    },
    {
      "cell_type": "code",
      "execution_count": 13,
      "metadata": {
        "id": "CPPUSKXC9F6T"
      },
      "outputs": [],
      "source": [
        "def unbiased_log_likelihood(theta, n_samples, num_datasets):\n",
        "    ss = summary_statistics(theta, n_samples, num_datasets)\n",
        "    sample_mean = ss[0]\n",
        "    sample_variance = ss[1]\n",
        "    u_est_log_likelihood = multivariate_normal.logpdf(actual_summary_statistics, mean = sample_mean, cov= sample_variance)\n",
        "    # diff_mean_s = actual_summary_statistics - sample_mean\n",
        "    # part1 = diff_mean_s.T @ my_inv(sample_variance) @ diff_mean_s\n",
        "    # u_est_log_likelihood = -1/2 * jnp.linalg.slogdet(sample_variance)[1] -1/2 * part1\n",
        "    return u_est_log_likelihood"
      ]
    },
    {
      "cell_type": "code",
      "execution_count": 14,
      "metadata": {
        "id": "mEjPgwIQ9F6U"
      },
      "outputs": [],
      "source": [
        "@jit\n",
        "def fun_log_q(theta, mu, l):\n",
        "    log_q = multivariate_normal.logpdf(theta, mean = mu, cov= my_inv(l @ l.T))\n",
        "    return log_q"
      ]
    },
    {
      "cell_type": "code",
      "execution_count": 15,
      "metadata": {
        "id": "OnmYCNeF9F6U"
      },
      "outputs": [],
      "source": [
        "@partial(jit, static_argnames=['num_coeffs'])\n",
        "def gradient_log_q(theta, mu, l, num_coeffs): #indep theta\n",
        "    gradient_log_q_mu = l @ l.T @ (theta - mu)\n",
        "    # gradient_log_q_l = (np.diag(np.linalg.inv(l)) - np.matmul(((np.reshape(theta - mu, (num_coeffs,1))) * theta - mu), l)).T[np.triu_indices(num_coeffs)] #use * because matmul gives scalar\n",
        "    diag_inv_l = jnp.zeros_like(l, shape=(num_coeffs,num_coeffs)).at[jnp.diag_indices_from(l)].set(jnp.diag(l))\n",
        "    gradient_log_q_l = (diag_inv_l - jnp.reshape(theta - mu, (num_coeffs,1)) @ jnp.reshape(theta - mu, (1,num_coeffs)) @ l).T[jnp.triu_indices(num_coeffs)] #use * because matmul gives scalar\n",
        "    return gradient_log_q_mu, gradient_log_q_l"
      ]
    },
    {
      "cell_type": "code",
      "execution_count": 16,
      "metadata": {
        "id": "maW4gpkT9F6V"
      },
      "outputs": [],
      "source": [
        "@jit\n",
        "def control_variates(Flat_grad_log_q, Flat_grad_lb):\n",
        "    c = []\n",
        "    stacked_gradient_lb = jnp.stack(Flat_grad_lb)\n",
        "    stacked_gradient_log_q = jnp.stack(Flat_grad_log_q)\n",
        "    for i in range(lambda_dim):\n",
        "        sample_cov = jnp.cov(stacked_gradient_lb[:, i], stacked_gradient_log_q[:, i])\n",
        "        c_i = sample_cov[0, 1] / sample_cov[1, 1]\n",
        "        c.append(c_i)\n",
        "    c_mu = jnp.array(c[0:num_coeffs])\n",
        "    c_vech_l = jnp.array(c[num_coeffs:])\n",
        "    return c_mu, c_vech_l"
      ]
    },
    {
      "cell_type": "code",
      "execution_count": 17,
      "metadata": {
        "id": "LQvq92-19F6V"
      },
      "outputs": [],
      "source": [
        "class GVB:\n",
        "    def __init__(self, samples, actual_summary_statistics, learning_rate, threshold, l_threshold, adaptive_lr_1, adaptive_lr_2, t_w, Patience):\n",
        "        self.samples = samples\n",
        "        self.actual_summary_statistics = actual_summary_statistics\n",
        "        self.num_coeffs = np.shape(actual_summary_statistics)[0] # number of coeffs\n",
        "        self.learning_rate = learning_rate\n",
        "        self.threshold = threshold\n",
        "        self.l_threshold = l_threshold\n",
        "        self.adaptive_lr_1 = adaptive_lr_1\n",
        "        self.adaptive_lr_2 = adaptive_lr_2\n",
        "        self.t_w = t_w\n",
        "        self.Patience = Patience\n",
        "\n",
        "    def fun_gradient_lb(self, theta_tilde_q, mu_q, l_q, c_mu, c_l):\n",
        "        # Calculate theta from mu, l (lambda)\n",
        "        alpha_q = (2 * jnp.exp(theta_tilde_q[0]) + 1.1) / (1 + jnp.exp(theta_tilde_q[0]))\n",
        "        beta_q = (jnp.exp(theta_tilde_q[1]) - 1) / (jnp.exp(theta_tilde_q[1]) + 1)\n",
        "        gamma_q = jnp.exp(theta_tilde_q[2])\n",
        "        delta_q = theta_tilde_q[3]\n",
        "        theta_q = jnp.array([alpha_q, beta_q, gamma_q, delta_q])\n",
        "\n",
        "        # Find gradient of LB\n",
        "        llh = unbiased_log_likelihood(theta_q, n_samples, num_datasets)\n",
        "        h_lambda = prior(theta_tilde_q) + llh - fun_log_q(theta_tilde_q, mu_q, l_q)\n",
        "\n",
        "        # Find gradient of LB\n",
        "        grad_log_q_mu, grad_log_q_l = gradient_log_q(theta_tilde_q, mu_q, l_q, num_coeffs)\n",
        "        gradient_lb_mu = grad_log_q_mu * (h_lambda - c_mu)\n",
        "        gradient_lb_l = grad_log_q_l * (h_lambda - c_l)\n",
        "        # Calculate control variates\n",
        "        flattened_gradient_log_q = jnp.concatenate((grad_log_q_mu, grad_log_q_l), axis = None)\n",
        "        flattened_gradient_lb = jnp.concatenate((gradient_lb_mu, gradient_lb_l), axis = None)\n",
        "\n",
        "        return gradient_lb_mu, gradient_lb_l, h_lambda, flattened_gradient_log_q, flattened_gradient_lb\n",
        "\n",
        "    def vb_posterior(self, stop):\n",
        "        # Initialize mu_0, L_0\n",
        "        # mu_0 = np.array([np.log((self.actual_summary_statistics[0]-1.1)/(2-self.actual_summary_statistics[0])), np.log((1+self.actual_summary_statistics[1])/(1-self.actual_summary_statistics[1])), np.log(self.actual_summary_statistics[2]), self.actual_summary_statistics[3]])\n",
        "        #mu_0 = np.array([1.5, 0.5, 3, 0])\n",
        "        mu_0 = jnp.array([jnp.log((1.8-1.1)/(2-1.8)),jnp.log((0.5+1)/(1-0.5)),jnp.log(1),0])\n",
        "        #mu_0 = np.array([self.actual_summary_statistics[0], self.actual_summary_statistics[1], self.actual_summary_statistics[2], self.actual_summary_statistics[3]])\n",
        "        # mu_0 = np.array([0] * self.num_coeffs)\n",
        "        l_0 = jnp.tril(jnp.identity(self.num_coeffs) * 10)\n",
        "        Sigma_0_inv = l_0 @ l_0.T\n",
        "        Sigma_0 = my_inv(Sigma_0_inv)\n",
        "        ### Change ways to get vech(l0)\n",
        "        vech_l0 = l_0.T[jnp.triu_indices(self.num_coeffs)]\n",
        "\n",
        "        # Initilize best lambda\n",
        "        lambda_best_mu = mu_0\n",
        "        lambda_best_l = vech_l0\n",
        "        # List of calculations of LB\n",
        "        LB_all = []\n",
        "        LB_Smoothed = []\n",
        "        patience = 0\n",
        "        # List of flattened gradients\n",
        "        Flattened_gradient_lb = []\n",
        "        Flattened_gradient_log_q = []\n",
        "\n",
        "        func_auto = vmap(self.fun_gradient_lb, in_axes=[0, None, None, None, None])\n",
        "\n",
        "        for t in tqdm(range(stop)):\n",
        "            if t == 0:\n",
        "                # Draw samples of theta from  variational q\n",
        "                # List of gradients\n",
        "                theta_0_samples = random.multivariate_normal(subkeys[t], mean = mu_0, cov = Sigma_0, shape = (self.samples,))\n",
        "                gradient_lb_mu_0, gradient_lb_l_0, lb_0, Flattened_gradient_log_q, Flattened_gradient_lb = func_auto(theta_0_samples, mu_0, l_0, 0, 0)\n",
        "                # Calculate control variates using all samples\n",
        "                c_mu, c_vech_l = control_variates(Flattened_gradient_log_q, Flattened_gradient_lb)\n",
        "                # Update lambda_q\n",
        "                self.g_mu_init = jnp.mean(gradient_lb_mu_0, axis = 0)\n",
        "                self.g_vech_l_init = jnp.mean(gradient_lb_l_0, axis = 0)\n",
        "                # Gradient clipping\n",
        "                if jnp.linalg.norm(jnp.concatenate((self.g_mu_init, self.g_vech_l_init), axis = None)) > self.l_threshold:\n",
        "                    self.g_mu_init = self.l_threshold * self.g_mu_init / jnp.linalg.norm(jnp.concatenate((self.g_mu_init, self.g_vech_l_init), axis = None))\n",
        "                    self.g_vech_l_init = self.l_threshold * self.g_vech_l_init / jnp.linalg.norm(jnp.concatenate((self.g_mu_init, self.g_vech_l_init), axis = None))\n",
        "                self.v_mu_init = self.g_mu_init ** 2\n",
        "                self.v_vech_l_init = self.g_vech_l_init ** 2\n",
        "                # Calculate lower bound\n",
        "                LB_all.append(jnp.mean(lb_0))\n",
        "                print('LB', (jnp.mean(lb_0)))\n",
        "                lambda_q_mu = mu_0\n",
        "                lambda_q_l = vech_l0\n",
        "\n",
        "            if t > 0:\n",
        "                # From lambda_q find mu_q and L_q\n",
        "                mu_q = lambda_q_mu\n",
        "\n",
        "                ### Change ways to convert from vech_l0 to l0\n",
        "                vech_lq = list(lambda_q_l)\n",
        "                l_q = jnp.zeros((self.num_coeffs, self.num_coeffs))\n",
        "                # l_q[:, 0] = lambda_q[1][0:self.num_coeffs]\n",
        "                # l_q[1:self.num_coeffs, 1] = lambda_q[1][4:7]\n",
        "                # l_q[2:self.num_coeffs, 2] = lambda_q[1][7:9]\n",
        "                # l_q[3:self.num_coeffs, 3] = lambda_q[1][9:10]\n",
        "                for i in range(self.num_coeffs):\n",
        "                    l_q = l_q.at[i:self.num_coeffs,i].set(vech_lq[:self.num_coeffs - i])\n",
        "                    del vech_lq[:self.num_coeffs-i]\n",
        "\n",
        "                Sigma_q_inv = l_q @ l_q.T\n",
        "                Sigma_q =  my_inv(Sigma_q_inv)\n",
        "                l_q_inv =  my_inv(l_q)\n",
        "                # List of gradients\n",
        "                Gradient_lb = []\n",
        "                lb_t = []\n",
        "                theta_q_samples = random.multivariate_normal(subkeys[t], mean = mu_q, cov = Sigma_q, shape = (self.samples,))\n",
        "                gradient_lb_mu, gradient_lb_l, lb_t, Flattened_gradient_log_q, Flattened_gradient_lb = func_auto(theta_q_samples, mu_q, l_q, c_mu, c_vech_l)\n",
        "\n",
        "                # Update control variates\n",
        "                c_mu, c_vech_l = control_variates(Flattened_gradient_log_q, Flattened_gradient_lb)\n",
        "                # Update lambda_q\n",
        "                g_mu_t = jnp.mean(gradient_lb_mu, axis = 0)\n",
        "                g_vech_l_t = jnp.mean(gradient_lb_l, axis = 0)\n",
        "                # Gradient clipping\n",
        "                if jnp.linalg.norm(jnp.concatenate((g_mu_t, g_vech_l_t), axis = None)) > self.l_threshold:\n",
        "                    g_mu_t = self.l_threshold * g_mu_t / jnp.linalg.norm(jnp.concatenate((g_mu_t, g_vech_l_t), axis = None))\n",
        "                    g_vech_l_t = self.l_threshold * g_vech_l_t / jnp.linalg.norm(jnp.concatenate((g_mu_t, g_vech_l_t), axis = None))\n",
        "                v_mu_t = g_mu_t ** 2\n",
        "                v_vech_l_t = g_vech_l_t ** 2\n",
        "                #---- Update lambda\n",
        "                self.g_mu_init = self.adaptive_lr_1 * self.g_mu_init + (1 - self.adaptive_lr_1) * g_mu_t\n",
        "                self.g_vech_l_init = self.adaptive_lr_1 * self.g_vech_l_init + (1 - self.adaptive_lr_1) * g_vech_l_t\n",
        "\n",
        "                self.v_mu_init = self.adaptive_lr_2 * self.v_mu_init + (1 - self.adaptive_lr_2) * v_mu_t\n",
        "                self.v_vech_l_init = self.adaptive_lr_2 * self.v_vech_l_init + (1 - self.adaptive_lr_2) * v_vech_l_t\n",
        "\n",
        "                if t >= self.threshold:\n",
        "                    update_t = self.learning_rate * self.threshold / t\n",
        "                else:\n",
        "                    update_t = self.learning_rate\n",
        "\n",
        "                lambda_q_mu = lambda_q_mu + update_t * self.g_mu_init / (self.v_mu_init ** 0.5)\n",
        "                lambda_q_l = lambda_q_l + update_t * self.g_vech_l_init / (self.v_vech_l_init ** 0.5)\n",
        "                # Calculate lower bound\n",
        "                LB_all.append(jnp.mean(lb_t))\n",
        "\n",
        "                if t < self.t_w:\n",
        "                    print('LB', jnp.mean(lb_t))\n",
        "\n",
        "                if t >= self.t_w:\n",
        "                    LB_smoothed = jnp.mean(jnp.array(LB_all[t - self.t_w + 1 : t]))\n",
        "                    print('LB Smoothed', LB_smoothed)\n",
        "                    LB_Smoothed.append(LB_smoothed)\n",
        "                    if LB_smoothed >= jnp.max(jnp.array(LB_Smoothed)):\n",
        "                        patience = 0\n",
        "                        lambda_best_mu = lambda_q_mu\n",
        "                        lambda_best_l = lambda_q_l\n",
        "                    else:\n",
        "                        patience += 1\n",
        "                        if patience > self.Patience:\n",
        "                            print(\"Stop at\", t)\n",
        "                            break\n",
        "\n",
        "        return LB_all, LB_Smoothed, lambda_best_mu, lambda_best_l"
      ]
    },
    {
      "cell_type": "code",
      "execution_count": 18,
      "metadata": {
        "id": "7-YToTC49F6W"
      },
      "outputs": [],
      "source": [
        "# Set hyperparameters\n",
        "stop = 4000"
      ]
    },
    {
      "cell_type": "code",
      "execution_count": 19,
      "metadata": {
        "colab": {
          "base_uri": "https://localhost:8080/"
        },
        "id": "tI792pe09F6X",
        "outputId": "234b0699-06bd-4c5d-9c32-5ec18c53ec2c"
      },
      "outputs": [
        {
          "name": "stderr",
          "output_type": "stream",
          "text": [
            "  0%|          | 1/4000 [00:05<5:47:04,  5.21s/it]"
          ]
        },
        {
          "name": "stdout",
          "output_type": "stream",
          "text": [
            "LB -15.76251\n"
          ]
        },
        {
          "name": "stderr",
          "output_type": "stream",
          "text": [
            "  0%|          | 2/4000 [00:06<3:29:10,  3.14s/it]"
          ]
        },
        {
          "name": "stdout",
          "output_type": "stream",
          "text": [
            "LB -15.891048\n"
          ]
        },
        {
          "name": "stderr",
          "output_type": "stream",
          "text": [
            "  0%|          | 3/4000 [00:08<2:35:22,  2.33s/it]"
          ]
        },
        {
          "name": "stdout",
          "output_type": "stream",
          "text": [
            "LB -15.843552\n"
          ]
        },
        {
          "name": "stderr",
          "output_type": "stream",
          "text": [
            "  0%|          | 4/4000 [00:09<2:09:32,  1.95s/it]"
          ]
        },
        {
          "name": "stdout",
          "output_type": "stream",
          "text": [
            "LB -15.85568\n"
          ]
        },
        {
          "name": "stderr",
          "output_type": "stream",
          "text": [
            "  0%|          | 5/4000 [00:10<1:54:55,  1.73s/it]"
          ]
        },
        {
          "name": "stdout",
          "output_type": "stream",
          "text": [
            "LB -15.578082\n"
          ]
        },
        {
          "name": "stderr",
          "output_type": "stream",
          "text": [
            "  0%|          | 6/4000 [00:12<1:50:21,  1.66s/it]"
          ]
        },
        {
          "name": "stdout",
          "output_type": "stream",
          "text": [
            "LB -15.401313\n"
          ]
        },
        {
          "name": "stderr",
          "output_type": "stream",
          "text": [
            "  0%|          | 7/4000 [00:13<1:42:59,  1.55s/it]"
          ]
        },
        {
          "name": "stdout",
          "output_type": "stream",
          "text": [
            "LB -15.184826\n"
          ]
        },
        {
          "name": "stderr",
          "output_type": "stream",
          "text": [
            "  0%|          | 8/4000 [00:15<1:37:40,  1.47s/it]"
          ]
        },
        {
          "name": "stdout",
          "output_type": "stream",
          "text": [
            "LB -15.307837\n"
          ]
        },
        {
          "name": "stderr",
          "output_type": "stream",
          "text": [
            "  0%|          | 9/4000 [00:16<1:34:31,  1.42s/it]"
          ]
        },
        {
          "name": "stdout",
          "output_type": "stream",
          "text": [
            "LB -15.099005\n"
          ]
        },
        {
          "name": "stderr",
          "output_type": "stream",
          "text": [
            "  0%|          | 10/4000 [00:17<1:32:48,  1.40s/it]"
          ]
        },
        {
          "name": "stdout",
          "output_type": "stream",
          "text": [
            "LB -15.138023\n"
          ]
        },
        {
          "name": "stderr",
          "output_type": "stream",
          "text": [
            "  0%|          | 11/4000 [00:19<1:32:02,  1.38s/it]"
          ]
        },
        {
          "name": "stdout",
          "output_type": "stream",
          "text": [
            "LB -14.790874\n"
          ]
        },
        {
          "name": "stderr",
          "output_type": "stream",
          "text": [
            "  0%|          | 12/4000 [00:20<1:31:19,  1.37s/it]"
          ]
        },
        {
          "name": "stdout",
          "output_type": "stream",
          "text": [
            "LB -15.06353\n"
          ]
        },
        {
          "name": "stderr",
          "output_type": "stream",
          "text": [
            "  0%|          | 13/4000 [00:21<1:33:23,  1.41s/it]"
          ]
        },
        {
          "name": "stdout",
          "output_type": "stream",
          "text": [
            "LB -14.891155\n"
          ]
        },
        {
          "name": "stderr",
          "output_type": "stream",
          "text": [
            "  0%|          | 14/4000 [00:23<1:36:06,  1.45s/it]"
          ]
        },
        {
          "name": "stdout",
          "output_type": "stream",
          "text": [
            "LB -14.683381\n"
          ]
        },
        {
          "name": "stderr",
          "output_type": "stream",
          "text": [
            "  0%|          | 15/4000 [00:24<1:36:01,  1.45s/it]"
          ]
        },
        {
          "name": "stdout",
          "output_type": "stream",
          "text": [
            "LB -14.705745\n"
          ]
        },
        {
          "name": "stderr",
          "output_type": "stream",
          "text": [
            "  0%|          | 16/4000 [00:26<1:33:14,  1.40s/it]"
          ]
        },
        {
          "name": "stdout",
          "output_type": "stream",
          "text": [
            "LB -15.024625\n"
          ]
        },
        {
          "name": "stderr",
          "output_type": "stream",
          "text": [
            "  0%|          | 17/4000 [00:27<1:32:05,  1.39s/it]"
          ]
        },
        {
          "name": "stdout",
          "output_type": "stream",
          "text": [
            "LB -14.633761\n"
          ]
        },
        {
          "name": "stderr",
          "output_type": "stream",
          "text": [
            "  0%|          | 18/4000 [00:28<1:31:03,  1.37s/it]"
          ]
        },
        {
          "name": "stdout",
          "output_type": "stream",
          "text": [
            "LB -14.570659\n"
          ]
        },
        {
          "name": "stderr",
          "output_type": "stream",
          "text": [
            "  0%|          | 19/4000 [00:30<1:35:50,  1.44s/it]"
          ]
        },
        {
          "name": "stdout",
          "output_type": "stream",
          "text": [
            "LB -14.329238\n"
          ]
        },
        {
          "name": "stderr",
          "output_type": "stream",
          "text": [
            "  0%|          | 20/4000 [00:32<1:36:55,  1.46s/it]"
          ]
        },
        {
          "name": "stdout",
          "output_type": "stream",
          "text": [
            "LB -14.680481\n"
          ]
        },
        {
          "name": "stderr",
          "output_type": "stream",
          "text": [
            "  1%|          | 21/4000 [00:33<1:37:33,  1.47s/it]"
          ]
        },
        {
          "name": "stdout",
          "output_type": "stream",
          "text": [
            "LB -14.415379\n"
          ]
        },
        {
          "name": "stderr",
          "output_type": "stream",
          "text": [
            "  1%|          | 22/4000 [00:35<1:43:09,  1.56s/it]"
          ]
        },
        {
          "name": "stdout",
          "output_type": "stream",
          "text": [
            "LB -14.750804\n"
          ]
        },
        {
          "name": "stderr",
          "output_type": "stream",
          "text": [
            "  1%|          | 23/4000 [00:37<1:47:16,  1.62s/it]"
          ]
        },
        {
          "name": "stdout",
          "output_type": "stream",
          "text": [
            "LB -14.569432\n"
          ]
        },
        {
          "name": "stderr",
          "output_type": "stream",
          "text": [
            "  1%|          | 24/4000 [00:38<1:50:32,  1.67s/it]"
          ]
        },
        {
          "name": "stdout",
          "output_type": "stream",
          "text": [
            "LB -14.378649\n"
          ]
        },
        {
          "name": "stderr",
          "output_type": "stream",
          "text": [
            "  1%|          | 25/4000 [00:40<1:50:16,  1.66s/it]"
          ]
        },
        {
          "name": "stdout",
          "output_type": "stream",
          "text": [
            "LB -14.607139\n"
          ]
        },
        {
          "name": "stderr",
          "output_type": "stream",
          "text": [
            "  1%|          | 26/4000 [00:41<1:43:36,  1.56s/it]"
          ]
        },
        {
          "name": "stdout",
          "output_type": "stream",
          "text": [
            "LB -14.395231\n"
          ]
        },
        {
          "name": "stderr",
          "output_type": "stream",
          "text": [
            "  1%|          | 27/4000 [00:43<1:37:32,  1.47s/it]"
          ]
        },
        {
          "name": "stdout",
          "output_type": "stream",
          "text": [
            "LB -14.470551\n"
          ]
        },
        {
          "name": "stderr",
          "output_type": "stream",
          "text": [
            "  1%|          | 28/4000 [00:44<1:35:30,  1.44s/it]"
          ]
        },
        {
          "name": "stdout",
          "output_type": "stream",
          "text": [
            "LB -14.527678\n"
          ]
        },
        {
          "name": "stderr",
          "output_type": "stream",
          "text": [
            "  1%|          | 29/4000 [00:45<1:31:47,  1.39s/it]"
          ]
        },
        {
          "name": "stdout",
          "output_type": "stream",
          "text": [
            "LB -14.283073\n"
          ]
        },
        {
          "name": "stderr",
          "output_type": "stream",
          "text": [
            "  1%|          | 30/4000 [00:47<1:30:32,  1.37s/it]"
          ]
        },
        {
          "name": "stdout",
          "output_type": "stream",
          "text": [
            "LB -14.402978\n"
          ]
        },
        {
          "name": "stderr",
          "output_type": "stream",
          "text": [
            "  1%|          | 31/4000 [00:48<1:29:17,  1.35s/it]"
          ]
        },
        {
          "name": "stdout",
          "output_type": "stream",
          "text": [
            "LB -14.192271\n"
          ]
        },
        {
          "name": "stderr",
          "output_type": "stream",
          "text": [
            "  1%|          | 32/4000 [00:49<1:30:49,  1.37s/it]"
          ]
        },
        {
          "name": "stdout",
          "output_type": "stream",
          "text": [
            "LB -14.332722\n"
          ]
        },
        {
          "name": "stderr",
          "output_type": "stream",
          "text": [
            "  1%|          | 33/4000 [00:51<1:32:53,  1.40s/it]"
          ]
        },
        {
          "name": "stdout",
          "output_type": "stream",
          "text": [
            "LB -14.091235\n"
          ]
        },
        {
          "name": "stderr",
          "output_type": "stream",
          "text": [
            "  1%|          | 34/4000 [00:52<1:31:32,  1.38s/it]"
          ]
        },
        {
          "name": "stdout",
          "output_type": "stream",
          "text": [
            "LB -14.091802\n"
          ]
        },
        {
          "name": "stderr",
          "output_type": "stream",
          "text": [
            "  1%|          | 35/4000 [00:54<1:33:18,  1.41s/it]"
          ]
        },
        {
          "name": "stdout",
          "output_type": "stream",
          "text": [
            "LB -14.197006\n"
          ]
        },
        {
          "name": "stderr",
          "output_type": "stream",
          "text": [
            "  1%|          | 36/4000 [00:55<1:35:52,  1.45s/it]"
          ]
        },
        {
          "name": "stdout",
          "output_type": "stream",
          "text": [
            "LB -13.987009\n"
          ]
        },
        {
          "name": "stderr",
          "output_type": "stream",
          "text": [
            "  1%|          | 37/4000 [00:57<1:34:58,  1.44s/it]"
          ]
        },
        {
          "name": "stdout",
          "output_type": "stream",
          "text": [
            "LB -14.129509\n"
          ]
        },
        {
          "name": "stderr",
          "output_type": "stream",
          "text": [
            "  1%|          | 38/4000 [00:58<1:36:27,  1.46s/it]"
          ]
        },
        {
          "name": "stdout",
          "output_type": "stream",
          "text": [
            "LB -13.914723\n"
          ]
        },
        {
          "name": "stderr",
          "output_type": "stream",
          "text": [
            "  1%|          | 39/4000 [00:59<1:33:33,  1.42s/it]"
          ]
        },
        {
          "name": "stdout",
          "output_type": "stream",
          "text": [
            "LB -13.982859\n"
          ]
        },
        {
          "name": "stderr",
          "output_type": "stream",
          "text": [
            "  1%|          | 40/4000 [01:01<1:34:56,  1.44s/it]"
          ]
        },
        {
          "name": "stdout",
          "output_type": "stream",
          "text": [
            "LB -13.71973\n"
          ]
        },
        {
          "name": "stderr",
          "output_type": "stream",
          "text": [
            "  1%|          | 41/4000 [01:02<1:33:48,  1.42s/it]"
          ]
        },
        {
          "name": "stdout",
          "output_type": "stream",
          "text": [
            "LB -13.651411\n"
          ]
        },
        {
          "name": "stderr",
          "output_type": "stream",
          "text": [
            "  1%|          | 42/4000 [01:04<1:32:40,  1.40s/it]"
          ]
        },
        {
          "name": "stdout",
          "output_type": "stream",
          "text": [
            "LB -13.759687\n"
          ]
        },
        {
          "name": "stderr",
          "output_type": "stream",
          "text": [
            "  1%|          | 43/4000 [01:05<1:32:40,  1.41s/it]"
          ]
        },
        {
          "name": "stdout",
          "output_type": "stream",
          "text": [
            "LB -14.024321\n"
          ]
        },
        {
          "name": "stderr",
          "output_type": "stream",
          "text": [
            "  1%|          | 44/4000 [01:07<1:34:59,  1.44s/it]"
          ]
        },
        {
          "name": "stdout",
          "output_type": "stream",
          "text": [
            "LB -13.795345\n"
          ]
        },
        {
          "name": "stderr",
          "output_type": "stream",
          "text": [
            "  1%|          | 45/4000 [01:08<1:45:13,  1.60s/it]"
          ]
        },
        {
          "name": "stdout",
          "output_type": "stream",
          "text": [
            "LB -13.768522\n"
          ]
        },
        {
          "name": "stderr",
          "output_type": "stream",
          "text": [
            "  1%|          | 46/4000 [01:10<1:44:18,  1.58s/it]"
          ]
        },
        {
          "name": "stdout",
          "output_type": "stream",
          "text": [
            "LB -13.851137\n"
          ]
        },
        {
          "name": "stderr",
          "output_type": "stream",
          "text": [
            "  1%|          | 47/4000 [01:12<1:48:05,  1.64s/it]"
          ]
        },
        {
          "name": "stdout",
          "output_type": "stream",
          "text": [
            "LB -13.974741\n"
          ]
        },
        {
          "name": "stderr",
          "output_type": "stream",
          "text": [
            "  1%|          | 48/4000 [01:13<1:41:50,  1.55s/it]"
          ]
        },
        {
          "name": "stdout",
          "output_type": "stream",
          "text": [
            "LB -13.71247\n"
          ]
        },
        {
          "name": "stderr",
          "output_type": "stream",
          "text": [
            "  1%|          | 49/4000 [01:14<1:37:53,  1.49s/it]"
          ]
        },
        {
          "name": "stdout",
          "output_type": "stream",
          "text": [
            "LB -13.550644\n"
          ]
        },
        {
          "name": "stderr",
          "output_type": "stream",
          "text": [
            "  1%|▏         | 50/4000 [01:16<1:34:08,  1.43s/it]"
          ]
        },
        {
          "name": "stdout",
          "output_type": "stream",
          "text": [
            "LB -13.919656\n"
          ]
        },
        {
          "name": "stderr",
          "output_type": "stream",
          "text": [
            "  1%|▏         | 51/4000 [01:17<1:32:33,  1.41s/it]"
          ]
        },
        {
          "name": "stdout",
          "output_type": "stream",
          "text": [
            "LB Smoothed -14.492256\n"
          ]
        },
        {
          "name": "stderr",
          "output_type": "stream",
          "text": [
            "  1%|▏         | 52/4000 [01:19<1:34:49,  1.44s/it]"
          ]
        },
        {
          "name": "stdout",
          "output_type": "stream",
          "text": [
            "LB Smoothed -14.444602\n"
          ]
        },
        {
          "name": "stderr",
          "output_type": "stream",
          "text": [
            "  1%|▏         | 53/4000 [01:20<1:35:29,  1.45s/it]"
          ]
        },
        {
          "name": "stdout",
          "output_type": "stream",
          "text": [
            "LB Smoothed -14.395919\n"
          ]
        },
        {
          "name": "stderr",
          "output_type": "stream",
          "text": [
            "  1%|▏         | 54/4000 [01:22<1:39:21,  1.51s/it]"
          ]
        },
        {
          "name": "stdout",
          "output_type": "stream",
          "text": [
            "LB Smoothed -14.35442\n"
          ]
        },
        {
          "name": "stderr",
          "output_type": "stream",
          "text": [
            "  1%|▏         | 55/4000 [01:23<1:35:42,  1.46s/it]"
          ]
        },
        {
          "name": "stdout",
          "output_type": "stream",
          "text": [
            "LB Smoothed -14.30503\n"
          ]
        },
        {
          "name": "stderr",
          "output_type": "stream",
          "text": [
            "  1%|▏         | 56/4000 [01:24<1:34:28,  1.44s/it]"
          ]
        },
        {
          "name": "stdout",
          "output_type": "stream",
          "text": [
            "LB Smoothed -14.261341\n"
          ]
        },
        {
          "name": "stderr",
          "output_type": "stream",
          "text": [
            "  1%|▏         | 57/4000 [01:26<1:31:02,  1.39s/it]"
          ]
        },
        {
          "name": "stdout",
          "output_type": "stream",
          "text": [
            "LB Smoothed -14.2252655\n"
          ]
        },
        {
          "name": "stderr",
          "output_type": "stream",
          "text": [
            "  1%|▏         | 58/4000 [01:27<1:30:44,  1.38s/it]"
          ]
        },
        {
          "name": "stdout",
          "output_type": "stream",
          "text": [
            "LB Smoothed -14.189072\n"
          ]
        },
        {
          "name": "stderr",
          "output_type": "stream",
          "text": [
            "  1%|▏         | 59/4000 [01:28<1:29:42,  1.37s/it]"
          ]
        },
        {
          "name": "stdout",
          "output_type": "stream",
          "text": [
            "LB Smoothed -14.154603\n"
          ]
        },
        {
          "name": "stderr",
          "output_type": "stream",
          "text": [
            "  2%|▏         | 60/4000 [01:30<1:27:36,  1.33s/it]"
          ]
        },
        {
          "name": "stdout",
          "output_type": "stream",
          "text": [
            "LB Smoothed -14.114474\n"
          ]
        },
        {
          "name": "stderr",
          "output_type": "stream",
          "text": [
            "  2%|▏         | 61/4000 [01:32<1:36:41,  1.47s/it]"
          ]
        },
        {
          "name": "stdout",
          "output_type": "stream",
          "text": [
            "LB Smoothed -14.086398\n"
          ]
        },
        {
          "name": "stderr",
          "output_type": "stream",
          "text": [
            "  2%|▏         | 62/4000 [01:33<1:39:08,  1.51s/it]"
          ]
        },
        {
          "name": "stdout",
          "output_type": "stream",
          "text": [
            "LB Smoothed -14.054214\n"
          ]
        },
        {
          "name": "stderr",
          "output_type": "stream",
          "text": [
            "  2%|▏         | 63/4000 [01:35<1:48:24,  1.65s/it]"
          ]
        },
        {
          "name": "stdout",
          "output_type": "stream",
          "text": [
            "LB Smoothed -14.0208235\n"
          ]
        },
        {
          "name": "stderr",
          "output_type": "stream",
          "text": [
            "  2%|▏         | 64/4000 [01:37<1:53:20,  1.73s/it]"
          ]
        },
        {
          "name": "stdout",
          "output_type": "stream",
          "text": [
            "LB Smoothed -13.990397\n"
          ]
        },
        {
          "name": "stderr",
          "output_type": "stream",
          "text": [
            "  2%|▏         | 65/4000 [01:39<2:00:59,  1.84s/it]"
          ]
        },
        {
          "name": "stdout",
          "output_type": "stream",
          "text": [
            "LB Smoothed -13.958889\n"
          ]
        },
        {
          "name": "stderr",
          "output_type": "stream",
          "text": [
            "  2%|▏         | 66/4000 [01:40<1:50:54,  1.69s/it]"
          ]
        },
        {
          "name": "stdout",
          "output_type": "stream",
          "text": [
            "LB Smoothed -13.917013\n"
          ]
        },
        {
          "name": "stderr",
          "output_type": "stream",
          "text": [
            "  2%|▏         | 67/4000 [01:42<1:42:05,  1.56s/it]"
          ]
        },
        {
          "name": "stdout",
          "output_type": "stream",
          "text": [
            "LB Smoothed -13.888867\n"
          ]
        },
        {
          "name": "stderr",
          "output_type": "stream",
          "text": [
            "  2%|▏         | 68/4000 [01:43<1:44:30,  1.59s/it]"
          ]
        },
        {
          "name": "stdout",
          "output_type": "stream",
          "text": [
            "LB Smoothed -13.858167\n"
          ]
        },
        {
          "name": "stderr",
          "output_type": "stream",
          "text": [
            "  2%|▏         | 69/4000 [01:45<1:46:07,  1.62s/it]"
          ]
        },
        {
          "name": "stdout",
          "output_type": "stream",
          "text": [
            "LB Smoothed -13.831024\n"
          ]
        },
        {
          "name": "stderr",
          "output_type": "stream",
          "text": [
            "  2%|▏         | 70/4000 [01:46<1:39:05,  1.51s/it]"
          ]
        },
        {
          "name": "stdout",
          "output_type": "stream",
          "text": [
            "LB Smoothed -13.800415\n"
          ]
        },
        {
          "name": "stderr",
          "output_type": "stream",
          "text": [
            "  2%|▏         | 71/4000 [01:48<1:36:29,  1.47s/it]"
          ]
        },
        {
          "name": "stdout",
          "output_type": "stream",
          "text": [
            "LB Smoothed -13.77407\n"
          ]
        },
        {
          "name": "stderr",
          "output_type": "stream",
          "text": [
            "  2%|▏         | 72/4000 [01:49<1:31:59,  1.41s/it]"
          ]
        },
        {
          "name": "stdout",
          "output_type": "stream",
          "text": [
            "LB Smoothed -13.736896\n"
          ]
        },
        {
          "name": "stderr",
          "output_type": "stream",
          "text": [
            "  2%|▏         | 73/4000 [01:50<1:29:22,  1.37s/it]"
          ]
        },
        {
          "name": "stdout",
          "output_type": "stream",
          "text": [
            "LB Smoothed -13.705795\n"
          ]
        },
        {
          "name": "stderr",
          "output_type": "stream",
          "text": [
            "  2%|▏         | 74/4000 [01:51<1:26:55,  1.33s/it]"
          ]
        },
        {
          "name": "stdout",
          "output_type": "stream",
          "text": [
            "LB Smoothed -13.679181\n"
          ]
        },
        {
          "name": "stderr",
          "output_type": "stream",
          "text": [
            "  2%|▏         | 75/4000 [01:53<1:26:49,  1.33s/it]"
          ]
        },
        {
          "name": "stdout",
          "output_type": "stream",
          "text": [
            "LB Smoothed -13.646929\n"
          ]
        },
        {
          "name": "stderr",
          "output_type": "stream",
          "text": [
            "  2%|▏         | 76/4000 [01:54<1:27:49,  1.34s/it]"
          ]
        },
        {
          "name": "stdout",
          "output_type": "stream",
          "text": [
            "LB Smoothed -13.619647\n"
          ]
        },
        {
          "name": "stderr",
          "output_type": "stream",
          "text": [
            "  2%|▏         | 77/4000 [01:56<1:28:35,  1.35s/it]"
          ]
        },
        {
          "name": "stdout",
          "output_type": "stream",
          "text": [
            "LB Smoothed -13.586214\n"
          ]
        },
        {
          "name": "stderr",
          "output_type": "stream",
          "text": [
            "  2%|▏         | 78/4000 [01:57<1:29:44,  1.37s/it]"
          ]
        },
        {
          "name": "stdout",
          "output_type": "stream",
          "text": [
            "LB Smoothed -13.558665\n"
          ]
        },
        {
          "name": "stderr",
          "output_type": "stream",
          "text": [
            "  2%|▏         | 79/4000 [01:59<1:34:46,  1.45s/it]"
          ]
        },
        {
          "name": "stdout",
          "output_type": "stream",
          "text": [
            "LB Smoothed -13.534316\n"
          ]
        },
        {
          "name": "stderr",
          "output_type": "stream",
          "text": [
            "  2%|▏         | 80/4000 [02:00<1:42:24,  1.57s/it]"
          ]
        },
        {
          "name": "stdout",
          "output_type": "stream",
          "text": [
            "LB Smoothed -13.499225\n"
          ]
        },
        {
          "name": "stderr",
          "output_type": "stream",
          "text": [
            "  2%|▏         | 81/4000 [02:02<1:40:11,  1.53s/it]"
          ]
        },
        {
          "name": "stdout",
          "output_type": "stream",
          "text": [
            "LB Smoothed -13.47636\n"
          ]
        },
        {
          "name": "stderr",
          "output_type": "stream",
          "text": [
            "  2%|▏         | 82/4000 [02:04<1:43:19,  1.58s/it]"
          ]
        },
        {
          "name": "stdout",
          "output_type": "stream",
          "text": [
            "LB Smoothed -13.446429\n"
          ]
        },
        {
          "name": "stderr",
          "output_type": "stream",
          "text": [
            "  2%|▏         | 83/4000 [02:05<1:44:45,  1.60s/it]"
          ]
        },
        {
          "name": "stdout",
          "output_type": "stream",
          "text": [
            "LB Smoothed -13.425346\n"
          ]
        },
        {
          "name": "stderr",
          "output_type": "stream",
          "text": [
            "  2%|▏         | 84/4000 [02:07<1:39:48,  1.53s/it]"
          ]
        },
        {
          "name": "stdout",
          "output_type": "stream",
          "text": [
            "LB Smoothed -13.395872\n"
          ]
        },
        {
          "name": "stderr",
          "output_type": "stream",
          "text": [
            "  2%|▏         | 85/4000 [02:08<1:46:13,  1.63s/it]"
          ]
        },
        {
          "name": "stdout",
          "output_type": "stream",
          "text": [
            "LB Smoothed -13.367197\n"
          ]
        },
        {
          "name": "stderr",
          "output_type": "stream",
          "text": [
            "  2%|▏         | 86/4000 [02:10<1:46:03,  1.63s/it]"
          ]
        },
        {
          "name": "stdout",
          "output_type": "stream",
          "text": [
            "LB Smoothed -13.346842\n"
          ]
        },
        {
          "name": "stderr",
          "output_type": "stream",
          "text": [
            "  2%|▏         | 87/4000 [02:12<1:48:14,  1.66s/it]"
          ]
        },
        {
          "name": "stdout",
          "output_type": "stream",
          "text": [
            "LB Smoothed -13.319508\n"
          ]
        },
        {
          "name": "stderr",
          "output_type": "stream",
          "text": [
            "  2%|▏         | 88/4000 [02:13<1:39:54,  1.53s/it]"
          ]
        },
        {
          "name": "stdout",
          "output_type": "stream",
          "text": [
            "LB Smoothed -13.2983055\n"
          ]
        },
        {
          "name": "stderr",
          "output_type": "stream",
          "text": [
            "  2%|▏         | 89/4000 [02:14<1:34:33,  1.45s/it]"
          ]
        },
        {
          "name": "stdout",
          "output_type": "stream",
          "text": [
            "LB Smoothed -13.28481\n"
          ]
        },
        {
          "name": "stderr",
          "output_type": "stream",
          "text": [
            "  2%|▏         | 90/4000 [02:16<1:31:28,  1.40s/it]"
          ]
        },
        {
          "name": "stdout",
          "output_type": "stream",
          "text": [
            "LB Smoothed -13.267937\n"
          ]
        },
        {
          "name": "stderr",
          "output_type": "stream",
          "text": [
            "  2%|▏         | 91/4000 [02:17<1:29:01,  1.37s/it]"
          ]
        },
        {
          "name": "stdout",
          "output_type": "stream",
          "text": [
            "LB Smoothed -13.252597\n"
          ]
        },
        {
          "name": "stderr",
          "output_type": "stream",
          "text": [
            "  2%|▏         | 92/4000 [02:18<1:26:27,  1.33s/it]"
          ]
        },
        {
          "name": "stdout",
          "output_type": "stream",
          "text": [
            "LB Smoothed -13.234315\n"
          ]
        },
        {
          "name": "stderr",
          "output_type": "stream",
          "text": [
            "  2%|▏         | 93/4000 [02:19<1:25:35,  1.31s/it]"
          ]
        },
        {
          "name": "stdout",
          "output_type": "stream",
          "text": [
            "LB Smoothed -13.212407\n"
          ]
        },
        {
          "name": "stderr",
          "output_type": "stream",
          "text": [
            "  2%|▏         | 94/4000 [02:21<1:24:41,  1.30s/it]"
          ]
        },
        {
          "name": "stdout",
          "output_type": "stream",
          "text": [
            "LB Smoothed -13.192816\n"
          ]
        },
        {
          "name": "stderr",
          "output_type": "stream",
          "text": [
            "  2%|▏         | 95/4000 [02:22<1:24:24,  1.30s/it]"
          ]
        },
        {
          "name": "stdout",
          "output_type": "stream",
          "text": [
            "LB Smoothed -13.169332\n"
          ]
        },
        {
          "name": "stderr",
          "output_type": "stream",
          "text": [
            "  2%|▏         | 96/4000 [02:23<1:27:03,  1.34s/it]"
          ]
        },
        {
          "name": "stdout",
          "output_type": "stream",
          "text": [
            "LB Smoothed -13.143935\n"
          ]
        },
        {
          "name": "stderr",
          "output_type": "stream",
          "text": [
            "  2%|▏         | 97/4000 [02:25<1:31:00,  1.40s/it]"
          ]
        },
        {
          "name": "stdout",
          "output_type": "stream",
          "text": [
            "LB Smoothed -13.116542\n"
          ]
        },
        {
          "name": "stderr",
          "output_type": "stream",
          "text": [
            "  2%|▏         | 98/4000 [02:26<1:29:05,  1.37s/it]"
          ]
        },
        {
          "name": "stdout",
          "output_type": "stream",
          "text": [
            "LB Smoothed -13.099182\n"
          ]
        },
        {
          "name": "stderr",
          "output_type": "stream",
          "text": [
            "  2%|▏         | 99/4000 [02:28<1:27:12,  1.34s/it]"
          ]
        },
        {
          "name": "stdout",
          "output_type": "stream",
          "text": [
            "LB Smoothed -13.081747\n"
          ]
        },
        {
          "name": "stderr",
          "output_type": "stream",
          "text": [
            "  2%|▎         | 100/4000 [02:29<1:26:17,  1.33s/it]"
          ]
        },
        {
          "name": "stdout",
          "output_type": "stream",
          "text": [
            "LB Smoothed -13.056681\n"
          ]
        },
        {
          "name": "stderr",
          "output_type": "stream",
          "text": [
            "  3%|▎         | 101/4000 [02:30<1:25:19,  1.31s/it]"
          ]
        },
        {
          "name": "stdout",
          "output_type": "stream",
          "text": [
            "LB Smoothed -13.035191\n"
          ]
        },
        {
          "name": "stderr",
          "output_type": "stream",
          "text": [
            "  3%|▎         | 102/4000 [02:31<1:25:46,  1.32s/it]"
          ]
        },
        {
          "name": "stdout",
          "output_type": "stream",
          "text": [
            "LB Smoothed -13.021576\n"
          ]
        },
        {
          "name": "stderr",
          "output_type": "stream",
          "text": [
            "  3%|▎         | 103/4000 [02:33<1:26:05,  1.33s/it]"
          ]
        },
        {
          "name": "stdout",
          "output_type": "stream",
          "text": [
            "LB Smoothed -13.001172\n"
          ]
        },
        {
          "name": "stderr",
          "output_type": "stream",
          "text": [
            "  3%|▎         | 104/4000 [02:34<1:26:22,  1.33s/it]"
          ]
        },
        {
          "name": "stdout",
          "output_type": "stream",
          "text": [
            "LB Smoothed -12.9924555\n"
          ]
        },
        {
          "name": "stderr",
          "output_type": "stream",
          "text": [
            "  3%|▎         | 105/4000 [02:36<1:28:02,  1.36s/it]"
          ]
        },
        {
          "name": "stdout",
          "output_type": "stream",
          "text": [
            "LB Smoothed -12.981677\n"
          ]
        },
        {
          "name": "stderr",
          "output_type": "stream",
          "text": [
            "  3%|▎         | 106/4000 [02:37<1:28:17,  1.36s/it]"
          ]
        },
        {
          "name": "stdout",
          "output_type": "stream",
          "text": [
            "LB Smoothed -12.961857\n"
          ]
        },
        {
          "name": "stderr",
          "output_type": "stream",
          "text": [
            "  3%|▎         | 107/4000 [02:38<1:28:32,  1.36s/it]"
          ]
        },
        {
          "name": "stdout",
          "output_type": "stream",
          "text": [
            "LB Smoothed -12.94068\n"
          ]
        },
        {
          "name": "stderr",
          "output_type": "stream",
          "text": [
            "  3%|▎         | 108/4000 [02:40<1:27:42,  1.35s/it]"
          ]
        },
        {
          "name": "stdout",
          "output_type": "stream",
          "text": [
            "LB Smoothed -12.9228\n"
          ]
        },
        {
          "name": "stderr",
          "output_type": "stream",
          "text": [
            "  3%|▎         | 109/4000 [02:41<1:25:46,  1.32s/it]"
          ]
        },
        {
          "name": "stdout",
          "output_type": "stream",
          "text": [
            "LB Smoothed -12.913488\n"
          ]
        },
        {
          "name": "stderr",
          "output_type": "stream",
          "text": [
            "  3%|▎         | 110/4000 [02:42<1:24:15,  1.30s/it]"
          ]
        },
        {
          "name": "stdout",
          "output_type": "stream",
          "text": [
            "LB Smoothed -12.901111\n"
          ]
        },
        {
          "name": "stderr",
          "output_type": "stream",
          "text": [
            "  3%|▎         | 111/4000 [02:43<1:23:21,  1.29s/it]"
          ]
        },
        {
          "name": "stdout",
          "output_type": "stream",
          "text": [
            "LB Smoothed -12.8864565\n"
          ]
        },
        {
          "name": "stderr",
          "output_type": "stream",
          "text": [
            "  3%|▎         | 112/4000 [02:45<1:23:09,  1.28s/it]"
          ]
        },
        {
          "name": "stdout",
          "output_type": "stream",
          "text": [
            "LB Smoothed -12.871256\n"
          ]
        },
        {
          "name": "stderr",
          "output_type": "stream",
          "text": [
            "  3%|▎         | 113/4000 [02:46<1:25:20,  1.32s/it]"
          ]
        },
        {
          "name": "stdout",
          "output_type": "stream",
          "text": [
            "LB Smoothed -12.857806\n"
          ]
        },
        {
          "name": "stderr",
          "output_type": "stream",
          "text": [
            "  3%|▎         | 114/4000 [02:48<1:34:14,  1.46s/it]"
          ]
        },
        {
          "name": "stdout",
          "output_type": "stream",
          "text": [
            "LB Smoothed -12.847953\n"
          ]
        },
        {
          "name": "stderr",
          "output_type": "stream",
          "text": [
            "  3%|▎         | 115/4000 [02:49<1:34:18,  1.46s/it]"
          ]
        },
        {
          "name": "stdout",
          "output_type": "stream",
          "text": [
            "LB Smoothed -12.836664\n"
          ]
        },
        {
          "name": "stderr",
          "output_type": "stream",
          "text": [
            "  3%|▎         | 116/4000 [02:51<1:32:04,  1.42s/it]"
          ]
        },
        {
          "name": "stdout",
          "output_type": "stream",
          "text": [
            "LB Smoothed -12.822873\n"
          ]
        },
        {
          "name": "stderr",
          "output_type": "stream",
          "text": [
            "  3%|▎         | 117/4000 [02:52<1:35:27,  1.47s/it]"
          ]
        },
        {
          "name": "stdout",
          "output_type": "stream",
          "text": [
            "LB Smoothed -12.812334\n"
          ]
        },
        {
          "name": "stderr",
          "output_type": "stream",
          "text": [
            "  3%|▎         | 118/4000 [02:54<1:38:45,  1.53s/it]"
          ]
        },
        {
          "name": "stdout",
          "output_type": "stream",
          "text": [
            "LB Smoothed -12.804191\n"
          ]
        },
        {
          "name": "stderr",
          "output_type": "stream",
          "text": [
            "  3%|▎         | 119/4000 [02:55<1:40:04,  1.55s/it]"
          ]
        },
        {
          "name": "stdout",
          "output_type": "stream",
          "text": [
            "LB Smoothed -12.788132\n"
          ]
        },
        {
          "name": "stderr",
          "output_type": "stream",
          "text": [
            "  3%|▎         | 120/4000 [02:57<1:36:36,  1.49s/it]"
          ]
        },
        {
          "name": "stdout",
          "output_type": "stream",
          "text": [
            "LB Smoothed -12.782851\n"
          ]
        },
        {
          "name": "stderr",
          "output_type": "stream",
          "text": [
            "  3%|▎         | 121/4000 [02:58<1:36:56,  1.50s/it]"
          ]
        },
        {
          "name": "stdout",
          "output_type": "stream",
          "text": [
            "LB Smoothed -12.775221\n"
          ]
        },
        {
          "name": "stderr",
          "output_type": "stream",
          "text": [
            "  3%|▎         | 122/4000 [03:00<1:36:23,  1.49s/it]"
          ]
        },
        {
          "name": "stdout",
          "output_type": "stream",
          "text": [
            "LB Smoothed -12.763397\n"
          ]
        },
        {
          "name": "stderr",
          "output_type": "stream",
          "text": [
            "  3%|▎         | 123/4000 [03:01<1:34:00,  1.45s/it]"
          ]
        },
        {
          "name": "stdout",
          "output_type": "stream",
          "text": [
            "LB Smoothed -12.754705\n"
          ]
        },
        {
          "name": "stderr",
          "output_type": "stream",
          "text": [
            "  3%|▎         | 124/4000 [03:03<1:33:49,  1.45s/it]"
          ]
        },
        {
          "name": "stdout",
          "output_type": "stream",
          "text": [
            "LB Smoothed -12.744919\n"
          ]
        },
        {
          "name": "stderr",
          "output_type": "stream",
          "text": [
            "  3%|▎         | 125/4000 [03:04<1:33:30,  1.45s/it]"
          ]
        },
        {
          "name": "stdout",
          "output_type": "stream",
          "text": [
            "LB Smoothed -12.73792\n"
          ]
        },
        {
          "name": "stderr",
          "output_type": "stream",
          "text": [
            "  3%|▎         | 126/4000 [03:06<1:34:48,  1.47s/it]"
          ]
        },
        {
          "name": "stdout",
          "output_type": "stream",
          "text": [
            "LB Smoothed -12.73149\n"
          ]
        },
        {
          "name": "stderr",
          "output_type": "stream",
          "text": [
            "  3%|▎         | 127/4000 [03:07<1:32:26,  1.43s/it]"
          ]
        },
        {
          "name": "stdout",
          "output_type": "stream",
          "text": [
            "LB Smoothed -12.7196\n"
          ]
        },
        {
          "name": "stderr",
          "output_type": "stream",
          "text": [
            "  3%|▎         | 128/4000 [03:08<1:33:04,  1.44s/it]"
          ]
        },
        {
          "name": "stdout",
          "output_type": "stream",
          "text": [
            "LB Smoothed -12.707464\n"
          ]
        },
        {
          "name": "stderr",
          "output_type": "stream",
          "text": [
            "  3%|▎         | 129/4000 [03:10<1:32:02,  1.43s/it]"
          ]
        },
        {
          "name": "stdout",
          "output_type": "stream",
          "text": [
            "LB Smoothed -12.702825\n"
          ]
        },
        {
          "name": "stderr",
          "output_type": "stream",
          "text": [
            "  3%|▎         | 130/4000 [03:11<1:31:36,  1.42s/it]"
          ]
        },
        {
          "name": "stdout",
          "output_type": "stream",
          "text": [
            "LB Smoothed -12.693044\n"
          ]
        },
        {
          "name": "stderr",
          "output_type": "stream",
          "text": [
            "  3%|▎         | 131/4000 [03:13<1:32:19,  1.43s/it]"
          ]
        },
        {
          "name": "stdout",
          "output_type": "stream",
          "text": [
            "LB Smoothed -12.689209\n"
          ]
        },
        {
          "name": "stderr",
          "output_type": "stream",
          "text": [
            "  3%|▎         | 132/4000 [03:14<1:31:02,  1.41s/it]"
          ]
        },
        {
          "name": "stdout",
          "output_type": "stream",
          "text": [
            "LB Smoothed -12.67662\n"
          ]
        },
        {
          "name": "stderr",
          "output_type": "stream",
          "text": [
            "  3%|▎         | 133/4000 [03:15<1:31:09,  1.41s/it]"
          ]
        },
        {
          "name": "stdout",
          "output_type": "stream",
          "text": [
            "LB Smoothed -12.676192\n"
          ]
        },
        {
          "name": "stderr",
          "output_type": "stream",
          "text": [
            "  3%|▎         | 134/4000 [03:17<1:30:49,  1.41s/it]"
          ]
        },
        {
          "name": "stdout",
          "output_type": "stream",
          "text": [
            "LB Smoothed -12.674948\n"
          ]
        },
        {
          "name": "stderr",
          "output_type": "stream",
          "text": [
            "  3%|▎         | 135/4000 [03:18<1:30:34,  1.41s/it]"
          ]
        },
        {
          "name": "stdout",
          "output_type": "stream",
          "text": [
            "LB Smoothed -12.665477\n"
          ]
        },
        {
          "name": "stderr",
          "output_type": "stream",
          "text": [
            "  3%|▎         | 136/4000 [03:20<1:32:52,  1.44s/it]"
          ]
        },
        {
          "name": "stdout",
          "output_type": "stream",
          "text": [
            "LB Smoothed -12.664264\n"
          ]
        },
        {
          "name": "stderr",
          "output_type": "stream",
          "text": [
            "  3%|▎         | 137/4000 [03:21<1:31:40,  1.42s/it]"
          ]
        },
        {
          "name": "stdout",
          "output_type": "stream",
          "text": [
            "LB Smoothed -12.658494\n"
          ]
        },
        {
          "name": "stderr",
          "output_type": "stream",
          "text": [
            "  3%|▎         | 138/4000 [03:22<1:30:40,  1.41s/it]"
          ]
        },
        {
          "name": "stdout",
          "output_type": "stream",
          "text": [
            "LB Smoothed -12.644185\n"
          ]
        },
        {
          "name": "stderr",
          "output_type": "stream",
          "text": [
            "  3%|▎         | 139/4000 [03:24<1:30:57,  1.41s/it]"
          ]
        },
        {
          "name": "stdout",
          "output_type": "stream",
          "text": [
            "LB Smoothed -12.635178\n"
          ]
        },
        {
          "name": "stderr",
          "output_type": "stream",
          "text": [
            "  4%|▎         | 140/4000 [03:25<1:31:12,  1.42s/it]"
          ]
        },
        {
          "name": "stdout",
          "output_type": "stream",
          "text": [
            "LB Smoothed -12.630723\n"
          ]
        },
        {
          "name": "stderr",
          "output_type": "stream",
          "text": [
            "  4%|▎         | 141/4000 [03:27<1:32:11,  1.43s/it]"
          ]
        },
        {
          "name": "stdout",
          "output_type": "stream",
          "text": [
            "LB Smoothed -12.6249895\n"
          ]
        },
        {
          "name": "stderr",
          "output_type": "stream",
          "text": [
            "  4%|▎         | 142/4000 [03:28<1:31:19,  1.42s/it]"
          ]
        },
        {
          "name": "stdout",
          "output_type": "stream",
          "text": [
            "LB Smoothed -12.618915\n"
          ]
        },
        {
          "name": "stderr",
          "output_type": "stream",
          "text": [
            "  4%|▎         | 143/4000 [03:30<1:32:19,  1.44s/it]"
          ]
        },
        {
          "name": "stdout",
          "output_type": "stream",
          "text": [
            "LB Smoothed -12.606283\n"
          ]
        },
        {
          "name": "stderr",
          "output_type": "stream",
          "text": [
            "  4%|▎         | 144/4000 [03:31<1:31:17,  1.42s/it]"
          ]
        },
        {
          "name": "stdout",
          "output_type": "stream",
          "text": [
            "LB Smoothed -12.604046\n"
          ]
        },
        {
          "name": "stderr",
          "output_type": "stream",
          "text": [
            "  4%|▎         | 145/4000 [03:32<1:31:04,  1.42s/it]"
          ]
        },
        {
          "name": "stdout",
          "output_type": "stream",
          "text": [
            "LB Smoothed -12.599039\n"
          ]
        },
        {
          "name": "stderr",
          "output_type": "stream",
          "text": [
            "  4%|▎         | 146/4000 [03:34<1:31:05,  1.42s/it]"
          ]
        },
        {
          "name": "stdout",
          "output_type": "stream",
          "text": [
            "LB Smoothed -12.59301\n"
          ]
        },
        {
          "name": "stderr",
          "output_type": "stream",
          "text": [
            "  4%|▎         | 147/4000 [03:35<1:33:24,  1.45s/it]"
          ]
        },
        {
          "name": "stdout",
          "output_type": "stream",
          "text": [
            "LB Smoothed -12.581504\n"
          ]
        },
        {
          "name": "stderr",
          "output_type": "stream",
          "text": [
            "  4%|▎         | 148/4000 [03:37<1:31:45,  1.43s/it]"
          ]
        },
        {
          "name": "stdout",
          "output_type": "stream",
          "text": [
            "LB Smoothed -12.5770235\n"
          ]
        },
        {
          "name": "stderr",
          "output_type": "stream",
          "text": [
            "  4%|▎         | 149/4000 [03:38<1:32:16,  1.44s/it]"
          ]
        },
        {
          "name": "stdout",
          "output_type": "stream",
          "text": [
            "LB Smoothed -12.569309\n"
          ]
        },
        {
          "name": "stderr",
          "output_type": "stream",
          "text": [
            "  4%|▍         | 150/4000 [03:40<1:34:06,  1.47s/it]"
          ]
        },
        {
          "name": "stdout",
          "output_type": "stream",
          "text": [
            "LB Smoothed -12.56823\n"
          ]
        },
        {
          "name": "stderr",
          "output_type": "stream",
          "text": [
            "  4%|▍         | 151/4000 [03:42<1:39:38,  1.55s/it]"
          ]
        },
        {
          "name": "stdout",
          "output_type": "stream",
          "text": [
            "LB Smoothed -12.569104\n"
          ]
        },
        {
          "name": "stderr",
          "output_type": "stream",
          "text": [
            "  4%|▍         | 152/4000 [03:43<1:40:00,  1.56s/it]"
          ]
        },
        {
          "name": "stdout",
          "output_type": "stream",
          "text": [
            "LB Smoothed -12.5616255\n"
          ]
        },
        {
          "name": "stderr",
          "output_type": "stream",
          "text": [
            "  4%|▍         | 153/4000 [03:45<1:40:07,  1.56s/it]"
          ]
        },
        {
          "name": "stdout",
          "output_type": "stream",
          "text": [
            "LB Smoothed -12.549817\n"
          ]
        },
        {
          "name": "stderr",
          "output_type": "stream",
          "text": [
            "  4%|▍         | 154/4000 [03:46<1:38:35,  1.54s/it]"
          ]
        },
        {
          "name": "stdout",
          "output_type": "stream",
          "text": [
            "LB Smoothed -12.544405\n"
          ]
        },
        {
          "name": "stderr",
          "output_type": "stream",
          "text": [
            "  4%|▍         | 155/4000 [03:48<1:36:21,  1.50s/it]"
          ]
        },
        {
          "name": "stdout",
          "output_type": "stream",
          "text": [
            "LB Smoothed -12.540553\n"
          ]
        },
        {
          "name": "stderr",
          "output_type": "stream",
          "text": [
            "  4%|▍         | 156/4000 [03:49<1:36:13,  1.50s/it]"
          ]
        },
        {
          "name": "stdout",
          "output_type": "stream",
          "text": [
            "LB Smoothed -12.543217\n"
          ]
        },
        {
          "name": "stderr",
          "output_type": "stream",
          "text": [
            "  4%|▍         | 157/4000 [03:51<1:41:49,  1.59s/it]"
          ]
        },
        {
          "name": "stdout",
          "output_type": "stream",
          "text": [
            "LB Smoothed -12.541676\n"
          ]
        },
        {
          "name": "stderr",
          "output_type": "stream",
          "text": [
            "  4%|▍         | 158/4000 [03:53<1:53:56,  1.78s/it]"
          ]
        },
        {
          "name": "stdout",
          "output_type": "stream",
          "text": [
            "LB Smoothed -12.538594\n"
          ]
        },
        {
          "name": "stderr",
          "output_type": "stream",
          "text": [
            "  4%|▍         | 159/4000 [03:55<1:49:47,  1.72s/it]"
          ]
        },
        {
          "name": "stdout",
          "output_type": "stream",
          "text": [
            "LB Smoothed -12.534182\n"
          ]
        },
        {
          "name": "stderr",
          "output_type": "stream",
          "text": [
            "  4%|▍         | 160/4000 [03:56<1:49:38,  1.71s/it]"
          ]
        },
        {
          "name": "stdout",
          "output_type": "stream",
          "text": [
            "LB Smoothed -12.525314\n"
          ]
        },
        {
          "name": "stderr",
          "output_type": "stream",
          "text": [
            "  4%|▍         | 161/4000 [03:58<1:41:45,  1.59s/it]"
          ]
        },
        {
          "name": "stdout",
          "output_type": "stream",
          "text": [
            "LB Smoothed -12.518756\n"
          ]
        },
        {
          "name": "stderr",
          "output_type": "stream",
          "text": [
            "  4%|▍         | 162/4000 [03:59<1:38:00,  1.53s/it]"
          ]
        },
        {
          "name": "stdout",
          "output_type": "stream",
          "text": [
            "LB Smoothed -12.514907\n"
          ]
        },
        {
          "name": "stderr",
          "output_type": "stream",
          "text": [
            "  4%|▍         | 163/4000 [04:00<1:34:06,  1.47s/it]"
          ]
        },
        {
          "name": "stdout",
          "output_type": "stream",
          "text": [
            "LB Smoothed -12.507745\n"
          ]
        },
        {
          "name": "stderr",
          "output_type": "stream",
          "text": [
            "  4%|▍         | 164/4000 [04:02<1:30:22,  1.41s/it]"
          ]
        },
        {
          "name": "stdout",
          "output_type": "stream",
          "text": [
            "LB Smoothed -12.507869\n"
          ]
        },
        {
          "name": "stderr",
          "output_type": "stream",
          "text": [
            "  4%|▍         | 165/4000 [04:03<1:29:05,  1.39s/it]"
          ]
        },
        {
          "name": "stdout",
          "output_type": "stream",
          "text": [
            "LB Smoothed -12.5044365\n"
          ]
        },
        {
          "name": "stderr",
          "output_type": "stream",
          "text": [
            "  4%|▍         | 166/4000 [04:04<1:28:55,  1.39s/it]"
          ]
        },
        {
          "name": "stdout",
          "output_type": "stream",
          "text": [
            "LB Smoothed -12.494801\n"
          ]
        },
        {
          "name": "stderr",
          "output_type": "stream",
          "text": [
            "  4%|▍         | 167/4000 [04:06<1:28:11,  1.38s/it]"
          ]
        },
        {
          "name": "stdout",
          "output_type": "stream",
          "text": [
            "LB Smoothed -12.488615\n"
          ]
        },
        {
          "name": "stderr",
          "output_type": "stream",
          "text": [
            "  4%|▍         | 168/4000 [04:07<1:29:24,  1.40s/it]"
          ]
        },
        {
          "name": "stdout",
          "output_type": "stream",
          "text": [
            "LB Smoothed -12.485496\n"
          ]
        },
        {
          "name": "stderr",
          "output_type": "stream",
          "text": [
            "  4%|▍         | 169/4000 [04:09<1:33:00,  1.46s/it]"
          ]
        },
        {
          "name": "stdout",
          "output_type": "stream",
          "text": [
            "LB Smoothed -12.471584\n"
          ]
        },
        {
          "name": "stderr",
          "output_type": "stream",
          "text": [
            "  4%|▍         | 170/4000 [04:10<1:33:03,  1.46s/it]"
          ]
        },
        {
          "name": "stdout",
          "output_type": "stream",
          "text": [
            "LB Smoothed -12.467054\n"
          ]
        },
        {
          "name": "stderr",
          "output_type": "stream",
          "text": [
            "  4%|▍         | 171/4000 [04:12<1:35:07,  1.49s/it]"
          ]
        },
        {
          "name": "stdout",
          "output_type": "stream",
          "text": [
            "LB Smoothed -12.460229\n"
          ]
        },
        {
          "name": "stderr",
          "output_type": "stream",
          "text": [
            "  4%|▍         | 172/4000 [04:14<1:39:01,  1.55s/it]"
          ]
        },
        {
          "name": "stdout",
          "output_type": "stream",
          "text": [
            "LB Smoothed -12.4579525\n"
          ]
        },
        {
          "name": "stderr",
          "output_type": "stream",
          "text": [
            "  4%|▍         | 173/4000 [04:15<1:40:10,  1.57s/it]"
          ]
        },
        {
          "name": "stdout",
          "output_type": "stream",
          "text": [
            "LB Smoothed -12.456394\n"
          ]
        },
        {
          "name": "stderr",
          "output_type": "stream",
          "text": [
            "  4%|▍         | 174/4000 [04:17<1:41:36,  1.59s/it]"
          ]
        },
        {
          "name": "stdout",
          "output_type": "stream",
          "text": [
            "LB Smoothed -12.448619\n"
          ]
        },
        {
          "name": "stderr",
          "output_type": "stream",
          "text": [
            "  4%|▍         | 175/4000 [04:18<1:41:52,  1.60s/it]"
          ]
        },
        {
          "name": "stdout",
          "output_type": "stream",
          "text": [
            "LB Smoothed -12.444973\n"
          ]
        },
        {
          "name": "stderr",
          "output_type": "stream",
          "text": [
            "  4%|▍         | 176/4000 [04:20<1:47:48,  1.69s/it]"
          ]
        },
        {
          "name": "stdout",
          "output_type": "stream",
          "text": [
            "LB Smoothed -12.443007\n"
          ]
        },
        {
          "name": "stderr",
          "output_type": "stream",
          "text": [
            "  4%|▍         | 177/4000 [04:22<1:51:41,  1.75s/it]"
          ]
        },
        {
          "name": "stdout",
          "output_type": "stream",
          "text": [
            "LB Smoothed -12.439519\n"
          ]
        },
        {
          "name": "stderr",
          "output_type": "stream",
          "text": [
            "  4%|▍         | 178/4000 [04:24<1:51:12,  1.75s/it]"
          ]
        },
        {
          "name": "stdout",
          "output_type": "stream",
          "text": [
            "LB Smoothed -12.4405985\n"
          ]
        },
        {
          "name": "stderr",
          "output_type": "stream",
          "text": [
            "  4%|▍         | 179/4000 [04:25<1:44:46,  1.65s/it]"
          ]
        },
        {
          "name": "stdout",
          "output_type": "stream",
          "text": [
            "LB Smoothed -12.437906\n"
          ]
        },
        {
          "name": "stderr",
          "output_type": "stream",
          "text": [
            "  4%|▍         | 180/4000 [04:27<1:43:37,  1.63s/it]"
          ]
        },
        {
          "name": "stdout",
          "output_type": "stream",
          "text": [
            "LB Smoothed -12.428399\n"
          ]
        },
        {
          "name": "stderr",
          "output_type": "stream",
          "text": [
            "  5%|▍         | 181/4000 [04:28<1:39:56,  1.57s/it]"
          ]
        },
        {
          "name": "stdout",
          "output_type": "stream",
          "text": [
            "LB Smoothed -12.421513\n"
          ]
        },
        {
          "name": "stderr",
          "output_type": "stream",
          "text": [
            "  5%|▍         | 182/4000 [04:30<1:40:10,  1.57s/it]"
          ]
        },
        {
          "name": "stdout",
          "output_type": "stream",
          "text": [
            "LB Smoothed -12.414336\n"
          ]
        },
        {
          "name": "stderr",
          "output_type": "stream",
          "text": [
            "  5%|▍         | 183/4000 [04:32<1:44:53,  1.65s/it]"
          ]
        },
        {
          "name": "stdout",
          "output_type": "stream",
          "text": [
            "LB Smoothed -12.405746\n"
          ]
        },
        {
          "name": "stderr",
          "output_type": "stream",
          "text": [
            "  5%|▍         | 184/4000 [04:33<1:46:17,  1.67s/it]"
          ]
        },
        {
          "name": "stdout",
          "output_type": "stream",
          "text": [
            "LB Smoothed -12.404606\n"
          ]
        },
        {
          "name": "stderr",
          "output_type": "stream",
          "text": [
            "  5%|▍         | 185/4000 [04:35<1:44:27,  1.64s/it]"
          ]
        },
        {
          "name": "stdout",
          "output_type": "stream",
          "text": [
            "LB Smoothed -12.398759\n"
          ]
        },
        {
          "name": "stderr",
          "output_type": "stream",
          "text": [
            "  5%|▍         | 186/4000 [04:37<1:43:32,  1.63s/it]"
          ]
        },
        {
          "name": "stdout",
          "output_type": "stream",
          "text": [
            "LB Smoothed -12.399403\n"
          ]
        },
        {
          "name": "stderr",
          "output_type": "stream",
          "text": [
            "  5%|▍         | 187/4000 [04:39<1:47:42,  1.69s/it]"
          ]
        },
        {
          "name": "stdout",
          "output_type": "stream",
          "text": [
            "LB Smoothed -12.391733\n"
          ]
        },
        {
          "name": "stderr",
          "output_type": "stream",
          "text": [
            "  5%|▍         | 188/4000 [04:40<1:52:03,  1.76s/it]"
          ]
        },
        {
          "name": "stdout",
          "output_type": "stream",
          "text": [
            "LB Smoothed -12.3884325\n"
          ]
        },
        {
          "name": "stderr",
          "output_type": "stream",
          "text": [
            "  5%|▍         | 189/4000 [04:43<2:01:15,  1.91s/it]"
          ]
        },
        {
          "name": "stdout",
          "output_type": "stream",
          "text": [
            "LB Smoothed -12.382057\n"
          ]
        },
        {
          "name": "stderr",
          "output_type": "stream",
          "text": [
            "  5%|▍         | 190/4000 [04:44<1:55:46,  1.82s/it]"
          ]
        },
        {
          "name": "stdout",
          "output_type": "stream",
          "text": [
            "LB Smoothed -12.372135\n"
          ]
        },
        {
          "name": "stderr",
          "output_type": "stream",
          "text": [
            "  5%|▍         | 191/4000 [04:46<1:47:50,  1.70s/it]"
          ]
        },
        {
          "name": "stdout",
          "output_type": "stream",
          "text": [
            "LB Smoothed -12.359696\n"
          ]
        },
        {
          "name": "stderr",
          "output_type": "stream",
          "text": [
            "  5%|▍         | 192/4000 [04:47<1:41:08,  1.59s/it]"
          ]
        },
        {
          "name": "stdout",
          "output_type": "stream",
          "text": [
            "LB Smoothed -12.364112\n"
          ]
        },
        {
          "name": "stderr",
          "output_type": "stream",
          "text": [
            "  5%|▍         | 193/4000 [04:49<1:38:11,  1.55s/it]"
          ]
        },
        {
          "name": "stdout",
          "output_type": "stream",
          "text": [
            "LB Smoothed -12.357501\n"
          ]
        },
        {
          "name": "stderr",
          "output_type": "stream",
          "text": [
            "  5%|▍         | 194/4000 [04:50<1:39:59,  1.58s/it]"
          ]
        },
        {
          "name": "stdout",
          "output_type": "stream",
          "text": [
            "LB Smoothed -12.351287\n"
          ]
        },
        {
          "name": "stderr",
          "output_type": "stream",
          "text": [
            "  5%|▍         | 195/4000 [04:52<1:45:13,  1.66s/it]"
          ]
        },
        {
          "name": "stdout",
          "output_type": "stream",
          "text": [
            "LB Smoothed -12.34873\n"
          ]
        },
        {
          "name": "stderr",
          "output_type": "stream",
          "text": [
            "  5%|▍         | 196/4000 [04:54<1:54:57,  1.81s/it]"
          ]
        },
        {
          "name": "stdout",
          "output_type": "stream",
          "text": [
            "LB Smoothed -12.346969\n"
          ]
        },
        {
          "name": "stderr",
          "output_type": "stream",
          "text": [
            "  5%|▍         | 197/4000 [04:56<1:57:59,  1.86s/it]"
          ]
        },
        {
          "name": "stdout",
          "output_type": "stream",
          "text": [
            "LB Smoothed -12.341386\n"
          ]
        },
        {
          "name": "stderr",
          "output_type": "stream",
          "text": [
            "  5%|▍         | 198/4000 [04:58<1:54:04,  1.80s/it]"
          ]
        },
        {
          "name": "stdout",
          "output_type": "stream",
          "text": [
            "LB Smoothed -12.345833\n"
          ]
        },
        {
          "name": "stderr",
          "output_type": "stream",
          "text": [
            "  5%|▍         | 199/4000 [04:59<1:51:38,  1.76s/it]"
          ]
        },
        {
          "name": "stdout",
          "output_type": "stream",
          "text": [
            "LB Smoothed -12.337676\n"
          ]
        },
        {
          "name": "stderr",
          "output_type": "stream",
          "text": [
            "  5%|▌         | 200/4000 [05:01<1:50:07,  1.74s/it]"
          ]
        },
        {
          "name": "stdout",
          "output_type": "stream",
          "text": [
            "LB Smoothed -12.326819\n"
          ]
        },
        {
          "name": "stderr",
          "output_type": "stream",
          "text": [
            "  5%|▌         | 201/4000 [05:03<1:43:42,  1.64s/it]"
          ]
        },
        {
          "name": "stdout",
          "output_type": "stream",
          "text": [
            "LB Smoothed -12.317009\n"
          ]
        },
        {
          "name": "stderr",
          "output_type": "stream",
          "text": [
            "  5%|▌         | 202/4000 [05:04<1:45:00,  1.66s/it]"
          ]
        },
        {
          "name": "stdout",
          "output_type": "stream",
          "text": [
            "LB Smoothed -12.319267\n"
          ]
        },
        {
          "name": "stderr",
          "output_type": "stream",
          "text": [
            "  5%|▌         | 203/4000 [05:06<1:45:23,  1.67s/it]"
          ]
        },
        {
          "name": "stdout",
          "output_type": "stream",
          "text": [
            "LB Smoothed -12.312746\n"
          ]
        },
        {
          "name": "stderr",
          "output_type": "stream",
          "text": [
            "  5%|▌         | 204/4000 [05:08<1:45:21,  1.67s/it]"
          ]
        },
        {
          "name": "stdout",
          "output_type": "stream",
          "text": [
            "LB Smoothed -12.310984\n"
          ]
        },
        {
          "name": "stderr",
          "output_type": "stream",
          "text": [
            "  5%|▌         | 205/4000 [05:09<1:44:06,  1.65s/it]"
          ]
        },
        {
          "name": "stdout",
          "output_type": "stream",
          "text": [
            "LB Smoothed -12.302235\n"
          ]
        },
        {
          "name": "stderr",
          "output_type": "stream",
          "text": [
            "  5%|▌         | 206/4000 [05:11<1:46:37,  1.69s/it]"
          ]
        },
        {
          "name": "stdout",
          "output_type": "stream",
          "text": [
            "LB Smoothed -12.297809\n"
          ]
        },
        {
          "name": "stderr",
          "output_type": "stream",
          "text": [
            "  5%|▌         | 207/4000 [05:13<1:51:58,  1.77s/it]"
          ]
        },
        {
          "name": "stdout",
          "output_type": "stream",
          "text": [
            "LB Smoothed -12.29041\n"
          ]
        },
        {
          "name": "stderr",
          "output_type": "stream",
          "text": [
            "  5%|▌         | 208/4000 [05:15<1:49:12,  1.73s/it]"
          ]
        },
        {
          "name": "stdout",
          "output_type": "stream",
          "text": [
            "LB Smoothed -12.283223\n"
          ]
        },
        {
          "name": "stderr",
          "output_type": "stream",
          "text": [
            "  5%|▌         | 209/4000 [05:16<1:50:07,  1.74s/it]"
          ]
        },
        {
          "name": "stdout",
          "output_type": "stream",
          "text": [
            "LB Smoothed -12.28048\n"
          ]
        },
        {
          "name": "stderr",
          "output_type": "stream",
          "text": [
            "  5%|▌         | 210/4000 [05:18<1:43:55,  1.65s/it]"
          ]
        },
        {
          "name": "stdout",
          "output_type": "stream",
          "text": [
            "LB Smoothed -12.280371\n"
          ]
        },
        {
          "name": "stderr",
          "output_type": "stream",
          "text": [
            "  5%|▌         | 211/4000 [05:19<1:36:33,  1.53s/it]"
          ]
        },
        {
          "name": "stdout",
          "output_type": "stream",
          "text": [
            "LB Smoothed -12.278831\n"
          ]
        },
        {
          "name": "stderr",
          "output_type": "stream",
          "text": [
            "  5%|▌         | 212/4000 [05:20<1:32:45,  1.47s/it]"
          ]
        },
        {
          "name": "stdout",
          "output_type": "stream",
          "text": [
            "LB Smoothed -12.278977\n"
          ]
        },
        {
          "name": "stderr",
          "output_type": "stream",
          "text": [
            "  5%|▌         | 213/4000 [05:22<1:28:02,  1.39s/it]"
          ]
        },
        {
          "name": "stdout",
          "output_type": "stream",
          "text": [
            "LB Smoothed -12.273978\n"
          ]
        },
        {
          "name": "stderr",
          "output_type": "stream",
          "text": [
            "  5%|▌         | 214/4000 [05:23<1:25:57,  1.36s/it]"
          ]
        },
        {
          "name": "stdout",
          "output_type": "stream",
          "text": [
            "LB Smoothed -12.267948\n"
          ]
        },
        {
          "name": "stderr",
          "output_type": "stream",
          "text": [
            "  5%|▌         | 215/4000 [05:24<1:28:11,  1.40s/it]"
          ]
        },
        {
          "name": "stdout",
          "output_type": "stream",
          "text": [
            "LB Smoothed -12.269422\n"
          ]
        },
        {
          "name": "stderr",
          "output_type": "stream",
          "text": [
            "  5%|▌         | 216/4000 [05:26<1:29:21,  1.42s/it]"
          ]
        },
        {
          "name": "stdout",
          "output_type": "stream",
          "text": [
            "LB Smoothed -12.265261\n"
          ]
        },
        {
          "name": "stderr",
          "output_type": "stream",
          "text": [
            "  5%|▌         | 217/4000 [05:27<1:32:56,  1.47s/it]"
          ]
        },
        {
          "name": "stdout",
          "output_type": "stream",
          "text": [
            "LB Smoothed -12.266591\n"
          ]
        },
        {
          "name": "stderr",
          "output_type": "stream",
          "text": [
            "  5%|▌         | 218/4000 [05:29<1:35:21,  1.51s/it]"
          ]
        },
        {
          "name": "stdout",
          "output_type": "stream",
          "text": [
            "LB Smoothed -12.268637\n"
          ]
        },
        {
          "name": "stderr",
          "output_type": "stream",
          "text": [
            "  5%|▌         | 219/4000 [05:31<1:43:59,  1.65s/it]"
          ]
        },
        {
          "name": "stdout",
          "output_type": "stream",
          "text": [
            "LB Smoothed -12.269907\n"
          ]
        },
        {
          "name": "stderr",
          "output_type": "stream",
          "text": [
            "  6%|▌         | 220/4000 [05:33<1:45:29,  1.67s/it]"
          ]
        },
        {
          "name": "stdout",
          "output_type": "stream",
          "text": [
            "LB Smoothed -12.27052\n"
          ]
        },
        {
          "name": "stderr",
          "output_type": "stream",
          "text": [
            "  6%|▌         | 221/4000 [05:34<1:45:03,  1.67s/it]"
          ]
        },
        {
          "name": "stdout",
          "output_type": "stream",
          "text": [
            "LB Smoothed -12.258777\n"
          ]
        },
        {
          "name": "stderr",
          "output_type": "stream",
          "text": [
            "  6%|▌         | 222/4000 [05:36<1:45:04,  1.67s/it]"
          ]
        },
        {
          "name": "stdout",
          "output_type": "stream",
          "text": [
            "LB Smoothed -12.251412\n"
          ]
        },
        {
          "name": "stderr",
          "output_type": "stream",
          "text": [
            "  6%|▌         | 223/4000 [05:38<1:52:32,  1.79s/it]"
          ]
        },
        {
          "name": "stdout",
          "output_type": "stream",
          "text": [
            "LB Smoothed -12.253172\n"
          ]
        },
        {
          "name": "stderr",
          "output_type": "stream",
          "text": [
            "  6%|▌         | 224/4000 [05:40<1:50:32,  1.76s/it]"
          ]
        },
        {
          "name": "stdout",
          "output_type": "stream",
          "text": [
            "LB Smoothed -12.251399\n"
          ]
        },
        {
          "name": "stderr",
          "output_type": "stream",
          "text": [
            "  6%|▌         | 225/4000 [05:41<1:46:18,  1.69s/it]"
          ]
        },
        {
          "name": "stdout",
          "output_type": "stream",
          "text": [
            "LB Smoothed -12.241874\n"
          ]
        },
        {
          "name": "stderr",
          "output_type": "stream",
          "text": [
            "  6%|▌         | 226/4000 [05:43<1:39:10,  1.58s/it]"
          ]
        },
        {
          "name": "stdout",
          "output_type": "stream",
          "text": [
            "LB Smoothed -12.240706\n"
          ]
        },
        {
          "name": "stderr",
          "output_type": "stream",
          "text": [
            "  6%|▌         | 227/4000 [05:44<1:37:02,  1.54s/it]"
          ]
        },
        {
          "name": "stdout",
          "output_type": "stream",
          "text": [
            "LB Smoothed -12.234677\n"
          ]
        },
        {
          "name": "stderr",
          "output_type": "stream",
          "text": [
            "  6%|▌         | 228/4000 [05:46<1:34:12,  1.50s/it]"
          ]
        },
        {
          "name": "stdout",
          "output_type": "stream",
          "text": [
            "LB Smoothed -12.225389\n"
          ]
        },
        {
          "name": "stderr",
          "output_type": "stream",
          "text": [
            "  6%|▌         | 229/4000 [05:47<1:33:21,  1.49s/it]"
          ]
        },
        {
          "name": "stdout",
          "output_type": "stream",
          "text": [
            "LB Smoothed -12.219317\n"
          ]
        },
        {
          "name": "stderr",
          "output_type": "stream",
          "text": [
            "  6%|▌         | 230/4000 [05:49<1:34:01,  1.50s/it]"
          ]
        },
        {
          "name": "stdout",
          "output_type": "stream",
          "text": [
            "LB Smoothed -12.223554\n"
          ]
        },
        {
          "name": "stderr",
          "output_type": "stream",
          "text": [
            "  6%|▌         | 231/4000 [05:50<1:35:59,  1.53s/it]"
          ]
        },
        {
          "name": "stdout",
          "output_type": "stream",
          "text": [
            "LB Smoothed -12.2211685\n"
          ]
        },
        {
          "name": "stderr",
          "output_type": "stream",
          "text": [
            "  6%|▌         | 232/4000 [05:52<1:38:02,  1.56s/it]"
          ]
        },
        {
          "name": "stdout",
          "output_type": "stream",
          "text": [
            "LB Smoothed -12.221271\n"
          ]
        },
        {
          "name": "stderr",
          "output_type": "stream",
          "text": [
            "  6%|▌         | 233/4000 [05:54<1:43:37,  1.65s/it]"
          ]
        },
        {
          "name": "stdout",
          "output_type": "stream",
          "text": [
            "LB Smoothed -12.213849\n"
          ]
        },
        {
          "name": "stderr",
          "output_type": "stream",
          "text": [
            "  6%|▌         | 234/4000 [05:55<1:44:35,  1.67s/it]"
          ]
        },
        {
          "name": "stdout",
          "output_type": "stream",
          "text": [
            "LB Smoothed -12.210613\n"
          ]
        },
        {
          "name": "stderr",
          "output_type": "stream",
          "text": [
            "  6%|▌         | 235/4000 [05:57<1:47:45,  1.72s/it]"
          ]
        },
        {
          "name": "stdout",
          "output_type": "stream",
          "text": [
            "LB Smoothed -12.206569\n"
          ]
        },
        {
          "name": "stderr",
          "output_type": "stream",
          "text": [
            "  6%|▌         | 236/4000 [05:58<1:39:58,  1.59s/it]"
          ]
        },
        {
          "name": "stdout",
          "output_type": "stream",
          "text": [
            "LB Smoothed -12.209243\n"
          ]
        },
        {
          "name": "stderr",
          "output_type": "stream",
          "text": [
            "  6%|▌         | 237/4000 [06:00<1:40:10,  1.60s/it]"
          ]
        },
        {
          "name": "stdout",
          "output_type": "stream",
          "text": [
            "LB Smoothed -12.209063\n"
          ]
        },
        {
          "name": "stderr",
          "output_type": "stream",
          "text": [
            "  6%|▌         | 238/4000 [06:02<1:40:40,  1.61s/it]"
          ]
        },
        {
          "name": "stdout",
          "output_type": "stream",
          "text": [
            "LB Smoothed -12.204669\n"
          ]
        },
        {
          "name": "stderr",
          "output_type": "stream",
          "text": [
            "  6%|▌         | 239/4000 [06:03<1:41:08,  1.61s/it]"
          ]
        },
        {
          "name": "stdout",
          "output_type": "stream",
          "text": [
            "LB Smoothed -12.211493\n"
          ]
        },
        {
          "name": "stderr",
          "output_type": "stream",
          "text": [
            "  6%|▌         | 240/4000 [06:05<1:39:48,  1.59s/it]"
          ]
        },
        {
          "name": "stdout",
          "output_type": "stream",
          "text": [
            "LB Smoothed -12.221043\n"
          ]
        },
        {
          "name": "stderr",
          "output_type": "stream",
          "text": [
            "  6%|▌         | 241/4000 [06:06<1:35:50,  1.53s/it]"
          ]
        },
        {
          "name": "stdout",
          "output_type": "stream",
          "text": [
            "LB Smoothed -12.211565\n"
          ]
        },
        {
          "name": "stderr",
          "output_type": "stream",
          "text": [
            "  6%|▌         | 242/4000 [06:08<1:31:56,  1.47s/it]"
          ]
        },
        {
          "name": "stdout",
          "output_type": "stream",
          "text": [
            "LB Smoothed -12.211484\n"
          ]
        },
        {
          "name": "stderr",
          "output_type": "stream",
          "text": [
            "  6%|▌         | 243/4000 [06:09<1:28:50,  1.42s/it]"
          ]
        },
        {
          "name": "stdout",
          "output_type": "stream",
          "text": [
            "LB Smoothed -12.213509\n"
          ]
        },
        {
          "name": "stderr",
          "output_type": "stream",
          "text": [
            "  6%|▌         | 244/4000 [06:10<1:27:06,  1.39s/it]"
          ]
        },
        {
          "name": "stdout",
          "output_type": "stream",
          "text": [
            "LB Smoothed -12.211809\n"
          ]
        },
        {
          "name": "stderr",
          "output_type": "stream",
          "text": [
            "  6%|▌         | 245/4000 [06:12<1:26:20,  1.38s/it]"
          ]
        },
        {
          "name": "stdout",
          "output_type": "stream",
          "text": [
            "LB Smoothed -12.213898\n"
          ]
        },
        {
          "name": "stderr",
          "output_type": "stream",
          "text": [
            "  6%|▌         | 246/4000 [06:13<1:27:27,  1.40s/it]"
          ]
        },
        {
          "name": "stdout",
          "output_type": "stream",
          "text": [
            "LB Smoothed -12.209088\n"
          ]
        },
        {
          "name": "stderr",
          "output_type": "stream",
          "text": [
            "  6%|▌         | 247/4000 [06:14<1:29:32,  1.43s/it]"
          ]
        },
        {
          "name": "stdout",
          "output_type": "stream",
          "text": [
            "LB Smoothed -12.203192\n"
          ]
        },
        {
          "name": "stderr",
          "output_type": "stream",
          "text": [
            "  6%|▌         | 248/4000 [06:16<1:31:52,  1.47s/it]"
          ]
        },
        {
          "name": "stdout",
          "output_type": "stream",
          "text": [
            "LB Smoothed -12.20429\n"
          ]
        },
        {
          "name": "stderr",
          "output_type": "stream",
          "text": [
            "  6%|▌         | 249/4000 [06:18<1:34:35,  1.51s/it]"
          ]
        },
        {
          "name": "stdout",
          "output_type": "stream",
          "text": [
            "LB Smoothed -12.203802\n"
          ]
        },
        {
          "name": "stderr",
          "output_type": "stream",
          "text": [
            "  6%|▋         | 250/4000 [06:20<1:47:02,  1.71s/it]"
          ]
        },
        {
          "name": "stdout",
          "output_type": "stream",
          "text": [
            "LB Smoothed -12.206266\n"
          ]
        },
        {
          "name": "stderr",
          "output_type": "stream",
          "text": [
            "  6%|▋         | 251/4000 [06:21<1:41:36,  1.63s/it]"
          ]
        },
        {
          "name": "stdout",
          "output_type": "stream",
          "text": [
            "LB Smoothed -12.2035475\n"
          ]
        },
        {
          "name": "stderr",
          "output_type": "stream",
          "text": [
            "  6%|▋         | 252/4000 [06:23<1:40:07,  1.60s/it]"
          ]
        },
        {
          "name": "stdout",
          "output_type": "stream",
          "text": [
            "LB Smoothed -12.204953\n"
          ]
        },
        {
          "name": "stderr",
          "output_type": "stream",
          "text": [
            "  6%|▋         | 253/4000 [06:24<1:34:47,  1.52s/it]"
          ]
        },
        {
          "name": "stdout",
          "output_type": "stream",
          "text": [
            "LB Smoothed -12.203186\n"
          ]
        },
        {
          "name": "stderr",
          "output_type": "stream",
          "text": [
            "  6%|▋         | 254/4000 [06:25<1:31:19,  1.46s/it]"
          ]
        },
        {
          "name": "stdout",
          "output_type": "stream",
          "text": [
            "LB Smoothed -12.203342\n"
          ]
        },
        {
          "name": "stderr",
          "output_type": "stream",
          "text": [
            "  6%|▋         | 255/4000 [06:27<1:29:28,  1.43s/it]"
          ]
        },
        {
          "name": "stdout",
          "output_type": "stream",
          "text": [
            "LB Smoothed -12.204669\n"
          ]
        },
        {
          "name": "stderr",
          "output_type": "stream",
          "text": [
            "  6%|▋         | 256/4000 [06:28<1:29:44,  1.44s/it]"
          ]
        },
        {
          "name": "stdout",
          "output_type": "stream",
          "text": [
            "LB Smoothed -12.206866\n"
          ]
        },
        {
          "name": "stderr",
          "output_type": "stream",
          "text": [
            "  6%|▋         | 257/4000 [06:30<1:27:31,  1.40s/it]"
          ]
        },
        {
          "name": "stdout",
          "output_type": "stream",
          "text": [
            "LB Smoothed -12.202339\n"
          ]
        },
        {
          "name": "stderr",
          "output_type": "stream",
          "text": [
            "  6%|▋         | 258/4000 [06:31<1:29:02,  1.43s/it]"
          ]
        },
        {
          "name": "stdout",
          "output_type": "stream",
          "text": [
            "LB Smoothed -12.204542\n"
          ]
        },
        {
          "name": "stderr",
          "output_type": "stream",
          "text": [
            "  6%|▋         | 259/4000 [06:33<1:32:01,  1.48s/it]"
          ]
        },
        {
          "name": "stdout",
          "output_type": "stream",
          "text": [
            "LB Smoothed -12.208862\n"
          ]
        },
        {
          "name": "stderr",
          "output_type": "stream",
          "text": [
            "  6%|▋         | 260/4000 [06:34<1:34:05,  1.51s/it]"
          ]
        },
        {
          "name": "stdout",
          "output_type": "stream",
          "text": [
            "LB Smoothed -12.208593\n"
          ]
        },
        {
          "name": "stderr",
          "output_type": "stream",
          "text": [
            "  7%|▋         | 261/4000 [06:36<1:38:34,  1.58s/it]"
          ]
        },
        {
          "name": "stdout",
          "output_type": "stream",
          "text": [
            "LB Smoothed -12.2046795\n"
          ]
        },
        {
          "name": "stderr",
          "output_type": "stream",
          "text": [
            "  7%|▋         | 262/4000 [06:38<1:41:52,  1.64s/it]"
          ]
        },
        {
          "name": "stdout",
          "output_type": "stream",
          "text": [
            "LB Smoothed -12.2122\n"
          ]
        },
        {
          "name": "stderr",
          "output_type": "stream",
          "text": [
            "  7%|▋         | 263/4000 [06:39<1:38:07,  1.58s/it]"
          ]
        },
        {
          "name": "stdout",
          "output_type": "stream",
          "text": [
            "LB Smoothed -12.216769\n"
          ]
        },
        {
          "name": "stderr",
          "output_type": "stream",
          "text": [
            "  7%|▋         | 264/4000 [06:41<1:34:33,  1.52s/it]"
          ]
        },
        {
          "name": "stdout",
          "output_type": "stream",
          "text": [
            "LB Smoothed -12.214657\n"
          ]
        },
        {
          "name": "stderr",
          "output_type": "stream",
          "text": [
            "  7%|▋         | 265/4000 [06:42<1:30:52,  1.46s/it]"
          ]
        },
        {
          "name": "stdout",
          "output_type": "stream",
          "text": [
            "LB Smoothed -12.218304\n"
          ]
        },
        {
          "name": "stderr",
          "output_type": "stream",
          "text": [
            "  7%|▋         | 266/4000 [06:44<1:33:47,  1.51s/it]"
          ]
        },
        {
          "name": "stdout",
          "output_type": "stream",
          "text": [
            "LB Smoothed -12.218474\n"
          ]
        },
        {
          "name": "stderr",
          "output_type": "stream",
          "text": [
            "  7%|▋         | 267/4000 [06:45<1:29:37,  1.44s/it]"
          ]
        },
        {
          "name": "stdout",
          "output_type": "stream",
          "text": [
            "LB Smoothed -12.217172\n"
          ]
        },
        {
          "name": "stderr",
          "output_type": "stream",
          "text": [
            "  7%|▋         | 268/4000 [06:46<1:29:47,  1.44s/it]"
          ]
        },
        {
          "name": "stdout",
          "output_type": "stream",
          "text": [
            "LB Smoothed -12.212439\n"
          ]
        },
        {
          "name": "stderr",
          "output_type": "stream",
          "text": [
            "  7%|▋         | 269/4000 [06:48<1:27:46,  1.41s/it]"
          ]
        },
        {
          "name": "stdout",
          "output_type": "stream",
          "text": [
            "LB Smoothed -12.209522\n"
          ]
        },
        {
          "name": "stderr",
          "output_type": "stream",
          "text": [
            "  7%|▋         | 270/4000 [06:49<1:27:21,  1.41s/it]"
          ]
        },
        {
          "name": "stdout",
          "output_type": "stream",
          "text": [
            "LB Smoothed -12.2153425\n"
          ]
        },
        {
          "name": "stderr",
          "output_type": "stream",
          "text": [
            "  7%|▋         | 271/4000 [06:50<1:25:39,  1.38s/it]"
          ]
        },
        {
          "name": "stdout",
          "output_type": "stream",
          "text": [
            "LB Smoothed -12.218137\n"
          ]
        },
        {
          "name": "stderr",
          "output_type": "stream",
          "text": [
            "  7%|▋         | 272/4000 [06:52<1:25:19,  1.37s/it]"
          ]
        },
        {
          "name": "stdout",
          "output_type": "stream",
          "text": [
            "LB Smoothed -12.214133\n"
          ]
        },
        {
          "name": "stderr",
          "output_type": "stream",
          "text": [
            "  7%|▋         | 273/4000 [06:53<1:26:52,  1.40s/it]"
          ]
        },
        {
          "name": "stdout",
          "output_type": "stream",
          "text": [
            "LB Smoothed -12.210889\n"
          ]
        },
        {
          "name": "stderr",
          "output_type": "stream",
          "text": [
            "  7%|▋         | 274/4000 [06:55<1:29:26,  1.44s/it]"
          ]
        },
        {
          "name": "stdout",
          "output_type": "stream",
          "text": [
            "LB Smoothed -12.210837\n"
          ]
        },
        {
          "name": "stderr",
          "output_type": "stream",
          "text": [
            "  7%|▋         | 275/4000 [06:56<1:28:37,  1.43s/it]"
          ]
        },
        {
          "name": "stdout",
          "output_type": "stream",
          "text": [
            "LB Smoothed -12.208042\n"
          ]
        },
        {
          "name": "stderr",
          "output_type": "stream",
          "text": [
            "  7%|▋         | 276/4000 [06:58<1:29:39,  1.44s/it]"
          ]
        },
        {
          "name": "stdout",
          "output_type": "stream",
          "text": [
            "LB Smoothed -12.207881\n"
          ]
        },
        {
          "name": "stderr",
          "output_type": "stream",
          "text": [
            "  7%|▋         | 277/4000 [06:59<1:27:05,  1.40s/it]"
          ]
        },
        {
          "name": "stdout",
          "output_type": "stream",
          "text": [
            "LB Smoothed -12.212011\n"
          ]
        },
        {
          "name": "stderr",
          "output_type": "stream",
          "text": [
            "  7%|▋         | 278/4000 [07:00<1:27:35,  1.41s/it]"
          ]
        },
        {
          "name": "stdout",
          "output_type": "stream",
          "text": [
            "LB Smoothed -12.217055\n"
          ]
        },
        {
          "name": "stderr",
          "output_type": "stream",
          "text": [
            "  7%|▋         | 279/4000 [07:02<1:26:14,  1.39s/it]"
          ]
        },
        {
          "name": "stdout",
          "output_type": "stream",
          "text": [
            "LB Smoothed -12.210297\n"
          ]
        },
        {
          "name": "stderr",
          "output_type": "stream",
          "text": [
            "  7%|▋         | 280/4000 [07:03<1:25:38,  1.38s/it]"
          ]
        },
        {
          "name": "stdout",
          "output_type": "stream",
          "text": [
            "LB Smoothed -12.216251\n"
          ]
        },
        {
          "name": "stderr",
          "output_type": "stream",
          "text": [
            "  7%|▋         | 281/4000 [07:04<1:24:25,  1.36s/it]"
          ]
        },
        {
          "name": "stdout",
          "output_type": "stream",
          "text": [
            "LB Smoothed -12.206201\n"
          ]
        },
        {
          "name": "stderr",
          "output_type": "stream",
          "text": [
            "  7%|▋         | 282/4000 [07:06<1:24:15,  1.36s/it]"
          ]
        },
        {
          "name": "stdout",
          "output_type": "stream",
          "text": [
            "LB Smoothed -12.210315\n"
          ]
        },
        {
          "name": "stderr",
          "output_type": "stream",
          "text": [
            "  7%|▋         | 283/4000 [07:07<1:24:08,  1.36s/it]"
          ]
        },
        {
          "name": "stdout",
          "output_type": "stream",
          "text": [
            "LB Smoothed -12.210618\n"
          ]
        },
        {
          "name": "stderr",
          "output_type": "stream",
          "text": [
            "  7%|▋         | 284/4000 [07:09<1:31:53,  1.48s/it]"
          ]
        },
        {
          "name": "stdout",
          "output_type": "stream",
          "text": [
            "LB Smoothed -12.213444\n"
          ]
        },
        {
          "name": "stderr",
          "output_type": "stream",
          "text": [
            "  7%|▋         | 285/4000 [07:10<1:30:59,  1.47s/it]"
          ]
        },
        {
          "name": "stdout",
          "output_type": "stream",
          "text": [
            "LB Smoothed -12.208353\n"
          ]
        },
        {
          "name": "stderr",
          "output_type": "stream",
          "text": [
            "  7%|▋         | 286/4000 [07:12<1:29:22,  1.44s/it]"
          ]
        },
        {
          "name": "stdout",
          "output_type": "stream",
          "text": [
            "LB Smoothed -12.207537\n"
          ]
        },
        {
          "name": "stderr",
          "output_type": "stream",
          "text": [
            "  7%|▋         | 287/4000 [07:13<1:30:47,  1.47s/it]"
          ]
        },
        {
          "name": "stdout",
          "output_type": "stream",
          "text": [
            "LB Smoothed -12.209881\n"
          ]
        },
        {
          "name": "stderr",
          "output_type": "stream",
          "text": [
            "  7%|▋         | 288/4000 [07:14<1:27:30,  1.41s/it]"
          ]
        },
        {
          "name": "stdout",
          "output_type": "stream",
          "text": [
            "LB Smoothed -12.2116\n"
          ]
        },
        {
          "name": "stderr",
          "output_type": "stream",
          "text": [
            "  7%|▋         | 289/4000 [07:16<1:24:47,  1.37s/it]"
          ]
        },
        {
          "name": "stdout",
          "output_type": "stream",
          "text": [
            "LB Smoothed -12.207544\n"
          ]
        },
        {
          "name": "stderr",
          "output_type": "stream",
          "text": [
            "  7%|▋         | 290/4000 [07:17<1:22:44,  1.34s/it]"
          ]
        },
        {
          "name": "stdout",
          "output_type": "stream",
          "text": [
            "LB Smoothed -12.208212\n"
          ]
        },
        {
          "name": "stderr",
          "output_type": "stream",
          "text": [
            "  7%|▋         | 291/4000 [07:18<1:22:58,  1.34s/it]"
          ]
        },
        {
          "name": "stdout",
          "output_type": "stream",
          "text": [
            "LB Smoothed -12.211454\n"
          ]
        },
        {
          "name": "stderr",
          "output_type": "stream",
          "text": [
            "  7%|▋         | 292/4000 [07:20<1:23:13,  1.35s/it]"
          ]
        },
        {
          "name": "stdout",
          "output_type": "stream",
          "text": [
            "LB Smoothed -12.209435\n"
          ]
        },
        {
          "name": "stderr",
          "output_type": "stream",
          "text": [
            "  7%|▋         | 293/4000 [07:21<1:23:47,  1.36s/it]"
          ]
        },
        {
          "name": "stdout",
          "output_type": "stream",
          "text": [
            "LB Smoothed -12.216343\n"
          ]
        },
        {
          "name": "stderr",
          "output_type": "stream",
          "text": [
            "  7%|▋         | 294/4000 [07:22<1:23:54,  1.36s/it]"
          ]
        },
        {
          "name": "stdout",
          "output_type": "stream",
          "text": [
            "LB Smoothed -12.218417\n"
          ]
        },
        {
          "name": "stderr",
          "output_type": "stream",
          "text": [
            "  7%|▋         | 295/4000 [07:24<1:23:16,  1.35s/it]"
          ]
        },
        {
          "name": "stdout",
          "output_type": "stream",
          "text": [
            "LB Smoothed -12.224956\n"
          ]
        },
        {
          "name": "stderr",
          "output_type": "stream",
          "text": [
            "  7%|▋         | 296/4000 [07:25<1:22:54,  1.34s/it]"
          ]
        },
        {
          "name": "stdout",
          "output_type": "stream",
          "text": [
            "LB Smoothed -12.228941\n"
          ]
        },
        {
          "name": "stderr",
          "output_type": "stream",
          "text": [
            "  7%|▋         | 297/4000 [07:27<1:27:11,  1.41s/it]"
          ]
        },
        {
          "name": "stdout",
          "output_type": "stream",
          "text": [
            "LB Smoothed -12.239023\n"
          ]
        },
        {
          "name": "stderr",
          "output_type": "stream",
          "text": [
            "  7%|▋         | 298/4000 [07:28<1:24:40,  1.37s/it]"
          ]
        },
        {
          "name": "stdout",
          "output_type": "stream",
          "text": [
            "LB Smoothed -12.235127\n"
          ]
        },
        {
          "name": "stderr",
          "output_type": "stream",
          "text": [
            "  7%|▋         | 299/4000 [07:29<1:25:14,  1.38s/it]"
          ]
        },
        {
          "name": "stdout",
          "output_type": "stream",
          "text": [
            "LB Smoothed -12.236597\n"
          ]
        },
        {
          "name": "stderr",
          "output_type": "stream",
          "text": [
            "  8%|▊         | 300/4000 [07:31<1:25:33,  1.39s/it]"
          ]
        },
        {
          "name": "stdout",
          "output_type": "stream",
          "text": [
            "LB Smoothed -12.242307\n"
          ]
        },
        {
          "name": "stderr",
          "output_type": "stream",
          "text": [
            "  8%|▊         | 301/4000 [07:32<1:23:29,  1.35s/it]"
          ]
        },
        {
          "name": "stdout",
          "output_type": "stream",
          "text": [
            "LB Smoothed -12.242434\n"
          ]
        },
        {
          "name": "stderr",
          "output_type": "stream",
          "text": [
            "  8%|▊         | 302/4000 [07:33<1:25:34,  1.39s/it]"
          ]
        },
        {
          "name": "stdout",
          "output_type": "stream",
          "text": [
            "LB Smoothed -12.245122\n"
          ]
        },
        {
          "name": "stderr",
          "output_type": "stream",
          "text": [
            "  8%|▊         | 303/4000 [07:35<1:27:05,  1.41s/it]"
          ]
        },
        {
          "name": "stdout",
          "output_type": "stream",
          "text": [
            "LB Smoothed -12.248679\n"
          ]
        },
        {
          "name": "stderr",
          "output_type": "stream",
          "text": [
            "  8%|▊         | 304/4000 [07:36<1:29:34,  1.45s/it]"
          ]
        },
        {
          "name": "stdout",
          "output_type": "stream",
          "text": [
            "LB Smoothed -12.245218\n"
          ]
        },
        {
          "name": "stderr",
          "output_type": "stream",
          "text": [
            "  8%|▊         | 305/4000 [07:38<1:32:59,  1.51s/it]"
          ]
        },
        {
          "name": "stdout",
          "output_type": "stream",
          "text": [
            "LB Smoothed -12.2423115\n"
          ]
        },
        {
          "name": "stderr",
          "output_type": "stream",
          "text": [
            "  8%|▊         | 306/4000 [07:40<1:42:02,  1.66s/it]"
          ]
        },
        {
          "name": "stdout",
          "output_type": "stream",
          "text": [
            "LB Smoothed -12.246189\n"
          ]
        },
        {
          "name": "stderr",
          "output_type": "stream",
          "text": [
            "  8%|▊         | 307/4000 [07:42<1:45:55,  1.72s/it]"
          ]
        },
        {
          "name": "stdout",
          "output_type": "stream",
          "text": [
            "LB Smoothed -12.248415\n"
          ]
        },
        {
          "name": "stderr",
          "output_type": "stream",
          "text": [
            "  8%|▊         | 307/4000 [07:44<1:33:05,  1.51s/it]"
          ]
        },
        {
          "name": "stdout",
          "output_type": "stream",
          "text": [
            "LB Smoothed -12.243177\n",
            "Stop at 307\n"
          ]
        },
        {
          "name": "stderr",
          "output_type": "stream",
          "text": [
            "\n"
          ]
        }
      ],
      "source": [
        "vb = GVB(200, actual_summary_statistics, 0.005, 2500, 100, 0.9, 0.9, 50, 50)\n",
        "LB_estimate, smoothed_LB_estimate, best_lambda_mu, best_lambda_l = vb.vb_posterior(stop)"
      ]
    },
    {
      "cell_type": "code",
      "execution_count": 21,
      "metadata": {
        "id": "PccbJrnTB2i_"
      },
      "outputs": [
        {
          "data": {
            "text/plain": [
              "<Axes: title={'center': 'Smoothed Lower Bound Estimate'}>"
            ]
          },
          "execution_count": 21,
          "metadata": {},
          "output_type": "execute_result"
        },
        {
          "data": {
            "text/plain": [
              "<Figure size 640x480 with 0 Axes>"
            ]
          },
          "metadata": {},
          "output_type": "display_data"
        },
        {
          "data": {
            "image/png": "[encoded data removed]",
            "text/plain": [
              "<Figure size 640x480 with 1 Axes>"
            ]
          },
          "metadata": {},
          "output_type": "display_data"
        }
      ],
      "source": [
        "import pandas as pd\n",
        "lb_df = pd.DataFrame(np.array(smoothed_LB_estimate))\n",
        "plt.figure()\n",
        "lb_df.plot(title = 'Smoothed Lower Bound Estimate', legend = False)"
      ]
    },
    {
      "cell_type": "code",
      "execution_count": 22,
      "metadata": {
        "colab": {
          "base_uri": "https://localhost:8080/"
        },
        "id": "t_dlyNH3CEjs",
        "outputId": "f096193a-5098-4781-9853-d3f6e8c21fe7"
      },
      "outputs": [
        {
          "data": {
            "text/plain": [
              "Array([1.8683103 , 0.4065483 , 1.0894978 , 0.20968421], dtype=float32)"
            ]
          },
          "execution_count": 22,
          "metadata": {},
          "output_type": "execute_result"
        }
      ],
      "source": [
        "best_mu = best_lambda_mu\n",
        "best_vech_l = list(best_lambda_l)\n",
        "best_l = jnp.zeros((num_coeffs, num_coeffs))\n",
        "for i in range(num_coeffs):\n",
        "    best_l = best_l.at[i:num_coeffs,i].set(best_vech_l[:num_coeffs - i])\n",
        "    del best_vech_l[:num_coeffs-i]\n",
        "best_Sigma_inv = best_l @ best_l.T\n",
        "best_Sigma =  my_inv(best_Sigma_inv)\n",
        "\n",
        "best_theta_tilde = random.multivariate_normal(subkeys[3], mean = best_mu, cov = best_Sigma, shape = (1000,))\n",
        "best_alpha = (2 * jnp.exp(best_theta_tilde[:,0]) + 1.1) / (1 + jnp.exp(best_theta_tilde[:,0]))\n",
        "best_beta = (jnp.exp(best_theta_tilde[:,1]) - 1) / (jnp.exp(best_theta_tilde[:,1]) + 1)\n",
        "best_gamma = jnp.exp(best_theta_tilde[:,2])\n",
        "best_delta = best_theta_tilde[:,3]\n",
        "best_theta = jnp.array([best_alpha, best_beta, best_gamma, best_delta])\n",
        "posterior_mean_estimate = jnp.mean(best_theta, axis = 1)\n",
        "posterior_mean_estimate"
      ]
    },
    {
      "cell_type": "code",
      "execution_count": null,
      "metadata": {
        "id": "72eAFLAMbRgo"
      },
      "outputs": [],
      "source": [
        "best_lambda_mu = jnp.array([ 1.5921234 ,  0.8758456 , -0.09510029,  0.19848666])\n",
        "best_lambda_l = jnp.array([10.462973  , -0.20588468,  0.06805911, -0.01834287,\n",
        "             10.504364  , -0.02211663,  0.09543709,  9.265755  ,\n",
        "             -0.25945738, 10.087319  ])\n",
        "best_mu = best_lambda_mu\n",
        "best_vech_l = list(best_lambda_l)\n",
        "best_l = jnp.zeros((num_coeffs, num_coeffs))\n",
        "for i in range(num_coeffs):\n",
        "    best_l = best_l.at[i:num_coeffs,i].set(best_vech_l[:num_coeffs - i])\n",
        "    del best_vech_l[:num_coeffs-i]\n",
        "best_Sigma_inv = best_l @ best_l.T\n",
        "best_Sigma =  my_inv(best_Sigma_inv)\n",
        "\n",
        "best_theta_tilde = random.multivariate_normal(subkeys[6], mean = best_mu, cov = best_Sigma, shape = (1000,))\n",
        "best_alpha = (2 * jnp.exp(best_theta_tilde[:,0]) + 1.1) / (1 + jnp.exp(best_theta_tilde[:,0]))\n",
        "best_beta = (jnp.exp(best_theta_tilde[:,1]) - 1) / (jnp.exp(best_theta_tilde[:,1]) + 1)\n",
        "best_gamma = jnp.exp(best_theta_tilde[:,2])\n",
        "best_delta = best_theta_tilde[:,3]\n",
        "best_theta = jnp.array([best_alpha, best_beta, best_gamma, best_delta])\n",
        "posterior_mean_estimate_rvbsl = jnp.mean(best_theta, axis = 1)"
      ]
    },
    {
      "cell_type": "code",
      "execution_count": null,
      "metadata": {
        "id": "_69WnLIub6Cg"
      },
      "outputs": [],
      "source": [
        "best_lambda_mu = jnp.array([ 1.2225926 ,  1.1738504 , -0.0637335 ,  0.06715619])\n",
        "best_lambda_l = jnp.array([ 1.0475696e+01, -1.7527211e-03, -1.3112575e-01,\n",
        "              3.6996447e-02,  1.0206658e+01,  9.5298715e-02,\n",
        "              1.0707750e-01,  9.8733253e+00, -4.3959993e-01,\n",
        "              1.0134060e+01])\n",
        "best_mu = best_lambda_mu\n",
        "best_vech_l = list(best_lambda_l)\n",
        "best_l = jnp.zeros((num_coeffs, num_coeffs))\n",
        "for i in range(num_coeffs):\n",
        "    best_l = best_l.at[i:num_coeffs,i].set(best_vech_l[:num_coeffs - i])\n",
        "    del best_vech_l[:num_coeffs-i]\n",
        "best_Sigma_inv = best_l @ best_l.T\n",
        "best_Sigma =  my_inv(best_Sigma_inv)\n",
        "\n",
        "best_theta_tilde = random.multivariate_normal(subkeys[4], mean = best_mu, cov = best_Sigma, shape = (1000,))\n",
        "best_alpha = (2 * jnp.exp(best_theta_tilde[:,0]) + 1.1) / (1 + jnp.exp(best_theta_tilde[:,0]))\n",
        "best_beta = (jnp.exp(best_theta_tilde[:,1]) - 1) / (jnp.exp(best_theta_tilde[:,1]) + 1)\n",
        "best_gamma = jnp.exp(best_theta_tilde[:,2])\n",
        "best_delta = best_theta_tilde[:,3]\n",
        "best_theta = jnp.array([best_alpha, best_beta, best_gamma, best_delta])\n",
        "posterior_mean_estimate_wg = jnp.mean(best_theta, axis = 1)"
      ]
    },
    {
      "cell_type": "code",
      "execution_count": null,
      "metadata": {
        "id": "FUpYUwEAb9IM"
      },
      "outputs": [],
      "source": [
        "best_lambda_mu = jnp.array([ 1.60884578,  1.95080609, -0.06379721,  0.05605712])\n",
        "best_lambda_l = jnp.array([  1.27092882,  0.08605892, -4.24377805,  1.95884102,  0.39900768,\n",
        "               0.69624605, -1.4211206 ,  9.27891274, -0.24456171,  5.41814743])\n",
        "best_mu = best_lambda_mu\n",
        "best_vech_l = list(best_lambda_l)\n",
        "best_l = jnp.zeros((num_coeffs, num_coeffs))\n",
        "for i in range(num_coeffs):\n",
        "    best_l = best_l.at[i:num_coeffs,i].set(best_vech_l[:num_coeffs - i])\n",
        "    del best_vech_l[:num_coeffs-i]\n",
        "best_Sigma_inv = best_l @ best_l.T\n",
        "best_Sigma =  my_inv(best_Sigma_inv)\n",
        "\n",
        "best_theta_tilde = random.multivariate_normal(subkeys[32], mean = best_mu, cov = best_Sigma, shape = (1000,))\n",
        "best_alpha = (2 * jnp.exp(best_theta_tilde[:,0]) + 1.1) / (1 + jnp.exp(best_theta_tilde[:,0]))\n",
        "best_beta = (jnp.exp(best_theta_tilde[:,1]) - 1) / (jnp.exp(best_theta_tilde[:,1]) + 1)\n",
        "best_gamma = jnp.exp(best_theta_tilde[:,2])\n",
        "best_delta = best_theta_tilde[:,3]\n",
        "best_theta = jnp.array([best_alpha, best_beta, best_gamma, best_delta])\n",
        "posterior_mean_estimate_rvbsl_wg = jnp.mean(best_theta, axis = 1)"
      ]
    },
    {
      "cell_type": "code",
      "execution_count": null,
      "metadata": {
        "id": "rbrSvro1Ga9-"
      },
      "outputs": [],
      "source": [
        "from sklearn.neighbors import KernelDensity\n",
        "\n",
        "plt.figure()\n",
        "x_plot = jnp.arange((np.mean(best_alpha)-4*np.std(best_alpha)), (np.mean(best_alpha)+4*np.std(best_alpha)), 0.002)\n",
        "kde = KernelDensity(bandwidth=0.01, kernel='gaussian')\n",
        "kde.fit(best_alpha.reshape(-1, 1))\n",
        "y_plot = kde.score_samples(x_plot.reshape(-1, 1))\n",
        "plt.plot(x_plot, np.exp(y_plot), '-', linewidth=2.0)\n",
        "plt.xlabel(r'$\\alpha$')\n",
        "plt.title('Posterior density of alpha')"
      ]
    },
    {
      "cell_type": "code",
      "execution_count": null,
      "metadata": {
        "id": "PANsmE4TGpLg"
      },
      "outputs": [],
      "source": [
        "plt.figure()\n",
        "x_plot = jnp.arange((np.mean(best_beta)-4*np.std(best_beta)), (np.mean(best_beta)+4*np.std(best_beta)), 0.002)\n",
        "kde = KernelDensity(bandwidth=0.1, kernel='gaussian')\n",
        "kde.fit(best_beta.reshape(-1, 1))\n",
        "y_plot = kde.score_samples(x_plot.reshape(-1, 1))\n",
        "plt.plot(x_plot, np.exp(y_plot), '-', linewidth=2.0)\n",
        "plt.xlabel(r'$\\beta$')\n",
        "plt.title('Posterior density of beta')"
      ]
    },
    {
      "cell_type": "code",
      "execution_count": null,
      "metadata": {
        "id": "HY4sgGhAGyiB"
      },
      "outputs": [],
      "source": [
        "plt.figure()\n",
        "x_plot = jnp.arange((np.mean(best_gamma)-4*np.std(best_gamma)), (np.mean(best_gamma)+4*np.std(best_gamma)), 0.002)\n",
        "kde = KernelDensity(bandwidth=0.05, kernel='gaussian')\n",
        "kde.fit(best_gamma.reshape(-1, 1))\n",
        "y_plot = kde.score_samples(x_plot.reshape(-1, 1))\n",
        "plt.plot(x_plot, np.exp(y_plot), '-', linewidth=2.0)\n",
        "plt.xlabel(r'$\\gamma$')\n",
        "plt.title('Posterior density of gamma')"
      ]
    },
    {
      "cell_type": "code",
      "execution_count": null,
      "metadata": {
        "id": "p8OmYxXOG3RN"
      },
      "outputs": [],
      "source": [
        "plt.figure()\n",
        "x_plot = jnp.arange((np.mean(best_delta)-4*np.std(best_delta)), (np.mean(best_delta)+4*np.std(best_delta)), 0.002)\n",
        "kde = KernelDensity(bandwidth=0.05, kernel='gaussian')\n",
        "kde.fit(best_delta.reshape(-1, 1))\n",
        "y_plot = kde.score_samples(x_plot.reshape(-1, 1))\n",
        "plt.plot(x_plot, np.exp(y_plot), '-', linewidth=1.5)\n",
        "plt.xlabel(r'$\\delta$')\n",
        "plt.title('Posterior density of delta')"
      ]
    }
  ],
  "metadata": {
    "accelerator": "GPU",
    "colab": {
      "provenance": []
    },
    "gpuClass": "standard",
    "kernelspec": {
      "display_name": "Python 3.7.11",
      "language": "python",
      "name": "python3"
    },
    "language_info": {
      "codemirror_mode": {
        "name": "ipython",
        "version": 3
      },
      "file_extension": ".py",
      "mimetype": "text/x-python",
      "name": "python",
      "nbconvert_exporter": "python",
      "pygments_lexer": "ipython3",
      "version": "3.9.16"
    },
    "vscode": {
      "interpreter": {
        "hash": "d1ea43ab9d17bb559e5232cc1d7d24428339cdd8b586c17a20f76ba563abd60e"
      }
    }
  },
  "nbformat": 4,
  "nbformat_minor": 0
}
