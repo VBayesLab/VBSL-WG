{
  "cells": [
    {
      "cell_type": "code",
      "execution_count": null,
      "metadata": {
        "id": "JRj0ESREKiwL"
      },
      "outputs": [],
      "source": [
        "import jax.numpy as jnp\n",
        "import numpy as np\n",
        "from jax import grad, jit, vmap\n",
        "from jax import random\n",
        "from functools import partial\n",
        "\n",
        "from numba import vectorize, float64, guvectorize, njit\n",
        "\n",
        "import time\n",
        "import math\n",
        "from tqdm import tqdm\n",
        "import sklearn.mixture\n",
        "import pandas as pd\n",
        "import matplotlib.pyplot as plt\n",
        "\n",
        "from jax.scipy.stats import multivariate_normal"
      ]
    },
    {
      "cell_type": "code",
      "execution_count": null,
      "metadata": {
        "id": "mlb0sWrlKiwP"
      },
      "outputs": [],
      "source": [
        "key = random.PRNGKey(68)\n",
        "key1 = random.PRNGKey(6898)\n",
        "key2 = random.PRNGKey(681998)\n",
        "subkeys = random.split(key, 5000)"
      ]
    },
    {
      "cell_type": "code",
      "execution_count": null,
      "metadata": {
        "id": "VVatRu0tKiwS"
      },
      "outputs": [],
      "source": [
        "# Generate data from stable distribution\n",
        "@partial(jit, static_argnames=['dataset_size','num_datasets'])\n",
        "def alpha_stable(alpha, beta, gamma, delta, dataset_size, num_datasets):\n",
        "    # V = jnp.pi / 2 * (2 * random.uniform(key, shape = (num_datasets, dataset_size)) - 1)\n",
        "    # W = - jnp.log(random.uniform(key1, shape = (num_datasets, dataset_size)))\n",
        "\n",
        "    V = jnp.pi / 2 * (2 * jnp.array(np.random.rand(num_datasets, dataset_size)) - 1)\n",
        "    W = - jnp.log(jnp.array(np.random.rand(num_datasets, dataset_size)))\n",
        "\n",
        "    const = beta * jnp.tan(jnp.pi * alpha / 2)\n",
        "    r1 = gamma * (((1 + const * const)**(1 / (2 * alpha))) * jnp.sin(alpha * V + jnp.arctan(const)) / ((jnp.cos(V)) ** (1/alpha)) * (( jnp.cos( (1-alpha) * V - jnp.arctan(const)) / W )**((1-alpha)/alpha))) + delta\n",
        "\n",
        "    r_immi = 2 / jnp.pi * ((jnp.pi / 2 + beta * V) * jnp.tan(V) - beta * jnp.log( (jnp.pi / 2 * W * jnp.cos(V) ) / (jnp.pi / 2 + beta * V) ))\n",
        "    r2 = gamma * r_immi + (2 / jnp.pi) * beta * gamma * jnp.log(gamma) + delta\n",
        "    return jnp.where(alpha !=1, r1, r2)"
      ]
    },
    {
      "cell_type": "code",
      "execution_count": null,
      "metadata": {
        "id": "oNxi_zC3KiwS"
      },
      "outputs": [],
      "source": [
        "true_theta = jnp.array([1.8, 0.5, 1, 0])"
      ]
    },
    {
      "cell_type": "code",
      "execution_count": null,
      "metadata": {
        "colab": {
          "base_uri": "https://localhost:8080/"
        },
        "id": "holDaKLSKiwT",
        "outputId": "dd2da969-385c-4934-8f89-7b0c7beb4a4f"
      },
      "outputs": [
        {
          "output_type": "execute_result",
          "data": {
            "text/plain": [
              "Array([[-6.51023090e-01,  2.80316496e+00, -5.65799296e-01,\n",
              "         1.13667119e+00, -2.49493480e+00,  1.52471334e-01,\n",
              "        -2.86155224e+00, -6.51684552e-02,  9.89797711e-02,\n",
              "         2.03409338e+00, -1.81722307e+00,  8.77892494e-01,\n",
              "        -8.78433585e-02, -6.24450505e-01,  5.24822414e-01,\n",
              "         1.22712064e+00,  3.26611591e-03,  1.76315367e+00,\n",
              "        -8.78052890e-01, -1.58867621e+00,  2.47820497e+00,\n",
              "        -5.82996666e-01, -7.45392561e-01, -7.06632912e-01,\n",
              "         9.66144875e-02,  8.10592234e-01,  7.59961486e-01,\n",
              "        -1.07780826e+00, -8.90909970e-01,  8.83660197e-01,\n",
              "         1.55529892e+00, -6.06026363e+00, -9.70722139e-02,\n",
              "         1.46112079e-03, -9.77768540e-01, -1.34737086e+00,\n",
              "        -2.19173884e+00,  4.56586391e-01,  6.48674607e-01,\n",
              "        -1.71806109e+00, -1.10160661e+00,  1.52150735e-01,\n",
              "        -4.10445184e-01,  2.99996042e+00, -1.99285102e+00,\n",
              "        -1.59662807e+00,  1.63915980e+00, -3.01410556e+00,\n",
              "         1.11522794e+00, -4.15791452e-01,  1.15523958e+00,\n",
              "        -2.10313463e+00,  6.30077422e-01,  1.53011250e+00,\n",
              "        -1.65215492e+00, -2.43543077e+00,  9.48283300e-02,\n",
              "        -1.11716509e+00, -7.60978520e-01, -7.32948899e-01,\n",
              "         4.80188429e-01,  1.19531512e+00,  1.77100754e+00,\n",
              "        -2.89429605e-01, -2.09735918e+00,  5.24439859e+00,\n",
              "         2.45295453e+00,  2.01173496e+00,  2.33554393e-02,\n",
              "        -8.44256997e-01,  7.74937198e-02,  2.34576559e+00,\n",
              "        -1.51977086e+00, -1.90097058e+00,  3.13004947e+00,\n",
              "        -1.86074197e+00,  7.03829885e-01, -2.63652414e-01,\n",
              "        -7.93440402e-01,  1.15051866e+00, -6.69034779e-01,\n",
              "        -9.57286954e-01, -2.18334228e-01, -7.14470506e-01,\n",
              "        -3.36276710e-01, -3.52381080e-01, -1.54816043e+00,\n",
              "        -2.13215923e+00, -2.22994864e-01,  2.73382688e+00,\n",
              "        -7.91896403e-01, -6.25047743e-01,  7.67052889e-01,\n",
              "        -1.00359607e+00,  1.17045438e+00, -1.13141492e-01,\n",
              "         4.14892626e+00,  1.04488158e+00,  1.41942668e+00,\n",
              "        -1.11358929e+00,  1.43000209e+00,  4.58577543e-01,\n",
              "        -1.19938374e+00,  5.18000937e+00, -8.75440717e-01,\n",
              "         8.84868622e-01, -1.40098289e-01, -1.44155300e+00,\n",
              "        -2.08798480e+00, -7.27483511e-01, -2.61367035e+00,\n",
              "        -6.59775674e-01,  9.69255447e-01, -7.43015170e-01,\n",
              "         1.21799052e+00,  9.55799639e-01,  1.77807128e+00,\n",
              "        -2.61225194e-01,  1.93388057e+00, -2.15726089e+00,\n",
              "        -1.13304114e+00,  9.14556503e-01, -1.44379389e+00,\n",
              "         1.61174059e+00,  1.59839237e+00, -2.18779355e-01,\n",
              "         1.93171501e+00,  5.19458532e-01,  5.11953473e-01,\n",
              "        -1.20144975e+00,  1.81918991e+00,  8.43281969e-02,\n",
              "        -1.19323587e+00, -9.19921756e-01,  4.28638645e-02,\n",
              "        -8.33254397e-01, -8.99306536e-01, -5.97074986e-01,\n",
              "        -1.14613605e+00,  1.38153946e+00, -1.01775777e+00,\n",
              "        -1.93785346e+00, -1.06528318e+00, -2.34678102e+00,\n",
              "         8.02473843e-01,  1.47571355e-01, -1.73456520e-01,\n",
              "        -1.58908284e+00, -2.99408865e+00,  9.79017496e-01,\n",
              "         1.24414968e+00, -1.13329816e+00,  2.59938180e-01,\n",
              "        -1.12137020e+00,  1.27080202e+00, -1.79290342e+00,\n",
              "         3.19760948e-01,  1.72767949e+00, -5.01631618e-01,\n",
              "         6.40336692e-01,  5.11488736e-01, -6.99601114e-01,\n",
              "        -1.62895012e+00,  3.53244059e-02, -1.04356565e-01,\n",
              "         7.76961517e+00, -1.99826155e-02, -8.19581211e-01,\n",
              "        -1.75616753e+00, -1.39265025e+00,  6.28229201e-01,\n",
              "         1.92444468e+00, -1.16432059e+00, -8.40243790e-03,\n",
              "         5.67062020e-01, -4.56519067e-01, -1.33454591e-01,\n",
              "        -2.63371766e-01,  1.45861432e-01,  1.25231290e+00,\n",
              "        -1.14755929e+00,  2.69343519e+00, -3.29971671e-01,\n",
              "        -2.72199184e-01,  2.22385859e+00,  1.24590623e+00,\n",
              "         1.22065449e+00, -1.54007435e+00, -1.57171345e+00,\n",
              "         1.42045367e+00,  6.12191319e-01,  1.07503819e+00,\n",
              "        -6.94571555e-01, -1.83747602e+00,  1.30565330e-01,\n",
              "         1.31742859e+00, -2.11455011e+00, -5.79639912e-01,\n",
              "        -6.40644789e-01,  1.23867130e+00]], dtype=float32)"
            ]
          },
          "metadata": {},
          "execution_count": 71
        }
      ],
      "source": [
        "actual_data = alpha_stable(true_theta[0], true_theta[1], true_theta[2], true_theta[3], 200, 1)\n",
        "actual_data"
      ]
    },
    {
      "cell_type": "code",
      "execution_count": null,
      "metadata": {
        "id": "NdPJrhkeKiwU"
      },
      "outputs": [],
      "source": [
        "# CALCULATE SUMMARY STATS\n",
        "@jit\n",
        "def alpha_stable_ss(data):\n",
        "  # Compute quantile statistics\n",
        "  v_stability = (jnp.percentile(data, 95) - jnp.percentile(data, 5)) / (jnp.percentile(data, 75) - jnp.percentile(data, 25))\n",
        "  v_skewness = (jnp.percentile(data, 95) + jnp.percentile(data, 5) - 2 * jnp.percentile(data, 50)) / (jnp.percentile(data, 95) - jnp.percentile(data, 5))\n",
        "  v_scale = (jnp.percentile(data, 75) - jnp.percentile(data, 25)) / 1\n",
        "  v_loc = jnp.mean(data)\n",
        "\n",
        "  # Define interpolation matrices (see [1])\n",
        "  tv_stability = jnp.array([2.439, 2.5, 2.6, 2.7, 2.8, 3.0, 3.2, 3.5, 4.0, 5.0, 6.0, 8.0, 10.0, 15.0, 25.0])\n",
        "  tv_skewness = jnp.array([0.0, 0.1, 0.2, 0.3, 0.5, 0.7, 1.0])\n",
        "  t_stability = jnp.array([2.0, 1.9, 1.8, 1.7, 1.6, 1.5, 1.4, 1.3, 1.2, 1.1, 1.0, 0.9, 0.8, 0.7, 0.6, 0.5])\n",
        "  t_skewness = jnp.array([0.0, 0.25, 0.5, 0.75, 1.0])\n",
        "\n",
        "  psi1 = jnp.array([[2.000, 2.000, 2.000, 2.000, 2.000, 2.000, 2.000],\n",
        "    [1.916, 1.924, 1.924, 1.924, 1.924, 1.924, 1.924],\n",
        "    [1.808, 1.813, 1.829, 1.829, 1.829, 1.829, 1.829],\n",
        "    [1.729, 1.730, 1.737, 1.745, 1.745, 1.745, 1.745],\n",
        "    [1.664, 1.663, 1.663, 1.668, 1.676, 1.676, 1.676],\n",
        "    [1.563, 1.560, 1.553, 1.548, 1.547, 1.547, 1.547],\n",
        "    [1.484, 1.480, 1.471, 1.460, 1.448, 1.438, 1.438],\n",
        "    [1.391, 1.386, 1.378, 1.364, 1.337, 1.318, 1.318],\n",
        "    [1.279, 1.273, 1.266, 1.250, 1.210, 1.184, 1.150],\n",
        "    [1.128, 1.121, 1.114, 1.101, 1.067, 1.027, 0.973],\n",
        "    [1.029, 1.021, 1.014, 1.004, 0.974, 0.935, 0.874],\n",
        "    [0.896, 0.892, 0.887, 0.883, 0.855, 0.823, 0.769],\n",
        "    [0.818, 0.812, 0.806, 0.801, 0.780, 0.756, 0.691],\n",
        "    [0.698, 0.695, 0.692, 0.689, 0.676, 0.656, 0.595],\n",
        "    [0.593, 0.590, 0.588, 0.586, 0.579, 0.563, 0.513]])\n",
        "\n",
        "  psi2 = jnp.array([[0.000, 2.160, 1.000, 1.000, 1.000, 1.000, 1.000],\n",
        "    [0.000, 1.592, 3.390, 1.000, 1.000, 1.000, 1.000],\n",
        "    [0.000, 0.759, 1.800, 1.000, 1.000, 1.000, 1.000],\n",
        "    [0.000, 0.482, 1.048, 1.694, 1.000, 1.000, 1.000],\n",
        "    [0.000, 0.360, 0.760, 1.232, 2.229, 1.000, 1.000],\n",
        "    [0.000, 0.253, 0.518, 0.823, 1.575, 1.000, 1.000],\n",
        "    [0.000, 0.203, 0.410, 0.632, 1.244, 1.906, 1.000],\n",
        "    [0.000, 0.165, 0.332, 0.499, 0.943, 1.560, 1.000],\n",
        "    [0.000, 0.136, 0.271, 0.404, 0.689, 1.230, 2.195],\n",
        "    [0.000, 0.109, 0.216, 0.323, 0.539, 0.827, 1.917],\n",
        "    [0.000, 0.096, 0.190, 0.284, 0.472, 0.693, 1.759],\n",
        "    [0.000, 0.082, 0.163, 0.243, 0.412, 0.601, 1.596],\n",
        "    [0.000, 0.074, 0.147, 0.220, 0.377, 0.546, 1.482],\n",
        "    [0.000, 0.064, 0.128, 0.191, 0.330, 0.478, 1.362],\n",
        "    [0.000, 0.056, 0.112, 0.167, 0.285, 0.428, 1.274]])\n",
        "\n",
        "  psi3 = jnp.array([[1.908, 1.908, 1.908, 1.908, 1.908],\n",
        "    [1.914, 1.915, 1.916, 1.918, 1.921],\n",
        "    [1.921, 1.922, 1.927, 1.936, 1.947],\n",
        "    [1.927, 1.930, 1.943, 1.961, 1.987],\n",
        "    [1.933, 1.940, 1.962, 1.997, 2.043],\n",
        "    [1.939, 1.952, 1.988, 2.045, 2.116],\n",
        "    [1.946, 1.967, 2.022, 2.106, 2.211],\n",
        "    [1.955, 1.984, 2.067, 2.188, 2.333],\n",
        "    [1.965, 2.007, 2.125, 2.294, 2.491],\n",
        "    [1.980, 2.040, 2.205, 2.435, 2.696],\n",
        "    [2.000, 2.085, 2.311, 2.624, 2.973],\n",
        "    [2.040, 2.149, 2.461, 2.886, 3.356],\n",
        "    [2.098, 2.244, 2.676, 3.265, 3.912],\n",
        "    [2.189, 2.392, 3.004, 3.844, 4.775],\n",
        "    [2.337, 2.635, 3.542, 4.808, 6.247],\n",
        "    [2.588, 3.073, 4.534, 6.636, 9.144]])\n",
        "\n",
        "\n",
        "  psi4 = jnp.array([[0.0,    0.0,    0.0,    0.0,  0.0],\n",
        "    [0.0, -0.017, -0.032, -0.049, -0.064],\n",
        "    [0.0, -0.030, -0.061, -0.092, -0.123],\n",
        "    [0.0, -0.043, -0.088, -0.132, -0.179],\n",
        "    [0.0, -0.056, -0.111, -0.170, -0.232],\n",
        "    [0.0, -0.066, -0.134, -0.206, -0.283],\n",
        "    [0.0, -0.075, -0.154, -0.241, -0.335],\n",
        "    [0.0, -0.084, -0.173, -0.276, -0.390],\n",
        "    [0.0, -0.090, -0.192, -0.310, -0.447],\n",
        "    [0.0, -0.095, -0.208, -0.346, -0.508],\n",
        "    [0.0, -0.098, -0.223, -0.383, -0.576],\n",
        "    [0.0, -0.099, -0.237, -0.424, -0.652],\n",
        "    [0.0, -0.096, -0.250, -0.469, -0.742],\n",
        "    [0.0, -0.089, -0.262, -0.520, -0.853],\n",
        "    [0.0, -0.078, -0.272, -0.581, -0.997],\n",
        "    [0.0, -0.061, -0.279, -0.659, -1.198]])\n",
        "\n",
        "  tv_stability_i1 = jnp.max(jnp.append(0, jnp.argwhere(tv_stability <= v_stability, size=len(tv_stability), fill_value=0)))\n",
        "  tv_stability_i2 = jnp.min(jnp.append(14, jnp.argwhere(tv_stability >= v_stability, size=len(tv_stability), fill_value=14)))\n",
        "  tv_skewness_i1 = jnp.max(jnp.append(0, jnp.argwhere(tv_skewness <= jnp.abs(v_skewness), size=len(tv_skewness), fill_value=0)))\n",
        "  tv_skewness_i2 = jnp.min(jnp.append(6, jnp.argwhere(tv_skewness >= jnp.abs(v_skewness), size=len(tv_skewness), fill_value=6)))\n",
        "\n",
        "  dist_stability_tv = tv_stability[tv_stability_i2] - tv_stability[tv_stability_i1]\n",
        "\n",
        "  dist_stability = jnp.where(dist_stability_tv != 0, (v_stability - tv_stability[tv_stability_i1]) / dist_stability_tv, dist_stability_tv)\n",
        "\n",
        "  dist_skewness_tv = tv_skewness[tv_skewness_i2] - tv_skewness[tv_skewness_i1]\n",
        "\n",
        "  dist_skewness = jnp.where(dist_skewness_tv != 0, (jnp.abs(v_skewness) - tv_skewness[tv_skewness_i1]) / dist_skewness_tv, dist_skewness_tv)\n",
        "\n",
        "  psi1b1 = dist_stability*psi1[tv_stability_i2,tv_skewness_i1]+(1-dist_stability)*psi1[tv_stability_i1,tv_skewness_i1]\n",
        "  psi1b2 = dist_stability*psi1[tv_stability_i2,tv_skewness_i2]+(1-dist_stability)*psi1[tv_stability_i1,tv_skewness_i2]\n",
        "  alpha = dist_skewness*psi1b2+(1-dist_skewness)*psi1b1\n",
        "  psi2b1 = dist_stability*psi2[tv_stability_i2,tv_skewness_i1]+(1-dist_stability)*psi2[tv_stability_i1,tv_skewness_i1]\n",
        "  psi2b2 = dist_stability*psi2[tv_stability_i2,tv_skewness_i2]+(1-dist_stability)*psi2[tv_stability_i1,tv_skewness_i2]\n",
        "  beta = jnp.sign(v_skewness)*(dist_skewness*psi2b2+(1-dist_skewness)*psi2b1)\n",
        "  t_stability_i1 = jnp.max(jnp.append(0, jnp.argwhere(t_stability >= alpha, size=len(t_stability), fill_value=0)))\n",
        "  t_stability_i2 = jnp.min(jnp.append(15, jnp.argwhere(t_stability <= alpha, size=len(t_stability), fill_value=15)))\n",
        "  t_skewness_i1 = jnp.max(jnp.append(0, jnp.argwhere(t_skewness <= jnp.abs(beta),size=len(t_skewness), fill_value=0)))\n",
        "  t_skewness_i2 = jnp.min(jnp.append(4, jnp.argwhere(t_skewness >= jnp.abs(beta),size=len(t_skewness), fill_value=4)))\n",
        "\n",
        "  dist_stability_t = t_stability[t_stability_i2] - t_stability[t_stability_i1]\n",
        "\n",
        "  dist_stability = jnp.where(dist_stability_t != 0, (alpha - t_stability[t_stability_i1]) / dist_stability_t, dist_stability_t)\n",
        "\n",
        "  dist_skewness_t = t_skewness[t_skewness_i2] - t_skewness[t_skewness_i1]\n",
        "\n",
        "  dist_skewness = jnp.where(dist_skewness_t != 0, (jnp.abs(beta) - t_skewness[t_skewness_i1]) / dist_skewness, dist_skewness_t)\n",
        "\n",
        "  psi3b1 = dist_stability*psi3[t_stability_i2,t_skewness_i1]+(1-dist_stability)*psi3[t_stability_i1,t_skewness_i1]\n",
        "  psi3b2 = dist_stability*psi3[t_stability_i2,t_skewness_i2]+(1-dist_stability)*psi3[t_stability_i1,t_skewness_i2]\n",
        "  sigma = v_scale/(dist_skewness*psi3b2+(1-dist_skewness)*psi3b1)\n",
        "  psi4b1 = dist_stability*psi4[t_stability_i2,t_skewness_i1]+(1-dist_stability)*psi4[t_stability_i1,t_skewness_i1]\n",
        "  psi4b2 = dist_stability*psi4[t_stability_i2,t_skewness_i2]+(1-dist_stability)*psi4[t_stability_i1,t_skewness_i2]\n",
        "  zeta = jnp.sign(beta)*sigma*(dist_skewness*psi4b2+(1-dist_skewness)*psi4b1) + jnp.percentile(data, 50)\n",
        "\n",
        "  mu = jnp.where(jnp.abs(alpha-1) < 0.05, zeta, zeta - beta * sigma * jnp.tan(0.5 * jnp.pi *alpha))\n",
        "\n",
        "  return jnp.array([alpha, beta, sigma, mu]) #stability, skewness, scale, loc"
      ]
    },
    {
      "cell_type": "code",
      "execution_count": null,
      "metadata": {
        "colab": {
          "base_uri": "https://localhost:8080/"
        },
        "id": "_0fbRmjNKiwX",
        "outputId": "c3461537-bc48-4cd7-8c32-b5766982e598"
      },
      "outputs": [
        {
          "output_type": "execute_result",
          "data": {
            "text/plain": [
              "Array([ 2.        ,  1.7160022 ,  1.0692402 , -0.15677758], dtype=float32)"
            ]
          },
          "metadata": {},
          "execution_count": 73
        }
      ],
      "source": [
        "actual_summary_statistics = alpha_stable_ss(actual_data)\n",
        "actual_summary_statistics"
      ]
    },
    {
      "cell_type": "code",
      "execution_count": null,
      "metadata": {
        "id": "jY2lmDilKiwY"
      },
      "outputs": [],
      "source": [
        "num_coeffs = 4\n",
        "n_samples = 200\n",
        "num_datasets = 200\n",
        "lambda_dim = num_coeffs + int((num_coeffs * (num_coeffs + 1)) / 2)\n",
        "tau = 0.01"
      ]
    },
    {
      "cell_type": "code",
      "execution_count": null,
      "metadata": {
        "id": "z2b_Eg-IKiwa"
      },
      "outputs": [],
      "source": [
        "def my_inv(x):\n",
        "    return jnp.linalg.inv(x + (jnp.eye(x.shape[0]) * 1e-7))"
      ]
    },
    {
      "cell_type": "markdown",
      "metadata": {
        "id": "PT8yb6QWKiwc"
      },
      "source": [
        "## Training Wasserstein Gaussianing"
      ]
    },
    {
      "cell_type": "code",
      "execution_count": null,
      "metadata": {
        "id": "PPwqwz4c4cv-"
      },
      "outputs": [],
      "source": [
        "def radial_flow(Lambda, x):\n",
        "    # original_x = x\n",
        "    d_Lambda = 2 + num_coeffs\n",
        "    logdet_jacob_T_x = 0\n",
        "    for k in range(num_layers):\n",
        "        # print(k)\n",
        "        Lambda_k = Lambda[k * d_Lambda : (k + 1) * d_Lambda]\n",
        "        alpha = jnp.exp(Lambda_k[0])\n",
        "        beta = -alpha + jnp.exp(Lambda_k[1])\n",
        "        # beta = tau * beta\n",
        "        mu = Lambda_k[2:]\n",
        "        # r_x = jnp.linalg.norm(x - mu)\n",
        "        r_x = jnp.sqrt(jnp.dot((x - mu).T, (x - mu)))\n",
        "        x = x + beta / (alpha + r_x) * (x - mu)\n",
        "        logdet_jacob_T_x += jnp.log(1 + alpha * beta / (alpha + r_x)**2) + (num_coeffs - 1) * jnp.log(1 + beta / (alpha + r_x))\n",
        "        # f = - logdet_jacob_T_x + 1/2 * T_x.T @ T_x + 1/(2*0.1) * (jnp.linalg.norm(x - T_x))**2\n",
        "    return x, logdet_jacob_T_x"
      ]
    },
    {
      "cell_type": "code",
      "execution_count": null,
      "metadata": {
        "id": "Co8J0g-44jM7"
      },
      "outputs": [],
      "source": [
        "num_layers = 16\n",
        "transform_auto = vmap(radial_flow, in_axes=[None, 0])"
      ]
    },
    {
      "cell_type": "code",
      "execution_count": null,
      "metadata": {
        "id": "KYtyNAOv3uPJ"
      },
      "outputs": [],
      "source": [
        "# Load the StandardScaler object from the file\n",
        "scaler_mean = jnp.array([ 1.784694  ,  0.27824003,  0.9510488 , -0.01731754])\n",
        "scaler_std = jnp.array([0.25932005, 1.0832056 , 0.21727835, 0.4373173 ])\n",
        "Lambda_list = np.load('Lambda_list_alpha.npy', allow_pickle=True)"
      ]
    },
    {
      "cell_type": "code",
      "execution_count": null,
      "metadata": {
        "id": "UkKiOfEJku7Y"
      },
      "outputs": [],
      "source": [
        "# Load the StandardScaler object from the file\n",
        "def nf_transform(Lambda_list, n_summary_statistics):\n",
        "    n_summary_statistics = (n_summary_statistics - scaler_mean) / scaler_std\n",
        "    for i in range(len(Lambda_list)):\n",
        "        n_summary_statistics = transform_auto(Lambda_list[i], n_summary_statistics)[0]\n",
        "    return n_summary_statistics"
      ]
    },
    {
      "cell_type": "code",
      "execution_count": null,
      "metadata": {
        "colab": {
          "base_uri": "https://localhost:8080/"
        },
        "id": "6m5mT297ku7Z",
        "outputId": "95e18cc1-dd14-4406-d4ff-f67e790b5bf6"
      },
      "outputs": [
        {
          "output_type": "execute_result",
          "data": {
            "text/plain": [
              "Array([[0.5573417 , 1.348927  , 0.05647689, 0.08994504]], dtype=float32)"
            ]
          },
          "metadata": {},
          "execution_count": 80
        }
      ],
      "source": [
        "## Transform actual data\n",
        "transformed_actual_summary_statistics = nf_transform(Lambda_list, jnp.reshape(actual_summary_statistics, (1, len(actual_summary_statistics))))\n",
        "transformed_actual_summary_statistics"
      ]
    },
    {
      "cell_type": "markdown",
      "metadata": {
        "id": "K3Xxk8PIKiwx"
      },
      "source": [
        "## FIND THE BEST THETA (COEFFICIENTS) USING VB"
      ]
    },
    {
      "cell_type": "code",
      "execution_count": null,
      "metadata": {
        "id": "6Bf5IHTcKiwx"
      },
      "outputs": [],
      "source": [
        "def summary_statistics(theta, n_samples, n_datasets):\n",
        "    datasets = alpha_stable(theta[0], theta[1], theta[2], theta[3], n_samples, n_datasets)\n",
        "    n_summary_statistics = jnp.array([alpha_stable_ss(datasets[i,:]) for i in range(n_datasets)])\n",
        "\n",
        "    # Wasserstein transform\n",
        "    transformed_summary_statistics = nf_transform(Lambda_list, n_summary_statistics)\n",
        "\n",
        "    sample_mean = jnp.mean(transformed_summary_statistics, axis = 0)\n",
        "    cov = jnp.cov(transformed_summary_statistics.T)\n",
        "    sample_variance = cov + (jnp.eye(cov.shape[0]) * 1e-7)\n",
        "    return sample_mean, sample_variance"
      ]
    },
    {
      "cell_type": "code",
      "execution_count": null,
      "metadata": {
        "id": "7VuIT2xuKiwz"
      },
      "outputs": [],
      "source": [
        "@jit\n",
        "def prior(theta):\n",
        "    log_prior = multivariate_normal.logpdf(theta, mean = jnp.array([0] * num_coeffs), cov= 10 * jnp.identity(num_coeffs))\n",
        "    return log_prior"
      ]
    },
    {
      "cell_type": "code",
      "execution_count": null,
      "metadata": {
        "id": "a6vVPAJPKiwz"
      },
      "outputs": [],
      "source": [
        "def unbiased_log_likelihood(theta, actual_summary_statistics, n_samples, num_datasets):\n",
        "    sample_mean = summary_statistics(theta, n_samples, num_datasets)[0]\n",
        "    sample_variance = summary_statistics(theta, n_samples, num_datasets)[1]\n",
        "    # u_est_log_likelihood = multivariate_normal.logpdf(actual_summary_statistics, mean = sample_mean, cov= sample_variance)\n",
        "\n",
        "    diff_mean_s = actual_summary_statistics - sample_mean\n",
        "    part1 = diff_mean_s.T @ jnp.linalg.solve(sample_variance, diff_mean_s)\n",
        "    u_est_log_likelihood = -1/2 * jnp.linalg.slogdet(sample_variance)[1] -1/2 * part1\n",
        "\n",
        "    return u_est_log_likelihood"
      ]
    },
    {
      "cell_type": "code",
      "execution_count": null,
      "metadata": {
        "id": "_Ac7mW0mKiwz"
      },
      "outputs": [],
      "source": [
        "@jit\n",
        "def fun_log_q(theta, mu, l):\n",
        "    log_q = multivariate_normal.logpdf(theta, mean = mu, cov= jnp.linalg.solve((l @ l.T), jnp.eye((l @ l.T).shape[0])))\n",
        "    return log_q"
      ]
    },
    {
      "cell_type": "code",
      "execution_count": null,
      "metadata": {
        "id": "zSc2UdUaKiw0"
      },
      "outputs": [],
      "source": [
        "@partial(jit, static_argnames=['num_coeffs'])\n",
        "def gradient_log_q(theta, mu, l, num_coeffs): #indep theta\n",
        "    gradient_log_q_mu = l @ l.T @ (theta - mu)\n",
        "    # gradient_log_q_l = (np.diag(np.linalg.inv(l)) - np.matmul(((np.reshape(theta - mu, (num_coeffs,1))) * theta - mu), l)).T[np.triu_indices(num_coeffs)] #use * because matmul gives scalar\n",
        "    diag_inv_l = jnp.zeros_like(l, shape=(num_coeffs,num_coeffs)).at[jnp.diag_indices_from(l)].set(jnp.diag(l))\n",
        "    gradient_log_q_l = (diag_inv_l - jnp.reshape(theta - mu, (num_coeffs,1)) @ jnp.reshape(theta - mu, (1,num_coeffs)) @ l).T[jnp.triu_indices(num_coeffs)] #use * because matmul gives scalar\n",
        "    return gradient_log_q_mu, gradient_log_q_l"
      ]
    },
    {
      "cell_type": "code",
      "execution_count": null,
      "metadata": {
        "id": "qjJE2Za_Kiw1"
      },
      "outputs": [],
      "source": [
        "@jit\n",
        "def control_variates(Flat_grad_log_q, Flat_grad_lb):\n",
        "    c = []\n",
        "    stacked_gradient_lb = jnp.stack(Flat_grad_lb)\n",
        "    stacked_gradient_log_q = jnp.stack(Flat_grad_log_q)\n",
        "    for i in range(lambda_dim):\n",
        "        sample_cov = jnp.cov(stacked_gradient_lb[:, i], stacked_gradient_log_q[:, i])\n",
        "        c_i = sample_cov[0, 1] / sample_cov[1, 1]\n",
        "        c.append(c_i)\n",
        "    c_mu = jnp.array(c[0:num_coeffs])\n",
        "    c_vech_l = jnp.array(c[num_coeffs:])\n",
        "    return c_mu, c_vech_l"
      ]
    },
    {
      "cell_type": "code",
      "execution_count": null,
      "metadata": {
        "id": "YRYnnBu1Kiw2"
      },
      "outputs": [],
      "source": [
        "class GVB:\n",
        "    def __init__(self, samples, actual_summary_statistics, learning_rate, threshold, l_threshold, adaptive_lr_1, adaptive_lr_2, t_w, Patience):\n",
        "        self.samples = samples\n",
        "        self.actual_summary_statistics = actual_summary_statistics\n",
        "        self.num_coeffs = len(true_theta) # number of coeffs\n",
        "        self.learning_rate = learning_rate\n",
        "        self.threshold = threshold\n",
        "        self.l_threshold = l_threshold\n",
        "        self.adaptive_lr_1 = adaptive_lr_1\n",
        "        self.adaptive_lr_2 = adaptive_lr_2\n",
        "        self.t_w = t_w\n",
        "        self.Patience = Patience\n",
        "\n",
        "    def fun_gradient_lb(self, theta_tilde_q, mu_q, l_q, c_mu, c_l):\n",
        "        # Calculate theta from mu, l (lambda)\n",
        "        alpha_q = (2 * jnp.exp(theta_tilde_q[0]) + 1.1) / (1 + jnp.exp(theta_tilde_q[0]))\n",
        "        beta_q = (jnp.exp(theta_tilde_q[1]) - 1) / (jnp.exp(theta_tilde_q[1]) + 1)\n",
        "        gamma_q = jnp.exp(theta_tilde_q[2])\n",
        "        delta_q = theta_tilde_q[3]\n",
        "        theta_q = jnp.array([alpha_q, beta_q, gamma_q, delta_q])\n",
        "\n",
        "        # Find gradient of LB\n",
        "        llh = unbiased_log_likelihood(theta_q, self.actual_summary_statistics, n_samples, num_datasets)\n",
        "        h_lambda = prior(theta_tilde_q) + llh - fun_log_q(theta_tilde_q, mu_q, l_q)\n",
        "\n",
        "        # Find gradient of LB\n",
        "        grad_log_q_mu, grad_log_q_l = gradient_log_q(theta_tilde_q, mu_q, l_q, num_coeffs)\n",
        "        gradient_lb_mu = grad_log_q_mu * (h_lambda - c_mu)\n",
        "        gradient_lb_l = grad_log_q_l * (h_lambda - c_l)\n",
        "        # Calculate control variates\n",
        "        flattened_gradient_log_q = jnp.concatenate((grad_log_q_mu, grad_log_q_l), axis = None)\n",
        "        flattened_gradient_lb = jnp.concatenate((gradient_lb_mu, gradient_lb_l), axis = None)\n",
        "\n",
        "        return gradient_lb_mu, gradient_lb_l, h_lambda, flattened_gradient_log_q, flattened_gradient_lb\n",
        "\n",
        "    def vb_posterior(self, stop):\n",
        "        # Initialize mu_0, L_0\n",
        "        # mu_0 = np.array([np.log((self.actual_summary_statistics[0]-1.1)/(2-self.actual_summary_statistics[0])), np.log((1+self.actual_summary_statistics[1])/(1-self.actual_summary_statistics[1])), np.log(self.actual_summary_statistics[2]), self.actual_summary_statistics[3]])\n",
        "        #mu_0 = np.array([1.5, 0.5, 3, 0])\n",
        "        mu_0 = jnp.array([jnp.log((1.8-1.1)/(2-1.8)),jnp.log((0.5+1)/(1-0.5)),jnp.log(1),0])\n",
        "        #mu_0 = np.array([self.actual_summary_statistics[0], self.actual_summary_statistics[1], self.actual_summary_statistics[2], self.actual_summary_statistics[3]])\n",
        "        # mu_0 = np.array([0] * self.num_coeffs)\n",
        "        l_0 = jnp.tril(jnp.identity(self.num_coeffs) * 10)\n",
        "        Sigma_0_inv = l_0 @ l_0.T\n",
        "        Sigma_0 = jnp.linalg.solve(Sigma_0_inv, jnp.eye(Sigma_0_inv.shape[0]))\n",
        "        ### Change ways to get vech(l0)\n",
        "        vech_l0 = l_0.T[jnp.triu_indices(self.num_coeffs)]\n",
        "\n",
        "        # Initilize best lambda\n",
        "        lambda_best_mu = mu_0\n",
        "        lambda_best_l = vech_l0\n",
        "        # List of calculations of LB\n",
        "        LB_all = []\n",
        "        LB_Smoothed = []\n",
        "        Lambda_q_mu = []\n",
        "        Lambda_q_l = []\n",
        "        patience = 0\n",
        "        # List of flattened gradients\n",
        "        Flattened_gradient_lb = []\n",
        "        Flattened_gradient_log_q = []\n",
        "\n",
        "        func_auto = vmap(self.fun_gradient_lb, in_axes=[0, None, None, None, None])\n",
        "\n",
        "        for t in tqdm(range(stop)):\n",
        "            if t == 0:\n",
        "                # Draw samples of theta from  variational q\n",
        "                # List of gradients\n",
        "                theta_0_samples = random.multivariate_normal(subkeys[t], mean = mu_0, cov = Sigma_0, shape = (self.samples,))\n",
        "                gradient_lb_mu_0, gradient_lb_l_0, lb_0, Flattened_gradient_log_q, Flattened_gradient_lb = func_auto(theta_0_samples, mu_0, l_0, 0, 0)\n",
        "                # Calculate control variates using all samples\n",
        "                c_mu, c_vech_l = control_variates(Flattened_gradient_log_q, Flattened_gradient_lb)\n",
        "                # Update lambda_q\n",
        "                self.g_mu_init = jnp.mean(gradient_lb_mu_0, axis = 0)\n",
        "                self.g_vech_l_init = jnp.mean(gradient_lb_l_0, axis = 0)\n",
        "                # Gradient clipping\n",
        "                if jnp.linalg.norm(jnp.concatenate((self.g_mu_init, self.g_vech_l_init), axis = None)) > self.l_threshold:\n",
        "                    self.g_mu_init = self.l_threshold * self.g_mu_init / jnp.linalg.norm(jnp.concatenate((self.g_mu_init, self.g_vech_l_init), axis = None))\n",
        "                    self.g_vech_l_init = self.l_threshold * self.g_vech_l_init / jnp.linalg.norm(jnp.concatenate((self.g_mu_init, self.g_vech_l_init), axis = None))\n",
        "                self.v_mu_init = self.g_mu_init ** 2\n",
        "                self.v_vech_l_init = self.g_vech_l_init ** 2\n",
        "                # Calculate lower bound\n",
        "                LB_all.append(jnp.mean(lb_0))\n",
        "                print('LB', (jnp.mean(lb_0)))\n",
        "                lambda_q_mu = mu_0\n",
        "                lambda_q_l = vech_l0\n",
        "                Lambda_q_mu.append(lambda_q_mu)\n",
        "                Lambda_q_l.append(lambda_q_l)\n",
        "\n",
        "            if t > 0:\n",
        "                # From lambda_q find mu_q and L_q\n",
        "                mu_q = lambda_q_mu\n",
        "\n",
        "                ### Change ways to convert from vech_l0 to l0\n",
        "                vech_lq = list(lambda_q_l)\n",
        "                l_q = jnp.zeros((self.num_coeffs, self.num_coeffs))\n",
        "                # l_q[:, 0] = lambda_q[1][0:self.num_coeffs]\n",
        "                # l_q[1:self.num_coeffs, 1] = lambda_q[1][4:7]\n",
        "                # l_q[2:self.num_coeffs, 2] = lambda_q[1][7:9]\n",
        "                # l_q[3:self.num_coeffs, 3] = lambda_q[1][9:10]\n",
        "                for i in range(self.num_coeffs):\n",
        "                    l_q = l_q.at[i:self.num_coeffs,i].set(vech_lq[:self.num_coeffs - i])\n",
        "                    del vech_lq[:self.num_coeffs-i]\n",
        "\n",
        "                Sigma_q_inv = l_q @ l_q.T\n",
        "                Sigma_q =  jnp.linalg.solve(Sigma_q_inv, jnp.eye(Sigma_q_inv.shape[0]))\n",
        "                l_q_inv =  jnp.linalg.solve(l_q, jnp.eye(l_q.shape[0]))\n",
        "                # List of gradients\n",
        "                Gradient_lb = []\n",
        "                lb_t = []\n",
        "                theta_q_samples = random.multivariate_normal(subkeys[t], mean = mu_q, cov = Sigma_q, shape = (self.samples,))\n",
        "                gradient_lb_mu, gradient_lb_l, lb_t, Flattened_gradient_log_q, Flattened_gradient_lb = func_auto(theta_q_samples, mu_q, l_q, c_mu, c_vech_l)\n",
        "\n",
        "                # Update control variates\n",
        "                c_mu, c_vech_l = control_variates(Flattened_gradient_log_q, Flattened_gradient_lb)\n",
        "                # Update lambda_q\n",
        "                g_mu_t = jnp.mean(gradient_lb_mu, axis = 0)\n",
        "                g_vech_l_t = jnp.mean(gradient_lb_l, axis = 0)\n",
        "                # Gradient clipping\n",
        "                if jnp.linalg.norm(jnp.concatenate((g_mu_t, g_vech_l_t), axis = None)) > self.l_threshold:\n",
        "                    g_mu_t = self.l_threshold * g_mu_t / jnp.linalg.norm(jnp.concatenate((g_mu_t, g_vech_l_t), axis = None))\n",
        "                    g_vech_l_t = self.l_threshold * g_vech_l_t / jnp.linalg.norm(jnp.concatenate((g_mu_t, g_vech_l_t), axis = None))\n",
        "                v_mu_t = g_mu_t ** 2\n",
        "                v_vech_l_t = g_vech_l_t ** 2\n",
        "                #---- Update lambda\n",
        "                self.g_mu_init = self.adaptive_lr_1 * self.g_mu_init + (1 - self.adaptive_lr_1) * g_mu_t\n",
        "                self.g_vech_l_init = self.adaptive_lr_1 * self.g_vech_l_init + (1 - self.adaptive_lr_1) * g_vech_l_t\n",
        "\n",
        "                self.v_mu_init = self.adaptive_lr_2 * self.v_mu_init + (1 - self.adaptive_lr_2) * v_mu_t\n",
        "                self.v_vech_l_init = self.adaptive_lr_2 * self.v_vech_l_init + (1 - self.adaptive_lr_2) * v_vech_l_t\n",
        "\n",
        "                if t >= self.threshold:\n",
        "                    update_t = self.learning_rate * self.threshold / t\n",
        "                else:\n",
        "                    update_t = self.learning_rate\n",
        "\n",
        "                lambda_q_mu = lambda_q_mu + update_t * self.g_mu_init / (self.v_mu_init ** 0.5)\n",
        "                lambda_q_l = lambda_q_l + update_t * self.g_vech_l_init / (self.v_vech_l_init ** 0.5)\n",
        "                Lambda_q_mu.append(lambda_q_mu)\n",
        "                Lambda_q_l.append(lambda_q_l)\n",
        "                # Calculate lower bound\n",
        "                LB_all.append(jnp.mean(lb_t))\n",
        "\n",
        "                if t < self.t_w:\n",
        "                    print('LB', jnp.mean(lb_t))\n",
        "\n",
        "                if t >= self.t_w:\n",
        "                    LB_smoothed = jnp.mean(jnp.array(LB_all[t - self.t_w + 1 : t]))\n",
        "                    print('LB Smoothed', LB_smoothed)\n",
        "                    LB_Smoothed.append(LB_smoothed)\n",
        "                    if LB_smoothed >= jnp.max(jnp.array(LB_Smoothed)):\n",
        "                        patience = 0\n",
        "                        lambda_best_mu = lambda_q_mu\n",
        "                        lambda_best_l = lambda_q_l\n",
        "                    else:\n",
        "                        patience += 1\n",
        "                        if patience > self.Patience:\n",
        "                            print(\"Stop at\", t)\n",
        "                            break\n",
        "\n",
        "        return LB_all, LB_Smoothed, lambda_best_mu, lambda_best_l"
      ]
    },
    {
      "cell_type": "code",
      "execution_count": null,
      "metadata": {
        "id": "H_Pr_b2jKiw3"
      },
      "outputs": [],
      "source": [
        "# Set hyperparameters\n",
        "stop = 4000"
      ]
    },
    {
      "cell_type": "code",
      "execution_count": null,
      "metadata": {
        "colab": {
          "base_uri": "https://localhost:8080/"
        },
        "id": "-oMkj0zoKiw4",
        "outputId": "07fbdaa7-7fb4-4838-b03c-69b307b16df0"
      },
      "outputs": [
        {
          "output_type": "stream",
          "name": "stderr",
          "text": [
            "  0%|          | 1/4000 [00:29<32:36:53, 29.36s/it]"
          ]
        },
        {
          "output_type": "stream",
          "name": "stdout",
          "text": [
            "LB -12.687734\n"
          ]
        },
        {
          "output_type": "stream",
          "name": "stderr",
          "text": [
            "\r  0%|          | 2/4000 [00:52<28:28:14, 25.64s/it]"
          ]
        },
        {
          "output_type": "stream",
          "name": "stdout",
          "text": [
            "LB -12.785828\n"
          ]
        },
        {
          "output_type": "stream",
          "name": "stderr",
          "text": [
            "\r  0%|          | 3/4000 [01:14<26:48:21, 24.14s/it]"
          ]
        },
        {
          "output_type": "stream",
          "name": "stdout",
          "text": [
            "LB -13.199465\n"
          ]
        },
        {
          "output_type": "stream",
          "name": "stderr",
          "text": [
            "\r  0%|          | 4/4000 [01:38<26:28:09, 23.85s/it]"
          ]
        },
        {
          "output_type": "stream",
          "name": "stdout",
          "text": [
            "LB -12.957193\n"
          ]
        },
        {
          "output_type": "stream",
          "name": "stderr",
          "text": [
            "\r  0%|          | 5/4000 [02:01<26:07:29, 23.54s/it]"
          ]
        },
        {
          "output_type": "stream",
          "name": "stdout",
          "text": [
            "LB -12.917461\n"
          ]
        },
        {
          "output_type": "stream",
          "name": "stderr",
          "text": [
            "\r  0%|          | 6/4000 [02:23<25:32:07, 23.02s/it]"
          ]
        },
        {
          "output_type": "stream",
          "name": "stdout",
          "text": [
            "LB -12.842525\n"
          ]
        },
        {
          "output_type": "stream",
          "name": "stderr",
          "text": [
            "\r  0%|          | 7/4000 [02:46<25:36:31, 23.09s/it]"
          ]
        },
        {
          "output_type": "stream",
          "name": "stdout",
          "text": [
            "LB -12.986123\n"
          ]
        },
        {
          "output_type": "stream",
          "name": "stderr",
          "text": [
            "\r  0%|          | 8/4000 [03:09<25:36:46, 23.10s/it]"
          ]
        },
        {
          "output_type": "stream",
          "name": "stdout",
          "text": [
            "LB -13.190469\n"
          ]
        },
        {
          "output_type": "stream",
          "name": "stderr",
          "text": [
            "\r  0%|          | 9/4000 [03:31<25:17:01, 22.81s/it]"
          ]
        },
        {
          "output_type": "stream",
          "name": "stdout",
          "text": [
            "LB -12.86948\n"
          ]
        },
        {
          "output_type": "stream",
          "name": "stderr",
          "text": [
            "\r  0%|          | 10/4000 [03:55<25:29:28, 23.00s/it]"
          ]
        },
        {
          "output_type": "stream",
          "name": "stdout",
          "text": [
            "LB -13.10761\n"
          ]
        },
        {
          "output_type": "stream",
          "name": "stderr",
          "text": [
            "\r  0%|          | 11/4000 [04:19<25:50:01, 23.31s/it]"
          ]
        },
        {
          "output_type": "stream",
          "name": "stdout",
          "text": [
            "LB -12.936477\n"
          ]
        },
        {
          "output_type": "stream",
          "name": "stderr",
          "text": [
            "\r  0%|          | 12/4000 [04:41<25:36:52, 23.12s/it]"
          ]
        },
        {
          "output_type": "stream",
          "name": "stdout",
          "text": [
            "LB -12.996928\n"
          ]
        },
        {
          "output_type": "stream",
          "name": "stderr",
          "text": [
            "\r  0%|          | 13/4000 [05:04<25:34:19, 23.09s/it]"
          ]
        },
        {
          "output_type": "stream",
          "name": "stdout",
          "text": [
            "LB -13.026742\n"
          ]
        },
        {
          "output_type": "stream",
          "name": "stderr",
          "text": [
            "\r  0%|          | 14/4000 [05:28<25:42:24, 23.22s/it]"
          ]
        },
        {
          "output_type": "stream",
          "name": "stdout",
          "text": [
            "LB -13.079241\n"
          ]
        },
        {
          "output_type": "stream",
          "name": "stderr",
          "text": [
            "\r  0%|          | 15/4000 [05:50<25:30:34, 23.05s/it]"
          ]
        },
        {
          "output_type": "stream",
          "name": "stdout",
          "text": [
            "LB -13.082424\n"
          ]
        },
        {
          "output_type": "stream",
          "name": "stderr",
          "text": [
            "\r  0%|          | 16/4000 [06:13<25:19:01, 22.88s/it]"
          ]
        },
        {
          "output_type": "stream",
          "name": "stdout",
          "text": [
            "LB -13.22188\n"
          ]
        },
        {
          "output_type": "stream",
          "name": "stderr",
          "text": [
            "\r  0%|          | 17/4000 [06:36<25:25:18, 22.98s/it]"
          ]
        },
        {
          "output_type": "stream",
          "name": "stdout",
          "text": [
            "LB -13.050083\n"
          ]
        },
        {
          "output_type": "stream",
          "name": "stderr",
          "text": [
            "\r  0%|          | 18/4000 [06:59<25:18:07, 22.87s/it]"
          ]
        },
        {
          "output_type": "stream",
          "name": "stdout",
          "text": [
            "LB -12.843874\n"
          ]
        },
        {
          "output_type": "stream",
          "name": "stderr",
          "text": [
            "\r  0%|          | 19/4000 [07:21<25:12:50, 22.80s/it]"
          ]
        },
        {
          "output_type": "stream",
          "name": "stdout",
          "text": [
            "LB -12.942839\n"
          ]
        },
        {
          "output_type": "stream",
          "name": "stderr",
          "text": [
            "\r  0%|          | 20/4000 [07:45<25:17:34, 22.88s/it]"
          ]
        },
        {
          "output_type": "stream",
          "name": "stdout",
          "text": [
            "LB -13.124133\n"
          ]
        },
        {
          "output_type": "stream",
          "name": "stderr",
          "text": [
            "\r  1%|          | 21/4000 [08:09<25:40:51, 23.23s/it]"
          ]
        },
        {
          "output_type": "stream",
          "name": "stdout",
          "text": [
            "LB -13.153923\n"
          ]
        },
        {
          "output_type": "stream",
          "name": "stderr",
          "text": [
            "\r  1%|          | 22/4000 [08:31<25:23:31, 22.98s/it]"
          ]
        },
        {
          "output_type": "stream",
          "name": "stdout",
          "text": [
            "LB -12.944395\n"
          ]
        },
        {
          "output_type": "stream",
          "name": "stderr",
          "text": [
            "\r  1%|          | 23/4000 [08:54<25:29:13, 23.07s/it]"
          ]
        },
        {
          "output_type": "stream",
          "name": "stdout",
          "text": [
            "LB -12.97934\n"
          ]
        },
        {
          "output_type": "stream",
          "name": "stderr",
          "text": [
            "\r  1%|          | 24/4000 [09:17<25:31:43, 23.11s/it]"
          ]
        },
        {
          "output_type": "stream",
          "name": "stdout",
          "text": [
            "LB -12.976628\n"
          ]
        },
        {
          "output_type": "stream",
          "name": "stderr",
          "text": [
            "\r  1%|          | 25/4000 [09:39<25:08:25, 22.77s/it]"
          ]
        },
        {
          "output_type": "stream",
          "name": "stdout",
          "text": [
            "LB -12.796677\n"
          ]
        },
        {
          "output_type": "stream",
          "name": "stderr",
          "text": [
            "\r  1%|          | 26/4000 [10:03<25:18:08, 22.92s/it]"
          ]
        },
        {
          "output_type": "stream",
          "name": "stdout",
          "text": [
            "LB -12.839199\n"
          ]
        },
        {
          "output_type": "stream",
          "name": "stderr",
          "text": [
            "\r  1%|          | 27/4000 [10:26<25:21:58, 22.98s/it]"
          ]
        },
        {
          "output_type": "stream",
          "name": "stdout",
          "text": [
            "LB -12.869719\n"
          ]
        },
        {
          "output_type": "stream",
          "name": "stderr",
          "text": [
            "\r  1%|          | 28/4000 [10:48<25:03:32, 22.71s/it]"
          ]
        },
        {
          "output_type": "stream",
          "name": "stdout",
          "text": [
            "LB -12.958528\n"
          ]
        },
        {
          "output_type": "stream",
          "name": "stderr",
          "text": [
            "\r  1%|          | 29/4000 [11:11<25:14:47, 22.89s/it]"
          ]
        },
        {
          "output_type": "stream",
          "name": "stdout",
          "text": [
            "LB -12.743193\n"
          ]
        },
        {
          "output_type": "stream",
          "name": "stderr",
          "text": [
            "\r  1%|          | 30/4000 [11:34<25:17:31, 22.93s/it]"
          ]
        },
        {
          "output_type": "stream",
          "name": "stdout",
          "text": [
            "LB -12.751352\n"
          ]
        },
        {
          "output_type": "stream",
          "name": "stderr",
          "text": [
            "\r  1%|          | 31/4000 [11:56<25:00:57, 22.69s/it]"
          ]
        },
        {
          "output_type": "stream",
          "name": "stdout",
          "text": [
            "LB -12.877307\n"
          ]
        },
        {
          "output_type": "stream",
          "name": "stderr",
          "text": [
            "\r  1%|          | 32/4000 [12:21<25:34:43, 23.21s/it]"
          ]
        },
        {
          "output_type": "stream",
          "name": "stdout",
          "text": [
            "LB -12.934365\n"
          ]
        },
        {
          "output_type": "stream",
          "name": "stderr",
          "text": [
            "\r  1%|          | 33/4000 [12:44<25:26:24, 23.09s/it]"
          ]
        },
        {
          "output_type": "stream",
          "name": "stdout",
          "text": [
            "LB -13.024569\n"
          ]
        },
        {
          "output_type": "stream",
          "name": "stderr",
          "text": [
            "\r  1%|          | 34/4000 [13:06<25:10:29, 22.85s/it]"
          ]
        },
        {
          "output_type": "stream",
          "name": "stdout",
          "text": [
            "LB -12.772771\n"
          ]
        },
        {
          "output_type": "stream",
          "name": "stderr",
          "text": [
            "\r  1%|          | 35/4000 [13:29<25:19:12, 22.99s/it]"
          ]
        },
        {
          "output_type": "stream",
          "name": "stdout",
          "text": [
            "LB -12.964201\n"
          ]
        },
        {
          "output_type": "stream",
          "name": "stderr",
          "text": [
            "\r  1%|          | 36/4000 [13:52<25:15:01, 22.93s/it]"
          ]
        },
        {
          "output_type": "stream",
          "name": "stdout",
          "text": [
            "LB -13.141436\n"
          ]
        },
        {
          "output_type": "stream",
          "name": "stderr",
          "text": [
            "\r  1%|          | 37/4000 [14:14<25:05:51, 22.80s/it]"
          ]
        },
        {
          "output_type": "stream",
          "name": "stdout",
          "text": [
            "LB -13.000022\n"
          ]
        },
        {
          "output_type": "stream",
          "name": "stderr",
          "text": [
            "\r  1%|          | 38/4000 [14:38<25:14:04, 22.93s/it]"
          ]
        },
        {
          "output_type": "stream",
          "name": "stdout",
          "text": [
            "LB -12.863185\n"
          ]
        },
        {
          "output_type": "stream",
          "name": "stderr",
          "text": [
            "\r  1%|          | 39/4000 [15:01<25:11:16, 22.89s/it]"
          ]
        },
        {
          "output_type": "stream",
          "name": "stdout",
          "text": [
            "LB -12.907455\n"
          ]
        },
        {
          "output_type": "stream",
          "name": "stderr",
          "text": [
            "\r  1%|          | 40/4000 [15:23<24:55:19, 22.66s/it]"
          ]
        },
        {
          "output_type": "stream",
          "name": "stdout",
          "text": [
            "LB -13.038379\n"
          ]
        },
        {
          "output_type": "stream",
          "name": "stderr",
          "text": [
            "\r  1%|          | 41/4000 [15:46<25:06:26, 22.83s/it]"
          ]
        },
        {
          "output_type": "stream",
          "name": "stdout",
          "text": [
            "LB -12.939509\n"
          ]
        },
        {
          "output_type": "stream",
          "name": "stderr",
          "text": [
            "\r  1%|          | 42/4000 [16:10<25:38:01, 23.32s/it]"
          ]
        },
        {
          "output_type": "stream",
          "name": "stdout",
          "text": [
            "LB -12.948266\n"
          ]
        },
        {
          "output_type": "stream",
          "name": "stderr",
          "text": [
            "\r  1%|          | 43/4000 [16:32<25:12:16, 22.93s/it]"
          ]
        },
        {
          "output_type": "stream",
          "name": "stdout",
          "text": [
            "LB -13.213425\n"
          ]
        },
        {
          "output_type": "stream",
          "name": "stderr",
          "text": [
            "\r  1%|          | 44/4000 [16:56<25:18:42, 23.03s/it]"
          ]
        },
        {
          "output_type": "stream",
          "name": "stdout",
          "text": [
            "LB -13.089015\n"
          ]
        },
        {
          "output_type": "stream",
          "name": "stderr",
          "text": [
            "\r  1%|          | 45/4000 [17:19<25:20:42, 23.07s/it]"
          ]
        },
        {
          "output_type": "stream",
          "name": "stdout",
          "text": [
            "LB -13.044373\n"
          ]
        },
        {
          "output_type": "stream",
          "name": "stderr",
          "text": [
            "\r  1%|          | 46/4000 [17:41<24:59:23, 22.75s/it]"
          ]
        },
        {
          "output_type": "stream",
          "name": "stdout",
          "text": [
            "LB -13.143132\n"
          ]
        },
        {
          "output_type": "stream",
          "name": "stderr",
          "text": [
            "\r  1%|          | 47/4000 [18:04<25:06:55, 22.87s/it]"
          ]
        },
        {
          "output_type": "stream",
          "name": "stdout",
          "text": [
            "LB -13.089578\n"
          ]
        },
        {
          "output_type": "stream",
          "name": "stderr",
          "text": [
            "\r  1%|          | 48/4000 [18:27<25:10:10, 22.93s/it]"
          ]
        },
        {
          "output_type": "stream",
          "name": "stdout",
          "text": [
            "LB -12.998243\n"
          ]
        },
        {
          "output_type": "stream",
          "name": "stderr",
          "text": [
            "\r  1%|          | 49/4000 [18:49<24:48:13, 22.60s/it]"
          ]
        },
        {
          "output_type": "stream",
          "name": "stdout",
          "text": [
            "LB -12.896912\n"
          ]
        },
        {
          "output_type": "stream",
          "name": "stderr",
          "text": [
            "\r  1%|▏         | 50/4000 [19:12<24:59:15, 22.77s/it]"
          ]
        },
        {
          "output_type": "stream",
          "name": "stdout",
          "text": [
            "LB -13.16166\n"
          ]
        },
        {
          "output_type": "stream",
          "name": "stderr",
          "text": [
            "\r  1%|▏         | 51/4000 [19:35<25:10:55, 22.96s/it]"
          ]
        },
        {
          "output_type": "stream",
          "name": "stdout",
          "text": [
            "LB Smoothed -12.984113\n"
          ]
        },
        {
          "output_type": "stream",
          "name": "stderr",
          "text": [
            "\r  1%|▏         | 52/4000 [19:57<24:50:49, 22.66s/it]"
          ]
        },
        {
          "output_type": "stream",
          "name": "stdout",
          "text": [
            "LB Smoothed -12.9879\n"
          ]
        },
        {
          "output_type": "stream",
          "name": "stderr",
          "text": [
            "\r  1%|▏         | 53/4000 [20:22<25:26:33, 23.21s/it]"
          ]
        },
        {
          "output_type": "stream",
          "name": "stdout",
          "text": [
            "LB Smoothed -12.98084\n"
          ]
        },
        {
          "output_type": "stream",
          "name": "stderr",
          "text": [
            "\r  1%|▏         | 54/4000 [20:45<25:30:19, 23.27s/it]"
          ]
        },
        {
          "output_type": "stream",
          "name": "stdout",
          "text": [
            "LB Smoothed -12.983969\n"
          ]
        },
        {
          "output_type": "stream",
          "name": "stderr",
          "text": [
            "\r  1%|▏         | 55/4000 [21:08<25:11:57, 23.00s/it]"
          ]
        },
        {
          "output_type": "stream",
          "name": "stdout",
          "text": [
            "LB Smoothed -12.977073\n"
          ]
        },
        {
          "output_type": "stream",
          "name": "stderr",
          "text": [
            "\r  1%|▏         | 56/4000 [21:31<25:19:39, 23.12s/it]"
          ]
        },
        {
          "output_type": "stream",
          "name": "stdout",
          "text": [
            "LB Smoothed -12.9778805\n"
          ]
        },
        {
          "output_type": "stream",
          "name": "stderr",
          "text": [
            "\r  1%|▏         | 57/4000 [21:54<25:22:42, 23.17s/it]"
          ]
        },
        {
          "output_type": "stream",
          "name": "stdout",
          "text": [
            "LB Smoothed -12.97577\n"
          ]
        },
        {
          "output_type": "stream",
          "name": "stderr",
          "text": [
            "\r  1%|▏         | 58/4000 [22:17<25:18:08, 23.11s/it]"
          ]
        },
        {
          "output_type": "stream",
          "name": "stdout",
          "text": [
            "LB Smoothed -12.972177\n"
          ]
        },
        {
          "output_type": "stream",
          "name": "stderr",
          "text": [
            "\r  1%|▏         | 59/4000 [22:40<25:11:51, 23.02s/it]"
          ]
        },
        {
          "output_type": "stream",
          "name": "stdout",
          "text": [
            "LB Smoothed -12.9754715\n"
          ]
        },
        {
          "output_type": "stream",
          "name": "stderr",
          "text": [
            "\r  2%|▏         | 60/4000 [23:03<25:16:26, 23.09s/it]"
          ]
        },
        {
          "output_type": "stream",
          "name": "stdout",
          "text": [
            "LB Smoothed -12.969849\n"
          ]
        },
        {
          "output_type": "stream",
          "name": "stderr",
          "text": [
            "\r  2%|▏         | 61/4000 [23:26<25:13:43, 23.06s/it]"
          ]
        },
        {
          "output_type": "stream",
          "name": "stdout",
          "text": [
            "LB Smoothed -12.971318\n"
          ]
        },
        {
          "output_type": "stream",
          "name": "stderr",
          "text": [
            "\r  2%|▏         | 62/4000 [23:49<25:04:04, 22.92s/it]"
          ]
        },
        {
          "output_type": "stream",
          "name": "stdout",
          "text": [
            "LB Smoothed -12.972889\n"
          ]
        },
        {
          "output_type": "stream",
          "name": "stderr",
          "text": [
            "\r  2%|▏         | 63/4000 [24:13<25:36:06, 23.41s/it]"
          ]
        },
        {
          "output_type": "stream",
          "name": "stdout",
          "text": [
            "LB Smoothed -12.971062\n"
          ]
        },
        {
          "output_type": "stream",
          "name": "stderr",
          "text": [
            "\r  2%|▏         | 64/4000 [24:37<25:38:01, 23.45s/it]"
          ]
        },
        {
          "output_type": "stream",
          "name": "stdout",
          "text": [
            "LB Smoothed -12.96377\n"
          ]
        },
        {
          "output_type": "stream",
          "name": "stderr",
          "text": [
            "\r  2%|▏         | 65/4000 [24:59<25:13:45, 23.08s/it]"
          ]
        },
        {
          "output_type": "stream",
          "name": "stdout",
          "text": [
            "LB Smoothed -12.961285\n"
          ]
        },
        {
          "output_type": "stream",
          "name": "stderr",
          "text": [
            "\r  2%|▏         | 66/4000 [25:23<25:18:39, 23.16s/it]"
          ]
        },
        {
          "output_type": "stream",
          "name": "stdout",
          "text": [
            "LB Smoothed -12.950867\n"
          ]
        },
        {
          "output_type": "stream",
          "name": "stderr",
          "text": [
            "\r  2%|▏         | 67/4000 [25:46<25:27:39, 23.31s/it]"
          ]
        },
        {
          "output_type": "stream",
          "name": "stdout",
          "text": [
            "LB Smoothed -12.9458275\n"
          ]
        },
        {
          "output_type": "stream",
          "name": "stderr",
          "text": [
            "\r  2%|▏         | 68/4000 [26:09<25:09:16, 23.03s/it]"
          ]
        },
        {
          "output_type": "stream",
          "name": "stdout",
          "text": [
            "LB Smoothed -12.947897\n"
          ]
        },
        {
          "output_type": "stream",
          "name": "stderr",
          "text": [
            "\r  2%|▏         | 69/4000 [26:32<25:09:59, 23.05s/it]"
          ]
        },
        {
          "output_type": "stream",
          "name": "stdout",
          "text": [
            "LB Smoothed -12.945302\n"
          ]
        },
        {
          "output_type": "stream",
          "name": "stderr",
          "text": [
            "\r  2%|▏         | 70/4000 [26:55<25:14:57, 23.13s/it]"
          ]
        },
        {
          "output_type": "stream",
          "name": "stdout",
          "text": [
            "LB Smoothed -12.942181\n"
          ]
        },
        {
          "output_type": "stream",
          "name": "stderr",
          "text": [
            "\r  2%|▏         | 71/4000 [27:17<24:53:23, 22.81s/it]"
          ]
        },
        {
          "output_type": "stream",
          "name": "stdout",
          "text": [
            "LB Smoothed -12.937216\n"
          ]
        },
        {
          "output_type": "stream",
          "name": "stderr",
          "text": [
            "\r  2%|▏         | 72/4000 [27:40<25:05:01, 22.99s/it]"
          ]
        },
        {
          "output_type": "stream",
          "name": "stdout",
          "text": [
            "LB Smoothed -12.931898\n"
          ]
        },
        {
          "output_type": "stream",
          "name": "stderr",
          "text": [
            "\r  2%|▏         | 73/4000 [28:04<25:12:11, 23.10s/it]"
          ]
        },
        {
          "output_type": "stream",
          "name": "stdout",
          "text": [
            "LB Smoothed -12.928184\n"
          ]
        },
        {
          "output_type": "stream",
          "name": "stderr",
          "text": [
            "\r  2%|▏         | 74/4000 [28:28<25:32:48, 23.43s/it]"
          ]
        },
        {
          "output_type": "stream",
          "name": "stdout",
          "text": [
            "LB Smoothed -12.927112\n"
          ]
        },
        {
          "output_type": "stream",
          "name": "stderr",
          "text": [
            "\r  2%|▏         | 75/4000 [28:51<25:15:39, 23.17s/it]"
          ]
        },
        {
          "output_type": "stream",
          "name": "stdout",
          "text": [
            "LB Smoothed -12.928045\n"
          ]
        },
        {
          "output_type": "stream",
          "name": "stderr",
          "text": [
            "\r  2%|▏         | 76/4000 [29:14<25:18:03, 23.21s/it]"
          ]
        },
        {
          "output_type": "stream",
          "name": "stdout",
          "text": [
            "LB Smoothed -12.932371\n"
          ]
        },
        {
          "output_type": "stream",
          "name": "stderr",
          "text": [
            "\r  2%|▏         | 77/4000 [29:37<25:13:01, 23.14s/it]"
          ]
        },
        {
          "output_type": "stream",
          "name": "stdout",
          "text": [
            "LB Smoothed -12.930156\n"
          ]
        },
        {
          "output_type": "stream",
          "name": "stderr",
          "text": [
            "\r  2%|▏         | 78/4000 [29:59<24:59:33, 22.94s/it]"
          ]
        },
        {
          "output_type": "stream",
          "name": "stdout",
          "text": [
            "LB Smoothed -12.933268\n"
          ]
        },
        {
          "output_type": "stream",
          "name": "stderr",
          "text": [
            "\r  2%|▏         | 79/4000 [30:23<25:04:20, 23.02s/it]"
          ]
        },
        {
          "output_type": "stream",
          "name": "stdout",
          "text": [
            "LB Smoothed -12.9371605\n"
          ]
        },
        {
          "output_type": "stream",
          "name": "stderr",
          "text": [
            "\r  2%|▏         | 80/4000 [30:46<25:08:48, 23.09s/it]"
          ]
        },
        {
          "output_type": "stream",
          "name": "stdout",
          "text": [
            "LB Smoothed -12.9345665\n"
          ]
        },
        {
          "output_type": "stream",
          "name": "stderr",
          "text": [
            "\r  2%|▏         | 81/4000 [31:08<24:54:32, 22.88s/it]"
          ]
        },
        {
          "output_type": "stream",
          "name": "stdout",
          "text": [
            "LB Smoothed -12.937343\n"
          ]
        },
        {
          "output_type": "stream",
          "name": "stderr",
          "text": [
            "\r  2%|▏         | 82/4000 [31:32<25:04:04, 23.03s/it]"
          ]
        },
        {
          "output_type": "stream",
          "name": "stdout",
          "text": [
            "LB Smoothed -12.935116\n"
          ]
        },
        {
          "output_type": "stream",
          "name": "stderr",
          "text": [
            "\r  2%|▏         | 83/4000 [31:55<25:08:45, 23.11s/it]"
          ]
        },
        {
          "output_type": "stream",
          "name": "stdout",
          "text": [
            "LB Smoothed -12.936581\n"
          ]
        },
        {
          "output_type": "stream",
          "name": "stderr",
          "text": [
            "\r  2%|▏         | 84/4000 [32:19<25:18:38, 23.27s/it]"
          ]
        },
        {
          "output_type": "stream",
          "name": "stdout",
          "text": [
            "LB Smoothed -12.935663\n"
          ]
        },
        {
          "output_type": "stream",
          "name": "stderr",
          "text": [
            "\r  2%|▏         | 85/4000 [32:42<25:18:44, 23.28s/it]"
          ]
        },
        {
          "output_type": "stream",
          "name": "stdout",
          "text": [
            "LB Smoothed -12.933709\n"
          ]
        },
        {
          "output_type": "stream",
          "name": "stderr",
          "text": [
            "\r  2%|▏         | 86/4000 [33:05<25:22:46, 23.34s/it]"
          ]
        },
        {
          "output_type": "stream",
          "name": "stdout",
          "text": [
            "LB Smoothed -12.930566\n"
          ]
        },
        {
          "output_type": "stream",
          "name": "stderr",
          "text": [
            "\r  2%|▏         | 87/4000 [33:27<24:58:03, 22.97s/it]"
          ]
        },
        {
          "output_type": "stream",
          "name": "stdout",
          "text": [
            "LB Smoothed -12.925962\n"
          ]
        },
        {
          "output_type": "stream",
          "name": "stderr",
          "text": [
            "\r  2%|▏         | 88/4000 [33:51<25:03:14, 23.06s/it]"
          ]
        },
        {
          "output_type": "stream",
          "name": "stdout",
          "text": [
            "LB Smoothed -12.9299135\n"
          ]
        },
        {
          "output_type": "stream",
          "name": "stderr",
          "text": [
            "\r  2%|▏         | 89/4000 [34:14<25:07:12, 23.12s/it]"
          ]
        },
        {
          "output_type": "stream",
          "name": "stdout",
          "text": [
            "LB Smoothed -12.941468\n"
          ]
        },
        {
          "output_type": "stream",
          "name": "stderr",
          "text": [
            "\r  2%|▏         | 90/4000 [34:37<24:57:36, 22.98s/it]"
          ]
        },
        {
          "output_type": "stream",
          "name": "stdout",
          "text": [
            "LB Smoothed -12.937928\n"
          ]
        },
        {
          "output_type": "stream",
          "name": "stderr",
          "text": [
            "\r  2%|▏         | 91/4000 [35:00<25:13:25, 23.23s/it]"
          ]
        },
        {
          "output_type": "stream",
          "name": "stdout",
          "text": [
            "LB Smoothed -12.936304\n"
          ]
        },
        {
          "output_type": "stream",
          "name": "stderr",
          "text": [
            "\r  2%|▏         | 92/4000 [35:24<25:18:07, 23.31s/it]"
          ]
        },
        {
          "output_type": "stream",
          "name": "stdout",
          "text": [
            "LB Smoothed -12.936595\n"
          ]
        },
        {
          "output_type": "stream",
          "name": "stderr",
          "text": [
            "\r  2%|▏         | 93/4000 [35:47<25:10:18, 23.19s/it]"
          ]
        },
        {
          "output_type": "stream",
          "name": "stdout",
          "text": [
            "LB Smoothed -12.933761\n"
          ]
        },
        {
          "output_type": "stream",
          "name": "stderr",
          "text": [
            "\r  2%|▏         | 94/4000 [36:10<25:08:40, 23.17s/it]"
          ]
        },
        {
          "output_type": "stream",
          "name": "stdout",
          "text": [
            "LB Smoothed -12.930855\n"
          ]
        },
        {
          "output_type": "stream",
          "name": "stderr",
          "text": [
            "\r  2%|▏         | 95/4000 [36:35<25:42:14, 23.70s/it]"
          ]
        },
        {
          "output_type": "stream",
          "name": "stdout",
          "text": [
            "LB Smoothed -12.926608\n"
          ]
        },
        {
          "output_type": "stream",
          "name": "stderr",
          "text": [
            "\r  2%|▏         | 96/4000 [36:59<25:45:54, 23.76s/it]"
          ]
        },
        {
          "output_type": "stream",
          "name": "stdout",
          "text": [
            "LB Smoothed -12.919659\n"
          ]
        },
        {
          "output_type": "stream",
          "name": "stderr",
          "text": [
            "\r  2%|▏         | 97/4000 [37:21<25:18:05, 23.34s/it]"
          ]
        },
        {
          "output_type": "stream",
          "name": "stdout",
          "text": [
            "LB Smoothed -12.9155\n"
          ]
        },
        {
          "output_type": "stream",
          "name": "stderr",
          "text": [
            "\r  2%|▏         | 98/4000 [37:45<25:20:04, 23.37s/it]"
          ]
        },
        {
          "output_type": "stream",
          "name": "stdout",
          "text": [
            "LB Smoothed -12.918085\n"
          ]
        },
        {
          "output_type": "stream",
          "name": "stderr",
          "text": [
            "\r  2%|▏         | 99/4000 [38:08<25:22:51, 23.42s/it]"
          ]
        },
        {
          "output_type": "stream",
          "name": "stdout",
          "text": [
            "LB Smoothed -12.920593\n"
          ]
        },
        {
          "output_type": "stream",
          "name": "stderr",
          "text": [
            "\r  2%|▎         | 100/4000 [38:31<25:17:55, 23.35s/it]"
          ]
        },
        {
          "output_type": "stream",
          "name": "stdout",
          "text": [
            "LB Smoothed -12.9134445\n"
          ]
        },
        {
          "output_type": "stream",
          "name": "stderr",
          "text": [
            "\r  3%|▎         | 101/4000 [38:54<25:11:06, 23.25s/it]"
          ]
        },
        {
          "output_type": "stream",
          "name": "stdout",
          "text": [
            "LB Smoothed -12.908681\n"
          ]
        },
        {
          "output_type": "stream",
          "name": "stderr",
          "text": [
            "\r  3%|▎         | 102/4000 [39:18<25:24:15, 23.46s/it]"
          ]
        },
        {
          "output_type": "stream",
          "name": "stdout",
          "text": [
            "LB Smoothed -12.911561\n"
          ]
        },
        {
          "output_type": "stream",
          "name": "stderr",
          "text": [
            "\r  3%|▎         | 103/4000 [39:42<25:29:07, 23.54s/it]"
          ]
        },
        {
          "output_type": "stream",
          "name": "stdout",
          "text": [
            "LB Smoothed -12.907904\n"
          ]
        },
        {
          "output_type": "stream",
          "name": "stderr",
          "text": [
            "\r  3%|▎         | 104/4000 [40:05<25:13:39, 23.31s/it]"
          ]
        },
        {
          "output_type": "stream",
          "name": "stdout",
          "text": [
            "LB Smoothed -12.913877\n"
          ]
        },
        {
          "output_type": "stream",
          "name": "stderr",
          "text": [
            "\r  3%|▎         | 105/4000 [40:30<25:47:58, 23.85s/it]"
          ]
        },
        {
          "output_type": "stream",
          "name": "stdout",
          "text": [
            "LB Smoothed -12.916235\n"
          ]
        },
        {
          "output_type": "stream",
          "name": "stderr",
          "text": [
            "\r  3%|▎         | 106/4000 [40:54<25:50:05, 23.88s/it]"
          ]
        },
        {
          "output_type": "stream",
          "name": "stdout",
          "text": [
            "LB Smoothed -12.911675\n"
          ]
        },
        {
          "output_type": "stream",
          "name": "stderr",
          "text": [
            "\r  3%|▎         | 107/4000 [41:18<25:47:42, 23.85s/it]"
          ]
        },
        {
          "output_type": "stream",
          "name": "stdout",
          "text": [
            "LB Smoothed -12.904398\n"
          ]
        },
        {
          "output_type": "stream",
          "name": "stderr",
          "text": [
            "\r  3%|▎         | 108/4000 [41:40<25:19:36, 23.43s/it]"
          ]
        },
        {
          "output_type": "stream",
          "name": "stdout",
          "text": [
            "LB Smoothed -12.898044\n"
          ]
        },
        {
          "output_type": "stream",
          "name": "stderr",
          "text": [
            "\r  3%|▎         | 109/4000 [42:04<25:21:28, 23.46s/it]"
          ]
        },
        {
          "output_type": "stream",
          "name": "stdout",
          "text": [
            "LB Smoothed -12.897332\n"
          ]
        },
        {
          "output_type": "stream",
          "name": "stderr",
          "text": [
            "\r  3%|▎         | 110/4000 [42:27<25:25:27, 23.53s/it]"
          ]
        },
        {
          "output_type": "stream",
          "name": "stdout",
          "text": [
            "LB Smoothed -12.900834\n"
          ]
        },
        {
          "output_type": "stream",
          "name": "stderr",
          "text": [
            "\r  3%|▎         | 111/4000 [42:50<24:59:22, 23.13s/it]"
          ]
        },
        {
          "output_type": "stream",
          "name": "stdout",
          "text": [
            "LB Smoothed -12.8991785\n"
          ]
        },
        {
          "output_type": "stream",
          "name": "stderr",
          "text": [
            "\r  3%|▎         | 112/4000 [43:13<25:01:53, 23.18s/it]"
          ]
        },
        {
          "output_type": "stream",
          "name": "stdout",
          "text": [
            "LB Smoothed -12.894842\n"
          ]
        },
        {
          "output_type": "stream",
          "name": "stderr",
          "text": [
            "\r  3%|▎         | 113/4000 [43:36<25:09:12, 23.30s/it]"
          ]
        },
        {
          "output_type": "stream",
          "name": "stdout",
          "text": [
            "LB Smoothed -12.893488\n"
          ]
        },
        {
          "output_type": "stream",
          "name": "stderr",
          "text": [
            "\r  3%|▎         | 114/4000 [43:59<25:00:16, 23.16s/it]"
          ]
        },
        {
          "output_type": "stream",
          "name": "stdout",
          "text": [
            "LB Smoothed -12.89131\n"
          ]
        },
        {
          "output_type": "stream",
          "name": "stderr",
          "text": [
            "\r  3%|▎         | 115/4000 [44:22<25:00:29, 23.17s/it]"
          ]
        },
        {
          "output_type": "stream",
          "name": "stdout",
          "text": [
            "LB Smoothed -12.890044\n"
          ]
        },
        {
          "output_type": "stream",
          "name": "stderr",
          "text": [
            "\r  3%|▎         | 116/4000 [44:47<25:35:13, 23.72s/it]"
          ]
        },
        {
          "output_type": "stream",
          "name": "stdout",
          "text": [
            "LB Smoothed -12.8921995\n"
          ]
        },
        {
          "output_type": "stream",
          "name": "stderr",
          "text": [
            "\r  3%|▎         | 117/4000 [45:11<25:36:42, 23.75s/it]"
          ]
        },
        {
          "output_type": "stream",
          "name": "stdout",
          "text": [
            "LB Smoothed -12.888933\n"
          ]
        },
        {
          "output_type": "stream",
          "name": "stderr",
          "text": [
            "\r  3%|▎         | 118/4000 [45:34<25:11:23, 23.36s/it]"
          ]
        },
        {
          "output_type": "stream",
          "name": "stdout",
          "text": [
            "LB Smoothed -12.889611\n"
          ]
        },
        {
          "output_type": "stream",
          "name": "stderr",
          "text": [
            "\r  3%|▎         | 119/4000 [45:57<25:14:46, 23.42s/it]"
          ]
        },
        {
          "output_type": "stream",
          "name": "stdout",
          "text": [
            "LB Smoothed -12.882993\n"
          ]
        },
        {
          "output_type": "stream",
          "name": "stderr",
          "text": [
            "\r  3%|▎         | 120/4000 [46:21<25:18:56, 23.49s/it]"
          ]
        },
        {
          "output_type": "stream",
          "name": "stdout",
          "text": [
            "LB Smoothed -12.887554\n"
          ]
        },
        {
          "output_type": "stream",
          "name": "stderr",
          "text": [
            "\r  3%|▎         | 121/4000 [46:43<24:52:06, 23.08s/it]"
          ]
        },
        {
          "output_type": "stream",
          "name": "stdout",
          "text": [
            "LB Smoothed -12.890607\n"
          ]
        },
        {
          "output_type": "stream",
          "name": "stderr",
          "text": [
            "\r  3%|▎         | 122/4000 [47:06<24:58:22, 23.18s/it]"
          ]
        },
        {
          "output_type": "stream",
          "name": "stdout",
          "text": [
            "LB Smoothed -12.890736\n"
          ]
        },
        {
          "output_type": "stream",
          "name": "stderr",
          "text": [
            "\r  3%|▎         | 123/4000 [47:30<25:07:11, 23.33s/it]"
          ]
        },
        {
          "output_type": "stream",
          "name": "stdout",
          "text": [
            "LB Smoothed -12.889018\n"
          ]
        },
        {
          "output_type": "stream",
          "name": "stderr",
          "text": [
            "\r  3%|▎         | 124/4000 [47:53<24:54:15, 23.13s/it]"
          ]
        },
        {
          "output_type": "stream",
          "name": "stdout",
          "text": [
            "LB Smoothed -12.888674\n"
          ]
        },
        {
          "output_type": "stream",
          "name": "stderr",
          "text": [
            "\r  3%|▎         | 125/4000 [48:16<24:57:08, 23.18s/it]"
          ]
        },
        {
          "output_type": "stream",
          "name": "stdout",
          "text": [
            "LB Smoothed -12.889257\n"
          ]
        },
        {
          "output_type": "stream",
          "name": "stderr",
          "text": [
            "\r  3%|▎         | 126/4000 [48:40<25:04:22, 23.30s/it]"
          ]
        },
        {
          "output_type": "stream",
          "name": "stdout",
          "text": [
            "LB Smoothed -12.891103\n"
          ]
        },
        {
          "output_type": "stream",
          "name": "stderr",
          "text": [
            "\r  3%|▎         | 127/4000 [49:04<25:31:11, 23.72s/it]"
          ]
        },
        {
          "output_type": "stream",
          "name": "stdout",
          "text": [
            "LB Smoothed -12.887722\n"
          ]
        },
        {
          "output_type": "stream",
          "name": "stderr",
          "text": [
            "\r  3%|▎         | 128/4000 [49:27<25:06:54, 23.35s/it]"
          ]
        },
        {
          "output_type": "stream",
          "name": "stdout",
          "text": [
            "LB Smoothed -12.885091\n"
          ]
        },
        {
          "output_type": "stream",
          "name": "stderr",
          "text": [
            "\r  3%|▎         | 129/4000 [49:50<25:11:01, 23.42s/it]"
          ]
        },
        {
          "output_type": "stream",
          "name": "stdout",
          "text": [
            "LB Smoothed -12.889521\n"
          ]
        },
        {
          "output_type": "stream",
          "name": "stderr",
          "text": [
            "\r  3%|▎         | 130/4000 [50:14<25:12:38, 23.45s/it]"
          ]
        },
        {
          "output_type": "stream",
          "name": "stdout",
          "text": [
            "LB Smoothed -12.889424\n"
          ]
        },
        {
          "output_type": "stream",
          "name": "stderr",
          "text": [
            "\r  3%|▎         | 131/4000 [50:37<25:04:06, 23.33s/it]"
          ]
        },
        {
          "output_type": "stream",
          "name": "stdout",
          "text": [
            "LB Smoothed -12.894901\n"
          ]
        },
        {
          "output_type": "stream",
          "name": "stderr",
          "text": [
            "\r  3%|▎         | 132/4000 [51:00<24:59:16, 23.26s/it]"
          ]
        },
        {
          "output_type": "stream",
          "name": "stdout",
          "text": [
            "LB Smoothed -12.887624\n"
          ]
        },
        {
          "output_type": "stream",
          "name": "stderr",
          "text": [
            "\r  3%|▎         | 133/4000 [51:24<25:13:25, 23.48s/it]"
          ]
        },
        {
          "output_type": "stream",
          "name": "stdout",
          "text": [
            "LB Smoothed -12.893597\n"
          ]
        },
        {
          "output_type": "stream",
          "name": "stderr",
          "text": [
            "\r  3%|▎         | 134/4000 [51:47<25:05:00, 23.36s/it]"
          ]
        },
        {
          "output_type": "stream",
          "name": "stdout",
          "text": [
            "LB Smoothed -12.898335\n"
          ]
        },
        {
          "output_type": "stream",
          "name": "stderr",
          "text": [
            "\r  3%|▎         | 135/4000 [52:10<24:53:15, 23.18s/it]"
          ]
        },
        {
          "output_type": "stream",
          "name": "stdout",
          "text": [
            "LB Smoothed -12.894991\n"
          ]
        },
        {
          "output_type": "stream",
          "name": "stderr",
          "text": [
            "\r  3%|▎         | 136/4000 [52:33<24:55:27, 23.22s/it]"
          ]
        },
        {
          "output_type": "stream",
          "name": "stdout",
          "text": [
            "LB Smoothed -12.900553\n"
          ]
        },
        {
          "output_type": "stream",
          "name": "stderr",
          "text": [
            "\r  3%|▎         | 137/4000 [52:58<25:26:34, 23.71s/it]"
          ]
        },
        {
          "output_type": "stream",
          "name": "stdout",
          "text": [
            "LB Smoothed -12.8981905\n"
          ]
        },
        {
          "output_type": "stream",
          "name": "stderr",
          "text": [
            "\r  3%|▎         | 138/4000 [53:21<25:04:07, 23.37s/it]"
          ]
        },
        {
          "output_type": "stream",
          "name": "stdout",
          "text": [
            "LB Smoothed -12.887904\n"
          ]
        },
        {
          "output_type": "stream",
          "name": "stderr",
          "text": [
            "\r  3%|▎         | 139/4000 [53:44<24:54:49, 23.23s/it]"
          ]
        },
        {
          "output_type": "stream",
          "name": "stdout",
          "text": [
            "LB Smoothed -12.888539\n"
          ]
        },
        {
          "output_type": "stream",
          "name": "stderr",
          "text": [
            "\r  4%|▎         | 140/4000 [54:07<24:58:43, 23.30s/it]"
          ]
        },
        {
          "output_type": "stream",
          "name": "stdout",
          "text": [
            "LB Smoothed -12.89391\n"
          ]
        },
        {
          "output_type": "stream",
          "name": "stderr",
          "text": [
            "\r  4%|▎         | 141/4000 [54:30<24:50:08, 23.17s/it]"
          ]
        },
        {
          "output_type": "stream",
          "name": "stdout",
          "text": [
            "LB Smoothed -12.894232\n"
          ]
        },
        {
          "output_type": "stream",
          "name": "stderr",
          "text": [
            "\r  4%|▎         | 142/4000 [54:52<24:34:55, 22.94s/it]"
          ]
        },
        {
          "output_type": "stream",
          "name": "stdout",
          "text": [
            "LB Smoothed -12.893084\n"
          ]
        },
        {
          "output_type": "stream",
          "name": "stderr",
          "text": [
            "\r  4%|▎         | 143/4000 [55:16<24:42:46, 23.07s/it]"
          ]
        },
        {
          "output_type": "stream",
          "name": "stdout",
          "text": [
            "LB Smoothed -12.88748\n"
          ]
        },
        {
          "output_type": "stream",
          "name": "stderr",
          "text": [
            "\r  4%|▎         | 144/4000 [55:39<24:39:09, 23.02s/it]"
          ]
        },
        {
          "output_type": "stream",
          "name": "stdout",
          "text": [
            "LB Smoothed -12.891959\n"
          ]
        },
        {
          "output_type": "stream",
          "name": "stderr",
          "text": [
            "\r  4%|▎         | 144/4000 [56:01<25:00:15, 23.34s/it]"
          ]
        },
        {
          "output_type": "stream",
          "name": "stdout",
          "text": [
            "LB Smoothed -12.893923\n",
            "Stop at 144\n"
          ]
        },
        {
          "output_type": "stream",
          "name": "stderr",
          "text": [
            "\n"
          ]
        }
      ],
      "source": [
        "vb = GVB(200, transformed_actual_summary_statistics[0], 0.001, 2500, 100, 0.9, 0.9, 50, 25)\n",
        "LB_estimate, smoothed_LB_estimate, best_lambda_mu, best_lambda_l = vb.vb_posterior(stop)"
      ]
    },
    {
      "cell_type": "code",
      "execution_count": null,
      "metadata": {
        "id": "TZJ88KXTHJDp",
        "colab": {
          "base_uri": "https://localhost:8080/"
        },
        "outputId": "6050868d-2659-4dc4-8147-0eed5abcffb0"
      },
      "outputs": [
        {
          "output_type": "execute_result",
          "data": {
            "text/plain": [
              "[Array(-12.687734, dtype=float32),\n",
              " Array(-12.785828, dtype=float32),\n",
              " Array(-13.199465, dtype=float32),\n",
              " Array(-12.957193, dtype=float32),\n",
              " Array(-12.917461, dtype=float32),\n",
              " Array(-12.842525, dtype=float32),\n",
              " Array(-12.986123, dtype=float32),\n",
              " Array(-13.190469, dtype=float32),\n",
              " Array(-12.86948, dtype=float32),\n",
              " Array(-13.10761, dtype=float32),\n",
              " Array(-12.936477, dtype=float32),\n",
              " Array(-12.996928, dtype=float32),\n",
              " Array(-13.026742, dtype=float32),\n",
              " Array(-13.079241, dtype=float32),\n",
              " Array(-13.082424, dtype=float32),\n",
              " Array(-13.22188, dtype=float32),\n",
              " Array(-13.050083, dtype=float32),\n",
              " Array(-12.843874, dtype=float32),\n",
              " Array(-12.942839, dtype=float32),\n",
              " Array(-13.124133, dtype=float32),\n",
              " Array(-13.153923, dtype=float32),\n",
              " Array(-12.944395, dtype=float32),\n",
              " Array(-12.97934, dtype=float32),\n",
              " Array(-12.976628, dtype=float32),\n",
              " Array(-12.796677, dtype=float32),\n",
              " Array(-12.839199, dtype=float32),\n",
              " Array(-12.869719, dtype=float32),\n",
              " Array(-12.958528, dtype=float32),\n",
              " Array(-12.743193, dtype=float32),\n",
              " Array(-12.751352, dtype=float32),\n",
              " Array(-12.877307, dtype=float32),\n",
              " Array(-12.934365, dtype=float32),\n",
              " Array(-13.024569, dtype=float32),\n",
              " Array(-12.772771, dtype=float32),\n",
              " Array(-12.964201, dtype=float32),\n",
              " Array(-13.141436, dtype=float32),\n",
              " Array(-13.000022, dtype=float32),\n",
              " Array(-12.863185, dtype=float32),\n",
              " Array(-12.907455, dtype=float32),\n",
              " Array(-13.038379, dtype=float32),\n",
              " Array(-12.939509, dtype=float32),\n",
              " Array(-12.948266, dtype=float32),\n",
              " Array(-13.213425, dtype=float32),\n",
              " Array(-13.089015, dtype=float32),\n",
              " Array(-13.044373, dtype=float32),\n",
              " Array(-13.143132, dtype=float32),\n",
              " Array(-13.089578, dtype=float32),\n",
              " Array(-12.998243, dtype=float32),\n",
              " Array(-12.896912, dtype=float32),\n",
              " Array(-13.16166, dtype=float32),\n",
              " Array(-12.971375, dtype=float32),\n",
              " Array(-12.853573, dtype=float32),\n",
              " Array(-13.110485, dtype=float32),\n",
              " Array(-12.579553, dtype=float32),\n",
              " Array(-12.882094, dtype=float32),\n",
              " Array(-12.88274, dtype=float32),\n",
              " Array(-13.014341, dtype=float32),\n",
              " Array(-13.030938, dtype=float32),\n",
              " Array(-12.832058, dtype=float32),\n",
              " Array(-13.008552, dtype=float32),\n",
              " Array(-13.073893, dtype=float32),\n",
              " Array(-12.937195, dtype=float32),\n",
              " Array(-12.72197, dtype=float32),\n",
              " Array(-12.960628, dtype=float32),\n",
              " Array(-12.711374, dtype=float32),\n",
              " Array(-12.803204, dtype=float32),\n",
              " Array(-12.945244, dtype=float32),\n",
              " Array(-12.815705, dtype=float32),\n",
              " Array(-12.971197, dtype=float32),\n",
              " Array(-12.910633, dtype=float32),\n",
              " Array(-12.683827, dtype=float32),\n",
              " Array(-12.797357, dtype=float32),\n",
              " Array(-12.9240675, dtype=float32),\n",
              " Array(-12.842494, dtype=float32),\n",
              " Array(-13.051109, dtype=float32),\n",
              " Array(-12.76117, dtype=float32),\n",
              " Array(-13.110996, dtype=float32),\n",
              " Array(-12.933984, dtype=float32),\n",
              " Array(-12.624208, dtype=float32),\n",
              " Array(-13.013389, dtype=float32),\n",
              " Array(-12.825219, dtype=float32),\n",
              " Array(-13.096314, dtype=float32),\n",
              " Array(-12.727866, dtype=float32),\n",
              " Array(-12.868398, dtype=float32),\n",
              " Array(-12.987392, dtype=float32),\n",
              " Array(-12.774489, dtype=float32),\n",
              " Array(-13.056808, dtype=float32),\n",
              " Array(-13.473638, dtype=float32),\n",
              " Array(-12.864882, dtype=float32),\n",
              " Array(-12.859925, dtype=float32),\n",
              " Array(-12.962529, dtype=float32),\n",
              " Array(-13.074568, dtype=float32),\n",
              " Array(-12.946584, dtype=float32),\n",
              " Array(-12.836271, dtype=float32),\n",
              " Array(-12.802653, dtype=float32),\n",
              " Array(-12.88583, dtype=float32),\n",
              " Array(-13.124902, dtype=float32),\n",
              " Array(-13.019785, dtype=float32),\n",
              " Array(-12.811364, dtype=float32),\n",
              " Array(-12.737998, dtype=float32),\n",
              " Array(-12.994663, dtype=float32),\n",
              " Array(-12.93134, dtype=float32),\n",
              " Array(-12.872197, dtype=float32),\n",
              " Array(-12.997624, dtype=float32),\n",
              " Array(-12.659361, dtype=float32),\n",
              " Array(-12.657707, dtype=float32),\n",
              " Array(-12.719583, dtype=float32),\n",
              " Array(-12.797193, dtype=float32),\n",
              " Array(-13.180172, dtype=float32),\n",
              " Array(-12.992715, dtype=float32),\n",
              " Array(-12.724802, dtype=float32),\n",
              " Array(-12.6555805, dtype=float32),\n",
              " Array(-12.853884, dtype=float32),\n",
              " Array(-12.64936, dtype=float32),\n",
              " Array(-12.908854, dtype=float32),\n",
              " Array(-12.785105, dtype=float32),\n",
              " Array(-12.848933, dtype=float32),\n",
              " Array(-12.646951, dtype=float32),\n",
              " Array(-13.134131, dtype=float32),\n",
              " Array(-12.833458, dtype=float32),\n",
              " Array(-12.803606, dtype=float32),\n",
              " Array(-12.839929, dtype=float32),\n",
              " Array(-12.825649, dtype=float32),\n",
              " Array(-13.079665, dtype=float32),\n",
              " Array(-12.851637, dtype=float32),\n",
              " Array(-12.945369, dtype=float32),\n",
              " Array(-12.804991, dtype=float32),\n",
              " Array(-12.841266, dtype=float32),\n",
              " Array(-13.008708, dtype=float32),\n",
              " Array(-13.093525, dtype=float32),\n",
              " Array(-12.739721, dtype=float32),\n",
              " Array(-13.020522, dtype=float32),\n",
              " Array(-13.100618, dtype=float32),\n",
              " Array(-12.823519, dtype=float32),\n",
              " Array(-13.046975, dtype=float32),\n",
              " Array(-12.941076, dtype=float32),\n",
              " Array(-12.969591, dtype=float32),\n",
              " Array(-12.896013, dtype=float32),\n",
              " Array(-13.123186, dtype=float32),\n",
              " Array(-12.97829, dtype=float32),\n",
              " Array(-13.018295, dtype=float32),\n",
              " Array(-12.671953, dtype=float32),\n",
              " Array(-13.055736, dtype=float32),\n",
              " Array(-12.898915, dtype=float32),\n",
              " Array(-12.910435, dtype=float32)]"
            ]
          },
          "metadata": {},
          "execution_count": 90
        }
      ],
      "source": [
        "LB_estimate"
      ]
    },
    {
      "cell_type": "code",
      "execution_count": null,
      "metadata": {
        "id": "OivZbTI6Hgre",
        "colab": {
          "base_uri": "https://localhost:8080/",
          "height": 487
        },
        "outputId": "7024ce49-c760-4d64-df85-bb0b42ebe9c8"
      },
      "outputs": [
        {
          "output_type": "execute_result",
          "data": {
            "text/plain": [
              "<Axes: title={'center': 'Lower Bound Estimate'}>"
            ]
          },
          "metadata": {},
          "execution_count": 91
        },
        {
          "output_type": "display_data",
          "data": {
            "text/plain": [
              "<Figure size 640x480 with 0 Axes>"
            ]
          },
          "metadata": {}
        },
        {
          "output_type": "display_data",
          "data": {
            "text/plain": [
              "<Figure size 640x480 with 1 Axes>"
            ],
            "image/png": "[encoded data removed]"
          },
          "metadata": {}
        }
      ],
      "source": [
        "lb_df = pd.DataFrame(np.array(LB_estimate))\n",
        "plt.figure()\n",
        "lb_df.plot(title = 'Lower Bound Estimate', legend = False)"
      ]
    },
    {
      "cell_type": "code",
      "execution_count": null,
      "metadata": {
        "id": "6pS0M6tqHkz7",
        "colab": {
          "base_uri": "https://localhost:8080/",
          "height": 487
        },
        "outputId": "94355fe8-94e7-4684-9512-eac7eda379ae"
      },
      "outputs": [
        {
          "output_type": "execute_result",
          "data": {
            "text/plain": [
              "<Axes: title={'center': 'Smoothed Lower Bound Estimate'}>"
            ]
          },
          "metadata": {},
          "execution_count": 92
        },
        {
          "output_type": "display_data",
          "data": {
            "text/plain": [
              "<Figure size 640x480 with 0 Axes>"
            ]
          },
          "metadata": {}
        },
        {
          "output_type": "display_data",
          "data": {
            "text/plain": [
              "<Figure size 640x480 with 1 Axes>"
            ],
            "image/png": "[encoded data removed]"
          },
          "metadata": {}
        }
      ],
      "source": [
        "lb_df = pd.DataFrame(np.array(smoothed_LB_estimate))\n",
        "plt.figure()\n",
        "lb_df.plot(title = 'Smoothed Lower Bound Estimate', legend = False)"
      ]
    },
    {
      "cell_type": "code",
      "execution_count": null,
      "metadata": {
        "id": "ZMBPL4WBOkJl",
        "colab": {
          "base_uri": "https://localhost:8080/"
        },
        "outputId": "3f232c7e-a051-4ec4-f3c5-648f1207a31a"
      },
      "outputs": [
        {
          "output_type": "execute_result",
          "data": {
            "text/plain": [
              "Array([ 1.2641485 ,  1.121864  , -0.01548264, -0.03683272], dtype=float32)"
            ]
          },
          "metadata": {},
          "execution_count": 93
        }
      ],
      "source": [
        "best_lambda_mu"
      ]
    },
    {
      "cell_type": "code",
      "execution_count": null,
      "metadata": {
        "id": "oq-r8f_fOzf-",
        "colab": {
          "base_uri": "https://localhost:8080/"
        },
        "outputId": "2b140e87-7cf7-46be-e8ad-07ca79950f6b"
      },
      "outputs": [
        {
          "output_type": "execute_result",
          "data": {
            "text/plain": [
              "Array([ 1.0036681e+01, -1.9942826e-02,  3.8977454e-03,  1.8291861e-02,\n",
              "        1.0023727e+01, -1.7365007e-02, -2.6552984e-02,  9.9140053e+00,\n",
              "       -5.9761602e-02,  9.9858627e+00], dtype=float32)"
            ]
          },
          "metadata": {},
          "execution_count": 94
        }
      ],
      "source": [
        "best_lambda_l"
      ]
    },
    {
      "cell_type": "code",
      "execution_count": null,
      "metadata": {
        "id": "t_dlyNH3CEjs",
        "colab": {
          "base_uri": "https://localhost:8080/"
        },
        "outputId": "dacf943c-d371-4199-ea24-9e262f0554e3"
      },
      "outputs": [
        {
          "output_type": "execute_result",
          "data": {
            "text/plain": [
              "Array([ 1.8004265 ,  0.508798  ,  0.99393535, -0.04490667], dtype=float32)"
            ]
          },
          "metadata": {},
          "execution_count": 95
        }
      ],
      "source": [
        "best_mu = best_lambda_mu\n",
        "best_vech_l = list(best_lambda_l)\n",
        "best_l = jnp.zeros((num_coeffs, num_coeffs))\n",
        "for i in range(num_coeffs):\n",
        "    best_l = best_l.at[i:num_coeffs,i].set(best_vech_l[:num_coeffs - i])\n",
        "    del best_vech_l[:num_coeffs-i]\n",
        "best_Sigma_inv = best_l @ best_l.T\n",
        "best_Sigma =  my_inv(best_Sigma_inv)\n",
        "\n",
        "best_theta_tilde = random.multivariate_normal(subkeys[10], mean = best_mu, cov = best_Sigma, shape = (1000,))\n",
        "best_alpha = (2 * jnp.exp(best_theta_tilde[:,0]) + 1.1) / (1 + jnp.exp(best_theta_tilde[:,0]))\n",
        "best_beta = (jnp.exp(best_theta_tilde[:,1]) - 1) / (jnp.exp(best_theta_tilde[:,1]) + 1)\n",
        "best_gamma = jnp.exp(best_theta_tilde[:,2])\n",
        "best_delta = best_theta_tilde[:,3]\n",
        "best_theta = jnp.array([best_alpha, best_beta, best_gamma, best_delta])\n",
        "posterior_mean_estimate = jnp.mean(best_theta, axis = 1)\n",
        "posterior_mean_estimate"
      ]
    },
    {
      "cell_type": "code",
      "execution_count": null,
      "metadata": {
        "id": "79EAwAzbgQ4l",
        "colab": {
          "base_uri": "https://localhost:8080/"
        },
        "outputId": "9154505d-f38c-4dd9-d08b-e92e46df9258"
      },
      "outputs": [
        {
          "output_type": "execute_result",
          "data": {
            "text/plain": [
              "0.046162497"
            ]
          },
          "metadata": {},
          "execution_count": 96
        }
      ],
      "source": [
        "np.linalg.norm(posterior_mean_estimate - true_theta)"
      ]
    },
    {
      "cell_type": "code",
      "execution_count": null,
      "metadata": {
        "id": "l5X1gWgG3HNu"
      },
      "outputs": [],
      "source": [
        "## FIND THE BEST THETA USING VB-NUISSANCE"
      ]
    },
    {
      "cell_type": "code",
      "execution_count": null,
      "metadata": {
        "id": "uHUB4VU13k4C"
      },
      "outputs": [],
      "source": [
        "num_latent = len(true_theta)\n",
        "\n",
        "sigma_theta = 10\n",
        "sigma_latent = 1"
      ]
    },
    {
      "cell_type": "code",
      "execution_count": null,
      "metadata": {
        "id": "M3uVrxNr3PGx"
      },
      "outputs": [],
      "source": [
        "def mean_adjustment_summary_statistics(adjusted_theta, n_samples, n_datasets):\n",
        "    theta = adjusted_theta[0:num_coeffs]\n",
        "    Gamma = adjusted_theta[-num_latent:]\n",
        "    sample_mean, sample_variance = summary_statistics(theta, n_samples, n_datasets)\n",
        "\n",
        "    adjusted_sample_mean = sample_mean + jnp.diag(jnp.sqrt(sample_variance)) * Gamma\n",
        "    return adjusted_sample_mean, sample_variance"
      ]
    },
    {
      "cell_type": "code",
      "execution_count": null,
      "metadata": {
        "id": "LC3X5r7d3VZq"
      },
      "outputs": [],
      "source": [
        "@partial(jit, static_argnames=['sigma_theta','num_coeffs'])\n",
        "def prior_nuissance(theta, sigma_theta, num_coeffs):\n",
        "    log_prior = multivariate_normal.logpdf(theta, mean = jnp.array([0] * num_coeffs), cov= sigma_theta * jnp.identity(num_coeffs))\n",
        "    return log_prior"
      ]
    },
    {
      "cell_type": "code",
      "execution_count": null,
      "metadata": {
        "id": "hLdyV5Hy4CTu"
      },
      "outputs": [],
      "source": [
        "def mean_adjustment_unbiased_log_likelihood(gs_adjusted_theta, actual_summary_statistics, n_samples, num_datasets):\n",
        "    mean_adjust_ss = mean_adjustment_summary_statistics(gs_adjusted_theta, n_samples, num_datasets)\n",
        "    adjusted_sample_mean = mean_adjust_ss[0]\n",
        "    sample_variance = mean_adjust_ss[1]\n",
        "    # u_est_log_likelihood = multivariate_normal.logpdf(actual_summary_statistics, mean = adjusted_sample_mean, cov= sample_variance)\n",
        "\n",
        "    diff_mean_s = actual_summary_statistics - adjusted_sample_mean\n",
        "    part1 = diff_mean_s.T @ jnp.linalg.solve(sample_variance, diff_mean_s)\n",
        "    u_est_log_likelihood = -1/2 * jnp.linalg.slogdet(sample_variance)[1] -1/2 * part1\n",
        "\n",
        "    return u_est_log_likelihood"
      ]
    },
    {
      "cell_type": "code",
      "execution_count": null,
      "metadata": {
        "id": "aMrxeUFb4fJQ"
      },
      "outputs": [],
      "source": [
        "@jit\n",
        "def nuissance_mean_adjustment_unbiased_log_likelihood(Gamma, mean_nuissance, variance_nuissance):\n",
        "    nuissance_mean_u_est_log_likelihood = multivariate_normal.logpdf(Gamma, mean = mean_nuissance, cov= variance_nuissance)\n",
        "    return nuissance_mean_u_est_log_likelihood"
      ]
    },
    {
      "cell_type": "code",
      "execution_count": null,
      "metadata": {
        "id": "EobmgbsU4nmI"
      },
      "outputs": [],
      "source": [
        "class GVB_nuissance:\n",
        "    def __init__(self, samples, actual_summary_statistics, learning_rate, threshold, l_threshold, adaptive_lr_1, adaptive_lr_2, t_w, Patience):\n",
        "        self.samples = samples\n",
        "        self.actual_summary_statistics = actual_summary_statistics\n",
        "        self.num_coeffs = len(true_theta) # number of coeffs\n",
        "        self.learning_rate = learning_rate\n",
        "        self.threshold = threshold\n",
        "        self.l_threshold = l_threshold\n",
        "        self.adaptive_lr_1 = adaptive_lr_1\n",
        "        self.adaptive_lr_2 = adaptive_lr_2\n",
        "        self.t_w = t_w\n",
        "        self.Patience = Patience\n",
        "\n",
        "    def fun_gradient_lb(self, theta_tilde_q, mu_q, l_q, c_mu, c_l):\n",
        "        # Calculate theta from mu, l (lambda)\n",
        "        alpha_q = (2 * jnp.exp(theta_tilde_q[0]) + 1.1) / (1 + jnp.exp(theta_tilde_q[0]))\n",
        "        beta_q = (jnp.exp(theta_tilde_q[1]) - 1) / (jnp.exp(theta_tilde_q[1]) + 1)\n",
        "        gamma_q = jnp.exp(theta_tilde_q[2])\n",
        "        delta_q = theta_tilde_q[3]\n",
        "        theta_q = jnp.array([alpha_q, beta_q, gamma_q, delta_q])\n",
        "\n",
        "        ss_q = summary_statistics(theta_q, n_samples, num_datasets)\n",
        "        sample_mean_q = ss_q[0]\n",
        "        sample_variance_q = ss_q[1]\n",
        "        # Nuissance mean and variance\n",
        "        mean_nuissance_p1_non_inv = jnp.identity(num_latent) / sigma_latent + jnp.diag(sample_variance_q).T @ jnp.linalg.solve(sample_variance_q, jnp.diag(sample_variance_q))\n",
        "        mean_nuissance_p1 = jnp.linalg.solve(mean_nuissance_p1_non_inv, jnp.eye(mean_nuissance_p1_non_inv.shape[0]))\n",
        "        diag_var = jnp.zeros((num_coeffs, num_coeffs)).at[jnp.diag_indices_from(sample_variance_q)].set(jnp.diag(sample_variance_q))\n",
        "        diff_mean = self.actual_summary_statistics - sample_mean_q\n",
        "        mean_nuissance_p2 = diag_var @ jnp.linalg.solve(sample_variance_q, diff_mean)\n",
        "        mean_nuissance_q = mean_nuissance_p1 @ mean_nuissance_p2\n",
        "\n",
        "        variance_nuissance_q = mean_nuissance_p1\n",
        "\n",
        "        # Generate Gamma\n",
        "        Gamma = random.multivariate_normal(key2, mean = mean_nuissance_q, cov = variance_nuissance_q)\n",
        "        adjusted_theta_q = jnp.concatenate((theta_q, Gamma))\n",
        "\n",
        "        # Find gradient of LB\n",
        "        llh = mean_adjustment_unbiased_log_likelihood(theta_q, self.actual_summary_statistics, n_samples, num_datasets)\n",
        "        llh_gamma = nuissance_mean_adjustment_unbiased_log_likelihood(Gamma, mean_nuissance_q, variance_nuissance_q)\n",
        "\n",
        "        h_lambda = prior_nuissance(theta_tilde_q, sigma_theta, num_coeffs) + prior_nuissance(Gamma, sigma_latent, num_latent) + llh - fun_log_q(theta_tilde_q, mu_q, l_q) - llh_gamma\n",
        "\n",
        "        # Find gradient of LB\n",
        "        grad_log_q_mu, grad_log_q_l = gradient_log_q(theta_tilde_q, mu_q, l_q, num_coeffs)\n",
        "        gradient_lb_mu = grad_log_q_mu * (h_lambda - c_mu)\n",
        "        gradient_lb_l = grad_log_q_l * (h_lambda - c_l)\n",
        "        # Calculate control variates\n",
        "        flattened_gradient_log_q = jnp.concatenate((grad_log_q_mu, grad_log_q_l), axis = None)\n",
        "        flattened_gradient_lb = jnp.concatenate((gradient_lb_mu, gradient_lb_l), axis = None)\n",
        "\n",
        "        return gradient_lb_mu, gradient_lb_l, h_lambda, flattened_gradient_log_q, flattened_gradient_lb\n",
        "\n",
        "    def vb_posterior(self, stop):\n",
        "        # Initialize mu_0, L_0\n",
        "        # mu_0 = np.array([np.log((self.actual_summary_statistics[0]-1.1)/(2-self.actual_summary_statistics[0])), np.log((1+self.actual_summary_statistics[1])/(1-self.actual_summary_statistics[1])), np.log(self.actual_summary_statistics[2]), self.actual_summary_statistics[3]])\n",
        "        #mu_0 = np.array([1.5, 0.5, 3, 0])\n",
        "        mu_0 = jnp.array([jnp.log((1.8-1.1)/(2-1.8)),jnp.log((0.5+1)/(1-0.5)),jnp.log(1),0])\n",
        "        #mu_0 = np.array([self.actual_summary_statistics[0], self.actual_summary_statistics[1], self.actual_summary_statistics[2], self.actual_summary_statistics[3]])\n",
        "        # mu_0 = np.array([0] * self.num_coeffs)\n",
        "        l_0 = jnp.tril(jnp.identity(self.num_coeffs) * 10)\n",
        "        Sigma_0_inv = l_0 @ l_0.T\n",
        "        Sigma_0 = jnp.linalg.solve(Sigma_0_inv, jnp.eye(Sigma_0_inv.shape[0]))\n",
        "        ### Change ways to get vech(l0)\n",
        "        vech_l0 = l_0.T[jnp.triu_indices(self.num_coeffs)]\n",
        "\n",
        "        # Initilize best lambda\n",
        "        lambda_best_mu = mu_0\n",
        "        lambda_best_l = vech_l0\n",
        "        # List of calculations of LB\n",
        "        LB_all = []\n",
        "        LB_Smoothed = []\n",
        "        patience = 0\n",
        "        # List of flattened gradients\n",
        "        Flattened_gradient_lb = []\n",
        "        Flattened_gradient_log_q = []\n",
        "\n",
        "        func_auto = vmap(self.fun_gradient_lb, in_axes=[0, None, None, None, None])\n",
        "\n",
        "        for t in tqdm(range(stop)):\n",
        "            if t == 0:\n",
        "                # Draw samples of theta from  variational q\n",
        "                # List of gradients\n",
        "                theta_0_samples = random.multivariate_normal(subkeys[t], mean = mu_0, cov = Sigma_0, shape = (self.samples,))\n",
        "                gradient_lb_mu_0, gradient_lb_l_0, lb_0, Flattened_gradient_log_q, Flattened_gradient_lb = func_auto(theta_0_samples, mu_0, l_0, 0, 0)\n",
        "                # Calculate control variates using all samples\n",
        "                c_mu, c_vech_l = control_variates(Flattened_gradient_log_q, Flattened_gradient_lb)\n",
        "                # Update lambda_q\n",
        "                self.g_mu_init = jnp.mean(gradient_lb_mu_0, axis = 0)\n",
        "                self.g_vech_l_init = jnp.mean(gradient_lb_l_0, axis = 0)\n",
        "                # Gradient clipping\n",
        "                if jnp.linalg.norm(jnp.concatenate((self.g_mu_init, self.g_vech_l_init), axis = None)) > self.l_threshold:\n",
        "                    self.g_mu_init = self.l_threshold * self.g_mu_init / jnp.linalg.norm(jnp.concatenate((self.g_mu_init, self.g_vech_l_init), axis = None))\n",
        "                    self.g_vech_l_init = self.l_threshold * self.g_vech_l_init / jnp.linalg.norm(jnp.concatenate((self.g_mu_init, self.g_vech_l_init), axis = None))\n",
        "                self.v_mu_init = self.g_mu_init ** 2\n",
        "                self.v_vech_l_init = self.g_vech_l_init ** 2\n",
        "                # Calculate lower bound\n",
        "                LB_all.append(jnp.mean(lb_0))\n",
        "                print('LB', (jnp.mean(lb_0)))\n",
        "                lambda_q_mu = mu_0\n",
        "                lambda_q_l = vech_l0\n",
        "\n",
        "            if t > 0:\n",
        "                # From lambda_q find mu_q and L_q\n",
        "                mu_q = lambda_q_mu\n",
        "\n",
        "                ### Change ways to convert from vech_l0 to l0\n",
        "                vech_lq = list(lambda_q_l)\n",
        "                l_q = jnp.zeros((self.num_coeffs, self.num_coeffs))\n",
        "                # l_q[:, 0] = lambda_q[1][0:self.num_coeffs]\n",
        "                # l_q[1:self.num_coeffs, 1] = lambda_q[1][4:7]\n",
        "                # l_q[2:self.num_coeffs, 2] = lambda_q[1][7:9]\n",
        "                # l_q[3:self.num_coeffs, 3] = lambda_q[1][9:10]\n",
        "                for i in range(self.num_coeffs):\n",
        "                    l_q = l_q.at[i:self.num_coeffs,i].set(vech_lq[:self.num_coeffs - i])\n",
        "                    del vech_lq[:self.num_coeffs-i]\n",
        "\n",
        "                Sigma_q_inv = l_q @ l_q.T\n",
        "                Sigma_q =  jnp.linalg.solve(Sigma_q_inv, jnp.eye(Sigma_q_inv.shape[0]))\n",
        "                l_q_inv =  jnp.linalg.solve(l_q, jnp.eye(l_q.shape[0]))\n",
        "                # List of gradients\n",
        "                Gradient_lb = []\n",
        "                lb_t = []\n",
        "                theta_q_samples = random.multivariate_normal(subkeys[t], mean = mu_q, cov = Sigma_q, shape = (self.samples,))\n",
        "                gradient_lb_mu, gradient_lb_l, lb_t, Flattened_gradient_log_q, Flattened_gradient_lb = func_auto(theta_q_samples, mu_q, l_q, c_mu, c_vech_l)\n",
        "\n",
        "                # Update control variates\n",
        "                c_mu, c_vech_l = control_variates(Flattened_gradient_log_q, Flattened_gradient_lb)\n",
        "                # Update lambda_q\n",
        "                g_mu_t = jnp.mean(gradient_lb_mu, axis = 0)\n",
        "                g_vech_l_t = jnp.mean(gradient_lb_l, axis = 0)\n",
        "                # Gradient clipping\n",
        "                if jnp.linalg.norm(jnp.concatenate((g_mu_t, g_vech_l_t), axis = None)) > self.l_threshold:\n",
        "                    g_mu_t = self.l_threshold * g_mu_t / jnp.linalg.norm(jnp.concatenate((g_mu_t, g_vech_l_t), axis = None))\n",
        "                    g_vech_l_t = self.l_threshold * g_vech_l_t / jnp.linalg.norm(jnp.concatenate((g_mu_t, g_vech_l_t), axis = None))\n",
        "                v_mu_t = g_mu_t ** 2\n",
        "                v_vech_l_t = g_vech_l_t ** 2\n",
        "                #---- Update lambda\n",
        "                self.g_mu_init = self.adaptive_lr_1 * self.g_mu_init + (1 - self.adaptive_lr_1) * g_mu_t\n",
        "                self.g_vech_l_init = self.adaptive_lr_1 * self.g_vech_l_init + (1 - self.adaptive_lr_1) * g_vech_l_t\n",
        "\n",
        "                self.v_mu_init = self.adaptive_lr_2 * self.v_mu_init + (1 - self.adaptive_lr_2) * v_mu_t\n",
        "                self.v_vech_l_init = self.adaptive_lr_2 * self.v_vech_l_init + (1 - self.adaptive_lr_2) * v_vech_l_t\n",
        "\n",
        "                if t >= self.threshold:\n",
        "                    update_t = self.learning_rate * self.threshold / t\n",
        "                else:\n",
        "                    update_t = self.learning_rate\n",
        "\n",
        "                lambda_q_mu = lambda_q_mu + update_t * self.g_mu_init / (self.v_mu_init ** 0.5)\n",
        "                lambda_q_l = lambda_q_l + update_t * self.g_vech_l_init / (self.v_vech_l_init ** 0.5)\n",
        "                # Calculate lower bound\n",
        "                LB_all.append(jnp.mean(lb_t))\n",
        "\n",
        "                if t < self.t_w:\n",
        "                    print('LB', jnp.mean(lb_t))\n",
        "\n",
        "                if t >= self.t_w:\n",
        "                    LB_smoothed = jnp.mean(jnp.array(LB_all[t - self.t_w + 1 : t]))\n",
        "                    print('LB Smoothed', LB_smoothed)\n",
        "                    LB_Smoothed.append(LB_smoothed)\n",
        "                    if LB_smoothed >= jnp.max(jnp.array(LB_Smoothed)):\n",
        "                        patience = 0\n",
        "                        lambda_best_mu = lambda_q_mu\n",
        "                        lambda_best_l = lambda_q_l\n",
        "                    else:\n",
        "                        patience += 1\n",
        "                        if patience > self.Patience:\n",
        "                            print(\"Stop at\", t)\n",
        "                            break\n",
        "\n",
        "        return LB_all, LB_Smoothed, lambda_best_mu, lambda_best_l"
      ]
    },
    {
      "cell_type": "code",
      "execution_count": null,
      "metadata": {
        "id": "wtptnd8F430I"
      },
      "outputs": [],
      "source": [
        "vb_nuissance = GVB_nuissance(400, transformed_actual_summary_statistics[0], 0.005, 2500, 100, 0.9, 0.9, 50, 50)\n",
        "LB_estimate, smoothed_LB_estimate, best_lambda_mu, best_lambda_l = vb_nuissance.vb_posterior(stop)"
      ]
    }
  ],
  "metadata": {
    "colab": {
      "provenance": []
    },
    "kernelspec": {
      "display_name": "Python 3.7.11",
      "language": "python",
      "name": "python3"
    },
    "language_info": {
      "codemirror_mode": {
        "name": "ipython",
        "version": 3
      },
      "file_extension": ".py",
      "mimetype": "text/x-python",
      "name": "python",
      "nbconvert_exporter": "python",
      "pygments_lexer": "ipython3",
      "version": "3.7.11"
    },
    "vscode": {
      "interpreter": {
        "hash": "d1ea43ab9d17bb559e5232cc1d7d24428339cdd8b586c17a20f76ba563abd60e"
      }
    }
  },
  "nbformat": 4,
  "nbformat_minor": 0
}