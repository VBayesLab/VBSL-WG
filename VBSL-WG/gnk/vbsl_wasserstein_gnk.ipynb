{
 "cells": [
  {
   "cell_type": "code",
   "execution_count": 14,
   "metadata": {},
   "outputs": [],
   "source": [
    "import os\n",
    "import matplotlib.pyplot as plt\n",
    "import numpy as np\n",
    "import random\n",
    "import time\n",
    "import math\n",
    "#import numdifftools as nd\n",
    "import pandas as pd\n",
    "#import pymc3 as pm\n",
    "\n",
    "from tqdm import tqdm\n",
    "from sklearn import preprocessing\n",
    "from numpy.linalg import multi_dot\n",
    "import scipy\n",
    "import scipy.stats as ss\n",
    "from scipy.stats import invgamma\n",
    "from scipy.special import gamma\n",
    "from scipy.special import digamma\n",
    "from scipy.stats import multivariate_normal\n",
    "from scipy.stats import norm\n",
    "from scipy.stats import levy_stable\n",
    "from scipy.stats import gaussian_kde\n",
    "from sklearn.neighbors import KernelDensity\n",
    "from sklearn.model_selection import GridSearchCV\n",
    "from sklearn.model_selection import LeaveOneOut\n",
    "import sklearn.mixture\n",
    "\n",
    "import logging\n",
    "import warnings\n",
    "from functools import partial"
   ]
  },
  {
   "cell_type": "code",
   "execution_count": 15,
   "metadata": {},
   "outputs": [],
   "source": [
    "def simulate_gandk(theta, num_samples, c = 0.8):\n",
    "    zu = np.random.randn(num_samples,1)\n",
    "    f = (theta[0] + theta[1] * (1 + c * (1 - np.exp(-theta[2] * zu)) / (1 + np.exp(-theta[2] * zu))) * (1 + zu**2)**theta[3] * zu)\n",
    "    return f\n",
    "\n",
    "def compute_summary_statistics(y):\n",
    "    quant_y = []\n",
    "    for i in np.arange(0.125, 1, 0.125):\n",
    "        quant_y.append(np.quantile(y, i))\n",
    "    Sa = quant_y[3]\n",
    "    Sb = quant_y[5] - quant_y[1]\n",
    "    Sc = (quant_y[5] + quant_y[1] - 2 * quant_y[3]) / Sb\n",
    "    Sd = (quant_y[6] - quant_y[4] + quant_y[2] - quant_y[0]) / Sb\n",
    "    return np.array([Sa, Sb, Sc, Sd])"
   ]
  },
  {
   "cell_type": "code",
   "execution_count": 16,
   "metadata": {},
   "outputs": [],
   "source": [
    "true_theta = np.array([3, 1, 2, 0.5])\n",
    "num_coeffs = 4\n",
    "num_latent = 4\n",
    "num_datasets = 200\n",
    "num_samples = 200"
   ]
  },
  {
   "cell_type": "code",
   "execution_count": 17,
   "metadata": {},
   "outputs": [
    {
     "data": {
      "text/plain": [
       "array([[ 3.0269255 ],\n",
       "       [ 2.22807967],\n",
       "       [ 2.58857857],\n",
       "       [ 3.89966692],\n",
       "       [ 2.28511364],\n",
       "       [ 5.58419211],\n",
       "       [ 2.51893737],\n",
       "       [ 2.42864763],\n",
       "       [ 2.82293732],\n",
       "       [ 3.38644719],\n",
       "       [ 4.90125982],\n",
       "       [ 2.78053381],\n",
       "       [ 2.16689532],\n",
       "       [ 2.51614249],\n",
       "       [ 3.40985058],\n",
       "       [ 3.18228411],\n",
       "       [ 3.59479316],\n",
       "       [ 4.7055079 ],\n",
       "       [ 2.82342177],\n",
       "       [ 3.80718001],\n",
       "       [ 2.80031972],\n",
       "       [ 3.40468992],\n",
       "       [ 2.86684997],\n",
       "       [ 3.54816153],\n",
       "       [ 4.50061648],\n",
       "       [ 4.45844557],\n",
       "       [ 4.11201045],\n",
       "       [ 2.82782263],\n",
       "       [ 5.31691615],\n",
       "       [ 3.06632279],\n",
       "       [ 2.63919009],\n",
       "       [ 2.36760414],\n",
       "       [ 2.75450016],\n",
       "       [ 2.77268654],\n",
       "       [ 2.74406111],\n",
       "       [ 2.33581108],\n",
       "       [ 7.12485216],\n",
       "       [ 2.74685121],\n",
       "       [ 4.96919404],\n",
       "       [ 2.77517893],\n",
       "       [ 2.61536982],\n",
       "       [ 5.66776205],\n",
       "       [ 3.17303073],\n",
       "       [ 3.01971178],\n",
       "       [ 3.32622516],\n",
       "       [ 3.31667102],\n",
       "       [ 3.22308551],\n",
       "       [ 3.45224342],\n",
       "       [ 2.21226848],\n",
       "       [ 6.29867984],\n",
       "       [ 3.66068003],\n",
       "       [ 2.52050175],\n",
       "       [ 2.35139531],\n",
       "       [ 3.43672017],\n",
       "       [ 8.63561202],\n",
       "       [ 2.5778686 ],\n",
       "       [ 3.49792396],\n",
       "       [ 4.04471392],\n",
       "       [ 2.35466529],\n",
       "       [ 7.29435393],\n",
       "       [ 3.37609065],\n",
       "       [ 5.96784323],\n",
       "       [ 2.63109349],\n",
       "       [ 2.89377605],\n",
       "       [ 3.32799682],\n",
       "       [ 2.47682755],\n",
       "       [ 2.73971009],\n",
       "       [ 3.03132241],\n",
       "       [ 2.7510982 ],\n",
       "       [ 2.74649376],\n",
       "       [ 2.67794387],\n",
       "       [11.44132273],\n",
       "       [ 2.65353765],\n",
       "       [ 2.70576356],\n",
       "       [ 2.80433793],\n",
       "       [ 3.08842337],\n",
       "       [ 6.01077112],\n",
       "       [ 5.22926717],\n",
       "       [ 2.30950084],\n",
       "       [ 2.69810711],\n",
       "       [ 6.45676532],\n",
       "       [ 5.86932181],\n",
       "       [ 5.37460605],\n",
       "       [ 4.64449299],\n",
       "       [ 2.72750201],\n",
       "       [ 2.56565552],\n",
       "       [ 2.42355262],\n",
       "       [ 3.43483002],\n",
       "       [ 2.51655342],\n",
       "       [ 3.63144039],\n",
       "       [ 3.40384529],\n",
       "       [ 2.85308721],\n",
       "       [ 3.21670741],\n",
       "       [11.91251645],\n",
       "       [ 4.57437044],\n",
       "       [ 3.01863825],\n",
       "       [ 6.70803097],\n",
       "       [ 4.02421446],\n",
       "       [ 3.94367024],\n",
       "       [ 3.1554937 ],\n",
       "       [ 3.91731572],\n",
       "       [ 2.77594055],\n",
       "       [ 3.29368337],\n",
       "       [ 2.19931568],\n",
       "       [10.46304498],\n",
       "       [ 5.09405574],\n",
       "       [ 2.52855512],\n",
       "       [ 2.7651559 ],\n",
       "       [ 2.57245653],\n",
       "       [ 2.49778426],\n",
       "       [ 2.86834061],\n",
       "       [ 2.5518165 ],\n",
       "       [ 1.88207357],\n",
       "       [17.44259598],\n",
       "       [ 2.77960626],\n",
       "       [ 2.43500475],\n",
       "       [ 2.44063375],\n",
       "       [ 4.81820832],\n",
       "       [ 2.76841623],\n",
       "       [ 2.74801203],\n",
       "       [ 3.79131631],\n",
       "       [ 3.0752839 ],\n",
       "       [ 3.12042062],\n",
       "       [ 2.51224042],\n",
       "       [ 2.3834885 ],\n",
       "       [ 5.61367826],\n",
       "       [ 3.00754141],\n",
       "       [ 2.50648006],\n",
       "       [ 2.60917241],\n",
       "       [ 5.82242457],\n",
       "       [ 2.35039572],\n",
       "       [ 2.80384618],\n",
       "       [ 2.61011894],\n",
       "       [ 3.00573462],\n",
       "       [ 5.77273022],\n",
       "       [ 5.61982887],\n",
       "       [ 6.32682354],\n",
       "       [ 2.40782614],\n",
       "       [ 2.05934108],\n",
       "       [ 3.08538033],\n",
       "       [ 6.15713948],\n",
       "       [ 2.02671889],\n",
       "       [10.22319856],\n",
       "       [ 2.793351  ],\n",
       "       [ 2.55159066],\n",
       "       [ 2.84260135],\n",
       "       [ 3.25314852],\n",
       "       [ 2.74321402],\n",
       "       [ 2.66340029],\n",
       "       [ 2.58527576],\n",
       "       [ 4.79197276],\n",
       "       [ 2.4540893 ],\n",
       "       [ 7.00538668],\n",
       "       [ 2.72863535],\n",
       "       [ 3.24990188],\n",
       "       [ 3.20875692],\n",
       "       [ 4.00233322],\n",
       "       [12.50998746],\n",
       "       [ 3.07056974],\n",
       "       [ 3.20215405],\n",
       "       [ 2.90671294],\n",
       "       [ 2.73192591],\n",
       "       [ 3.19478668],\n",
       "       [ 2.15749303],\n",
       "       [ 2.19875711],\n",
       "       [ 2.91037957],\n",
       "       [ 3.22635002],\n",
       "       [ 2.78098427],\n",
       "       [ 2.53239583],\n",
       "       [ 6.30712864],\n",
       "       [ 2.99653722],\n",
       "       [ 2.90562921],\n",
       "       [ 5.65710472],\n",
       "       [ 6.08192251],\n",
       "       [ 3.82661489],\n",
       "       [ 2.96691689],\n",
       "       [ 2.72973685],\n",
       "       [ 4.64911739],\n",
       "       [ 3.22286791],\n",
       "       [ 3.0324912 ],\n",
       "       [ 6.95279243],\n",
       "       [ 2.4681867 ],\n",
       "       [ 2.75786785],\n",
       "       [ 2.65649485],\n",
       "       [ 2.43776611],\n",
       "       [ 2.42318751],\n",
       "       [ 2.89300204],\n",
       "       [ 4.18006974],\n",
       "       [ 2.22247853],\n",
       "       [ 4.58166692],\n",
       "       [ 3.91016286],\n",
       "       [ 3.36134094],\n",
       "       [ 2.98442553],\n",
       "       [ 2.45128271],\n",
       "       [ 5.94580748],\n",
       "       [ 2.43508195],\n",
       "       [ 5.92956395],\n",
       "       [ 2.50286608],\n",
       "       [ 6.34786337],\n",
       "       [ 2.70561188]])"
      ]
     },
     "execution_count": 17,
     "metadata": {},
     "output_type": "execute_result"
    }
   ],
   "source": [
    "actual_data = simulate_gandk(true_theta, num_samples)\n",
    "actual_data"
   ]
  },
  {
   "cell_type": "code",
   "execution_count": 18,
   "metadata": {},
   "outputs": [
    {
     "data": {
      "text/plain": [
       "array([3.00663801, 1.38064096, 0.45029091, 2.03572641])"
      ]
     },
     "execution_count": 18,
     "metadata": {},
     "output_type": "execute_result"
    }
   ],
   "source": [
    "actual_summary_statistics = compute_summary_statistics(actual_data)\n",
    "actual_summary_statistics"
   ]
  },
  {
   "cell_type": "code",
   "execution_count": 26,
   "metadata": {},
   "outputs": [],
   "source": [
    "def my_inv(x):\n",
    "    return np.linalg.inv(x + (np.eye(x.shape[0]) * 1e-7))"
   ]
  },
  {
   "cell_type": "markdown",
   "metadata": {},
   "source": [
    "## Training Wasserstein Gaussianing"
   ]
  },
  {
   "cell_type": "code",
   "execution_count": 19,
   "metadata": {},
   "outputs": [],
   "source": [
    "wass_num_datasets = 6000\n",
    "wass_n_samples = 100\n",
    "maxG = 3"
   ]
  },
  {
   "cell_type": "code",
   "execution_count": 20,
   "metadata": {},
   "outputs": [],
   "source": [
    "wass_n_summary_statistics = np.zeros((wass_num_datasets, num_latent))\n",
    "for i in range(0, wass_num_datasets):\n",
    "    y = simulate_gandk(true_theta, num_samples)\n",
    "    wass_n_summary_statistics[i,:] = compute_summary_statistics(y)"
   ]
  },
  {
   "cell_type": "code",
   "execution_count": 27,
   "metadata": {},
   "outputs": [],
   "source": [
    "# Divide the synthetic data to train, test, val\n",
    "wass_train_summary_statistics = wass_n_summary_statistics[:int(wass_num_datasets/3),:]\n",
    "wass_val_summary_statistics = wass_n_summary_statistics[int(wass_num_datasets/3):int(wass_num_datasets * 2/3),:]\n",
    "wass_test_summary_statistics = wass_n_summary_statistics[int(wass_num_datasets * 2/3):wass_num_datasets,:]\n",
    "\n",
    "original_train_summary_statistics = wass_train_summary_statistics\n",
    "original_test_summary_statistics = wass_test_summary_statistics"
   ]
  },
  {
   "cell_type": "code",
   "execution_count": 22,
   "metadata": {},
   "outputs": [],
   "source": [
    "def mixture_model_fit(data, maxG):\n",
    "    bic_values = []\n",
    "    for g in np.arange(1, maxG+1):\n",
    "        mixture_obj = sklearn.mixture.GaussianMixture(n_components = g, reg_covar = 1e-5).fit(data)\n",
    "        bic_values.append(mixture_obj.bic(data))\n",
    "    bestG = np.argmin(bic_values) + 1\n",
    "    best_mixture_obj = sklearn.mixture.GaussianMixture(n_components = bestG, reg_covar = 1e-5).fit(data)\n",
    "    mean_mixture_obj = best_mixture_obj.means_\n",
    "    sigma_mixture_obj = best_mixture_obj.covariances_\n",
    "    weights_mixture_obj = best_mixture_obj.weights_\n",
    "    return best_mixture_obj, bestG, np.array(mean_mixture_obj), np.array(sigma_mixture_obj), np.array(weights_mixture_obj)"
   ]
  },
  {
   "cell_type": "code",
   "execution_count": 23,
   "metadata": {},
   "outputs": [],
   "source": [
    "def grad_log_density_mixture(data, mean_mixture_obj, sigma_mixture_obj, weights_mixture_obj):\n",
    "    bestG = len(weights_mixture_obj)\n",
    "\n",
    "    loglh_all_mixture = []\n",
    "    grad_loglh_all_mixture = []\n",
    "    for k in range(bestG):\n",
    "        mean_kth_mixture = mean_mixture_obj[k,:] #1 x g\n",
    "        sigma_kth_mixture = sigma_mixture_obj[k,:] # g x g\n",
    "        weight_kth_mixture = weights_mixture_obj[k] \n",
    "        diff_mean_kth_mixture = data - mean_kth_mixture #99 x g aux\n",
    "        loglh_all_mixture.append(np.log(weight_kth_mixture) - num_coeffs/2 * np.log(2 * np.pi)-1/2 * np.log(np.linalg.det(sigma_kth_mixture)) - 1/2 * np.diag(diff_mean_kth_mixture @ my_inv(sigma_kth_mixture) @ diff_mean_kth_mixture.T)) # 99x99 -> diag:1x99->gx99 lw\n",
    "        grad_loglh_all_mixture.append(-diff_mean_kth_mixture @ my_inv(sigma_kth_mixture)) #M =99 x dim of ss =4\n",
    "\n",
    "    max_llh_all_data = np.max(loglh_all_mixture, axis = 0) # 99 x 1\n",
    "    aux_llh_all_data = loglh_all_mixture - max_llh_all_data #g x 99\n",
    "    w_all_data = np.exp(aux_llh_all_data) / np.sum(np.exp(aux_llh_all_data), axis = 0) #g x 99\n",
    "    log_f = np.log(np.sum(np.exp(aux_llh_all_data), axis = 0)) + max_llh_all_data #99 x 1\n",
    "\n",
    "    grad_log_f = 0\n",
    "    for k in range(bestG):    \n",
    "        grad_log_f = grad_log_f + np.tile(np.reshape(w_all_data[k,:], (len(data),1)),(1,len(actual_summary_statistics))) * grad_loglh_all_mixture[k] #data x num_coeff\n",
    "    return log_f, grad_log_f"
   ]
  },
  {
   "cell_type": "code",
   "execution_count": 28,
   "metadata": {},
   "outputs": [],
   "source": [
    "# Start training\n",
    "\n",
    "# Hyperparams\n",
    "patience_max = 5\n",
    "patience = 0 \n",
    "stop = 5000\n",
    "eps = 0.01\n",
    "t_w = 20\n",
    "\n",
    "# Initialize empty chain\n",
    "mixture_obj_seq = []\n",
    "bestG_seq = []\n",
    "lb = []\n",
    "LB_Smoothed = []\n",
    "\n",
    "# At current particles, fit mixture normal\n",
    "mixture_model = mixture_model_fit(original_train_summary_statistics, maxG)\n",
    "mixture_obj_seq.append(mixture_model[0])\n",
    "bestG_seq.append(mixture_model[1])"
   ]
  },
  {
   "cell_type": "code",
   "execution_count": 29,
   "metadata": {},
   "outputs": [
    {
     "name": "stdout",
     "output_type": "stream",
     "text": [
      "LB -10.431884975583875\n",
      "LB -6.752486042199152\n",
      "LB -6.162995102746154\n",
      "LB -5.700268441391692\n",
      "LB -5.3092081391415835\n",
      "LB -4.966123363653178\n",
      "LB -4.658122329995003\n",
      "LB -4.377248395104331\n",
      "LB -4.118179842263417\n",
      "LB -3.877150896193419\n",
      "LB -3.651382482155276\n",
      "LB -3.4387555683491513\n",
      "LB -3.2376114261285447\n",
      "LB -3.0466232593920224\n",
      "LB -2.8647103184409035\n",
      "LB -2.690978499702766\n",
      "LB -2.5246781019270474\n",
      "LB -2.3651730603506746\n",
      "LB -2.21191807487988\n",
      "LB -2.0644412988145895\n",
      "LB Smoothed -3.8956870864646724\n",
      "LB Smoothed -3.6414684014661383\n",
      "LB Smoothed -3.4110594653154287\n",
      "LB Smoothed -3.1980350096072603\n",
      "LB Smoothed -2.998854637049503\n",
      "LB Smoothed -2.811211381608205\n",
      "LB Smoothed -2.633464675725785\n",
      "LB Smoothed -2.464381757991567\n",
      "LB Smoothed -2.3029999906281935\n",
      "LB Smoothed -2.148545837062939\n",
      "LB Smoothed -2.0003836915521287\n",
      "LB Smoothed -1.8580073446185592\n",
      "LB Smoothed -1.720904400885084\n",
      "LB Smoothed -1.588722260966229\n",
      "LB Smoothed -1.461123483610466\n",
      "LB Smoothed -1.3378120275554617\n",
      "LB Smoothed -1.2185260287002548\n",
      "LB Smoothed -1.1030321594121613\n",
      "LB Smoothed -0.9911211591587893\n",
      "LB Smoothed -0.8826042477748729\n",
      "LB Smoothed -0.7773102142490468\n",
      "LB Smoothed -0.6750830297039773\n",
      "LB Smoothed -0.5757798721967446\n",
      "LB Smoothed -0.47926947867268477\n",
      "LB Smoothed -0.3854307594417033\n",
      "LB Smoothed -0.2941516252530439\n",
      "LB Smoothed -0.20532798798706667\n",
      "LB Smoothed -0.11886290422538301\n",
      "LB Smoothed -0.0346658372402354\n",
      "LB Smoothed 0.04734798222221664\n",
      "LB Smoothed 0.12728364680473603\n",
      "LB Smoothed 0.20515511075206772\n",
      "LB Smoothed 0.2810685427295729\n",
      "LB Smoothed 0.35509054485965263\n",
      "LB Smoothed 0.4272841308910225\n",
      "LB Smoothed 0.49770902159354213\n",
      "LB Smoothed 0.5664219078664368\n",
      "LB Smoothed 0.6334766858350499\n",
      "LB Smoothed 0.6989246675549102\n",
      "LB Smoothed 0.7628147703995336\n",
      "LB Smoothed 0.8251936877580008\n",
      "LB Smoothed 0.8861060432926072\n",
      "LB Smoothed 0.9455945306919928\n",
      "LB Smoothed 1.00370004059019\n",
      "LB Smoothed 1.060461776098138\n",
      "LB Smoothed 1.1159173582043336\n",
      "LB Smoothed 1.170102922139649\n",
      "LB Smoothed 1.223053205663302\n",
      "LB Smoothed 1.274801630108617\n",
      "LB Smoothed 1.3253803749255209\n",
      "LB Smoothed 1.3748204463689662\n",
      "LB Smoothed 1.4231517409066283\n",
      "LB Smoothed 1.470403103853402\n",
      "LB Smoothed 1.51660238368302\n",
      "LB Smoothed 1.5617764824172053\n",
      "LB Smoothed 1.6059514024491826\n",
      "LB Smoothed 1.6491522901201434\n",
      "LB Smoothed 1.6914034763337331\n",
      "LB Smoothed 1.7327285144640716\n",
      "LB Smoothed 1.7731502157867989\n",
      "LB Smoothed 1.8126906826395894\n",
      "LB Smoothed 1.8513713394982092\n",
      "LB Smoothed 1.8892129621360856\n",
      "LB Smoothed 1.926235705019282\n",
      "LB Smoothed 1.9624591270744303\n",
      "LB Smoothed 1.997902215954413\n",
      "LB Smoothed 2.0325834109151284\n",
      "LB Smoothed 2.066520624406489\n",
      "LB Smoothed 2.099731262471579\n",
      "LB Smoothed 2.132232244039703\n",
      "LB Smoothed 2.1640400191916247\n",
      "LB Smoothed 2.195170586468626\n",
      "LB Smoothed 2.2256395092909953\n",
      "LB Smoothed 2.255461931546101\n",
      "LB Smoothed 2.2846525924013243\n",
      "LB Smoothed 2.313225840392601\n",
      "LB Smoothed 2.341195646835352\n",
      "LB Smoothed 2.3685756186008446\n",
      "LB Smoothed 2.3953790102977393\n",
      "LB Smoothed 2.421618735895494\n",
      "LB Smoothed 2.4473073798235645\n",
      "LB Smoothed 2.4724572075777713\n",
      "LB Smoothed 2.4970801758629317\n",
      "LB Smoothed 2.5211879422987087\n",
      "LB Smoothed 2.5447918747137224\n",
      "LB Smoothed 2.5679030600511648\n",
      "LB Smoothed 2.5905323129075724\n",
      "LB Smoothed 2.6126901837248666\n",
      "LB Smoothed 2.6343869666544513\n",
      "LB Smoothed 2.6556327071108377\n",
      "LB Smoothed 2.676437209031156\n",
      "LB Smoothed 2.696810041855795\n",
      "LB Smoothed 2.7167605472444465\n",
      "LB Smoothed 2.7362978455408995\n",
      "LB Smoothed 2.755430841999105\n",
      "LB Smoothed 2.7741682327822135\n",
      "LB Smoothed 2.792518510745603\n",
      "LB Smoothed 2.8104899710142037\n",
      "LB Smoothed 2.828090716363844\n",
      "LB Smoothed 2.8453286624157124\n",
      "LB Smoothed 2.8622115426525463\n",
      "LB Smoothed 2.87874691326461\n",
      "LB Smoothed 2.894942157833097\n",
      "LB Smoothed 2.910804491858125\n",
      "LB Smoothed 2.9263409671381218\n",
      "LB Smoothed 2.9415584760069855\n",
      "LB Smoothed 2.956463755435094\n",
      "LB Smoothed 2.971063390999857\n",
      "LB Smoothed 2.985363820731252\n",
      "LB Smoothed 2.9993713388374594\n",
      "LB Smoothed 3.0130920993154557\n",
      "LB Smoothed 3.0265321194511703\n",
      "LB Smoothed 3.039697283213586\n",
      "LB Smoothed 3.0525933445469136\n",
      "LB Smoothed 3.065225930564806\n",
      "LB Smoothed 3.0776005446503247\n",
      "LB Smoothed 3.0897225694652573\n",
      "LB Smoothed 3.1015972698721406\n",
      "LB Smoothed 3.113229795772243\n",
      "LB Smoothed 3.124625184862558\n",
      "LB Smoothed 3.1357883653147605\n",
      "LB Smoothed 3.146724158378893\n",
      "LB Smoothed 3.1574372809144746\n",
      "LB Smoothed 3.167932347851556\n",
      "LB Smoothed 3.1782138745841664\n",
      "LB Smoothed 3.187839659992874\n",
      "LB Smoothed 3.1977039656302635\n",
      "LB Smoothed 3.207367724995733\n",
      "LB Smoothed 3.2168350781944843\n",
      "LB Smoothed 3.226110076808302\n",
      "LB Smoothed 3.2351966859295525\n",
      "LB Smoothed 3.2440987861418202\n",
      "LB Smoothed 3.252820175448909\n",
      "LB Smoothed 3.261364571153844\n",
      "LB Smoothed 3.269735611689457\n",
      "LB Smoothed 3.277936858402068\n",
      "LB Smoothed 3.285971797289722\n",
      "LB Smoothed 3.293843840696372\n",
      "LB Smoothed 3.3015563289633643\n",
      "LB Smoothed 3.3091125320395065\n",
      "LB Smoothed 3.3165156510509646\n",
      "LB Smoothed 3.3237688198321904\n",
      "LB Smoothed 3.330875106419026\n",
      "LB Smoothed 3.337837514505096\n",
      "LB Smoothed 3.345105604168141\n",
      "LB Smoothed 3.351792316335755\n",
      "LB Smoothed 3.3583437670672325\n",
      "LB Smoothed 3.364762716359642\n",
      "LB Smoothed 3.3710518666534006\n",
      "LB Smoothed 3.377213864088676\n",
      "LB Smoothed 3.3832512997318447\n",
      "LB Smoothed 3.389166710772821\n",
      "LB Smoothed 3.394962581694073\n",
      "LB Smoothed 3.400641345412083\n",
      "LB Smoothed 3.4062053843920164\n",
      "LB Smoothed 3.4116570317363077\n",
      "LB Smoothed 3.416998572247877\n",
      "LB Smoothed 3.4222322434686427\n",
      "LB Smoothed 3.4273602366939864\n",
      "LB Smoothed 3.4323846979638106\n",
      "LB Smoothed 3.4373077290308003\n",
      "LB Smoothed 3.442131388306477\n",
      "LB Smoothed 3.446857691785621\n",
      "LB Smoothed 3.451488613949634\n",
      "LB Smoothed 3.45602608864936\n",
      "LB Smoothed 3.460472009967911\n",
      "LB Smoothed 3.464828233063984\n",
      "LB Smoothed 3.4690965749961786\n",
      "LB Smoothed 3.4732788155287886\n",
      "LB Smoothed 3.477376697919523\n",
      "LB Smoothed 3.4813919296896203\n",
      "LB Smoothed 3.4853261833767792\n",
      "LB Smoothed 3.48918109727134\n",
      "LB Smoothed 3.492958276136124\n",
      "LB Smoothed 3.496659291910329\n",
      "LB Smoothed 3.5002856843978782\n",
      "LB Smoothed 3.5038389619405823\n",
      "LB Smoothed 3.507320602076505\n",
      "LB Smoothed 3.5107320521838674\n",
      "LB Smoothed 3.5140747301108526\n",
      "LB Smoothed 3.5173500247916385\n",
      "LB Smoothed 3.520559296848992\n",
      "LB Smoothed 3.5237038791837363\n",
      "LB Smoothed 3.5267850775514127\n",
      "LB Smoothed 3.529804171126432\n",
      "LB Smoothed 3.5327624130540025\n",
      "LB Smoothed 3.53566103099013\n",
      "LB Smoothed 3.5385012276299745\n",
      "LB Smoothed 3.5412841812248095\n",
      "LB Smoothed 3.544011046087872\n",
      "LB Smoothed 3.5466829530893533\n",
      "LB Smoothed 3.5493010101407707\n",
      "LB Smoothed 3.5518663026689783\n",
      "LB Smoothed 3.5543798940800437\n",
      "LB Smoothed 3.5568428262132237\n",
      "LB Smoothed 3.5592561197852723\n",
      "LB Smoothed 3.5616207748252906\n",
      "LB Smoothed 3.5639377711003313\n",
      "LB Smoothed 3.5662080685319832\n",
      "LB Smoothed 3.5684326076041124\n",
      "LB Smoothed 3.5706123097619913\n",
      "LB Smoothed 3.572748077802973\n",
      "LB Smoothed 3.574840796258929\n",
      "LB Smoothed 3.5768913317706197\n",
      "LB Smoothed 3.578900533454181\n",
      "LB Smoothed 3.580869233259897\n",
      "LB Smoothed 3.5827982463234394\n",
      "LB Smoothed 3.584688371309733\n",
      "LB Smoothed 3.5865403907496076\n",
      "LB Smoothed 3.588355071369405\n",
      "LB Smoothed 3.590133164413685\n",
      "LB Smoothed 3.591875405961192\n",
      "LB Smoothed 3.5935825172342097\n",
      "LB Smoothed 3.595255204901488\n",
      "LB Smoothed 3.596894161374832\n",
      "LB Smoothed 3.5985000650995267\n",
      "LB Smoothed 3.600073580838724\n",
      "LB Smoothed 3.6016153599519103\n",
      "LB Smoothed 3.6031260406675965\n",
      "LB Smoothed 3.604606248350355\n",
      "LB Smoothed 3.6054457686591594\n",
      "LB Smoothed 3.606868277568402\n",
      "LB Smoothed 3.608262094972698\n",
      "LB Smoothed 3.609627797667781\n",
      "LB Smoothed 3.6109659508337124\n",
      "LB Smoothed 3.61227710827057\n",
      "LB Smoothed 3.6135618126292797\n",
      "LB Smoothed 3.6148205956376747\n",
      "LB Smoothed 3.6160539783219128\n",
      "LB Smoothed 3.617262471223314\n",
      "LB Smoothed 3.6184465746107564\n",
      "LB Smoothed 3.6196067786886883\n",
      "LB Smoothed 3.620743563800873\n",
      "LB Smoothed 3.6218574006299504\n",
      "LB Smoothed 3.62294875039289\n",
      "LB Smoothed 3.6240180650324536\n",
      "LB Smoothed 3.6250657874047145\n",
      "LB Smoothed 3.626092351462748\n",
      "LB Smoothed 3.6270981824365527\n",
      "LB Smoothed 3.6286945241124386\n",
      "LB Smoothed 3.6296587092407337\n",
      "LB Smoothed 3.630603406350861\n",
      "LB Smoothed 3.631529007181694\n",
      "LB Smoothed 3.6318607751936858\n",
      "LB Smoothed 3.632747972563336\n",
      "LB Smoothed 3.633617212386614\n",
      "LB Smoothed 3.6344688558334917\n",
      "LB Smoothed 3.635303256817495\n",
      "LB Smoothed 3.6361207621420313\n",
      "LB Smoothed 3.6369217116437262\n",
      "LB Smoothed 3.6377064383328546\n",
      "LB Smoothed 3.6384752685308976\n",
      "LB Smoothed 3.63922852200532\n",
      "LB Smoothed 3.639966512101591\n",
      "LB Smoothed 3.640689545872536\n",
      "LB Smoothed 3.641397924205045\n",
      "LB Smoothed 3.6420919419442246\n",
      "LB Smoothed 3.6427718880150186\n",
      "LB Smoothed 3.643438045541361\n",
      "LB Smoothed 3.644090691962917\n",
      "LB Smoothed 3.644730099149455\n",
      "LB Smoothed 3.6453565335128966\n",
      "LB Smoothed 3.646545376524537\n",
      "LB Smoothed 3.6471479979869663\n",
      "LB Smoothed 3.6477384040915943\n",
      "LB Smoothed 3.648316840519772\n",
      "LB Smoothed 3.6488835480236976\n",
      "LB Smoothed 3.6494387625254587\n",
      "LB Smoothed 3.649982715214072\n",
      "LB Smoothed 3.6505156326405737\n",
      "LB Smoothed 3.6510377368111753\n",
      "LB Smoothed 3.651549245278542\n",
      "LB Smoothed 3.6520503712312316\n",
      "LB Smoothed 3.6525413235813184\n",
      "LB Smoothed 3.6530223070502608\n",
      "LB Smoothed 3.6534935222530263\n",
      "LB Smoothed 3.6539551657805194\n",
      "LB Smoothed 3.6544074302803526\n",
      "LB Smoothed 3.654850504535985\n",
      "LB Smoothed 3.6552845735442636\n",
      "LB Smoothed 3.6557098185914096\n",
      "LB Smoothed 3.6561264173274575\n",
      "LB Smoothed 3.6565345438392143\n",
      "LB Smoothed 3.6569343687217333\n",
      "LB Smoothed 3.657326059148355\n",
      "LB Smoothed 3.6577097789393394\n",
      "LB Smoothed 3.6580856886291078\n",
      "LB Smoothed 3.658453945532144\n",
      "LB Smoothed 3.6588147038075594\n",
      "LB Smoothed 3.65916811452236\n",
      "LB Smoothed 3.659514325713446\n",
      "LB Smoothed 3.6598534824483604\n",
      "LB Smoothed 3.6601857268848126\n",
      "LB Smoothed 3.6605111983290155\n",
      "LB Smoothed 3.659904244296162\n",
      "LB Smoothed 3.660217038416613\n",
      "LB Smoothed 3.660523453615194\n",
      "LB Smoothed 3.6608236184762277\n",
      "LB Smoothed 3.661117659004867\n",
      "LB Smoothed 3.661405698678781\n",
      "LB Smoothed 3.6616878584987957\n",
      "LB Smoothed 3.6619642570385227\n",
      "LB Smoothed 3.662235010492987\n",
      "LB Smoothed 3.662500232726284\n",
      "LB Smoothed 3.6627600353182728\n",
      "LB Smoothed 3.663014527610338\n",
      "LB Smoothed 3.6632638167502316\n",
      "LB Smoothed 3.6635080077360116\n",
      "LB Smoothed 3.6637472034591045\n",
      "LB Smoothed 3.663981504746503\n",
      "LB Smoothed 3.6642110104021097\n",
      "LB Smoothed 3.6644358172472606\n",
      "LB Smoothed 3.6646560201604337\n",
      "LB Smoothed 3.6657975011128343\n",
      "LB Smoothed 3.666008311356351\n",
      "LB Smoothed 3.666214798336501\n",
      "LB Smoothed 3.6664170494178108\n",
      "LB Smoothed 3.6666151502110447\n",
      "LB Smoothed 3.6668091846083453\n",
      "LB Smoothed 3.66699923481764\n",
      "LB Smoothed 3.6671853813963806\n",
      "LB Smoothed 3.6673677032845875\n",
      "LB Smoothed 3.66754627783725\n",
      "LB Smoothed 3.6677211808560615\n",
      "LB Smoothed 3.6678924866205316\n",
      "LB Smoothed 3.6680602679184675\n",
      "LB Smoothed 3.6682245960758437\n",
      "LB Smoothed 3.668385540986082\n",
      "LB Smoothed 3.6685431711387357\n",
      "LB Smoothed 3.668697553647603\n",
      "LB Smoothed 3.66884875427828\n",
      "LB Smoothed 3.6689968374751563\n",
      "LB Smoothed 3.669141866387876\n",
      "LB Smoothed 3.669283902897264\n",
      "LB Smoothed 3.6694230076407375\n",
      "LB Smoothed 3.669559240037202\n",
      "LB Smoothed 3.6696926583114586\n",
      "LB Smoothed 3.6698233195181147\n",
      "LB Smoothed 3.669951279565019\n",
      "LB Smoothed 3.6700765932362285\n",
      "LB Smoothed 3.670199314214513\n",
      "LB Smoothed 3.6703194951034104\n",
      "LB Smoothed 3.6704371874488433\n",
      "LB Smoothed 3.6705524417602975\n",
      "LB Smoothed 3.6706653075315843\n",
      "LB Smoothed 3.670775833261177\n",
      "LB Smoothed 3.6708840664721496\n",
      "LB Smoothed 3.670990053731713\n",
      "LB Smoothed 3.671093840670361\n",
      "LB Smoothed 3.6711954720006275\n",
      "LB Smoothed 3.671294991535484\n",
      "LB Smoothed 3.6713924422063484\n",
      "LB Smoothed 3.6714878660807453\n",
      "LB Smoothed 3.67158130437962\n",
      "LB Smoothed 3.6716727974942835\n",
      "LB Smoothed 3.671762385003046\n",
      "LB Smoothed 3.671850105687494\n",
      "LB Smoothed 3.671935997548458\n",
      "LB Smoothed 3.6720200978216506\n",
      "LB Smoothed 3.6721024429930007\n",
      "LB Smoothed 3.6721830688136707\n",
      "LB Smoothed 3.672262010314781\n",
      "LB Smoothed 3.672339301821839\n",
      "LB Smoothed 3.6724149769688776\n",
      "LB Smoothed 3.67248906871231\n",
      "LB Smoothed 3.672561609344509\n",
      "LB Smoothed 3.6726326305071155\n",
      "LB Smoothed 3.672702163204082\n",
      "LB Smoothed 3.672770237814448\n",
      "LB Smoothed 3.6728368841048686\n",
      "LB Smoothed 3.672902131241887\n",
      "LB Smoothed 3.6729660078039665\n",
      "LB Smoothed 3.673028541793274\n",
      "LB Smoothed 3.6730897606472386\n",
      "LB Smoothed 3.6731496912498667\n",
      "LB Smoothed 3.673208359942839\n",
      "LB Smoothed 3.6732657925363874\n",
      "LB Smoothed 3.6733220143199468\n",
      "LB Smoothed 3.6733770500725993\n",
      "LB Smoothed 3.6734309240733047\n",
      "LB Smoothed 3.6734836601109357\n",
      "LB Smoothed 3.6735352814941\n",
      "LB Smoothed 3.6735858110607773\n",
      "LB Smoothed 3.6736352711877522\n",
      "LB Smoothed 3.6736836837998736\n",
      "LB Smoothed 3.6737310703791106\n",
      "LB Smoothed 3.6737774519734425\n",
      "LB Smoothed 3.673822849205565\n",
      "LB Smoothed 3.673867282281418\n",
      "LB Smoothed 3.673910770998555\n",
      "LB Smoothed 3.673953334754328\n",
      "LB Smoothed 3.673994992553924\n",
      "LB Smoothed 3.674035763018235\n",
      "LB Smoothed 3.674075664391568\n",
      "LB Smoothed 3.6741147145492037\n",
      "LB Smoothed 3.6741529310048016\n",
      "LB Smoothed 3.6741903309176664\n",
      "LB Smoothed 3.674226931099849\n",
      "LB Smoothed 3.6742627480231302\n",
      "LB Smoothed 3.674297797825843\n",
      "LB Smoothed 3.6743320963195765\n",
      "LB Smoothed 3.6743656589957268\n",
      "LB Smoothed 3.674398501031935\n",
      "LB Smoothed 3.6744306372983866\n",
      "LB Smoothed 3.6744620823639846\n",
      "LB Smoothed 3.6744928505024035\n",
      "LB Smoothed 3.674522955698019\n",
      "LB Smoothed 3.6745524116517165\n",
      "LB Smoothed 3.6745812317865965\n",
      "LB Smoothed 3.674609429253542\n",
      "LB Smoothed 3.6746370169367033\n",
      "LB Smoothed 3.6746640074588464\n",
      "LB Smoothed 3.6746904131866134\n",
      "LB Smoothed 3.674716246235668\n",
      "LB Smoothed 3.6747415184757406\n",
      "LB Smoothed 3.6747662415355737\n",
      "LB Smoothed 3.674790426807766\n",
      "LB Smoothed 3.6748140854535194\n",
      "LB Smoothed 3.6748372284072954\n",
      "LB Smoothed 3.674859866381371\n",
      "LB Smoothed 3.674882009870312\n",
      "LB Smoothed 3.674903669155347\n",
      "LB Smoothed 3.6749248543086663\n",
      "LB Smoothed 3.674945575197619\n",
      "LB Smoothed 3.6749658414888384\n",
      "LB Smoothed 3.6749856626522863\n",
      "LB Smoothed 3.6750050479651994\n",
      "LB Smoothed 3.6750240065159807\n",
      "LB Smoothed 3.675042547207991\n",
      "LB Smoothed 3.67506067876328\n",
      "LB Smoothed 3.675078409726233\n",
      "LB Smoothed 3.6750957484671507\n",
      "LB Smoothed 3.6751127031857553\n",
      "LB Smoothed 3.6751292819146215\n",
      "LB Smoothed 3.6751454925225513\n",
      "LB Smoothed 3.6751613427178644\n",
      "LB Smoothed 3.6751768400516376\n",
      "LB Smoothed 3.675191991920871\n",
      "LB Smoothed 3.6752068055715923\n",
      "LB Smoothed 3.6752212881019024\n",
      "LB Smoothed 3.6752354464649537\n",
      "LB Smoothed 3.6752492874718734\n",
      "LB Smoothed 3.6752628177946285\n",
      "LB Smoothed 3.6752760439688283\n",
      "LB Smoothed 3.6752889723964812\n",
      "LB Smoothed 3.6753016093486806\n",
      "LB Smoothed 3.675313960968252\n",
      "LB Smoothed 3.675326033272339\n",
      "LB Smoothed 3.675337832154939\n",
      "LB Smoothed 3.675349363389388\n",
      "LB Smoothed 3.675360632630798\n",
      "LB Smoothed 3.6753716454184406\n",
      "LB Smoothed 3.675382407178088\n",
      "LB Smoothed 3.6753929232243023\n",
      "LB Smoothed 3.6754031987626847\n",
      "LB Smoothed 3.6754132388920735\n",
      "LB Smoothed 3.6754230486067017\n",
      "LB Smoothed 3.675432632798311\n",
      "LB Smoothed 3.6754419962582223\n",
      "LB Smoothed 3.6754511436793633\n",
      "LB Smoothed 3.675460079658262\n",
      "LB Smoothed 3.6754688086969907\n",
      "LB Smoothed 3.6754773352050765\n",
      "LB Smoothed 3.675485663501378\n",
      "LB Smoothed 3.675493797815911\n",
      "LB Smoothed 3.6755017422916527\n",
      "LB Smoothed 3.6755095009862973\n",
      "LB Smoothed 3.6755170778739865\n",
      "LB Smoothed 3.675524476846997\n",
      "LB Smoothed 3.675531701717399\n",
      "LB Smoothed 3.675538756218681\n",
      "LB Smoothed 3.6755456440073373\n",
      "LB Smoothed 3.6755523686644325\n",
      "LB Smoothed 3.6755589336971273\n",
      "LB Smoothed 3.675565342540173\n",
      "LB Smoothed 3.675571598557383\n",
      "LB Smoothed 3.675577705043068\n",
      "LB Smoothed 3.6755836652234466\n",
      "LB Smoothed 3.6755894822580246\n",
      "LB Smoothed 3.6755951592409475\n",
      "LB Smoothed 3.675600699202328\n",
      "LB Smoothed 3.6756061051095426\n",
      "LB Smoothed 3.6756113798685077\n",
      "LB Smoothed 3.6756165263249234\n",
      "LB Smoothed 3.6756215472654983\n",
      "LB Smoothed 3.6756264454191463\n",
      "LB Smoothed 3.67563122345816\n",
      "LB Smoothed 3.6756358839993633\n",
      "LB Smoothed 3.6756404296052336\n",
      "LB Smoothed 3.675644862785007\n",
      "LB Smoothed 3.675649185995767\n",
      "LB Smoothed 3.6756534016434967\n",
      "LB Smoothed 3.67565751208412\n",
      "LB Smoothed 3.675661519624522\n",
      "LB Smoothed 3.6756654265235444\n",
      "LB Smoothed 3.6756692349929634\n",
      "LB Smoothed 3.67567294719845\n",
      "LB Smoothed 3.6756765652605026\n",
      "LB Smoothed 3.675680091255372\n",
      "LB Smoothed 3.675683527215963\n",
      "LB Smoothed 3.675686875132713\n",
      "LB Smoothed 3.67569013695446\n",
      "LB Smoothed 3.675693314589289\n",
      "LB Smoothed 3.675696409905368\n",
      "LB Smoothed 3.675699424731753\n",
      "LB Smoothed 3.6757023608591917\n",
      "LB Smoothed 3.6757052200409053\n",
      "LB Smoothed 3.675708003993351\n",
      "LB Smoothed 3.675710714396977\n",
      "LB Smoothed 3.675713352896948\n",
      "LB Smoothed 3.6757159211038823\n",
      "LB Smoothed 3.6757184205945386\n",
      "LB Smoothed 3.6757208529125247\n",
      "LB Smoothed 3.67572321956896\n",
      "LB Smoothed 3.675725522043153\n",
      "LB Smoothed 3.6757277617832433\n",
      "LB Smoothed 3.6757299402068413\n",
      "LB Smoothed 3.675732058701656\n",
      "LB Smoothed 3.6757341186261017\n",
      "LB Smoothed 3.6757361213099027\n",
      "LB Smoothed 3.6757380680546756\n",
      "LB Smoothed 3.6757399601345107\n",
      "LB Smoothed 3.6757417987965337\n",
      "LB Smoothed 3.6757435852614586\n",
      "LB Smoothed 3.675745320724126\n",
      "LB Smoothed 3.6757470063540385\n",
      "LB Smoothed 3.67574864329588\n",
      "LB Smoothed 3.675750232670023\n",
      "LB Smoothed 3.67575177557303\n",
      "LB Smoothed 3.6757532730781377\n",
      "LB Smoothed 3.675754726235743\n",
      "LB Smoothed 3.6757561360738684\n",
      "LB Smoothed 3.6757575035986223\n",
      "LB Smoothed 3.67575882979465\n",
      "LB Smoothed 3.6757601156255753\n",
      "LB Smoothed 3.6757613620344345\n",
      "LB Smoothed 3.6757625699440966\n",
      "LB Smoothed 3.6757637402576826\n",
      "LB Smoothed 3.675764873858971\n",
      "LB Smoothed 3.6757659716127957\n",
      "LB Smoothed 3.6757670343654354\n",
      "LB Smoothed 3.675768062945001\n",
      "LB Smoothed 3.675769058161805\n",
      "LB Smoothed 3.6757700208087316\n",
      "LB Smoothed 3.675770951661599\n",
      "LB Smoothed 3.675771851479505\n",
      "LB Smoothed 3.6757727210051785\n",
      "LB Smoothed 3.6757735609653177\n",
      "LB Smoothed 3.6757743720709177\n",
      "LB Smoothed 3.6757751550176003\n",
      "LB Smoothed 3.6757759104859256\n",
      "LB Smoothed 3.675776639141714\n",
      "LB Smoothed 3.6757773416363393\n",
      "LB Smoothed 3.6757780186070392\n",
      "LB Smoothed 3.6757786706772015\n",
      "LB Smoothed 3.6757792984566517\n",
      "LB Smoothed 3.6757799025419406\n",
      "LB Smoothed 3.6757804835166117\n",
      "LB Smoothed 3.6757810419514776\n",
      "LB Smoothed 3.6757815784048793\n",
      "LB Smoothed 3.6757820934229515\n",
      "LB Smoothed 3.675782587539872\n",
      "LB Smoothed 3.675783061278113\n",
      "LB Smoothed 3.6757835151486815\n",
      "LB Smoothed 3.675783949651362\n",
      "LB Smoothed 3.6757843652749487\n",
      "LB Smoothed 3.675784762497473\n",
      "LB Smoothed 3.675785141786433\n",
      "LB Smoothed 3.6757855035990077\n",
      "LB Smoothed 3.6757858483822745\n",
      "LB Smoothed 3.6757861765734217\n",
      "LB Smoothed 3.6757864885999547\n",
      "LB Smoothed 3.675786784879897\n",
      "LB Smoothed 3.6757870658219893\n",
      "LB Smoothed 3.6757873318258865\n",
      "LB Smoothed 3.675787583282343\n",
      "LB Smoothed 3.6757878205734036\n",
      "LB Smoothed 3.675788044072584\n",
      "LB Smoothed 3.67578825414505\n",
      "LB Smoothed 3.6757884511477963\n",
      "LB Smoothed 3.675788635429811\n",
      "LB Smoothed 3.67578880733225\n",
      "LB Smoothed 3.6757889671886\n",
      "LB Smoothed 3.67578911532484\n",
      "LB Smoothed 3.6757892520595985\n",
      "LB Smoothed 3.6757893777043082\n",
      "LB Smoothed 3.675789492563361\n",
      "LB Smoothed 3.6757895969342522\n",
      "LB Smoothed 3.6757896911077292\n",
      "LB Smoothed 3.6757897753679325\n",
      "LB Smoothed 3.675789849992536\n",
      "LB Smoothed 3.6757899152528832\n",
      "LB Smoothed 3.6757899714141233\n",
      "LB Smoothed 3.6751775453487574\n",
      "LB Smoothed 3.675177402321115\n",
      "LB Smoothed 3.6751772552051407\n",
      "LB Smoothed 3.6751771041507943\n",
      "LB Smoothed 3.6751769493043898\n",
      "LB Smoothed 3.675176790808672\n",
      "Stop at 618\n"
     ]
    }
   ],
   "source": [
    "for t in range(stop):\n",
    "    stepsize = eps\n",
    "\n",
    "    train_grad_log_f = grad_log_density_mixture(wass_train_summary_statistics, mixture_model[2], mixture_model[3], mixture_model[4])[1]\n",
    "    v = -wass_train_summary_statistics-train_grad_log_f\n",
    "    wass_train_summary_statistics = wass_train_summary_statistics + stepsize * v\n",
    "\n",
    "    val_grad_log_f = grad_log_density_mixture(wass_val_summary_statistics, mixture_model[2], mixture_model[3], mixture_model[4])[1]\n",
    "    val_log_f = grad_log_density_mixture(wass_val_summary_statistics, mixture_model[2], mixture_model[3], mixture_model[4])[0]\n",
    "    v = -wass_val_summary_statistics-val_grad_log_f\n",
    "    wass_val_summary_statistics = wass_val_summary_statistics + stepsize * v\n",
    "    h_vector = -1/2 * np.diag(wass_val_summary_statistics @ wass_val_summary_statistics.T) - val_log_f \n",
    "\n",
    "    test_grad_log_f = grad_log_density_mixture(wass_test_summary_statistics, mixture_model[2], mixture_model[3], mixture_model[4])[1]\n",
    "    v = -wass_test_summary_statistics-test_grad_log_f\n",
    "    wass_test_summary_statistics = wass_test_summary_statistics + stepsize * v\n",
    "\n",
    "    # Update new mixture model\n",
    "    mixture_model = mixture_model_fit(wass_train_summary_statistics, maxG)\n",
    "    mixture_obj = mixture_model[0]\n",
    "    bestG = mixture_model[1]\n",
    "\n",
    "    if min(mixture_obj.weights_) < 0.005:\n",
    "        mixture_obj = mixture_model_fit(wass_train_summary_statistics, bestG - 1)[0]\n",
    "\n",
    "    mixture_obj_seq.append(mixture_obj)\n",
    "    bestG_seq.append(bestG)\n",
    "\n",
    "    lb.append(np.mean(h_vector))\n",
    "\n",
    "    if t < t_w:\n",
    "        print('LB', np.mean(h_vector))\n",
    "\n",
    "    if t >= t_w:\n",
    "        LB_smoothed = np.mean(lb[t - t_w + 1 : t])\n",
    "        print('LB Smoothed', LB_smoothed)\n",
    "        LB_Smoothed.append(LB_smoothed)\n",
    "        if LB_smoothed >= np.max(LB_Smoothed):\n",
    "            patience = 0\n",
    "        else:\n",
    "            patience += 1\n",
    "            if patience > patience_max:\n",
    "                print(\"Stop at\", t)\n",
    "                break"
   ]
  },
  {
   "cell_type": "code",
   "execution_count": 30,
   "metadata": {},
   "outputs": [
    {
     "data": {
      "text/plain": [
       "<AxesSubplot: title={'center': 'Smoothed Lower Bound Estimate'}>"
      ]
     },
     "execution_count": 30,
     "metadata": {},
     "output_type": "execute_result"
    },
    {
     "data": {
      "text/plain": [
       "<Figure size 640x480 with 0 Axes>"
      ]
     },
     "metadata": {},
     "output_type": "display_data"
    },
    {
     "data": {
      "image/png": "[encoded data removed]",
      "text/plain": [
       "<Figure size 640x480 with 1 Axes>"
      ]
     },
     "metadata": {},
     "output_type": "display_data"
    }
   ],
   "source": [
    "wass_smoothed_lb_df = pd.DataFrame(np.array(LB_Smoothed))\n",
    "plt.figure()\n",
    "wass_smoothed_lb_df.plot(title = 'Smoothed Lower Bound Estimate', legend = False)"
   ]
  },
  {
   "cell_type": "code",
   "execution_count": 33,
   "metadata": {},
   "outputs": [],
   "source": [
    "def wasserstein_transform(mixture_obj_seq, n_summary_statistics):\n",
    "    for i in range(len(mixture_obj_seq)):\n",
    "        stepsize = eps\n",
    "        mixture_obj = mixture_obj_seq[i]\n",
    "        mean_mixture_obj = mixture_obj.means_\n",
    "        sigma_mixture_obj = mixture_obj.covariances_\n",
    "        weights_mixture_obj = mixture_obj.weights_\n",
    "        grad_log_f = grad_log_density_mixture(n_summary_statistics, mean_mixture_obj, sigma_mixture_obj, weights_mixture_obj)[1]\n",
    "        v = -n_summary_statistics-grad_log_f\n",
    "        n_summary_statistics = n_summary_statistics + stepsize * v\n",
    "    return n_summary_statistics"
   ]
  },
  {
   "cell_type": "code",
   "execution_count": 34,
   "metadata": {},
   "outputs": [],
   "source": [
    "def summary_statistics(theta, num_samples, num_datasets):\n",
    "    n_summary_statistics = np.zeros((num_datasets, num_latent))\n",
    "    for i in range(0, num_datasets):\n",
    "        y = simulate_gandk(theta, num_samples)\n",
    "        n_summary_statistics[i,:] = compute_summary_statistics(y)\n",
    "    transformed_summary_statistics = wasserstein_transform(mixture_obj_seq, n_summary_statistics)\n",
    "\n",
    "    sample_mean = np.mean(transformed_summary_statistics, axis = 0)\n",
    "    sample_variance = np.cov(np.array(transformed_summary_statistics).T)\n",
    "    return sample_mean, sample_variance"
   ]
  },
  {
   "cell_type": "code",
   "execution_count": 35,
   "metadata": {},
   "outputs": [],
   "source": [
    "def prior(theta): \n",
    "    log_prior = np.sum(np.log(np.exp(theta) / (1 + np.exp(theta))**2))\n",
    "    return log_prior\n",
    "\n",
    "def unbiased_log_likelihood(theta):\n",
    "    ss = summary_statistics(theta, num_samples, num_datasets)\n",
    "    sample_mean = ss[0]\n",
    "    sample_variance = ss[1]\n",
    "    # diff_mean_s = actual_summary_statistics - sample_mean\n",
    "    # part1 = diff_mean_s.T @ np.linalg.inv(sample_variance) @ diff_mean_s\n",
    "    # # u_est_log_likelihood = -1/2 * np.log(np.linalg.det(sample_variance)) - (self.num_datasets - self.num_coeffs - 2) / (2 * (self.num_datasets-1)) * part1\n",
    "    # u_est_log_likelihood = -1/2 * np.log(np.linalg.det(sample_variance)) - part1\n",
    "\n",
    "    u_est_log_likelihood = multivariate_normal.logpdf(actual_summary_statistics, mean = sample_mean, cov= sample_variance)\n",
    "\n",
    "    return u_est_log_likelihood"
   ]
  },
  {
   "cell_type": "code",
   "execution_count": 36,
   "metadata": {},
   "outputs": [],
   "source": [
    "class GVB:\n",
    "    def __init__(self, samples, actual_summary_statistics, learning_rate, threshold, l_threshold, adaptive_lr_1, adaptive_lr_2, t_w, Patience):\n",
    "        self.samples = samples\n",
    "        self.actual_summary_statistics = actual_summary_statistics\n",
    "        self.num_datasets = 200 # number of datasets\n",
    "        self.num_coeffs = 4 # number of coeffs\n",
    "        self.lambda_dim = self.num_coeffs + int((self.num_coeffs * (self.num_coeffs + 1)) / 2)\n",
    "        self.learning_rate = learning_rate\n",
    "        self.threshold = threshold\n",
    "        self.l_threshold = l_threshold\n",
    "        self.adaptive_lr_1 = adaptive_lr_1\n",
    "        self.adaptive_lr_2 = adaptive_lr_2\n",
    "        self.t_w = t_w\n",
    "        self.Patience = Patience\n",
    "\n",
    "    def log_q(self, theta, mu, l):\n",
    "        log_q = multivariate_normal.logpdf(theta, mean = mu, cov= np.linalg.inv(l @ l.T))\n",
    "        return log_q\n",
    "\n",
    "    def gradient_log_q(self, theta, mu, l): #indep theta\n",
    "        gradient_log_q_mu = np.matmul(np.matmul(l, l.T), (theta - mu))\n",
    "        diag_inv_l = np.zeros((num_coeffs, num_coeffs))\n",
    "        np.fill_diagonal(diag_inv_l, np.diag(np.linalg.inv(l)))\n",
    "        gradient_log_q_l = (diag_inv_l - np.reshape(theta - mu, (num_coeffs,1)) @ np.reshape(theta - mu, (1,num_coeffs)) @ l).T[np.triu_indices(num_coeffs)] #use * because matmul gives scalar \n",
    "        gradient_log_q = np.array([gradient_log_q_mu, gradient_log_q_l], dtype=object)\n",
    "        return gradient_log_q\n",
    "\n",
    "    def control_variates(self, Flat_grad_log_q, Flat_grad_lb):\n",
    "        c = []\n",
    "        stacked_gradient_lb = np.stack(Flat_grad_lb)\n",
    "        stacked_gradient_log_q = np.stack(Flat_grad_log_q)\n",
    "        for i in range(self.lambda_dim):\n",
    "            sample_cov = np.cov((stacked_gradient_lb[:, i], stacked_gradient_log_q[:, i]))\n",
    "            c_i = sample_cov[0, 1] / sample_cov[1, 1]\n",
    "            c.append(c_i)\n",
    "        c_mu = np.array(c[0:self.num_coeffs])\n",
    "        c_vech_l = np.array(c[self.num_coeffs:])\n",
    "        return np.array([c_mu, c_vech_l], dtype = object)\n",
    "\n",
    "    def vb_posterior(self, stop):\n",
    "        # Initialize mu_0, L_0\n",
    "        # mu_0 = np.array([np.log((self.actual_summary_statistics[0]-1.1)/(2-self.actual_summary_statistics[0])), np.log((1+self.actual_summary_statistics[1])/(1-self.actual_summary_statistics[1])), np.log(self.actual_summary_statistics[2]), self.actual_summary_statistics[3]])\n",
    "        #mu_0 = np.array([1.5, 0.5, 3, 0])\n",
    "        mu_0 = np.array([true_theta[0], np.log(true_theta[1]), true_theta[2], np.log(true_theta[3])])\n",
    "        #mu_0 = np.array([self.actual_summary_statistics[0], self.actual_summary_statistics[1], self.actual_summary_statistics[2], self.actual_summary_statistics[3]])\n",
    "        # mu_0 = np.array([0] * self.num_coeffs)\n",
    "        # l_0 = np.tril(np.identity(self.num_coeffs) * 10)\n",
    "        l_0 = np.array([[42.5611843 , -8.28970004,  5.43955494, -1.25900294],\n",
    "                        [-8.28970004,  7.88174052, -1.33079381,  2.31714084],\n",
    "                        [ 5.43955494, -1.33079381,  4.66869461, -0.42495144],\n",
    "                        [-1.25900294,  2.31714084, -0.42495144,  3.30653549]])\n",
    "\n",
    "        Sigma_0_inv = l_0 @ l_0.T\n",
    "        Sigma_0 = np.linalg.inv(Sigma_0_inv)\n",
    "        l_0_inv = np.linalg.inv(l_0)\n",
    "        ### Change ways to get vech(l0)\n",
    "        vech_l0 = l_0.T[np.triu_indices(self.num_coeffs)]\n",
    "\n",
    "        lambda_0 = np.array([mu_0, vech_l0], dtype = object)\n",
    "        lambda_q = lambda_0\n",
    "        # Initilize best lambda\n",
    "        lambda_best = lambda_0\n",
    "        # List of Lambda\n",
    "        Lambda = [lambda_0]\n",
    "        # List of calculations of LB\n",
    "        LB_all = []\n",
    "        LB_Smoothed = []\n",
    "        patience = 0\n",
    "        # List of flattened gradients\n",
    "        Flattened_gradient_lb = []\n",
    "        Flattened_gradient_log_q = []\n",
    "        for t in tqdm(range(stop)):\n",
    "            if t == 0:        \n",
    "                # Draw samples of theta from  variational q\n",
    "                # List of gradients\n",
    "                Gradient_lb_init = []\n",
    "                lb_0 = []\n",
    "                rng = np.random.default_rng()\n",
    "                theta_0_samples = rng.multivariate_normal(mean = mu_0, cov = Sigma_0, size = self.samples)\n",
    "                for s in tqdm(range(self.samples)):\n",
    "                    # True params have been reparam into epsilon\n",
    "                    theta_tilde_0 = theta_0_samples[s]\n",
    "                    # alpha_0 = (2 * np.exp(theta_tilde_0[0]) + 1) / (1 + np.exp(theta_tilde_0[0]))\n",
    "                    # beta_0 = (100 * np.exp(theta_tilde_0[1]) + 0) / (1 + np.exp(theta_tilde_0[1]))\n",
    "                    # gamma_0 = (0.9 * np.exp(theta_tilde_0[2]) + 0) / (1 + np.exp(theta_tilde_0[2]))\n",
    "\n",
    "                    alpha_0 = theta_tilde_0[0]\n",
    "                    # beta_q = (0.05 * np.exp(theta_tilde_q[1]) + 0) / (1 + np.exp(theta_tilde_q[1]))\n",
    "                    beta_0 = np.exp(theta_tilde_0[1])\n",
    "                    # gamma_q = (np.exp(theta_tilde_q[2]) - 1) / (1 + np.exp(theta_tilde_q[2]))\n",
    "                    gamma_0 = theta_tilde_0[2]\n",
    "                    # delta_q = (0.5 * np.exp(theta_tilde_q[3]) + 0.2) / (1 + np.exp(theta_tilde_q[3]))                    theta_q = np.array([alpha_q, beta_q, gamma_q])\n",
    "                    delta_0 = np.exp(theta_tilde_0[3])\n",
    "\n",
    "                    theta_0 = np.array([alpha_0, beta_0, gamma_0, delta_0])\n",
    "                    \n",
    "                    # Find gradient of LB\n",
    "                    h_lambda_init = prior(theta_tilde_0) + unbiased_log_likelihood(theta_0) - self.log_q(theta_tilde_0, mu_0, l_0)\n",
    "                    gradient_lb_init = self.gradient_log_q(theta_tilde_0, mu_0, l_0) * (h_lambda_init)\n",
    "                    Gradient_lb_init.append(gradient_lb_init)\n",
    "                    # Calculate control variates\n",
    "                    flattened_gradient_log_q = np.concatenate((self.gradient_log_q(theta_tilde_0, mu_0, l_0)[0], self.gradient_log_q(theta_tilde_0, mu_0, l_0)[1]), axis = None)\n",
    "                    Flattened_gradient_log_q.append(flattened_gradient_log_q)\n",
    "                    flattened_gradient_lb = np.concatenate((gradient_lb_init[0], gradient_lb_init[1]), axis = None)\n",
    "                    Flattened_gradient_lb.append(flattened_gradient_lb)\n",
    "                    # Calculate lower bound\n",
    "                    lb_0.append(h_lambda_init)\n",
    "                # Calculate control variates using all samples\n",
    "                c = self.control_variates(Flattened_gradient_log_q, Flattened_gradient_lb)\n",
    "                # Update lambda_q\n",
    "                self.g_init = np.mean(Gradient_lb_init, axis = 0)\n",
    "                # Gradient clipping\n",
    "                if np.linalg.norm(np.concatenate(self.g_init, axis = None)) > self.l_threshold:\n",
    "                    self.g_init = self.l_threshold * self.g_init / np.linalg.norm(np.concatenate(self.g_init, axis = None))\n",
    "                self.v_init = self.g_init ** 2\n",
    "                # Calculate lower bound\n",
    "                LB_all.append(np.mean(lb_0))\n",
    "                print('LB', (np.mean(lb_0)))\n",
    "                lambda_q = lambda_0\n",
    "\n",
    "            if t > 0:\n",
    "                # From lambda_q find mu_q and L_q\n",
    "                mu_q = lambda_q[0]\n",
    "\n",
    "                ### Change ways to convert from vech_l0 to l0\n",
    "                vech_lq = list(lambda_q[1])\n",
    "                l_q = np.zeros((self.num_coeffs, self.num_coeffs))\n",
    "                # l_q[:, 0] = lambda_q[1][0:self.num_coeffs]\n",
    "                # l_q[1:self.num_coeffs, 1] = lambda_q[1][4:7]\n",
    "                # l_q[2:self.num_coeffs, 2] = lambda_q[1][7:9]\n",
    "                # l_q[3:self.num_coeffs, 3] = lambda_q[1][9:10]\n",
    "                for i in range(self.num_coeffs):\n",
    "                    l_q[i:self.num_coeffs,i] = vech_lq[:self.num_coeffs - i]\n",
    "                    del vech_lq[:self.num_coeffs-i]\n",
    "\n",
    "                Sigma_q_inv = l_q @ l_q.T\n",
    "                Sigma_q =  np.linalg.inv(Sigma_q_inv)\n",
    "                l_q_inv =  np.linalg.inv(l_q)\n",
    "                # List of gradients\n",
    "                Gradient_lb = []\n",
    "                lb_t = []\n",
    "                rng = np.random.default_rng()\n",
    "                theta_q_samples = rng.multivariate_normal(mean = mu_q, cov = Sigma_q, size = self.samples)\n",
    "                for s in range(self.samples):\n",
    "                    theta_tilde_q = theta_q_samples[s]\n",
    "                    # Calculate theta from mu, l (lambda)\n",
    "                    alpha_q = theta_tilde_q[0]\n",
    "                    # beta_q = (0.05 * np.exp(theta_tilde_q[1]) + 0) / (1 + np.exp(theta_tilde_q[1]))\n",
    "                    beta_q = np.exp(theta_tilde_q[1])\n",
    "                    # gamma_q = (np.exp(theta_tilde_q[2]) - 1) / (1 + np.exp(theta_tilde_q[2]))\n",
    "                    gamma_q = theta_tilde_q[2]\n",
    "                    # delta_q = (0.5 * np.exp(theta_tilde_q[3]) + 0.2) / (1 + np.exp(theta_tilde_q[3]))                    theta_q = np.array([alpha_q, beta_q, gamma_q])\n",
    "                    delta_q = np.exp(theta_tilde_q[3])\n",
    "\n",
    "                    theta_q = np.array([alpha_q, beta_q, gamma_q, delta_q])\n",
    "                    # Find gradient of LB\n",
    "                    h_lambda = prior(theta_tilde_q) + unbiased_log_likelihood(theta_q) - self.log_q(theta_tilde_q, mu_q, l_q)\n",
    "                    # Find gradient of LB\n",
    "                    gradient_lb = self.gradient_log_q(theta_tilde_q, mu_q, l_q) * (h_lambda - c)\n",
    "\n",
    "                    Gradient_lb.append(gradient_lb)\n",
    "                    # Calculate control variates\n",
    "                    Flattened_gradient_log_q[s] = np.concatenate((self.gradient_log_q(theta_tilde_q, mu_q, l_q)[0], self.gradient_log_q(theta_tilde_q, mu_q, l_q)[1]), axis = None)\n",
    "                    Flattened_gradient_lb[s] = np.concatenate((gradient_lb[0], gradient_lb[1]), axis = None)\n",
    "                    # Calc lower bound estimate\n",
    "                    lb_t.append(h_lambda)\n",
    "                # Update control variates\n",
    "                c = self.control_variates(Flattened_gradient_log_q, Flattened_gradient_lb)\n",
    "                # Calc gradient of h\n",
    "                g_t = np.mean(Gradient_lb, axis = 0)\n",
    "                # Gradient clipping\n",
    "                if np.linalg.norm(np.concatenate(g_t, axis = None)) > self.l_threshold:\n",
    "                    g_t = self.l_threshold * g_t / np.linalg.norm(np.concatenate(g_t, axis = None))\n",
    "                v_t = g_t ** 2\n",
    "\n",
    "                #---- Update lambda\n",
    "                self.g_init = self.adaptive_lr_1 * self.g_init + (1 - self.adaptive_lr_1) * g_t\n",
    "                self.v_init = self.adaptive_lr_2 * self.v_init + (1 - self.adaptive_lr_2) * v_t\n",
    "                if t >= self.threshold:\n",
    "                    update_t = self.learning_rate * self.threshold / t\n",
    "                else:\n",
    "                    update_t = self.learning_rate\n",
    "\n",
    "                lambda_q = lambda_q + update_t * self.g_init / (self.v_init ** 0.5)\n",
    "                Lambda.append(lambda_q)\n",
    "                # Calculate lower bound\n",
    "                LB_all.append(np.mean(lb_t))\n",
    "\n",
    "                if t < self.t_w:\n",
    "                    print('LB', np.mean(lb_t))\n",
    "\n",
    "                if t >= self.t_w:\n",
    "                    LB_smoothed = np.mean(LB_all[t - self.t_w + 1 : t])\n",
    "                    print('LB Smoothed', LB_smoothed)\n",
    "                    LB_Smoothed.append(LB_smoothed)\n",
    "                    if LB_smoothed >= max(LB_Smoothed):\n",
    "                        patience = 0\n",
    "                        lambda_best = lambda_q\n",
    "                    else:\n",
    "                        patience += 1\n",
    "                        if patience > self.Patience:\n",
    "                            print(\"Stop at\", t)\n",
    "                            break\n",
    "\n",
    "        return LB_all, LB_Smoothed, lambda_best"
   ]
  },
  {
   "cell_type": "code",
   "execution_count": 37,
   "metadata": {},
   "outputs": [
    {
     "data": {
      "text/plain": [
       "array([[3.00663801, 1.38064096, 0.45029091, 2.03572641]])"
      ]
     },
     "execution_count": 37,
     "metadata": {},
     "output_type": "execute_result"
    }
   ],
   "source": [
    "actual_summary_statistics = np.reshape(actual_summary_statistics, (1, len(actual_summary_statistics)))\n",
    "actual_summary_statistics"
   ]
  },
  {
   "cell_type": "code",
   "execution_count": 38,
   "metadata": {},
   "outputs": [
    {
     "data": {
      "text/plain": [
       "array([ 1.26862087, -1.078422  ,  0.79952161,  0.87530655])"
      ]
     },
     "execution_count": 38,
     "metadata": {},
     "output_type": "execute_result"
    }
   ],
   "source": [
    "# Set hyperparameters\n",
    "stop = 5000\n",
    "transformed_summary_statistics = wasserstein_transform(mixture_obj_seq, actual_summary_statistics)\n",
    "transformed_summary_statistics[0]"
   ]
  },
  {
   "cell_type": "code",
   "execution_count": 39,
   "metadata": {},
   "outputs": [
    {
     "name": "stderr",
     "output_type": "stream",
     "text": [
      "100%|██████████| 400/400 [07:37<00:00,  1.14s/it]\n",
      "  0%|          | 1/5000 [07:37<635:48:19, 457.87s/it]"
     ]
    },
    {
     "name": "stdout",
     "output_type": "stream",
     "text": [
      "LB -25.544148682953256\n"
     ]
    },
    {
     "name": "stderr",
     "output_type": "stream",
     "text": [
      "  0%|          | 2/5000 [17:39<752:41:16, 542.15s/it]"
     ]
    },
    {
     "name": "stdout",
     "output_type": "stream",
     "text": [
      "LB -24.839777484138814\n"
     ]
    },
    {
     "name": "stderr",
     "output_type": "stream",
     "text": [
      "  0%|          | 3/5000 [24:27<667:40:43, 481.02s/it]"
     ]
    },
    {
     "name": "stdout",
     "output_type": "stream",
     "text": [
      "LB -24.275729912814267\n"
     ]
    },
    {
     "name": "stderr",
     "output_type": "stream",
     "text": [
      "  0%|          | 4/5000 [32:39<673:48:14, 485.53s/it]"
     ]
    },
    {
     "name": "stdout",
     "output_type": "stream",
     "text": [
      "LB -24.209946861505358\n"
     ]
    },
    {
     "name": "stderr",
     "output_type": "stream",
     "text": [
      "  0%|          | 5/5000 [40:18<660:29:41, 476.03s/it]"
     ]
    },
    {
     "name": "stdout",
     "output_type": "stream",
     "text": [
      "LB -23.844699318657852\n"
     ]
    },
    {
     "name": "stderr",
     "output_type": "stream",
     "text": [
      "  0%|          | 6/5000 [47:22<635:43:44, 458.27s/it]"
     ]
    },
    {
     "name": "stdout",
     "output_type": "stream",
     "text": [
      "LB -23.483253834141205\n"
     ]
    },
    {
     "name": "stderr",
     "output_type": "stream",
     "text": [
      "  0%|          | 7/5000 [53:42<599:55:46, 432.55s/it]"
     ]
    },
    {
     "name": "stdout",
     "output_type": "stream",
     "text": [
      "LB -23.649061866986603\n"
     ]
    },
    {
     "name": "stderr",
     "output_type": "stream",
     "text": [
      "  0%|          | 8/5000 [59:45<569:12:34, 410.49s/it]"
     ]
    },
    {
     "name": "stdout",
     "output_type": "stream",
     "text": [
      "LB -22.95359802181845\n"
     ]
    },
    {
     "name": "stderr",
     "output_type": "stream",
     "text": [
      "  0%|          | 9/5000 [1:05:51<549:56:29, 396.67s/it]"
     ]
    },
    {
     "name": "stdout",
     "output_type": "stream",
     "text": [
      "LB -22.952125393786694\n"
     ]
    },
    {
     "name": "stderr",
     "output_type": "stream",
     "text": [
      "  0%|          | 10/5000 [1:12:16<544:33:36, 392.87s/it]"
     ]
    },
    {
     "name": "stdout",
     "output_type": "stream",
     "text": [
      "LB -22.623229464378614\n"
     ]
    },
    {
     "name": "stderr",
     "output_type": "stream",
     "text": [
      "  0%|          | 11/5000 [1:18:43<542:08:05, 391.20s/it]"
     ]
    },
    {
     "name": "stdout",
     "output_type": "stream",
     "text": [
      "LB -22.252382684186014\n"
     ]
    },
    {
     "name": "stderr",
     "output_type": "stream",
     "text": [
      "  0%|          | 12/5000 [1:25:59<560:47:19, 404.74s/it]"
     ]
    },
    {
     "name": "stdout",
     "output_type": "stream",
     "text": [
      "LB -21.821278577355375\n"
     ]
    },
    {
     "name": "stderr",
     "output_type": "stream",
     "text": [
      "  0%|          | 13/5000 [1:32:26<553:12:39, 399.35s/it]"
     ]
    },
    {
     "name": "stdout",
     "output_type": "stream",
     "text": [
      "LB -21.833228409696943\n"
     ]
    },
    {
     "name": "stderr",
     "output_type": "stream",
     "text": [
      "  0%|          | 14/5000 [1:39:27<562:08:23, 405.88s/it]"
     ]
    },
    {
     "name": "stdout",
     "output_type": "stream",
     "text": [
      "LB -21.496386164894474\n"
     ]
    },
    {
     "name": "stderr",
     "output_type": "stream",
     "text": [
      "  0%|          | 15/5000 [1:51:09<685:43:50, 495.21s/it]"
     ]
    },
    {
     "name": "stdout",
     "output_type": "stream",
     "text": [
      "LB -21.317455743035563\n"
     ]
    },
    {
     "name": "stderr",
     "output_type": "stream",
     "text": [
      "  0%|          | 16/5000 [1:57:45<644:04:48, 465.23s/it]"
     ]
    },
    {
     "name": "stdout",
     "output_type": "stream",
     "text": [
      "LB -21.41908355989228\n"
     ]
    },
    {
     "name": "stderr",
     "output_type": "stream",
     "text": [
      "  0%|          | 17/5000 [2:03:41<598:47:21, 432.60s/it]"
     ]
    },
    {
     "name": "stdout",
     "output_type": "stream",
     "text": [
      "LB -21.07987841043678\n"
     ]
    },
    {
     "name": "stderr",
     "output_type": "stream",
     "text": [
      "  0%|          | 18/5000 [2:09:37<566:31:21, 409.37s/it]"
     ]
    },
    {
     "name": "stdout",
     "output_type": "stream",
     "text": [
      "LB -21.032523137090678\n"
     ]
    },
    {
     "name": "stderr",
     "output_type": "stream",
     "text": [
      "  0%|          | 19/5000 [2:15:51<551:57:56, 398.93s/it]"
     ]
    },
    {
     "name": "stdout",
     "output_type": "stream",
     "text": [
      "LB -20.975035293429368\n"
     ]
    },
    {
     "name": "stderr",
     "output_type": "stream",
     "text": [
      "  0%|          | 20/5000 [2:22:03<540:26:39, 390.68s/it]"
     ]
    },
    {
     "name": "stdout",
     "output_type": "stream",
     "text": [
      "LB -20.98841256225909\n"
     ]
    },
    {
     "name": "stderr",
     "output_type": "stream",
     "text": [
      "  0%|          | 21/5000 [2:28:00<526:35:16, 380.74s/it]"
     ]
    },
    {
     "name": "stdout",
     "output_type": "stream",
     "text": [
      "LB -20.53908833337796\n"
     ]
    },
    {
     "name": "stderr",
     "output_type": "stream",
     "text": [
      "  0%|          | 22/5000 [2:33:51<514:09:29, 371.83s/it]"
     ]
    },
    {
     "name": "stdout",
     "output_type": "stream",
     "text": [
      "LB -20.484325470779094\n"
     ]
    },
    {
     "name": "stderr",
     "output_type": "stream",
     "text": [
      "  0%|          | 23/5000 [2:39:45<506:24:53, 366.30s/it]"
     ]
    },
    {
     "name": "stdout",
     "output_type": "stream",
     "text": [
      "LB -20.522622426078023\n"
     ]
    },
    {
     "name": "stderr",
     "output_type": "stream",
     "text": [
      "  0%|          | 24/5000 [2:45:30<497:24:57, 359.87s/it]"
     ]
    },
    {
     "name": "stdout",
     "output_type": "stream",
     "text": [
      "LB -19.95979936271335\n"
     ]
    },
    {
     "name": "stderr",
     "output_type": "stream",
     "text": [
      "  0%|          | 25/5000 [2:51:25<495:26:51, 358.51s/it]"
     ]
    },
    {
     "name": "stdout",
     "output_type": "stream",
     "text": [
      "LB -19.979040091253477\n"
     ]
    },
    {
     "name": "stderr",
     "output_type": "stream",
     "text": [
      "  1%|          | 26/5000 [2:54:16<417:37:49, 302.27s/it]"
     ]
    },
    {
     "name": "stdout",
     "output_type": "stream",
     "text": [
      "LB -19.917319216915317\n"
     ]
    },
    {
     "name": "stderr",
     "output_type": "stream",
     "text": [
      "  1%|          | 27/5000 [2:56:07<338:26:13, 245.00s/it]"
     ]
    },
    {
     "name": "stdout",
     "output_type": "stream",
     "text": [
      "LB -20.063586062116766\n"
     ]
    },
    {
     "name": "stderr",
     "output_type": "stream",
     "text": [
      "  1%|          | 28/5000 [2:58:00<283:42:02, 205.41s/it]"
     ]
    },
    {
     "name": "stdout",
     "output_type": "stream",
     "text": [
      "LB -19.517454609812788\n"
     ]
    },
    {
     "name": "stderr",
     "output_type": "stream",
     "text": [
      "  1%|          | 29/5000 [2:59:52<244:36:29, 177.15s/it]"
     ]
    },
    {
     "name": "stdout",
     "output_type": "stream",
     "text": [
      "LB -19.56551705216329\n"
     ]
    },
    {
     "name": "stderr",
     "output_type": "stream",
     "text": [
      "  1%|          | 30/5000 [3:01:58<223:34:21, 161.94s/it]"
     ]
    },
    {
     "name": "stdout",
     "output_type": "stream",
     "text": [
      "LB -19.234500602929128\n"
     ]
    },
    {
     "name": "stderr",
     "output_type": "stream",
     "text": [
      "  1%|          | 31/5000 [3:04:14<212:56:39, 154.28s/it]"
     ]
    },
    {
     "name": "stdout",
     "output_type": "stream",
     "text": [
      "LB -19.343494014039162\n"
     ]
    },
    {
     "name": "stderr",
     "output_type": "stream",
     "text": [
      "  1%|          | 32/5000 [3:06:14<198:27:59, 143.82s/it]"
     ]
    },
    {
     "name": "stdout",
     "output_type": "stream",
     "text": [
      "LB -19.196723208168887\n"
     ]
    },
    {
     "name": "stderr",
     "output_type": "stream",
     "text": [
      "  1%|          | 33/5000 [3:08:13<188:16:12, 136.46s/it]"
     ]
    },
    {
     "name": "stdout",
     "output_type": "stream",
     "text": [
      "LB -18.971200591720336\n"
     ]
    },
    {
     "name": "stderr",
     "output_type": "stream",
     "text": [
      "  1%|          | 34/5000 [3:10:33<189:46:02, 137.57s/it]"
     ]
    },
    {
     "name": "stdout",
     "output_type": "stream",
     "text": [
      "LB -19.059016622983492\n"
     ]
    },
    {
     "name": "stderr",
     "output_type": "stream",
     "text": [
      "  1%|          | 35/5000 [3:12:33<182:15:40, 132.15s/it]"
     ]
    },
    {
     "name": "stdout",
     "output_type": "stream",
     "text": [
      "LB -18.896376040134445\n"
     ]
    },
    {
     "name": "stderr",
     "output_type": "stream",
     "text": [
      "  1%|          | 36/5000 [3:14:29<175:45:12, 127.46s/it]"
     ]
    },
    {
     "name": "stdout",
     "output_type": "stream",
     "text": [
      "LB -18.677451665010178\n"
     ]
    },
    {
     "name": "stderr",
     "output_type": "stream",
     "text": [
      "  1%|          | 37/5000 [3:16:17<167:43:23, 121.66s/it]"
     ]
    },
    {
     "name": "stdout",
     "output_type": "stream",
     "text": [
      "LB -18.656589193897474\n"
     ]
    },
    {
     "name": "stderr",
     "output_type": "stream",
     "text": [
      "  1%|          | 38/5000 [3:18:11<164:29:48, 119.34s/it]"
     ]
    },
    {
     "name": "stdout",
     "output_type": "stream",
     "text": [
      "LB -18.66428510757161\n"
     ]
    },
    {
     "name": "stderr",
     "output_type": "stream",
     "text": [
      "  1%|          | 39/5000 [3:20:13<165:14:09, 119.91s/it]"
     ]
    },
    {
     "name": "stdout",
     "output_type": "stream",
     "text": [
      "LB -18.767596203156774\n"
     ]
    },
    {
     "name": "stderr",
     "output_type": "stream",
     "text": [
      "  1%|          | 40/5000 [3:22:08<163:11:47, 118.45s/it]"
     ]
    },
    {
     "name": "stdout",
     "output_type": "stream",
     "text": [
      "LB -18.54721621518738\n"
     ]
    },
    {
     "name": "stderr",
     "output_type": "stream",
     "text": [
      "  1%|          | 41/5000 [3:24:01<160:56:31, 116.84s/it]"
     ]
    },
    {
     "name": "stdout",
     "output_type": "stream",
     "text": [
      "LB -18.57479320224974\n"
     ]
    },
    {
     "name": "stderr",
     "output_type": "stream",
     "text": [
      "  1%|          | 42/5000 [3:25:49<157:28:11, 114.34s/it]"
     ]
    },
    {
     "name": "stdout",
     "output_type": "stream",
     "text": [
      "LB -18.50140125944475\n"
     ]
    },
    {
     "name": "stderr",
     "output_type": "stream",
     "text": [
      "  1%|          | 43/5000 [3:27:39<155:24:13, 112.86s/it]"
     ]
    },
    {
     "name": "stdout",
     "output_type": "stream",
     "text": [
      "LB -18.35539490696168\n"
     ]
    },
    {
     "name": "stderr",
     "output_type": "stream",
     "text": [
      "  1%|          | 44/5000 [3:29:27<153:37:51, 111.60s/it]"
     ]
    },
    {
     "name": "stdout",
     "output_type": "stream",
     "text": [
      "LB -18.20816056890667\n"
     ]
    },
    {
     "name": "stderr",
     "output_type": "stream",
     "text": [
      "  1%|          | 45/5000 [3:31:18<153:19:04, 111.39s/it]"
     ]
    },
    {
     "name": "stdout",
     "output_type": "stream",
     "text": [
      "LB -18.190923266611684\n"
     ]
    },
    {
     "name": "stderr",
     "output_type": "stream",
     "text": [
      "  1%|          | 46/5000 [3:33:10<153:15:16, 111.37s/it]"
     ]
    },
    {
     "name": "stdout",
     "output_type": "stream",
     "text": [
      "LB -18.24129352391347\n"
     ]
    },
    {
     "name": "stderr",
     "output_type": "stream",
     "text": [
      "  1%|          | 47/5000 [3:34:57<151:27:26, 110.08s/it]"
     ]
    },
    {
     "name": "stdout",
     "output_type": "stream",
     "text": [
      "LB -18.045740273658517\n"
     ]
    },
    {
     "name": "stderr",
     "output_type": "stream",
     "text": [
      "  1%|          | 48/5000 [3:36:44<150:12:37, 109.20s/it]"
     ]
    },
    {
     "name": "stdout",
     "output_type": "stream",
     "text": [
      "LB -18.1787491548641\n"
     ]
    },
    {
     "name": "stderr",
     "output_type": "stream",
     "text": [
      "  1%|          | 49/5000 [3:38:34<150:30:59, 109.44s/it]"
     ]
    },
    {
     "name": "stdout",
     "output_type": "stream",
     "text": [
      "LB -18.12027201626365\n"
     ]
    },
    {
     "name": "stderr",
     "output_type": "stream",
     "text": [
      "  1%|          | 50/5000 [3:40:20<149:14:33, 108.54s/it]"
     ]
    },
    {
     "name": "stdout",
     "output_type": "stream",
     "text": [
      "LB -17.976149206782413\n"
     ]
    },
    {
     "name": "stderr",
     "output_type": "stream",
     "text": [
      "  1%|          | 51/5000 [3:42:10<149:42:37, 108.90s/it]"
     ]
    },
    {
     "name": "stdout",
     "output_type": "stream",
     "text": [
      "LB Smoothed -20.367411554493263\n"
     ]
    },
    {
     "name": "stderr",
     "output_type": "stream",
     "text": [
      "  1%|          | 52/5000 [3:43:57<148:57:35, 108.38s/it]"
     ]
    },
    {
     "name": "stdout",
     "output_type": "stream",
     "text": [
      "LB Smoothed -20.23001552834554\n"
     ]
    },
    {
     "name": "stderr",
     "output_type": "stream",
     "text": [
      "  1%|          | 53/5000 [3:45:44<148:11:18, 107.84s/it]"
     ]
    },
    {
     "name": "stdout",
     "output_type": "stream",
     "text": [
      "LB Smoothed -20.099036957313547\n"
     ]
    },
    {
     "name": "stderr",
     "output_type": "stream",
     "text": [
      "  1%|          | 54/5000 [3:47:35<149:29:27, 108.81s/it]"
     ]
    },
    {
     "name": "stdout",
     "output_type": "stream",
     "text": [
      "LB Smoothed -19.969744580321862\n"
     ]
    },
    {
     "name": "stderr",
     "output_type": "stream",
     "text": [
      "  1%|          | 55/5000 [3:49:24<149:27:20, 108.80s/it]"
     ]
    },
    {
     "name": "stdout",
     "output_type": "stream",
     "text": [
      "LB Smoothed -19.84796696126896\n"
     ]
    },
    {
     "name": "stderr",
     "output_type": "stream",
     "text": [
      "  1%|          | 56/5000 [3:51:10<148:16:54, 107.97s/it]"
     ]
    },
    {
     "name": "stdout",
     "output_type": "stream",
     "text": [
      "LB Smoothed -19.732351951438016\n"
     ]
    },
    {
     "name": "stderr",
     "output_type": "stream",
     "text": [
      "  1%|          | 57/5000 [3:53:00<149:23:45, 108.81s/it]"
     ]
    },
    {
     "name": "stdout",
     "output_type": "stream",
     "text": [
      "LB Smoothed -19.611986223418818\n"
     ]
    },
    {
     "name": "stderr",
     "output_type": "stream",
     "text": [
      "  1%|          | 58/5000 [3:54:51<150:16:21, 109.47s/it]"
     ]
    },
    {
     "name": "stdout",
     "output_type": "stream",
     "text": [
      "LB Smoothed -19.50812331818312\n"
     ]
    },
    {
     "name": "stderr",
     "output_type": "stream",
     "text": [
      "  1%|          | 59/5000 [3:56:39<149:24:01, 108.85s/it]"
     ]
    },
    {
     "name": "stdout",
     "output_type": "stream",
     "text": [
      "LB Smoothed -19.403809006885965\n"
     ]
    },
    {
     "name": "stderr",
     "output_type": "stream",
     "text": [
      "  1%|          | 60/5000 [3:58:30<150:31:29, 109.69s/it]"
     ]
    },
    {
     "name": "stdout",
     "output_type": "stream",
     "text": [
      "LB Smoothed -19.303494690321934\n"
     ]
    },
    {
     "name": "stderr",
     "output_type": "stream",
     "text": [
      "  1%|          | 61/5000 [4:00:19<150:08:52, 109.44s/it]"
     ]
    },
    {
     "name": "stdout",
     "output_type": "stream",
     "text": [
      "LB Smoothed -19.212359187862685\n"
     ]
    },
    {
     "name": "stderr",
     "output_type": "stream",
     "text": [
      "  1%|          | 62/5000 [4:01:44<139:53:47, 101.99s/it]"
     ]
    },
    {
     "name": "stdout",
     "output_type": "stream",
     "text": [
      "LB Smoothed -19.13024487609196\n"
     ]
    },
    {
     "name": "stderr",
     "output_type": "stream",
     "text": [
      "  1%|▏         | 63/5000 [4:03:24<139:08:57, 101.47s/it]"
     ]
    },
    {
     "name": "stdout",
     "output_type": "stream",
     "text": [
      "LB Smoothed -19.046293695492928\n"
     ]
    },
    {
     "name": "stderr",
     "output_type": "stream",
     "text": [
      "  1%|▏         | 64/5000 [4:04:42<129:31:42, 94.47s/it] "
     ]
    },
    {
     "name": "stdout",
     "output_type": "stream",
     "text": [
      "LB Smoothed -18.969313849130305\n"
     ]
    },
    {
     "name": "stderr",
     "output_type": "stream",
     "text": [
      "  1%|▏         | 65/5000 [4:06:03<123:42:46, 90.25s/it]"
     ]
    },
    {
     "name": "stdout",
     "output_type": "stream",
     "text": [
      "LB Smoothed -18.896743093939854\n"
     ]
    },
    {
     "name": "stderr",
     "output_type": "stream",
     "text": [
      "  1%|▏         | 66/5000 [4:07:29<122:12:54, 89.17s/it]"
     ]
    },
    {
     "name": "stdout",
     "output_type": "stream",
     "text": [
      "LB Smoothed -18.818315170474904\n"
     ]
    },
    {
     "name": "stderr",
     "output_type": "stream",
     "text": [
      "  1%|▏         | 67/5000 [4:08:56<121:09:15, 88.42s/it]"
     ]
    },
    {
     "name": "stdout",
     "output_type": "stream",
     "text": [
      "LB Smoothed -18.747820203762657\n"
     ]
    },
    {
     "name": "stderr",
     "output_type": "stream",
     "text": [
      "  1%|▏         | 68/5000 [4:10:28<122:39:59, 89.54s/it]"
     ]
    },
    {
     "name": "stdout",
     "output_type": "stream",
     "text": [
      "LB Smoothed -18.676079904981744\n"
     ]
    },
    {
     "name": "stderr",
     "output_type": "stream",
     "text": [
      "  1%|▏         | 69/5000 [4:11:50<119:41:52, 87.39s/it]"
     ]
    },
    {
     "name": "stdout",
     "output_type": "stream",
     "text": [
      "LB Smoothed -18.606358126061576\n"
     ]
    },
    {
     "name": "stderr",
     "output_type": "stream",
     "text": [
      "  1%|▏         | 70/5000 [4:13:07<115:02:23, 84.00s/it]"
     ]
    },
    {
     "name": "stdout",
     "output_type": "stream",
     "text": [
      "LB Smoothed -18.535820223917753\n"
     ]
    },
    {
     "name": "stderr",
     "output_type": "stream",
     "text": [
      "  1%|▏         | 71/5000 [4:14:23<111:44:30, 81.61s/it]"
     ]
    },
    {
     "name": "stdout",
     "output_type": "stream",
     "text": [
      "LB Smoothed -18.475022518126796\n"
     ]
    },
    {
     "name": "stderr",
     "output_type": "stream",
     "text": [
      "  1%|▏         | 72/5000 [4:15:39<109:32:17, 80.02s/it]"
     ]
    },
    {
     "name": "stdout",
     "output_type": "stream",
     "text": [
      "LB Smoothed -18.415292771927678\n"
     ]
    },
    {
     "name": "stderr",
     "output_type": "stream",
     "text": [
      "  1%|▏         | 73/5000 [4:16:56<108:20:15, 79.16s/it]"
     ]
    },
    {
     "name": "stdout",
     "output_type": "stream",
     "text": [
      "LB Smoothed -18.355475978122055\n"
     ]
    },
    {
     "name": "stderr",
     "output_type": "stream",
     "text": [
      "  1%|▏         | 74/5000 [4:18:38<117:32:41, 85.90s/it]"
     ]
    },
    {
     "name": "stdout",
     "output_type": "stream",
     "text": [
      "LB Smoothed -18.306173486713334\n"
     ]
    },
    {
     "name": "stderr",
     "output_type": "stream",
     "text": [
      "  2%|▏         | 75/5000 [4:20:21<124:43:11, 91.17s/it]"
     ]
    },
    {
     "name": "stdout",
     "output_type": "stream",
     "text": [
      "LB Smoothed -18.255088116724465\n"
     ]
    },
    {
     "name": "stderr",
     "output_type": "stream",
     "text": [
      "  2%|▏         | 76/5000 [4:22:09<131:39:39, 96.26s/it]"
     ]
    },
    {
     "name": "stdout",
     "output_type": "stream",
     "text": [
      "LB Smoothed -18.204530214044812\n"
     ]
    },
    {
     "name": "stderr",
     "output_type": "stream",
     "text": [
      "  2%|▏         | 77/5000 [4:23:56<135:50:45, 99.34s/it]"
     ]
    },
    {
     "name": "stdout",
     "output_type": "stream",
     "text": [
      "LB Smoothed -18.15183296401252\n"
     ]
    },
    {
     "name": "stderr",
     "output_type": "stream",
     "text": [
      "  2%|▏         | 78/5000 [4:25:40<137:38:55, 100.68s/it]"
     ]
    },
    {
     "name": "stdout",
     "output_type": "stream",
     "text": [
      "LB Smoothed -18.10999550951019\n"
     ]
    },
    {
     "name": "stderr",
     "output_type": "stream",
     "text": [
      "  2%|▏         | 79/5000 [4:27:28<140:50:08, 103.03s/it]"
     ]
    },
    {
     "name": "stdout",
     "output_type": "stream",
     "text": [
      "LB Smoothed -18.06651548291543\n"
     ]
    },
    {
     "name": "stderr",
     "output_type": "stream",
     "text": [
      "  2%|▏         | 80/5000 [4:29:12<141:19:44, 103.41s/it]"
     ]
    },
    {
     "name": "stdout",
     "output_type": "stream",
     "text": [
      "LB Smoothed -18.030789088874823\n"
     ]
    },
    {
     "name": "stderr",
     "output_type": "stream",
     "text": [
      "  2%|▏         | 81/5000 [4:30:56<141:17:04, 103.40s/it]"
     ]
    },
    {
     "name": "stdout",
     "output_type": "stream",
     "text": [
      "LB Smoothed -17.99291349924361\n"
     ]
    },
    {
     "name": "stderr",
     "output_type": "stream",
     "text": [
      "  2%|▏         | 82/5000 [4:32:41<142:02:25, 103.97s/it]"
     ]
    },
    {
     "name": "stdout",
     "output_type": "stream",
     "text": [
      "LB Smoothed -17.95717523694782\n"
     ]
    },
    {
     "name": "stderr",
     "output_type": "stream",
     "text": [
      "  2%|▏         | 83/5000 [4:34:27<142:36:15, 104.41s/it]"
     ]
    },
    {
     "name": "stdout",
     "output_type": "stream",
     "text": [
      "LB Smoothed -17.92563743169955\n"
     ]
    },
    {
     "name": "stderr",
     "output_type": "stream",
     "text": [
      "  2%|▏         | 84/5000 [4:36:11<142:33:22, 104.39s/it]"
     ]
    },
    {
     "name": "stdout",
     "output_type": "stream",
     "text": [
      "LB Smoothed -17.89122488715761\n"
     ]
    },
    {
     "name": "stderr",
     "output_type": "stream",
     "text": [
      "  2%|▏         | 85/5000 [4:37:56<142:41:26, 104.51s/it]"
     ]
    },
    {
     "name": "stdout",
     "output_type": "stream",
     "text": [
      "LB Smoothed -17.8606344465783\n"
     ]
    },
    {
     "name": "stderr",
     "output_type": "stream",
     "text": [
      "  2%|▏         | 86/5000 [4:39:42<143:34:44, 105.19s/it]"
     ]
    },
    {
     "name": "stdout",
     "output_type": "stream",
     "text": [
      "LB Smoothed -17.833935299437833\n"
     ]
    },
    {
     "name": "stderr",
     "output_type": "stream",
     "text": [
      "  2%|▏         | 87/5000 [4:41:13<137:27:16, 100.72s/it]"
     ]
    },
    {
     "name": "stdout",
     "output_type": "stream",
     "text": [
      "LB Smoothed -17.80974111740243\n"
     ]
    },
    {
     "name": "stderr",
     "output_type": "stream",
     "text": [
      "  2%|▏         | 88/5000 [4:42:37<130:28:23, 95.62s/it] "
     ]
    },
    {
     "name": "stdout",
     "output_type": "stream",
     "text": [
      "LB Smoothed -17.78307824081337\n"
     ]
    },
    {
     "name": "stderr",
     "output_type": "stream",
     "text": [
      "  2%|▏         | 89/5000 [4:44:00<125:26:19, 91.95s/it]"
     ]
    },
    {
     "name": "stdout",
     "output_type": "stream",
     "text": [
      "LB Smoothed -17.757320996815803\n"
     ]
    },
    {
     "name": "stderr",
     "output_type": "stream",
     "text": [
      "  2%|▏         | 90/5000 [4:45:23<121:58:56, 89.44s/it]"
     ]
    },
    {
     "name": "stdout",
     "output_type": "stream",
     "text": [
      "LB Smoothed -17.734133541746104\n"
     ]
    },
    {
     "name": "stderr",
     "output_type": "stream",
     "text": [
      "  2%|▏         | 91/5000 [4:46:49<120:14:05, 88.17s/it]"
     ]
    },
    {
     "name": "stdout",
     "output_type": "stream",
     "text": [
      "LB Smoothed -17.709674821786937\n"
     ]
    },
    {
     "name": "stderr",
     "output_type": "stream",
     "text": [
      "  2%|▏         | 92/5000 [4:48:13<118:34:21, 86.97s/it]"
     ]
    },
    {
     "name": "stdout",
     "output_type": "stream",
     "text": [
      "LB Smoothed -17.68661955778796\n"
     ]
    },
    {
     "name": "stderr",
     "output_type": "stream",
     "text": [
      "  2%|▏         | 93/5000 [4:49:37<117:13:08, 86.00s/it]"
     ]
    },
    {
     "name": "stdout",
     "output_type": "stream",
     "text": [
      "LB Smoothed -17.66794301770782\n"
     ]
    },
    {
     "name": "stderr",
     "output_type": "stream",
     "text": [
      "  2%|▏         | 94/5000 [4:51:00<116:01:44, 85.14s/it]"
     ]
    },
    {
     "name": "stdout",
     "output_type": "stream",
     "text": [
      "LB Smoothed -17.649728208979557\n"
     ]
    },
    {
     "name": "stderr",
     "output_type": "stream",
     "text": [
      "  2%|▏         | 95/5000 [4:52:21<114:35:16, 84.10s/it]"
     ]
    },
    {
     "name": "stdout",
     "output_type": "stream",
     "text": [
      "LB Smoothed -17.633241782419542\n"
     ]
    },
    {
     "name": "stderr",
     "output_type": "stream",
     "text": [
      "  2%|▏         | 96/5000 [4:53:46<114:38:42, 84.16s/it]"
     ]
    },
    {
     "name": "stdout",
     "output_type": "stream",
     "text": [
      "LB Smoothed -17.617112434114787\n"
     ]
    },
    {
     "name": "stderr",
     "output_type": "stream",
     "text": [
      "  2%|▏         | 97/5000 [4:55:10<114:48:46, 84.30s/it]"
     ]
    },
    {
     "name": "stdout",
     "output_type": "stream",
     "text": [
      "LB Smoothed -17.605484245801183\n"
     ]
    },
    {
     "name": "stderr",
     "output_type": "stream",
     "text": [
      "  2%|▏         | 98/5000 [4:56:33<114:07:48, 83.82s/it]"
     ]
    },
    {
     "name": "stdout",
     "output_type": "stream",
     "text": [
      "LB Smoothed -17.590968049410296\n"
     ]
    },
    {
     "name": "stderr",
     "output_type": "stream",
     "text": [
      "  2%|▏         | 99/5000 [4:57:57<114:11:04, 83.87s/it]"
     ]
    },
    {
     "name": "stdout",
     "output_type": "stream",
     "text": [
      "LB Smoothed -17.579985182388384\n"
     ]
    },
    {
     "name": "stderr",
     "output_type": "stream",
     "text": [
      "  2%|▏         | 100/5000 [4:59:20<113:45:53, 83.58s/it]"
     ]
    },
    {
     "name": "stdout",
     "output_type": "stream",
     "text": [
      "LB Smoothed -17.572941945466397\n"
     ]
    },
    {
     "name": "stderr",
     "output_type": "stream",
     "text": [
      "  2%|▏         | 101/5000 [5:00:44<113:45:25, 83.59s/it]"
     ]
    },
    {
     "name": "stdout",
     "output_type": "stream",
     "text": [
      "LB Smoothed -17.559960922474886\n"
     ]
    },
    {
     "name": "stderr",
     "output_type": "stream",
     "text": [
      "  2%|▏         | 102/5000 [5:02:07<113:36:55, 83.51s/it]"
     ]
    },
    {
     "name": "stdout",
     "output_type": "stream",
     "text": [
      "LB Smoothed -17.553337020796704\n"
     ]
    },
    {
     "name": "stderr",
     "output_type": "stream",
     "text": [
      "  2%|▏         | 103/5000 [5:03:32<114:09:29, 83.92s/it]"
     ]
    },
    {
     "name": "stdout",
     "output_type": "stream",
     "text": [
      "LB Smoothed -17.54801571294041\n"
     ]
    },
    {
     "name": "stderr",
     "output_type": "stream",
     "text": [
      "  2%|▏         | 104/5000 [5:04:55<114:03:26, 83.87s/it]"
     ]
    },
    {
     "name": "stdout",
     "output_type": "stream",
     "text": [
      "LB Smoothed -17.54094805777216\n"
     ]
    },
    {
     "name": "stderr",
     "output_type": "stream",
     "text": [
      "  2%|▏         | 105/5000 [5:06:19<113:57:29, 83.81s/it]"
     ]
    },
    {
     "name": "stdout",
     "output_type": "stream",
     "text": [
      "LB Smoothed -17.536111740542488\n"
     ]
    },
    {
     "name": "stderr",
     "output_type": "stream",
     "text": [
      "  2%|▏         | 106/5000 [5:07:43<113:54:07, 83.79s/it]"
     ]
    },
    {
     "name": "stdout",
     "output_type": "stream",
     "text": [
      "LB Smoothed -17.531702489382557\n"
     ]
    },
    {
     "name": "stderr",
     "output_type": "stream",
     "text": [
      "  2%|▏         | 107/5000 [5:09:08<114:26:07, 84.20s/it]"
     ]
    },
    {
     "name": "stdout",
     "output_type": "stream",
     "text": [
      "LB Smoothed -17.522993876508785\n"
     ]
    },
    {
     "name": "stderr",
     "output_type": "stream",
     "text": [
      "  2%|▏         | 108/5000 [5:10:38<116:54:14, 86.03s/it]"
     ]
    },
    {
     "name": "stdout",
     "output_type": "stream",
     "text": [
      "LB Smoothed -17.515973762413886\n"
     ]
    },
    {
     "name": "stderr",
     "output_type": "stream",
     "text": [
      "  2%|▏         | 109/5000 [5:12:15<121:20:53, 89.32s/it]"
     ]
    },
    {
     "name": "stdout",
     "output_type": "stream",
     "text": [
      "LB Smoothed -17.510321833657795\n"
     ]
    },
    {
     "name": "stderr",
     "output_type": "stream",
     "text": [
      "  2%|▏         | 110/5000 [5:13:46<122:03:35, 89.86s/it]"
     ]
    },
    {
     "name": "stdout",
     "output_type": "stream",
     "text": [
      "LB Smoothed -17.501853417178044\n"
     ]
    },
    {
     "name": "stderr",
     "output_type": "stream",
     "text": [
      "  2%|▏         | 111/5000 [5:15:17<122:09:35, 89.95s/it]"
     ]
    },
    {
     "name": "stdout",
     "output_type": "stream",
     "text": [
      "LB Smoothed -17.494255276873094\n"
     ]
    },
    {
     "name": "stderr",
     "output_type": "stream",
     "text": [
      "  2%|▏         | 112/5000 [5:16:44<120:55:59, 89.07s/it]"
     ]
    },
    {
     "name": "stdout",
     "output_type": "stream",
     "text": [
      "LB Smoothed -17.488706663820963\n"
     ]
    },
    {
     "name": "stderr",
     "output_type": "stream",
     "text": [
      "  2%|▏         | 113/5000 [5:18:15<121:47:30, 89.72s/it]"
     ]
    },
    {
     "name": "stdout",
     "output_type": "stream",
     "text": [
      "LB Smoothed -17.481645466295554\n"
     ]
    },
    {
     "name": "stderr",
     "output_type": "stream",
     "text": [
      "  2%|▏         | 114/5000 [5:19:42<120:41:24, 88.92s/it]"
     ]
    },
    {
     "name": "stdout",
     "output_type": "stream",
     "text": [
      "LB Smoothed -17.476107584218024\n"
     ]
    },
    {
     "name": "stderr",
     "output_type": "stream",
     "text": [
      "  2%|▏         | 115/5000 [5:21:04<117:47:56, 86.81s/it]"
     ]
    },
    {
     "name": "stdout",
     "output_type": "stream",
     "text": [
      "LB Smoothed -17.473502579094692\n"
     ]
    },
    {
     "name": "stderr",
     "output_type": "stream",
     "text": [
      "  2%|▏         | 116/5000 [5:22:27<116:08:46, 85.61s/it]"
     ]
    },
    {
     "name": "stdout",
     "output_type": "stream",
     "text": [
      "LB Smoothed -17.470460245176433\n"
     ]
    },
    {
     "name": "stderr",
     "output_type": "stream",
     "text": [
      "  2%|▏         | 117/5000 [5:24:06<121:39:22, 89.69s/it]"
     ]
    },
    {
     "name": "stdout",
     "output_type": "stream",
     "text": [
      "LB Smoothed -17.468652980985375\n"
     ]
    },
    {
     "name": "stderr",
     "output_type": "stream",
     "text": [
      "  2%|▏         | 118/5000 [5:25:51<127:45:58, 94.22s/it]"
     ]
    },
    {
     "name": "stdout",
     "output_type": "stream",
     "text": [
      "LB Smoothed -17.466776114757693\n"
     ]
    },
    {
     "name": "stderr",
     "output_type": "stream",
     "text": [
      "  2%|▏         | 119/5000 [5:27:41<134:10:35, 98.96s/it]"
     ]
    },
    {
     "name": "stdout",
     "output_type": "stream",
     "text": [
      "LB Smoothed -17.46603354274978\n"
     ]
    },
    {
     "name": "stderr",
     "output_type": "stream",
     "text": [
      "  2%|▏         | 120/5000 [5:29:08<129:24:46, 95.47s/it]"
     ]
    },
    {
     "name": "stdout",
     "output_type": "stream",
     "text": [
      "LB Smoothed -17.463373467074923\n"
     ]
    },
    {
     "name": "stderr",
     "output_type": "stream",
     "text": [
      "  2%|▏         | 121/5000 [5:31:04<137:53:36, 101.75s/it]"
     ]
    },
    {
     "name": "stdout",
     "output_type": "stream",
     "text": [
      "LB Smoothed -17.46400119969221\n"
     ]
    },
    {
     "name": "stderr",
     "output_type": "stream",
     "text": [
      "  2%|▏         | 122/5000 [5:32:48<138:49:51, 102.46s/it]"
     ]
    },
    {
     "name": "stdout",
     "output_type": "stream",
     "text": [
      "LB Smoothed -17.461385275810677\n"
     ]
    },
    {
     "name": "stderr",
     "output_type": "stream",
     "text": [
      "  2%|▏         | 123/5000 [5:34:18<133:21:40, 98.44s/it] "
     ]
    },
    {
     "name": "stdout",
     "output_type": "stream",
     "text": [
      "LB Smoothed -17.457714643591608\n"
     ]
    },
    {
     "name": "stderr",
     "output_type": "stream",
     "text": [
      "  2%|▏         | 124/5000 [5:35:53<131:56:58, 97.42s/it]"
     ]
    },
    {
     "name": "stdout",
     "output_type": "stream",
     "text": [
      "LB Smoothed -17.456491184537555\n"
     ]
    },
    {
     "name": "stderr",
     "output_type": "stream",
     "text": [
      "  2%|▎         | 125/5000 [5:37:19<127:34:27, 94.21s/it]"
     ]
    },
    {
     "name": "stdout",
     "output_type": "stream",
     "text": [
      "LB Smoothed -17.455930915506165\n"
     ]
    },
    {
     "name": "stderr",
     "output_type": "stream",
     "text": [
      "  3%|▎         | 126/5000 [5:38:37<120:49:50, 89.25s/it]"
     ]
    },
    {
     "name": "stdout",
     "output_type": "stream",
     "text": [
      "LB Smoothed -17.453730496556975\n"
     ]
    },
    {
     "name": "stderr",
     "output_type": "stream",
     "text": [
      "  3%|▎         | 127/5000 [5:39:52<115:08:11, 85.06s/it]"
     ]
    },
    {
     "name": "stdout",
     "output_type": "stream",
     "text": [
      "LB Smoothed -17.4512731122777\n"
     ]
    },
    {
     "name": "stderr",
     "output_type": "stream",
     "text": [
      "  3%|▎         | 128/5000 [5:41:24<118:01:24, 87.21s/it]"
     ]
    },
    {
     "name": "stdout",
     "output_type": "stream",
     "text": [
      "LB Smoothed -17.450819708533754\n"
     ]
    },
    {
     "name": "stderr",
     "output_type": "stream",
     "text": [
      "  3%|▎         | 129/5000 [5:43:07<124:05:29, 91.71s/it]"
     ]
    },
    {
     "name": "stdout",
     "output_type": "stream",
     "text": [
      "LB Smoothed -17.44943564887111\n"
     ]
    },
    {
     "name": "stderr",
     "output_type": "stream",
     "text": [
      "  3%|▎         | 130/5000 [5:44:41<125:16:49, 92.61s/it]"
     ]
    },
    {
     "name": "stdout",
     "output_type": "stream",
     "text": [
      "LB Smoothed -17.447259088303937\n"
     ]
    },
    {
     "name": "stderr",
     "output_type": "stream",
     "text": [
      "  3%|▎         | 131/5000 [5:46:05<121:30:20, 89.84s/it]"
     ]
    },
    {
     "name": "stdout",
     "output_type": "stream",
     "text": [
      "LB Smoothed -17.447166584444314\n"
     ]
    },
    {
     "name": "stderr",
     "output_type": "stream",
     "text": [
      "  3%|▎         | 132/5000 [5:47:35<121:39:43, 89.97s/it]"
     ]
    },
    {
     "name": "stdout",
     "output_type": "stream",
     "text": [
      "LB Smoothed -17.44698289095753\n"
     ]
    },
    {
     "name": "stderr",
     "output_type": "stream",
     "text": [
      "  3%|▎         | 133/5000 [5:49:03<120:49:20, 89.37s/it]"
     ]
    },
    {
     "name": "stdout",
     "output_type": "stream",
     "text": [
      "LB Smoothed -17.44768656232561\n"
     ]
    },
    {
     "name": "stderr",
     "output_type": "stream",
     "text": [
      "  3%|▎         | 134/5000 [5:50:31<120:07:20, 88.87s/it]"
     ]
    },
    {
     "name": "stdout",
     "output_type": "stream",
     "text": [
      "LB Smoothed -17.44865265095562\n"
     ]
    },
    {
     "name": "stderr",
     "output_type": "stream",
     "text": [
      "  3%|▎         | 135/5000 [5:51:49<115:56:54, 85.80s/it]"
     ]
    },
    {
     "name": "stdout",
     "output_type": "stream",
     "text": [
      "LB Smoothed -17.448744116497448\n"
     ]
    },
    {
     "name": "stderr",
     "output_type": "stream",
     "text": [
      "  3%|▎         | 136/5000 [5:53:48<129:21:00, 95.74s/it]"
     ]
    },
    {
     "name": "stdout",
     "output_type": "stream",
     "text": [
      "LB Smoothed -17.446116572341122\n"
     ]
    },
    {
     "name": "stderr",
     "output_type": "stream",
     "text": [
      "  3%|▎         | 137/5000 [5:55:20<127:50:49, 94.64s/it]"
     ]
    },
    {
     "name": "stdout",
     "output_type": "stream",
     "text": [
      "LB Smoothed -17.444643319176343\n"
     ]
    },
    {
     "name": "stderr",
     "output_type": "stream",
     "text": [
      "  3%|▎         | 138/5000 [5:56:51<126:21:09, 93.56s/it]"
     ]
    },
    {
     "name": "stdout",
     "output_type": "stream",
     "text": [
      "LB Smoothed -17.442385228045286\n"
     ]
    },
    {
     "name": "stderr",
     "output_type": "stream",
     "text": [
      "  3%|▎         | 139/5000 [5:58:49<136:14:41, 100.90s/it]"
     ]
    },
    {
     "name": "stdout",
     "output_type": "stream",
     "text": [
      "LB Smoothed -17.44364094727972\n"
     ]
    },
    {
     "name": "stderr",
     "output_type": "stream",
     "text": [
      "  3%|▎         | 140/5000 [6:00:41<140:32:30, 104.11s/it]"
     ]
    },
    {
     "name": "stdout",
     "output_type": "stream",
     "text": [
      "LB Smoothed -17.445818612463096\n"
     ]
    },
    {
     "name": "stderr",
     "output_type": "stream",
     "text": [
      "  3%|▎         | 141/5000 [6:02:33<143:46:04, 106.52s/it]"
     ]
    },
    {
     "name": "stdout",
     "output_type": "stream",
     "text": [
      "LB Smoothed -17.44730316086136\n"
     ]
    },
    {
     "name": "stderr",
     "output_type": "stream",
     "text": [
      "  3%|▎         | 142/5000 [6:04:19<143:35:17, 106.41s/it]"
     ]
    },
    {
     "name": "stdout",
     "output_type": "stream",
     "text": [
      "LB Smoothed -17.446189905279503\n"
     ]
    },
    {
     "name": "stderr",
     "output_type": "stream",
     "text": [
      "  3%|▎         | 143/5000 [6:05:57<140:01:38, 103.79s/it]"
     ]
    },
    {
     "name": "stdout",
     "output_type": "stream",
     "text": [
      "LB Smoothed -17.44916535316087\n"
     ]
    },
    {
     "name": "stderr",
     "output_type": "stream",
     "text": [
      "  3%|▎         | 144/5000 [6:07:43<140:44:01, 104.33s/it]"
     ]
    },
    {
     "name": "stdout",
     "output_type": "stream",
     "text": [
      "LB Smoothed -17.44828510885592\n"
     ]
    },
    {
     "name": "stderr",
     "output_type": "stream",
     "text": [
      "  3%|▎         | 145/5000 [6:09:28<140:57:07, 104.52s/it]"
     ]
    },
    {
     "name": "stdout",
     "output_type": "stream",
     "text": [
      "LB Smoothed -17.44734661552288\n"
     ]
    },
    {
     "name": "stderr",
     "output_type": "stream",
     "text": [
      "  3%|▎         | 146/5000 [6:11:16<142:27:14, 105.65s/it]"
     ]
    },
    {
     "name": "stdout",
     "output_type": "stream",
     "text": [
      "LB Smoothed -17.446353671732425\n"
     ]
    },
    {
     "name": "stderr",
     "output_type": "stream",
     "text": [
      "  3%|▎         | 147/5000 [6:12:56<140:19:56, 104.10s/it]"
     ]
    },
    {
     "name": "stdout",
     "output_type": "stream",
     "text": [
      "LB Smoothed -17.445547840051702\n"
     ]
    },
    {
     "name": "stderr",
     "output_type": "stream",
     "text": [
      "  3%|▎         | 148/5000 [6:14:37<138:50:37, 103.02s/it]"
     ]
    },
    {
     "name": "stdout",
     "output_type": "stream",
     "text": [
      "LB Smoothed -17.442226478907916\n"
     ]
    },
    {
     "name": "stderr",
     "output_type": "stream",
     "text": [
      "  3%|▎         | 149/5000 [6:16:28<142:09:09, 105.49s/it]"
     ]
    },
    {
     "name": "stdout",
     "output_type": "stream",
     "text": [
      "LB Smoothed -17.43871031129848\n"
     ]
    },
    {
     "name": "stderr",
     "output_type": "stream",
     "text": [
      "  3%|▎         | 150/5000 [6:18:33<149:57:56, 111.31s/it]"
     ]
    },
    {
     "name": "stdout",
     "output_type": "stream",
     "text": [
      "LB Smoothed -17.43574351392912\n"
     ]
    },
    {
     "name": "stderr",
     "output_type": "stream",
     "text": [
      "  3%|▎         | 151/5000 [6:20:34<153:39:33, 114.08s/it]"
     ]
    },
    {
     "name": "stdout",
     "output_type": "stream",
     "text": [
      "LB Smoothed -17.432818706574146\n"
     ]
    },
    {
     "name": "stderr",
     "output_type": "stream",
     "text": [
      "  3%|▎         | 152/5000 [6:22:18<149:38:15, 111.12s/it]"
     ]
    },
    {
     "name": "stdout",
     "output_type": "stream",
     "text": [
      "LB Smoothed -17.42700963742471\n"
     ]
    },
    {
     "name": "stderr",
     "output_type": "stream",
     "text": [
      "  3%|▎         | 153/5000 [6:23:58<145:23:43, 107.99s/it]"
     ]
    },
    {
     "name": "stdout",
     "output_type": "stream",
     "text": [
      "LB Smoothed -17.422985815544358\n"
     ]
    },
    {
     "name": "stderr",
     "output_type": "stream",
     "text": [
      "  3%|▎         | 154/5000 [6:27:06<177:24:52, 131.80s/it]"
     ]
    },
    {
     "name": "stdout",
     "output_type": "stream",
     "text": [
      "LB Smoothed -17.416325988208513\n"
     ]
    },
    {
     "name": "stderr",
     "output_type": "stream",
     "text": [
      "  3%|▎         | 155/5000 [6:29:41<186:59:14, 138.94s/it]"
     ]
    },
    {
     "name": "stdout",
     "output_type": "stream",
     "text": [
      "LB Smoothed -17.412052745195975\n"
     ]
    },
    {
     "name": "stderr",
     "output_type": "stream",
     "text": [
      "  3%|▎         | 156/5000 [6:32:29<198:34:42, 147.58s/it]"
     ]
    },
    {
     "name": "stdout",
     "output_type": "stream",
     "text": [
      "LB Smoothed -17.40996737435943\n"
     ]
    },
    {
     "name": "stderr",
     "output_type": "stream",
     "text": [
      "  3%|▎         | 157/5000 [6:35:00<199:57:08, 148.63s/it]"
     ]
    },
    {
     "name": "stdout",
     "output_type": "stream",
     "text": [
      "LB Smoothed -17.406360780398582\n"
     ]
    },
    {
     "name": "stderr",
     "output_type": "stream",
     "text": [
      "  3%|▎         | 158/5000 [6:37:41<204:52:53, 152.33s/it]"
     ]
    },
    {
     "name": "stdout",
     "output_type": "stream",
     "text": [
      "LB Smoothed -17.405206887029145\n"
     ]
    },
    {
     "name": "stderr",
     "output_type": "stream",
     "text": [
      "  3%|▎         | 159/5000 [6:40:46<218:04:15, 162.17s/it]"
     ]
    },
    {
     "name": "stdout",
     "output_type": "stream",
     "text": [
      "LB Smoothed -17.402604988545736\n"
     ]
    },
    {
     "name": "stderr",
     "output_type": "stream",
     "text": [
      "  3%|▎         | 160/5000 [6:43:55<228:33:29, 170.00s/it]"
     ]
    },
    {
     "name": "stdout",
     "output_type": "stream",
     "text": [
      "LB Smoothed -17.400429556640425\n"
     ]
    },
    {
     "name": "stderr",
     "output_type": "stream",
     "text": [
      "  3%|▎         | 161/5000 [6:47:14<240:11:44, 178.69s/it]"
     ]
    },
    {
     "name": "stdout",
     "output_type": "stream",
     "text": [
      "LB Smoothed -17.39694129890068\n"
     ]
    },
    {
     "name": "stderr",
     "output_type": "stream",
     "text": [
      "  3%|▎         | 162/5000 [6:50:47<254:16:30, 189.21s/it]"
     ]
    },
    {
     "name": "stdout",
     "output_type": "stream",
     "text": [
      "LB Smoothed -17.39614394681065\n"
     ]
    },
    {
     "name": "stderr",
     "output_type": "stream",
     "text": [
      "  3%|▎         | 163/5000 [6:54:06<258:08:15, 192.12s/it]"
     ]
    },
    {
     "name": "stdout",
     "output_type": "stream",
     "text": [
      "LB Smoothed -17.391334292319513\n"
     ]
    },
    {
     "name": "stderr",
     "output_type": "stream",
     "text": [
      "  3%|▎         | 164/5000 [6:57:33<263:50:06, 196.40s/it]"
     ]
    },
    {
     "name": "stdout",
     "output_type": "stream",
     "text": [
      "LB Smoothed -17.38614108516471\n"
     ]
    },
    {
     "name": "stderr",
     "output_type": "stream",
     "text": [
      "  3%|▎         | 165/5000 [7:00:46<262:24:14, 195.38s/it]"
     ]
    },
    {
     "name": "stdout",
     "output_type": "stream",
     "text": [
      "LB Smoothed -17.381927973588272\n"
     ]
    },
    {
     "name": "stderr",
     "output_type": "stream",
     "text": [
      "  3%|▎         | 166/5000 [7:03:36<252:06:53, 187.76s/it]"
     ]
    },
    {
     "name": "stdout",
     "output_type": "stream",
     "text": [
      "LB Smoothed -17.37913087300157\n"
     ]
    },
    {
     "name": "stderr",
     "output_type": "stream",
     "text": [
      "  3%|▎         | 167/5000 [7:06:02<235:37:04, 175.51s/it]"
     ]
    },
    {
     "name": "stdout",
     "output_type": "stream",
     "text": [
      "LB Smoothed -17.3763913666205\n"
     ]
    },
    {
     "name": "stderr",
     "output_type": "stream",
     "text": [
      "  3%|▎         | 168/5000 [7:08:51<232:43:15, 173.38s/it]"
     ]
    },
    {
     "name": "stdout",
     "output_type": "stream",
     "text": [
      "LB Smoothed -17.37240040209247\n"
     ]
    },
    {
     "name": "stderr",
     "output_type": "stream",
     "text": [
      "  3%|▎         | 169/5000 [7:11:29<226:37:09, 168.87s/it]"
     ]
    },
    {
     "name": "stdout",
     "output_type": "stream",
     "text": [
      "LB Smoothed -17.36957444481394\n"
     ]
    },
    {
     "name": "stderr",
     "output_type": "stream",
     "text": [
      "  3%|▎         | 170/5000 [7:13:56<217:46:47, 162.32s/it]"
     ]
    },
    {
     "name": "stdout",
     "output_type": "stream",
     "text": [
      "LB Smoothed -17.36418769161459\n"
     ]
    },
    {
     "name": "stderr",
     "output_type": "stream",
     "text": [
      "  3%|▎         | 171/5000 [7:16:24<211:50:32, 157.93s/it]"
     ]
    },
    {
     "name": "stdout",
     "output_type": "stream",
     "text": [
      "LB Smoothed -17.36078092426818\n"
     ]
    },
    {
     "name": "stderr",
     "output_type": "stream",
     "text": [
      "  3%|▎         | 172/5000 [7:18:53<208:06:45, 155.18s/it]"
     ]
    },
    {
     "name": "stdout",
     "output_type": "stream",
     "text": [
      "LB Smoothed -17.36010901908393\n"
     ]
    },
    {
     "name": "stderr",
     "output_type": "stream",
     "text": [
      "  3%|▎         | 173/5000 [7:21:17<203:42:17, 151.92s/it]"
     ]
    },
    {
     "name": "stdout",
     "output_type": "stream",
     "text": [
      "LB Smoothed -17.35693075909259\n"
     ]
    },
    {
     "name": "stderr",
     "output_type": "stream",
     "text": [
      "  3%|▎         | 174/5000 [7:23:47<202:55:09, 151.37s/it]"
     ]
    },
    {
     "name": "stdout",
     "output_type": "stream",
     "text": [
      "LB Smoothed -17.354205541222708\n"
     ]
    },
    {
     "name": "stderr",
     "output_type": "stream",
     "text": [
      "  4%|▎         | 175/5000 [7:26:16<202:01:08, 150.73s/it]"
     ]
    },
    {
     "name": "stdout",
     "output_type": "stream",
     "text": [
      "LB Smoothed -17.35512155720258\n"
     ]
    },
    {
     "name": "stderr",
     "output_type": "stream",
     "text": [
      "  4%|▎         | 176/5000 [7:28:46<201:21:46, 150.27s/it]"
     ]
    },
    {
     "name": "stdout",
     "output_type": "stream",
     "text": [
      "LB Smoothed -17.355257478868097\n"
     ]
    },
    {
     "name": "stderr",
     "output_type": "stream",
     "text": [
      "  4%|▎         | 177/5000 [7:31:16<201:31:05, 150.42s/it]"
     ]
    },
    {
     "name": "stdout",
     "output_type": "stream",
     "text": [
      "LB Smoothed -17.353074854800727\n"
     ]
    },
    {
     "name": "stderr",
     "output_type": "stream",
     "text": [
      "  4%|▎         | 178/5000 [7:33:50<202:49:50, 151.43s/it]"
     ]
    },
    {
     "name": "stdout",
     "output_type": "stream",
     "text": [
      "LB Smoothed -17.352084494521723\n"
     ]
    },
    {
     "name": "stderr",
     "output_type": "stream",
     "text": [
      "  4%|▎         | 179/5000 [7:36:26<204:35:11, 152.77s/it]"
     ]
    },
    {
     "name": "stdout",
     "output_type": "stream",
     "text": [
      "LB Smoothed -17.352298051693303\n"
     ]
    },
    {
     "name": "stderr",
     "output_type": "stream",
     "text": [
      "  4%|▎         | 180/5000 [7:39:01<205:28:46, 153.47s/it]"
     ]
    },
    {
     "name": "stdout",
     "output_type": "stream",
     "text": [
      "LB Smoothed -17.35151366751005\n"
     ]
    },
    {
     "name": "stderr",
     "output_type": "stream",
     "text": [
      "  4%|▎         | 181/5000 [7:41:34<205:12:18, 153.30s/it]"
     ]
    },
    {
     "name": "stdout",
     "output_type": "stream",
     "text": [
      "LB Smoothed -17.3471901807779\n"
     ]
    },
    {
     "name": "stderr",
     "output_type": "stream",
     "text": [
      "  4%|▎         | 182/5000 [7:44:08<205:15:20, 153.37s/it]"
     ]
    },
    {
     "name": "stdout",
     "output_type": "stream",
     "text": [
      "LB Smoothed -17.3457952930626\n"
     ]
    },
    {
     "name": "stderr",
     "output_type": "stream",
     "text": [
      "  4%|▎         | 183/5000 [7:46:42<205:29:10, 153.57s/it]"
     ]
    },
    {
     "name": "stdout",
     "output_type": "stream",
     "text": [
      "LB Smoothed -17.345364886792655\n"
     ]
    },
    {
     "name": "stderr",
     "output_type": "stream",
     "text": [
      "  4%|▎         | 184/5000 [7:49:15<205:17:32, 153.46s/it]"
     ]
    },
    {
     "name": "stdout",
     "output_type": "stream",
     "text": [
      "LB Smoothed -17.344271880756185\n"
     ]
    },
    {
     "name": "stderr",
     "output_type": "stream",
     "text": [
      "  4%|▎         | 185/5000 [7:51:57<208:50:22, 156.14s/it]"
     ]
    },
    {
     "name": "stdout",
     "output_type": "stream",
     "text": [
      "LB Smoothed -17.34156155962108\n"
     ]
    },
    {
     "name": "stderr",
     "output_type": "stream",
     "text": [
      "  4%|▎         | 186/5000 [7:54:38<210:33:08, 157.46s/it]"
     ]
    },
    {
     "name": "stdout",
     "output_type": "stream",
     "text": [
      "LB Smoothed -17.342940650378313\n"
     ]
    },
    {
     "name": "stderr",
     "output_type": "stream",
     "text": [
      "  4%|▎         | 187/5000 [7:57:17<211:09:19, 157.94s/it]"
     ]
    },
    {
     "name": "stdout",
     "output_type": "stream",
     "text": [
      "LB Smoothed -17.339496700263666\n"
     ]
    },
    {
     "name": "stderr",
     "output_type": "stream",
     "text": [
      "  4%|▍         | 188/5000 [7:59:53<210:35:59, 157.56s/it]"
     ]
    },
    {
     "name": "stdout",
     "output_type": "stream",
     "text": [
      "LB Smoothed -17.335699455167404\n"
     ]
    },
    {
     "name": "stderr",
     "output_type": "stream",
     "text": [
      "  4%|▍         | 189/5000 [8:02:25<207:57:51, 155.62s/it]"
     ]
    },
    {
     "name": "stdout",
     "output_type": "stream",
     "text": [
      "LB Smoothed -17.33058249523322\n"
     ]
    },
    {
     "name": "stderr",
     "output_type": "stream",
     "text": [
      "  4%|▍         | 190/5000 [8:04:56<206:20:47, 154.44s/it]"
     ]
    },
    {
     "name": "stdout",
     "output_type": "stream",
     "text": [
      "LB Smoothed -17.325891532754312\n"
     ]
    },
    {
     "name": "stderr",
     "output_type": "stream",
     "text": [
      "  4%|▍         | 191/5000 [8:07:30<205:54:45, 154.15s/it]"
     ]
    },
    {
     "name": "stdout",
     "output_type": "stream",
     "text": [
      "LB Smoothed -17.322699671882308\n"
     ]
    },
    {
     "name": "stderr",
     "output_type": "stream",
     "text": [
      "  4%|▍         | 192/5000 [8:10:03<205:34:37, 153.93s/it]"
     ]
    },
    {
     "name": "stdout",
     "output_type": "stream",
     "text": [
      "LB Smoothed -17.31872966333417\n"
     ]
    },
    {
     "name": "stderr",
     "output_type": "stream",
     "text": [
      "  4%|▍         | 193/5000 [8:12:34<204:10:39, 152.91s/it]"
     ]
    },
    {
     "name": "stdout",
     "output_type": "stream",
     "text": [
      "LB Smoothed -17.316473361370015\n"
     ]
    },
    {
     "name": "stderr",
     "output_type": "stream",
     "text": [
      "  4%|▍         | 194/5000 [8:15:05<203:23:41, 152.36s/it]"
     ]
    },
    {
     "name": "stdout",
     "output_type": "stream",
     "text": [
      "LB Smoothed -17.31138993344971\n"
     ]
    },
    {
     "name": "stderr",
     "output_type": "stream",
     "text": [
      "  4%|▍         | 195/5000 [8:17:40<204:29:42, 153.21s/it]"
     ]
    },
    {
     "name": "stdout",
     "output_type": "stream",
     "text": [
      "LB Smoothed -17.30730058259606\n"
     ]
    },
    {
     "name": "stderr",
     "output_type": "stream",
     "text": [
      "  4%|▍         | 196/5000 [8:20:08<202:16:05, 151.57s/it]"
     ]
    },
    {
     "name": "stdout",
     "output_type": "stream",
     "text": [
      "LB Smoothed -17.30327433373059\n"
     ]
    },
    {
     "name": "stderr",
     "output_type": "stream",
     "text": [
      "  4%|▍         | 197/5000 [8:22:35<200:39:25, 150.40s/it]"
     ]
    },
    {
     "name": "stdout",
     "output_type": "stream",
     "text": [
      "LB Smoothed -17.30151938126102\n"
     ]
    },
    {
     "name": "stderr",
     "output_type": "stream",
     "text": [
      "  4%|▍         | 198/5000 [8:25:02<199:19:13, 149.43s/it]"
     ]
    },
    {
     "name": "stdout",
     "output_type": "stream",
     "text": [
      "LB Smoothed -17.29905475815924\n"
     ]
    },
    {
     "name": "stderr",
     "output_type": "stream",
     "text": [
      "  4%|▍         | 199/5000 [8:27:30<198:40:40, 148.98s/it]"
     ]
    },
    {
     "name": "stdout",
     "output_type": "stream",
     "text": [
      "LB Smoothed -17.29789754454626\n"
     ]
    },
    {
     "name": "stderr",
     "output_type": "stream",
     "text": [
      "  4%|▍         | 200/5000 [8:30:00<198:41:48, 149.02s/it]"
     ]
    },
    {
     "name": "stdout",
     "output_type": "stream",
     "text": [
      "LB Smoothed -17.29604799839948\n"
     ]
    },
    {
     "name": "stderr",
     "output_type": "stream",
     "text": [
      "  4%|▍         | 201/5000 [8:32:28<198:22:02, 148.81s/it]"
     ]
    },
    {
     "name": "stdout",
     "output_type": "stream",
     "text": [
      "LB Smoothed -17.295162932493476\n"
     ]
    },
    {
     "name": "stderr",
     "output_type": "stream",
     "text": [
      "  4%|▍         | 202/5000 [8:34:57<198:24:56, 148.87s/it]"
     ]
    },
    {
     "name": "stdout",
     "output_type": "stream",
     "text": [
      "LB Smoothed -17.293170948500844\n"
     ]
    },
    {
     "name": "stderr",
     "output_type": "stream",
     "text": [
      "  4%|▍         | 203/5000 [8:37:26<198:20:27, 148.85s/it]"
     ]
    },
    {
     "name": "stdout",
     "output_type": "stream",
     "text": [
      "LB Smoothed -17.29551281146479\n"
     ]
    },
    {
     "name": "stderr",
     "output_type": "stream",
     "text": [
      "  4%|▍         | 204/5000 [8:39:55<198:38:27, 149.11s/it]"
     ]
    },
    {
     "name": "stdout",
     "output_type": "stream",
     "text": [
      "LB Smoothed -17.29590222083655\n"
     ]
    },
    {
     "name": "stderr",
     "output_type": "stream",
     "text": [
      "  4%|▍         | 205/5000 [8:42:24<198:14:57, 148.84s/it]"
     ]
    },
    {
     "name": "stdout",
     "output_type": "stream",
     "text": [
      "LB Smoothed -17.293340853101103\n"
     ]
    },
    {
     "name": "stderr",
     "output_type": "stream",
     "text": [
      "  4%|▍         | 206/5000 [8:44:52<197:58:52, 148.67s/it]"
     ]
    },
    {
     "name": "stdout",
     "output_type": "stream",
     "text": [
      "LB Smoothed -17.29055808370446\n"
     ]
    },
    {
     "name": "stderr",
     "output_type": "stream",
     "text": [
      "  4%|▍         | 207/5000 [8:47:21<198:04:27, 148.77s/it]"
     ]
    },
    {
     "name": "stdout",
     "output_type": "stream",
     "text": [
      "LB Smoothed -17.286900187608925\n"
     ]
    },
    {
     "name": "stderr",
     "output_type": "stream",
     "text": [
      "  4%|▍         | 208/5000 [8:49:49<197:53:42, 148.67s/it]"
     ]
    },
    {
     "name": "stdout",
     "output_type": "stream",
     "text": [
      "LB Smoothed -17.287781355540268\n"
     ]
    },
    {
     "name": "stderr",
     "output_type": "stream",
     "text": [
      "  4%|▍         | 209/5000 [8:52:17<197:23:41, 148.32s/it]"
     ]
    },
    {
     "name": "stdout",
     "output_type": "stream",
     "text": [
      "LB Smoothed -17.285335757366195\n"
     ]
    },
    {
     "name": "stderr",
     "output_type": "stream",
     "text": [
      "  4%|▍         | 210/5000 [8:54:45<197:21:48, 148.33s/it]"
     ]
    },
    {
     "name": "stdout",
     "output_type": "stream",
     "text": [
      "LB Smoothed -17.284022554888416\n"
     ]
    },
    {
     "name": "stderr",
     "output_type": "stream",
     "text": [
      "  4%|▍         | 211/5000 [8:57:12<196:51:10, 147.98s/it]"
     ]
    },
    {
     "name": "stdout",
     "output_type": "stream",
     "text": [
      "LB Smoothed -17.281223988001756\n"
     ]
    },
    {
     "name": "stderr",
     "output_type": "stream",
     "text": [
      "  4%|▍         | 212/5000 [8:59:40<196:34:04, 147.80s/it]"
     ]
    },
    {
     "name": "stdout",
     "output_type": "stream",
     "text": [
      "LB Smoothed -17.28078021878543\n"
     ]
    },
    {
     "name": "stderr",
     "output_type": "stream",
     "text": [
      "  4%|▍         | 213/5000 [9:02:06<195:59:02, 147.39s/it]"
     ]
    },
    {
     "name": "stdout",
     "output_type": "stream",
     "text": [
      "LB Smoothed -17.28246703119592\n"
     ]
    },
    {
     "name": "stderr",
     "output_type": "stream",
     "text": [
      "  4%|▍         | 214/5000 [9:04:33<195:49:11, 147.29s/it]"
     ]
    },
    {
     "name": "stdout",
     "output_type": "stream",
     "text": [
      "LB Smoothed -17.282235910372037\n"
     ]
    },
    {
     "name": "stderr",
     "output_type": "stream",
     "text": [
      "  4%|▍         | 215/5000 [9:07:01<196:09:25, 147.58s/it]"
     ]
    },
    {
     "name": "stdout",
     "output_type": "stream",
     "text": [
      "LB Smoothed -17.279994441258392\n"
     ]
    },
    {
     "name": "stderr",
     "output_type": "stream",
     "text": [
      "  4%|▍         | 216/5000 [9:09:29<195:55:10, 147.43s/it]"
     ]
    },
    {
     "name": "stdout",
     "output_type": "stream",
     "text": [
      "LB Smoothed -17.2763879583758\n"
     ]
    },
    {
     "name": "stderr",
     "output_type": "stream",
     "text": [
      "  4%|▍         | 217/5000 [9:11:55<195:35:47, 147.22s/it]"
     ]
    },
    {
     "name": "stdout",
     "output_type": "stream",
     "text": [
      "LB Smoothed -17.275586001771494\n"
     ]
    },
    {
     "name": "stderr",
     "output_type": "stream",
     "text": [
      "  4%|▍         | 218/5000 [9:14:23<195:55:35, 147.50s/it]"
     ]
    },
    {
     "name": "stdout",
     "output_type": "stream",
     "text": [
      "LB Smoothed -17.27513660481094\n"
     ]
    },
    {
     "name": "stderr",
     "output_type": "stream",
     "text": [
      "  4%|▍         | 219/5000 [9:16:49<195:10:08, 146.96s/it]"
     ]
    },
    {
     "name": "stdout",
     "output_type": "stream",
     "text": [
      "LB Smoothed -17.271388170962332\n"
     ]
    },
    {
     "name": "stderr",
     "output_type": "stream",
     "text": [
      "  4%|▍         | 220/5000 [9:19:19<196:19:16, 147.86s/it]"
     ]
    },
    {
     "name": "stdout",
     "output_type": "stream",
     "text": [
      "LB Smoothed -17.267843026609956\n"
     ]
    },
    {
     "name": "stderr",
     "output_type": "stream",
     "text": [
      "  4%|▍         | 221/5000 [9:21:44<195:17:48, 147.12s/it]"
     ]
    },
    {
     "name": "stdout",
     "output_type": "stream",
     "text": [
      "LB Smoothed -17.26416816294735\n"
     ]
    },
    {
     "name": "stderr",
     "output_type": "stream",
     "text": [
      "  4%|▍         | 222/5000 [9:24:11<195:06:53, 147.01s/it]"
     ]
    },
    {
     "name": "stdout",
     "output_type": "stream",
     "text": [
      "LB Smoothed -17.263998178257705\n"
     ]
    },
    {
     "name": "stderr",
     "output_type": "stream",
     "text": [
      "  4%|▍         | 223/5000 [9:26:36<194:18:18, 146.43s/it]"
     ]
    },
    {
     "name": "stdout",
     "output_type": "stream",
     "text": [
      "LB Smoothed -17.262530411155666\n"
     ]
    },
    {
     "name": "stderr",
     "output_type": "stream",
     "text": [
      "  4%|▍         | 224/5000 [9:29:03<194:29:21, 146.60s/it]"
     ]
    },
    {
     "name": "stdout",
     "output_type": "stream",
     "text": [
      "LB Smoothed -17.25913588962378\n"
     ]
    },
    {
     "name": "stderr",
     "output_type": "stream",
     "text": [
      "  4%|▍         | 225/5000 [9:31:30<194:24:14, 146.57s/it]"
     ]
    },
    {
     "name": "stdout",
     "output_type": "stream",
     "text": [
      "LB Smoothed -17.25540440292199\n"
     ]
    },
    {
     "name": "stderr",
     "output_type": "stream",
     "text": [
      "  5%|▍         | 226/5000 [9:33:55<193:59:09, 146.28s/it]"
     ]
    },
    {
     "name": "stdout",
     "output_type": "stream",
     "text": [
      "LB Smoothed -17.252366536252374\n"
     ]
    },
    {
     "name": "stderr",
     "output_type": "stream",
     "text": [
      "  5%|▍         | 227/5000 [9:36:22<193:55:53, 146.27s/it]"
     ]
    },
    {
     "name": "stdout",
     "output_type": "stream",
     "text": [
      "LB Smoothed -17.24744243226202\n"
     ]
    },
    {
     "name": "stderr",
     "output_type": "stream",
     "text": [
      "  5%|▍         | 228/5000 [9:38:49<194:22:41, 146.64s/it]"
     ]
    },
    {
     "name": "stdout",
     "output_type": "stream",
     "text": [
      "LB Smoothed -17.242420238577534\n"
     ]
    },
    {
     "name": "stderr",
     "output_type": "stream",
     "text": [
      "  5%|▍         | 229/5000 [9:41:16<194:26:20, 146.72s/it]"
     ]
    },
    {
     "name": "stdout",
     "output_type": "stream",
     "text": [
      "LB Smoothed -17.23637522966739\n"
     ]
    },
    {
     "name": "stderr",
     "output_type": "stream",
     "text": [
      "  5%|▍         | 230/5000 [9:43:42<194:07:48, 146.51s/it]"
     ]
    },
    {
     "name": "stdout",
     "output_type": "stream",
     "text": [
      "LB Smoothed -17.234867544949495\n"
     ]
    },
    {
     "name": "stderr",
     "output_type": "stream",
     "text": [
      "  5%|▍         | 231/5000 [9:46:09<194:11:35, 146.59s/it]"
     ]
    },
    {
     "name": "stdout",
     "output_type": "stream",
     "text": [
      "LB Smoothed -17.232076418964542\n"
     ]
    },
    {
     "name": "stderr",
     "output_type": "stream",
     "text": [
      "  5%|▍         | 232/5000 [9:48:35<194:01:07, 146.49s/it]"
     ]
    },
    {
     "name": "stdout",
     "output_type": "stream",
     "text": [
      "LB Smoothed -17.227048176900578\n"
     ]
    },
    {
     "name": "stderr",
     "output_type": "stream",
     "text": [
      "  5%|▍         | 233/5000 [9:51:02<194:02:11, 146.53s/it]"
     ]
    },
    {
     "name": "stdout",
     "output_type": "stream",
     "text": [
      "LB Smoothed -17.224271161939694\n"
     ]
    },
    {
     "name": "stderr",
     "output_type": "stream",
     "text": [
      "  5%|▍         | 234/5000 [9:53:27<193:36:37, 146.24s/it]"
     ]
    },
    {
     "name": "stdout",
     "output_type": "stream",
     "text": [
      "LB Smoothed -17.224209055759363\n"
     ]
    },
    {
     "name": "stderr",
     "output_type": "stream",
     "text": [
      "  5%|▍         | 235/5000 [9:55:54<193:40:27, 146.32s/it]"
     ]
    },
    {
     "name": "stdout",
     "output_type": "stream",
     "text": [
      "LB Smoothed -17.222209685022595\n"
     ]
    },
    {
     "name": "stderr",
     "output_type": "stream",
     "text": [
      "  5%|▍         | 236/5000 [9:58:20<193:37:38, 146.32s/it]"
     ]
    },
    {
     "name": "stdout",
     "output_type": "stream",
     "text": [
      "LB Smoothed -17.221499124700095\n"
     ]
    },
    {
     "name": "stderr",
     "output_type": "stream",
     "text": [
      "  5%|▍         | 237/5000 [10:00:47<193:37:07, 146.34s/it]"
     ]
    },
    {
     "name": "stdout",
     "output_type": "stream",
     "text": [
      "LB Smoothed -17.220583228034283\n"
     ]
    },
    {
     "name": "stderr",
     "output_type": "stream",
     "text": [
      "  5%|▍         | 238/5000 [10:03:13<193:47:34, 146.50s/it]"
     ]
    },
    {
     "name": "stdout",
     "output_type": "stream",
     "text": [
      "LB Smoothed -17.219290745629856\n"
     ]
    },
    {
     "name": "stderr",
     "output_type": "stream",
     "text": [
      "  5%|▍         | 239/5000 [10:05:41<194:15:28, 146.89s/it]"
     ]
    },
    {
     "name": "stdout",
     "output_type": "stream",
     "text": [
      "LB Smoothed -17.219085424528654\n"
     ]
    },
    {
     "name": "stderr",
     "output_type": "stream",
     "text": [
      "  5%|▍         | 240/5000 [10:08:09<194:34:14, 147.15s/it]"
     ]
    },
    {
     "name": "stdout",
     "output_type": "stream",
     "text": [
      "LB Smoothed -17.218429886807893\n"
     ]
    },
    {
     "name": "stderr",
     "output_type": "stream",
     "text": [
      "  5%|▍         | 241/5000 [10:10:38<195:18:13, 147.74s/it]"
     ]
    },
    {
     "name": "stdout",
     "output_type": "stream",
     "text": [
      "LB Smoothed -17.217291624244414\n"
     ]
    },
    {
     "name": "stderr",
     "output_type": "stream",
     "text": [
      "  5%|▍         | 242/5000 [10:13:22<201:51:24, 152.73s/it]"
     ]
    },
    {
     "name": "stdout",
     "output_type": "stream",
     "text": [
      "LB Smoothed -17.21552615956795\n"
     ]
    },
    {
     "name": "stderr",
     "output_type": "stream",
     "text": [
      "  5%|▍         | 243/5000 [10:16:03<204:46:48, 154.97s/it]"
     ]
    },
    {
     "name": "stdout",
     "output_type": "stream",
     "text": [
      "LB Smoothed -17.215358209291296\n"
     ]
    },
    {
     "name": "stderr",
     "output_type": "stream",
     "text": [
      "  5%|▍         | 244/5000 [10:18:43<206:54:51, 156.62s/it]"
     ]
    },
    {
     "name": "stdout",
     "output_type": "stream",
     "text": [
      "LB Smoothed -17.212001248195214\n"
     ]
    },
    {
     "name": "stderr",
     "output_type": "stream",
     "text": [
      "  5%|▍         | 245/5000 [10:21:48<217:57:54, 165.02s/it]"
     ]
    },
    {
     "name": "stdout",
     "output_type": "stream",
     "text": [
      "LB Smoothed -17.208670230712134\n"
     ]
    },
    {
     "name": "stderr",
     "output_type": "stream",
     "text": [
      "  5%|▍         | 246/5000 [10:24:29<216:20:01, 163.82s/it]"
     ]
    },
    {
     "name": "stdout",
     "output_type": "stream",
     "text": [
      "LB Smoothed -17.20492491882425\n"
     ]
    },
    {
     "name": "stderr",
     "output_type": "stream",
     "text": [
      "  5%|▍         | 247/5000 [10:26:56<209:51:44, 158.95s/it]"
     ]
    },
    {
     "name": "stdout",
     "output_type": "stream",
     "text": [
      "LB Smoothed -17.20236596870453\n"
     ]
    },
    {
     "name": "stderr",
     "output_type": "stream",
     "text": [
      "  5%|▍         | 248/5000 [10:29:22<204:36:13, 155.00s/it]"
     ]
    },
    {
     "name": "stdout",
     "output_type": "stream",
     "text": [
      "LB Smoothed -17.198766949751526\n"
     ]
    },
    {
     "name": "stderr",
     "output_type": "stream",
     "text": [
      "  5%|▍         | 249/5000 [10:31:49<201:14:21, 152.49s/it]"
     ]
    },
    {
     "name": "stdout",
     "output_type": "stream",
     "text": [
      "LB Smoothed -17.19631531911876\n"
     ]
    },
    {
     "name": "stderr",
     "output_type": "stream",
     "text": [
      "  5%|▌         | 250/5000 [10:34:14<198:21:50, 150.34s/it]"
     ]
    },
    {
     "name": "stdout",
     "output_type": "stream",
     "text": [
      "LB Smoothed -17.194219587337827\n"
     ]
    },
    {
     "name": "stderr",
     "output_type": "stream",
     "text": [
      "  5%|▌         | 251/5000 [10:36:40<196:40:54, 149.10s/it]"
     ]
    },
    {
     "name": "stdout",
     "output_type": "stream",
     "text": [
      "LB Smoothed -17.191526426507536\n"
     ]
    },
    {
     "name": "stderr",
     "output_type": "stream",
     "text": [
      "  5%|▌         | 252/5000 [10:39:06<195:18:33, 148.09s/it]"
     ]
    },
    {
     "name": "stdout",
     "output_type": "stream",
     "text": [
      "LB Smoothed -17.186163781235948\n"
     ]
    },
    {
     "name": "stderr",
     "output_type": "stream",
     "text": [
      "  5%|▌         | 253/5000 [10:41:32<194:19:52, 147.38s/it]"
     ]
    },
    {
     "name": "stdout",
     "output_type": "stream",
     "text": [
      "LB Smoothed -17.182910143267407\n"
     ]
    },
    {
     "name": "stderr",
     "output_type": "stream",
     "text": [
      "  5%|▌         | 254/5000 [10:43:57<193:22:50, 146.69s/it]"
     ]
    },
    {
     "name": "stdout",
     "output_type": "stream",
     "text": [
      "LB Smoothed -17.183075250296856\n"
     ]
    },
    {
     "name": "stderr",
     "output_type": "stream",
     "text": [
      "  5%|▌         | 255/5000 [10:46:23<193:11:47, 146.58s/it]"
     ]
    },
    {
     "name": "stdout",
     "output_type": "stream",
     "text": [
      "LB Smoothed -17.18289074730544\n"
     ]
    },
    {
     "name": "stderr",
     "output_type": "stream",
     "text": [
      "  5%|▌         | 256/5000 [10:48:50<193:09:15, 146.58s/it]"
     ]
    },
    {
     "name": "stdout",
     "output_type": "stream",
     "text": [
      "LB Smoothed -17.18355873361689\n"
     ]
    },
    {
     "name": "stderr",
     "output_type": "stream",
     "text": [
      "  5%|▌         | 257/5000 [10:51:17<193:25:26, 146.81s/it]"
     ]
    },
    {
     "name": "stdout",
     "output_type": "stream",
     "text": [
      "LB Smoothed -17.181376934720202\n"
     ]
    },
    {
     "name": "stderr",
     "output_type": "stream",
     "text": [
      "  5%|▌         | 258/5000 [10:53:43<193:01:33, 146.54s/it]"
     ]
    },
    {
     "name": "stdout",
     "output_type": "stream",
     "text": [
      "LB Smoothed -17.179920704082605\n"
     ]
    },
    {
     "name": "stderr",
     "output_type": "stream",
     "text": [
      "  5%|▌         | 259/5000 [10:56:10<193:03:48, 146.60s/it]"
     ]
    },
    {
     "name": "stdout",
     "output_type": "stream",
     "text": [
      "LB Smoothed -17.177705146121564\n"
     ]
    },
    {
     "name": "stderr",
     "output_type": "stream",
     "text": [
      "  5%|▌         | 260/5000 [10:58:35<192:28:11, 146.18s/it]"
     ]
    },
    {
     "name": "stdout",
     "output_type": "stream",
     "text": [
      "LB Smoothed -17.178320342658886\n"
     ]
    },
    {
     "name": "stderr",
     "output_type": "stream",
     "text": [
      "  5%|▌         | 261/5000 [11:01:00<192:10:51, 145.99s/it]"
     ]
    },
    {
     "name": "stdout",
     "output_type": "stream",
     "text": [
      "LB Smoothed -17.17818955916008\n"
     ]
    },
    {
     "name": "stderr",
     "output_type": "stream",
     "text": [
      "  5%|▌         | 262/5000 [11:03:27<192:24:49, 146.20s/it]"
     ]
    },
    {
     "name": "stdout",
     "output_type": "stream",
     "text": [
      "LB Smoothed -17.17598432017597\n"
     ]
    },
    {
     "name": "stderr",
     "output_type": "stream",
     "text": [
      "  5%|▌         | 263/5000 [11:05:53<192:20:48, 146.18s/it]"
     ]
    },
    {
     "name": "stdout",
     "output_type": "stream",
     "text": [
      "LB Smoothed -17.17471333111169\n"
     ]
    },
    {
     "name": "stderr",
     "output_type": "stream",
     "text": [
      "  5%|▌         | 264/5000 [11:08:19<192:02:01, 145.97s/it]"
     ]
    },
    {
     "name": "stdout",
     "output_type": "stream",
     "text": [
      "LB Smoothed -17.176568196472502\n"
     ]
    },
    {
     "name": "stderr",
     "output_type": "stream",
     "text": [
      "  5%|▌         | 265/5000 [11:10:46<192:26:58, 146.32s/it]"
     ]
    },
    {
     "name": "stdout",
     "output_type": "stream",
     "text": [
      "LB Smoothed -17.17850795356167\n"
     ]
    },
    {
     "name": "stderr",
     "output_type": "stream",
     "text": [
      "  5%|▌         | 266/5000 [11:13:12<192:29:06, 146.38s/it]"
     ]
    },
    {
     "name": "stdout",
     "output_type": "stream",
     "text": [
      "LB Smoothed -17.17670221840106\n"
     ]
    },
    {
     "name": "stderr",
     "output_type": "stream",
     "text": [
      "  5%|▌         | 267/5000 [11:15:39<192:20:35, 146.30s/it]"
     ]
    },
    {
     "name": "stdout",
     "output_type": "stream",
     "text": [
      "LB Smoothed -17.176172335584344\n"
     ]
    },
    {
     "name": "stderr",
     "output_type": "stream",
     "text": [
      "  5%|▌         | 268/5000 [11:18:06<192:38:22, 146.56s/it]"
     ]
    },
    {
     "name": "stdout",
     "output_type": "stream",
     "text": [
      "LB Smoothed -17.177043809611774\n"
     ]
    },
    {
     "name": "stderr",
     "output_type": "stream",
     "text": [
      "  5%|▌         | 269/5000 [11:20:32<192:26:15, 146.43s/it]"
     ]
    },
    {
     "name": "stdout",
     "output_type": "stream",
     "text": [
      "LB Smoothed -17.179792825323645\n"
     ]
    },
    {
     "name": "stderr",
     "output_type": "stream",
     "text": [
      "  5%|▌         | 270/5000 [11:22:59<192:32:41, 146.55s/it]"
     ]
    },
    {
     "name": "stdout",
     "output_type": "stream",
     "text": [
      "LB Smoothed -17.18140090431042\n"
     ]
    },
    {
     "name": "stderr",
     "output_type": "stream",
     "text": [
      "  5%|▌         | 271/5000 [11:25:24<191:59:30, 146.16s/it]"
     ]
    },
    {
     "name": "stdout",
     "output_type": "stream",
     "text": [
      "LB Smoothed -17.18126931868427\n"
     ]
    },
    {
     "name": "stderr",
     "output_type": "stream",
     "text": [
      "  5%|▌         | 272/5000 [11:27:53<192:57:12, 146.92s/it]"
     ]
    },
    {
     "name": "stdout",
     "output_type": "stream",
     "text": [
      "LB Smoothed -17.178608657530486\n"
     ]
    },
    {
     "name": "stderr",
     "output_type": "stream",
     "text": [
      "  5%|▌         | 273/5000 [11:30:20<192:57:12, 146.95s/it]"
     ]
    },
    {
     "name": "stdout",
     "output_type": "stream",
     "text": [
      "LB Smoothed -17.17825573713541\n"
     ]
    },
    {
     "name": "stderr",
     "output_type": "stream",
     "text": [
      "  5%|▌         | 274/5000 [11:32:47<192:55:44, 146.96s/it]"
     ]
    },
    {
     "name": "stdout",
     "output_type": "stream",
     "text": [
      "LB Smoothed -17.18063503528431\n"
     ]
    },
    {
     "name": "stderr",
     "output_type": "stream",
     "text": [
      "  6%|▌         | 275/5000 [11:35:13<192:30:28, 146.67s/it]"
     ]
    },
    {
     "name": "stdout",
     "output_type": "stream",
     "text": [
      "LB Smoothed -17.18287415292484\n"
     ]
    },
    {
     "name": "stderr",
     "output_type": "stream",
     "text": [
      "  6%|▌         | 276/5000 [11:37:40<192:56:07, 147.03s/it]"
     ]
    },
    {
     "name": "stdout",
     "output_type": "stream",
     "text": [
      "LB Smoothed -17.183800506522854\n"
     ]
    },
    {
     "name": "stderr",
     "output_type": "stream",
     "text": [
      "  6%|▌         | 277/5000 [11:40:07<192:41:50, 146.88s/it]"
     ]
    },
    {
     "name": "stdout",
     "output_type": "stream",
     "text": [
      "LB Smoothed -17.184021926617184\n"
     ]
    },
    {
     "name": "stderr",
     "output_type": "stream",
     "text": [
      "  6%|▌         | 278/5000 [11:42:34<192:41:48, 146.91s/it]"
     ]
    },
    {
     "name": "stdout",
     "output_type": "stream",
     "text": [
      "LB Smoothed -17.186504848431504\n"
     ]
    },
    {
     "name": "stderr",
     "output_type": "stream",
     "text": [
      "  6%|▌         | 279/5000 [11:45:00<192:22:35, 146.70s/it]"
     ]
    },
    {
     "name": "stdout",
     "output_type": "stream",
     "text": [
      "LB Smoothed -17.18775177656383\n"
     ]
    },
    {
     "name": "stderr",
     "output_type": "stream",
     "text": [
      "  6%|▌         | 280/5000 [11:47:27<192:22:31, 146.73s/it]"
     ]
    },
    {
     "name": "stdout",
     "output_type": "stream",
     "text": [
      "LB Smoothed -17.188337629255773\n"
     ]
    },
    {
     "name": "stderr",
     "output_type": "stream",
     "text": [
      "  6%|▌         | 281/5000 [11:49:53<191:59:25, 146.46s/it]"
     ]
    },
    {
     "name": "stdout",
     "output_type": "stream",
     "text": [
      "LB Smoothed -17.19126273278164\n"
     ]
    },
    {
     "name": "stderr",
     "output_type": "stream",
     "text": [
      "  6%|▌         | 282/5000 [11:52:19<191:56:05, 146.45s/it]"
     ]
    },
    {
     "name": "stdout",
     "output_type": "stream",
     "text": [
      "LB Smoothed -17.191506386026507\n"
     ]
    },
    {
     "name": "stderr",
     "output_type": "stream",
     "text": [
      "  6%|▌         | 283/5000 [11:54:47<192:19:40, 146.78s/it]"
     ]
    },
    {
     "name": "stdout",
     "output_type": "stream",
     "text": [
      "LB Smoothed -17.19068014521464\n"
     ]
    },
    {
     "name": "stderr",
     "output_type": "stream",
     "text": [
      "  6%|▌         | 284/5000 [11:57:14<192:22:08, 146.85s/it]"
     ]
    },
    {
     "name": "stdout",
     "output_type": "stream",
     "text": [
      "LB Smoothed -17.18877563655124\n"
     ]
    },
    {
     "name": "stderr",
     "output_type": "stream",
     "text": [
      "  6%|▌         | 285/5000 [11:59:40<191:54:06, 146.52s/it]"
     ]
    },
    {
     "name": "stdout",
     "output_type": "stream",
     "text": [
      "LB Smoothed -17.189058899752578\n"
     ]
    },
    {
     "name": "stderr",
     "output_type": "stream",
     "text": [
      "  6%|▌         | 286/5000 [12:02:06<191:48:40, 146.48s/it]"
     ]
    },
    {
     "name": "stdout",
     "output_type": "stream",
     "text": [
      "LB Smoothed -17.187997413355266\n"
     ]
    },
    {
     "name": "stderr",
     "output_type": "stream",
     "text": [
      "  6%|▌         | 287/5000 [12:04:34<192:14:16, 146.84s/it]"
     ]
    },
    {
     "name": "stdout",
     "output_type": "stream",
     "text": [
      "LB Smoothed -17.188430969153494\n"
     ]
    },
    {
     "name": "stderr",
     "output_type": "stream",
     "text": [
      "  6%|▌         | 288/5000 [12:07:00<191:53:40, 146.61s/it]"
     ]
    },
    {
     "name": "stdout",
     "output_type": "stream",
     "text": [
      "LB Smoothed -17.186642081537933\n"
     ]
    },
    {
     "name": "stderr",
     "output_type": "stream",
     "text": [
      "  6%|▌         | 289/5000 [12:09:26<191:33:37, 146.38s/it]"
     ]
    },
    {
     "name": "stdout",
     "output_type": "stream",
     "text": [
      "LB Smoothed -17.186771311040065\n"
     ]
    },
    {
     "name": "stderr",
     "output_type": "stream",
     "text": [
      "  6%|▌         | 290/5000 [12:11:53<191:55:13, 146.69s/it]"
     ]
    },
    {
     "name": "stdout",
     "output_type": "stream",
     "text": [
      "LB Smoothed -17.184592019917435\n"
     ]
    },
    {
     "name": "stderr",
     "output_type": "stream",
     "text": [
      "  6%|▌         | 291/5000 [12:14:20<191:56:59, 146.74s/it]"
     ]
    },
    {
     "name": "stdout",
     "output_type": "stream",
     "text": [
      "LB Smoothed -17.18574525148915\n"
     ]
    },
    {
     "name": "stderr",
     "output_type": "stream",
     "text": [
      "  6%|▌         | 292/5000 [12:16:48<192:27:38, 147.17s/it]"
     ]
    },
    {
     "name": "stdout",
     "output_type": "stream",
     "text": [
      "LB Smoothed -17.187290506254573\n"
     ]
    },
    {
     "name": "stderr",
     "output_type": "stream",
     "text": [
      "  6%|▌         | 293/5000 [12:19:16<192:48:30, 147.46s/it]"
     ]
    },
    {
     "name": "stdout",
     "output_type": "stream",
     "text": [
      "LB Smoothed -17.19086074842602\n"
     ]
    },
    {
     "name": "stderr",
     "output_type": "stream",
     "text": [
      "  6%|▌         | 294/5000 [12:21:44<192:56:31, 147.60s/it]"
     ]
    },
    {
     "name": "stdout",
     "output_type": "stream",
     "text": [
      "LB Smoothed -17.194858491984533\n"
     ]
    },
    {
     "name": "stderr",
     "output_type": "stream",
     "text": [
      "  6%|▌         | 295/5000 [12:24:11<192:33:22, 147.33s/it]"
     ]
    },
    {
     "name": "stdout",
     "output_type": "stream",
     "text": [
      "LB Smoothed -17.195225245634777\n"
     ]
    },
    {
     "name": "stderr",
     "output_type": "stream",
     "text": [
      "  6%|▌         | 296/5000 [12:26:37<192:06:13, 147.02s/it]"
     ]
    },
    {
     "name": "stdout",
     "output_type": "stream",
     "text": [
      "LB Smoothed -17.197249721052636\n"
     ]
    },
    {
     "name": "stderr",
     "output_type": "stream",
     "text": [
      "  6%|▌         | 297/5000 [12:29:04<192:09:42, 147.09s/it]"
     ]
    },
    {
     "name": "stdout",
     "output_type": "stream",
     "text": [
      "LB Smoothed -17.200390899804873\n"
     ]
    },
    {
     "name": "stderr",
     "output_type": "stream",
     "text": [
      "  6%|▌         | 298/5000 [12:31:33<192:44:59, 147.58s/it]"
     ]
    },
    {
     "name": "stdout",
     "output_type": "stream",
     "text": [
      "LB Smoothed -17.202120333803908\n"
     ]
    },
    {
     "name": "stderr",
     "output_type": "stream",
     "text": [
      "  6%|▌         | 299/5000 [12:33:59<192:05:04, 147.10s/it]"
     ]
    },
    {
     "name": "stdout",
     "output_type": "stream",
     "text": [
      "LB Smoothed -17.202515717960907\n"
     ]
    },
    {
     "name": "stderr",
     "output_type": "stream",
     "text": [
      "  6%|▌         | 300/5000 [12:36:25<191:36:22, 146.76s/it]"
     ]
    },
    {
     "name": "stdout",
     "output_type": "stream",
     "text": [
      "LB Smoothed -17.207053994421507\n"
     ]
    },
    {
     "name": "stderr",
     "output_type": "stream",
     "text": [
      "  6%|▌         | 301/5000 [12:38:52<191:34:15, 146.77s/it]"
     ]
    },
    {
     "name": "stdout",
     "output_type": "stream",
     "text": [
      "LB Smoothed -17.209744167503747\n"
     ]
    },
    {
     "name": "stderr",
     "output_type": "stream",
     "text": [
      "  6%|▌         | 302/5000 [12:41:18<191:25:48, 146.69s/it]"
     ]
    },
    {
     "name": "stdout",
     "output_type": "stream",
     "text": [
      "LB Smoothed -17.209248848596886\n"
     ]
    },
    {
     "name": "stderr",
     "output_type": "stream",
     "text": [
      "  6%|▌         | 303/5000 [12:44:33<210:05:15, 161.02s/it]"
     ]
    },
    {
     "name": "stdout",
     "output_type": "stream",
     "text": [
      "LB Smoothed -17.21091604099677\n"
     ]
    },
    {
     "name": "stderr",
     "output_type": "stream",
     "text": [
      "  6%|▌         | 304/5000 [12:47:53<225:30:47, 172.88s/it]"
     ]
    },
    {
     "name": "stdout",
     "output_type": "stream",
     "text": [
      "LB Smoothed -17.21323251856169\n"
     ]
    },
    {
     "name": "stderr",
     "output_type": "stream",
     "text": [
      "  6%|▌         | 305/5000 [12:51:18<237:48:51, 182.35s/it]"
     ]
    },
    {
     "name": "stdout",
     "output_type": "stream",
     "text": [
      "LB Smoothed -17.211778854529804\n"
     ]
    },
    {
     "name": "stderr",
     "output_type": "stream",
     "text": [
      "  6%|▌         | 306/5000 [12:54:37<244:19:51, 187.39s/it]"
     ]
    },
    {
     "name": "stdout",
     "output_type": "stream",
     "text": [
      "LB Smoothed -17.2133731959205\n"
     ]
    },
    {
     "name": "stderr",
     "output_type": "stream",
     "text": [
      "  6%|▌         | 307/5000 [12:58:02<251:15:00, 192.73s/it]"
     ]
    },
    {
     "name": "stdout",
     "output_type": "stream",
     "text": [
      "LB Smoothed -17.216548365577165\n"
     ]
    },
    {
     "name": "stderr",
     "output_type": "stream",
     "text": [
      "  6%|▌         | 308/5000 [13:01:27<255:48:46, 196.28s/it]"
     ]
    },
    {
     "name": "stdout",
     "output_type": "stream",
     "text": [
      "LB Smoothed -17.221432783716526\n"
     ]
    },
    {
     "name": "stderr",
     "output_type": "stream",
     "text": [
      "  6%|▌         | 309/5000 [13:04:51<258:58:19, 198.74s/it]"
     ]
    },
    {
     "name": "stdout",
     "output_type": "stream",
     "text": [
      "LB Smoothed -17.224356382805396\n"
     ]
    },
    {
     "name": "stderr",
     "output_type": "stream",
     "text": [
      "  6%|▌         | 310/5000 [13:08:18<262:00:33, 201.12s/it]"
     ]
    },
    {
     "name": "stdout",
     "output_type": "stream",
     "text": [
      "LB Smoothed -17.226828630977\n"
     ]
    },
    {
     "name": "stderr",
     "output_type": "stream",
     "text": [
      "  6%|▌         | 311/5000 [13:11:43<263:43:34, 202.48s/it]"
     ]
    },
    {
     "name": "stdout",
     "output_type": "stream",
     "text": [
      "LB Smoothed -17.231780674621962\n"
     ]
    },
    {
     "name": "stderr",
     "output_type": "stream",
     "text": [
      "  6%|▌         | 312/5000 [13:15:10<265:28:08, 203.86s/it]"
     ]
    },
    {
     "name": "stdout",
     "output_type": "stream",
     "text": [
      "LB Smoothed -17.233421095875965\n"
     ]
    },
    {
     "name": "stderr",
     "output_type": "stream",
     "text": [
      "  6%|▋         | 313/5000 [13:18:37<266:36:34, 204.78s/it]"
     ]
    },
    {
     "name": "stdout",
     "output_type": "stream",
     "text": [
      "LB Smoothed -17.233552310855753\n"
     ]
    },
    {
     "name": "stderr",
     "output_type": "stream",
     "text": [
      "  6%|▋         | 313/5000 [13:21:59<200:09:22, 153.74s/it]"
     ]
    },
    {
     "name": "stdout",
     "output_type": "stream",
     "text": [
      "LB Smoothed -17.23616080666985\n",
      "Stop at 313\n"
     ]
    },
    {
     "name": "stderr",
     "output_type": "stream",
     "text": [
      "\n"
     ]
    }
   ],
   "source": [
    "# Set hyperparameters\n",
    "stop = 5000\n",
    "vb = GVB(400, transformed_summary_statistics[0], 0.005, 2500, 100, 0.9, 0.9, 50, 50)\n",
    "LB_estimate, smoothed_LB_estimate, best_lambda = vb.vb_posterior(stop)"
   ]
  },
  {
   "cell_type": "code",
   "execution_count": 43,
   "metadata": {},
   "outputs": [
    {
     "data": {
      "text/plain": [
       "array([array([ 3.19810092,  0.09903016,  1.84708307, -0.31620551]),\n",
       "       array([41.94118703, -8.53190355,  5.26819136, -1.2521479 ,  8.1421152 ,\n",
       "              -1.12904861,  2.65895337,  4.05549818, -0.29774536,  3.31271867])],\n",
       "      dtype=object)"
      ]
     },
     "execution_count": 43,
     "metadata": {},
     "output_type": "execute_result"
    }
   ],
   "source": [
    "best_lambda"
   ]
  },
  {
   "cell_type": "code",
   "execution_count": 44,
   "metadata": {},
   "outputs": [
    {
     "data": {
      "text/plain": [
       "<AxesSubplot: title={'center': 'Lower Bound Estimate'}>"
      ]
     },
     "execution_count": 44,
     "metadata": {},
     "output_type": "execute_result"
    },
    {
     "data": {
      "text/plain": [
       "<Figure size 640x480 with 0 Axes>"
      ]
     },
     "metadata": {},
     "output_type": "display_data"
    },
    {
     "data": {
      "image/png": "[encoded data removed]",
      "text/plain": [
       "<Figure size 640x480 with 1 Axes>"
      ]
     },
     "metadata": {},
     "output_type": "display_data"
    }
   ],
   "source": [
    "lb_df = pd.DataFrame(np.array(LB_estimate))\n",
    "plt.figure()\n",
    "lb_df.plot(title = 'Lower Bound Estimate', legend = False)"
   ]
  },
  {
   "cell_type": "code",
   "execution_count": 45,
   "metadata": {},
   "outputs": [
    {
     "data": {
      "text/plain": [
       "<AxesSubplot: title={'center': 'Smoothed Lower Bound Estimate'}>"
      ]
     },
     "execution_count": 45,
     "metadata": {},
     "output_type": "execute_result"
    },
    {
     "data": {
      "text/plain": [
       "<Figure size 640x480 with 0 Axes>"
      ]
     },
     "metadata": {},
     "output_type": "display_data"
    },
    {
     "data": {
      "image/png": "[encoded data removed]",
      "text/plain": [
       "<Figure size 640x480 with 1 Axes>"
      ]
     },
     "metadata": {},
     "output_type": "display_data"
    }
   ],
   "source": [
    "lb_df = pd.DataFrame(np.array(smoothed_LB_estimate))\n",
    "plt.figure()\n",
    "lb_df.plot(title = 'Smoothed Lower Bound Estimate', legend = False)"
   ]
  },
  {
   "cell_type": "code",
   "execution_count": 198,
   "metadata": {},
   "outputs": [
    {
     "data": {
      "text/plain": [
       "array([1.05586993, 7.69468505, 1.10547505, 7.40152564])"
      ]
     },
     "execution_count": 198,
     "metadata": {},
     "output_type": "execute_result"
    }
   ],
   "source": [
    "best_mu = best_lambda[0]\n",
    "best_vech_l = list(best_lambda[1])\n",
    "best_l = np.zeros((num_coeffs, num_coeffs))\n",
    "for i in range(num_coeffs):\n",
    "    best_l[i:num_coeffs,i] = best_vech_l[:num_coeffs - i]\n",
    "    del best_vech_l[:num_coeffs-i]\n",
    "best_Sigma_inv = best_l @ best_l.T\n",
    "best_Sigma =  np.linalg.inv(best_Sigma_inv)\n",
    "\n",
    "best_theta_tilde = multivariate_normal.rvs(mean = best_mu, cov = best_Sigma, size = 10000)\n",
    "best_alpha = best_theta_tilde[0]\n",
    "best_beta = np.exp(best_theta_tilde[1])\n",
    "best_gamma = best_theta_tilde[2]\n",
    "best_delta = np.exp(best_theta_tilde[3])\n",
    "best_theta = np.array([best_alpha, best_beta, best_gamma, best_delta])\n",
    "posterior_mean_estimate = np.mean(best_theta, axis = 1)\n",
    "posterior_mean_estimate"
   ]
  },
  {
   "cell_type": "code",
   "execution_count": null,
   "metadata": {},
   "outputs": [
    {
     "data": {
      "text/plain": [
       "Text(0.5, 1.0, 'Posterior density of alpha')"
      ]
     },
     "execution_count": 31,
     "metadata": {},
     "output_type": "execute_result"
    },
    {
     "data": {
      "image/png": "[encoded data removed]",
      "text/plain": [
       "<Figure size 640x480 with 1 Axes>"
      ]
     },
     "metadata": {},
     "output_type": "display_data"
    }
   ],
   "source": [
    "plt.figure()\n",
    "x_plot = np.arange((np.mean(best_alpha)-5*np.std(best_alpha)), (np.mean(best_alpha)+5*np.std(best_alpha)), 0.001)\n",
    "y_plot = ss.norm.pdf(x_plot, np.mean(best_alpha), np.std(best_alpha))\n",
    "plt.plot(x_plot, y_plot, '-', linewidth=2.0)\n",
    "plt.xlabel(r'$\\alpha$')\n",
    "plt.title('Posterior density of alpha')"
   ]
  },
  {
   "cell_type": "code",
   "execution_count": null,
   "metadata": {},
   "outputs": [
    {
     "data": {
      "text/plain": [
       "Text(0.5, 1.0, 'Posterior density of beta')"
      ]
     },
     "execution_count": 32,
     "metadata": {},
     "output_type": "execute_result"
    },
    {
     "data": {
      "image/png": "[encoded data removed]",
      "text/plain": [
       "<Figure size 640x480 with 1 Axes>"
      ]
     },
     "metadata": {},
     "output_type": "display_data"
    }
   ],
   "source": [
    "plt.figure()\n",
    "x_plot = np.arange((np.mean(best_beta)-4*np.std(best_beta)), (np.mean(best_beta)+4*np.std(best_beta)), 0.001)\n",
    "y_plot = ss.norm.pdf(x_plot, np.mean(best_beta), np.std(best_beta))\n",
    "plt.plot(x_plot, y_plot, '-', linewidth=2.0)\n",
    "plt.xlabel(r'$\\beta$')\n",
    "plt.title('Posterior density of beta')"
   ]
  },
  {
   "cell_type": "code",
   "execution_count": null,
   "metadata": {},
   "outputs": [
    {
     "data": {
      "text/plain": [
       "Text(0.5, 1.0, 'Posterior density of gamma')"
      ]
     },
     "execution_count": 33,
     "metadata": {},
     "output_type": "execute_result"
    },
    {
     "data": {
      "image/png": "[encoded data removed]",
      "text/plain": [
       "<Figure size 640x480 with 1 Axes>"
      ]
     },
     "metadata": {},
     "output_type": "display_data"
    }
   ],
   "source": [
    "plt.figure()\n",
    "x_plot = np.arange((np.mean(best_gamma)-4*np.std(best_gamma)), (np.mean(best_gamma)+4*np.std(best_gamma)), 0.001)\n",
    "y_plot = ss.norm.pdf(x_plot, np.mean(best_gamma), np.std(best_gamma))\n",
    "plt.plot(x_plot, y_plot, '-', linewidth=2.0)\n",
    "plt.xlabel(r'$\\gamma$')\n",
    "plt.title('Posterior density of gamma')"
   ]
  }
 ],
 "metadata": {
  "kernelspec": {
   "display_name": "vbsl",
   "language": "python",
   "name": "python3"
  },
  "language_info": {
   "codemirror_mode": {
    "name": "ipython",
    "version": 3
   },
   "file_extension": ".py",
   "mimetype": "text/x-python",
   "name": "python",
   "nbconvert_exporter": "python",
   "pygments_lexer": "ipython3",
   "version": "3.9.15"
  },
  "orig_nbformat": 4,
  "vscode": {
   "interpreter": {
    "hash": "a41329fe0cfbe6556a2d0d7f2960b9e807b2149fcdd1bbd308c99c3aea754318"
   }
  }
 },
 "nbformat": 4,
 "nbformat_minor": 2
}
