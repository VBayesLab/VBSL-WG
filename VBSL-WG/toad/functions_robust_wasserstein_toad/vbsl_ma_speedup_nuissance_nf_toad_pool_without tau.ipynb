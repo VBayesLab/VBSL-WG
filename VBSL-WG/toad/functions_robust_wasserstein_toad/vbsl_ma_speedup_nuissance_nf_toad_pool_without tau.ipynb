{
 "cells": [
  {
   "cell_type": "code",
   "execution_count": 146,
   "metadata": {},
   "outputs": [],
   "source": [
    "# # magic\n",
    "# %load_ext autoreload\n",
    "# %autoreload 2 \n",
    "# #any changes to the function files will be updated on every run\n",
    "# #%pdb 1 \n",
    "# #where code fails, stops at that breakpoint and allows to examine potential error\n",
    "# %matplotlib inline"
   ]
  },
  {
   "cell_type": "code",
   "execution_count": 147,
   "metadata": {},
   "outputs": [],
   "source": [
    "import numpy as np\n",
    "from functools import partial\n",
    "import jax.numpy as jnp\n",
    "import numpy as np\n",
    "from jax import grad, jit, vmap\n",
    "from jax import random\n",
    "from numba import vectorize, float64, guvectorize, njit\n",
    "\n",
    "import time\n",
    "import math\n",
    "from tqdm import tqdm\n",
    "import sklearn.mixture\n",
    "import pandas as pd\n",
    "import matplotlib.pyplot as plt\n",
    "\n",
    "import scipy.stats as ss\n",
    "from jax.scipy.stats import multivariate_normal, norm\n",
    "\n",
    "from scipy.stats import multivariate_normal as ss_multivariate_normal\n",
    "from sklearn.neighbors import KernelDensity\n",
    "from sklearn.model_selection import GridSearchCV\n",
    "from sklearn.model_selection import LeaveOneOut\n",
    "import scipy\n",
    "from scipy.spatial import distance\n",
    "import warnings\n"
   ]
  },
  {
   "cell_type": "code",
   "execution_count": 148,
   "metadata": {},
   "outputs": [],
   "source": [
    "key = random.PRNGKey(68)\n",
    "key1 = random.PRNGKey(6898)\n",
    "key2 = random.PRNGKey(681998)\n",
    "subkeys = random.split(key, 5000)\n",
    "subkeys1 = random.split(key1, 5000)"
   ]
  },
  {
   "cell_type": "code",
   "execution_count": 149,
   "metadata": {},
   "outputs": [],
   "source": [
    "def my_inv(x):\n",
    "    return np.linalg.inv(x + (np.eye(x.shape[0]) * 1e-7))"
   ]
  },
  {
   "cell_type": "code",
   "execution_count": 150,
   "metadata": {},
   "outputs": [],
   "source": [
    "# from f_mean_adjust_ss_wasserstein_toad_without_tau import (toad, compute_summaries, compute_summaries_stacked, mean_adjustment_summary_statistics, radial_flow, nf_transform)"
   ]
  },
  {
   "cell_type": "code",
   "execution_count": 151,
   "metadata": {},
   "outputs": [],
   "source": [
    "def toad(alpha,\n",
    "         gamma,\n",
    "         p0,\n",
    "         n_toads=66,\n",
    "         n_days=63,\n",
    "         batch_size=1,\n",
    "         random_state=None):\n",
    "    \"\"\"Sample the movement of Fowler's toad species.\n",
    "    Models foraging steps using a levy_stable distribution where individuals\n",
    "    either return to a previous site or establish a new one.\n",
    "    References\n",
    "    ----------\n",
    "    Marchand, P., Boenke, M., and Green, D. M. (2017).\n",
    "    A stochastic movement model reproduces patterns of site fidelity and long-\n",
    "    distance dispersal in a population of fowlers toads (anaxyrus fowleri).\n",
    "    Ecological Modelling,360:63–69.\n",
    "    Parameters\n",
    "    ----------\n",
    "    alpha : float or array_like with batch_size entries\n",
    "        step length distribution stability parameter\n",
    "    gamma : float or array_like with batch_size entries\n",
    "        step lentgh distribution scale parameter\n",
    "    p0 : float or array_like with batch_size entries\n",
    "        probability of returning to a previous refuge site\n",
    "    n_toads : int, optional\n",
    "        number of toads\n",
    "    n_days : int, optional\n",
    "        number of days\n",
    "    batch_size : int, optional\n",
    "    random_state : RandomState, optional\n",
    "    Returns\n",
    "    -------\n",
    "    np.ndarray in shape (n_days x n_toads x batch_size)\n",
    "    \"\"\"\n",
    "    X = np.zeros((n_days, n_toads, batch_size))\n",
    "    random_state = random_state or np.random\n",
    "    step_gen = ss.levy_stable\n",
    "    step_gen.random_state = random_state\n",
    "\n",
    "    for i in range(1, n_days):\n",
    "        ret = random_state.uniform(0, 1, (n_toads, batch_size)) < np.squeeze(p0)\n",
    "        non_ret = np.invert(ret)\n",
    "\n",
    "        delta_x = step_gen.rvs(alpha, beta=0, scale=gamma, size=(n_toads, batch_size))\n",
    "        X[i, non_ret] = X[i-1, non_ret] + delta_x[non_ret]\n",
    "\n",
    "        ind_refuge = random_state.choice(i, size=(n_toads, batch_size))\n",
    "        X[i, ret] = X[ind_refuge[ret], ret]\n",
    "\n",
    "    return X\n",
    "\n",
    "\n",
    "def compute_summaries(X, lag, p=np.linspace(0, 1, 3), thd=10):\n",
    "    \"\"\"Compute summaries for toad model.\n",
    "    For displacements over lag...\n",
    "        Log of the differences in the p quantiles\n",
    "        The number of absolute displacements less than thd\n",
    "        Median of the absolute displacements greater than thd\n",
    "    Parameters\n",
    "    ----------\n",
    "    X : np.array of shape (ndays x ntoads x batch_size)\n",
    "        observed matrix of toad displacements\n",
    "    lag : list of ints, optional\n",
    "        the number of days behind to compute displacement with\n",
    "    p : np.array, optional\n",
    "        quantiles used in summary statistic calculation (default 0, 0.1, ... 1)\n",
    "    thd : float\n",
    "        toads are considered returned when absolute displacement does not exceed thd (default 10m)\n",
    "    Returns\n",
    "    -------\n",
    "    np.ndarray in shape (batch_size x len(p) + 1)\n",
    "    \"\"\"\n",
    "    disp = obs_mat_to_deltax(X, lag)  # num disp at lag x batch size\n",
    "    abs_disp = np.abs(disp)\n",
    "    # returned toads\n",
    "    ret = abs_disp < thd\n",
    "    num_ret = np.sum(ret, axis=0)\n",
    "    # non-returned toads\n",
    "    abs_disp[ret] = np.nan  # ignore returned toads\n",
    "    with warnings.catch_warnings():\n",
    "        warnings.filterwarnings('ignore', r'All-NaN slice encountered')\n",
    "        # abs_noret_median = np.nanmedian(abs_disp, axis=0)\n",
    "        abs_noret_quantiles = np.nanquantile(abs_disp, p, axis=0)\n",
    "    diff = np.diff(abs_noret_quantiles, axis=0)\n",
    "    logdiff = np.log(np.maximum(diff, np.exp(-20)))  # substitute zeros with a small positive\n",
    "    # combine\n",
    "    # ssx = np.vstack((num_ret, abs_noret_median, logdiff))\n",
    "    ssx = np.vstack((np.log(num_ret), logdiff))\n",
    "    ssx = np.nan_to_num(ssx, nan=np.inf)  # nans are when all toads returned\n",
    "    return np.transpose(ssx)\n",
    "\n",
    "\n",
    "def obs_mat_to_deltax(X, lag):\n",
    "    \"\"\"Convert an observation matrix to a vector of displacements.\n",
    "    Parameters\n",
    "    ----------\n",
    "    X : np.array (n_days x n_toads x batch_size)\n",
    "        observed matrix of toad displacements\n",
    "    lag : int\n",
    "        the number of days behind to compute displacement with\n",
    "    Returns\n",
    "    -------\n",
    "    np.ndarray in shape (n_toads * (n_days - lag) x batch_size)\n",
    "    \"\"\"\n",
    "    batch_size = np.atleast_3d(X).shape[-1]\n",
    "    return (X[lag:] - X[:-lag]).reshape(-1, batch_size)\n",
    "\n",
    "def compute_summaries_stacked(X, lags):\n",
    "    S1 = compute_summaries(X, lags[0])\n",
    "    S2 = compute_summaries(X, lags[1])\n",
    "    S4 = compute_summaries(X, lags[2])\n",
    "    S8 = compute_summaries(X, lags[3])\n",
    "    return np.hstack((S1, S2, S4, S8))\n",
    "\n",
    "def my_inv(x):\n",
    "    return np.linalg.inv(x + (np.eye(x.shape[0]) * 1e-7))\n",
    "\n",
    "def radial_flow(Lambda, x):\n",
    "    # original_x = x\n",
    "    d_Lambda = 2 + len_ss\n",
    "    logdet_jacob_T_x = 0\n",
    "    for k in range(num_layers):\n",
    "        # print(k)\n",
    "        Lambda_k = Lambda[k * d_Lambda : (k + 1) * d_Lambda]\n",
    "        alpha = np.exp(Lambda_k[0])\n",
    "        beta = -alpha + np.exp(Lambda_k[1])\n",
    "        mu = Lambda_k[2:]\n",
    "        # r_x = jnp.linalg.norm(x - mu)\n",
    "        r_x = np.sqrt(np.dot((x - mu).T, (x - mu)))\n",
    "        x = x + beta / (alpha + r_x) * (x - mu)\n",
    "        logdet_jacob_T_x += np.log(1 + alpha * beta / (alpha + r_x)**2) + (len_ss - 1) * np.log(1 + beta / (alpha + r_x))\n",
    "        # f = - logdet_jacob_T_x + 1/2 * T_x.T @ T_x + 1/(2*0.1) * (jnp.linalg.norm(x - T_x))**2\n",
    "    return x, logdet_jacob_T_x\n",
    "\n",
    "# transform_auto = vmap(radial_flow, in_axes=[None, 0])\n",
    "\n",
    "def nf_transform(n_summary_statistics):\n",
    "    n_summary_statistics = (n_summary_statistics - scaler_mean) / scaler_std\n",
    "    for j in range(np.shape(n_summary_statistics)[0]):\n",
    "        for i in range(len(Lambda_list)):\n",
    "            n_summary_statistics[j] = radial_flow(Lambda_list[i], n_summary_statistics[j])[0]\n",
    "    return n_summary_statistics\n",
    "\n",
    "# @jit\n",
    "# def summary_statistics(theta, n_samples, n_datasets, mixture_obj_seq):\n",
    "#     datasets = toad(theta[0], theta[1], theta[2],batch_size=n_datasets)\n",
    "#     n_summary_statistics = np.array([compute_summaries_stacked(datasets[:,:,i], lags)[0] for i in range(n_datasets)])\n",
    "#     # Wasserstein transform\n",
    "#     transformed_summary_statistics = wasserstein_transform(mixture_obj_seq, n_summary_statistics)\n",
    "\n",
    "#     sample_mean = np.mean(transformed_summary_statistics, axis = 0)\n",
    "#     sample_variance = np.cov(np.array(transformed_summary_statistics).T)\n",
    "#     return sample_mean, sample_variance\n",
    "\n",
    "def summary_statistics(theta, n_datasets, actual_summary_statistics):\n",
    "    datasets = toad(theta[0], theta[1], theta[2],batch_size=n_datasets)\n",
    "    n_summary_statistics = np.array([compute_summaries_stacked(datasets[:,:,i], lags)[0] for i in range(n_datasets)])\n",
    "    # Wasserstein transform\n",
    "    transformed_summary_statistics = nf_transform(n_summary_statistics)\n",
    "\n",
    "    sample_mean = np.mean(transformed_summary_statistics, axis = 0)\n",
    "    sample_precision = 1/eps_precision * np.identity(actual_summary_statistics.shape[0])\n",
    "    for i in range(n_datasets): ## It will have i ranging from 0 to N-1\n",
    "        diff = transformed_summary_statistics[i] - sample_mean\n",
    "        sample_precision = sample_precision - ((1 + diff.T @ sample_precision @ diff)**(-1)) * (sample_precision @ diff.reshape(-1, 1) @ diff.reshape(1, -1) @ sample_precision)\n",
    "    sample_precision = sample_precision * n_datasets\n",
    "    return sample_mean, sample_precision\n",
    "\n",
    "# def mean_adjustment_summary_statistics(adjusted_theta, n_samples, n_datasets, num_coeffs, num_latent, mixture_obj_seq):\n",
    "#     theta = adjusted_theta[:num_coeffs]\n",
    "#     Gamma = adjusted_theta[-num_latent:]\n",
    "#     sample_mean, sample_variance = summary_statistics(theta, n_samples, n_datasets, mixture_obj_seq)\n",
    "#     adjusted_sample_mean = sample_mean + np.diag(sqrtm(sample_variance)) * Gamma\n",
    "#     return adjusted_sample_mean, sample_variance\n",
    "\n",
    "def mean_adjustment_summary_statistics(adjusted_theta, n_samples, n_datasets, num_coeffs, num_latent, actual_summary_statistics):\n",
    "    theta = adjusted_theta[0:num_coeffs]\n",
    "    Gamma = adjusted_theta[-num_latent:]\n",
    "    sample_mean, sample_precision = summary_statistics(theta, n_datasets, actual_summary_statistics)\n",
    "    # inverse_sample_precision = 1/n_datasets * eps_precision * jnp.eye(sample_variance.shape[0]) + sample_variance ############# USING EQ 4 to find inversion\n",
    "    # adjusted_sample_mean = sample_mean + jnp.diag(jnp.sqrt(inverse_sample_precision)) * Gamma ## EQ 4\n",
    "    # adjusted_sample_mean = sample_mean + ((jnp.diag(sample_precision))**(-1/2)) * Gamma ## EQ 4\n",
    "    # Create a zero matrix with shape (num_latent, num_latent)\n",
    "    precision_matrix = np.zeros((num_latent, num_latent))\n",
    "    # Set the diagonal elements of the precision matrix using NumPy's indexing\n",
    "    precision_matrix[np.diag_indices_from(precision_matrix)] = (np.diag(sample_precision))**(-1/2)\n",
    "    adjusted_sample_mean = sample_mean + np.matmul(precision_matrix, Gamma)\n",
    "    return adjusted_sample_mean, sample_precision"
   ]
  },
  {
   "attachments": {},
   "cell_type": "markdown",
   "metadata": {},
   "source": [
    "## LOAD DATASET"
   ]
  },
  {
   "cell_type": "code",
   "execution_count": 152,
   "metadata": {},
   "outputs": [],
   "source": [
    "true_theta = np.array([1.7, 35.0, 0.6])"
   ]
  },
  {
   "cell_type": "code",
   "execution_count": 153,
   "metadata": {},
   "outputs": [
    {
     "data": {
      "text/plain": [
       "array([[[  0.        ],\n",
       "        [  0.        ],\n",
       "        [  0.        ],\n",
       "        ...,\n",
       "        [  0.        ],\n",
       "        [  0.        ],\n",
       "        [  0.        ]],\n",
       "\n",
       "       [[  0.        ],\n",
       "        [  0.        ],\n",
       "        [-19.27038214],\n",
       "        ...,\n",
       "        [  0.        ],\n",
       "        [-30.62669352],\n",
       "        [  0.        ]],\n",
       "\n",
       "       [[  0.        ],\n",
       "        [  0.        ],\n",
       "        [  0.        ],\n",
       "        ...,\n",
       "        [  0.        ],\n",
       "        [ 31.34199624],\n",
       "        [  0.        ]],\n",
       "\n",
       "       ...,\n",
       "\n",
       "       [[-81.77633212],\n",
       "        [101.3225993 ],\n",
       "        [  0.        ],\n",
       "        ...,\n",
       "        [ 79.71692244],\n",
       "        [  0.        ],\n",
       "        [  0.        ]],\n",
       "\n",
       "       [[ 22.43205845],\n",
       "        [115.47419191],\n",
       "        [ 89.88237005],\n",
       "        ...,\n",
       "        [ 82.23889611],\n",
       "        [ 24.82253449],\n",
       "        [ 56.22624492]],\n",
       "\n",
       "       [[-36.64736631],\n",
       "        [ 78.7523687 ],\n",
       "        [ 42.08076881],\n",
       "        ...,\n",
       "        [  0.        ],\n",
       "        [-30.62669352],\n",
       "        [ 52.71995277]]])"
      ]
     },
     "execution_count": 153,
     "metadata": {},
     "output_type": "execute_result"
    }
   ],
   "source": [
    "actual_data = toad(true_theta[0], true_theta[1], true_theta[2])\n",
    "actual_data"
   ]
  },
  {
   "cell_type": "code",
   "execution_count": 154,
   "metadata": {},
   "outputs": [],
   "source": [
    "lags = [1, 2, 4, 8]\n",
    "num_coeffs = 3\n",
    "num_latent = 12\n",
    "num_datasets = 200\n",
    "n_samples = 200\n",
    "gamma_samples = 20"
   ]
  },
  {
   "cell_type": "code",
   "execution_count": 155,
   "metadata": {},
   "outputs": [
    {
     "data": {
      "text/plain": [
       "array([6.91869522, 3.75640047, 7.68321659, 6.71901315, 3.95570342,\n",
       "       7.72203521, 6.63594656, 3.9999314 , 7.66994916, 6.60258789,\n",
       "       4.03603747, 7.68558963])"
      ]
     },
     "execution_count": 155,
     "metadata": {},
     "output_type": "execute_result"
    }
   ],
   "source": [
    "actual_summary_statistics = compute_summaries_stacked(actual_data, lags)[0]\n",
    "actual_summary_statistics"
   ]
  },
  {
   "attachments": {},
   "cell_type": "markdown",
   "metadata": {},
   "source": [
    "## Training Wasserstein Gaussianing"
   ]
  },
  {
   "cell_type": "code",
   "execution_count": 156,
   "metadata": {},
   "outputs": [],
   "source": [
    "len_ss = np.shape(actual_summary_statistics)[0]\n",
    "wass_num_datasets = 1000\n",
    "wass_val_num_datasets = 1000\n",
    "wass_n_samples = 30\n",
    "d_Lambda = 2 + len_ss\n",
    "num_layers = 5\n",
    "# To optimize F\n",
    "tau = 0.1\n",
    "stop_f = 10000\n",
    "learning_rate = 0.005\n",
    "l_threshold = 10\n",
    "threshold = stop_f/2\n",
    "adaptive_lr_1 = 0.9\n",
    "adaptive_lr_2 = 0.9\n",
    "t_w_f = 100\n",
    "Patience_f = 101\n",
    "batch_size = 5\n",
    "# To optimize LB\n",
    "stop = 5000\n",
    "Patience = 20"
   ]
  },
  {
   "cell_type": "code",
   "execution_count": 157,
   "metadata": {},
   "outputs": [],
   "source": [
    "# Generating data to train the transform\n",
    "wass_datasets = toad(true_theta[0], true_theta[1], true_theta[2],batch_size=wass_num_datasets)\n",
    "wass_n_summary_statistics = np.array([compute_summaries_stacked(wass_datasets[:,:,i], lags)[0] for i in range(wass_num_datasets)])\n",
    "original_n_summary_statistics = wass_n_summary_statistics"
   ]
  },
  {
   "cell_type": "code",
   "execution_count": 158,
   "metadata": {},
   "outputs": [],
   "source": [
    "scaler_mean = np.mean(original_n_summary_statistics, axis=0)\n",
    "scaler_std = np.std(original_n_summary_statistics, axis=0)"
   ]
  },
  {
   "cell_type": "code",
   "execution_count": 159,
   "metadata": {},
   "outputs": [],
   "source": [
    "Lambda_list = np.load('Lambda_list_toad.npy', allow_pickle=True)"
   ]
  },
  {
   "attachments": {},
   "cell_type": "markdown",
   "metadata": {},
   "source": [
    "## FIND THE BEST THETA (COEFFICIENTS) USING VB"
   ]
  },
  {
   "cell_type": "code",
   "execution_count": 160,
   "metadata": {},
   "outputs": [],
   "source": [
    "# # Functions must be imported for multiprocessing to work\n",
    "# from f_gradient_lb_mean_wasserstein_nuissance_toad_without_tau import (fun_gradient_lb)"
   ]
  },
  {
   "cell_type": "code",
   "execution_count": 161,
   "metadata": {},
   "outputs": [],
   "source": [
    "sigma_theta = 10\n",
    "sigma_latent = 1\n",
    "eps_precision = 0.01\n",
    "\n",
    "def my_inv(x):\n",
    "    return np.linalg.inv(x + (np.eye(x.shape[0]) * 1e-7))\n",
    "\n",
    "def prior(theta): \n",
    "    log_prior = np.sum(np.log(np.exp(theta) / (1 + np.exp(theta))**2))\n",
    "    return log_prior\n",
    "\n",
    "def mean_adjustment_unbiased_log_likelihood(gs_adjusted_theta, n_samples, n_datasets, num_coeffs, num_latent, actual_summary_statistics):\n",
    "    mean_adj_ss = mean_adjustment_summary_statistics(gs_adjusted_theta, n_samples, n_datasets, num_coeffs, num_latent, actual_summary_statistics)\n",
    "    adjusted_sample_mean = mean_adj_ss[0]\n",
    "    sample_precision = mean_adj_ss[1]\n",
    "\n",
    "    # mean_u_est_log_likelihood = multivariate_normal.logpdf(actual_summary_statistics, mean = adjusted_sample_mean, cov= sample_variance)\n",
    "\n",
    "    diff_mean_s = actual_summary_statistics - adjusted_sample_mean\n",
    "    part1 = diff_mean_s.T @ sample_precision @ diff_mean_s\n",
    "    mean_u_est_log_likelihood = 1/2 * np.linalg.slogdet(sample_precision)[1] - 1/2 * part1\n",
    "    return mean_u_est_log_likelihood\n",
    "\n",
    "def nuissance_mean_adjustment_unbiased_log_likelihood(Gamma, mean_nuissance, variance_nuissance):\n",
    "    # part1 = (Gamma - mean_nuissance).T @ np.linalg.inv(variance_nuissance) @ (Gamma - mean_nuissance)\n",
    "    # nuissance_mean_u_est_log_likelihood = -1/2 * np.log(np.linalg.det(variance_nuissance)) - part1\n",
    "    nuissance_mean_u_est_log_likelihood = ss_multivariate_normal.logpdf(Gamma, mean = mean_nuissance, cov= variance_nuissance)\n",
    "    return nuissance_mean_u_est_log_likelihood\n",
    "\n",
    "def fun_log_q(theta, mu, l):\n",
    "    log_q = ss_multivariate_normal.logpdf(theta, mean = mu, cov= my_inv(l @ l.T))\n",
    "    return log_q\n",
    "\n",
    "def gradient_log_q(theta, mu, l, num_coeffs): #indep theta\n",
    "    gradient_log_q_mu = l @ l.T @ (theta - mu)\n",
    "    # gradient_log_q_l = (np.diag(np.linalg.inv(l)) - np.matmul(((np.reshape(theta - mu, (num_coeffs,1))) * theta - mu), l)).T[np.triu_indices(num_coeffs)] #use * because matmul gives scalar \n",
    "    diag_inv_l = np.zeros((num_coeffs, num_coeffs))\n",
    "    np.fill_diagonal(diag_inv_l, np.diag(my_inv(l)))\n",
    "    gradient_log_q_l = (diag_inv_l - np.reshape(theta - mu, (num_coeffs,1)) @ np.reshape(theta - mu, (1,num_coeffs)) @ l).T[np.triu_indices(num_coeffs)] #use * because matmul gives scalar \n",
    "    gradient_log_q = np.array([gradient_log_q_mu, gradient_log_q_l], dtype=object)\n",
    "    return gradient_log_q\n",
    "\n",
    "def fun_gradient_lb(s, theta_samples, mu_q, l_q, c, n_samples, n_datasets, num_coeffs, num_latent, actual_summary_statistics):\n",
    "    theta_tilde_q = theta_samples[s]\n",
    "\n",
    "    alpha_q = (2 * np.exp(theta_tilde_q[0]) + 1) / (1 + np.exp(theta_tilde_q[0]))\n",
    "    beta_q = (100 * np.exp(theta_tilde_q[1]) + 0) / (1 + np.exp(theta_tilde_q[1]))\n",
    "    gamma_q = (0.9 * np.exp(theta_tilde_q[2]) + 0) / (1 + np.exp(theta_tilde_q[2]))\n",
    "    theta_q = np.array([alpha_q, beta_q, gamma_q])\n",
    "\n",
    "    ss_q = summary_statistics(theta_q, n_datasets, actual_summary_statistics)\n",
    "    sample_mean_q = ss_q[0]\n",
    "    sample_precision_q = ss_q[1]\n",
    "\n",
    "    # Find mean and variance for p(gamma | theta, obs)\n",
    " \n",
    "    diag_precision = np.zeros((num_latent, num_latent))\n",
    "    np.fill_diagonal(diag_precision, np.diag(sample_precision_q)**(-1/2))\n",
    "    mean_nuissance_p1 = my_inv(np.identity(num_latent) / sigma_latent + diag_precision.T @ sample_precision_q @ diag_precision)\n",
    "    diff_mean = actual_summary_statistics - sample_mean_q\n",
    "    mean_nuissance_p2 = diag_precision @ sample_precision_q @ diff_mean\n",
    "    mean_nuissance_q = mean_nuissance_p1 @ mean_nuissance_p2\n",
    "\n",
    "    variance_nuissance_q = mean_nuissance_p1\n",
    "\n",
    "    # GENERATE GAMMA\n",
    "    Gamma = ss_multivariate_normal.rvs(mean = mean_nuissance_q, cov = variance_nuissance_q)\n",
    "    # Gamma = Gamma[0]\n",
    "    adjusted_theta_q = np.concatenate((theta_q, Gamma))\n",
    "\n",
    "    # Find gradient of LB\n",
    "    llh = mean_adjustment_unbiased_log_likelihood(adjusted_theta_q, n_samples, n_datasets, num_coeffs, num_latent, actual_summary_statistics)\n",
    "    llh_gamma = nuissance_mean_adjustment_unbiased_log_likelihood(Gamma, mean_nuissance_q, variance_nuissance_q)\n",
    "\n",
    "    h_lambda = prior(theta_tilde_q) + prior(Gamma) + llh - fun_log_q(theta_tilde_q, mu_q, l_q) - llh_gamma\n",
    "    \n",
    "    # Find gradient of LB\n",
    "    grad_log_q = gradient_log_q(theta_tilde_q, mu_q, l_q, num_coeffs)\n",
    "    gradient_lb = grad_log_q * (h_lambda - c)\n",
    "    \n",
    "    # Calculate control variates\n",
    "    flattened_gradient_log_q = np.concatenate((grad_log_q[0], grad_log_q[1]), axis = None)\n",
    "    flattened_gradient_lb = np.concatenate((gradient_lb[0], gradient_lb[1]), axis = None)\n",
    " \n",
    "    return gradient_lb, h_lambda, flattened_gradient_log_q, flattened_gradient_lb"
   ]
  },
  {
   "cell_type": "code",
   "execution_count": 162,
   "metadata": {},
   "outputs": [],
   "source": [
    "class GVB:\n",
    "    def __init__(self, samples, actual_summary_statistics, learning_rate, threshold, l_threshold, adaptive_lr_1, adaptive_lr_2, t_w, Patience):\n",
    "        self.samples = samples\n",
    "        self.actual_summary_statistics = actual_summary_statistics\n",
    "        self.num_datasets = 200 # number of datasets\n",
    "        self.num_coeffs = 3 # number of coeffs\n",
    "        self.lambda_dim = self.num_coeffs + int((self.num_coeffs * (self.num_coeffs + 1)) / 2)\n",
    "        self.learning_rate = learning_rate\n",
    "        self.threshold = threshold\n",
    "        self.l_threshold = l_threshold\n",
    "        self.adaptive_lr_1 = adaptive_lr_1\n",
    "        self.adaptive_lr_2 = adaptive_lr_2\n",
    "        self.t_w = t_w\n",
    "        self.Patience = Patience\n",
    "\n",
    "    def control_variates(self, Flat_grad_log_q, Flat_grad_lb):\n",
    "        c = []\n",
    "        stacked_gradient_lb = np.stack(Flat_grad_lb)\n",
    "        stacked_gradient_log_q = np.stack(Flat_grad_log_q)\n",
    "        for i in range(self.lambda_dim):\n",
    "            sample_cov = np.cov((stacked_gradient_lb[:, i], stacked_gradient_log_q[:, i]))\n",
    "            c_i = sample_cov[0, 1] / sample_cov[1, 1]\n",
    "            c.append(c_i)\n",
    "        c_mu = np.array(c[0:self.num_coeffs])\n",
    "        c_vech_l = np.array(c[self.num_coeffs:])\n",
    "        return np.array([c_mu, c_vech_l], dtype = object)\n",
    "\n",
    "    def vb_posterior(self, stop):\n",
    "        # Initialize mu_0, L_0\n",
    "        # mu_0 = np.array([np.log((self.actual_summary_statistics[0]-1.1)/(2-self.actual_summary_statistics[0])), np.log((1+self.actual_summary_statistics[1])/(1-self.actual_summary_statistics[1])), np.log(self.actual_summary_statistics[2]), self.actual_summary_statistics[3]])\n",
    "        #mu_0 = np.array([1.5, 0.5, 3, 0])\n",
    "        mu_0 = np.array([np.log((true_theta[0] - 1)/(2 - true_theta[0])),np.log((true_theta[1] - 0)/(100 - true_theta[1])),np.log((true_theta[2] - 0)/(0.9 - true_theta[2]))])\n",
    "        #mu_0 = np.array([self.actual_summary_statistics[0], self.actual_summary_statistics[1], self.actual_summary_statistics[2], self.actual_summary_statistics[3]])\n",
    "        # mu_0 = np.array([0] * self.num_coeffs)\n",
    "        # l_0 = np.array([[ 3.94992238, -2.12969451,  0.47239626],\n",
    "        #                 [-2.12969451, 21.85908684, -1.45228054],\n",
    "        #                 [ 0.47239626, -1.45228054, 15.84326737]])\n",
    "        l_0 = np.tril(np.identity(self.num_coeffs) * 10)\n",
    "        Sigma_0_inv = l_0 @ l_0.T\n",
    "        Sigma_0 = my_inv(Sigma_0_inv)\n",
    "        l_0_inv = my_inv(l_0)\n",
    "        ### Change ways to get vech(l0)\n",
    "        vech_l0 = l_0.T[np.triu_indices(self.num_coeffs)]\n",
    "\n",
    "        lambda_0 = np.array([mu_0, vech_l0], dtype = object)\n",
    "        lambda_q = lambda_0\n",
    "        # Initilize best lambda\n",
    "        lambda_best = lambda_0\n",
    "        # List of Lambda\n",
    "        Lambda = [lambda_0]\n",
    "        # List of calculations of LB\n",
    "        LB_all = []\n",
    "        LB_Smoothed = []\n",
    "        patience = 0\n",
    "        for t in tqdm(range(stop)):\n",
    "            if t == 0:        \n",
    "                LB_t = []\n",
    "                Gradient_lb = []\n",
    "                Flattened_gradient_lb = []\n",
    "                Flattened_gradient_log_q = []\n",
    "                # Draw samples of theta from  variational q\n",
    "                theta_0_samples = ss_multivariate_normal.rvs(mean = mu_0, cov = Sigma_0, size = self.samples)\n",
    "                for s in np.arange(self.samples):\n",
    "                    # Multiprocessing a function with several inputs\n",
    "                    results = fun_gradient_lb(s, theta_samples = theta_0_samples, mu_q = mu_0, l_q = l_0, c = 0, n_samples = n_samples, n_datasets= self.num_datasets, num_coeffs = self.num_coeffs, num_latent = num_latent, actual_summary_statistics = self.actual_summary_statistics) \n",
    "                    Gradient_lb.append(results[0])\n",
    "                    LB_t.append(results[1])\n",
    "                    Flattened_gradient_log_q.append(results[2])\n",
    "                    Flattened_gradient_lb.append(results[3])\n",
    "                # Calculate control variates using all samples\n",
    "                c = self.control_variates(Flattened_gradient_log_q, Flattened_gradient_lb)\n",
    "                # Update lambda_q\n",
    "                self.g_init = np.mean(Gradient_lb, axis = 0)\n",
    "                # Gradient clipping\n",
    "                if np.linalg.norm(np.concatenate(self.g_init, axis = None)) > self.l_threshold:\n",
    "                    self.g_init = self.l_threshold * self.g_init / np.linalg.norm(np.concatenate(self.g_init, axis = None))\n",
    "                self.v_init = self.g_init ** 2\n",
    "                # Calculate lower bound\n",
    "                LB_all.append(np.mean(LB_t))\n",
    "                print('LB', (np.mean(LB_t)))\n",
    "                lambda_q = lambda_0\n",
    "\n",
    "            if t > 0:\n",
    "                LB_t = []\n",
    "                Gradient_lb = []\n",
    "                Flattened_gradient_lb = []\n",
    "                Flattened_gradient_log_q = []\n",
    "                # From lambda_q find mu_q and L_q\n",
    "                mu_q = lambda_q[0]\n",
    "\n",
    "                ### Change ways to convert from vech_l0 to l0\n",
    "                vech_lq = list(lambda_q[1])\n",
    "                l_q = np.zeros((self.num_coeffs, self.num_coeffs))\n",
    "                # l_q[:, 0] = lambda_q[1][0:self.num_coeffs]\n",
    "                # l_q[1:self.num_coeffs, 1] = lambda_q[1][4:7]\n",
    "                # l_q[2:self.num_coeffs, 2] = lambda_q[1][7:9]\n",
    "                # l_q[3:self.num_coeffs, 3] = lambda_q[1][9:10]\n",
    "                for i in range(self.num_coeffs):\n",
    "                    l_q[i:self.num_coeffs,i] = vech_lq[:self.num_coeffs - i]\n",
    "                    del vech_lq[:self.num_coeffs-i]\n",
    "\n",
    "                Sigma_q_inv = l_q @ l_q.T\n",
    "                Sigma_q =  my_inv(Sigma_q_inv)\n",
    "                l_q_inv =  my_inv(l_q)\n",
    "\n",
    "                theta_q_samples = ss_multivariate_normal.rvs(mean = mu_q, cov = Sigma_q, size = self.samples)\n",
    "\n",
    "                # Multiprocessing a function with several inputs\n",
    "                for s in np.arange(self.samples):\n",
    "                    results = fun_gradient_lb(s, theta_samples = theta_q_samples, mu_q = mu_q, l_q = l_q, c = c, n_samples = n_samples, n_datasets= self.num_datasets, num_coeffs = self.num_coeffs, num_latent = num_latent, actual_summary_statistics = self.actual_summary_statistics)\n",
    "                    Gradient_lb.append(results[0])\n",
    "                    LB_t.append(results[1])\n",
    "                    Flattened_gradient_log_q.append(results[2])\n",
    "                    Flattened_gradient_lb.append(results[3])\n",
    "\n",
    "                # Calculate control variates using all samples\n",
    "                c = self.control_variates(Flattened_gradient_log_q, Flattened_gradient_lb)\n",
    "\n",
    "                # Calc gradient of h\n",
    "                g_t = np.mean(Gradient_lb, axis = 0)\n",
    "                # Gradient clipping\n",
    "                if np.linalg.norm(np.concatenate(g_t, axis = None)) > self.l_threshold:\n",
    "                    g_t = self.l_threshold * g_t / np.linalg.norm(np.concatenate(g_t, axis = None))\n",
    "                v_t = g_t ** 2\n",
    "\n",
    "                #---- Update lambda\n",
    "                self.g_init = self.adaptive_lr_1 * self.g_init + (1 - self.adaptive_lr_1) * g_t\n",
    "                self.v_init = self.adaptive_lr_2 * self.v_init + (1 - self.adaptive_lr_2) * v_t\n",
    "                if t >= self.threshold:\n",
    "                    update_t = self.learning_rate * self.threshold / t\n",
    "                else:\n",
    "                    update_t = self.learning_rate\n",
    "\n",
    "                lambda_q = lambda_q + update_t * self.g_init / (self.v_init ** 0.5)\n",
    "                Lambda.append(lambda_q)\n",
    "                # Calculate lower bound\n",
    "                LB_all.append(np.mean(LB_t))\n",
    "\n",
    "                if t < self.t_w:\n",
    "                    print('LB', np.mean(LB_t))\n",
    "\n",
    "                if t >= self.t_w:\n",
    "                    LB_smoothed = np.mean(LB_all[t - self.t_w + 1 : t])\n",
    "                    print('LB Smoothed', LB_smoothed)\n",
    "                    LB_Smoothed.append(LB_smoothed)\n",
    "                    if LB_smoothed >= max(LB_Smoothed):\n",
    "                        patience = 0\n",
    "                        lambda_best = lambda_q\n",
    "                    else:\n",
    "                        patience += 1\n",
    "                        if patience > self.Patience:\n",
    "                            print(\"Stop at\", t)\n",
    "                            break\n",
    "\n",
    "        return LB_all, LB_Smoothed, lambda_best"
   ]
  },
  {
   "cell_type": "code",
   "execution_count": 163,
   "metadata": {},
   "outputs": [
    {
     "data": {
      "text/plain": [
       "array([[6.91869522, 3.75640047, 7.68321659, 6.71901315, 3.95570342,\n",
       "        7.72203521, 6.63594656, 3.9999314 , 7.66994916, 6.60258789,\n",
       "        4.03603747, 7.68558963]])"
      ]
     },
     "execution_count": 163,
     "metadata": {},
     "output_type": "execute_result"
    }
   ],
   "source": [
    "actual_summary_statistics = np.reshape(actual_summary_statistics, (1, len(actual_summary_statistics)))\n",
    "actual_summary_statistics"
   ]
  },
  {
   "attachments": {},
   "cell_type": "markdown",
   "metadata": {},
   "source": [
    "## RUN VB AND PRINT OUT VARIATIONAL PARAMS"
   ]
  },
  {
   "cell_type": "code",
   "execution_count": 164,
   "metadata": {},
   "outputs": [
    {
     "data": {
      "text/plain": [
       "array([ 0.80773123,  1.90274478,  0.17400673, -0.8818002 , -0.03694394,\n",
       "       -0.07185883, -0.78655371, -0.94811915, -0.18031205,  1.39335883,\n",
       "       -0.28992788,  0.19074041])"
      ]
     },
     "execution_count": 164,
     "metadata": {},
     "output_type": "execute_result"
    }
   ],
   "source": [
    "# Set hyperparameters\n",
    "stop = 5000\n",
    "transformed_summary_statistics = nf_transform(actual_summary_statistics)\n",
    "transformed_summary_statistics[0]"
   ]
  },
  {
   "cell_type": "code",
   "execution_count": 165,
   "metadata": {},
   "outputs": [
    {
     "name": "stderr",
     "output_type": "stream",
     "text": [
      "  0%|          | 1/5000 [37:03<3087:47:53, 2223.66s/it]"
     ]
    },
    {
     "name": "stdout",
     "output_type": "stream",
     "text": [
      "LB -16.994572682316047\n"
     ]
    },
    {
     "name": "stderr",
     "output_type": "stream",
     "text": [
      "  0%|          | 2/5000 [1:13:46<3070:21:26, 2211.54s/it]"
     ]
    },
    {
     "name": "stdout",
     "output_type": "stream",
     "text": [
      "LB -17.433284154651147\n"
     ]
    },
    {
     "name": "stderr",
     "output_type": "stream",
     "text": [
      "  0%|          | 3/5000 [1:50:30<3064:56:13, 2208.08s/it]"
     ]
    },
    {
     "name": "stdout",
     "output_type": "stream",
     "text": [
      "LB -16.786732360578295\n"
     ]
    },
    {
     "name": "stderr",
     "output_type": "stream",
     "text": [
      "  0%|          | 4/5000 [2:27:40<3076:08:40, 2216.60s/it]"
     ]
    },
    {
     "name": "stdout",
     "output_type": "stream",
     "text": [
      "LB -17.27489798148952\n"
     ]
    },
    {
     "name": "stderr",
     "output_type": "stream",
     "text": [
      "  0%|          | 5/5000 [3:06:42<3138:16:53, 2261.82s/it]"
     ]
    },
    {
     "name": "stdout",
     "output_type": "stream",
     "text": [
      "LB -16.74979050499098\n"
     ]
    },
    {
     "name": "stderr",
     "output_type": "stream",
     "text": [
      "  0%|          | 6/5000 [3:49:45<3289:07:38, 2371.02s/it]"
     ]
    },
    {
     "name": "stdout",
     "output_type": "stream",
     "text": [
      "LB -16.533549035313126\n"
     ]
    },
    {
     "name": "stderr",
     "output_type": "stream",
     "text": [
      "  0%|          | 7/5000 [4:29:47<3302:35:15, 2381.20s/it]"
     ]
    },
    {
     "name": "stdout",
     "output_type": "stream",
     "text": [
      "LB -16.79548293049542\n"
     ]
    },
    {
     "name": "stderr",
     "output_type": "stream",
     "text": [
      "  0%|          | 8/5000 [5:06:57<3235:08:23, 2333.03s/it]"
     ]
    },
    {
     "name": "stdout",
     "output_type": "stream",
     "text": [
      "LB -16.260731895763566\n"
     ]
    },
    {
     "name": "stderr",
     "output_type": "stream",
     "text": [
      "  0%|          | 9/5000 [5:44:34<3201:35:48, 2309.31s/it]"
     ]
    },
    {
     "name": "stdout",
     "output_type": "stream",
     "text": [
      "LB -16.65789126674146\n"
     ]
    },
    {
     "name": "stderr",
     "output_type": "stream",
     "text": [
      "  0%|          | 10/5000 [6:21:56<3172:06:52, 2288.50s/it]"
     ]
    },
    {
     "name": "stdout",
     "output_type": "stream",
     "text": [
      "LB -16.61873417296521\n"
     ]
    },
    {
     "name": "stderr",
     "output_type": "stream",
     "text": [
      "  0%|          | 11/5000 [7:00:52<3191:40:58, 2303.08s/it]"
     ]
    },
    {
     "name": "stdout",
     "output_type": "stream",
     "text": [
      "LB -16.241715568974815\n"
     ]
    },
    {
     "name": "stderr",
     "output_type": "stream",
     "text": [
      "  0%|          | 12/5000 [7:40:12<3214:49:06, 2320.24s/it]"
     ]
    },
    {
     "name": "stdout",
     "output_type": "stream",
     "text": [
      "LB -16.26836136173353\n"
     ]
    },
    {
     "name": "stderr",
     "output_type": "stream",
     "text": [
      "  0%|          | 13/5000 [8:19:14<3223:38:03, 2327.07s/it]"
     ]
    },
    {
     "name": "stdout",
     "output_type": "stream",
     "text": [
      "LB -16.913465750996078\n"
     ]
    },
    {
     "name": "stderr",
     "output_type": "stream",
     "text": [
      "  0%|          | 14/5000 [8:59:14<3253:16:41, 2348.94s/it]"
     ]
    },
    {
     "name": "stdout",
     "output_type": "stream",
     "text": [
      "LB -15.924497319165607\n"
     ]
    },
    {
     "name": "stderr",
     "output_type": "stream",
     "text": [
      "  0%|          | 15/5000 [9:38:47<3262:40:08, 2356.19s/it]"
     ]
    },
    {
     "name": "stdout",
     "output_type": "stream",
     "text": [
      "LB -16.17951584310379\n"
     ]
    },
    {
     "name": "stderr",
     "output_type": "stream",
     "text": [
      "  0%|          | 16/5000 [10:17:40<3252:33:06, 2349.36s/it]"
     ]
    },
    {
     "name": "stdout",
     "output_type": "stream",
     "text": [
      "LB -15.91568180639949\n"
     ]
    },
    {
     "name": "stderr",
     "output_type": "stream",
     "text": [
      "  0%|          | 17/5000 [10:56:43<3249:14:26, 2347.43s/it]"
     ]
    },
    {
     "name": "stdout",
     "output_type": "stream",
     "text": [
      "LB -16.3260961646323\n"
     ]
    },
    {
     "name": "stderr",
     "output_type": "stream",
     "text": [
      "  0%|          | 18/5000 [11:36:05<3254:35:17, 2351.77s/it]"
     ]
    },
    {
     "name": "stdout",
     "output_type": "stream",
     "text": [
      "LB -15.908148736454988\n"
     ]
    },
    {
     "name": "stderr",
     "output_type": "stream",
     "text": [
      "  0%|          | 19/5000 [12:15:02<3247:33:21, 2347.16s/it]"
     ]
    },
    {
     "name": "stdout",
     "output_type": "stream",
     "text": [
      "LB -16.125918025728136\n"
     ]
    },
    {
     "name": "stderr",
     "output_type": "stream",
     "text": [
      "  0%|          | 20/5000 [12:53:49<3238:54:01, 2341.37s/it]"
     ]
    },
    {
     "name": "stdout",
     "output_type": "stream",
     "text": [
      "LB -16.138117207970453\n"
     ]
    },
    {
     "name": "stderr",
     "output_type": "stream",
     "text": [
      "  0%|          | 21/5000 [13:33:18<3249:29:29, 2349.50s/it]"
     ]
    },
    {
     "name": "stdout",
     "output_type": "stream",
     "text": [
      "LB -16.081599466522583\n"
     ]
    },
    {
     "name": "stderr",
     "output_type": "stream",
     "text": [
      "  0%|          | 22/5000 [14:12:20<3245:57:59, 2347.42s/it]"
     ]
    },
    {
     "name": "stdout",
     "output_type": "stream",
     "text": [
      "LB -15.96054197147569\n"
     ]
    },
    {
     "name": "stderr",
     "output_type": "stream",
     "text": [
      "  0%|          | 23/5000 [14:51:52<3255:30:50, 2354.80s/it]"
     ]
    },
    {
     "name": "stdout",
     "output_type": "stream",
     "text": [
      "LB -16.290087870469723\n"
     ]
    },
    {
     "name": "stderr",
     "output_type": "stream",
     "text": [
      "  0%|          | 24/5000 [15:31:00<3251:41:40, 2352.51s/it]"
     ]
    },
    {
     "name": "stdout",
     "output_type": "stream",
     "text": [
      "LB -16.19343700155765\n"
     ]
    },
    {
     "name": "stderr",
     "output_type": "stream",
     "text": [
      "  0%|          | 25/5000 [16:10:05<3248:12:57, 2350.47s/it]"
     ]
    },
    {
     "name": "stdout",
     "output_type": "stream",
     "text": [
      "LB -16.150152281056403\n"
     ]
    },
    {
     "name": "stderr",
     "output_type": "stream",
     "text": [
      "  1%|          | 26/5000 [16:49:10<3245:04:33, 2348.67s/it]"
     ]
    },
    {
     "name": "stdout",
     "output_type": "stream",
     "text": [
      "LB -16.79286448853579\n"
     ]
    },
    {
     "name": "stderr",
     "output_type": "stream",
     "text": [
      "  1%|          | 27/5000 [17:28:28<3248:23:40, 2351.54s/it]"
     ]
    },
    {
     "name": "stdout",
     "output_type": "stream",
     "text": [
      "LB -16.149596121732387\n"
     ]
    },
    {
     "name": "stderr",
     "output_type": "stream",
     "text": [
      "  1%|          | 28/5000 [18:08:27<3267:19:12, 2365.72s/it]"
     ]
    },
    {
     "name": "stdout",
     "output_type": "stream",
     "text": [
      "LB -15.734612774973648\n"
     ]
    },
    {
     "name": "stderr",
     "output_type": "stream",
     "text": [
      "  1%|          | 29/5000 [18:48:03<3271:04:05, 2368.91s/it]"
     ]
    },
    {
     "name": "stdout",
     "output_type": "stream",
     "text": [
      "LB -15.510609949047597\n"
     ]
    },
    {
     "name": "stderr",
     "output_type": "stream",
     "text": [
      "  1%|          | 30/5000 [19:27:37<3272:26:37, 2370.38s/it]"
     ]
    },
    {
     "name": "stdout",
     "output_type": "stream",
     "text": [
      "LB -15.790505410022037\n"
     ]
    },
    {
     "name": "stderr",
     "output_type": "stream",
     "text": [
      "  1%|          | 31/5000 [20:08:49<3313:48:30, 2400.83s/it]"
     ]
    },
    {
     "name": "stdout",
     "output_type": "stream",
     "text": [
      "LB -15.697043771996446\n"
     ]
    },
    {
     "name": "stderr",
     "output_type": "stream",
     "text": [
      "  1%|          | 32/5000 [20:49:40<3334:02:12, 2415.97s/it]"
     ]
    },
    {
     "name": "stdout",
     "output_type": "stream",
     "text": [
      "LB -15.560696202616791\n"
     ]
    },
    {
     "name": "stderr",
     "output_type": "stream",
     "text": [
      "  1%|          | 33/5000 [21:31:38<3375:19:16, 2446.38s/it]"
     ]
    },
    {
     "name": "stdout",
     "output_type": "stream",
     "text": [
      "LB -15.479808515752866\n"
     ]
    },
    {
     "name": "stderr",
     "output_type": "stream",
     "text": [
      "  1%|          | 34/5000 [22:12:15<3371:06:48, 2443.82s/it]"
     ]
    },
    {
     "name": "stdout",
     "output_type": "stream",
     "text": [
      "LB -15.70340697108491\n"
     ]
    },
    {
     "name": "stderr",
     "output_type": "stream",
     "text": [
      "  1%|          | 35/5000 [22:52:21<3354:43:49, 2432.43s/it]"
     ]
    },
    {
     "name": "stdout",
     "output_type": "stream",
     "text": [
      "LB -15.704669196759546\n"
     ]
    },
    {
     "name": "stderr",
     "output_type": "stream",
     "text": [
      "  1%|          | 36/5000 [23:32:37<3346:59:26, 2427.31s/it]"
     ]
    },
    {
     "name": "stdout",
     "output_type": "stream",
     "text": [
      "LB -15.679388240734363\n"
     ]
    },
    {
     "name": "stderr",
     "output_type": "stream",
     "text": [
      "  1%|          | 37/5000 [24:12:45<3338:20:35, 2421.53s/it]"
     ]
    },
    {
     "name": "stdout",
     "output_type": "stream",
     "text": [
      "LB -15.346620393087337\n"
     ]
    },
    {
     "name": "stderr",
     "output_type": "stream",
     "text": [
      "  1%|          | 38/5000 [24:56:12<3414:35:09, 2477.33s/it]"
     ]
    },
    {
     "name": "stdout",
     "output_type": "stream",
     "text": [
      "LB -15.608752887561032\n"
     ]
    },
    {
     "name": "stderr",
     "output_type": "stream",
     "text": [
      "  1%|          | 39/5000 [25:36:45<3395:42:02, 2464.12s/it]"
     ]
    },
    {
     "name": "stdout",
     "output_type": "stream",
     "text": [
      "LB -15.507615265639425\n"
     ]
    },
    {
     "name": "stderr",
     "output_type": "stream",
     "text": [
      "  1%|          | 40/5000 [26:17:01<3374:50:54, 2449.49s/it]"
     ]
    },
    {
     "name": "stdout",
     "output_type": "stream",
     "text": [
      "LB -15.3174927115071\n"
     ]
    },
    {
     "name": "stderr",
     "output_type": "stream",
     "text": [
      "  1%|          | 41/5000 [27:00:04<3429:33:11, 2489.69s/it]"
     ]
    },
    {
     "name": "stdout",
     "output_type": "stream",
     "text": [
      "LB -15.476730359361115\n"
     ]
    },
    {
     "name": "stderr",
     "output_type": "stream",
     "text": [
      "  1%|          | 42/5000 [27:43:45<3483:09:41, 2529.12s/it]"
     ]
    },
    {
     "name": "stdout",
     "output_type": "stream",
     "text": [
      "LB -15.601489880211764\n"
     ]
    },
    {
     "name": "stderr",
     "output_type": "stream",
     "text": [
      "  1%|          | 43/5000 [28:31:38<3624:10:46, 2632.04s/it]"
     ]
    },
    {
     "name": "stdout",
     "output_type": "stream",
     "text": [
      "LB -15.420770838537731\n"
     ]
    },
    {
     "name": "stderr",
     "output_type": "stream",
     "text": [
      "  1%|          | 44/5000 [29:13:16<3568:11:39, 2591.91s/it]"
     ]
    },
    {
     "name": "stdout",
     "output_type": "stream",
     "text": [
      "LB -15.622715696709333\n"
     ]
    },
    {
     "name": "stderr",
     "output_type": "stream",
     "text": [
      "  1%|          | 45/5000 [29:54:09<3510:19:53, 2550.39s/it]"
     ]
    },
    {
     "name": "stdout",
     "output_type": "stream",
     "text": [
      "LB -15.648393503114221\n"
     ]
    },
    {
     "name": "stderr",
     "output_type": "stream",
     "text": [
      "  1%|          | 46/5000 [30:34:42<3460:53:08, 2514.98s/it]"
     ]
    },
    {
     "name": "stdout",
     "output_type": "stream",
     "text": [
      "LB -15.871764587770508\n"
     ]
    },
    {
     "name": "stderr",
     "output_type": "stream",
     "text": [
      "  1%|          | 47/5000 [31:15:01<3420:35:28, 2486.20s/it]"
     ]
    },
    {
     "name": "stdout",
     "output_type": "stream",
     "text": [
      "LB -15.480875252318446\n"
     ]
    },
    {
     "name": "stderr",
     "output_type": "stream",
     "text": [
      "  1%|          | 48/5000 [31:57:26<3444:25:37, 2504.03s/it]"
     ]
    },
    {
     "name": "stdout",
     "output_type": "stream",
     "text": [
      "LB -15.495206221935145\n"
     ]
    },
    {
     "name": "stderr",
     "output_type": "stream",
     "text": [
      "  1%|          | 49/5000 [32:37:33<3403:28:16, 2474.75s/it]"
     ]
    },
    {
     "name": "stdout",
     "output_type": "stream",
     "text": [
      "LB -15.300866502340318\n"
     ]
    },
    {
     "name": "stderr",
     "output_type": "stream",
     "text": [
      "  1%|          | 50/5000 [33:18:48<3402:50:27, 2474.79s/it]"
     ]
    },
    {
     "name": "stdout",
     "output_type": "stream",
     "text": [
      "LB -15.562524120823227\n"
     ]
    },
    {
     "name": "stderr",
     "output_type": "stream",
     "text": [
      "  1%|          | 51/5000 [33:59:00<3376:14:43, 2455.95s/it]"
     ]
    },
    {
     "name": "stdout",
     "output_type": "stream",
     "text": [
      "LB Smoothed -16.016192868232714\n"
     ]
    },
    {
     "name": "stderr",
     "output_type": "stream",
     "text": [
      "  1%|          | 52/5000 [34:39:02<3353:22:05, 2439.80s/it]"
     ]
    },
    {
     "name": "stdout",
     "output_type": "stream",
     "text": [
      "LB Smoothed -15.97051129822136\n"
     ]
    },
    {
     "name": "stderr",
     "output_type": "stream",
     "text": [
      "  1%|          | 53/5000 [35:18:54<3332:52:09, 2425.37s/it]"
     ]
    },
    {
     "name": "stdout",
     "output_type": "stream",
     "text": [
      "LB Smoothed -15.954546145141437\n"
     ]
    },
    {
     "name": "stderr",
     "output_type": "stream",
     "text": [
      "  1%|          | 54/5000 [35:59:02<3325:23:53, 2420.43s/it]"
     ]
    },
    {
     "name": "stdout",
     "output_type": "stream",
     "text": [
      "LB Smoothed -15.92110090988038\n"
     ]
    },
    {
     "name": "stderr",
     "output_type": "stream",
     "text": [
      "  1%|          | 55/5000 [36:38:43<3308:19:39, 2408.49s/it]"
     ]
    },
    {
     "name": "stdout",
     "output_type": "stream",
     "text": [
      "LB Smoothed -15.89628168625321\n"
     ]
    },
    {
     "name": "stderr",
     "output_type": "stream",
     "text": [
      "  1%|          | 56/5000 [37:18:42<3303:40:27, 2405.59s/it]"
     ]
    },
    {
     "name": "stdout",
     "output_type": "stream",
     "text": [
      "LB Smoothed -15.877172646354826\n"
     ]
    },
    {
     "name": "stderr",
     "output_type": "stream",
     "text": [
      "  1%|          | 57/5000 [37:58:21<3291:54:47, 2397.51s/it]"
     ]
    },
    {
     "name": "stdout",
     "output_type": "stream",
     "text": [
      "LB Smoothed -15.847543058264895\n"
     ]
    },
    {
     "name": "stderr",
     "output_type": "stream",
     "text": [
      "  1%|          | 58/5000 [38:37:16<3265:47:55, 2378.97s/it]"
     ]
    },
    {
     "name": "stdout",
     "output_type": "stream",
     "text": [
      "LB Smoothed -15.834281842179394\n"
     ]
    },
    {
     "name": "stderr",
     "output_type": "stream",
     "text": [
      "  1%|          | 59/5000 [39:17:12<3272:06:51, 2384.05s/it]"
     ]
    },
    {
     "name": "stdout",
     "output_type": "stream",
     "text": [
      "LB Smoothed -15.811771278282812\n"
     ]
    },
    {
     "name": "stderr",
     "output_type": "stream",
     "text": [
      "  1%|          | 60/5000 [39:55:56<3246:47:48, 2366.09s/it]"
     ]
    },
    {
     "name": "stdout",
     "output_type": "stream",
     "text": [
      "LB Smoothed -15.786174243298719\n"
     ]
    },
    {
     "name": "stderr",
     "output_type": "stream",
     "text": [
      "  1%|          | 61/5000 [40:34:36<3226:52:50, 2352.05s/it]"
     ]
    },
    {
     "name": "stdout",
     "output_type": "stream",
     "text": [
      "LB Smoothed -15.775700062313156\n"
     ]
    },
    {
     "name": "stderr",
     "output_type": "stream",
     "text": [
      "  1%|          | 62/5000 [41:13:31<3219:12:39, 2346.93s/it]"
     ]
    },
    {
     "name": "stdout",
     "output_type": "stream",
     "text": [
      "LB Smoothed -15.759331992961634\n"
     ]
    },
    {
     "name": "stderr",
     "output_type": "stream",
     "text": [
      "  1%|▏         | 63/5000 [41:53:14<3233:42:47, 2357.98s/it]"
     ]
    },
    {
     "name": "stdout",
     "output_type": "stream",
     "text": [
      "LB Smoothed -15.725706778868897\n"
     ]
    },
    {
     "name": "stderr",
     "output_type": "stream",
     "text": [
      "  1%|▏         | 64/5000 [42:33:58<3268:09:24, 2383.58s/it]"
     ]
    },
    {
     "name": "stdout",
     "output_type": "stream",
     "text": [
      "LB Smoothed -15.716345947812435\n"
     ]
    },
    {
     "name": "stderr",
     "output_type": "stream",
     "text": [
      "  1%|▏         | 65/5000 [43:14:18<3282:27:58, 2394.50s/it]"
     ]
    },
    {
     "name": "stdout",
     "output_type": "stream",
     "text": [
      "LB Smoothed -15.696231135319122\n"
     ]
    },
    {
     "name": "stderr",
     "output_type": "stream",
     "text": [
      "  1%|▏         | 66/5000 [43:54:23<3286:02:17, 2397.60s/it]"
     ]
    },
    {
     "name": "stdout",
     "output_type": "stream",
     "text": [
      "LB Smoothed -15.691893443629706\n"
     ]
    },
    {
     "name": "stderr",
     "output_type": "stream",
     "text": [
      "  1%|▏         | 67/5000 [44:37:05<3353:16:34, 2447.15s/it]"
     ]
    },
    {
     "name": "stdout",
     "output_type": "stream",
     "text": [
      "LB Smoothed -15.680965728239238\n"
     ]
    },
    {
     "name": "stderr",
     "output_type": "stream",
     "text": [
      "  1%|▏         | 68/5000 [45:22:52<3475:30:25, 2536.87s/it]"
     ]
    },
    {
     "name": "stdout",
     "output_type": "stream",
     "text": [
      "LB Smoothed -15.664483696075408\n"
     ]
    },
    {
     "name": "stderr",
     "output_type": "stream",
     "text": [
      "  1%|▏         | 69/5000 [46:07:16<3527:05:31, 2575.04s/it]"
     ]
    },
    {
     "name": "stdout",
     "output_type": "stream",
     "text": [
      "LB Smoothed -15.640667574753312\n"
     ]
    },
    {
     "name": "stderr",
     "output_type": "stream",
     "text": [
      "  1%|▏         | 70/5000 [46:49:17<3504:18:04, 2558.92s/it]"
     ]
    },
    {
     "name": "stdout",
     "output_type": "stream",
     "text": [
      "LB Smoothed -15.629978906106178\n"
     ]
    },
    {
     "name": "stderr",
     "output_type": "stream",
     "text": [
      "  1%|▏         | 71/5000 [47:31:27<3491:42:04, 2550.24s/it]"
     ]
    },
    {
     "name": "stdout",
     "output_type": "stream",
     "text": [
      "LB Smoothed -15.616214942267378\n"
     ]
    },
    {
     "name": "stderr",
     "output_type": "stream",
     "text": [
      "  1%|▏         | 72/5000 [48:13:23<3476:46:58, 2539.86s/it]"
     ]
    },
    {
     "name": "stdout",
     "output_type": "stream",
     "text": [
      "LB Smoothed -15.60907078364546\n"
     ]
    },
    {
     "name": "stderr",
     "output_type": "stream",
     "text": [
      "  1%|▏         | 73/5000 [48:55:20<3467:02:23, 2533.25s/it]"
     ]
    },
    {
     "name": "stdout",
     "output_type": "stream",
     "text": [
      "LB Smoothed -15.593894478192508\n"
     ]
    },
    {
     "name": "stderr",
     "output_type": "stream",
     "text": [
      "  1%|▏         | 74/5000 [49:38:08<3480:18:07, 2543.46s/it]"
     ]
    },
    {
     "name": "stdout",
     "output_type": "stream",
     "text": [
      "LB Smoothed -15.580494237422517\n"
     ]
    },
    {
     "name": "stderr",
     "output_type": "stream",
     "text": [
      "  2%|▏         | 75/5000 [50:19:31<3455:05:21, 2525.55s/it]"
     ]
    },
    {
     "name": "stdout",
     "output_type": "stream",
     "text": [
      "LB Smoothed -15.571000849493984\n"
     ]
    },
    {
     "name": "stderr",
     "output_type": "stream",
     "text": [
      "  2%|▏         | 76/5000 [51:05:47<3557:00:14, 2600.57s/it]"
     ]
    },
    {
     "name": "stdout",
     "output_type": "stream",
     "text": [
      "LB Smoothed -15.545749156528395\n"
     ]
    },
    {
     "name": "stderr",
     "output_type": "stream",
     "text": [
      "  2%|▏         | 77/5000 [51:49:28<3564:30:04, 2606.58s/it]"
     ]
    },
    {
     "name": "stdout",
     "output_type": "stream",
     "text": [
      "LB Smoothed -15.530897866285274\n"
     ]
    },
    {
     "name": "stderr",
     "output_type": "stream",
     "text": [
      "  2%|▏         | 78/5000 [52:34:52<3612:16:39, 2642.06s/it]"
     ]
    },
    {
     "name": "stdout",
     "output_type": "stream",
     "text": [
      "LB Smoothed -15.529763287509581\n"
     ]
    },
    {
     "name": "stderr",
     "output_type": "stream",
     "text": [
      "  2%|▏         | 79/5000 [53:17:41<3581:18:38, 2619.94s/it]"
     ]
    },
    {
     "name": "stdout",
     "output_type": "stream",
     "text": [
      "LB Smoothed -15.529550941868767\n"
     ]
    },
    {
     "name": "stderr",
     "output_type": "stream",
     "text": [
      "  2%|▏         | 80/5000 [54:00:48<3567:00:18, 2610.00s/it]"
     ]
    },
    {
     "name": "stdout",
     "output_type": "stream",
     "text": [
      "LB Smoothed -15.514369971617242\n"
     ]
    },
    {
     "name": "stderr",
     "output_type": "stream",
     "text": [
      "  2%|▏         | 81/5000 [54:42:14<3515:48:04, 2573.06s/it]"
     ]
    },
    {
     "name": "stdout",
     "output_type": "stream",
     "text": [
      "LB Smoothed -15.509790729239329\n"
     ]
    },
    {
     "name": "stderr",
     "output_type": "stream",
     "text": [
      "  2%|▏         | 82/5000 [55:22:48<3457:48:57, 2531.14s/it]"
     ]
    },
    {
     "name": "stdout",
     "output_type": "stream",
     "text": [
      "LB Smoothed -15.508676067533786\n"
     ]
    },
    {
     "name": "stderr",
     "output_type": "stream",
     "text": [
      "  2%|▏         | 83/5000 [56:04:05<3435:05:18, 2515.01s/it]"
     ]
    },
    {
     "name": "stdout",
     "output_type": "stream",
     "text": [
      "LB Smoothed -15.507759237349555\n"
     ]
    },
    {
     "name": "stderr",
     "output_type": "stream",
     "text": [
      "  2%|▏         | 84/5000 [56:54:12<3635:55:06, 2662.59s/it]"
     ]
    },
    {
     "name": "stdout",
     "output_type": "stream",
     "text": [
      "LB Smoothed -15.504705590098986\n"
     ]
    },
    {
     "name": "stderr",
     "output_type": "stream",
     "text": [
      "  2%|▏         | 85/5000 [57:30:47<3443:47:14, 2522.41s/it]"
     ]
    },
    {
     "name": "stdout",
     "output_type": "stream",
     "text": [
      "LB Smoothed -15.497702285722879\n"
     ]
    },
    {
     "name": "stderr",
     "output_type": "stream",
     "text": [
      "  2%|▏         | 86/5000 [58:09:38<3364:39:59, 2464.96s/it]"
     ]
    },
    {
     "name": "stdout",
     "output_type": "stream",
     "text": [
      "LB Smoothed -15.493919177041517\n"
     ]
    },
    {
     "name": "stderr",
     "output_type": "stream",
     "text": [
      "  2%|▏         | 87/5000 [58:48:41<3313:50:00, 2428.21s/it]"
     ]
    },
    {
     "name": "stdout",
     "output_type": "stream",
     "text": [
      "LB Smoothed -15.515706175046716\n"
     ]
    },
    {
     "name": "stderr",
     "output_type": "stream",
     "text": [
      "  2%|▏         | 88/5000 [59:28:09<3288:30:11, 2410.14s/it]"
     ]
    },
    {
     "name": "stdout",
     "output_type": "stream",
     "text": [
      "LB Smoothed -15.518965702223467\n"
     ]
    },
    {
     "name": "stderr",
     "output_type": "stream",
     "text": [
      "  2%|▏         | 89/5000 [60:07:20<3263:53:38, 2392.59s/it]"
     ]
    },
    {
     "name": "stdout",
     "output_type": "stream",
     "text": [
      "LB Smoothed -15.512058825269934\n"
     ]
    },
    {
     "name": "stderr",
     "output_type": "stream",
     "text": [
      "  2%|▏         | 90/5000 [60:46:30<3245:35:53, 2379.66s/it]"
     ]
    },
    {
     "name": "stdout",
     "output_type": "stream",
     "text": [
      "LB Smoothed -15.516179343858623\n"
     ]
    },
    {
     "name": "stderr",
     "output_type": "stream",
     "text": [
      "  2%|▏         | 91/5000 [61:25:23<3225:48:11, 2365.63s/it]"
     ]
    },
    {
     "name": "stdout",
     "output_type": "stream",
     "text": [
      "LB Smoothed -15.520096665937263\n"
     ]
    },
    {
     "name": "stderr",
     "output_type": "stream",
     "text": [
      "  2%|▏         | 92/5000 [62:05:08<3233:09:35, 2371.51s/it]"
     ]
    },
    {
     "name": "stdout",
     "output_type": "stream",
     "text": [
      "LB Smoothed -15.51744098360904\n"
     ]
    },
    {
     "name": "stderr",
     "output_type": "stream",
     "text": [
      "  2%|▏         | 93/5000 [62:44:13<3221:28:41, 2363.42s/it]"
     ]
    },
    {
     "name": "stdout",
     "output_type": "stream",
     "text": [
      "LB Smoothed -15.506248126457042\n"
     ]
    },
    {
     "name": "stderr",
     "output_type": "stream",
     "text": [
      "  2%|▏         | 94/5000 [63:23:12<3210:55:18, 2356.16s/it]"
     ]
    },
    {
     "name": "stdout",
     "output_type": "stream",
     "text": [
      "LB Smoothed -15.498728051414611\n"
     ]
    },
    {
     "name": "stderr",
     "output_type": "stream",
     "text": [
      "  2%|▏         | 95/5000 [64:02:58<3222:25:29, 2365.08s/it]"
     ]
    },
    {
     "name": "stdout",
     "output_type": "stream",
     "text": [
      "LB Smoothed -15.499627132439562\n"
     ]
    },
    {
     "name": "stderr",
     "output_type": "stream",
     "text": [
      "  2%|▏         | 96/5000 [64:42:00<3212:26:53, 2358.24s/it]"
     ]
    },
    {
     "name": "stdout",
     "output_type": "stream",
     "text": [
      "LB Smoothed -15.497001544581638\n"
     ]
    },
    {
     "name": "stderr",
     "output_type": "stream",
     "text": [
      "  2%|▏         | 97/5000 [65:23:24<3263:12:21, 2395.99s/it]"
     ]
    },
    {
     "name": "stdout",
     "output_type": "stream",
     "text": [
      "LB Smoothed -15.489927792914722\n"
     ]
    },
    {
     "name": "stderr",
     "output_type": "stream",
     "text": [
      "  2%|▏         | 98/5000 [67:14:10<4998:47:57, 3671.09s/it]"
     ]
    },
    {
     "name": "stdout",
     "output_type": "stream",
     "text": [
      "LB Smoothed -15.492012299509542\n"
     ]
    },
    {
     "name": "stderr",
     "output_type": "stream",
     "text": [
      "  2%|▏         | 99/5000 [67:49:49<4371:59:26, 3211.42s/it]"
     ]
    },
    {
     "name": "stdout",
     "output_type": "stream",
     "text": [
      "LB Smoothed -15.490233917651443\n"
     ]
    },
    {
     "name": "stderr",
     "output_type": "stream",
     "text": [
      "  2%|▏         | 100/5000 [73:17:42<11092:59:24, 8149.95s/it]"
     ]
    },
    {
     "name": "stdout",
     "output_type": "stream",
     "text": [
      "LB Smoothed -15.485873869702893\n"
     ]
    },
    {
     "name": "stderr",
     "output_type": "stream",
     "text": [
      "  2%|▏         | 101/5000 [73:59:07<8777:59:48, 6450.46s/it] "
     ]
    },
    {
     "name": "stdout",
     "output_type": "stream",
     "text": [
      "LB Smoothed -15.491659914704025\n"
     ]
    },
    {
     "name": "stderr",
     "output_type": "stream",
     "text": [
      "  2%|▏         | 102/5000 [74:37:52<7091:57:36, 5212.55s/it]"
     ]
    },
    {
     "name": "stdout",
     "output_type": "stream",
     "text": [
      "LB Smoothed -15.47797245830805\n"
     ]
    },
    {
     "name": "stderr",
     "output_type": "stream",
     "text": [
      "  2%|▏         | 103/5000 [75:13:51<5844:47:53, 4296.77s/it]"
     ]
    },
    {
     "name": "stdout",
     "output_type": "stream",
     "text": [
      "LB Smoothed -15.478146820838061\n"
     ]
    },
    {
     "name": "stderr",
     "output_type": "stream",
     "text": [
      "  2%|▏         | 104/5000 [75:53:57<5072:01:13, 3729.43s/it]"
     ]
    },
    {
     "name": "stdout",
     "output_type": "stream",
     "text": [
      "LB Smoothed -15.478929705460292\n"
     ]
    },
    {
     "name": "stderr",
     "output_type": "stream",
     "text": [
      "  2%|▏         | 105/5000 [76:45:18<4806:25:29, 3534.86s/it]"
     ]
    },
    {
     "name": "stdout",
     "output_type": "stream",
     "text": [
      "LB Smoothed -15.474150269580917\n"
     ]
    },
    {
     "name": "stderr",
     "output_type": "stream",
     "text": [
      "  2%|▏         | 106/5000 [77:28:41<4425:22:49, 3255.29s/it]"
     ]
    },
    {
     "name": "stdout",
     "output_type": "stream",
     "text": [
      "LB Smoothed -15.48658556321647\n"
     ]
    },
    {
     "name": "stderr",
     "output_type": "stream",
     "text": [
      "  2%|▏         | 107/5000 [78:07:43<4052:19:17, 2981.48s/it]"
     ]
    },
    {
     "name": "stdout",
     "output_type": "stream",
     "text": [
      "LB Smoothed -15.478313220046985\n"
     ]
    },
    {
     "name": "stderr",
     "output_type": "stream",
     "text": [
      "  2%|▏         | 108/5000 [78:43:21<3707:31:18, 2728.35s/it]"
     ]
    },
    {
     "name": "stdout",
     "output_type": "stream",
     "text": [
      "LB Smoothed -15.482032899217703\n"
     ]
    },
    {
     "name": "stderr",
     "output_type": "stream",
     "text": [
      "  2%|▏         | 109/5000 [79:23:57<3587:24:29, 2640.50s/it]"
     ]
    },
    {
     "name": "stdout",
     "output_type": "stream",
     "text": [
      "LB Smoothed -15.480046598077548\n"
     ]
    },
    {
     "name": "stderr",
     "output_type": "stream",
     "text": [
      "  2%|▏         | 110/5000 [80:08:09<3591:23:10, 2643.97s/it]"
     ]
    },
    {
     "name": "stdout",
     "output_type": "stream",
     "text": [
      "LB Smoothed -15.470904874595993\n"
     ]
    },
    {
     "name": "stderr",
     "output_type": "stream",
     "text": [
      "  2%|▏         | 111/5000 [80:52:18<3592:45:43, 2645.52s/it]"
     ]
    },
    {
     "name": "stdout",
     "output_type": "stream",
     "text": [
      "LB Smoothed -15.476525441837861\n"
     ]
    },
    {
     "name": "stderr",
     "output_type": "stream",
     "text": [
      "  2%|▏         | 112/5000 [81:36:44<3600:20:15, 2651.64s/it]"
     ]
    },
    {
     "name": "stdout",
     "output_type": "stream",
     "text": [
      "LB Smoothed -15.480840157735765\n"
     ]
    },
    {
     "name": "stderr",
     "output_type": "stream",
     "text": [
      "  2%|▏         | 113/5000 [82:22:06<3628:28:59, 2672.92s/it]"
     ]
    },
    {
     "name": "stdout",
     "output_type": "stream",
     "text": [
      "LB Smoothed -15.483132660167994\n"
     ]
    },
    {
     "name": "stderr",
     "output_type": "stream",
     "text": [
      "  2%|▏         | 114/5000 [83:06:01<3612:19:37, 2661.56s/it]"
     ]
    },
    {
     "name": "stdout",
     "output_type": "stream",
     "text": [
      "LB Smoothed -15.487649932948184\n"
     ]
    },
    {
     "name": "stderr",
     "output_type": "stream",
     "text": [
      "  2%|▏         | 115/5000 [83:49:54<3599:37:54, 2652.75s/it]"
     ]
    },
    {
     "name": "stdout",
     "output_type": "stream",
     "text": [
      "LB Smoothed -15.480825841134243\n"
     ]
    },
    {
     "name": "stderr",
     "output_type": "stream",
     "text": [
      "  2%|▏         | 116/5000 [84:33:32<3585:05:11, 2642.57s/it]"
     ]
    },
    {
     "name": "stdout",
     "output_type": "stream",
     "text": [
      "LB Smoothed -15.489498485182656\n"
     ]
    },
    {
     "name": "stderr",
     "output_type": "stream",
     "text": [
      "  2%|▏         | 117/5000 [85:17:10<3573:58:14, 2634.92s/it]"
     ]
    },
    {
     "name": "stdout",
     "output_type": "stream",
     "text": [
      "LB Smoothed -15.491920348161338\n"
     ]
    },
    {
     "name": "stderr",
     "output_type": "stream",
     "text": [
      "  2%|▏         | 118/5000 [86:00:54<3568:51:22, 2631.68s/it]"
     ]
    },
    {
     "name": "stdout",
     "output_type": "stream",
     "text": [
      "LB Smoothed -15.499767612495976\n"
     ]
    },
    {
     "name": "stderr",
     "output_type": "stream",
     "text": [
      "  2%|▏         | 119/5000 [86:43:50<3545:42:11, 2615.15s/it]"
     ]
    },
    {
     "name": "stdout",
     "output_type": "stream",
     "text": [
      "LB Smoothed -15.48945387934066\n"
     ]
    },
    {
     "name": "stderr",
     "output_type": "stream",
     "text": [
      "  2%|▏         | 120/5000 [87:27:27<3545:42:58, 2615.69s/it]"
     ]
    },
    {
     "name": "stdout",
     "output_type": "stream",
     "text": [
      "LB Smoothed -15.486682280504345\n"
     ]
    },
    {
     "name": "stderr",
     "output_type": "stream",
     "text": [
      "  2%|▏         | 121/5000 [88:11:29<3555:47:13, 2623.66s/it]"
     ]
    },
    {
     "name": "stdout",
     "output_type": "stream",
     "text": [
      "LB Smoothed -15.491408110174694\n"
     ]
    },
    {
     "name": "stderr",
     "output_type": "stream",
     "text": [
      "  2%|▏         | 122/5000 [88:55:28<3560:55:02, 2627.98s/it]"
     ]
    },
    {
     "name": "stdout",
     "output_type": "stream",
     "text": [
      "LB Smoothed -15.484883209120776\n"
     ]
    },
    {
     "name": "stderr",
     "output_type": "stream",
     "text": [
      "  2%|▏         | 123/5000 [89:38:52<3550:26:48, 2620.79s/it]"
     ]
    },
    {
     "name": "stdout",
     "output_type": "stream",
     "text": [
      "LB Smoothed -15.48544553387329\n"
     ]
    },
    {
     "name": "stderr",
     "output_type": "stream",
     "text": [
      "  2%|▏         | 124/5000 [90:23:06<3563:33:52, 2631.02s/it]"
     ]
    },
    {
     "name": "stdout",
     "output_type": "stream",
     "text": [
      "LB Smoothed -15.47856723197324\n"
     ]
    },
    {
     "name": "stderr",
     "output_type": "stream",
     "text": [
      "  2%|▎         | 125/5000 [91:09:02<3613:15:43, 2668.26s/it]"
     ]
    },
    {
     "name": "stdout",
     "output_type": "stream",
     "text": [
      "LB Smoothed -15.473694158641742\n"
     ]
    },
    {
     "name": "stderr",
     "output_type": "stream",
     "text": [
      "  3%|▎         | 126/5000 [91:53:16<3606:57:15, 2664.14s/it]"
     ]
    },
    {
     "name": "stdout",
     "output_type": "stream",
     "text": [
      "LB Smoothed -15.472067920104982\n"
     ]
    },
    {
     "name": "stderr",
     "output_type": "stream",
     "text": [
      "  3%|▎         | 127/5000 [92:37:28<3601:05:03, 2660.35s/it]"
     ]
    },
    {
     "name": "stdout",
     "output_type": "stream",
     "text": [
      "LB Smoothed -15.464841134565262\n"
     ]
    },
    {
     "name": "stderr",
     "output_type": "stream",
     "text": [
      "  3%|▎         | 128/5000 [93:24:36<3668:44:22, 2710.89s/it]"
     ]
    },
    {
     "name": "stdout",
     "output_type": "stream",
     "text": [
      "LB Smoothed -15.473674140284494\n"
     ]
    },
    {
     "name": "stderr",
     "output_type": "stream",
     "text": [
      "  3%|▎         | 129/5000 [94:11:12<3702:12:41, 2736.19s/it]"
     ]
    },
    {
     "name": "stdout",
     "output_type": "stream",
     "text": [
      "LB Smoothed -15.478151934468597\n"
     ]
    },
    {
     "name": "stderr",
     "output_type": "stream",
     "text": [
      "  3%|▎         | 130/5000 [94:55:44<3675:38:24, 2717.11s/it]"
     ]
    },
    {
     "name": "stdout",
     "output_type": "stream",
     "text": [
      "LB Smoothed -15.473494620624965\n"
     ]
    },
    {
     "name": "stderr",
     "output_type": "stream",
     "text": [
      "  3%|▎         | 131/5000 [95:41:54<3696:25:53, 2733.04s/it]"
     ]
    },
    {
     "name": "stdout",
     "output_type": "stream",
     "text": [
      "LB Smoothed -15.470377923655931\n"
     ]
    },
    {
     "name": "stderr",
     "output_type": "stream",
     "text": [
      "  3%|▎         | 132/5000 [96:24:50<3631:55:05, 2685.89s/it]"
     ]
    },
    {
     "name": "stdout",
     "output_type": "stream",
     "text": [
      "LB Smoothed -15.460885211033611\n"
     ]
    },
    {
     "name": "stderr",
     "output_type": "stream",
     "text": [
      "  3%|▎         | 133/5000 [97:05:16<3525:32:30, 2607.76s/it]"
     ]
    },
    {
     "name": "stdout",
     "output_type": "stream",
     "text": [
      "LB Smoothed -15.456333675685881\n"
     ]
    },
    {
     "name": "stderr",
     "output_type": "stream",
     "text": [
      "  3%|▎         | 134/5000 [97:48:37<3522:09:45, 2605.79s/it]"
     ]
    },
    {
     "name": "stdout",
     "output_type": "stream",
     "text": [
      "LB Smoothed -15.454352729346375\n"
     ]
    },
    {
     "name": "stderr",
     "output_type": "stream",
     "text": [
      "  3%|▎         | 135/5000 [98:32:42<3537:21:51, 2617.58s/it]"
     ]
    },
    {
     "name": "stdout",
     "output_type": "stream",
     "text": [
      "LB Smoothed -15.457734818865124\n"
     ]
    },
    {
     "name": "stderr",
     "output_type": "stream",
     "text": [
      "  3%|▎         | 136/5000 [99:18:04<3578:48:37, 2648.79s/it]"
     ]
    },
    {
     "name": "stdout",
     "output_type": "stream",
     "text": [
      "LB Smoothed -15.433873593057465\n"
     ]
    },
    {
     "name": "stderr",
     "output_type": "stream",
     "text": [
      "  3%|▎         | 137/5000 [100:01:58<3572:09:35, 2644.41s/it]"
     ]
    },
    {
     "name": "stdout",
     "output_type": "stream",
     "text": [
      "LB Smoothed -15.427686413228965\n"
     ]
    },
    {
     "name": "stderr",
     "output_type": "stream",
     "text": [
      "  3%|▎         | 138/5000 [100:44:53<3543:22:56, 2623.65s/it]"
     ]
    },
    {
     "name": "stdout",
     "output_type": "stream",
     "text": [
      "LB Smoothed -15.434648982244866\n"
     ]
    },
    {
     "name": "stderr",
     "output_type": "stream",
     "text": [
      "  3%|▎         | 139/5000 [101:29:43<3569:23:24, 2643.45s/it]"
     ]
    },
    {
     "name": "stdout",
     "output_type": "stream",
     "text": [
      "LB Smoothed -15.446601520119806\n"
     ]
    },
    {
     "name": "stderr",
     "output_type": "stream",
     "text": [
      "  3%|▎         | 140/5000 [102:05:38<3370:56:47, 2497.00s/it]"
     ]
    },
    {
     "name": "stdout",
     "output_type": "stream",
     "text": [
      "LB Smoothed -15.435711027490854\n"
     ]
    },
    {
     "name": "stderr",
     "output_type": "stream",
     "text": [
      "  3%|▎         | 141/5000 [102:43:19<3274:45:23, 2426.24s/it]"
     ]
    },
    {
     "name": "stdout",
     "output_type": "stream",
     "text": [
      "LB Smoothed -15.431944194648926\n"
     ]
    },
    {
     "name": "stderr",
     "output_type": "stream",
     "text": [
      "  3%|▎         | 142/5000 [103:19:16<3164:58:46, 2345.39s/it]"
     ]
    },
    {
     "name": "stdout",
     "output_type": "stream",
     "text": [
      "LB Smoothed -15.449061478500473\n"
     ]
    },
    {
     "name": "stderr",
     "output_type": "stream",
     "text": [
      "  3%|▎         | 143/5000 [103:55:15<3089:07:36, 2289.66s/it]"
     ]
    },
    {
     "name": "stdout",
     "output_type": "stream",
     "text": [
      "LB Smoothed -15.452155926300078\n"
     ]
    },
    {
     "name": "stderr",
     "output_type": "stream",
     "text": [
      "  3%|▎         | 144/5000 [104:31:35<3043:55:20, 2256.61s/it]"
     ]
    },
    {
     "name": "stdout",
     "output_type": "stream",
     "text": [
      "LB Smoothed -15.447679790763164\n"
     ]
    },
    {
     "name": "stderr",
     "output_type": "stream",
     "text": [
      "  3%|▎         | 145/5000 [105:08:08<3017:31:51, 2237.51s/it]"
     ]
    },
    {
     "name": "stdout",
     "output_type": "stream",
     "text": [
      "LB Smoothed -15.438379162642377\n"
     ]
    },
    {
     "name": "stderr",
     "output_type": "stream",
     "text": [
      "  3%|▎         | 146/5000 [105:44:49<3002:18:57, 2226.69s/it]"
     ]
    },
    {
     "name": "stdout",
     "output_type": "stream",
     "text": [
      "LB Smoothed -15.440870627414853\n"
     ]
    },
    {
     "name": "stderr",
     "output_type": "stream",
     "text": [
      "  3%|▎         | 147/5000 [106:22:09<3006:59:47, 2230.62s/it]"
     ]
    },
    {
     "name": "stdout",
     "output_type": "stream",
     "text": [
      "LB Smoothed -15.434357703790571\n"
     ]
    },
    {
     "name": "stderr",
     "output_type": "stream",
     "text": [
      "  3%|▎         | 148/5000 [106:58:37<2989:13:44, 2217.89s/it]"
     ]
    },
    {
     "name": "stdout",
     "output_type": "stream",
     "text": [
      "LB Smoothed -15.436761123069163\n"
     ]
    },
    {
     "name": "stderr",
     "output_type": "stream",
     "text": [
      "  3%|▎         | 149/5000 [107:35:35<2988:23:38, 2217.73s/it]"
     ]
    },
    {
     "name": "stdout",
     "output_type": "stream",
     "text": [
      "LB Smoothed -15.44046308314626\n"
     ]
    },
    {
     "name": "stderr",
     "output_type": "stream",
     "text": [
      "  3%|▎         | 150/5000 [108:12:11<2978:55:30, 2211.16s/it]"
     ]
    },
    {
     "name": "stdout",
     "output_type": "stream",
     "text": [
      "LB Smoothed -15.44319923711724\n"
     ]
    },
    {
     "name": "stderr",
     "output_type": "stream",
     "text": [
      "  3%|▎         | 151/5000 [108:48:28<2964:51:29, 2201.17s/it]"
     ]
    },
    {
     "name": "stdout",
     "output_type": "stream",
     "text": [
      "LB Smoothed -15.449805752694761\n"
     ]
    },
    {
     "name": "stderr",
     "output_type": "stream",
     "text": [
      "  3%|▎         | 152/5000 [109:24:53<2957:39:52, 2196.29s/it]"
     ]
    },
    {
     "name": "stdout",
     "output_type": "stream",
     "text": [
      "LB Smoothed -15.446532628407482\n"
     ]
    },
    {
     "name": "stderr",
     "output_type": "stream",
     "text": [
      "  3%|▎         | 153/5000 [109:59:38<2912:03:03, 2162.86s/it]"
     ]
    },
    {
     "name": "stdout",
     "output_type": "stream",
     "text": [
      "LB Smoothed -15.4488793193989\n"
     ]
    },
    {
     "name": "stderr",
     "output_type": "stream",
     "text": [
      "  3%|▎         | 154/5000 [110:34:35<2884:44:39, 2143.02s/it]"
     ]
    },
    {
     "name": "stdout",
     "output_type": "stream",
     "text": [
      "LB Smoothed -15.446217779756257\n"
     ]
    },
    {
     "name": "stderr",
     "output_type": "stream",
     "text": [
      "  3%|▎         | 155/5000 [111:09:29<2864:29:45, 2128.42s/it]"
     ]
    },
    {
     "name": "stdout",
     "output_type": "stream",
     "text": [
      "LB Smoothed -15.433764484143843\n"
     ]
    },
    {
     "name": "stderr",
     "output_type": "stream",
     "text": [
      "  3%|▎         | 156/5000 [111:44:12<2845:36:17, 2114.82s/it]"
     ]
    },
    {
     "name": "stdout",
     "output_type": "stream",
     "text": [
      "LB Smoothed -15.434536269233117\n"
     ]
    },
    {
     "name": "stderr",
     "output_type": "stream",
     "text": [
      "  3%|▎         | 157/5000 [112:18:39<2825:46:28, 2100.51s/it]"
     ]
    },
    {
     "name": "stdout",
     "output_type": "stream",
     "text": [
      "LB Smoothed -15.430598699966206\n"
     ]
    },
    {
     "name": "stderr",
     "output_type": "stream",
     "text": [
      "  3%|▎         | 158/5000 [112:54:34<2847:05:07, 2116.79s/it]"
     ]
    },
    {
     "name": "stdout",
     "output_type": "stream",
     "text": [
      "LB Smoothed -15.427007610648243\n"
     ]
    },
    {
     "name": "stderr",
     "output_type": "stream",
     "text": [
      "  3%|▎         | 159/5000 [113:31:53<2895:39:42, 2153.35s/it]"
     ]
    },
    {
     "name": "stdout",
     "output_type": "stream",
     "text": [
      "LB Smoothed -15.424706536872607\n"
     ]
    },
    {
     "name": "stderr",
     "output_type": "stream",
     "text": [
      "  3%|▎         | 160/5000 [114:08:40<2916:46:33, 2169.50s/it]"
     ]
    },
    {
     "name": "stdout",
     "output_type": "stream",
     "text": [
      "LB Smoothed -15.419430829590773\n"
     ]
    },
    {
     "name": "stderr",
     "output_type": "stream",
     "text": [
      "  3%|▎         | 161/5000 [114:46:05<2946:33:58, 2192.11s/it]"
     ]
    },
    {
     "name": "stdout",
     "output_type": "stream",
     "text": [
      "LB Smoothed -15.415685295417111\n"
     ]
    },
    {
     "name": "stderr",
     "output_type": "stream",
     "text": [
      "  3%|▎         | 162/5000 [115:23:26<2965:39:31, 2206.77s/it]"
     ]
    },
    {
     "name": "stdout",
     "output_type": "stream",
     "text": [
      "LB Smoothed -15.417338102742313\n"
     ]
    },
    {
     "name": "stderr",
     "output_type": "stream",
     "text": [
      "  3%|▎         | 163/5000 [116:03:06<3034:45:32, 2258.66s/it]"
     ]
    },
    {
     "name": "stdout",
     "output_type": "stream",
     "text": [
      "LB Smoothed -15.415513398623707\n"
     ]
    },
    {
     "name": "stderr",
     "output_type": "stream",
     "text": [
      "  3%|▎         | 164/5000 [116:57:59<3451:03:10, 2569.02s/it]"
     ]
    },
    {
     "name": "stdout",
     "output_type": "stream",
     "text": [
      "LB Smoothed -15.410088905915725\n"
     ]
    },
    {
     "name": "stderr",
     "output_type": "stream",
     "text": [
      "  3%|▎         | 165/5000 [117:42:28<3490:30:56, 2598.94s/it]"
     ]
    },
    {
     "name": "stdout",
     "output_type": "stream",
     "text": [
      "LB Smoothed -15.394514299725921\n"
     ]
    },
    {
     "name": "stderr",
     "output_type": "stream",
     "text": [
      "  3%|▎         | 166/5000 [118:26:16<3501:44:18, 2607.83s/it]"
     ]
    },
    {
     "name": "stdout",
     "output_type": "stream",
     "text": [
      "LB Smoothed -15.404381278713123\n"
     ]
    },
    {
     "name": "stderr",
     "output_type": "stream",
     "text": [
      "  3%|▎         | 167/5000 [119:13:45<3597:54:05, 2680.00s/it]"
     ]
    },
    {
     "name": "stdout",
     "output_type": "stream",
     "text": [
      "LB Smoothed -15.404141487202082\n"
     ]
    },
    {
     "name": "stderr",
     "output_type": "stream",
     "text": [
      "  3%|▎         | 168/5000 [120:00:11<3639:55:29, 2711.86s/it]"
     ]
    },
    {
     "name": "stdout",
     "output_type": "stream",
     "text": [
      "LB Smoothed -15.403403972890397\n"
     ]
    },
    {
     "name": "stderr",
     "output_type": "stream",
     "text": [
      "  3%|▎         | 169/5000 [120:46:44<3672:01:29, 2736.35s/it]"
     ]
    },
    {
     "name": "stdout",
     "output_type": "stream",
     "text": [
      "LB Smoothed -15.419140673123563\n"
     ]
    },
    {
     "name": "stderr",
     "output_type": "stream",
     "text": [
      "  3%|▎         | 170/5000 [121:32:51<3683:36:35, 2745.55s/it]"
     ]
    },
    {
     "name": "stdout",
     "output_type": "stream",
     "text": [
      "LB Smoothed -15.403678008494397\n"
     ]
    },
    {
     "name": "stderr",
     "output_type": "stream",
     "text": [
      "  3%|▎         | 171/5000 [122:19:21<3700:31:31, 2758.73s/it]"
     ]
    },
    {
     "name": "stdout",
     "output_type": "stream",
     "text": [
      "LB Smoothed -15.409519381383097\n"
     ]
    },
    {
     "name": "stderr",
     "output_type": "stream",
     "text": [
      "  3%|▎         | 172/5000 [123:05:47<3710:38:44, 2766.84s/it]"
     ]
    },
    {
     "name": "stdout",
     "output_type": "stream",
     "text": [
      "LB Smoothed -15.407569058303698\n"
     ]
    },
    {
     "name": "stderr",
     "output_type": "stream",
     "text": [
      "  3%|▎         | 173/5000 [123:55:46<3803:29:08, 2836.66s/it]"
     ]
    },
    {
     "name": "stdout",
     "output_type": "stream",
     "text": [
      "LB Smoothed -15.405726096569348\n"
     ]
    },
    {
     "name": "stderr",
     "output_type": "stream",
     "text": [
      "  3%|▎         | 174/5000 [124:55:37<4105:55:15, 3062.85s/it]"
     ]
    },
    {
     "name": "stdout",
     "output_type": "stream",
     "text": [
      "LB Smoothed -15.418496836994642\n"
     ]
    },
    {
     "name": "stderr",
     "output_type": "stream",
     "text": [
      "  4%|▎         | 175/5000 [125:41:06<3970:57:45, 2962.79s/it]"
     ]
    },
    {
     "name": "stdout",
     "output_type": "stream",
     "text": [
      "LB Smoothed -15.423378866869614\n"
     ]
    },
    {
     "name": "stderr",
     "output_type": "stream",
     "text": [
      "  4%|▎         | 176/5000 [126:16:05<3622:44:53, 2703.54s/it]"
     ]
    },
    {
     "name": "stdout",
     "output_type": "stream",
     "text": [
      "LB Smoothed -15.418763370882552\n"
     ]
    },
    {
     "name": "stderr",
     "output_type": "stream",
     "text": [
      "  4%|▎         | 177/5000 [126:53:13<3431:10:06, 2561.10s/it]"
     ]
    },
    {
     "name": "stdout",
     "output_type": "stream",
     "text": [
      "LB Smoothed -15.409826781771615\n"
     ]
    },
    {
     "name": "stderr",
     "output_type": "stream",
     "text": [
      "  4%|▎         | 178/5000 [127:43:08<3604:33:05, 2691.08s/it]"
     ]
    },
    {
     "name": "stdout",
     "output_type": "stream",
     "text": [
      "LB Smoothed -15.411267796400896\n"
     ]
    },
    {
     "name": "stderr",
     "output_type": "stream",
     "text": [
      "  4%|▎         | 179/5000 [128:33:15<3730:49:58, 2785.94s/it]"
     ]
    },
    {
     "name": "stdout",
     "output_type": "stream",
     "text": [
      "LB Smoothed -15.417789269207896\n"
     ]
    },
    {
     "name": "stderr",
     "output_type": "stream",
     "text": [
      "  4%|▎         | 180/5000 [129:19:24<3723:22:48, 2780.95s/it]"
     ]
    },
    {
     "name": "stdout",
     "output_type": "stream",
     "text": [
      "LB Smoothed -15.409262008665161\n"
     ]
    },
    {
     "name": "stderr",
     "output_type": "stream",
     "text": [
      "  4%|▎         | 181/5000 [130:05:46<3722:52:13, 2781.14s/it]"
     ]
    },
    {
     "name": "stdout",
     "output_type": "stream",
     "text": [
      "LB Smoothed -15.4115374996273\n"
     ]
    },
    {
     "name": "stderr",
     "output_type": "stream",
     "text": [
      "  4%|▎         | 182/5000 [151:17:16<33235:52:54, 24833.78s/it]"
     ]
    },
    {
     "name": "stdout",
     "output_type": "stream",
     "text": [
      "LB Smoothed -15.412843235901459\n"
     ]
    },
    {
     "name": "stderr",
     "output_type": "stream",
     "text": [
      "  4%|▎         | 183/5000 [153:31:12<26486:10:29, 19794.53s/it]"
     ]
    },
    {
     "name": "stdout",
     "output_type": "stream",
     "text": [
      "LB Smoothed -15.41487496591325\n"
     ]
    },
    {
     "name": "stderr",
     "output_type": "stream",
     "text": [
      "  4%|▎         | 184/5000 [154:06:20<19382:36:47, 14488.66s/it]"
     ]
    },
    {
     "name": "stdout",
     "output_type": "stream",
     "text": [
      "LB Smoothed -15.41023672162387\n"
     ]
    },
    {
     "name": "stderr",
     "output_type": "stream",
     "text": [
      "  4%|▎         | 185/5000 [154:36:48<14298:09:34, 10690.21s/it]"
     ]
    },
    {
     "name": "stdout",
     "output_type": "stream",
     "text": [
      "LB Smoothed -15.40990795463763\n"
     ]
    },
    {
     "name": "stderr",
     "output_type": "stream",
     "text": [
      "  4%|▎         | 186/5000 [155:07:17<10740:28:47, 8031.93s/it] "
     ]
    },
    {
     "name": "stdout",
     "output_type": "stream",
     "text": [
      "LB Smoothed -15.404941454985618\n"
     ]
    },
    {
     "name": "stderr",
     "output_type": "stream",
     "text": [
      "  4%|▎         | 187/5000 [155:37:48<8251:08:25, 6171.64s/it] "
     ]
    },
    {
     "name": "stdout",
     "output_type": "stream",
     "text": [
      "LB Smoothed -15.403738484095182\n"
     ]
    },
    {
     "name": "stderr",
     "output_type": "stream",
     "text": [
      "  4%|▍         | 188/5000 [156:08:08<6504:27:02, 4866.17s/it]"
     ]
    },
    {
     "name": "stdout",
     "output_type": "stream",
     "text": [
      "LB Smoothed -15.38796909679395\n"
     ]
    },
    {
     "name": "stderr",
     "output_type": "stream",
     "text": [
      "  4%|▍         | 189/5000 [156:38:29<5282:24:56, 3952.75s/it]"
     ]
    },
    {
     "name": "stdout",
     "output_type": "stream",
     "text": [
      "LB Smoothed -15.388180322730195\n"
     ]
    },
    {
     "name": "stderr",
     "output_type": "stream",
     "text": [
      "  4%|▍         | 190/5000 [157:08:56<4429:04:41, 3314.90s/it]"
     ]
    },
    {
     "name": "stdout",
     "output_type": "stream",
     "text": [
      "LB Smoothed -15.38960486857245\n"
     ]
    },
    {
     "name": "stderr",
     "output_type": "stream",
     "text": [
      "  4%|▍         | 191/5000 [157:39:25<3832:34:49, 2869.06s/it]"
     ]
    },
    {
     "name": "stdout",
     "output_type": "stream",
     "text": [
      "LB Smoothed -15.385241830464786\n"
     ]
    },
    {
     "name": "stderr",
     "output_type": "stream",
     "text": [
      "  4%|▍         | 192/5000 [158:09:30<3405:31:38, 2549.90s/it]"
     ]
    },
    {
     "name": "stdout",
     "output_type": "stream",
     "text": [
      "LB Smoothed -15.382660851152197\n"
     ]
    },
    {
     "name": "stderr",
     "output_type": "stream",
     "text": [
      "  4%|▍         | 193/5000 [158:39:50<3112:20:07, 2330.85s/it]"
     ]
    },
    {
     "name": "stdout",
     "output_type": "stream",
     "text": [
      "LB Smoothed -15.380204932903956\n"
     ]
    },
    {
     "name": "stderr",
     "output_type": "stream",
     "text": [
      "  4%|▍         | 194/5000 [159:10:47<2921:52:24, 2188.67s/it]"
     ]
    },
    {
     "name": "stdout",
     "output_type": "stream",
     "text": [
      "LB Smoothed -15.384246793029446\n"
     ]
    },
    {
     "name": "stderr",
     "output_type": "stream",
     "text": [
      "  4%|▍         | 195/5000 [159:41:06<2773:26:54, 2077.92s/it]"
     ]
    },
    {
     "name": "stdout",
     "output_type": "stream",
     "text": [
      "LB Smoothed -15.384103962027742\n"
     ]
    },
    {
     "name": "stderr",
     "output_type": "stream",
     "text": [
      "  4%|▍         | 196/5000 [160:11:29<2670:54:56, 2001.52s/it]"
     ]
    },
    {
     "name": "stdout",
     "output_type": "stream",
     "text": [
      "LB Smoothed -15.39074901471341\n"
     ]
    },
    {
     "name": "stderr",
     "output_type": "stream",
     "text": [
      "  4%|▍         | 197/5000 [160:41:53<2599:20:19, 1948.29s/it]"
     ]
    },
    {
     "name": "stdout",
     "output_type": "stream",
     "text": [
      "LB Smoothed -15.395007239553964\n"
     ]
    },
    {
     "name": "stderr",
     "output_type": "stream",
     "text": [
      "  4%|▍         | 198/5000 [161:12:31<2554:21:28, 1914.97s/it]"
     ]
    },
    {
     "name": "stdout",
     "output_type": "stream",
     "text": [
      "LB Smoothed -15.396626223203105\n"
     ]
    },
    {
     "name": "stderr",
     "output_type": "stream",
     "text": [
      "  4%|▍         | 199/5000 [161:43:17<2526:19:11, 1894.35s/it]"
     ]
    },
    {
     "name": "stdout",
     "output_type": "stream",
     "text": [
      "LB Smoothed -15.398785334879614\n"
     ]
    },
    {
     "name": "stderr",
     "output_type": "stream",
     "text": [
      "  4%|▍         | 200/5000 [162:15:05<2531:26:08, 1898.58s/it]"
     ]
    },
    {
     "name": "stdout",
     "output_type": "stream",
     "text": [
      "LB Smoothed -15.394547401115785\n"
     ]
    },
    {
     "name": "stderr",
     "output_type": "stream",
     "text": [
      "  4%|▍         | 201/5000 [162:46:29<2524:52:54, 1894.06s/it]"
     ]
    },
    {
     "name": "stdout",
     "output_type": "stream",
     "text": [
      "LB Smoothed -15.39902818220443\n"
     ]
    },
    {
     "name": "stderr",
     "output_type": "stream",
     "text": [
      "  4%|▍         | 202/5000 [163:18:18<2530:31:49, 1898.69s/it]"
     ]
    },
    {
     "name": "stdout",
     "output_type": "stream",
     "text": [
      "LB Smoothed -15.390946214415559\n"
     ]
    },
    {
     "name": "stderr",
     "output_type": "stream",
     "text": [
      "  4%|▍         | 203/5000 [163:54:01<2627:30:46, 1971.87s/it]"
     ]
    },
    {
     "name": "stdout",
     "output_type": "stream",
     "text": [
      "LB Smoothed -15.392913754569966\n"
     ]
    },
    {
     "name": "stderr",
     "output_type": "stream",
     "text": [
      "  4%|▍         | 204/5000 [164:28:13<2659:12:18, 1996.07s/it]"
     ]
    },
    {
     "name": "stdout",
     "output_type": "stream",
     "text": [
      "LB Smoothed -15.402617198406816\n"
     ]
    },
    {
     "name": "stderr",
     "output_type": "stream",
     "text": [
      "  4%|▍         | 205/5000 [165:03:13<2700:03:49, 2027.16s/it]"
     ]
    },
    {
     "name": "stdout",
     "output_type": "stream",
     "text": [
      "LB Smoothed -15.404221428542359\n"
     ]
    },
    {
     "name": "stderr",
     "output_type": "stream",
     "text": [
      "  4%|▍         | 206/5000 [165:37:44<2717:01:50, 2040.32s/it]"
     ]
    },
    {
     "name": "stdout",
     "output_type": "stream",
     "text": [
      "LB Smoothed -15.403512622778958\n"
     ]
    },
    {
     "name": "stderr",
     "output_type": "stream",
     "text": [
      "  4%|▍         | 207/5000 [166:11:14<2704:25:20, 2031.28s/it]"
     ]
    },
    {
     "name": "stdout",
     "output_type": "stream",
     "text": [
      "LB Smoothed -15.408395077395266\n"
     ]
    },
    {
     "name": "stderr",
     "output_type": "stream",
     "text": [
      "  4%|▍         | 208/5000 [166:45:21<2709:57:11, 2035.86s/it]"
     ]
    },
    {
     "name": "stdout",
     "output_type": "stream",
     "text": [
      "LB Smoothed -15.411965659102997\n"
     ]
    },
    {
     "name": "stderr",
     "output_type": "stream",
     "text": [
      "  4%|▍         | 209/5000 [167:18:58<2701:57:21, 2030.27s/it]"
     ]
    },
    {
     "name": "stdout",
     "output_type": "stream",
     "text": [
      "LB Smoothed -15.405353797251403\n"
     ]
    },
    {
     "name": "stderr",
     "output_type": "stream",
     "text": [
      "  4%|▍         | 210/5000 [167:52:37<2696:52:02, 2026.87s/it]"
     ]
    },
    {
     "name": "stdout",
     "output_type": "stream",
     "text": [
      "LB Smoothed -15.404920737810935\n"
     ]
    },
    {
     "name": "stderr",
     "output_type": "stream",
     "text": [
      "  4%|▍         | 211/5000 [168:26:35<2700:30:39, 2030.04s/it]"
     ]
    },
    {
     "name": "stdout",
     "output_type": "stream",
     "text": [
      "LB Smoothed -15.39376018299279\n"
     ]
    },
    {
     "name": "stderr",
     "output_type": "stream",
     "text": [
      "  4%|▍         | 212/5000 [169:00:47<2708:55:12, 2036.78s/it]"
     ]
    },
    {
     "name": "stdout",
     "output_type": "stream",
     "text": [
      "LB Smoothed -15.393555918759759\n"
     ]
    },
    {
     "name": "stderr",
     "output_type": "stream",
     "text": [
      "  4%|▍         | 213/5000 [169:34:31<2703:08:15, 2032.86s/it]"
     ]
    },
    {
     "name": "stdout",
     "output_type": "stream",
     "text": [
      "LB Smoothed -15.396803794775707\n"
     ]
    },
    {
     "name": "stderr",
     "output_type": "stream",
     "text": [
      "  4%|▍         | 214/5000 [170:07:19<2676:36:45, 2013.33s/it]"
     ]
    },
    {
     "name": "stdout",
     "output_type": "stream",
     "text": [
      "LB Smoothed -15.396694639850313\n"
     ]
    },
    {
     "name": "stderr",
     "output_type": "stream",
     "text": [
      "  4%|▍         | 215/5000 [170:39:52<2652:04:49, 1995.30s/it]"
     ]
    },
    {
     "name": "stdout",
     "output_type": "stream",
     "text": [
      "LB Smoothed -15.386221821281172\n"
     ]
    },
    {
     "name": "stderr",
     "output_type": "stream",
     "text": [
      "  4%|▍         | 216/5000 [171:12:40<2640:32:44, 1987.03s/it]"
     ]
    },
    {
     "name": "stdout",
     "output_type": "stream",
     "text": [
      "LB Smoothed -15.387629461693653\n"
     ]
    },
    {
     "name": "stderr",
     "output_type": "stream",
     "text": [
      "  4%|▍         | 217/5000 [171:45:03<2622:47:33, 1974.09s/it]"
     ]
    },
    {
     "name": "stdout",
     "output_type": "stream",
     "text": [
      "LB Smoothed -15.400590654584056\n"
     ]
    },
    {
     "name": "stderr",
     "output_type": "stream",
     "text": [
      "  4%|▍         | 218/5000 [172:18:31<2635:43:13, 1984.23s/it]"
     ]
    },
    {
     "name": "stdout",
     "output_type": "stream",
     "text": [
      "LB Smoothed -15.396879459319909\n"
     ]
    },
    {
     "name": "stderr",
     "output_type": "stream",
     "text": [
      "  4%|▍         | 219/5000 [172:49:57<2595:57:35, 1954.71s/it]"
     ]
    },
    {
     "name": "stdout",
     "output_type": "stream",
     "text": [
      "LB Smoothed -15.40177980414454\n"
     ]
    },
    {
     "name": "stderr",
     "output_type": "stream",
     "text": [
      "  4%|▍         | 220/5000 [173:21:02<2559:32:37, 1927.69s/it]"
     ]
    },
    {
     "name": "stdout",
     "output_type": "stream",
     "text": [
      "LB Smoothed -15.39976673758609\n"
     ]
    },
    {
     "name": "stderr",
     "output_type": "stream",
     "text": [
      "  4%|▍         | 221/5000 [173:52:53<2552:24:07, 1922.71s/it]"
     ]
    },
    {
     "name": "stdout",
     "output_type": "stream",
     "text": [
      "LB Smoothed -15.405171517623836\n"
     ]
    },
    {
     "name": "stderr",
     "output_type": "stream",
     "text": [
      "  4%|▍         | 222/5000 [174:24:23<2539:00:08, 1913.02s/it]"
     ]
    },
    {
     "name": "stdout",
     "output_type": "stream",
     "text": [
      "LB Smoothed -15.402246838615666\n"
     ]
    },
    {
     "name": "stderr",
     "output_type": "stream",
     "text": [
      "  4%|▍         | 223/5000 [174:56:55<2553:43:25, 1924.51s/it]"
     ]
    },
    {
     "name": "stdout",
     "output_type": "stream",
     "text": [
      "LB Smoothed -15.396115831702033\n"
     ]
    },
    {
     "name": "stderr",
     "output_type": "stream",
     "text": [
      "  4%|▍         | 224/5000 [175:29:38<2568:49:32, 1936.30s/it]"
     ]
    },
    {
     "name": "stdout",
     "output_type": "stream",
     "text": [
      "LB Smoothed -15.397950841738394\n"
     ]
    },
    {
     "name": "stderr",
     "output_type": "stream",
     "text": [
      "  4%|▍         | 225/5000 [176:02:41<2586:49:53, 1950.28s/it]"
     ]
    },
    {
     "name": "stdout",
     "output_type": "stream",
     "text": [
      "LB Smoothed -15.410827170701909\n"
     ]
    },
    {
     "name": "stderr",
     "output_type": "stream",
     "text": [
      "  5%|▍         | 226/5000 [176:35:31<2594:07:58, 1956.20s/it]"
     ]
    },
    {
     "name": "stdout",
     "output_type": "stream",
     "text": [
      "LB Smoothed -15.405580944820581\n"
     ]
    },
    {
     "name": "stderr",
     "output_type": "stream",
     "text": [
      "  5%|▍         | 227/5000 [177:08:44<2608:00:08, 1967.07s/it]"
     ]
    },
    {
     "name": "stdout",
     "output_type": "stream",
     "text": [
      "LB Smoothed -15.41524987574933\n"
     ]
    },
    {
     "name": "stderr",
     "output_type": "stream",
     "text": [
      "  5%|▍         | 228/5000 [177:42:51<2639:11:08, 1991.00s/it]"
     ]
    },
    {
     "name": "stdout",
     "output_type": "stream",
     "text": [
      "LB Smoothed -15.407402117226553\n"
     ]
    },
    {
     "name": "stderr",
     "output_type": "stream",
     "text": [
      "  5%|▍         | 229/5000 [178:18:28<2696:52:16, 2034.95s/it]"
     ]
    },
    {
     "name": "stdout",
     "output_type": "stream",
     "text": [
      "LB Smoothed -15.419950630188056\n"
     ]
    },
    {
     "name": "stderr",
     "output_type": "stream",
     "text": [
      "  5%|▍         | 230/5000 [178:55:46<2776:49:13, 2095.71s/it]"
     ]
    },
    {
     "name": "stdout",
     "output_type": "stream",
     "text": [
      "LB Smoothed -15.434808917465352\n"
     ]
    },
    {
     "name": "stderr",
     "output_type": "stream",
     "text": [
      "  5%|▍         | 231/5000 [179:34:13<2860:26:44, 2159.28s/it]"
     ]
    },
    {
     "name": "stdout",
     "output_type": "stream",
     "text": [
      "LB Smoothed -15.42986863090023\n"
     ]
    },
    {
     "name": "stderr",
     "output_type": "stream",
     "text": [
      "  5%|▍         | 232/5000 [180:11:24<2888:06:41, 2180.62s/it]"
     ]
    },
    {
     "name": "stdout",
     "output_type": "stream",
     "text": [
      "LB Smoothed -15.433312423553831\n"
     ]
    },
    {
     "name": "stderr",
     "output_type": "stream",
     "text": [
      "  5%|▍         | 233/5000 [180:48:56<2916:01:33, 2202.16s/it]"
     ]
    },
    {
     "name": "stdout",
     "output_type": "stream",
     "text": [
      "LB Smoothed -15.437017417876275\n"
     ]
    },
    {
     "name": "stderr",
     "output_type": "stream",
     "text": [
      "  5%|▍         | 234/5000 [181:27:52<2968:41:42, 2242.41s/it]"
     ]
    },
    {
     "name": "stdout",
     "output_type": "stream",
     "text": [
      "LB Smoothed -15.444379180839716\n"
     ]
    },
    {
     "name": "stderr",
     "output_type": "stream",
     "text": [
      "  5%|▍         | 235/5000 [182:07:15<3015:49:53, 2278.49s/it]"
     ]
    },
    {
     "name": "stdout",
     "output_type": "stream",
     "text": [
      "LB Smoothed -15.446743948405187\n"
     ]
    },
    {
     "name": "stderr",
     "output_type": "stream",
     "text": [
      "  5%|▍         | 236/5000 [182:46:55<3055:38:42, 2309.05s/it]"
     ]
    },
    {
     "name": "stdout",
     "output_type": "stream",
     "text": [
      "LB Smoothed -15.445699533788996\n"
     ]
    },
    {
     "name": "stderr",
     "output_type": "stream",
     "text": [
      "  5%|▍         | 237/5000 [183:28:09<3120:13:25, 2358.35s/it]"
     ]
    },
    {
     "name": "stdout",
     "output_type": "stream",
     "text": [
      "LB Smoothed -15.443209293688213\n"
     ]
    },
    {
     "name": "stderr",
     "output_type": "stream",
     "text": [
      "  5%|▍         | 238/5000 [184:06:13<3090:18:44, 2336.23s/it]"
     ]
    },
    {
     "name": "stdout",
     "output_type": "stream",
     "text": [
      "LB Smoothed -15.447029270951587\n"
     ]
    },
    {
     "name": "stderr",
     "output_type": "stream",
     "text": [
      "  5%|▍         | 239/5000 [184:43:12<3043:01:12, 2300.96s/it]"
     ]
    },
    {
     "name": "stdout",
     "output_type": "stream",
     "text": [
      "LB Smoothed -15.449755853207906\n"
     ]
    },
    {
     "name": "stderr",
     "output_type": "stream",
     "text": [
      "  5%|▍         | 240/5000 [185:20:10<3009:23:19, 2276.01s/it]"
     ]
    },
    {
     "name": "stdout",
     "output_type": "stream",
     "text": [
      "LB Smoothed -15.439734724857468\n"
     ]
    },
    {
     "name": "stderr",
     "output_type": "stream",
     "text": [
      "  5%|▍         | 241/5000 [185:56:56<2981:13:49, 2255.19s/it]"
     ]
    },
    {
     "name": "stdout",
     "output_type": "stream",
     "text": [
      "LB Smoothed -15.439662391877619\n"
     ]
    },
    {
     "name": "stderr",
     "output_type": "stream",
     "text": [
      "  5%|▍         | 242/5000 [186:34:50<2987:45:58, 2260.60s/it]"
     ]
    },
    {
     "name": "stdout",
     "output_type": "stream",
     "text": [
      "LB Smoothed -15.438845826100637\n"
     ]
    },
    {
     "name": "stderr",
     "output_type": "stream",
     "text": [
      "  5%|▍         | 243/5000 [187:11:32<2964:00:13, 2243.10s/it]"
     ]
    },
    {
     "name": "stdout",
     "output_type": "stream",
     "text": [
      "LB Smoothed -15.432882970660026\n"
     ]
    },
    {
     "name": "stderr",
     "output_type": "stream",
     "text": [
      "  5%|▍         | 243/5000 [187:46:50<3676:01:16, 2781.94s/it]"
     ]
    },
    {
     "name": "stdout",
     "output_type": "stream",
     "text": [
      "LB Smoothed -15.443744346104364\n",
      "Stop at 243\n"
     ]
    },
    {
     "name": "stderr",
     "output_type": "stream",
     "text": [
      "\n"
     ]
    }
   ],
   "source": [
    "vb = GVB(200, transformed_summary_statistics[0], 0.005, 2500, 100, 0.9, 0.9, 50, 50)\n",
    "LB_estimate, smoothed_LB_estimate, best_lambda = vb.vb_posterior(stop)"
   ]
  },
  {
   "cell_type": "code",
   "execution_count": 166,
   "metadata": {},
   "outputs": [
    {
     "data": {
      "text/plain": [
       "array([array([ 0.96740498, -0.49241224,  0.8422718 ]),\n",
       "       array([ 9.37658327, -0.09245502,  0.09248555, 10.40517557, -0.51558615,\n",
       "              10.31113303])                                                   ],\n",
       "      dtype=object)"
      ]
     },
     "execution_count": 166,
     "metadata": {},
     "output_type": "execute_result"
    }
   ],
   "source": [
    "best_lambda"
   ]
  },
  {
   "cell_type": "code",
   "execution_count": null,
   "metadata": {},
   "outputs": [],
   "source": [
    "# best_lambda_untransformed = np.array([np.array([-0.91025911,  0.43886716, -0.20901338, -0.17942595]),\n",
    "#        np.array([11.07381326,  2.14421862,  0.67079883,  1.41588884,  7.3952956 ,\n",
    "#               -0.58787869, -1.87596932,  9.91166966,  0.8760482 , 12.06295651])],\n",
    "#       dtype=object)"
   ]
  },
  {
   "cell_type": "code",
   "execution_count": null,
   "metadata": {},
   "outputs": [],
   "source": [
    "# best_lambda_wass = np.array([np.array([-0.84637604,  0.49732016, -0.20861551, -0.133564  ]),\n",
    "#        np.array([13.2584442 ,  3.25839391,  3.25834736,  3.25839328,  6.74077997,\n",
    "#               -3.25922636, -3.25923237, 13.22206768,  3.16039998, 13.20576727])],\n",
    "#       dtype=object)"
   ]
  },
  {
   "attachments": {},
   "cell_type": "markdown",
   "metadata": {},
   "source": [
    "## PLOT DENSITY PLOT OF ALL COEFFS\n"
   ]
  },
  {
   "cell_type": "code",
   "execution_count": 167,
   "metadata": {},
   "outputs": [
    {
     "data": {
      "text/plain": [
       "<Axes: title={'center': 'Lower Bound Estimate'}>"
      ]
     },
     "execution_count": 167,
     "metadata": {},
     "output_type": "execute_result"
    },
    {
     "data": {
      "text/plain": [
       "<Figure size 640x480 with 0 Axes>"
      ]
     },
     "metadata": {},
     "output_type": "display_data"
    },
    {
     "data": {
      "image/png": "[encoded data removed]",
      "text/plain": [
       "<Figure size 640x480 with 1 Axes>"
      ]
     },
     "metadata": {},
     "output_type": "display_data"
    }
   ],
   "source": [
    "lb_df = pd.DataFrame(np.array(LB_estimate))\n",
    "plt.figure()\n",
    "lb_df.plot(title = 'Lower Bound Estimate', legend = False)"
   ]
  },
  {
   "cell_type": "code",
   "execution_count": 168,
   "metadata": {},
   "outputs": [
    {
     "data": {
      "text/plain": [
       "<Axes: title={'center': 'Smoothed Lower Bound Estimate'}>"
      ]
     },
     "execution_count": 168,
     "metadata": {},
     "output_type": "execute_result"
    },
    {
     "data": {
      "text/plain": [
       "<Figure size 640x480 with 0 Axes>"
      ]
     },
     "metadata": {},
     "output_type": "display_data"
    },
    {
     "data": {
      "image/png": "[encoded data removed]",
      "text/plain": [
       "<Figure size 640x480 with 1 Axes>"
      ]
     },
     "metadata": {},
     "output_type": "display_data"
    }
   ],
   "source": [
    "lb_df = pd.DataFrame(np.array(smoothed_LB_estimate))\n",
    "plt.figure()\n",
    "lb_df.plot(title = 'Smoothed Lower Bound Estimate', legend = False)"
   ]
  },
  {
   "cell_type": "code",
   "execution_count": 170,
   "metadata": {},
   "outputs": [
    {
     "data": {
      "text/plain": [
       "array([ 1.72401287, 38.03298394,  0.62832319])"
      ]
     },
     "execution_count": 170,
     "metadata": {},
     "output_type": "execute_result"
    }
   ],
   "source": [
    "best_mu = best_lambda[0]\n",
    "best_vech_l = list(best_lambda[1])\n",
    "best_l = np.zeros((num_coeffs, num_coeffs))\n",
    "for i in range(num_coeffs):\n",
    "    best_l[i:num_coeffs,i] = best_vech_l[:num_coeffs - i]\n",
    "    del best_vech_l[:num_coeffs-i]\n",
    "best_Sigma_inv = best_l @ best_l.T\n",
    "best_Sigma =  np.linalg.inv(best_Sigma_inv)\n",
    "\n",
    "best_theta_tilde = ss_multivariate_normal.rvs(mean = best_mu, cov = best_Sigma, size = 1000)\n",
    "best_alpha = (2 * np.exp(best_theta_tilde[:,0]) + 1) / (1 + np.exp(best_theta_tilde[:,0]))\n",
    "best_beta = (100 * np.exp(best_theta_tilde[:,1]) + 0) / (np.exp(best_theta_tilde[:,1]) + 1)\n",
    "best_gamma = (0.9 * np.exp(best_theta_tilde[:,2]) + 0) / (np.exp(best_theta_tilde[:,2]) + 1)\n",
    "best_theta = np.array([best_alpha, best_beta, best_gamma])\n",
    "posterior_mean_estimate = np.mean(best_theta, axis = 1)\n",
    "posterior_mean_estimate"
   ]
  },
  {
   "cell_type": "code",
   "execution_count": 171,
   "metadata": {},
   "outputs": [
    {
     "data": {
      "text/plain": [
       "3.033211236159586"
      ]
     },
     "execution_count": 171,
     "metadata": {},
     "output_type": "execute_result"
    }
   ],
   "source": [
    "np.linalg.norm(posterior_mean_estimate - true_theta)"
   ]
  },
  {
   "cell_type": "code",
   "execution_count": null,
   "metadata": {},
   "outputs": [],
   "source": [
    "# best_mu_untransformed = best_lambda_untransformed[0]\n",
    "# best_vech_l_untransformed = list(best_lambda_untransformed[1])\n",
    "# best_l_untransformed = np.zeros((num_coeffs, num_coeffs))\n",
    "# for i in range(num_coeffs):\n",
    "#     best_l_untransformed[i:num_coeffs,i] = best_vech_l_untransformed[:num_coeffs - i]\n",
    "#     del best_vech_l_untransformed[:num_coeffs-i]\n",
    "# best_Sigma_untransformed =  np.linalg.inv(best_l_untransformed @ best_l_untransformed.T)\n",
    "\n",
    "# best_theta_tilde_untransformed = multivariate_normal.rvs(mean = best_mu_untransformed, cov = best_Sigma_untransformed, size = 1000)\n",
    "# best_alpha_untransformed = (2 * np.exp(best_theta_tilde_untransformed[:,0]) + 1.1) / (1 + np.exp(best_theta_tilde_untransformed[:,0]))\n",
    "# best_beta_untransformed = (np.exp(best_theta_tilde_untransformed[:,1]) - 1) / (np.exp(best_theta_tilde_untransformed[:,1]) + 1)\n",
    "# best_gamma_untransformed = np.exp(best_theta_tilde_untransformed[:,2])\n",
    "# best_delta_untransformed = best_theta_tilde_untransformed[:,3]\n",
    "# best_theta_untransformed = np.array([best_alpha_untransformed, best_beta_untransformed, best_gamma_untransformed, best_delta_untransformed])\n",
    "# posterior_mean_estimate_untransformed = np.mean(best_theta_untransformed, axis = 1)\n",
    "# posterior_mean_estimate_untransformed"
   ]
  },
  {
   "cell_type": "code",
   "execution_count": null,
   "metadata": {},
   "outputs": [],
   "source": [
    "# best_mu_wass = best_lambda_wass[0]\n",
    "# best_vech_l_wass = list(best_lambda_wass[1])\n",
    "# best_l_wass = np.zeros((num_coeffs, num_coeffs))\n",
    "# for i in range(num_coeffs):\n",
    "#     best_l_wass[i:num_coeffs,i] = best_vech_l_wass[:num_coeffs - i]\n",
    "#     del best_vech_l_wass[:num_coeffs-i]\n",
    "# best_Sigma_wass =  np.linalg.inv(best_l_wass @ best_l_wass.T)\n",
    "\n",
    "# best_theta_tilde_wass = multivariate_normal.rvs(mean = best_mu_wass, cov = best_Sigma_wass, size = 1000)\n",
    "# best_alpha_wass = (2 * np.exp(best_theta_tilde_wass[:,0]) + 1.1) / (1 + np.exp(best_theta_tilde_wass[:,0]))\n",
    "# best_beta_wass = (np.exp(best_theta_tilde_wass[:,1]) - 1) / (np.exp(best_theta_tilde_wass[:,1]) + 1)\n",
    "# best_gamma_wass = np.exp(best_theta_tilde_wass[:,2])\n",
    "# best_delta_wass = best_theta_tilde_wass[:,3]\n",
    "# best_theta_wass = np.array([best_alpha_wass, best_beta_wass, best_gamma_wass, best_delta_wass])\n",
    "# posterior_mean_estimate_wass = np.mean(best_theta_wass, axis = 1)\n",
    "# posterior_mean_estimate_wass"
   ]
  },
  {
   "cell_type": "code",
   "execution_count": null,
   "metadata": {},
   "outputs": [
    {
     "data": {
      "text/plain": [
       "Text(0.5, 1.0, 'Posterior density of alpha')"
      ]
     },
     "execution_count": 90,
     "metadata": {},
     "output_type": "execute_result"
    },
    {
     "data": {
      "image/png": "[encoded data removed]",
      "text/plain": [
       "<Figure size 432x288 with 1 Axes>"
      ]
     },
     "metadata": {
      "needs_background": "light"
     },
     "output_type": "display_data"
    }
   ],
   "source": [
    "plt.figure()\n",
    "x_plot = np.arange((np.mean(best_alpha)-4*np.std(best_alpha)), (np.mean(best_alpha)+4*np.std(best_alpha)), 0.002)\n",
    "kde = KernelDensity(bandwidth=0.1, kernel='gaussian')\n",
    "kde.fit(best_alpha.reshape(-1, 1))\n",
    "y_plot = kde.score_samples(x_plot.reshape(-1, 1))\n",
    "plt.plot(x_plot, np.exp(y_plot), '-', linewidth=2.0)\n",
    "plt.xlabel(r'$\\alpha$')\n",
    "plt.title('Posterior density of alpha')"
   ]
  },
  {
   "cell_type": "code",
   "execution_count": null,
   "metadata": {},
   "outputs": [],
   "source": [
    "# plt.figure()\n",
    "# #x_plot_mcmc = np.arange((pos_alpha_mean-4*pos_alpha_std), (pos_alpha_mean+4*pos_alpha_std), 0.002)\n",
    "# x_plot = np.arange(min(np.mean(best_alpha_untransformed)-4*np.std(best_alpha_untransformed),np.mean(best_alpha)-4*np.std(best_alpha)), max(np.mean(best_alpha_untransformed)+4*np.std(best_alpha_untransformed), np.mean(best_alpha)+4*np.std(best_alpha)), 0.001)\n",
    "\n",
    "# kde_vb = KernelDensity(bandwidth=0.0055, kernel='gaussian')\n",
    "# kde_vb.fit(best_alpha.reshape(-1, 1))\n",
    "# y_plot_vb = kde_vb.score_samples(x_plot.reshape(-1, 1))\n",
    "\n",
    "# #x_plot_vb = np.arange((np.mean(best_alpha)-4*np.std(best_alpha)), (np.mean(best_alpha)+4*np.std(best_alpha)), 0.002)\n",
    "# kde_vb_untransformed = KernelDensity(bandwidth=0.01, kernel='gaussian')\n",
    "# kde_vb_untransformed.fit(best_alpha_untransformed.reshape(-1, 1))\n",
    "# y_plot_vb_untransformed = kde_vb_untransformed.score_samples(x_plot.reshape(-1, 1))\n",
    "\n",
    "# kde_vb_wass = KernelDensity(bandwidth=0.01, kernel='gaussian')\n",
    "# kde_vb_wass.fit(best_alpha_wass.reshape(-1, 1))\n",
    "# y_plot_vb_wass = kde_vb_wass.score_samples(x_plot.reshape(-1, 1))\n",
    "\n",
    "# plt.plot(x_plot, np.exp(y_plot_vb_untransformed), '-', linewidth=2.0, label = 'VB - BSL')\n",
    "# plt.plot(x_plot, np.exp(y_plot_vb_wass), '-', linewidth=2.0, label = 'WG - VB - BSL')\n",
    "# plt.plot(x_plot, np.exp(y_plot_vb), '-', linewidth=2.0, label = 'VB - rBSL')\n",
    "# # only one line may be specified; full height\n",
    "# plt.axvline(x = 1.5, ymin = 0, ymax = max(y_plot_vb_untransformed), color = 'black', label = 'True alpha')\n",
    "\n",
    "# plt.legend()\n",
    "# plt.xlabel(r'$\\alpha$')\n",
    "# plt.title('Posterior density of alpha')\n"
   ]
  },
  {
   "cell_type": "code",
   "execution_count": null,
   "metadata": {},
   "outputs": [
    {
     "data": {
      "text/plain": [
       "Text(0.5, 1.0, 'Posterior density of beta')"
      ]
     },
     "execution_count": 96,
     "metadata": {},
     "output_type": "execute_result"
    },
    {
     "data": {
      "image/png": "[encoded data removed]",
      "text/plain": [
       "<Figure size 432x288 with 1 Axes>"
      ]
     },
     "metadata": {
      "needs_background": "light"
     },
     "output_type": "display_data"
    }
   ],
   "source": [
    "plt.figure()\n",
    "x_plot = np.arange((np.mean(best_beta)-4*np.std(best_beta)), (np.mean(best_beta)+4*np.std(best_beta)), 0.002)\n",
    "kde = KernelDensity(bandwidth=0.7, kernel='gaussian')\n",
    "kde.fit(best_beta.reshape(-1, 1))\n",
    "y_plot = kde.score_samples(x_plot.reshape(-1, 1))\n",
    "plt.plot(x_plot, np.exp(y_plot), '-', linewidth=2.0)\n",
    "plt.xlabel(r'$\\beta$')\n",
    "plt.title('Posterior density of beta')"
   ]
  },
  {
   "cell_type": "code",
   "execution_count": null,
   "metadata": {},
   "outputs": [
    {
     "data": {
      "text/plain": [
       "Text(0.5, 1.0, 'Posterior density of gamma')"
      ]
     },
     "execution_count": 97,
     "metadata": {},
     "output_type": "execute_result"
    },
    {
     "data": {
      "image/png": "[encoded data removed]",
      "text/plain": [
       "<Figure size 432x288 with 1 Axes>"
      ]
     },
     "metadata": {
      "needs_background": "light"
     },
     "output_type": "display_data"
    }
   ],
   "source": [
    "plt.figure()\n",
    "x_plot = np.arange((np.mean(best_gamma)-4*np.std(best_gamma)), (np.mean(best_gamma)+4*np.std(best_gamma)), 0.002)\n",
    "kde = KernelDensity(bandwidth=0.05, kernel='gaussian')\n",
    "kde.fit(best_gamma.reshape(-1, 1))\n",
    "y_plot = kde.score_samples(x_plot.reshape(-1, 1))\n",
    "plt.plot(x_plot, np.exp(y_plot), '-', linewidth=2.0)\n",
    "plt.xlabel(r'$\\gamma$')\n",
    "plt.title('Posterior density of gamma')"
   ]
  },
  {
   "attachments": {},
   "cell_type": "markdown",
   "metadata": {},
   "source": [
    "## VBSL-WG"
   ]
  },
  {
   "cell_type": "code",
   "execution_count": null,
   "metadata": {},
   "outputs": [],
   "source": [
    "def prior(theta): \n",
    "    log_prior = np.sum(np.log(np.exp(theta) / (1 + np.exp(theta))**2))\n",
    "    return log_prior"
   ]
  },
  {
   "cell_type": "code",
   "execution_count": null,
   "metadata": {},
   "outputs": [],
   "source": [
    "def summary_statistics(theta, n_samples, n_datasets, mixture_obj_seq):\n",
    "    datasets = toad(theta[0], theta[1], theta[2],batch_size=n_datasets)\n",
    "    n_summary_statistics = np.array([compute_summaries_stacked(datasets[:,:,i], lags)[0] for i in range(n_datasets)])\n",
    "    # Wasserstein transform\n",
    "    transformed_summary_statistics = wasserstein_transform(mixture_obj_seq, n_summary_statistics)\n",
    "\n",
    "    sample_mean = np.mean(transformed_summary_statistics, axis = 0)\n",
    "    sample_variance = np.cov(np.array(transformed_summary_statistics).T)\n",
    "    return sample_mean, sample_variance\n",
    "\n",
    "def unbiased_log_likelihood(theta, actual_summary_statistics):\n",
    "    ss = summary_statistics(theta, n_samples, num_datasets, mixture_obj_seq)\n",
    "    sample_mean = ss[0]\n",
    "    sample_variance = ss[1]\n",
    "    diff_mean_s = actual_summary_statistics - sample_mean\n",
    "    part1 = diff_mean_s.T @ np.linalg.inv(sample_variance) @ diff_mean_s\n",
    "    # u_est_log_likelihood = -1/2 * np.log(np.linalg.det(sample_variance)) - (self.num_datasets - self.num_coeffs - 2) / (2 * (self.num_datasets-1)) * part1\n",
    "    u_est_log_likelihood = -1/2 * np.log(np.linalg.det(sample_variance)) - part1\n",
    "    return u_est_log_likelihood"
   ]
  },
  {
   "cell_type": "code",
   "execution_count": null,
   "metadata": {},
   "outputs": [],
   "source": [
    "class GVB:\n",
    "    def __init__(self, samples, actual_summary_statistics, learning_rate, threshold, l_threshold, adaptive_lr_1, adaptive_lr_2, t_w, Patience):\n",
    "        self.samples = samples\n",
    "        self.actual_summary_statistics = actual_summary_statistics\n",
    "        self.num_datasets = 200 # number of datasets\n",
    "        self.num_coeffs = 3 # number of coeffs\n",
    "        self.lambda_dim = self.num_coeffs + int((self.num_coeffs * (self.num_coeffs + 1)) / 2)\n",
    "        self.learning_rate = learning_rate\n",
    "        self.threshold = threshold\n",
    "        self.l_threshold = l_threshold\n",
    "        self.adaptive_lr_1 = adaptive_lr_1\n",
    "        self.adaptive_lr_2 = adaptive_lr_2\n",
    "        self.t_w = t_w\n",
    "        self.Patience = Patience\n",
    "\n",
    "    def log_q(self, theta, mu, l):\n",
    "        log_q = multivariate_normal.logpdf(theta, mean = mu, cov= np.linalg.inv(l @ l.T))\n",
    "        return log_q\n",
    "\n",
    "    def gradient_log_q(self, theta, mu, l): #indep theta\n",
    "        gradient_log_q_mu = np.matmul(np.matmul(l, l.T), (theta - mu))\n",
    "        diag_inv_l = np.zeros((num_coeffs, num_coeffs))\n",
    "        np.fill_diagonal(diag_inv_l, np.diag(np.linalg.inv(l)))\n",
    "        gradient_log_q_l = (diag_inv_l - np.reshape(theta - mu, (num_coeffs,1)) @ np.reshape(theta - mu, (1,num_coeffs)) @ l).T[np.triu_indices(num_coeffs)] #use * because matmul gives scalar \n",
    "        gradient_log_q = np.array([gradient_log_q_mu, gradient_log_q_l], dtype=object)\n",
    "        return gradient_log_q\n",
    "\n",
    "    def control_variates(self, Flat_grad_log_q, Flat_grad_lb):\n",
    "        c = []\n",
    "        stacked_gradient_lb = np.stack(Flat_grad_lb)\n",
    "        stacked_gradient_log_q = np.stack(Flat_grad_log_q)\n",
    "        for i in range(self.lambda_dim):\n",
    "            sample_cov = np.cov((stacked_gradient_lb[:, i], stacked_gradient_log_q[:, i]))\n",
    "            c_i = sample_cov[0, 1] / sample_cov[1, 1]\n",
    "            c.append(c_i)\n",
    "        c_mu = np.array(c[0:self.num_coeffs])\n",
    "        c_vech_l = np.array(c[self.num_coeffs:])\n",
    "        return np.array([c_mu, c_vech_l], dtype = object)\n",
    "\n",
    "    def vb_posterior(self, stop):\n",
    "        # Initialize mu_0, L_0\n",
    "        # mu_0 = np.array([np.log((self.actual_summary_statistics[0]-1.1)/(2-self.actual_summary_statistics[0])), np.log((1+self.actual_summary_statistics[1])/(1-self.actual_summary_statistics[1])), np.log(self.actual_summary_statistics[2]), self.actual_summary_statistics[3]])\n",
    "        #mu_0 = np.array([1.5, 0.5, 3, 0])\n",
    "        # mu_0 = np.array([np.log((true_theta[0] - 1)/(2 - true_theta[0])),np.log((true_theta[1] - 0)/(100 - true_theta[1])),np.log((true_theta[2] - 0)/(0.9 - true_theta[2]))])\n",
    "        #mu_0 = np.array([self.actual_summary_statistics[0], self.actual_summary_statistics[1], self.actual_summary_statistics[2], self.actual_summary_statistics[3]])\n",
    "        mu_0 = np.array([0] * self.num_coeffs)\n",
    "        # l_0 = np.array([[ 3.94992238, -2.12969451,  0.47239626],\n",
    "        #                 [-2.12969451, 21.85908684, -1.45228054],\n",
    "        #                 [ 0.47239626, -1.45228054, 15.84326737]])\n",
    "        l_0 = np.tril(np.identity(self.num_coeffs) * 10)\n",
    "        Sigma_0_inv = l_0 @ l_0.T\n",
    "        Sigma_0 = np.linalg.inv(Sigma_0_inv)\n",
    "        l_0_inv = np.linalg.inv(l_0)\n",
    "        ### Change ways to get vech(l0)\n",
    "        vech_l0 = l_0.T[np.triu_indices(self.num_coeffs)]\n",
    "\n",
    "        lambda_0 = np.array([mu_0, vech_l0], dtype = object)\n",
    "        lambda_q = lambda_0\n",
    "        # Initilize best lambda\n",
    "        lambda_best = lambda_0\n",
    "        # List of Lambda\n",
    "        Lambda = [lambda_0]\n",
    "        # List of calculations of LB\n",
    "        LB_all = []\n",
    "        LB_Smoothed = []\n",
    "        patience = 0\n",
    "        # List of flattened gradients\n",
    "        Flattened_gradient_lb = []\n",
    "        Flattened_gradient_log_q = []\n",
    "        for t in tqdm(range(stop)):\n",
    "            if t == 0:        \n",
    "                # Draw samples of theta from  variational q\n",
    "                # List of gradients\n",
    "                Gradient_lb_init = []\n",
    "                lb_0 = []\n",
    "                theta_0_samples = multivariate_normal.rvs(mean = mu_0, cov = Sigma_0, size = self.samples)\n",
    "                for s in tqdm(range(self.samples)):\n",
    "                    # True params have been reparam into epsilon\n",
    "                    theta_tilde_0 = theta_0_samples[s]\n",
    "                    alpha_0 = (2 * np.exp(theta_tilde_0[0]) + 1) / (1 + np.exp(theta_tilde_0[0]))\n",
    "                    beta_0 = (100 * np.exp(theta_tilde_0[1]) + 0) / (1 + np.exp(theta_tilde_0[1]))\n",
    "                    gamma_0 = (0.9 * np.exp(theta_tilde_0[2]) + 0) / (1 + np.exp(theta_tilde_0[2]))\n",
    "                    theta_0 = np.array([alpha_0, beta_0, gamma_0])\n",
    "                    \n",
    "                    # Find gradient of LB\n",
    "                    h_lambda_init = prior(theta_tilde_0) + unbiased_log_likelihood(theta_0, self.actual_summary_statistics) - self.log_q(theta_tilde_0, mu_0, l_0)\n",
    "                    gradient_lb_init = self.gradient_log_q(theta_tilde_0, mu_0, l_0) * (h_lambda_init)\n",
    "                    Gradient_lb_init.append(gradient_lb_init)\n",
    "                    # Calculate control variates\n",
    "                    flattened_gradient_log_q = np.concatenate((self.gradient_log_q(theta_tilde_0, mu_0, l_0)[0], self.gradient_log_q(theta_tilde_0, mu_0, l_0)[1]), axis = None)\n",
    "                    Flattened_gradient_log_q.append(flattened_gradient_log_q)\n",
    "                    flattened_gradient_lb = np.concatenate((gradient_lb_init[0], gradient_lb_init[1]), axis = None)\n",
    "                    Flattened_gradient_lb.append(flattened_gradient_lb)\n",
    "                    # Calculate lower bound\n",
    "                    lb_0.append(h_lambda_init)\n",
    "                # Calculate control variates using all samples\n",
    "                c = self.control_variates(Flattened_gradient_log_q, Flattened_gradient_lb)\n",
    "                # Update lambda_q\n",
    "                self.g_init = np.mean(Gradient_lb_init, axis = 0)\n",
    "                # Gradient clipping\n",
    "                if np.linalg.norm(np.concatenate(self.g_init, axis = None)) > self.l_threshold:\n",
    "                    self.g_init = self.l_threshold * self.g_init / np.linalg.norm(np.concatenate(self.g_init, axis = None))\n",
    "                self.v_init = self.g_init ** 2\n",
    "                # Calculate lower bound\n",
    "                LB_all.append(np.mean(lb_0))\n",
    "                print('LB', (np.mean(lb_0)))\n",
    "                lambda_q = lambda_0\n",
    "\n",
    "            if t > 0:\n",
    "                # From lambda_q find mu_q and L_q\n",
    "                mu_q = lambda_q[0]\n",
    "\n",
    "                ### Change ways to convert from vech_l0 to l0\n",
    "                vech_lq = list(lambda_q[1])\n",
    "                l_q = np.zeros((self.num_coeffs, self.num_coeffs))\n",
    "                # l_q[:, 0] = lambda_q[1][0:self.num_coeffs]\n",
    "                # l_q[1:self.num_coeffs, 1] = lambda_q[1][4:7]\n",
    "                # l_q[2:self.num_coeffs, 2] = lambda_q[1][7:9]\n",
    "                # l_q[3:self.num_coeffs, 3] = lambda_q[1][9:10]\n",
    "                for i in range(self.num_coeffs):\n",
    "                    l_q[i:self.num_coeffs,i] = vech_lq[:self.num_coeffs - i]\n",
    "                    del vech_lq[:self.num_coeffs-i]\n",
    "\n",
    "                Sigma_q_inv = l_q @ l_q.T\n",
    "                Sigma_q =  np.linalg.inv(Sigma_q_inv)\n",
    "                l_q_inv =  np.linalg.inv(l_q)\n",
    "                # List of gradients\n",
    "                Gradient_lb = []\n",
    "                lb_t = []\n",
    "                theta_q_samples = multivariate_normal.rvs(mean = mu_q, cov = Sigma_q, size = self.samples)\n",
    "                for s in range(self.samples):\n",
    "                    theta_tilde_q = theta_q_samples[s]\n",
    "                    # Calculate theta from mu, l (lambda)\n",
    "                    alpha_q = (2 * np.exp(theta_tilde_q[0]) + 1) / (1 + np.exp(theta_tilde_q[0]))\n",
    "                    beta_q = (100 * np.exp(theta_tilde_q[1]) + 0) / (1 + np.exp(theta_tilde_q[1]))\n",
    "                    gamma_q = (0.9 * np.exp(theta_tilde_q[2]) + 0) / (1 + np.exp(theta_tilde_q[2]))\n",
    "                    theta_q = np.array([alpha_q, beta_q, gamma_q])\n",
    "                    \n",
    "                    # Find gradient of LB\n",
    "                    h_lambda = prior(theta_tilde_q) + unbiased_log_likelihood(theta_q, self.actual_summary_statistics) - self.log_q(theta_tilde_q, mu_q, l_q)\n",
    "                    # Find gradient of LB\n",
    "                    gradient_lb = self.gradient_log_q(theta_tilde_q, mu_q, l_q) * (h_lambda - c)\n",
    "\n",
    "                    Gradient_lb.append(gradient_lb)\n",
    "                    # Calculate control variates\n",
    "                    Flattened_gradient_log_q[s] = np.concatenate((self.gradient_log_q(theta_tilde_q, mu_q, l_q)[0], self.gradient_log_q(theta_tilde_q, mu_q, l_q)[1]), axis = None)\n",
    "                    Flattened_gradient_lb[s] = np.concatenate((gradient_lb[0], gradient_lb[1]), axis = None)\n",
    "                    # Calc lower bound estimate\n",
    "                    lb_t.append(h_lambda)\n",
    "                # Update control variates\n",
    "                c = self.control_variates(Flattened_gradient_log_q, Flattened_gradient_lb)\n",
    "                # Calc gradient of h\n",
    "                g_t = np.mean(Gradient_lb, axis = 0)\n",
    "                # Gradient clipping\n",
    "                if np.linalg.norm(np.concatenate(g_t, axis = None)) > self.l_threshold:\n",
    "                    g_t = self.l_threshold * g_t / np.linalg.norm(np.concatenate(g_t, axis = None))\n",
    "                v_t = g_t ** 2\n",
    "\n",
    "                #---- Update lambda\n",
    "                self.g_init = self.adaptive_lr_1 * self.g_init + (1 - self.adaptive_lr_1) * g_t\n",
    "                self.v_init = self.adaptive_lr_2 * self.v_init + (1 - self.adaptive_lr_2) * v_t\n",
    "                if t >= self.threshold:\n",
    "                    update_t = self.learning_rate * self.threshold / t\n",
    "                else:\n",
    "                    update_t = self.learning_rate\n",
    "\n",
    "                lambda_q = lambda_q + update_t * self.g_init / (self.v_init ** 0.5)\n",
    "                Lambda.append(lambda_q)\n",
    "                # Calculate lower bound\n",
    "                LB_all.append(np.mean(lb_t))\n",
    "\n",
    "                if t < self.t_w:\n",
    "                    print('LB', np.mean(lb_t))\n",
    "\n",
    "                if t >= self.t_w:\n",
    "                    LB_smoothed = np.mean(LB_all[t - self.t_w + 1 : t])\n",
    "                    print('LB Smoothed', LB_smoothed)\n",
    "                    LB_Smoothed.append(LB_smoothed)\n",
    "                    if LB_smoothed >= max(LB_Smoothed):\n",
    "                        patience = 0\n",
    "                        lambda_best = lambda_q\n",
    "                    else:\n",
    "                        patience += 1\n",
    "                        if patience > self.Patience:\n",
    "                            print(\"Stop at\", t)\n",
    "                            break\n",
    "\n",
    "        return LB_all, LB_Smoothed, lambda_best"
   ]
  },
  {
   "cell_type": "code",
   "execution_count": null,
   "metadata": {},
   "outputs": [
    {
     "ename": "NameError",
     "evalue": "name 'transformed_summary_statistics' is not defined",
     "output_type": "error",
     "traceback": [
      "\u001b[1;31m---------------------------------------------------------------------------\u001b[0m",
      "\u001b[1;31mNameError\u001b[0m                                 Traceback (most recent call last)",
      "Cell \u001b[1;32mIn[46], line 1\u001b[0m\n\u001b[1;32m----> 1\u001b[0m nn_vb \u001b[39m=\u001b[39m GVB(\u001b[39m200\u001b[39m, transformed_summary_statistics[\u001b[39m0\u001b[39m], \u001b[39m0.005\u001b[39m, \u001b[39m2500\u001b[39m, \u001b[39m100\u001b[39m, \u001b[39m0.9\u001b[39m, \u001b[39m0.9\u001b[39m, \u001b[39m50\u001b[39m, \u001b[39m50\u001b[39m)\n\u001b[0;32m      2\u001b[0m nn_LB_estimate, nn_smoothed_LB_estimate, nn_best_lambda \u001b[39m=\u001b[39m nn_vb\u001b[39m.\u001b[39mvb_posterior(stop)\n",
      "\u001b[1;31mNameError\u001b[0m: name 'transformed_summary_statistics' is not defined"
     ]
    }
   ],
   "source": [
    "nn_vb = GVB(200, transformed_summary_statistics[0], 0.005, 2500, 100, 0.9, 0.9, 50, 50)\n",
    "nn_LB_estimate, nn_smoothed_LB_estimate, nn_best_lambda = nn_vb.vb_posterior(stop)"
   ]
  },
  {
   "cell_type": "code",
   "execution_count": null,
   "metadata": {},
   "outputs": [
    {
     "data": {
      "text/plain": [
       "array([array([ 0.7346095 , -0.70012037,  0.67198676]),\n",
       "       array([ 4.36810339, -2.42016574,  0.40744222, 22.2448585 , -1.47434547,\n",
       "              16.14305194])                                                   ],\n",
       "      dtype=object)"
      ]
     },
     "execution_count": 59,
     "metadata": {},
     "output_type": "execute_result"
    }
   ],
   "source": [
    "nn_best_lambda"
   ]
  },
  {
   "cell_type": "code",
   "execution_count": null,
   "metadata": {},
   "outputs": [
    {
     "data": {
      "text/plain": [
       "<AxesSubplot: title={'center': 'Smoothed Lower Bound Estimate'}>"
      ]
     },
     "execution_count": 60,
     "metadata": {},
     "output_type": "execute_result"
    },
    {
     "data": {
      "text/plain": [
       "<Figure size 640x480 with 0 Axes>"
      ]
     },
     "metadata": {},
     "output_type": "display_data"
    },
    {
     "data": {
      "image/png": "[encoded data removed]",
      "text/plain": [
       "<Figure size 640x480 with 1 Axes>"
      ]
     },
     "metadata": {},
     "output_type": "display_data"
    }
   ],
   "source": [
    "lb_df = pd.DataFrame(np.array(nn_smoothed_LB_estimate))\n",
    "plt.figure()\n",
    "lb_df.plot(title = 'Smoothed Lower Bound Estimate', legend = False)"
   ]
  },
  {
   "cell_type": "code",
   "execution_count": null,
   "metadata": {},
   "outputs": [
    {
     "data": {
      "text/plain": [
       "array([ 1.67309654, 33.20753569,  0.59541459])"
      ]
     },
     "execution_count": 64,
     "metadata": {},
     "output_type": "execute_result"
    }
   ],
   "source": [
    "best_mu = nn_best_lambda[0]\n",
    "best_vech_l = list(nn_best_lambda[1])\n",
    "best_l = np.zeros((num_coeffs, num_coeffs))\n",
    "for i in range(num_coeffs):\n",
    "    best_l[i:num_coeffs,i] = best_vech_l[:num_coeffs - i]\n",
    "    del best_vech_l[:num_coeffs-i]\n",
    "best_Sigma_inv = best_l @ best_l.T\n",
    "best_Sigma =  np.linalg.inv(best_Sigma_inv)\n",
    "\n",
    "best_theta_tilde = multivariate_normal.rvs(mean = best_mu, cov = best_Sigma, size = 1000)\n",
    "best_alpha = (2 * np.exp(best_theta_tilde[:,0]) + 1) / (1 + np.exp(best_theta_tilde[:,0]))\n",
    "best_beta = (100 * np.exp(best_theta_tilde[:,1]) + 0) / (1 + np.exp(best_theta_tilde[:,1]))\n",
    "best_gamma = (0.9 * np.exp(best_theta_tilde[:,2]) + 0) / (1 + np.exp(best_theta_tilde[:,2]))\n",
    "best_theta = np.array([best_alpha, best_beta, best_gamma])\n",
    "posterior_mean_estimate = np.mean(best_theta, axis = 1)\n",
    "posterior_mean_estimate"
   ]
  },
  {
   "cell_type": "code",
   "execution_count": null,
   "metadata": {},
   "outputs": [],
   "source": [
    "# num_samples = 50000\n",
    "# num_burnin = 0.2 * num_samples"
   ]
  },
  {
   "cell_type": "code",
   "execution_count": null,
   "metadata": {},
   "outputs": [],
   "source": [
    "# def sampler(samples):\n",
    "\n",
    "# \t# ------------------- initialize MCMC\n",
    "\n",
    "# \tw_size = num_coeffs  # num of weights and bias\n",
    "\n",
    "# \tpos_w = np.ones((samples, w_size))  # posterior of all weights and bias over all samples\n",
    "# \tpos_w_tilde = np.ones((samples, w_size))\n",
    "\n",
    "# \tw_tilde = np.array([np.log((1.5-1.1)/(2-1.5)),np.log((0.5+1)/(1-0.5)),np.log(1),0])\n",
    "# \t# w_tilde = [np.log((actual_summary_statistics[0]-1.1)/(2-actual_summary_statistics[0])), np.log((1+actual_summary_statistics[1])/(1-actual_summary_statistics[1])), np.log(actual_summary_statistics[2]), actual_summary_statistics[3]]\n",
    "\n",
    "# \talpha = (2 * np.exp(w_tilde[0]) + 1.1) / (1 + np.exp(w_tilde[0]))\n",
    "# \tbeta = (np.exp(w_tilde[1]) - 1) / (np.exp(w_tilde[1]) + 1)\n",
    "# \tgamma = np.exp(w_tilde[2])\n",
    "# \tdelta = w_tilde[3]\n",
    "# \tw = np.array([alpha, beta, gamma, delta])\n",
    "\n",
    "# \t# GENERATE GAMMA\n",
    "# \tGamma_init = np.random.exponential(scale = 0.5, size = (gamma_samples, num_latent))\n",
    "# \tadjusted_w = np.concatenate((np.tile(w, (gamma_samples, 1)), Gamma_init), axis = 1)\n",
    "# \t# --------------------- \n",
    "\n",
    "# \tprior_current = prior(w_tilde)  # takes care of the gradients\n",
    "\n",
    "# \tlikelihood_current = variance_adjustment_unbiased_log_likelihood(adjusted_w)\n",
    "\n",
    "# \tnaccept = 0\n",
    "\t\t\n",
    "# \tfor i in range(samples - 1):\n",
    "# \t\tif i < 2000:\n",
    "# \t\t\tw_proposal_tilde = multivariate_normal.rvs(mean = w_tilde, cov = ((0.1**2/w_size) * np.identity(w_size)))\n",
    "# \t\telse:\n",
    "# \t\t\tif i % 500 == 0:\n",
    "# \t\t\t\tSign = np.cov(pos_w_tilde[0:i, :].T)\n",
    "# \t\t\tu_proposal = random.uniform(0, 1)\n",
    "# \t\t\tif u_proposal < 0.05:\n",
    "# \t\t\t\tw_proposal_tilde = multivariate_normal.rvs(mean = w_tilde, cov = ((0.1**2/w_size) * np.identity(w_size)))\n",
    "# \t\t\telse:\n",
    "# \t\t\t\tw_proposal_tilde = multivariate_normal.rvs(mean = w_tilde, cov = (2.38**2/w_size) * Sign)\n",
    "\n",
    "# \t\talpha_prop = (2 * np.exp(w_proposal_tilde[0]) + 1.1) / (1 + np.exp(w_proposal_tilde[0]))\n",
    "# \t\tbeta_prop = (np.exp(w_proposal_tilde[1]) - 1) / (np.exp(w_proposal_tilde[1]) + 1)\n",
    "# \t\tgamma_prop = np.exp(w_proposal_tilde[2])\n",
    "# \t\tdelta_prop = w_proposal_tilde[3]\n",
    "# \t\tw_proposal = np.array([alpha_prop, beta_prop, gamma_prop, delta_prop])\n",
    "\n",
    "# \t\t# GENERATE GAMMA\n",
    "# \t\tGamma = np.random.exponential(scale = 0.5, size = (gamma_samples, num_latent))\n",
    "# \t\tadjusted_w_proposal = np.concatenate((np.tile(w_proposal, (gamma_samples, 1)), Gamma), axis = 1)\n",
    "# \t\t# --------------------- \n",
    "\n",
    "# \t\tprior_proposal = prior(w_proposal_tilde)  # takes care of the gradients\n",
    "# \t\tlikelihood_proposal = variance_adjustment_unbiased_log_likelihood(adjusted_w_proposal)\n",
    "\n",
    "# \t\tdiff_prior = prior_proposal - prior_current\n",
    "\n",
    "# \t\tdiff_likelihood = likelihood_proposal - likelihood_current\n",
    "\n",
    "# \t\ttry:\n",
    "# \t\t\tmh_prob = min(1, math.exp(diff_likelihood+diff_prior))\n",
    "\n",
    "# \t\texcept OverflowError as e:\n",
    "# \t\t\tmh_prob = 1\n",
    "\n",
    "\n",
    "# \t\tu = random.uniform(0, 1)\n",
    "\n",
    "# \t\tif u < mh_prob:\n",
    "# \t\t\t# Update position \n",
    "# \t\t\tnaccept += 1\n",
    "# \t\t\tlikelihood_current = likelihood_proposal\n",
    "# \t\t\tprior_current = prior_proposal\n",
    "# \t\t\tw_tilde = w_proposal_tilde\n",
    "# \t\t\tw = w_proposal\n",
    "# \t\t\tpos_w_tilde[i + 1,] = w_proposal_tilde\t\n",
    "# \t\t\tpos_w[i + 1,] = w_proposal\n",
    "# \t\t\tprint(i, pos_w[i + 1,])\n",
    "\n",
    "# \t\telse:\n",
    "# \t\t\tpos_w_tilde[i + 1,] = pos_w_tilde[i,]\n",
    "# \t\t\tpos_w[i + 1,] = pos_w[i,]\n",
    "\n",
    "# \tprint(naccept, ' num accepted')\n",
    "# \tprint(naccept / (samples * 1.0) * 100, '% was accepted')\n",
    "# \taccept_ratio = naccept / (samples * 1.0) * 100\n",
    "\n",
    "# \treturn (pos_w, pos_w_tilde, accept_ratio)"
   ]
  },
  {
   "cell_type": "code",
   "execution_count": null,
   "metadata": {},
   "outputs": [],
   "source": [
    "# pos_w, pos_w_tilde, accept_ratio = sampler(num_samples)"
   ]
  },
  {
   "cell_type": "code",
   "execution_count": null,
   "metadata": {},
   "outputs": [],
   "source": [
    "# pos_w = np.loadtxt('mcmc_w_varobust.txt')\n",
    "# pos_w_tilde = np.loadtxt('mcmc_w_tilde_varobust.txt')"
   ]
  },
  {
   "cell_type": "code",
   "execution_count": null,
   "metadata": {},
   "outputs": [],
   "source": [
    "# plt.figure()\n",
    "# pos_alpha_mean = np.mean(pos_w[int(num_burnin):,0])\n",
    "# pos_alpha_std = np.std(pos_w[int(num_burnin):,0])\n",
    "# x_plot = np.arange((pos_alpha_mean-4*pos_alpha_std), (pos_alpha_mean+4*pos_alpha_std), 0.001)\n",
    "# kde = KernelDensity(bandwidth=0.1, kernel='gaussian')\n",
    "# kde.fit(pos_w[int(num_burnin):,0].reshape(-1, 1))\n",
    "# y_plot = kde.score_samples(x_plot.reshape(-1, 1))\n",
    "# plt.plot(x_plot, np.exp(y_plot), '-', linewidth=2.0)\n",
    "# plt.xlabel(r'$\\alpha$')\n",
    "# plt.title('Posterior density of alpha')"
   ]
  },
  {
   "cell_type": "code",
   "execution_count": null,
   "metadata": {},
   "outputs": [],
   "source": [
    "# plt.figure()\n",
    "# pos_alpha_mean = np.mean(pos_w[int(num_burnin):,0])\n",
    "# pos_alpha_std = np.std(pos_w[int(num_burnin):,0])\n",
    "# #x_plot_mcmc = np.arange((pos_alpha_mean-4*pos_alpha_std), (pos_alpha_mean+4*pos_alpha_std), 0.002)\n",
    "# x_plot = np.arange(min(pos_alpha_mean-4*pos_alpha_std,np.mean(best_alpha)-4*np.std(best_alpha)), max(pos_alpha_mean+4*pos_alpha_std, np.mean(best_alpha)+4*np.std(best_alpha)), 0.001)\n",
    "# kde_mcmc = KernelDensity(bandwidth=0.075, kernel='gaussian')\n",
    "# kde_mcmc.fit(pos_w[int(num_burnin):,0].reshape(-1, 1))\n",
    "# y_plot_mcmc = kde_mcmc.score_samples(x_plot.reshape(-1, 1))\n",
    "\n",
    "# #x_plot_vb = np.arange((np.mean(best_alpha)-4*np.std(best_alpha)), (np.mean(best_alpha)+4*np.std(best_alpha)), 0.002)\n",
    "# kde_vb = KernelDensity(bandwidth=0.155, kernel='gaussian')\n",
    "# kde_vb.fit(best_alpha.reshape(-1, 1))\n",
    "# y_plot_vb = kde_vb.score_samples(x_plot.reshape(-1, 1))\n",
    "\n",
    "# plt.plot(x_plot, np.exp(y_plot_mcmc), '-', linewidth=2.0, label = 'MCMC')\n",
    "# plt.plot(x_plot, np.exp(y_plot_vb), '-', linewidth=2.0, label = 'VB')\n",
    "\n",
    "# plt.legend()\n",
    "# plt.xlabel(r'$\\alpha$')\n",
    "# plt.title('Posterior density of alpha')\n"
   ]
  },
  {
   "cell_type": "code",
   "execution_count": null,
   "metadata": {},
   "outputs": [],
   "source": [
    "# plt.figure()\n",
    "\n",
    "# pos_beta_mean = np.mean(pos_w[int(num_burnin):,1])\n",
    "# pos_beta_std = np.std(pos_w[int(num_burnin):,1])\n",
    "# x_plot = np.arange((pos_beta_mean-4*pos_beta_std), (pos_beta_mean+4*pos_beta_std), 0.001)\n",
    "# kde = KernelDensity(bandwidth=0.1, kernel='gaussian')\n",
    "# kde.fit(pos_w[int(num_burnin):,1].reshape(-1, 1))\n",
    "# y_plot = kde.score_samples(x_plot.reshape(-1, 1))\n",
    "# plt.plot(x_plot, np.exp(y_plot), '-', linewidth=2.0)\n",
    "# plt.xlabel(r'$\\beta$')\n",
    "# plt.title('Posterior density of beta')"
   ]
  },
  {
   "cell_type": "code",
   "execution_count": null,
   "metadata": {},
   "outputs": [],
   "source": [
    "# plt.figure()\n",
    "# pos_beta_mean = np.mean(pos_w[int(num_burnin):,1])\n",
    "# pos_beta_std = np.std(pos_w[int(num_burnin):,1])\n",
    "# #x_plot_mcmc = np.arange((pos_alpha_mean-4*pos_alpha_std), (pos_alpha_mean+4*pos_alpha_std), 0.002)\n",
    "# x_plot = np.arange(min(pos_beta_mean-4*pos_beta_std,np.mean(best_beta)-4*np.std(best_beta)), max(pos_beta_mean+4*pos_beta_std, np.mean(best_beta)+4*np.std(best_beta)), 0.001)\n",
    "# kde_mcmc = KernelDensity(bandwidth=0.1, kernel='gaussian')\n",
    "# kde_mcmc.fit(pos_w[int(num_burnin):,1].reshape(-1, 1))\n",
    "# y_plot_mcmc = kde_mcmc.score_samples(x_plot.reshape(-1, 1))\n",
    "\n",
    "# #x_plot_vb = np.arange((np.mean(best_alpha)-4*np.std(best_alpha)), (np.mean(best_alpha)+4*np.std(best_alpha)), 0.002)\n",
    "# kde_vb = KernelDensity(bandwidth=0.35, kernel='gaussian')\n",
    "# kde_vb.fit(best_beta.reshape(-1, 1))\n",
    "# y_plot_vb = kde_vb.score_samples(x_plot.reshape(-1, 1))\n",
    "\n",
    "# plt.plot(x_plot, np.exp(y_plot_mcmc), '-', linewidth=2.0, label = 'MCMC')\n",
    "# plt.plot(x_plot, np.exp(y_plot_vb), '-', linewidth=2.0, label = 'VB')\n",
    "\n",
    "# plt.legend()\n",
    "# plt.xlabel(r'$\\beta$')\n",
    "# plt.title('Posterior density of beta')\n"
   ]
  },
  {
   "cell_type": "code",
   "execution_count": null,
   "metadata": {},
   "outputs": [],
   "source": [
    "# plt.figure()\n",
    "\n",
    "# pos_gamma_mean = np.mean(pos_w[int(num_burnin):,2])\n",
    "# pos_gamma_std = np.std(pos_w[int(num_burnin):,2])\n",
    "# x_plot = np.arange((pos_gamma_mean-4*pos_gamma_std), (pos_gamma_mean+4*pos_gamma_std), 0.002)\n",
    "# kde = KernelDensity(bandwidth=0.02, kernel='gaussian')\n",
    "# kde.fit(pos_w[int(num_burnin):,2].reshape(-1, 1))\n",
    "# y_plot = kde.score_samples(x_plot.reshape(-1, 1))\n",
    "# plt.plot(x_plot, np.exp(y_plot), '-', linewidth=2.0)\n",
    "# plt.xlabel(r'$\\gamma$')\n",
    "# plt.title('Posterior density of gamma')"
   ]
  },
  {
   "cell_type": "code",
   "execution_count": null,
   "metadata": {},
   "outputs": [],
   "source": [
    "# plt.figure()\n",
    "# pos_gamma_mean = np.mean(pos_w[int(num_burnin):,2])\n",
    "# pos_gamma_std = np.std(pos_w[int(num_burnin):,2])\n",
    "# #x_plot_mcmc = np.arange((pos_alpha_mean-4*pos_alpha_std), (pos_alpha_mean+4*pos_alpha_std), 0.002)\n",
    "# x_plot = np.arange(min(pos_gamma_mean-4*pos_gamma_std,np.mean(best_gamma)-4*np.std(best_gamma)), max(pos_gamma_mean+4*pos_gamma_std, np.mean(best_gamma)+4*np.std(best_gamma)), 0.001)\n",
    "# kde_mcmc = KernelDensity(bandwidth=0.0375, kernel='gaussian')\n",
    "# kde_mcmc.fit(pos_w[int(num_burnin):,2].reshape(-1, 1))\n",
    "# y_plot_mcmc = kde_mcmc.score_samples(x_plot.reshape(-1, 1))\n",
    "\n",
    "# #x_plot_vb = np.arange((np.mean(best_alpha)-4*np.std(best_alpha)), (np.mean(best_alpha)+4*np.std(best_alpha)), 0.002)\n",
    "# kde_vb = KernelDensity(bandwidth=0.025, kernel='gaussian')\n",
    "# kde_vb.fit(best_gamma.reshape(-1, 1))\n",
    "# y_plot_vb = kde_vb.score_samples(x_plot.reshape(-1, 1))\n",
    "\n",
    "# plt.plot(x_plot, np.exp(y_plot_mcmc), '-', linewidth=2.0, label = 'MCMC')\n",
    "# plt.plot(x_plot, np.exp(y_plot_vb), '-', linewidth=2.0, label = 'VB')\n",
    "\n",
    "# plt.legend()\n",
    "# plt.xlabel(r'$\\gamma$')\n",
    "# plt.title('Posterior density of gamma')\n"
   ]
  },
  {
   "cell_type": "code",
   "execution_count": null,
   "metadata": {},
   "outputs": [],
   "source": [
    "# alpha_trace = pos_w[int(num_burnin):,0]\n",
    "# beta_trace = pos_w[int(num_burnin):,1]\n",
    "# gamma_trace = pos_w[int(num_burnin):,2]\n",
    "# delta_trace = pos_w[int(num_burnin):,3]\n",
    "\n",
    "# x = np.arange(len(alpha_trace))\n",
    "# plt.figure(facecolor = 'white')\n",
    "# plt.plot(x, alpha_trace, label='Alpha')  \n",
    "# plt.plot(x, beta_trace, label='Beta')  \n",
    "# plt.plot(x, gamma_trace, label='Gamma')  \n",
    "# plt.xlabel('Number of samples')\n",
    "# plt.ylabel('Theta')\n",
    "# plt.legend()\n",
    "# plt.title(\"Trace Plot for Theta\")\n",
    "# plt.show()"
   ]
  }
 ],
 "metadata": {
  "kernelspec": {
   "display_name": "Python 3 (ipykernel)",
   "language": "python",
   "name": "python3"
  },
  "language_info": {
   "codemirror_mode": {
    "name": "ipython",
    "version": 3
   },
   "file_extension": ".py",
   "mimetype": "text/x-python",
   "name": "python",
   "nbconvert_exporter": "python",
   "pygments_lexer": "ipython3",
   "version": "3.9.16"
  },
  "vscode": {
   "interpreter": {
    "hash": "a41329fe0cfbe6556a2d0d7f2960b9e807b2149fcdd1bbd308c99c3aea754318"
   }
  }
 },
 "nbformat": 4,
 "nbformat_minor": 2
}
