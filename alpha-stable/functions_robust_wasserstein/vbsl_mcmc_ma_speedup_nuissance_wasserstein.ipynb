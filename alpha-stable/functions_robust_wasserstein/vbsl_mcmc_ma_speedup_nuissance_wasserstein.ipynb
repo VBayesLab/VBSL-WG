{
 "cells": [
  {
   "cell_type": "code",
   "execution_count": 32,
   "metadata": {},
   "outputs": [
    {
     "name": "stdout",
     "output_type": "stream",
     "text": [
      "The autoreload extension is already loaded. To reload it, use:\n",
      "  %reload_ext autoreload\n"
     ]
    }
   ],
   "source": [
    "# magic\n",
    "%load_ext autoreload\n",
    "%autoreload 2 \n",
    "#any changes to the function files will be updated on every run\n",
    "#%pdb 1 \n",
    "#where code fails, stops at that breakpoint and allows to examine potential error\n",
    "%matplotlib inline"
   ]
  },
  {
   "cell_type": "code",
   "execution_count": 3,
   "metadata": {},
   "outputs": [],
   "source": [
    "import os\n",
    "import matplotlib.pyplot as plt\n",
    "import numpy as np\n",
    "import random\n",
    "import time\n",
    "import math\n",
    "#import numdifftools as nd\n",
    "import pandas as pd\n",
    "#import pymc3 as pm\n",
    "\n",
    "from tqdm import tqdm\n",
    "from sklearn import preprocessing\n",
    "from numpy.linalg import multi_dot\n",
    "import scipy\n",
    "from scipy import stats\n",
    "from scipy.stats import invgamma\n",
    "from scipy.special import gamma\n",
    "from scipy.special import digamma\n",
    "from scipy.stats import multivariate_normal\n",
    "from scipy.stats import norm\n",
    "from scipy.stats import levy_stable\n",
    "from scipy.stats import gaussian_kde\n",
    "from sklearn.neighbors import KernelDensity\n",
    "from sklearn.model_selection import GridSearchCV\n",
    "from sklearn.model_selection import LeaveOneOut\n",
    "import sklearn.mixture"
   ]
  },
  {
   "cell_type": "code",
   "execution_count": 2,
   "metadata": {},
   "outputs": [
    {
     "ename": "ImportError",
     "evalue": "Numba needs NumPy 1.21 or less",
     "output_type": "error",
     "traceback": [
      "\u001b[1;31m---------------------------------------------------------------------------\u001b[0m",
      "\u001b[1;31mImportError\u001b[0m                               Traceback (most recent call last)",
      "\u001b[1;32m~\\AppData\\Local\\Temp\\ipykernel_28460\\1013572128.py\u001b[0m in \u001b[0;36m<module>\u001b[1;34m\u001b[0m\n\u001b[1;32m----> 1\u001b[1;33m \u001b[1;32mfrom\u001b[0m \u001b[0mnumba\u001b[0m \u001b[1;32mimport\u001b[0m \u001b[0mvectorize\u001b[0m\u001b[1;33m,\u001b[0m \u001b[0mfloat64\u001b[0m\u001b[1;33m,\u001b[0m \u001b[0mguvectorize\u001b[0m\u001b[1;33m,\u001b[0m \u001b[0mjit\u001b[0m\u001b[1;33m\u001b[0m\u001b[1;33m\u001b[0m\u001b[0m\n\u001b[0m",
      "\u001b[1;32m~\\anaconda\\lib\\site-packages\\numba\\__init__.py\u001b[0m in \u001b[0;36m<module>\u001b[1;34m\u001b[0m\n\u001b[0;32m    198\u001b[0m \u001b[1;33m\u001b[0m\u001b[0m\n\u001b[0;32m    199\u001b[0m \u001b[0m_ensure_llvm\u001b[0m\u001b[1;33m(\u001b[0m\u001b[1;33m)\u001b[0m\u001b[1;33m\u001b[0m\u001b[1;33m\u001b[0m\u001b[0m\n\u001b[1;32m--> 200\u001b[1;33m \u001b[0m_ensure_critical_deps\u001b[0m\u001b[1;33m(\u001b[0m\u001b[1;33m)\u001b[0m\u001b[1;33m\u001b[0m\u001b[1;33m\u001b[0m\u001b[0m\n\u001b[0m\u001b[0;32m    201\u001b[0m \u001b[1;33m\u001b[0m\u001b[0m\n\u001b[0;32m    202\u001b[0m \u001b[1;31m# we know llvmlite is working as the above tests passed, import it now as SVML\u001b[0m\u001b[1;33m\u001b[0m\u001b[1;33m\u001b[0m\u001b[0m\n",
      "\u001b[1;32m~\\anaconda\\lib\\site-packages\\numba\\__init__.py\u001b[0m in \u001b[0;36m_ensure_critical_deps\u001b[1;34m()\u001b[0m\n\u001b[0;32m    138\u001b[0m         \u001b[1;32mraise\u001b[0m \u001b[0mImportError\u001b[0m\u001b[1;33m(\u001b[0m\u001b[1;34m\"Numba needs NumPy 1.18 or greater\"\u001b[0m\u001b[1;33m)\u001b[0m\u001b[1;33m\u001b[0m\u001b[1;33m\u001b[0m\u001b[0m\n\u001b[0;32m    139\u001b[0m     \u001b[1;32melif\u001b[0m \u001b[0mnumpy_version\u001b[0m \u001b[1;33m>\u001b[0m \u001b[1;33m(\u001b[0m\u001b[1;36m1\u001b[0m\u001b[1;33m,\u001b[0m \u001b[1;36m21\u001b[0m\u001b[1;33m)\u001b[0m\u001b[1;33m:\u001b[0m\u001b[1;33m\u001b[0m\u001b[1;33m\u001b[0m\u001b[0m\n\u001b[1;32m--> 140\u001b[1;33m         \u001b[1;32mraise\u001b[0m \u001b[0mImportError\u001b[0m\u001b[1;33m(\u001b[0m\u001b[1;34m\"Numba needs NumPy 1.21 or less\"\u001b[0m\u001b[1;33m)\u001b[0m\u001b[1;33m\u001b[0m\u001b[1;33m\u001b[0m\u001b[0m\n\u001b[0m\u001b[0;32m    141\u001b[0m \u001b[1;33m\u001b[0m\u001b[0m\n\u001b[0;32m    142\u001b[0m     \u001b[1;32mtry\u001b[0m\u001b[1;33m:\u001b[0m\u001b[1;33m\u001b[0m\u001b[1;33m\u001b[0m\u001b[0m\n",
      "\u001b[1;31mImportError\u001b[0m: Numba needs NumPy 1.21 or less"
     ]
    }
   ],
   "source": [
    "from numba import vectorize, float64, guvectorize, jit"
   ]
  },
  {
   "cell_type": "code",
   "execution_count": 4,
   "metadata": {},
   "outputs": [],
   "source": [
    "np.random.seed(6898)"
   ]
  },
  {
   "cell_type": "code",
   "execution_count": 6,
   "metadata": {},
   "outputs": [],
   "source": [
    "from f_mean_adjust_ss_wasserstein import (alpha_stable, alpha_stable_ss, summary_statistics, mean_adjustment_summary_statistics)"
   ]
  },
  {
   "cell_type": "code",
   "execution_count": 7,
   "metadata": {},
   "outputs": [],
   "source": [
    "def my_inv(x):\n",
    "    return np.linalg.inv(x + (np.eye(x.shape[0]) * 1e-7))"
   ]
  },
  {
   "cell_type": "markdown",
   "metadata": {},
   "source": [
    "## LOAD DATASET"
   ]
  },
  {
   "cell_type": "code",
   "execution_count": 8,
   "metadata": {},
   "outputs": [
    {
     "data": {
      "text/plain": [
       "array([[-1.75454095,  0.06364251,  0.17838224,  3.91094968, -1.69946124,\n",
       "         1.14189553,  0.15860387, -0.33582152,  5.58954453,  3.17043552,\n",
       "        -0.8180322 ,  1.41864212, -0.05663035, -1.7940471 , -1.23415974,\n",
       "        -0.50205508, -0.53787969, -0.92270598, -0.6519431 ,  1.19878179,\n",
       "         4.6543093 ,  2.02094089, -1.71465436, -1.03405202,  1.7746176 ,\n",
       "        -0.24464994, -0.14152402, -0.27737601, -1.07793331, -2.76181794,\n",
       "        -0.8159597 ,  8.21195936, -1.52557809, -2.53213325, -0.93285844,\n",
       "         0.7709601 , -1.27906719,  0.11566633,  1.22253277,  1.13778995,\n",
       "         1.2514727 ,  0.45223848,  0.39449849,  1.09061486, -0.25245975,\n",
       "         0.8439105 , -3.23281842,  2.99888162,  0.63651985, -0.68771279,\n",
       "         1.17188   , -6.10762884, -1.5504376 , -1.52891999,  0.24804221,\n",
       "        -0.96044672, -0.63952273, -0.1376288 ,  0.31428243, -2.73222301,\n",
       "        -2.44688612,  0.8240769 ,  4.30468544,  1.13072982,  0.1621017 ,\n",
       "        -1.7847421 ,  0.13156545, -0.03031964, -0.09909038,  3.04120323,\n",
       "        -1.22108882,  1.64292548,  0.68445357, -0.43744245,  1.79625819,\n",
       "        -0.58261651, -0.24207811, -0.57225269, -0.38319484, -0.89057559,\n",
       "         1.08266456,  1.555893  ,  1.28005759,  0.79203317, -1.5153497 ,\n",
       "        -1.281179  , -0.90441768, -1.41597019, -8.63474065, -1.46771912,\n",
       "         0.34334264, -0.04984818, -0.98376006,  3.05464938, -1.62768948,\n",
       "        -3.19078726, -0.30393222, -0.92965892, -0.74595832,  3.26511844,\n",
       "        -0.69710029,  0.54302112,  1.8281802 , -0.75736585, -1.16199152,\n",
       "        -0.93992975, -0.60152834,  2.88674402,  0.37571835,  3.05281636,\n",
       "        -1.18630017, -2.45259891, -1.36119589,  0.55836255, -1.11765982,\n",
       "         1.20864097, -0.76360068, -2.2169695 , -1.46261708, -1.40716407,\n",
       "         0.32342731, -0.58729972, -0.09703524, -0.27747782,  0.55893801,\n",
       "         0.60234024, -1.74048345,  0.08629703, -0.20749633,  1.05571229,\n",
       "        -1.04280016,  0.59186556,  1.50554546, -0.31925187,  1.48954777,\n",
       "         0.29813408,  0.50822588, -2.18906939,  0.21579543,  1.96486224,\n",
       "        -2.75102531, -1.72551539, -2.30760685,  0.83018639,  0.01494568,\n",
       "         0.60927673,  1.05538615, -1.40179124,  0.8311674 ,  0.88502406,\n",
       "         0.02390418, -1.89005665, -0.45266768,  1.54867838, -0.73434269,\n",
       "        -0.50122656,  2.5767749 , -1.11379521, -0.26932886, -3.10942146,\n",
       "         0.12126231, -0.3157945 , -0.16877073, -1.12550866, -2.90698262,\n",
       "         0.374998  ,  0.78515316,  1.21956878,  0.57316657,  0.1742085 ,\n",
       "        -0.46740516,  1.92269884, -0.5224826 ,  0.15733272,  1.12252394,\n",
       "         2.94773822, -0.25288665, -1.53878146, -0.78368064,  2.2457234 ,\n",
       "        -1.20600759,  2.19664687, -0.34765667, -0.13597418, -2.46520864,\n",
       "         0.93819916, -3.05842374,  0.68213457,  1.68606907, -5.59412449,\n",
       "         1.6196816 , -0.26795478,  2.23166549,  1.21388185,  0.21388005,\n",
       "        -0.66614897,  2.388122  , -1.17527949, -1.16182256, -0.61649551]])"
      ]
     },
     "execution_count": 8,
     "metadata": {},
     "output_type": "execute_result"
    }
   ],
   "source": [
    "actual_data = alpha_stable(1.8, 0.5, 1, 0, 200, 1)\n",
    "actual_data"
   ]
  },
  {
   "cell_type": "code",
   "execution_count": 10,
   "metadata": {},
   "outputs": [
    {
     "data": {
      "text/plain": [
       "array([ 1.58297532,  0.31404455,  0.99630353, -0.01986152])"
      ]
     },
     "execution_count": 10,
     "metadata": {},
     "output_type": "execute_result"
    }
   ],
   "source": [
    "actual_summary_statistics = alpha_stable_ss(actual_data)\n",
    "actual_summary_statistics"
   ]
  },
  {
   "cell_type": "code",
   "execution_count": 40,
   "metadata": {},
   "outputs": [],
   "source": [
    "# Using previously simulated data for consistency\n",
    "actual_summary_statistics = np.array([ 1.36495524,  0.27388675,  0.78684313, -0.08169088])"
   ]
  },
  {
   "cell_type": "code",
   "execution_count": 11,
   "metadata": {},
   "outputs": [],
   "source": [
    "num_coeffs = np.shape(actual_summary_statistics)[0]\n",
    "num_latent = np.shape(actual_summary_statistics)[0]\n",
    "num_datasets = 200\n",
    "n_samples = 200\n",
    "gamma_samples = 20"
   ]
  },
  {
   "cell_type": "code",
   "execution_count": 12,
   "metadata": {},
   "outputs": [],
   "source": [
    "from multiprocessing import Pool\n",
    "from functools import partial\n",
    "pool = Pool(8)"
   ]
  },
  {
   "cell_type": "markdown",
   "metadata": {},
   "source": [
    "## Training Wasserstein Gaussianing"
   ]
  },
  {
   "cell_type": "code",
   "execution_count": 13,
   "metadata": {},
   "outputs": [],
   "source": [
    "wass_num_datasets = 6000\n",
    "wass_n_samples = 30\n",
    "maxG = 4"
   ]
  },
  {
   "cell_type": "code",
   "execution_count": 14,
   "metadata": {},
   "outputs": [],
   "source": [
    "# Generating data to train the transform\n",
    "wass_datasets = alpha_stable(1.8, 0.5, 1, 0, wass_n_samples, wass_num_datasets)\n",
    "wass_n_summary_statistics = np.array([alpha_stable_ss(wass_datasets[i,:]) for i in range(wass_num_datasets)])"
   ]
  },
  {
   "cell_type": "code",
   "execution_count": 15,
   "metadata": {},
   "outputs": [],
   "source": [
    "# Divide the synthetic data to train, test, val\n",
    "wass_train_summary_statistics = wass_n_summary_statistics[:int(wass_num_datasets/3),:]\n",
    "wass_val_summary_statistics = wass_n_summary_statistics[int(wass_num_datasets/3):int(wass_num_datasets * 2/3),:]\n",
    "wass_test_summary_statistics = wass_n_summary_statistics[int(wass_num_datasets * 2/3):wass_num_datasets,:]\n",
    "\n",
    "original_train_summary_statistics = wass_train_summary_statistics\n",
    "original_test_summary_statistics = wass_test_summary_statistics"
   ]
  },
  {
   "cell_type": "code",
   "execution_count": 19,
   "metadata": {},
   "outputs": [],
   "source": [
    "def mixture_model_fit(data, maxG):\n",
    "    bic_values = []\n",
    "    for g in range(1, maxG+1):\n",
    "        mixture_obj = sklearn.mixture.GaussianMixture(n_components = g, reg_covar = 1e-10).fit(data)\n",
    "        bic_values.append(mixture_obj.bic(data))\n",
    "    bestG = int(np.argmin(bic_values) + 1)\n",
    "    best_mixture_obj = sklearn.mixture.GaussianMixture(n_components = bestG, reg_covar = 1e-10).fit(data)\n",
    "    return best_mixture_obj, bestG"
   ]
  },
  {
   "cell_type": "code",
   "execution_count": 20,
   "metadata": {},
   "outputs": [],
   "source": [
    "def grad_log_density_mixture(data, mixture_obj):\n",
    "    mean_mixture_obj = mixture_obj.means_\n",
    "    sigma_mixture_obj = mixture_obj.covariances_\n",
    "    weights_mixture_obj = mixture_obj.weights_\n",
    "    bestG = len(weights_mixture_obj)\n",
    "\n",
    "    loglh_all_mixture = []\n",
    "    grad_loglh_all_mixture = []\n",
    "    for k in range(bestG):\n",
    "        mean_kth_mixture = mean_mixture_obj[k,:] #1 x g\n",
    "        sigma_kth_mixture = sigma_mixture_obj[k,:] # g x g\n",
    "        weight_kth_mixture = weights_mixture_obj[k] \n",
    "        diff_mean_kth_mixture = data - mean_kth_mixture #99 x g aux\n",
    "        loglh_all_mixture.append(np.log(weight_kth_mixture) - num_coeffs/2 * np.log(2 * np.pi)-1/2 * np.log(np.linalg.det(sigma_kth_mixture)) - 1/2 * np.diag(diff_mean_kth_mixture @ my_inv(sigma_kth_mixture) @ diff_mean_kth_mixture.T)) # 99x99 -> diag:1x99->gx99 lw\n",
    "        grad_loglh_all_mixture.append(-diff_mean_kth_mixture @ my_inv(sigma_kth_mixture)) #M =99 x dim of ss =4\n",
    "\n",
    "    max_llh_all_data = np.max(loglh_all_mixture, axis = 0) # 99 x 1\n",
    "    aux_llh_all_data = loglh_all_mixture - max_llh_all_data #g x 99\n",
    "    w_all_data = np.exp(aux_llh_all_data) / np.sum(np.exp(aux_llh_all_data), axis = 0) #g x 99\n",
    "    log_f = np.log(np.sum(np.exp(aux_llh_all_data), axis = 0)) + max_llh_all_data #99 x 1\n",
    "\n",
    "    grad_log_f = 0\n",
    "    for k in range(bestG):    \n",
    "        grad_log_f = grad_log_f + np.tile(np.reshape(w_all_data[k,:], (len(data),1)),(1,num_coeffs)) * grad_loglh_all_mixture[k] #data x num_coeff\n",
    "    return log_f, grad_log_f"
   ]
  },
  {
   "cell_type": "code",
   "execution_count": 21,
   "metadata": {},
   "outputs": [
    {
     "ename": "AttributeError",
     "evalue": "'NoneType' object has no attribute 'split'",
     "output_type": "error",
     "traceback": [
      "\u001b[1;31m---------------------------------------------------------------------------\u001b[0m",
      "\u001b[1;31mAttributeError\u001b[0m                            Traceback (most recent call last)",
      "\u001b[1;32m~\\AppData\\Local\\Temp\\ipykernel_28460\\4117918043.py\u001b[0m in \u001b[0;36m<module>\u001b[1;34m\u001b[0m\n\u001b[0;32m      1\u001b[0m \u001b[1;31m# At current particles, fit mixture normal\u001b[0m\u001b[1;33m\u001b[0m\u001b[1;33m\u001b[0m\u001b[0m\n\u001b[1;32m----> 2\u001b[1;33m \u001b[0mmixture_obj\u001b[0m\u001b[1;33m,\u001b[0m \u001b[0mbestG\u001b[0m \u001b[1;33m=\u001b[0m \u001b[0mmixture_model_fit\u001b[0m\u001b[1;33m(\u001b[0m\u001b[0mwass_train_summary_statistics\u001b[0m\u001b[1;33m,\u001b[0m \u001b[0mmaxG\u001b[0m\u001b[1;33m)\u001b[0m\u001b[1;33m\u001b[0m\u001b[1;33m\u001b[0m\u001b[0m\n\u001b[0m",
      "\u001b[1;32m~\\AppData\\Local\\Temp\\ipykernel_28460\\3226738670.py\u001b[0m in \u001b[0;36mmixture_model_fit\u001b[1;34m(data, maxG)\u001b[0m\n\u001b[0;32m      2\u001b[0m     \u001b[0mbic_values\u001b[0m \u001b[1;33m=\u001b[0m \u001b[1;33m[\u001b[0m\u001b[1;33m]\u001b[0m\u001b[1;33m\u001b[0m\u001b[1;33m\u001b[0m\u001b[0m\n\u001b[0;32m      3\u001b[0m     \u001b[1;32mfor\u001b[0m \u001b[0mg\u001b[0m \u001b[1;32min\u001b[0m \u001b[0mrange\u001b[0m\u001b[1;33m(\u001b[0m\u001b[1;36m1\u001b[0m\u001b[1;33m,\u001b[0m \u001b[0mmaxG\u001b[0m\u001b[1;33m+\u001b[0m\u001b[1;36m1\u001b[0m\u001b[1;33m)\u001b[0m\u001b[1;33m:\u001b[0m\u001b[1;33m\u001b[0m\u001b[1;33m\u001b[0m\u001b[0m\n\u001b[1;32m----> 4\u001b[1;33m         \u001b[0mmixture_obj\u001b[0m \u001b[1;33m=\u001b[0m \u001b[0msklearn\u001b[0m\u001b[1;33m.\u001b[0m\u001b[0mmixture\u001b[0m\u001b[1;33m.\u001b[0m\u001b[0mGaussianMixture\u001b[0m\u001b[1;33m(\u001b[0m\u001b[0mn_components\u001b[0m \u001b[1;33m=\u001b[0m \u001b[0mg\u001b[0m\u001b[1;33m,\u001b[0m \u001b[0mreg_covar\u001b[0m \u001b[1;33m=\u001b[0m \u001b[1;36m1e-10\u001b[0m\u001b[1;33m)\u001b[0m\u001b[1;33m.\u001b[0m\u001b[0mfit\u001b[0m\u001b[1;33m(\u001b[0m\u001b[0mdata\u001b[0m\u001b[1;33m)\u001b[0m\u001b[1;33m\u001b[0m\u001b[1;33m\u001b[0m\u001b[0m\n\u001b[0m\u001b[0;32m      5\u001b[0m         \u001b[0mbic_values\u001b[0m\u001b[1;33m.\u001b[0m\u001b[0mappend\u001b[0m\u001b[1;33m(\u001b[0m\u001b[0mmixture_obj\u001b[0m\u001b[1;33m.\u001b[0m\u001b[0mbic\u001b[0m\u001b[1;33m(\u001b[0m\u001b[0mdata\u001b[0m\u001b[1;33m)\u001b[0m\u001b[1;33m)\u001b[0m\u001b[1;33m\u001b[0m\u001b[1;33m\u001b[0m\u001b[0m\n\u001b[0;32m      6\u001b[0m     \u001b[0mbestG\u001b[0m \u001b[1;33m=\u001b[0m \u001b[0mint\u001b[0m\u001b[1;33m(\u001b[0m\u001b[0mnp\u001b[0m\u001b[1;33m.\u001b[0m\u001b[0margmin\u001b[0m\u001b[1;33m(\u001b[0m\u001b[0mbic_values\u001b[0m\u001b[1;33m)\u001b[0m \u001b[1;33m+\u001b[0m \u001b[1;36m1\u001b[0m\u001b[1;33m)\u001b[0m\u001b[1;33m\u001b[0m\u001b[1;33m\u001b[0m\u001b[0m\n",
      "\u001b[1;32m~\\anaconda\\lib\\site-packages\\sklearn\\mixture\\_base.py\u001b[0m in \u001b[0;36mfit\u001b[1;34m(self, X, y)\u001b[0m\n\u001b[0;32m    196\u001b[0m             \u001b[0mThe\u001b[0m \u001b[0mfitted\u001b[0m \u001b[0mmixture\u001b[0m\u001b[1;33m.\u001b[0m\u001b[1;33m\u001b[0m\u001b[1;33m\u001b[0m\u001b[0m\n\u001b[0;32m    197\u001b[0m         \"\"\"\n\u001b[1;32m--> 198\u001b[1;33m         \u001b[0mself\u001b[0m\u001b[1;33m.\u001b[0m\u001b[0mfit_predict\u001b[0m\u001b[1;33m(\u001b[0m\u001b[0mX\u001b[0m\u001b[1;33m,\u001b[0m \u001b[0my\u001b[0m\u001b[1;33m)\u001b[0m\u001b[1;33m\u001b[0m\u001b[1;33m\u001b[0m\u001b[0m\n\u001b[0m\u001b[0;32m    199\u001b[0m         \u001b[1;32mreturn\u001b[0m \u001b[0mself\u001b[0m\u001b[1;33m\u001b[0m\u001b[1;33m\u001b[0m\u001b[0m\n\u001b[0;32m    200\u001b[0m \u001b[1;33m\u001b[0m\u001b[0m\n",
      "\u001b[1;32m~\\anaconda\\lib\\site-packages\\sklearn\\mixture\\_base.py\u001b[0m in \u001b[0;36mfit_predict\u001b[1;34m(self, X, y)\u001b[0m\n\u001b[0;32m    249\u001b[0m \u001b[1;33m\u001b[0m\u001b[0m\n\u001b[0;32m    250\u001b[0m             \u001b[1;32mif\u001b[0m \u001b[0mdo_init\u001b[0m\u001b[1;33m:\u001b[0m\u001b[1;33m\u001b[0m\u001b[1;33m\u001b[0m\u001b[0m\n\u001b[1;32m--> 251\u001b[1;33m                 \u001b[0mself\u001b[0m\u001b[1;33m.\u001b[0m\u001b[0m_initialize_parameters\u001b[0m\u001b[1;33m(\u001b[0m\u001b[0mX\u001b[0m\u001b[1;33m,\u001b[0m \u001b[0mrandom_state\u001b[0m\u001b[1;33m)\u001b[0m\u001b[1;33m\u001b[0m\u001b[1;33m\u001b[0m\u001b[0m\n\u001b[0m\u001b[0;32m    252\u001b[0m \u001b[1;33m\u001b[0m\u001b[0m\n\u001b[0;32m    253\u001b[0m             \u001b[0mlower_bound\u001b[0m \u001b[1;33m=\u001b[0m \u001b[1;33m-\u001b[0m\u001b[0mnp\u001b[0m\u001b[1;33m.\u001b[0m\u001b[0minf\u001b[0m \u001b[1;32mif\u001b[0m \u001b[0mdo_init\u001b[0m \u001b[1;32melse\u001b[0m \u001b[0mself\u001b[0m\u001b[1;33m.\u001b[0m\u001b[0mlower_bound_\u001b[0m\u001b[1;33m\u001b[0m\u001b[1;33m\u001b[0m\u001b[0m\n",
      "\u001b[1;32m~\\anaconda\\lib\\site-packages\\sklearn\\mixture\\_base.py\u001b[0m in \u001b[0;36m_initialize_parameters\u001b[1;34m(self, X, random_state)\u001b[0m\n\u001b[0;32m    141\u001b[0m             \u001b[0mresp\u001b[0m \u001b[1;33m=\u001b[0m \u001b[0mnp\u001b[0m\u001b[1;33m.\u001b[0m\u001b[0mzeros\u001b[0m\u001b[1;33m(\u001b[0m\u001b[1;33m(\u001b[0m\u001b[0mn_samples\u001b[0m\u001b[1;33m,\u001b[0m \u001b[0mself\u001b[0m\u001b[1;33m.\u001b[0m\u001b[0mn_components\u001b[0m\u001b[1;33m)\u001b[0m\u001b[1;33m)\u001b[0m\u001b[1;33m\u001b[0m\u001b[1;33m\u001b[0m\u001b[0m\n\u001b[0;32m    142\u001b[0m             label = (\n\u001b[1;32m--> 143\u001b[1;33m                 cluster.KMeans(\n\u001b[0m\u001b[0;32m    144\u001b[0m                     \u001b[0mn_clusters\u001b[0m\u001b[1;33m=\u001b[0m\u001b[0mself\u001b[0m\u001b[1;33m.\u001b[0m\u001b[0mn_components\u001b[0m\u001b[1;33m,\u001b[0m \u001b[0mn_init\u001b[0m\u001b[1;33m=\u001b[0m\u001b[1;36m1\u001b[0m\u001b[1;33m,\u001b[0m \u001b[0mrandom_state\u001b[0m\u001b[1;33m=\u001b[0m\u001b[0mrandom_state\u001b[0m\u001b[1;33m\u001b[0m\u001b[1;33m\u001b[0m\u001b[0m\n\u001b[0;32m    145\u001b[0m                 )\n",
      "\u001b[1;32m~\\anaconda\\lib\\site-packages\\sklearn\\cluster\\_kmeans.py\u001b[0m in \u001b[0;36mfit\u001b[1;34m(self, X, y, sample_weight)\u001b[0m\n\u001b[0;32m   1184\u001b[0m \u001b[1;33m\u001b[0m\u001b[0m\n\u001b[0;32m   1185\u001b[0m             \u001b[1;31m# run a k-means once\u001b[0m\u001b[1;33m\u001b[0m\u001b[1;33m\u001b[0m\u001b[0m\n\u001b[1;32m-> 1186\u001b[1;33m             labels, inertia, centers, n_iter_ = kmeans_single(\n\u001b[0m\u001b[0;32m   1187\u001b[0m                 \u001b[0mX\u001b[0m\u001b[1;33m,\u001b[0m\u001b[1;33m\u001b[0m\u001b[1;33m\u001b[0m\u001b[0m\n\u001b[0;32m   1188\u001b[0m                 \u001b[0msample_weight\u001b[0m\u001b[1;33m,\u001b[0m\u001b[1;33m\u001b[0m\u001b[1;33m\u001b[0m\u001b[0m\n",
      "\u001b[1;32m~\\anaconda\\lib\\site-packages\\sklearn\\cluster\\_kmeans.py\u001b[0m in \u001b[0;36m_kmeans_single_lloyd\u001b[1;34m(X, sample_weight, centers_init, max_iter, verbose, x_squared_norms, tol, n_threads)\u001b[0m\n\u001b[0;32m    623\u001b[0m     \u001b[1;31m# Threadpoolctl context to limit the number of threads in second level of\u001b[0m\u001b[1;33m\u001b[0m\u001b[1;33m\u001b[0m\u001b[0m\n\u001b[0;32m    624\u001b[0m     \u001b[1;31m# nested parallelism (i.e. BLAS) to avoid oversubsciption.\u001b[0m\u001b[1;33m\u001b[0m\u001b[1;33m\u001b[0m\u001b[0m\n\u001b[1;32m--> 625\u001b[1;33m     \u001b[1;32mwith\u001b[0m \u001b[0mthreadpool_limits\u001b[0m\u001b[1;33m(\u001b[0m\u001b[0mlimits\u001b[0m\u001b[1;33m=\u001b[0m\u001b[1;36m1\u001b[0m\u001b[1;33m,\u001b[0m \u001b[0muser_api\u001b[0m\u001b[1;33m=\u001b[0m\u001b[1;34m\"blas\"\u001b[0m\u001b[1;33m)\u001b[0m\u001b[1;33m:\u001b[0m\u001b[1;33m\u001b[0m\u001b[1;33m\u001b[0m\u001b[0m\n\u001b[0m\u001b[0;32m    626\u001b[0m         \u001b[1;32mfor\u001b[0m \u001b[0mi\u001b[0m \u001b[1;32min\u001b[0m \u001b[0mrange\u001b[0m\u001b[1;33m(\u001b[0m\u001b[0mmax_iter\u001b[0m\u001b[1;33m)\u001b[0m\u001b[1;33m:\u001b[0m\u001b[1;33m\u001b[0m\u001b[1;33m\u001b[0m\u001b[0m\n\u001b[0;32m    627\u001b[0m             lloyd_iter(\n",
      "\u001b[1;32m~\\anaconda\\lib\\site-packages\\sklearn\\utils\\fixes.py\u001b[0m in \u001b[0;36mthreadpool_limits\u001b[1;34m(limits, user_api)\u001b[0m\n\u001b[0;32m    312\u001b[0m         \u001b[1;32mreturn\u001b[0m \u001b[0mcontroller\u001b[0m\u001b[1;33m.\u001b[0m\u001b[0mlimit\u001b[0m\u001b[1;33m(\u001b[0m\u001b[0mlimits\u001b[0m\u001b[1;33m=\u001b[0m\u001b[0mlimits\u001b[0m\u001b[1;33m,\u001b[0m \u001b[0muser_api\u001b[0m\u001b[1;33m=\u001b[0m\u001b[0muser_api\u001b[0m\u001b[1;33m)\u001b[0m\u001b[1;33m\u001b[0m\u001b[1;33m\u001b[0m\u001b[0m\n\u001b[0;32m    313\u001b[0m     \u001b[1;32melse\u001b[0m\u001b[1;33m:\u001b[0m\u001b[1;33m\u001b[0m\u001b[1;33m\u001b[0m\u001b[0m\n\u001b[1;32m--> 314\u001b[1;33m         \u001b[1;32mreturn\u001b[0m \u001b[0mthreadpoolctl\u001b[0m\u001b[1;33m.\u001b[0m\u001b[0mthreadpool_limits\u001b[0m\u001b[1;33m(\u001b[0m\u001b[0mlimits\u001b[0m\u001b[1;33m=\u001b[0m\u001b[0mlimits\u001b[0m\u001b[1;33m,\u001b[0m \u001b[0muser_api\u001b[0m\u001b[1;33m=\u001b[0m\u001b[0muser_api\u001b[0m\u001b[1;33m)\u001b[0m\u001b[1;33m\u001b[0m\u001b[1;33m\u001b[0m\u001b[0m\n\u001b[0m\u001b[0;32m    315\u001b[0m \u001b[1;33m\u001b[0m\u001b[0m\n\u001b[0;32m    316\u001b[0m \u001b[1;33m\u001b[0m\u001b[0m\n",
      "\u001b[1;32m~\\anaconda\\lib\\site-packages\\threadpoolctl.py\u001b[0m in \u001b[0;36m__init__\u001b[1;34m(self, limits, user_api)\u001b[0m\n\u001b[0;32m    169\u001b[0m             \u001b[0mself\u001b[0m\u001b[1;33m.\u001b[0m\u001b[0m_check_params\u001b[0m\u001b[1;33m(\u001b[0m\u001b[0mlimits\u001b[0m\u001b[1;33m,\u001b[0m \u001b[0muser_api\u001b[0m\u001b[1;33m)\u001b[0m\u001b[1;33m\u001b[0m\u001b[1;33m\u001b[0m\u001b[0m\n\u001b[0;32m    170\u001b[0m \u001b[1;33m\u001b[0m\u001b[0m\n\u001b[1;32m--> 171\u001b[1;33m         \u001b[0mself\u001b[0m\u001b[1;33m.\u001b[0m\u001b[0m_original_info\u001b[0m \u001b[1;33m=\u001b[0m \u001b[0mself\u001b[0m\u001b[1;33m.\u001b[0m\u001b[0m_set_threadpool_limits\u001b[0m\u001b[1;33m(\u001b[0m\u001b[1;33m)\u001b[0m\u001b[1;33m\u001b[0m\u001b[1;33m\u001b[0m\u001b[0m\n\u001b[0m\u001b[0;32m    172\u001b[0m \u001b[1;33m\u001b[0m\u001b[0m\n\u001b[0;32m    173\u001b[0m     \u001b[1;32mdef\u001b[0m \u001b[0m__enter__\u001b[0m\u001b[1;33m(\u001b[0m\u001b[0mself\u001b[0m\u001b[1;33m)\u001b[0m\u001b[1;33m:\u001b[0m\u001b[1;33m\u001b[0m\u001b[1;33m\u001b[0m\u001b[0m\n",
      "\u001b[1;32m~\\anaconda\\lib\\site-packages\\threadpoolctl.py\u001b[0m in \u001b[0;36m_set_threadpool_limits\u001b[1;34m(self)\u001b[0m\n\u001b[0;32m    266\u001b[0m             \u001b[1;32mreturn\u001b[0m \u001b[1;32mNone\u001b[0m\u001b[1;33m\u001b[0m\u001b[1;33m\u001b[0m\u001b[0m\n\u001b[0;32m    267\u001b[0m \u001b[1;33m\u001b[0m\u001b[0m\n\u001b[1;32m--> 268\u001b[1;33m         modules = _ThreadpoolInfo(prefixes=self._prefixes,\n\u001b[0m\u001b[0;32m    269\u001b[0m                                   user_api=self._user_api)\n\u001b[0;32m    270\u001b[0m         \u001b[1;32mfor\u001b[0m \u001b[0mmodule\u001b[0m \u001b[1;32min\u001b[0m \u001b[0mmodules\u001b[0m\u001b[1;33m:\u001b[0m\u001b[1;33m\u001b[0m\u001b[1;33m\u001b[0m\u001b[0m\n",
      "\u001b[1;32m~\\anaconda\\lib\\site-packages\\threadpoolctl.py\u001b[0m in \u001b[0;36m__init__\u001b[1;34m(self, user_api, prefixes, modules)\u001b[0m\n\u001b[0;32m    338\u001b[0m \u001b[1;33m\u001b[0m\u001b[0m\n\u001b[0;32m    339\u001b[0m             \u001b[0mself\u001b[0m\u001b[1;33m.\u001b[0m\u001b[0mmodules\u001b[0m \u001b[1;33m=\u001b[0m \u001b[1;33m[\u001b[0m\u001b[1;33m]\u001b[0m\u001b[1;33m\u001b[0m\u001b[1;33m\u001b[0m\u001b[0m\n\u001b[1;32m--> 340\u001b[1;33m             \u001b[0mself\u001b[0m\u001b[1;33m.\u001b[0m\u001b[0m_load_modules\u001b[0m\u001b[1;33m(\u001b[0m\u001b[1;33m)\u001b[0m\u001b[1;33m\u001b[0m\u001b[1;33m\u001b[0m\u001b[0m\n\u001b[0m\u001b[0;32m    341\u001b[0m             \u001b[0mself\u001b[0m\u001b[1;33m.\u001b[0m\u001b[0m_warn_if_incompatible_openmp\u001b[0m\u001b[1;33m(\u001b[0m\u001b[1;33m)\u001b[0m\u001b[1;33m\u001b[0m\u001b[1;33m\u001b[0m\u001b[0m\n\u001b[0;32m    342\u001b[0m         \u001b[1;32melse\u001b[0m\u001b[1;33m:\u001b[0m\u001b[1;33m\u001b[0m\u001b[1;33m\u001b[0m\u001b[0m\n",
      "\u001b[1;32m~\\anaconda\\lib\\site-packages\\threadpoolctl.py\u001b[0m in \u001b[0;36m_load_modules\u001b[1;34m(self)\u001b[0m\n\u001b[0;32m    371\u001b[0m             \u001b[0mself\u001b[0m\u001b[1;33m.\u001b[0m\u001b[0m_find_modules_with_dyld\u001b[0m\u001b[1;33m(\u001b[0m\u001b[1;33m)\u001b[0m\u001b[1;33m\u001b[0m\u001b[1;33m\u001b[0m\u001b[0m\n\u001b[0;32m    372\u001b[0m         \u001b[1;32melif\u001b[0m \u001b[0msys\u001b[0m\u001b[1;33m.\u001b[0m\u001b[0mplatform\u001b[0m \u001b[1;33m==\u001b[0m \u001b[1;34m\"win32\"\u001b[0m\u001b[1;33m:\u001b[0m\u001b[1;33m\u001b[0m\u001b[1;33m\u001b[0m\u001b[0m\n\u001b[1;32m--> 373\u001b[1;33m             \u001b[0mself\u001b[0m\u001b[1;33m.\u001b[0m\u001b[0m_find_modules_with_enum_process_module_ex\u001b[0m\u001b[1;33m(\u001b[0m\u001b[1;33m)\u001b[0m\u001b[1;33m\u001b[0m\u001b[1;33m\u001b[0m\u001b[0m\n\u001b[0m\u001b[0;32m    374\u001b[0m         \u001b[1;32melse\u001b[0m\u001b[1;33m:\u001b[0m\u001b[1;33m\u001b[0m\u001b[1;33m\u001b[0m\u001b[0m\n\u001b[0;32m    375\u001b[0m             \u001b[0mself\u001b[0m\u001b[1;33m.\u001b[0m\u001b[0m_find_modules_with_dl_iterate_phdr\u001b[0m\u001b[1;33m(\u001b[0m\u001b[1;33m)\u001b[0m\u001b[1;33m\u001b[0m\u001b[1;33m\u001b[0m\u001b[0m\n",
      "\u001b[1;32m~\\anaconda\\lib\\site-packages\\threadpoolctl.py\u001b[0m in \u001b[0;36m_find_modules_with_enum_process_module_ex\u001b[1;34m(self)\u001b[0m\n\u001b[0;32m    483\u001b[0m \u001b[1;33m\u001b[0m\u001b[0m\n\u001b[0;32m    484\u001b[0m                 \u001b[1;31m# Store the module if it is supported and selected\u001b[0m\u001b[1;33m\u001b[0m\u001b[1;33m\u001b[0m\u001b[0m\n\u001b[1;32m--> 485\u001b[1;33m                 \u001b[0mself\u001b[0m\u001b[1;33m.\u001b[0m\u001b[0m_make_module_from_path\u001b[0m\u001b[1;33m(\u001b[0m\u001b[0mfilepath\u001b[0m\u001b[1;33m)\u001b[0m\u001b[1;33m\u001b[0m\u001b[1;33m\u001b[0m\u001b[0m\n\u001b[0m\u001b[0;32m    486\u001b[0m         \u001b[1;32mfinally\u001b[0m\u001b[1;33m:\u001b[0m\u001b[1;33m\u001b[0m\u001b[1;33m\u001b[0m\u001b[0m\n\u001b[0;32m    487\u001b[0m             \u001b[0mkernel_32\u001b[0m\u001b[1;33m.\u001b[0m\u001b[0mCloseHandle\u001b[0m\u001b[1;33m(\u001b[0m\u001b[0mh_process\u001b[0m\u001b[1;33m)\u001b[0m\u001b[1;33m\u001b[0m\u001b[1;33m\u001b[0m\u001b[0m\n",
      "\u001b[1;32m~\\anaconda\\lib\\site-packages\\threadpoolctl.py\u001b[0m in \u001b[0;36m_make_module_from_path\u001b[1;34m(self, filepath)\u001b[0m\n\u001b[0;32m    513\u001b[0m             \u001b[1;32mif\u001b[0m \u001b[0mprefix\u001b[0m \u001b[1;32min\u001b[0m \u001b[0mself\u001b[0m\u001b[1;33m.\u001b[0m\u001b[0mprefixes\u001b[0m \u001b[1;32mor\u001b[0m \u001b[0muser_api\u001b[0m \u001b[1;32min\u001b[0m \u001b[0mself\u001b[0m\u001b[1;33m.\u001b[0m\u001b[0muser_api\u001b[0m\u001b[1;33m:\u001b[0m\u001b[1;33m\u001b[0m\u001b[1;33m\u001b[0m\u001b[0m\n\u001b[0;32m    514\u001b[0m                 \u001b[0mmodule_class\u001b[0m \u001b[1;33m=\u001b[0m \u001b[0mglobals\u001b[0m\u001b[1;33m(\u001b[0m\u001b[1;33m)\u001b[0m\u001b[1;33m[\u001b[0m\u001b[0mmodule_class\u001b[0m\u001b[1;33m]\u001b[0m\u001b[1;33m\u001b[0m\u001b[1;33m\u001b[0m\u001b[0m\n\u001b[1;32m--> 515\u001b[1;33m                 \u001b[0mmodule\u001b[0m \u001b[1;33m=\u001b[0m \u001b[0mmodule_class\u001b[0m\u001b[1;33m(\u001b[0m\u001b[0mfilepath\u001b[0m\u001b[1;33m,\u001b[0m \u001b[0mprefix\u001b[0m\u001b[1;33m,\u001b[0m \u001b[0muser_api\u001b[0m\u001b[1;33m,\u001b[0m \u001b[0minternal_api\u001b[0m\u001b[1;33m)\u001b[0m\u001b[1;33m\u001b[0m\u001b[1;33m\u001b[0m\u001b[0m\n\u001b[0m\u001b[0;32m    516\u001b[0m                 \u001b[0mself\u001b[0m\u001b[1;33m.\u001b[0m\u001b[0mmodules\u001b[0m\u001b[1;33m.\u001b[0m\u001b[0mappend\u001b[0m\u001b[1;33m(\u001b[0m\u001b[0mmodule\u001b[0m\u001b[1;33m)\u001b[0m\u001b[1;33m\u001b[0m\u001b[1;33m\u001b[0m\u001b[0m\n\u001b[0;32m    517\u001b[0m \u001b[1;33m\u001b[0m\u001b[0m\n",
      "\u001b[1;32m~\\anaconda\\lib\\site-packages\\threadpoolctl.py\u001b[0m in \u001b[0;36m__init__\u001b[1;34m(self, filepath, prefix, user_api, internal_api)\u001b[0m\n\u001b[0;32m    604\u001b[0m         \u001b[0mself\u001b[0m\u001b[1;33m.\u001b[0m\u001b[0minternal_api\u001b[0m \u001b[1;33m=\u001b[0m \u001b[0minternal_api\u001b[0m\u001b[1;33m\u001b[0m\u001b[1;33m\u001b[0m\u001b[0m\n\u001b[0;32m    605\u001b[0m         \u001b[0mself\u001b[0m\u001b[1;33m.\u001b[0m\u001b[0m_dynlib\u001b[0m \u001b[1;33m=\u001b[0m \u001b[0mctypes\u001b[0m\u001b[1;33m.\u001b[0m\u001b[0mCDLL\u001b[0m\u001b[1;33m(\u001b[0m\u001b[0mfilepath\u001b[0m\u001b[1;33m,\u001b[0m \u001b[0mmode\u001b[0m\u001b[1;33m=\u001b[0m\u001b[0m_RTLD_NOLOAD\u001b[0m\u001b[1;33m)\u001b[0m\u001b[1;33m\u001b[0m\u001b[1;33m\u001b[0m\u001b[0m\n\u001b[1;32m--> 606\u001b[1;33m         \u001b[0mself\u001b[0m\u001b[1;33m.\u001b[0m\u001b[0mversion\u001b[0m \u001b[1;33m=\u001b[0m \u001b[0mself\u001b[0m\u001b[1;33m.\u001b[0m\u001b[0mget_version\u001b[0m\u001b[1;33m(\u001b[0m\u001b[1;33m)\u001b[0m\u001b[1;33m\u001b[0m\u001b[1;33m\u001b[0m\u001b[0m\n\u001b[0m\u001b[0;32m    607\u001b[0m         \u001b[0mself\u001b[0m\u001b[1;33m.\u001b[0m\u001b[0mnum_threads\u001b[0m \u001b[1;33m=\u001b[0m \u001b[0mself\u001b[0m\u001b[1;33m.\u001b[0m\u001b[0mget_num_threads\u001b[0m\u001b[1;33m(\u001b[0m\u001b[1;33m)\u001b[0m\u001b[1;33m\u001b[0m\u001b[1;33m\u001b[0m\u001b[0m\n\u001b[0;32m    608\u001b[0m         \u001b[0mself\u001b[0m\u001b[1;33m.\u001b[0m\u001b[0m_get_extra_info\u001b[0m\u001b[1;33m(\u001b[0m\u001b[1;33m)\u001b[0m\u001b[1;33m\u001b[0m\u001b[1;33m\u001b[0m\u001b[0m\n",
      "\u001b[1;32m~\\anaconda\\lib\\site-packages\\threadpoolctl.py\u001b[0m in \u001b[0;36mget_version\u001b[1;34m(self)\u001b[0m\n\u001b[0;32m    644\u001b[0m                              lambda: None)\n\u001b[0;32m    645\u001b[0m         \u001b[0mget_config\u001b[0m\u001b[1;33m.\u001b[0m\u001b[0mrestype\u001b[0m \u001b[1;33m=\u001b[0m \u001b[0mctypes\u001b[0m\u001b[1;33m.\u001b[0m\u001b[0mc_char_p\u001b[0m\u001b[1;33m\u001b[0m\u001b[1;33m\u001b[0m\u001b[0m\n\u001b[1;32m--> 646\u001b[1;33m         \u001b[0mconfig\u001b[0m \u001b[1;33m=\u001b[0m \u001b[0mget_config\u001b[0m\u001b[1;33m(\u001b[0m\u001b[1;33m)\u001b[0m\u001b[1;33m.\u001b[0m\u001b[0msplit\u001b[0m\u001b[1;33m(\u001b[0m\u001b[1;33m)\u001b[0m\u001b[1;33m\u001b[0m\u001b[1;33m\u001b[0m\u001b[0m\n\u001b[0m\u001b[0;32m    647\u001b[0m         \u001b[1;32mif\u001b[0m \u001b[0mconfig\u001b[0m\u001b[1;33m[\u001b[0m\u001b[1;36m0\u001b[0m\u001b[1;33m]\u001b[0m \u001b[1;33m==\u001b[0m \u001b[1;34mb\"OpenBLAS\"\u001b[0m\u001b[1;33m:\u001b[0m\u001b[1;33m\u001b[0m\u001b[1;33m\u001b[0m\u001b[0m\n\u001b[0;32m    648\u001b[0m             \u001b[1;32mreturn\u001b[0m \u001b[0mconfig\u001b[0m\u001b[1;33m[\u001b[0m\u001b[1;36m1\u001b[0m\u001b[1;33m]\u001b[0m\u001b[1;33m.\u001b[0m\u001b[0mdecode\u001b[0m\u001b[1;33m(\u001b[0m\u001b[1;34m\"utf-8\"\u001b[0m\u001b[1;33m)\u001b[0m\u001b[1;33m\u001b[0m\u001b[1;33m\u001b[0m\u001b[0m\n",
      "\u001b[1;31mAttributeError\u001b[0m: 'NoneType' object has no attribute 'split'"
     ]
    }
   ],
   "source": [
    "# At current particles, fit mixture normal\n",
    "mixture_obj, bestG = mixture_model_fit(wass_train_summary_statistics, maxG)"
   ]
  },
  {
   "cell_type": "code",
   "execution_count": 49,
   "metadata": {},
   "outputs": [],
   "source": [
    "# Start training\n",
    "\n",
    "# Hyperparams\n",
    "patience_max = 20\n",
    "patience = 0 \n",
    "stop = 5000\n",
    "eps = 0.01\n",
    "t_w = 20\n",
    "\n",
    "# Initialize empty chain\n",
    "mixture_obj_seq = [0] * stop\n",
    "bestG_seq = [0] * stop\n",
    "mixture_obj_seq[0] = mixture_obj\n",
    "bestG_seq[0] = bestG\n",
    "lb = []\n",
    "LB_Smoothed = []"
   ]
  },
  {
   "cell_type": "code",
   "execution_count": 50,
   "metadata": {},
   "outputs": [
    {
     "name": "stdout",
     "output_type": "stream",
     "text": [
      "LB -1.1463180887120012\n",
      "LB -6.8214438807041535\n",
      "LB -3.8201943585755234\n",
      "LB -4.002419966428465\n",
      "LB -3.2877819092842246\n",
      "LB -3.067778122232961\n",
      "LB -2.83797156223765\n",
      "LB -2.2729939299880066\n",
      "LB -2.3962397499542574\n",
      "LB -1.925641681446658\n",
      "LB -2.401502351882411\n",
      "LB -1.5128462762934245\n",
      "LB -1.477373446540183\n",
      "LB -1.3115607130375038\n",
      "LB -1.3143509512021334\n",
      "LB -1.7323694651750798\n",
      "LB -1.4394584183853487\n",
      "LB -0.6624974114042181\n",
      "LB -0.4792234204333147\n",
      "LB -1.4899500238899408\n",
      "LB Smoothed -2.329136717847129\n",
      "LB Smoothed -1.9788327019118834\n",
      "LB Smoothed -1.7905212198732645\n",
      "LB Smoothed -1.586537162944856\n",
      "LB Smoothed -1.4661179417417616\n",
      "LB Smoothed -1.3414599618471115\n",
      "LB Smoothed -1.2378655328954031\n",
      "LB Smoothed -1.1321263582138776\n",
      "LB Smoothed -0.9879154915745925\n",
      "LB Smoothed -0.8643683989552065\n",
      "LB Smoothed -0.7329170459037847\n",
      "LB Smoothed -0.646824605539749\n",
      "LB Smoothed -0.5437825643737844\n",
      "LB Smoothed -0.4475362526572318\n",
      "LB Smoothed -0.35748904640789086\n",
      "LB Smoothed -0.22982065597565685\n",
      "LB Smoothed -0.15790704664911062\n",
      "LB Smoothed -0.08349938709538769\n",
      "LB Smoothed -0.006338543839092475\n",
      "LB Smoothed 0.11744264685024715\n",
      "LB Smoothed 0.16463973407480634\n",
      "LB Smoothed 0.2444604930061179\n",
      "LB Smoothed 0.29609848104859127\n",
      "LB Smoothed 0.3969905001713904\n",
      "LB Smoothed 0.48768210717863403\n",
      "LB Smoothed 0.5619501690033395\n",
      "LB Smoothed 0.6398246889045391\n",
      "LB Smoothed 0.6849423586695678\n",
      "LB Smoothed 0.7406433745238639\n",
      "LB Smoothed 0.8031507968640424\n",
      "LB Smoothed 0.8388535405749665\n",
      "LB Smoothed 0.8603352445507738\n",
      "LB Smoothed 0.9132789601843296\n",
      "LB Smoothed 0.9443870874468692\n",
      "LB Smoothed 0.970211678186199\n",
      "LB Smoothed 1.0416478384827483\n",
      "LB Smoothed 1.064024726804882\n",
      "LB Smoothed 1.0851916572351106\n",
      "LB Smoothed 1.1066098936917128\n",
      "LB Smoothed 1.195727015192819\n",
      "LB Smoothed 1.20406283511088\n",
      "LB Smoothed 1.2901319352967466\n",
      "LB Smoothed 1.3438237637881736\n",
      "LB Smoothed 1.3727976589633115\n",
      "LB Smoothed 1.43253319740133\n",
      "LB Smoothed 1.4526656714196444\n",
      "LB Smoothed 1.4726936610050918\n",
      "LB Smoothed 1.516675266834764\n",
      "LB Smoothed 1.5575608521633908\n",
      "LB Smoothed 1.6136697866863718\n",
      "LB Smoothed 1.6706148288346319\n",
      "LB Smoothed 1.688463163518912\n",
      "LB Smoothed 1.733539201610246\n",
      "LB Smoothed 1.7705331134459679\n",
      "LB Smoothed 1.8424254879564472\n",
      "LB Smoothed 1.9064333517937393\n",
      "LB Smoothed 1.9643678297106577\n",
      "LB Smoothed 2.0022374047741183\n",
      "LB Smoothed 2.0109037786677613\n",
      "LB Smoothed 2.044450525692673\n",
      "LB Smoothed 2.0561196778418926\n",
      "LB Smoothed 2.0662850705678806\n",
      "LB Smoothed 2.1290428026075183\n",
      "LB Smoothed 2.1867146435403884\n",
      "LB Smoothed 2.2193899615032677\n",
      "LB Smoothed 2.285836815629879\n",
      "LB Smoothed 2.2834925236135066\n",
      "LB Smoothed 2.3017410582281266\n",
      "LB Smoothed 2.357694832601442\n",
      "LB Smoothed 2.3829372143693233\n",
      "LB Smoothed 2.4495609850053093\n",
      "LB Smoothed 2.4773899461937576\n",
      "LB Smoothed 2.5046385810348735\n",
      "LB Smoothed 2.4989544058455557\n",
      "LB Smoothed 2.508129411412314\n",
      "LB Smoothed 2.5132625082487046\n",
      "LB Smoothed 2.571086596610053\n",
      "LB Smoothed 2.5730627258937604\n",
      "LB Smoothed 2.628789650841958\n",
      "LB Smoothed 2.6557456051696477\n",
      "LB Smoothed 2.6815110500327304\n",
      "LB Smoothed 2.7017194791151735\n",
      "LB Smoothed 2.695786207715173\n",
      "LB Smoothed 2.722635753828762\n",
      "LB Smoothed 2.7150587643032122\n",
      "LB Smoothed 2.7697104207290564\n",
      "LB Smoothed 2.7893356527013884\n",
      "LB Smoothed 2.81357198342709\n",
      "LB Smoothed 2.861923251375169\n",
      "LB Smoothed 2.845959853779906\n",
      "LB Smoothed 2.8678061037531553\n",
      "LB Smoothed 2.891600007405867\n",
      "LB Smoothed 2.9065519823822816\n",
      "LB Smoothed 2.924173017741063\n",
      "LB Smoothed 2.964907136516017\n",
      "LB Smoothed 2.9850226131287783\n",
      "LB Smoothed 3.000547496348176\n",
      "LB Smoothed 3.0232799735997893\n",
      "LB Smoothed 3.0089006818699735\n",
      "LB Smoothed 3.0272809183041773\n",
      "LB Smoothed 3.011186652928036\n",
      "LB Smoothed 3.026119500480286\n",
      "LB Smoothed 3.0714025248297965\n",
      "LB Smoothed 3.111121450520851\n",
      "LB Smoothed 3.093090001641312\n",
      "LB Smoothed 3.106148937884038\n",
      "LB Smoothed 3.0876912154390084\n",
      "LB Smoothed 3.0690986910718543\n",
      "LB Smoothed 3.1063002912208963\n",
      "LB Smoothed 3.119229511016934\n",
      "LB Smoothed 3.1288267184241803\n",
      "LB Smoothed 3.1395252040821324\n",
      "LB Smoothed 3.1486532752828946\n",
      "LB Smoothed 3.1370926953056903\n",
      "LB Smoothed 3.1155433539511876\n",
      "LB Smoothed 3.12502129902536\n",
      "LB Smoothed 3.104625525633739\n",
      "LB Smoothed 3.114369757087486\n",
      "LB Smoothed 3.1233198614156454\n",
      "LB Smoothed 3.1396427579877955\n",
      "LB Smoothed 3.1541390970318743\n",
      "LB Smoothed 3.132306911628184\n",
      "LB Smoothed 3.120651151041288\n",
      "LB Smoothed 3.1330505049431205\n",
      "LB Smoothed 3.1424029144826457\n",
      "LB Smoothed 3.147756072477277\n",
      "LB Smoothed 3.1589360559950324\n",
      "LB Smoothed 3.143523084022358\n",
      "LB Smoothed 3.1551232533236244\n",
      "LB Smoothed 3.166607505221346\n",
      "LB Smoothed 3.179133907126779\n",
      "LB Smoothed 3.1898667141604515\n",
      "LB Smoothed 3.200546949412885\n",
      "LB Smoothed 3.2130111207075904\n",
      "LB Smoothed 3.2239071793983114\n",
      "LB Smoothed 3.2349608639592753\n",
      "LB Smoothed 3.24419895028607\n",
      "LB Smoothed 3.2545708598624796\n",
      "LB Smoothed 3.2644778780434995\n",
      "LB Smoothed 3.271436453939182\n",
      "LB Smoothed 3.2937999784786682\n",
      "LB Smoothed 3.3002005141599455\n",
      "LB Smoothed 3.3086636472962128\n",
      "LB Smoothed 3.3174858579502877\n",
      "LB Smoothed 3.330274695600349\n",
      "LB Smoothed 3.3511313146301718\n",
      "LB Smoothed 3.3591649098526\n",
      "LB Smoothed 3.3665945924076355\n",
      "LB Smoothed 3.3859001525900045\n",
      "LB Smoothed 3.392803877126881\n",
      "LB Smoothed 3.39858593966619\n",
      "LB Smoothed 3.402653755504383\n",
      "LB Smoothed 3.409171095333643\n",
      "LB Smoothed 3.415341024470743\n",
      "LB Smoothed 3.4184245334794165\n",
      "LB Smoothed 3.425549638844618\n",
      "LB Smoothed 3.4412687572046776\n",
      "LB Smoothed 3.4566211764656414\n",
      "LB Smoothed 3.4617580868553914\n",
      "LB Smoothed 3.4635271042644447\n",
      "LB Smoothed 3.4693832198798513\n",
      "LB Smoothed 3.4839560137293\n",
      "LB Smoothed 3.4888414925337266\n",
      "LB Smoothed 3.4951384637951532\n",
      "LB Smoothed 3.4878696072093702\n",
      "LB Smoothed 3.503293340845276\n",
      "LB Smoothed 3.5138659383275868\n",
      "LB Smoothed 3.51904645305592\n",
      "LB Smoothed 3.526793642073752\n",
      "LB Smoothed 3.538034901035078\n",
      "LB Smoothed 3.5499669661854214\n",
      "LB Smoothed 3.56061924195424\n",
      "LB Smoothed 3.558678154438598\n",
      "LB Smoothed 3.570610821146879\n",
      "LB Smoothed 3.578748104091178\n",
      "LB Smoothed 3.579396371584805\n",
      "LB Smoothed 3.578121136896433\n",
      "LB Smoothed 3.5937102929910587\n",
      "LB Smoothed 3.5844266496866877\n",
      "LB Smoothed 3.579883170499667\n",
      "LB Smoothed 3.5765674043935904\n",
      "LB Smoothed 3.585679428621546\n",
      "LB Smoothed 3.584303169128275\n",
      "LB Smoothed 3.58124160027333\n",
      "LB Smoothed 3.5738665791121624\n",
      "LB Smoothed 3.5758137365059848\n",
      "LB Smoothed 3.5707363882447254\n",
      "LB Smoothed 3.5764627833737856\n",
      "LB Smoothed 3.5792515998726855\n",
      "LB Smoothed 3.5796588673461236\n",
      "LB Smoothed 3.575768553630914\n",
      "LB Smoothed 3.589916073239255\n",
      "LB Smoothed 3.5893806157257804\n",
      "LB Smoothed 3.584593018876847\n",
      "LB Smoothed 3.5852469818337047\n",
      "LB Smoothed 3.5878571533987387\n",
      "LB Smoothed 3.583457585822293\n",
      "LB Smoothed 3.5927311269567297\n",
      "LB Smoothed 3.6075891392131436\n",
      "LB Smoothed 3.618107499883186\n",
      "LB Smoothed 3.6171521379902885\n",
      "LB Smoothed 3.6268630833222795\n",
      "LB Smoothed 3.6392590637466604\n",
      "LB Smoothed 3.639825392853816\n",
      "LB Smoothed 3.6414859065884944\n",
      "LB Smoothed 3.643539650049097\n",
      "LB Smoothed 3.6441101915188154\n",
      "LB Smoothed 3.64466366072497\n",
      "LB Smoothed 3.6452005394425884\n",
      "LB Smoothed 3.651410628445295\n",
      "LB Smoothed 3.651915191291754\n",
      "LB Smoothed 3.6536320238503635\n",
      "LB Smoothed 3.66194968571269\n",
      "LB Smoothed 3.662412285218322\n",
      "LB Smoothed 3.6628608797279374\n",
      "LB Smoothed 3.6632958640073046\n",
      "LB Smoothed 3.6652208304580136\n",
      "LB Smoothed 3.665634519660577\n",
      "LB Smoothed 3.66151459874735\n",
      "LB Smoothed 3.6640955588103017\n",
      "LB Smoothed 3.664505973789616\n",
      "LB Smoothed 3.6649041240037787\n",
      "LB Smoothed 3.671027500862195\n",
      "LB Smoothed 3.6714034655969443\n",
      "LB Smoothed 3.671768150046466\n",
      "LB Smoothed 3.672121865951897\n",
      "LB Smoothed 3.6717317848159094\n",
      "LB Smoothed 3.672060777213215\n",
      "LB Smoothed 3.672379739908644\n",
      "LB Smoothed 3.67268895020532\n",
      "LB Smoothed 3.6728137314027176\n",
      "LB Smoothed 3.6731073000563037\n",
      "LB Smoothed 3.6733918407340895\n",
      "LB Smoothed 3.673667602353905\n",
      "LB Smoothed 3.6739348268948704\n",
      "LB Smoothed 3.6741937495958754\n",
      "LB Smoothed 3.6744445991484627\n",
      "LB Smoothed 3.6731880993205386\n",
      "LB Smoothed 3.673435500441413\n",
      "LB Smoothed 3.673675234916112\n",
      "LB Smoothed 3.6739075119397087\n",
      "LB Smoothed 3.674132534946888\n",
      "LB Smoothed 3.6743505017760643\n",
      "LB Smoothed 3.6745616048288228\n",
      "LB Smoothed 3.6747660312247774\n",
      "LB Smoothed 3.675697094458945\n",
      "LB Smoothed 3.675892395485834\n",
      "LB Smoothed 3.674315687818389\n",
      "LB Smoothed 3.6744953527808653\n",
      "LB Smoothed 3.6736166539663353\n",
      "LB Smoothed 3.673784539219372\n",
      "LB Smoothed 3.673946931994024\n",
      "LB Smoothed 3.67410398194875\n",
      "LB Smoothed 3.674255834673569\n",
      "LB Smoothed 3.6744026318053957\n",
      "LB Smoothed 3.6745445111399953\n",
      "LB Smoothed 3.6746816067406964\n",
      "LB Smoothed 3.6748140490439227\n",
      "LB Smoothed 3.674941964961648\n",
      "LB Smoothed 3.6672545857687453\n",
      "LB Smoothed 3.6673721941186215\n",
      "LB Smoothed 3.6674856533109157\n",
      "LB Smoothed 3.6675950768652386\n",
      "LB Smoothed 3.6677005752534613\n",
      "LB Smoothed 3.671563199439948\n",
      "LB Smoothed 3.671659186750863\n",
      "LB Smoothed 3.673517420363998\n",
      "LB Smoothed 3.674185661902949\n",
      "Stop at 287\n"
     ]
    }
   ],
   "source": [
    "for t in range(stop):\n",
    "    stepsize = eps\n",
    "\n",
    "    train_grad_log_f = grad_log_density_mixture(wass_train_summary_statistics, mixture_obj)[1]\n",
    "    v = -wass_train_summary_statistics-train_grad_log_f\n",
    "    wass_train_summary_statistics = wass_train_summary_statistics + stepsize * v\n",
    "\n",
    "    val_grad_log_f = grad_log_density_mixture(wass_val_summary_statistics, mixture_obj)[1]\n",
    "    val_log_f = grad_log_density_mixture(wass_val_summary_statistics, mixture_obj)[0]\n",
    "    v = -wass_val_summary_statistics-val_grad_log_f\n",
    "    wass_val_summary_statistics = wass_val_summary_statistics + stepsize * v\n",
    "    h_vector = -1/2 * np.diag(wass_val_summary_statistics @ wass_val_summary_statistics.T) - val_log_f \n",
    "\n",
    "    test_grad_log_f = grad_log_density_mixture(wass_test_summary_statistics, mixture_obj)[1]\n",
    "    v = -wass_test_summary_statistics-test_grad_log_f\n",
    "    wass_test_summary_statistics = wass_test_summary_statistics + stepsize * v\n",
    "\n",
    "    # Update new mixture model\n",
    "    mixture_obj = mixture_model_fit(wass_train_summary_statistics, maxG)[0]\n",
    "    bestG = mixture_model_fit(wass_train_summary_statistics, maxG)[1]\n",
    "\n",
    "    if min(mixture_obj.weights_) < 0.005:\n",
    "        mixture_obj = mixture_model_fit(wass_train_summary_statistics, bestG - 1)[0]\n",
    "\n",
    "    mixture_obj_seq[t+1] = mixture_obj\n",
    "    bestG_seq[t+1] = bestG\n",
    "\n",
    "    lb.append(np.mean(h_vector))\n",
    "\n",
    "    if t < t_w:\n",
    "        print('LB', np.mean(h_vector))\n",
    "\n",
    "    if t >= t_w:\n",
    "        LB_smoothed = np.mean(lb[t - t_w + 1 : t])\n",
    "        print('LB Smoothed', LB_smoothed)\n",
    "        LB_Smoothed.append(LB_smoothed)\n",
    "        if LB_smoothed >= np.max(LB_Smoothed):\n",
    "            patience = 0\n",
    "        else:\n",
    "            patience += 1\n",
    "            if patience > patience_max:\n",
    "                print(\"Stop at\", t)\n",
    "                break"
   ]
  },
  {
   "cell_type": "code",
   "execution_count": 51,
   "metadata": {},
   "outputs": [
    {
     "data": {
      "text/plain": [
       "<AxesSubplot:title={'center':'Lower Bound Estimate'}>"
      ]
     },
     "execution_count": 51,
     "metadata": {},
     "output_type": "execute_result"
    },
    {
     "data": {
      "text/plain": [
       "<Figure size 432x288 with 0 Axes>"
      ]
     },
     "metadata": {},
     "output_type": "display_data"
    },
    {
     "data": {
      "image/png": "[encoded data removed]",
      "text/plain": [
       "<Figure size 432x288 with 1 Axes>"
      ]
     },
     "metadata": {
      "needs_background": "light"
     },
     "output_type": "display_data"
    }
   ],
   "source": [
    "wass_lb_df = pd.DataFrame(np.array(lb[50:]))\n",
    "plt.figure()\n",
    "wass_lb_df.plot(title = 'Lower Bound Estimate', legend = False)"
   ]
  },
  {
   "cell_type": "code",
   "execution_count": 52,
   "metadata": {},
   "outputs": [
    {
     "data": {
      "text/plain": [
       "<AxesSubplot:title={'center':'Smoothed Lower Bound Estimate'}>"
      ]
     },
     "execution_count": 52,
     "metadata": {},
     "output_type": "execute_result"
    },
    {
     "data": {
      "text/plain": [
       "<Figure size 432x288 with 0 Axes>"
      ]
     },
     "metadata": {},
     "output_type": "display_data"
    },
    {
     "data": {
      "image/png": "[encoded data removed]",
      "text/plain": [
       "<Figure size 432x288 with 1 Axes>"
      ]
     },
     "metadata": {
      "needs_background": "light"
     },
     "output_type": "display_data"
    }
   ],
   "source": [
    "wass_smoothed_lb_df = pd.DataFrame(np.array(LB_Smoothed))\n",
    "plt.figure()\n",
    "wass_smoothed_lb_df.plot(title = 'Smoothed Lower Bound Estimate', legend = False)"
   ]
  },
  {
   "cell_type": "code",
   "execution_count": 53,
   "metadata": {},
   "outputs": [
    {
     "data": {
      "text/plain": [
       "<AxesSubplot:>"
      ]
     },
     "execution_count": 53,
     "metadata": {},
     "output_type": "execute_result"
    },
    {
     "data": {
      "image/png": "[encoded data removed]",
      "text/plain": [
       "<Figure size 432x288 with 1 Axes>"
      ]
     },
     "metadata": {
      "needs_background": "light"
     },
     "output_type": "display_data"
    }
   ],
   "source": [
    "pd.Series(np.random.normal(np.mean(original_train_summary_statistics[:,0]),np.std(original_train_summary_statistics[:,0]), len(original_train_summary_statistics[:,0]))\n",
    ").hist(bins = 50)"
   ]
  },
  {
   "cell_type": "code",
   "execution_count": 54,
   "metadata": {},
   "outputs": [
    {
     "data": {
      "text/plain": [
       "<AxesSubplot:>"
      ]
     },
     "execution_count": 54,
     "metadata": {},
     "output_type": "execute_result"
    },
    {
     "data": {
      "image/png": "[encoded data removed]",
      "text/plain": [
       "<Figure size 432x288 with 1 Axes>"
      ]
     },
     "metadata": {
      "needs_background": "light"
     },
     "output_type": "display_data"
    }
   ],
   "source": [
    "pd.Series(np.random.normal(np.mean(wass_train_summary_statistics[:,0]),np.std(wass_train_summary_statistics[:,0]), len(wass_train_summary_statistics[:,0]))\n",
    ").hist(bins = 50)"
   ]
  },
  {
   "cell_type": "code",
   "execution_count": 55,
   "metadata": {},
   "outputs": [
    {
     "data": {
      "text/plain": [
       "<matplotlib.collections.PathCollection at 0x130facfd0>"
      ]
     },
     "execution_count": 55,
     "metadata": {},
     "output_type": "execute_result"
    },
    {
     "data": {
      "image/png": "[encoded data removed]",
      "text/plain": [
       "<Figure size 432x288 with 1 Axes>"
      ]
     },
     "metadata": {
      "needs_background": "light"
     },
     "output_type": "display_data"
    }
   ],
   "source": [
    "plt.scatter(original_train_summary_statistics[:,0], original_train_summary_statistics[:,1])"
   ]
  },
  {
   "cell_type": "code",
   "execution_count": 56,
   "metadata": {},
   "outputs": [
    {
     "data": {
      "text/plain": [
       "<matplotlib.collections.PathCollection at 0x12c3d00d0>"
      ]
     },
     "execution_count": 56,
     "metadata": {},
     "output_type": "execute_result"
    },
    {
     "data": {
      "image/png": "[encoded data removed]",
      "text/plain": [
       "<Figure size 432x288 with 1 Axes>"
      ]
     },
     "metadata": {
      "needs_background": "light"
     },
     "output_type": "display_data"
    }
   ],
   "source": [
    "plt.scatter(wass_train_summary_statistics[:,0], wass_train_summary_statistics[:,1])"
   ]
  },
  {
   "cell_type": "code",
   "execution_count": 57,
   "metadata": {},
   "outputs": [
    {
     "data": {
      "text/plain": [
       "[GaussianMixture(n_components=4, reg_covar=1e-10),\n",
       " GaussianMixture(n_components=4, reg_covar=1e-10),\n",
       " GaussianMixture(n_components=3, reg_covar=1e-10),\n",
       " GaussianMixture(n_components=3, reg_covar=1e-10),\n",
       " GaussianMixture(n_components=3, reg_covar=1e-10),\n",
       " GaussianMixture(n_components=3, reg_covar=1e-10),\n",
       " GaussianMixture(n_components=3, reg_covar=1e-10),\n",
       " GaussianMixture(n_components=3, reg_covar=1e-10),\n",
       " GaussianMixture(n_components=3, reg_covar=1e-10),\n",
       " GaussianMixture(n_components=2, reg_covar=1e-10),\n",
       " GaussianMixture(n_components=3, reg_covar=1e-10),\n",
       " GaussianMixture(n_components=2, reg_covar=1e-10),\n",
       " GaussianMixture(n_components=2, reg_covar=1e-10),\n",
       " GaussianMixture(n_components=2, reg_covar=1e-10),\n",
       " GaussianMixture(n_components=2, reg_covar=1e-10),\n",
       " GaussianMixture(n_components=4, reg_covar=1e-10),\n",
       " GaussianMixture(n_components=3, reg_covar=1e-10),\n",
       " GaussianMixture(n_components=2, reg_covar=1e-10),\n",
       " GaussianMixture(n_components=2, reg_covar=1e-10),\n",
       " GaussianMixture(n_components=3, reg_covar=1e-10),\n",
       " GaussianMixture(n_components=3, reg_covar=1e-10),\n",
       " GaussianMixture(n_components=2, reg_covar=1e-10),\n",
       " GaussianMixture(n_components=2, reg_covar=1e-10),\n",
       " GaussianMixture(n_components=4, reg_covar=1e-10),\n",
       " GaussianMixture(n_components=3, reg_covar=1e-10),\n",
       " GaussianMixture(n_components=3, reg_covar=1e-10),\n",
       " GaussianMixture(n_components=4, reg_covar=1e-10),\n",
       " GaussianMixture(n_components=3, reg_covar=1e-10),\n",
       " GaussianMixture(n_components=2, reg_covar=1e-10),\n",
       " GaussianMixture(n_components=3, reg_covar=1e-10),\n",
       " GaussianMixture(n_components=4, reg_covar=1e-10),\n",
       " GaussianMixture(n_components=3, reg_covar=1e-10),\n",
       " GaussianMixture(n_components=3, reg_covar=1e-10),\n",
       " GaussianMixture(n_components=4, reg_covar=1e-10),\n",
       " GaussianMixture(n_components=3, reg_covar=1e-10),\n",
       " GaussianMixture(n_components=3, reg_covar=1e-10),\n",
       " GaussianMixture(n_components=3, reg_covar=1e-10),\n",
       " GaussianMixture(n_components=3, reg_covar=1e-10),\n",
       " GaussianMixture(n_components=4, reg_covar=1e-10),\n",
       " GaussianMixture(n_components=4, reg_covar=1e-10),\n",
       " GaussianMixture(n_components=3, reg_covar=1e-10),\n",
       " GaussianMixture(n_components=4, reg_covar=1e-10),\n",
       " GaussianMixture(n_components=4, reg_covar=1e-10),\n",
       " GaussianMixture(n_components=4, reg_covar=1e-10),\n",
       " GaussianMixture(n_components=3, reg_covar=1e-10),\n",
       " GaussianMixture(n_components=4, reg_covar=1e-10),\n",
       " GaussianMixture(n_components=4, reg_covar=1e-10),\n",
       " GaussianMixture(n_components=3, reg_covar=1e-10),\n",
       " GaussianMixture(n_components=4, reg_covar=1e-10),\n",
       " GaussianMixture(n_components=4, reg_covar=1e-10),\n",
       " GaussianMixture(n_components=3, reg_covar=1e-10),\n",
       " GaussianMixture(n_components=4, reg_covar=1e-10),\n",
       " GaussianMixture(n_components=4, reg_covar=1e-10),\n",
       " GaussianMixture(n_components=2, reg_covar=1e-10),\n",
       " GaussianMixture(n_components=2, reg_covar=1e-10),\n",
       " GaussianMixture(n_components=4, reg_covar=1e-10),\n",
       " GaussianMixture(n_components=2, reg_covar=1e-10),\n",
       " GaussianMixture(n_components=4, reg_covar=1e-10),\n",
       " GaussianMixture(reg_covar=1e-10),\n",
       " GaussianMixture(n_components=3, reg_covar=1e-10),\n",
       " GaussianMixture(reg_covar=1e-10),\n",
       " GaussianMixture(n_components=4, reg_covar=1e-10),\n",
       " GaussianMixture(n_components=2, reg_covar=1e-10),\n",
       " GaussianMixture(n_components=2, reg_covar=1e-10),\n",
       " GaussianMixture(n_components=4, reg_covar=1e-10),\n",
       " GaussianMixture(n_components=4, reg_covar=1e-10),\n",
       " GaussianMixture(n_components=3, reg_covar=1e-10),\n",
       " GaussianMixture(n_components=4, reg_covar=1e-10),\n",
       " GaussianMixture(n_components=2, reg_covar=1e-10),\n",
       " GaussianMixture(n_components=2, reg_covar=1e-10),\n",
       " GaussianMixture(n_components=3, reg_covar=1e-10),\n",
       " GaussianMixture(n_components=4, reg_covar=1e-10),\n",
       " GaussianMixture(n_components=4, reg_covar=1e-10),\n",
       " GaussianMixture(n_components=4, reg_covar=1e-10),\n",
       " GaussianMixture(n_components=4, reg_covar=1e-10),\n",
       " GaussianMixture(n_components=4, reg_covar=1e-10),\n",
       " GaussianMixture(n_components=4, reg_covar=1e-10),\n",
       " GaussianMixture(n_components=2, reg_covar=1e-10),\n",
       " GaussianMixture(n_components=4, reg_covar=1e-10),\n",
       " GaussianMixture(n_components=2, reg_covar=1e-10),\n",
       " GaussianMixture(n_components=4, reg_covar=1e-10),\n",
       " GaussianMixture(n_components=2, reg_covar=1e-10),\n",
       " GaussianMixture(n_components=2, reg_covar=1e-10),\n",
       " GaussianMixture(n_components=3, reg_covar=1e-10),\n",
       " GaussianMixture(n_components=2, reg_covar=1e-10),\n",
       " GaussianMixture(n_components=3, reg_covar=1e-10),\n",
       " GaussianMixture(n_components=2, reg_covar=1e-10),\n",
       " GaussianMixture(n_components=2, reg_covar=1e-10),\n",
       " GaussianMixture(n_components=2, reg_covar=1e-10),\n",
       " GaussianMixture(reg_covar=1e-10),\n",
       " GaussianMixture(n_components=4, reg_covar=1e-10),\n",
       " GaussianMixture(n_components=4, reg_covar=1e-10),\n",
       " GaussianMixture(n_components=2, reg_covar=1e-10),\n",
       " GaussianMixture(n_components=2, reg_covar=1e-10),\n",
       " GaussianMixture(n_components=2, reg_covar=1e-10),\n",
       " GaussianMixture(n_components=4, reg_covar=1e-10),\n",
       " GaussianMixture(n_components=2, reg_covar=1e-10),\n",
       " GaussianMixture(n_components=4, reg_covar=1e-10),\n",
       " GaussianMixture(n_components=2, reg_covar=1e-10),\n",
       " GaussianMixture(n_components=2, reg_covar=1e-10),\n",
       " GaussianMixture(n_components=4, reg_covar=1e-10),\n",
       " GaussianMixture(n_components=2, reg_covar=1e-10),\n",
       " GaussianMixture(n_components=2, reg_covar=1e-10),\n",
       " GaussianMixture(n_components=2, reg_covar=1e-10),\n",
       " GaussianMixture(reg_covar=1e-10),\n",
       " GaussianMixture(n_components=2, reg_covar=1e-10),\n",
       " GaussianMixture(n_components=4, reg_covar=1e-10),\n",
       " GaussianMixture(n_components=2, reg_covar=1e-10),\n",
       " GaussianMixture(n_components=2, reg_covar=1e-10),\n",
       " GaussianMixture(n_components=2, reg_covar=1e-10),\n",
       " GaussianMixture(n_components=2, reg_covar=1e-10),\n",
       " GaussianMixture(n_components=2, reg_covar=1e-10),\n",
       " GaussianMixture(n_components=2, reg_covar=1e-10),\n",
       " GaussianMixture(n_components=4, reg_covar=1e-10),\n",
       " GaussianMixture(n_components=4, reg_covar=1e-10),\n",
       " GaussianMixture(n_components=2, reg_covar=1e-10),\n",
       " GaussianMixture(n_components=4, reg_covar=1e-10),\n",
       " GaussianMixture(n_components=2, reg_covar=1e-10),\n",
       " GaussianMixture(n_components=2, reg_covar=1e-10),\n",
       " GaussianMixture(n_components=4, reg_covar=1e-10),\n",
       " GaussianMixture(n_components=2, reg_covar=1e-10),\n",
       " GaussianMixture(n_components=4, reg_covar=1e-10),\n",
       " GaussianMixture(n_components=4, reg_covar=1e-10),\n",
       " GaussianMixture(n_components=2, reg_covar=1e-10),\n",
       " GaussianMixture(n_components=2, reg_covar=1e-10),\n",
       " GaussianMixture(n_components=2, reg_covar=1e-10),\n",
       " GaussianMixture(n_components=2, reg_covar=1e-10),\n",
       " GaussianMixture(n_components=2, reg_covar=1e-10),\n",
       " GaussianMixture(n_components=2, reg_covar=1e-10),\n",
       " GaussianMixture(n_components=2, reg_covar=1e-10),\n",
       " GaussianMixture(n_components=4, reg_covar=1e-10),\n",
       " GaussianMixture(n_components=2, reg_covar=1e-10),\n",
       " GaussianMixture(n_components=2, reg_covar=1e-10),\n",
       " GaussianMixture(n_components=4, reg_covar=1e-10),\n",
       " GaussianMixture(n_components=2, reg_covar=1e-10),\n",
       " GaussianMixture(n_components=2, reg_covar=1e-10),\n",
       " GaussianMixture(n_components=2, reg_covar=1e-10),\n",
       " GaussianMixture(n_components=2, reg_covar=1e-10),\n",
       " GaussianMixture(n_components=2, reg_covar=1e-10),\n",
       " GaussianMixture(n_components=2, reg_covar=1e-10),\n",
       " GaussianMixture(n_components=2, reg_covar=1e-10),\n",
       " GaussianMixture(n_components=2, reg_covar=1e-10),\n",
       " GaussianMixture(n_components=2, reg_covar=1e-10),\n",
       " GaussianMixture(n_components=2, reg_covar=1e-10),\n",
       " GaussianMixture(n_components=4, reg_covar=1e-10),\n",
       " GaussianMixture(n_components=2, reg_covar=1e-10),\n",
       " GaussianMixture(n_components=2, reg_covar=1e-10),\n",
       " GaussianMixture(n_components=2, reg_covar=1e-10),\n",
       " GaussianMixture(n_components=2, reg_covar=1e-10),\n",
       " GaussianMixture(n_components=2, reg_covar=1e-10),\n",
       " GaussianMixture(n_components=2, reg_covar=1e-10),\n",
       " GaussianMixture(n_components=2, reg_covar=1e-10),\n",
       " GaussianMixture(n_components=2, reg_covar=1e-10),\n",
       " GaussianMixture(n_components=2, reg_covar=1e-10),\n",
       " GaussianMixture(n_components=2, reg_covar=1e-10),\n",
       " GaussianMixture(n_components=2, reg_covar=1e-10),\n",
       " GaussianMixture(n_components=2, reg_covar=1e-10),\n",
       " GaussianMixture(n_components=2, reg_covar=1e-10),\n",
       " GaussianMixture(n_components=2, reg_covar=1e-10),\n",
       " GaussianMixture(n_components=2, reg_covar=1e-10),\n",
       " GaussianMixture(n_components=2, reg_covar=1e-10),\n",
       " GaussianMixture(n_components=2, reg_covar=1e-10),\n",
       " GaussianMixture(n_components=2, reg_covar=1e-10),\n",
       " GaussianMixture(n_components=2, reg_covar=1e-10),\n",
       " GaussianMixture(n_components=4, reg_covar=1e-10),\n",
       " GaussianMixture(n_components=2, reg_covar=1e-10),\n",
       " GaussianMixture(n_components=2, reg_covar=1e-10),\n",
       " GaussianMixture(n_components=2, reg_covar=1e-10),\n",
       " GaussianMixture(n_components=2, reg_covar=1e-10),\n",
       " GaussianMixture(n_components=4, reg_covar=1e-10),\n",
       " GaussianMixture(n_components=2, reg_covar=1e-10),\n",
       " GaussianMixture(n_components=2, reg_covar=1e-10),\n",
       " GaussianMixture(n_components=2, reg_covar=1e-10),\n",
       " GaussianMixture(n_components=2, reg_covar=1e-10),\n",
       " GaussianMixture(n_components=2, reg_covar=1e-10),\n",
       " GaussianMixture(n_components=2, reg_covar=1e-10),\n",
       " GaussianMixture(n_components=2, reg_covar=1e-10),\n",
       " GaussianMixture(n_components=2, reg_covar=1e-10),\n",
       " GaussianMixture(n_components=4, reg_covar=1e-10),\n",
       " GaussianMixture(n_components=2, reg_covar=1e-10),\n",
       " GaussianMixture(n_components=2, reg_covar=1e-10),\n",
       " GaussianMixture(n_components=2, reg_covar=1e-10),\n",
       " GaussianMixture(n_components=4, reg_covar=1e-10),\n",
       " GaussianMixture(n_components=2, reg_covar=1e-10),\n",
       " GaussianMixture(n_components=3, reg_covar=1e-10),\n",
       " GaussianMixture(n_components=3, reg_covar=1e-10),\n",
       " GaussianMixture(n_components=3, reg_covar=1e-10),\n",
       " GaussianMixture(n_components=2, reg_covar=1e-10),\n",
       " GaussianMixture(n_components=3, reg_covar=1e-10),\n",
       " GaussianMixture(n_components=2, reg_covar=1e-10),\n",
       " GaussianMixture(n_components=3, reg_covar=1e-10),\n",
       " GaussianMixture(n_components=3, reg_covar=1e-10),\n",
       " GaussianMixture(n_components=3, reg_covar=1e-10),\n",
       " GaussianMixture(n_components=4, reg_covar=1e-10),\n",
       " GaussianMixture(n_components=3, reg_covar=1e-10),\n",
       " GaussianMixture(n_components=4, reg_covar=1e-10),\n",
       " GaussianMixture(n_components=3, reg_covar=1e-10),\n",
       " GaussianMixture(n_components=3, reg_covar=1e-10),\n",
       " GaussianMixture(n_components=4, reg_covar=1e-10),\n",
       " GaussianMixture(n_components=3, reg_covar=1e-10),\n",
       " GaussianMixture(n_components=3, reg_covar=1e-10),\n",
       " GaussianMixture(n_components=3, reg_covar=1e-10),\n",
       " GaussianMixture(n_components=3, reg_covar=1e-10),\n",
       " GaussianMixture(n_components=4, reg_covar=1e-10),\n",
       " GaussianMixture(n_components=3, reg_covar=1e-10),\n",
       " GaussianMixture(n_components=4, reg_covar=1e-10),\n",
       " GaussianMixture(reg_covar=1e-10),\n",
       " GaussianMixture(reg_covar=1e-10),\n",
       " GaussianMixture(reg_covar=1e-10),\n",
       " GaussianMixture(n_components=4, reg_covar=1e-10),\n",
       " GaussianMixture(reg_covar=1e-10),\n",
       " GaussianMixture(reg_covar=1e-10),\n",
       " GaussianMixture(n_components=3, reg_covar=1e-10),\n",
       " GaussianMixture(reg_covar=1e-10),\n",
       " GaussianMixture(reg_covar=1e-10),\n",
       " GaussianMixture(reg_covar=1e-10),\n",
       " GaussianMixture(n_components=3, reg_covar=1e-10),\n",
       " GaussianMixture(reg_covar=1e-10),\n",
       " GaussianMixture(n_components=4, reg_covar=1e-10),\n",
       " GaussianMixture(n_components=4, reg_covar=1e-10),\n",
       " GaussianMixture(reg_covar=1e-10),\n",
       " GaussianMixture(reg_covar=1e-10),\n",
       " GaussianMixture(n_components=3, reg_covar=1e-10),\n",
       " GaussianMixture(reg_covar=1e-10),\n",
       " GaussianMixture(reg_covar=1e-10),\n",
       " GaussianMixture(reg_covar=1e-10),\n",
       " GaussianMixture(reg_covar=1e-10),\n",
       " GaussianMixture(reg_covar=1e-10),\n",
       " GaussianMixture(reg_covar=1e-10),\n",
       " GaussianMixture(reg_covar=1e-10),\n",
       " GaussianMixture(n_components=3, reg_covar=1e-10),\n",
       " GaussianMixture(reg_covar=1e-10),\n",
       " GaussianMixture(reg_covar=1e-10),\n",
       " GaussianMixture(reg_covar=1e-10),\n",
       " GaussianMixture(reg_covar=1e-10),\n",
       " GaussianMixture(reg_covar=1e-10),\n",
       " GaussianMixture(reg_covar=1e-10),\n",
       " GaussianMixture(n_components=3, reg_covar=1e-10),\n",
       " GaussianMixture(reg_covar=1e-10),\n",
       " GaussianMixture(reg_covar=1e-10),\n",
       " GaussianMixture(reg_covar=1e-10),\n",
       " GaussianMixture(reg_covar=1e-10),\n",
       " GaussianMixture(reg_covar=1e-10),\n",
       " GaussianMixture(reg_covar=1e-10),\n",
       " GaussianMixture(reg_covar=1e-10),\n",
       " GaussianMixture(n_components=3, reg_covar=1e-10),\n",
       " GaussianMixture(reg_covar=1e-10),\n",
       " GaussianMixture(reg_covar=1e-10),\n",
       " GaussianMixture(reg_covar=1e-10),\n",
       " GaussianMixture(n_components=3, reg_covar=1e-10),\n",
       " GaussianMixture(reg_covar=1e-10),\n",
       " GaussianMixture(reg_covar=1e-10),\n",
       " GaussianMixture(reg_covar=1e-10),\n",
       " GaussianMixture(reg_covar=1e-10),\n",
       " GaussianMixture(reg_covar=1e-10),\n",
       " GaussianMixture(reg_covar=1e-10),\n",
       " GaussianMixture(reg_covar=1e-10),\n",
       " GaussianMixture(reg_covar=1e-10),\n",
       " GaussianMixture(reg_covar=1e-10),\n",
       " GaussianMixture(reg_covar=1e-10),\n",
       " GaussianMixture(reg_covar=1e-10),\n",
       " GaussianMixture(reg_covar=1e-10),\n",
       " GaussianMixture(reg_covar=1e-10),\n",
       " GaussianMixture(reg_covar=1e-10),\n",
       " GaussianMixture(reg_covar=1e-10),\n",
       " GaussianMixture(reg_covar=1e-10),\n",
       " GaussianMixture(n_components=3, reg_covar=1e-10),\n",
       " GaussianMixture(reg_covar=1e-10),\n",
       " GaussianMixture(reg_covar=1e-10),\n",
       " GaussianMixture(reg_covar=1e-10),\n",
       " GaussianMixture(reg_covar=1e-10),\n",
       " GaussianMixture(reg_covar=1e-10),\n",
       " GaussianMixture(reg_covar=1e-10),\n",
       " GaussianMixture(reg_covar=1e-10),\n",
       " GaussianMixture(reg_covar=1e-10),\n",
       " GaussianMixture(reg_covar=1e-10),\n",
       " GaussianMixture(reg_covar=1e-10),\n",
       " GaussianMixture(reg_covar=1e-10),\n",
       " GaussianMixture(n_components=3, reg_covar=1e-10)]"
      ]
     },
     "execution_count": 57,
     "metadata": {},
     "output_type": "execute_result"
    }
   ],
   "source": [
    "mixture_obj_seq = [i for i in mixture_obj_seq if i!=0]\n",
    "mixture_obj_seq = mixture_obj_seq[:-10]\n",
    "mixture_obj_seq"
   ]
  },
  {
   "cell_type": "code",
   "execution_count": 58,
   "metadata": {},
   "outputs": [],
   "source": [
    "def wasserstein_transform(mixture_obj_seq, n_summary_statistics):\n",
    "    for i in range(len(mixture_obj_seq)):\n",
    "        stepsize = eps\n",
    "        mixture_obj = mixture_obj_seq[i]\n",
    "        grad_log_f = grad_log_density_mixture(n_summary_statistics, mixture_obj)[1]\n",
    "        v = -n_summary_statistics-grad_log_f\n",
    "        n_summary_statistics = n_summary_statistics + stepsize * v\n",
    "    return n_summary_statistics"
   ]
  },
  {
   "cell_type": "markdown",
   "metadata": {},
   "source": [
    "## FIND THE BEST THETA (COEFFICIENTS) USING VB"
   ]
  },
  {
   "cell_type": "code",
   "execution_count": 59,
   "metadata": {},
   "outputs": [],
   "source": [
    "# Functions must be imported for multiprocessing to work\n",
    "from functions_robust_wasserstein.f_gradient_lb_mean_wasserstein_nuissance import (fun_gradient_lb)"
   ]
  },
  {
   "cell_type": "code",
   "execution_count": 60,
   "metadata": {},
   "outputs": [],
   "source": [
    "class GVB:\n",
    "    def __init__(self, samples, actual_summary_statistics, learning_rate, threshold, l_threshold, adaptive_lr_1, adaptive_lr_2, t_w, Patience):\n",
    "        self.samples = samples\n",
    "        self.actual_summary_statistics = actual_summary_statistics\n",
    "        self.num_datasets = 200 # number of datasets\n",
    "        self.num_coeffs = np.shape(actual_summary_statistics)[0] # number of coeffs\n",
    "        self.lambda_dim = self.num_coeffs + int((self.num_coeffs * (self.num_coeffs + 1)) / 2)\n",
    "        self.learning_rate = learning_rate\n",
    "        self.threshold = threshold\n",
    "        self.l_threshold = l_threshold\n",
    "        self.adaptive_lr_1 = adaptive_lr_1\n",
    "        self.adaptive_lr_2 = adaptive_lr_2\n",
    "        self.t_w = t_w\n",
    "        self.Patience = Patience\n",
    "\n",
    "    def control_variates(self, Flat_grad_log_q, Flat_grad_lb):\n",
    "        c = []\n",
    "        stacked_gradient_lb = np.stack(Flat_grad_lb)\n",
    "        stacked_gradient_log_q = np.stack(Flat_grad_log_q)\n",
    "        for i in range(self.lambda_dim):\n",
    "            sample_cov = np.cov((stacked_gradient_lb[:, i], stacked_gradient_log_q[:, i]))\n",
    "            c_i = sample_cov[0, 1] / sample_cov[1, 1]\n",
    "            c.append(c_i)\n",
    "        c_mu = np.array(c[0:self.num_coeffs])\n",
    "        c_vech_l = np.array(c[self.num_coeffs:])\n",
    "        return np.array([c_mu, c_vech_l], dtype = object)\n",
    "\n",
    "    def vb_posterior(self, stop):\n",
    "        # Initialize mu_0, L_0\n",
    "        # mu_0 = np.array([np.log((self.actual_summary_statistics[0]-1.1)/(2-self.actual_summary_statistics[0])), np.log((1+self.actual_summary_statistics[1])/(1-self.actual_summary_statistics[1])), np.log(self.actual_summary_statistics[2]), self.actual_summary_statistics[3]])\n",
    "        #mu_0 = np.array([1.5, 0.5, 3, 0])\n",
    "        mu_0 = np.array([np.log((1.5-1.1)/(2-1.5)),np.log((0.5+1)/(1-0.5)),np.log(1),0])\n",
    "        #mu_0 = np.array([self.actual_summary_statistics[0], self.actual_summary_statistics[1], self.actual_summary_statistics[2], self.actual_summary_statistics[3]])\n",
    "        # mu_0 = np.array([0] * self.num_coeffs)\n",
    "        l_0 = np.tril(np.identity(self.num_coeffs) * 10)\n",
    "        Sigma_0_inv = l_0 @ l_0.T\n",
    "        Sigma_0 = my_inv(Sigma_0_inv)\n",
    "        l_0_inv = my_inv(l_0)\n",
    "        ### Change ways to get vech(l0)\n",
    "        vech_l0 = l_0.T[np.triu_indices(self.num_coeffs)]\n",
    "\n",
    "        lambda_0 = np.array([mu_0, vech_l0], dtype = object)\n",
    "        lambda_q = lambda_0\n",
    "        # Initilize best lambda\n",
    "        lambda_best = lambda_0\n",
    "        # List of Lambda\n",
    "        Lambda = [lambda_0]\n",
    "        # List of calculations of LB\n",
    "        LB_all = []\n",
    "        LB_Smoothed = []\n",
    "        patience = 0\n",
    "        for t in tqdm(range(stop)):\n",
    "            if t == 0:        \n",
    "                # Draw samples of theta from  variational q\n",
    "                theta_0_samples = multivariate_normal.rvs(mean = mu_0, cov = Sigma_0, size = self.samples)\n",
    "\n",
    "                # Multiprocessing a function with several inputs\n",
    "                results = pool.map(partial(fun_gradient_lb, theta_samples = theta_0_samples, mu_q = mu_0, l_q = l_0, c = 0, n_samples = n_samples, n_datasets= self.num_datasets, num_coeffs = self.num_coeffs, num_latent = num_latent, actual_summary_statistics = self.actual_summary_statistics, mixture_obj_seq = mixture_obj_seq), np.arange(self.samples)) \n",
    "                results = np.reshape(results, (self.samples, self.num_coeffs))\n",
    "                Gradient_lb_init = results[:,0]\n",
    "                lb_0 = results[:,1]\n",
    "                Flattened_gradient_lb = results[:,2]\n",
    "                Flattened_gradient_log_q = results[:,3]\n",
    "\n",
    "                # Calculate control variates using all samples\n",
    "                c = self.control_variates(Flattened_gradient_log_q, Flattened_gradient_lb)\n",
    "                # Update lambda_q\n",
    "                self.g_init = np.mean(Gradient_lb_init, axis = 0)\n",
    "                # Gradient clipping\n",
    "                if np.linalg.norm(np.concatenate(self.g_init, axis = None)) > self.l_threshold:\n",
    "                    self.g_init = self.l_threshold * self.g_init / np.linalg.norm(np.concatenate(self.g_init, axis = None))\n",
    "                self.v_init = self.g_init ** 2\n",
    "                # Calculate lower bound\n",
    "                LB_all.append(np.mean(lb_0))\n",
    "                print('LB', (np.mean(lb_0)))\n",
    "                lambda_q = lambda_0\n",
    "\n",
    "            if t > 0:\n",
    "                # From lambda_q find mu_q and L_q\n",
    "                mu_q = lambda_q[0]\n",
    "\n",
    "                ### Change ways to convert from vech_l0 to l0\n",
    "                vech_lq = list(lambda_q[1])\n",
    "                l_q = np.zeros((self.num_coeffs, self.num_coeffs))\n",
    "                # l_q[:, 0] = lambda_q[1][0:self.num_coeffs]\n",
    "                # l_q[1:self.num_coeffs, 1] = lambda_q[1][4:7]\n",
    "                # l_q[2:self.num_coeffs, 2] = lambda_q[1][7:9]\n",
    "                # l_q[3:self.num_coeffs, 3] = lambda_q[1][9:10]\n",
    "                for i in range(self.num_coeffs):\n",
    "                    l_q[i:self.num_coeffs,i] = vech_lq[:self.num_coeffs - i]\n",
    "                    del vech_lq[:self.num_coeffs-i]\n",
    "\n",
    "                Sigma_q_inv = l_q @ l_q.T\n",
    "                Sigma_q =  my_inv(Sigma_q_inv)\n",
    "                l_q_inv =  my_inv(l_q)\n",
    "\n",
    "                theta_q_samples = multivariate_normal.rvs(mean = mu_q, cov = Sigma_q, size = self.samples)\n",
    "\n",
    "                # Multiprocessing a function with several inputs\n",
    "                results = pool.map(partial(fun_gradient_lb, theta_samples = theta_q_samples, mu_q = mu_q, l_q = l_q, c = c, n_samples = n_samples, n_datasets= self.num_datasets, num_coeffs = self.num_coeffs, num_latent = num_latent, actual_summary_statistics = self.actual_summary_statistics, mixture_obj_seq = mixture_obj_seq), np.arange(self.samples)) \n",
    "                results = np.reshape(results, (self.samples, self.num_coeffs))\n",
    "                Gradient_lb = results[:,0]\n",
    "                lb_t = results[:,1]\n",
    "                Flattened_gradient_lb = results[:,2]\n",
    "                Flattened_gradient_log_q = results[:,3]\n",
    "\n",
    "                # Calculate control variates using all samples\n",
    "                c = self.control_variates(Flattened_gradient_log_q, Flattened_gradient_lb)\n",
    "\n",
    "                # Calc gradient of h\n",
    "                g_t = np.mean(Gradient_lb, axis = 0)\n",
    "                # Gradient clipping\n",
    "                if np.linalg.norm(np.concatenate(g_t, axis = None)) > self.l_threshold:\n",
    "                    g_t = self.l_threshold * g_t / np.linalg.norm(np.concatenate(g_t, axis = None))\n",
    "                v_t = g_t ** 2\n",
    "\n",
    "                #---- Update lambda\n",
    "                self.g_init = self.adaptive_lr_1 * self.g_init + (1 - self.adaptive_lr_1) * g_t\n",
    "                self.v_init = self.adaptive_lr_2 * self.v_init + (1 - self.adaptive_lr_2) * v_t\n",
    "                if t >= self.threshold:\n",
    "                    update_t = self.learning_rate * self.threshold / t\n",
    "                else:\n",
    "                    update_t = self.learning_rate\n",
    "\n",
    "                lambda_q = lambda_q + update_t * self.g_init / (self.v_init ** 0.5)\n",
    "                Lambda.append(lambda_q)\n",
    "                # Calculate lower bound\n",
    "                LB_all.append(np.mean(lb_t))\n",
    "\n",
    "                if t < self.t_w:\n",
    "                    print('LB', np.mean(lb_t))\n",
    "\n",
    "                if t >= self.t_w:\n",
    "                    LB_smoothed = np.mean(LB_all[t - self.t_w + 1 : t])\n",
    "                    print('LB Smoothed', LB_smoothed)\n",
    "                    LB_Smoothed.append(LB_smoothed)\n",
    "                    if LB_smoothed >= max(LB_Smoothed):\n",
    "                        patience = 0\n",
    "                        lambda_best = lambda_q\n",
    "                    else:\n",
    "                        patience += 1\n",
    "                        if patience > self.Patience:\n",
    "                            print(\"Stop at\", t)\n",
    "                            break\n",
    "\n",
    "        return LB_all, LB_Smoothed, lambda_best"
   ]
  },
  {
   "cell_type": "code",
   "execution_count": 61,
   "metadata": {},
   "outputs": [
    {
     "data": {
      "text/plain": [
       "array([[ 1.36495524,  0.27388675,  0.78684313, -0.08169088]])"
      ]
     },
     "execution_count": 61,
     "metadata": {},
     "output_type": "execute_result"
    }
   ],
   "source": [
    "actual_summary_statistics = np.reshape(actual_summary_statistics, (1, len(actual_summary_statistics)))\n",
    "actual_summary_statistics"
   ]
  },
  {
   "cell_type": "markdown",
   "metadata": {},
   "source": [
    "## RUN VB AND PRINT OUT VARIATIONAL PARAMS"
   ]
  },
  {
   "cell_type": "code",
   "execution_count": 62,
   "metadata": {},
   "outputs": [
    {
     "data": {
      "text/plain": [
       "array([-0.63616352, -0.38603054, -0.24720713,  0.03164241])"
      ]
     },
     "execution_count": 62,
     "metadata": {},
     "output_type": "execute_result"
    }
   ],
   "source": [
    "# Set hyperparameters\n",
    "stop = 5000\n",
    "transformed_summary_statistics = wasserstein_transform(mixture_obj_seq, actual_summary_statistics)\n",
    "transformed_summary_statistics[0]"
   ]
  },
  {
   "cell_type": "code",
   "execution_count": 63,
   "metadata": {},
   "outputs": [
    {
     "name": "stderr",
     "output_type": "stream",
     "text": [
      "  0%|          | 0/5000 [00:00<?, ?it/s]/anaconda3/envs/myenv/lib/python3.7/site-packages/numpy/core/_asarray.py:102: VisibleDeprecationWarning: Creating an ndarray from ragged nested sequences (which is a list-or-tuple of lists-or-tuples-or ndarrays with different lengths or shapes) is deprecated. If you meant to do this, you must specify 'dtype=object' when creating the ndarray.\n",
      "  return array(a, dtype, copy=False, order=order)\n",
      "  0%|          | 1/5000 [02:29<208:14:58, 149.97s/it]"
     ]
    },
    {
     "name": "stdout",
     "output_type": "stream",
     "text": [
      "LB -12.618698047859182\n"
     ]
    },
    {
     "name": "stderr",
     "output_type": "stream",
     "text": [
      "  0%|          | 2/5000 [04:29<183:37:26, 132.26s/it]"
     ]
    },
    {
     "name": "stdout",
     "output_type": "stream",
     "text": [
      "LB -12.703471928563488\n"
     ]
    },
    {
     "name": "stderr",
     "output_type": "stream",
     "text": [
      "  0%|          | 3/5000 [06:28<175:09:49, 126.19s/it]"
     ]
    },
    {
     "name": "stdout",
     "output_type": "stream",
     "text": [
      "LB -12.582108473849102\n"
     ]
    },
    {
     "name": "stderr",
     "output_type": "stream",
     "text": [
      "  0%|          | 4/5000 [08:32<173:57:46, 125.35s/it]"
     ]
    },
    {
     "name": "stdout",
     "output_type": "stream",
     "text": [
      "LB -12.589201627108785\n"
     ]
    },
    {
     "name": "stderr",
     "output_type": "stream",
     "text": [
      "  0%|          | 5/5000 [10:21<165:48:15, 119.50s/it]"
     ]
    },
    {
     "name": "stdout",
     "output_type": "stream",
     "text": [
      "LB -12.494400566934939\n"
     ]
    },
    {
     "name": "stderr",
     "output_type": "stream",
     "text": [
      "  0%|          | 6/5000 [12:10<160:21:50, 115.60s/it]"
     ]
    },
    {
     "name": "stdout",
     "output_type": "stream",
     "text": [
      "LB -12.843468125413326\n"
     ]
    },
    {
     "name": "stderr",
     "output_type": "stream",
     "text": [
      "  0%|          | 7/5000 [13:57<156:26:46, 112.80s/it]"
     ]
    },
    {
     "name": "stdout",
     "output_type": "stream",
     "text": [
      "LB -12.64546732055999\n"
     ]
    },
    {
     "name": "stderr",
     "output_type": "stream",
     "text": [
      "  0%|          | 8/5000 [15:43<153:38:33, 110.80s/it]"
     ]
    },
    {
     "name": "stdout",
     "output_type": "stream",
     "text": [
      "LB -12.664877431983893\n"
     ]
    },
    {
     "name": "stderr",
     "output_type": "stream",
     "text": [
      "  0%|          | 9/5000 [17:31<152:29:23, 109.99s/it]"
     ]
    },
    {
     "name": "stdout",
     "output_type": "stream",
     "text": [
      "LB -12.352190088910186\n"
     ]
    },
    {
     "name": "stderr",
     "output_type": "stream",
     "text": [
      "  0%|          | 10/5000 [19:18<150:54:56, 108.88s/it]"
     ]
    },
    {
     "name": "stdout",
     "output_type": "stream",
     "text": [
      "LB -12.525762136606831\n"
     ]
    },
    {
     "name": "stderr",
     "output_type": "stream",
     "text": [
      "  0%|          | 11/5000 [21:05<150:05:48, 108.31s/it]"
     ]
    },
    {
     "name": "stdout",
     "output_type": "stream",
     "text": [
      "LB -12.604794402261678\n"
     ]
    },
    {
     "name": "stderr",
     "output_type": "stream",
     "text": [
      "  0%|          | 12/5000 [22:53<149:51:56, 108.16s/it]"
     ]
    },
    {
     "name": "stdout",
     "output_type": "stream",
     "text": [
      "LB -12.283077820868487\n"
     ]
    },
    {
     "name": "stderr",
     "output_type": "stream",
     "text": [
      "  0%|          | 13/5000 [24:40<149:20:24, 107.81s/it]"
     ]
    },
    {
     "name": "stdout",
     "output_type": "stream",
     "text": [
      "LB -12.573256790312739\n"
     ]
    },
    {
     "name": "stderr",
     "output_type": "stream",
     "text": [
      "  0%|          | 14/5000 [27:04<164:50:43, 119.02s/it]"
     ]
    },
    {
     "name": "stdout",
     "output_type": "stream",
     "text": [
      "LB -12.443825692880436\n"
     ]
    },
    {
     "name": "stderr",
     "output_type": "stream",
     "text": [
      "  0%|          | 15/5000 [29:13<168:44:48, 121.86s/it]"
     ]
    },
    {
     "name": "stdout",
     "output_type": "stream",
     "text": [
      "LB -12.315494387429139\n"
     ]
    },
    {
     "name": "stderr",
     "output_type": "stream",
     "text": [
      "  0%|          | 16/5000 [31:01<163:07:58, 117.83s/it]"
     ]
    },
    {
     "name": "stdout",
     "output_type": "stream",
     "text": [
      "LB -12.3086344991317\n"
     ]
    },
    {
     "name": "stderr",
     "output_type": "stream",
     "text": [
      "  0%|          | 17/5000 [32:50<159:05:57, 114.94s/it]"
     ]
    },
    {
     "name": "stdout",
     "output_type": "stream",
     "text": [
      "LB -12.435149303016717\n"
     ]
    },
    {
     "name": "stderr",
     "output_type": "stream",
     "text": [
      "  0%|          | 18/5000 [34:37<156:01:14, 112.74s/it]"
     ]
    },
    {
     "name": "stdout",
     "output_type": "stream",
     "text": [
      "LB -12.66729071796\n"
     ]
    },
    {
     "name": "stderr",
     "output_type": "stream",
     "text": [
      "  0%|          | 19/5000 [36:25<153:49:35, 111.18s/it]"
     ]
    },
    {
     "name": "stdout",
     "output_type": "stream",
     "text": [
      "LB -12.495740198289214\n"
     ]
    },
    {
     "name": "stderr",
     "output_type": "stream",
     "text": [
      "  0%|          | 20/5000 [38:11<151:47:49, 109.73s/it]"
     ]
    },
    {
     "name": "stdout",
     "output_type": "stream",
     "text": [
      "LB -12.526793739130683\n"
     ]
    },
    {
     "name": "stderr",
     "output_type": "stream",
     "text": [
      "  0%|          | 21/5000 [40:31<164:06:13, 118.65s/it]"
     ]
    },
    {
     "name": "stdout",
     "output_type": "stream",
     "text": [
      "LB -12.570902050913105\n"
     ]
    },
    {
     "name": "stderr",
     "output_type": "stream",
     "text": [
      "  0%|          | 22/5000 [42:19<159:59:46, 115.71s/it]"
     ]
    },
    {
     "name": "stdout",
     "output_type": "stream",
     "text": [
      "LB -12.497356672965557\n"
     ]
    },
    {
     "name": "stderr",
     "output_type": "stream",
     "text": [
      "  0%|          | 23/5000 [44:05<155:56:47, 112.80s/it]"
     ]
    },
    {
     "name": "stdout",
     "output_type": "stream",
     "text": [
      "LB -12.76340968033969\n"
     ]
    },
    {
     "name": "stderr",
     "output_type": "stream",
     "text": [
      "  0%|          | 24/5000 [46:34<170:52:03, 123.62s/it]"
     ]
    },
    {
     "name": "stdout",
     "output_type": "stream",
     "text": [
      "LB -12.552806949730043\n"
     ]
    },
    {
     "name": "stderr",
     "output_type": "stream",
     "text": [
      "  0%|          | 25/5000 [48:21<163:39:55, 118.43s/it]"
     ]
    },
    {
     "name": "stdout",
     "output_type": "stream",
     "text": [
      "LB -12.440478271736865\n"
     ]
    },
    {
     "name": "stderr",
     "output_type": "stream",
     "text": [
      "  1%|          | 26/5000 [50:09<159:32:30, 115.47s/it]"
     ]
    },
    {
     "name": "stdout",
     "output_type": "stream",
     "text": [
      "LB -12.308917555849456\n"
     ]
    },
    {
     "name": "stderr",
     "output_type": "stream",
     "text": [
      "  1%|          | 27/5000 [52:31<170:22:36, 123.34s/it]"
     ]
    },
    {
     "name": "stdout",
     "output_type": "stream",
     "text": [
      "LB -12.609013061833503\n"
     ]
    },
    {
     "name": "stderr",
     "output_type": "stream",
     "text": [
      "  1%|          | 28/5000 [54:18<163:29:19, 118.37s/it]"
     ]
    },
    {
     "name": "stdout",
     "output_type": "stream",
     "text": [
      "LB -12.365128774837363\n"
     ]
    },
    {
     "name": "stderr",
     "output_type": "stream",
     "text": [
      "  1%|          | 29/5000 [56:05<158:46:54, 114.99s/it]"
     ]
    },
    {
     "name": "stdout",
     "output_type": "stream",
     "text": [
      "LB -12.668275705129677\n"
     ]
    },
    {
     "name": "stderr",
     "output_type": "stream",
     "text": [
      "  1%|          | 30/5000 [57:53<155:52:05, 112.90s/it]"
     ]
    },
    {
     "name": "stdout",
     "output_type": "stream",
     "text": [
      "LB -12.293012986739221\n"
     ]
    },
    {
     "name": "stderr",
     "output_type": "stream",
     "text": [
      "  1%|          | 31/5000 [59:39<153:15:40, 111.04s/it]"
     ]
    },
    {
     "name": "stdout",
     "output_type": "stream",
     "text": [
      "LB -12.500682736864091\n"
     ]
    },
    {
     "name": "stderr",
     "output_type": "stream",
     "text": [
      "  1%|          | 32/5000 [1:01:27<151:40:33, 109.91s/it]"
     ]
    },
    {
     "name": "stdout",
     "output_type": "stream",
     "text": [
      "LB -12.349881233975362\n"
     ]
    },
    {
     "name": "stderr",
     "output_type": "stream",
     "text": [
      "  1%|          | 33/5000 [1:03:15<150:54:34, 109.38s/it]"
     ]
    },
    {
     "name": "stdout",
     "output_type": "stream",
     "text": [
      "LB -12.346208749556046\n"
     ]
    },
    {
     "name": "stderr",
     "output_type": "stream",
     "text": [
      "  1%|          | 34/5000 [1:05:28<160:53:18, 116.63s/it]"
     ]
    },
    {
     "name": "stdout",
     "output_type": "stream",
     "text": [
      "LB -12.349394952948582\n"
     ]
    },
    {
     "name": "stderr",
     "output_type": "stream",
     "text": [
      "  1%|          | 35/5000 [1:07:48<170:30:08, 123.63s/it]"
     ]
    },
    {
     "name": "stdout",
     "output_type": "stream",
     "text": [
      "LB -12.344631519700979\n"
     ]
    },
    {
     "name": "stderr",
     "output_type": "stream",
     "text": [
      "  1%|          | 36/5000 [1:10:11<178:12:03, 129.24s/it]"
     ]
    },
    {
     "name": "stdout",
     "output_type": "stream",
     "text": [
      "LB -12.433059970257796\n"
     ]
    },
    {
     "name": "stderr",
     "output_type": "stream",
     "text": [
      "  1%|          | 37/5000 [1:12:52<191:30:06, 138.91s/it]"
     ]
    },
    {
     "name": "stdout",
     "output_type": "stream",
     "text": [
      "LB -12.396339010490728\n"
     ]
    },
    {
     "name": "stderr",
     "output_type": "stream",
     "text": [
      "  1%|          | 38/5000 [1:15:06<189:18:23, 137.34s/it]"
     ]
    },
    {
     "name": "stdout",
     "output_type": "stream",
     "text": [
      "LB -12.040331021724366\n"
     ]
    },
    {
     "name": "stderr",
     "output_type": "stream",
     "text": [
      "  1%|          | 39/5000 [1:17:33<193:22:34, 140.33s/it]"
     ]
    },
    {
     "name": "stdout",
     "output_type": "stream",
     "text": [
      "LB -12.441414560229708\n"
     ]
    },
    {
     "name": "stderr",
     "output_type": "stream",
     "text": [
      "  1%|          | 40/5000 [1:19:59<195:32:24, 141.92s/it]"
     ]
    },
    {
     "name": "stdout",
     "output_type": "stream",
     "text": [
      "LB -12.335796939930509\n"
     ]
    },
    {
     "name": "stderr",
     "output_type": "stream",
     "text": [
      "  1%|          | 41/5000 [1:22:31<199:35:33, 144.89s/it]"
     ]
    },
    {
     "name": "stdout",
     "output_type": "stream",
     "text": [
      "LB -12.21103659286936\n"
     ]
    },
    {
     "name": "stderr",
     "output_type": "stream",
     "text": [
      "  1%|          | 42/5000 [1:24:37<191:44:32, 139.22s/it]"
     ]
    },
    {
     "name": "stdout",
     "output_type": "stream",
     "text": [
      "LB -12.322632793763082\n"
     ]
    },
    {
     "name": "stderr",
     "output_type": "stream",
     "text": [
      "  1%|          | 43/5000 [1:26:46<187:47:09, 136.38s/it]"
     ]
    },
    {
     "name": "stdout",
     "output_type": "stream",
     "text": [
      "LB -12.383402204011752\n"
     ]
    },
    {
     "name": "stderr",
     "output_type": "stream",
     "text": [
      "  1%|          | 44/5000 [1:28:51<182:46:27, 132.77s/it]"
     ]
    },
    {
     "name": "stdout",
     "output_type": "stream",
     "text": [
      "LB -12.44862644171774\n"
     ]
    },
    {
     "name": "stderr",
     "output_type": "stream",
     "text": [
      "  1%|          | 45/5000 [1:30:52<177:56:44, 129.28s/it]"
     ]
    },
    {
     "name": "stdout",
     "output_type": "stream",
     "text": [
      "LB -12.253086227410398\n"
     ]
    },
    {
     "name": "stderr",
     "output_type": "stream",
     "text": [
      "  1%|          | 46/5000 [1:32:55<175:11:30, 127.31s/it]"
     ]
    },
    {
     "name": "stdout",
     "output_type": "stream",
     "text": [
      "LB -12.305422855879435\n"
     ]
    },
    {
     "name": "stderr",
     "output_type": "stream",
     "text": [
      "  1%|          | 47/5000 [1:34:44<167:37:50, 121.84s/it]"
     ]
    },
    {
     "name": "stdout",
     "output_type": "stream",
     "text": [
      "LB -12.267938044755837\n"
     ]
    },
    {
     "name": "stderr",
     "output_type": "stream",
     "text": [
      "  1%|          | 48/5000 [1:36:37<163:58:59, 119.21s/it]"
     ]
    },
    {
     "name": "stdout",
     "output_type": "stream",
     "text": [
      "LB -12.133906372843953\n"
     ]
    },
    {
     "name": "stderr",
     "output_type": "stream",
     "text": [
      "  1%|          | 49/5000 [1:39:16<180:33:25, 131.29s/it]"
     ]
    },
    {
     "name": "stdout",
     "output_type": "stream",
     "text": [
      "LB -12.030336294871422\n"
     ]
    },
    {
     "name": "stderr",
     "output_type": "stream",
     "text": [
      "  1%|          | 50/5000 [1:41:42<186:18:49, 135.50s/it]"
     ]
    },
    {
     "name": "stdout",
     "output_type": "stream",
     "text": [
      "LB -12.129153185079172\n"
     ]
    },
    {
     "name": "stderr",
     "output_type": "stream",
     "text": [
      "  1%|          | 51/5000 [1:44:01<187:52:04, 136.66s/it]"
     ]
    },
    {
     "name": "stdout",
     "output_type": "stream",
     "text": [
      "LB -12.087791313238846\n"
     ]
    },
    {
     "name": "stderr",
     "output_type": "stream",
     "text": [
      "  1%|          | 52/5000 [1:46:29<192:34:43, 140.11s/it]"
     ]
    },
    {
     "name": "stdout",
     "output_type": "stream",
     "text": [
      "LB -12.144778181925933\n"
     ]
    },
    {
     "name": "stderr",
     "output_type": "stream",
     "text": [
      "  1%|          | 53/5000 [1:48:54<194:34:23, 141.59s/it]"
     ]
    },
    {
     "name": "stdout",
     "output_type": "stream",
     "text": [
      "LB -12.10760789478507\n"
     ]
    },
    {
     "name": "stderr",
     "output_type": "stream",
     "text": [
      "  1%|          | 54/5000 [1:51:08<191:20:52, 139.27s/it]"
     ]
    },
    {
     "name": "stdout",
     "output_type": "stream",
     "text": [
      "LB -12.121642845156842\n"
     ]
    },
    {
     "name": "stderr",
     "output_type": "stream",
     "text": [
      "  1%|          | 55/5000 [1:53:32<193:09:59, 140.63s/it]"
     ]
    },
    {
     "name": "stdout",
     "output_type": "stream",
     "text": [
      "LB -12.330570330544186\n"
     ]
    },
    {
     "name": "stderr",
     "output_type": "stream",
     "text": [
      "  1%|          | 56/5000 [1:55:59<195:42:16, 142.50s/it]"
     ]
    },
    {
     "name": "stdout",
     "output_type": "stream",
     "text": [
      "LB -12.234812831464492\n"
     ]
    },
    {
     "name": "stderr",
     "output_type": "stream",
     "text": [
      "  1%|          | 57/5000 [1:58:44<205:03:23, 149.34s/it]"
     ]
    },
    {
     "name": "stdout",
     "output_type": "stream",
     "text": [
      "LB -12.113175028850016\n"
     ]
    },
    {
     "name": "stderr",
     "output_type": "stream",
     "text": [
      "  1%|          | 58/5000 [2:01:00<199:34:30, 145.38s/it]"
     ]
    },
    {
     "name": "stdout",
     "output_type": "stream",
     "text": [
      "LB -12.14298532047701\n"
     ]
    },
    {
     "name": "stderr",
     "output_type": "stream",
     "text": [
      "  1%|          | 59/5000 [2:03:28<200:26:55, 146.05s/it]"
     ]
    },
    {
     "name": "stdout",
     "output_type": "stream",
     "text": [
      "LB -12.261337398246628\n"
     ]
    },
    {
     "name": "stderr",
     "output_type": "stream",
     "text": [
      "  1%|          | 60/5000 [2:06:36<217:42:56, 158.66s/it]"
     ]
    },
    {
     "name": "stdout",
     "output_type": "stream",
     "text": [
      "LB -12.106185078539676\n"
     ]
    },
    {
     "name": "stderr",
     "output_type": "stream",
     "text": [
      "  1%|          | 61/5000 [2:09:46<230:30:01, 168.01s/it]"
     ]
    },
    {
     "name": "stdout",
     "output_type": "stream",
     "text": [
      "LB -11.91947482221697\n"
     ]
    },
    {
     "name": "stderr",
     "output_type": "stream",
     "text": [
      "  1%|          | 62/5000 [2:12:19<224:26:54, 163.63s/it]"
     ]
    },
    {
     "name": "stdout",
     "output_type": "stream",
     "text": [
      "LB -12.300232683796985\n"
     ]
    },
    {
     "name": "stderr",
     "output_type": "stream",
     "text": [
      "  1%|▏         | 63/5000 [2:15:35<237:46:33, 173.38s/it]"
     ]
    },
    {
     "name": "stdout",
     "output_type": "stream",
     "text": [
      "LB -12.385563342108433\n"
     ]
    },
    {
     "name": "stderr",
     "output_type": "stream",
     "text": [
      "  1%|▏         | 64/5000 [2:18:05<227:59:13, 166.28s/it]"
     ]
    },
    {
     "name": "stdout",
     "output_type": "stream",
     "text": [
      "LB -11.966673995978686\n"
     ]
    },
    {
     "name": "stderr",
     "output_type": "stream",
     "text": [
      "  1%|▏         | 65/5000 [2:20:29<218:38:56, 159.50s/it]"
     ]
    },
    {
     "name": "stdout",
     "output_type": "stream",
     "text": [
      "LB -12.088566069593973\n"
     ]
    },
    {
     "name": "stderr",
     "output_type": "stream",
     "text": [
      "  1%|▏         | 66/5000 [2:22:48<210:10:50, 153.35s/it]"
     ]
    },
    {
     "name": "stdout",
     "output_type": "stream",
     "text": [
      "LB -12.161889516858734\n"
     ]
    },
    {
     "name": "stderr",
     "output_type": "stream",
     "text": [
      "  1%|▏         | 67/5000 [2:25:00<201:22:25, 146.96s/it]"
     ]
    },
    {
     "name": "stdout",
     "output_type": "stream",
     "text": [
      "LB -12.096552508126681\n"
     ]
    },
    {
     "name": "stderr",
     "output_type": "stream",
     "text": [
      "  1%|▏         | 68/5000 [2:28:12<219:52:45, 160.50s/it]"
     ]
    },
    {
     "name": "stdout",
     "output_type": "stream",
     "text": [
      "LB -12.220459050427753\n"
     ]
    },
    {
     "name": "stderr",
     "output_type": "stream",
     "text": [
      "  1%|▏         | 69/5000 [2:30:41<215:13:13, 157.13s/it]"
     ]
    },
    {
     "name": "stdout",
     "output_type": "stream",
     "text": [
      "LB -12.162411273426908\n"
     ]
    },
    {
     "name": "stderr",
     "output_type": "stream",
     "text": [
      "  1%|▏         | 70/5000 [2:34:15<238:33:11, 174.20s/it]"
     ]
    },
    {
     "name": "stdout",
     "output_type": "stream",
     "text": [
      "LB -12.161919832016613\n"
     ]
    },
    {
     "name": "stderr",
     "output_type": "stream",
     "text": [
      "  1%|▏         | 71/5000 [2:36:43<227:53:59, 166.45s/it]"
     ]
    },
    {
     "name": "stdout",
     "output_type": "stream",
     "text": [
      "LB -12.033018783193624\n"
     ]
    },
    {
     "name": "stderr",
     "output_type": "stream",
     "text": [
      "  1%|▏         | 72/5000 [2:39:12<220:44:46, 161.26s/it]"
     ]
    },
    {
     "name": "stdout",
     "output_type": "stream",
     "text": [
      "LB -11.966631368852171\n"
     ]
    },
    {
     "name": "stderr",
     "output_type": "stream",
     "text": [
      "  1%|▏         | 73/5000 [2:43:27<259:02:14, 189.27s/it]"
     ]
    },
    {
     "name": "stdout",
     "output_type": "stream",
     "text": [
      "LB -12.429587435119481\n"
     ]
    },
    {
     "name": "stderr",
     "output_type": "stream",
     "text": [
      "  1%|▏         | 74/5000 [2:45:45<237:56:14, 173.89s/it]"
     ]
    },
    {
     "name": "stdout",
     "output_type": "stream",
     "text": [
      "LB -12.11595801503097\n"
     ]
    },
    {
     "name": "stderr",
     "output_type": "stream",
     "text": [
      "  2%|▏         | 75/5000 [2:48:03<223:17:17, 163.22s/it]"
     ]
    },
    {
     "name": "stdout",
     "output_type": "stream",
     "text": [
      "LB -12.127464494934081\n"
     ]
    },
    {
     "name": "stderr",
     "output_type": "stream",
     "text": [
      "  2%|▏         | 76/5000 [2:50:27<215:11:55, 157.33s/it]"
     ]
    },
    {
     "name": "stdout",
     "output_type": "stream",
     "text": [
      "LB -12.06361483126543\n"
     ]
    },
    {
     "name": "stderr",
     "output_type": "stream",
     "text": [
      "  2%|▏         | 77/5000 [2:52:44<207:00:06, 151.37s/it]"
     ]
    },
    {
     "name": "stdout",
     "output_type": "stream",
     "text": [
      "LB -11.908803773331876\n"
     ]
    },
    {
     "name": "stderr",
     "output_type": "stream",
     "text": [
      "  2%|▏         | 78/5000 [2:54:57<199:25:53, 145.87s/it]"
     ]
    },
    {
     "name": "stdout",
     "output_type": "stream",
     "text": [
      "LB -12.049746417373637\n"
     ]
    },
    {
     "name": "stderr",
     "output_type": "stream",
     "text": [
      "  2%|▏         | 79/5000 [2:57:16<196:31:21, 143.77s/it]"
     ]
    },
    {
     "name": "stdout",
     "output_type": "stream",
     "text": [
      "LB -11.97280962151866\n"
     ]
    },
    {
     "name": "stderr",
     "output_type": "stream",
     "text": [
      "  2%|▏         | 80/5000 [2:59:28<191:19:35, 140.00s/it]"
     ]
    },
    {
     "name": "stdout",
     "output_type": "stream",
     "text": [
      "LB -12.152668492018192\n"
     ]
    },
    {
     "name": "stderr",
     "output_type": "stream",
     "text": [
      "  2%|▏         | 81/5000 [3:01:39<187:55:12, 137.53s/it]"
     ]
    },
    {
     "name": "stdout",
     "output_type": "stream",
     "text": [
      "LB -12.080083253498865\n"
     ]
    },
    {
     "name": "stderr",
     "output_type": "stream",
     "text": [
      "  2%|▏         | 82/5000 [3:04:25<199:16:48, 145.87s/it]"
     ]
    },
    {
     "name": "stdout",
     "output_type": "stream",
     "text": [
      "LB -12.23622898970665\n"
     ]
    },
    {
     "name": "stderr",
     "output_type": "stream",
     "text": [
      "  2%|▏         | 83/5000 [3:06:47<197:43:19, 144.76s/it]"
     ]
    },
    {
     "name": "stdout",
     "output_type": "stream",
     "text": [
      "LB -12.119720558389847\n"
     ]
    },
    {
     "name": "stderr",
     "output_type": "stream",
     "text": [
      "  2%|▏         | 84/5000 [3:09:07<195:43:47, 143.33s/it]"
     ]
    },
    {
     "name": "stdout",
     "output_type": "stream",
     "text": [
      "LB -12.02532538350633\n"
     ]
    },
    {
     "name": "stderr",
     "output_type": "stream",
     "text": [
      "  2%|▏         | 85/5000 [3:11:38<198:59:57, 145.76s/it]"
     ]
    },
    {
     "name": "stdout",
     "output_type": "stream",
     "text": [
      "LB -12.152316044156846\n"
     ]
    },
    {
     "name": "stderr",
     "output_type": "stream",
     "text": [
      "  2%|▏         | 86/5000 [3:14:18<204:32:04, 149.84s/it]"
     ]
    },
    {
     "name": "stdout",
     "output_type": "stream",
     "text": [
      "LB -11.962984496926925\n"
     ]
    },
    {
     "name": "stderr",
     "output_type": "stream",
     "text": [
      "  2%|▏         | 87/5000 [3:16:37<200:23:02, 146.83s/it]"
     ]
    },
    {
     "name": "stdout",
     "output_type": "stream",
     "text": [
      "LB -11.94862871780709\n"
     ]
    },
    {
     "name": "stderr",
     "output_type": "stream",
     "text": [
      "  2%|▏         | 88/5000 [3:18:56<196:55:55, 144.33s/it]"
     ]
    },
    {
     "name": "stdout",
     "output_type": "stream",
     "text": [
      "LB -11.875937445788509\n"
     ]
    },
    {
     "name": "stderr",
     "output_type": "stream",
     "text": [
      "  2%|▏         | 89/5000 [3:21:17<195:41:42, 143.45s/it]"
     ]
    },
    {
     "name": "stdout",
     "output_type": "stream",
     "text": [
      "LB -11.886588504243234\n"
     ]
    },
    {
     "name": "stderr",
     "output_type": "stream",
     "text": [
      "  2%|▏         | 90/5000 [3:24:38<218:54:21, 160.50s/it]"
     ]
    },
    {
     "name": "stdout",
     "output_type": "stream",
     "text": [
      "LB -11.859873252881226\n"
     ]
    },
    {
     "name": "stderr",
     "output_type": "stream",
     "text": [
      "  2%|▏         | 91/5000 [3:27:19<219:17:17, 160.81s/it]"
     ]
    },
    {
     "name": "stdout",
     "output_type": "stream",
     "text": [
      "LB -11.773556670685702\n"
     ]
    },
    {
     "name": "stderr",
     "output_type": "stream",
     "text": [
      "  2%|▏         | 92/5000 [3:29:54<216:37:28, 158.89s/it]"
     ]
    },
    {
     "name": "stdout",
     "output_type": "stream",
     "text": [
      "LB -11.88163119163051\n"
     ]
    },
    {
     "name": "stderr",
     "output_type": "stream",
     "text": [
      "  2%|▏         | 93/5000 [3:32:22<212:16:27, 155.73s/it]"
     ]
    },
    {
     "name": "stdout",
     "output_type": "stream",
     "text": [
      "LB -11.8951885358878\n"
     ]
    },
    {
     "name": "stderr",
     "output_type": "stream",
     "text": [
      "  2%|▏         | 94/5000 [3:34:58<212:26:29, 155.89s/it]"
     ]
    },
    {
     "name": "stdout",
     "output_type": "stream",
     "text": [
      "LB -11.839961245237832\n"
     ]
    },
    {
     "name": "stderr",
     "output_type": "stream",
     "text": [
      "  2%|▏         | 95/5000 [3:37:32<211:44:41, 155.41s/it]"
     ]
    },
    {
     "name": "stdout",
     "output_type": "stream",
     "text": [
      "LB -12.115722854957507\n"
     ]
    },
    {
     "name": "stderr",
     "output_type": "stream",
     "text": [
      "  2%|▏         | 96/5000 [3:40:36<223:20:49, 163.96s/it]"
     ]
    },
    {
     "name": "stdout",
     "output_type": "stream",
     "text": [
      "LB -11.887889444292652\n"
     ]
    },
    {
     "name": "stderr",
     "output_type": "stream",
     "text": [
      "  2%|▏         | 97/5000 [3:43:09<218:50:05, 160.68s/it]"
     ]
    },
    {
     "name": "stdout",
     "output_type": "stream",
     "text": [
      "LB -11.924351663129658\n"
     ]
    },
    {
     "name": "stderr",
     "output_type": "stream",
     "text": [
      "  2%|▏         | 98/5000 [3:45:55<220:49:17, 162.17s/it]"
     ]
    },
    {
     "name": "stdout",
     "output_type": "stream",
     "text": [
      "LB -12.134906938904674\n"
     ]
    },
    {
     "name": "stderr",
     "output_type": "stream",
     "text": [
      "  2%|▏         | 99/5000 [3:48:42<222:43:26, 163.60s/it]"
     ]
    },
    {
     "name": "stdout",
     "output_type": "stream",
     "text": [
      "LB -12.078649394771876\n"
     ]
    },
    {
     "name": "stderr",
     "output_type": "stream",
     "text": [
      "  2%|▏         | 100/5000 [3:51:30<224:36:54, 165.02s/it]"
     ]
    },
    {
     "name": "stdout",
     "output_type": "stream",
     "text": [
      "LB -12.036421093580422\n"
     ]
    },
    {
     "name": "stderr",
     "output_type": "stream",
     "text": [
      "  2%|▏         | 101/5000 [3:54:35<232:31:07, 170.86s/it]"
     ]
    },
    {
     "name": "stdout",
     "output_type": "stream",
     "text": [
      "LB Smoothed -12.250489766672413\n"
     ]
    },
    {
     "name": "stderr",
     "output_type": "stream",
     "text": [
      "  2%|▏         | 102/5000 [3:57:31<234:42:07, 172.50s/it]"
     ]
    },
    {
     "name": "stdout",
     "output_type": "stream",
     "text": [
      "LB Smoothed -12.2424137851612\n"
     ]
    },
    {
     "name": "stderr",
     "output_type": "stream",
     "text": [
      "  2%|▏         | 103/5000 [4:00:35<239:14:09, 175.87s/it]"
     ]
    },
    {
     "name": "stdout",
     "output_type": "stream",
     "text": [
      "LB Smoothed -12.235335332640666\n"
     ]
    },
    {
     "name": "stderr",
     "output_type": "stream",
     "text": [
      "  2%|▏         | 104/5000 [4:03:36<241:21:10, 177.47s/it]"
     ]
    },
    {
     "name": "stdout",
     "output_type": "stream",
     "text": [
      "LB Smoothed -12.2301532827633\n"
     ]
    },
    {
     "name": "stderr",
     "output_type": "stream",
     "text": [
      "  2%|▏         | 105/5000 [5:35:24<2415:38:52, 1776.57s/it]"
     ]
    },
    {
     "name": "stdout",
     "output_type": "stream",
     "text": [
      "LB Smoothed -12.225882862481738\n"
     ]
    },
    {
     "name": "stderr",
     "output_type": "stream",
     "text": [
      "  2%|▏         | 106/5000 [5:39:14<1784:15:23, 1312.49s/it]"
     ]
    },
    {
     "name": "stdout",
     "output_type": "stream",
     "text": [
      "LB Smoothed -12.217051878285215\n"
     ]
    },
    {
     "name": "stderr",
     "output_type": "stream",
     "text": [
      "  2%|▏         | 107/5000 [5:42:57<1340:01:15, 985.91s/it] "
     ]
    },
    {
     "name": "stdout",
     "output_type": "stream",
     "text": [
      "LB Smoothed -12.211136470062236\n"
     ]
    },
    {
     "name": "stderr",
     "output_type": "stream",
     "text": [
      "  2%|▏         | 108/5000 [5:46:26<1022:50:21, 752.70s/it]"
     ]
    },
    {
     "name": "stdout",
     "output_type": "stream",
     "text": [
      "LB Smoothed -12.202285702832308\n"
     ]
    },
    {
     "name": "stderr",
     "output_type": "stream",
     "text": [
      "  2%|▏         | 109/5000 [5:50:01<803:24:48, 591.35s/it] "
     ]
    },
    {
     "name": "stdout",
     "output_type": "stream",
     "text": [
      "LB Smoothed -12.198121258136746\n"
     ]
    },
    {
     "name": "stderr",
     "output_type": "stream",
     "text": [
      "  2%|▏         | 110/5000 [5:53:36<649:55:36, 478.47s/it]"
     ]
    },
    {
     "name": "stdout",
     "output_type": "stream",
     "text": [
      "LB Smoothed -12.194119484407203\n"
     ]
    },
    {
     "name": "stderr",
     "output_type": "stream",
     "text": [
      "  2%|▏         | 111/5000 [5:57:26<548:40:53, 404.02s/it]"
     ]
    },
    {
     "name": "stdout",
     "output_type": "stream",
     "text": [
      "LB Smoothed -12.187099429144858\n"
     ]
    },
    {
     "name": "stderr",
     "output_type": "stream",
     "text": [
      "  2%|▏         | 112/5000 [6:00:56<469:27:14, 345.75s/it]"
     ]
    },
    {
     "name": "stdout",
     "output_type": "stream",
     "text": [
      "LB Smoothed -12.183970329374352\n"
     ]
    },
    {
     "name": "stderr",
     "output_type": "stream",
     "text": [
      "  2%|▏         | 113/5000 [6:04:26<414:09:01, 305.08s/it]"
     ]
    },
    {
     "name": "stdout",
     "output_type": "stream",
     "text": [
      "LB Smoothed -12.17757650525835\n"
     ]
    },
    {
     "name": "stderr",
     "output_type": "stream",
     "text": [
      "  2%|▏         | 114/5000 [6:08:04<378:35:05, 278.94s/it]"
     ]
    },
    {
     "name": "stdout",
     "output_type": "stream",
     "text": [
      "LB Smoothed -12.172539444986597\n"
     ]
    },
    {
     "name": "stderr",
     "output_type": "stream",
     "text": [
      "  2%|▏         | 115/5000 [6:11:42<353:25:43, 260.46s/it]"
     ]
    },
    {
     "name": "stdout",
     "output_type": "stream",
     "text": [
      "LB Smoothed -12.16810814091023\n"
     ]
    },
    {
     "name": "stderr",
     "output_type": "stream",
     "text": [
      "  2%|▏         | 116/5000 [6:15:10<332:24:42, 245.02s/it]"
     ]
    },
    {
     "name": "stdout",
     "output_type": "stream",
     "text": [
      "LB Smoothed -12.16463818550931\n"
     ]
    },
    {
     "name": "stderr",
     "output_type": "stream",
     "text": [
      "  2%|▏         | 117/5000 [6:19:05<327:56:53, 241.78s/it]"
     ]
    },
    {
     "name": "stdout",
     "output_type": "stream",
     "text": [
      "LB Smoothed -12.159970690702128\n"
     ]
    },
    {
     "name": "stderr",
     "output_type": "stream",
     "text": [
      "  2%|▏         | 118/5000 [6:22:41<317:34:24, 234.18s/it]"
     ]
    },
    {
     "name": "stdout",
     "output_type": "stream",
     "text": [
      "LB Smoothed -12.15132156420472\n"
     ]
    },
    {
     "name": "stderr",
     "output_type": "stream",
     "text": [
      "  2%|▏         | 119/5000 [6:26:15<309:15:15, 228.09s/it]"
     ]
    },
    {
     "name": "stdout",
     "output_type": "stream",
     "text": [
      "LB Smoothed -12.14564108148926\n"
     ]
    },
    {
     "name": "stderr",
     "output_type": "stream",
     "text": [
      "  2%|▏         | 120/5000 [6:29:47<302:42:45, 223.31s/it]"
     ]
    },
    {
     "name": "stdout",
     "output_type": "stream",
     "text": [
      "LB Smoothed -12.139999515501978\n"
     ]
    },
    {
     "name": "stderr",
     "output_type": "stream",
     "text": [
      "  2%|▏         | 121/5000 [6:33:20<298:31:04, 220.26s/it]"
     ]
    },
    {
     "name": "stdout",
     "output_type": "stream",
     "text": [
      "LB Smoothed -12.132197829801413\n"
     ]
    },
    {
     "name": "stderr",
     "output_type": "stream",
     "text": [
      "  2%|▏         | 122/5000 [6:37:06<300:48:11, 221.99s/it]"
     ]
    },
    {
     "name": "stdout",
     "output_type": "stream",
     "text": [
      "LB Smoothed -12.125249399695154\n"
     ]
    },
    {
     "name": "stderr",
     "output_type": "stream",
     "text": [
      "  2%|▏         | 123/5000 [6:43:38<369:31:02, 272.76s/it]"
     ]
    },
    {
     "name": "stdout",
     "output_type": "stream",
     "text": [
      "LB Smoothed -12.116974514629112\n"
     ]
    },
    {
     "name": "stderr",
     "output_type": "stream",
     "text": [
      "  2%|▏         | 124/5000 [6:51:53<460:00:13, 339.63s/it]"
     ]
    },
    {
     "name": "stdout",
     "output_type": "stream",
     "text": [
      "LB Smoothed -12.110875535041783\n"
     ]
    },
    {
     "name": "stderr",
     "output_type": "stream",
     "text": [
      "  2%|▎         | 125/5000 [6:55:36<412:14:49, 304.43s/it]"
     ]
    },
    {
     "name": "stdout",
     "output_type": "stream",
     "text": [
      "LB Smoothed -12.10665816121062\n"
     ]
    },
    {
     "name": "stderr",
     "output_type": "stream",
     "text": [
      "  3%|▎         | 126/5000 [6:59:15<377:28:29, 278.81s/it]"
     ]
    },
    {
     "name": "stdout",
     "output_type": "stream",
     "text": [
      "LB Smoothed -12.101662176435537\n"
     ]
    },
    {
     "name": "stderr",
     "output_type": "stream",
     "text": [
      "  3%|▎         | 127/5000 [7:02:58<354:43:50, 262.06s/it]"
     ]
    },
    {
     "name": "stdout",
     "output_type": "stream",
     "text": [
      "LB Smoothed -12.095752952074983\n"
     ]
    },
    {
     "name": "stderr",
     "output_type": "stream",
     "text": [
      "  3%|▎         | 128/5000 [7:06:34<336:19:34, 248.52s/it]"
     ]
    },
    {
     "name": "stdout",
     "output_type": "stream",
     "text": [
      "LB Smoothed -12.091506896080991\n"
     ]
    },
    {
     "name": "stderr",
     "output_type": "stream",
     "text": [
      "  3%|▎         | 129/5000 [7:10:12<323:28:54, 239.08s/it]"
     ]
    },
    {
     "name": "stdout",
     "output_type": "stream",
     "text": [
      "LB Smoothed -12.084117796212054\n"
     ]
    },
    {
     "name": "stderr",
     "output_type": "stream",
     "text": [
      "  3%|▎         | 130/5000 [7:13:54<316:39:19, 234.08s/it]"
     ]
    },
    {
     "name": "stdout",
     "output_type": "stream",
     "text": [
      "LB Smoothed -12.078886940374952\n"
     ]
    },
    {
     "name": "stderr",
     "output_type": "stream",
     "text": [
      "  3%|▎         | 131/5000 [7:17:44<315:02:28, 232.93s/it]"
     ]
    },
    {
     "name": "stdout",
     "output_type": "stream",
     "text": [
      "LB Smoothed -12.0738311766935\n"
     ]
    },
    {
     "name": "stderr",
     "output_type": "stream",
     "text": [
      "  3%|▎         | 132/5000 [7:21:18<307:24:48, 227.34s/it]"
     ]
    },
    {
     "name": "stdout",
     "output_type": "stream",
     "text": [
      "LB Smoothed -12.068676231359655\n"
     ]
    },
    {
     "name": "stderr",
     "output_type": "stream",
     "text": [
      "  3%|▎         | 133/5000 [7:24:53<302:20:33, 223.64s/it]"
     ]
    },
    {
     "name": "stdout",
     "output_type": "stream",
     "text": [
      "LB Smoothed -12.064834419630142\n"
     ]
    },
    {
     "name": "stderr",
     "output_type": "stream",
     "text": [
      "  3%|▎         | 134/5000 [7:28:29<298:54:41, 221.14s/it]"
     ]
    },
    {
     "name": "stdout",
     "output_type": "stream",
     "text": [
      "LB Smoothed -12.060212264615872\n"
     ]
    },
    {
     "name": "stderr",
     "output_type": "stream",
     "text": [
      "  3%|▎         | 135/5000 [7:31:08<273:33:01, 202.42s/it]"
     ]
    },
    {
     "name": "stdout",
     "output_type": "stream",
     "text": [
      "LB Smoothed -12.055609069446602\n"
     ]
    },
    {
     "name": "stderr",
     "output_type": "stream",
     "text": [
      "  3%|▎         | 136/5000 [7:33:45<255:04:57, 188.79s/it]"
     ]
    },
    {
     "name": "stdout",
     "output_type": "stream",
     "text": [
      "LB Smoothed -12.051494133365146\n"
     ]
    },
    {
     "name": "stderr",
     "output_type": "stream",
     "text": [
      "  3%|▎         | 137/5000 [7:36:25<243:22:25, 180.17s/it]"
     ]
    },
    {
     "name": "stdout",
     "output_type": "stream",
     "text": [
      "LB Smoothed -12.047888933181708\n"
     ]
    },
    {
     "name": "stderr",
     "output_type": "stream",
     "text": [
      "  3%|▎         | 138/5000 [7:40:02<258:17:01, 191.24s/it]"
     ]
    },
    {
     "name": "stdout",
     "output_type": "stream",
     "text": [
      "LB Smoothed -12.046583764166284\n"
     ]
    },
    {
     "name": "stderr",
     "output_type": "stream",
     "text": [
      "  3%|▎         | 139/5000 [7:43:16<259:27:24, 192.15s/it]"
     ]
    },
    {
     "name": "stdout",
     "output_type": "stream",
     "text": [
      "LB Smoothed -12.041031370443772\n"
     ]
    },
    {
     "name": "stderr",
     "output_type": "stream",
     "text": [
      "  3%|▎         | 140/5000 [7:45:59<247:49:22, 183.57s/it]"
     ]
    },
    {
     "name": "stdout",
     "output_type": "stream",
     "text": [
      "LB Smoothed -12.036938189817409\n"
     ]
    },
    {
     "name": "stderr",
     "output_type": "stream",
     "text": [
      "  3%|▎         | 141/5000 [7:48:43<239:33:29, 177.49s/it]"
     ]
    },
    {
     "name": "stdout",
     "output_type": "stream",
     "text": [
      "LB Smoothed -12.033845453752585\n"
     ]
    },
    {
     "name": "stderr",
     "output_type": "stream",
     "text": [
      "  3%|▎         | 142/5000 [7:51:26<233:48:18, 173.26s/it]"
     ]
    },
    {
     "name": "stdout",
     "output_type": "stream",
     "text": [
      "LB Smoothed -12.028815563064944\n"
     ]
    },
    {
     "name": "stderr",
     "output_type": "stream",
     "text": [
      "  3%|▎         | 143/5000 [7:54:10<229:51:27, 170.37s/it]"
     ]
    },
    {
     "name": "stdout",
     "output_type": "stream",
     "text": [
      "LB Smoothed -12.023723916790022\n"
     ]
    },
    {
     "name": "stderr",
     "output_type": "stream",
     "text": [
      "  3%|▎         | 144/5000 [7:56:50<225:35:18, 167.24s/it]"
     ]
    },
    {
     "name": "stdout",
     "output_type": "stream",
     "text": [
      "LB Smoothed -12.01618614782536\n"
     ]
    },
    {
     "name": "stderr",
     "output_type": "stream",
     "text": [
      "  3%|▎         | 145/5000 [7:59:30<222:32:06, 165.01s/it]"
     ]
    },
    {
     "name": "stdout",
     "output_type": "stream",
     "text": [
      "LB Smoothed -12.011154379463497\n"
     ]
    },
    {
     "name": "stderr",
     "output_type": "stream",
     "text": [
      "  3%|▎         | 146/5000 [8:02:13<222:00:53, 164.66s/it]"
     ]
    },
    {
     "name": "stdout",
     "output_type": "stream",
     "text": [
      "LB Smoothed -12.006175141210162\n"
     ]
    },
    {
     "name": "stderr",
     "output_type": "stream",
     "text": [
      "  3%|▎         | 147/5000 [8:04:58<221:56:03, 164.63s/it]"
     ]
    },
    {
     "name": "stdout",
     "output_type": "stream",
     "text": [
      "LB Smoothed -12.002392985115335\n"
     ]
    },
    {
     "name": "stderr",
     "output_type": "stream",
     "text": [
      "  3%|▎         | 148/5000 [8:07:39<220:36:00, 163.68s/it]"
     ]
    },
    {
     "name": "stdout",
     "output_type": "stream",
     "text": [
      "LB Smoothed -11.99982725564687\n"
     ]
    },
    {
     "name": "stderr",
     "output_type": "stream",
     "text": [
      "  3%|▎         | 149/5000 [8:10:17<218:17:02, 161.99s/it]"
     ]
    },
    {
     "name": "stdout",
     "output_type": "stream",
     "text": [
      "LB Smoothed -11.998579414794056\n"
     ]
    },
    {
     "name": "stderr",
     "output_type": "stream",
     "text": [
      "  3%|▎         | 150/5000 [8:12:59<218:14:28, 161.99s/it]"
     ]
    },
    {
     "name": "stdout",
     "output_type": "stream",
     "text": [
      "LB Smoothed -11.99424725898322\n"
     ]
    },
    {
     "name": "stderr",
     "output_type": "stream",
     "text": [
      "  3%|▎         | 151/5000 [8:15:43<218:55:51, 162.54s/it]"
     ]
    },
    {
     "name": "stdout",
     "output_type": "stream",
     "text": [
      "LB Smoothed -11.989066197134575\n"
     ]
    },
    {
     "name": "stderr",
     "output_type": "stream",
     "text": [
      "  3%|▎         | 152/5000 [8:18:27<219:30:06, 163.00s/it]"
     ]
    },
    {
     "name": "stdout",
     "output_type": "stream",
     "text": [
      "LB Smoothed -11.984854918801808\n"
     ]
    },
    {
     "name": "stderr",
     "output_type": "stream",
     "text": [
      "  3%|▎         | 153/5000 [8:21:10<219:09:35, 162.78s/it]"
     ]
    },
    {
     "name": "stdout",
     "output_type": "stream",
     "text": [
      "LB Smoothed -11.981193135778435\n"
     ]
    },
    {
     "name": "stderr",
     "output_type": "stream",
     "text": [
      "  3%|▎         | 154/5000 [8:23:50<218:11:55, 162.10s/it]"
     ]
    },
    {
     "name": "stdout",
     "output_type": "stream",
     "text": [
      "LB Smoothed -11.979155215045852\n"
     ]
    },
    {
     "name": "stderr",
     "output_type": "stream",
     "text": [
      "  3%|▎         | 155/5000 [8:26:34<218:46:41, 162.56s/it]"
     ]
    },
    {
     "name": "stdout",
     "output_type": "stream",
     "text": [
      "LB Smoothed -11.972939129894115\n"
     ]
    },
    {
     "name": "stderr",
     "output_type": "stream",
     "text": [
      "  3%|▎         | 156/5000 [8:29:19<219:59:32, 163.50s/it]"
     ]
    },
    {
     "name": "stdout",
     "output_type": "stream",
     "text": [
      "LB Smoothed -11.9673650507017\n"
     ]
    },
    {
     "name": "stderr",
     "output_type": "stream",
     "text": [
      "  3%|▎         | 157/5000 [8:32:03<220:02:26, 163.57s/it]"
     ]
    },
    {
     "name": "stdout",
     "output_type": "stream",
     "text": [
      "LB Smoothed -11.962800054509104\n"
     ]
    },
    {
     "name": "stderr",
     "output_type": "stream",
     "text": [
      "  3%|▎         | 158/5000 [8:34:46<219:33:50, 163.24s/it]"
     ]
    },
    {
     "name": "stdout",
     "output_type": "stream",
     "text": [
      "LB Smoothed -11.958787027685059\n"
     ]
    },
    {
     "name": "stderr",
     "output_type": "stream",
     "text": [
      "  3%|▎         | 159/5000 [8:37:27<218:49:26, 162.73s/it]"
     ]
    },
    {
     "name": "stdout",
     "output_type": "stream",
     "text": [
      "LB Smoothed -11.95461901948154\n"
     ]
    },
    {
     "name": "stderr",
     "output_type": "stream",
     "text": [
      "  3%|▎         | 160/5000 [8:40:13<219:54:26, 163.57s/it]"
     ]
    },
    {
     "name": "stdout",
     "output_type": "stream",
     "text": [
      "LB Smoothed -11.949954674643964\n"
     ]
    },
    {
     "name": "stderr",
     "output_type": "stream",
     "text": [
      "  3%|▎         | 161/5000 [8:42:58<220:31:42, 164.06s/it]"
     ]
    },
    {
     "name": "stdout",
     "output_type": "stream",
     "text": [
      "LB Smoothed -11.949804879262723\n"
     ]
    },
    {
     "name": "stderr",
     "output_type": "stream",
     "text": [
      "  3%|▎         | 162/5000 [8:45:48<222:44:08, 165.74s/it]"
     ]
    },
    {
     "name": "stdout",
     "output_type": "stream",
     "text": [
      "LB Smoothed -11.944704989567464\n"
     ]
    },
    {
     "name": "stderr",
     "output_type": "stream",
     "text": [
      "  3%|▎         | 163/5000 [8:48:29<220:50:54, 164.37s/it]"
     ]
    },
    {
     "name": "stdout",
     "output_type": "stream",
     "text": [
      "LB Smoothed -11.940095488957043\n"
     ]
    },
    {
     "name": "stderr",
     "output_type": "stream",
     "text": [
      "  3%|▎         | 164/5000 [8:51:11<220:04:14, 163.82s/it]"
     ]
    },
    {
     "name": "stdout",
     "output_type": "stream",
     "text": [
      "LB Smoothed -11.937495801567227\n"
     ]
    },
    {
     "name": "stderr",
     "output_type": "stream",
     "text": [
      "  3%|▎         | 165/5000 [8:53:56<220:13:41, 163.98s/it]"
     ]
    },
    {
     "name": "stdout",
     "output_type": "stream",
     "text": [
      "LB Smoothed -11.936186592899041\n"
     ]
    },
    {
     "name": "stderr",
     "output_type": "stream",
     "text": [
      "  3%|▎         | 166/5000 [8:56:39<220:05:11, 163.90s/it]"
     ]
    },
    {
     "name": "stdout",
     "output_type": "stream",
     "text": [
      "LB Smoothed -11.931898426537444\n"
     ]
    },
    {
     "name": "stderr",
     "output_type": "stream",
     "text": [
      "  3%|▎         | 167/5000 [8:59:19<218:24:16, 162.69s/it]"
     ]
    },
    {
     "name": "stdout",
     "output_type": "stream",
     "text": [
      "LB Smoothed -11.928020002098387\n"
     ]
    },
    {
     "name": "stderr",
     "output_type": "stream",
     "text": [
      "  3%|▎         | 168/5000 [9:01:58<216:53:42, 161.59s/it]"
     ]
    },
    {
     "name": "stdout",
     "output_type": "stream",
     "text": [
      "LB Smoothed -11.924154635819658\n"
     ]
    },
    {
     "name": "stderr",
     "output_type": "stream",
     "text": [
      "  3%|▎         | 169/5000 [9:04:40<216:58:46, 161.69s/it]"
     ]
    },
    {
     "name": "stdout",
     "output_type": "stream",
     "text": [
      "LB Smoothed -11.921594302244417\n"
     ]
    },
    {
     "name": "stderr",
     "output_type": "stream",
     "text": [
      "  3%|▎         | 170/5000 [9:07:25<218:02:28, 162.52s/it]"
     ]
    },
    {
     "name": "stdout",
     "output_type": "stream",
     "text": [
      "LB Smoothed -11.919309436340797\n"
     ]
    },
    {
     "name": "stderr",
     "output_type": "stream",
     "text": [
      "  3%|▎         | 171/5000 [9:10:08<218:20:22, 162.77s/it]"
     ]
    },
    {
     "name": "stdout",
     "output_type": "stream",
     "text": [
      "LB Smoothed -11.917703498479895\n"
     ]
    },
    {
     "name": "stderr",
     "output_type": "stream",
     "text": [
      "  3%|▎         | 172/5000 [9:12:50<218:01:30, 162.57s/it]"
     ]
    },
    {
     "name": "stdout",
     "output_type": "stream",
     "text": [
      "LB Smoothed -11.917300286300499\n"
     ]
    },
    {
     "name": "stderr",
     "output_type": "stream",
     "text": [
      "  3%|▎         | 173/5000 [9:15:32<217:52:08, 162.49s/it]"
     ]
    },
    {
     "name": "stdout",
     "output_type": "stream",
     "text": [
      "LB Smoothed -11.912618754033883\n"
     ]
    },
    {
     "name": "stderr",
     "output_type": "stream",
     "text": [
      "  3%|▎         | 174/5000 [9:18:16<218:25:50, 162.94s/it]"
     ]
    },
    {
     "name": "stdout",
     "output_type": "stream",
     "text": [
      "LB Smoothed -11.909244443252723\n"
     ]
    },
    {
     "name": "stderr",
     "output_type": "stream",
     "text": [
      "  4%|▎         | 175/5000 [9:21:02<219:34:58, 163.83s/it]"
     ]
    },
    {
     "name": "stdout",
     "output_type": "stream",
     "text": [
      "LB Smoothed -11.906256581887224\n"
     ]
    },
    {
     "name": "stderr",
     "output_type": "stream",
     "text": [
      "  4%|▎         | 176/5000 [9:23:42<217:40:47, 162.45s/it]"
     ]
    },
    {
     "name": "stdout",
     "output_type": "stream",
     "text": [
      "LB Smoothed -11.903133466801414\n"
     ]
    },
    {
     "name": "stderr",
     "output_type": "stream",
     "text": [
      "  4%|▎         | 177/5000 [9:26:52<228:50:34, 170.81s/it]"
     ]
    },
    {
     "name": "stdout",
     "output_type": "stream",
     "text": [
      "LB Smoothed -11.90063649627849\n"
     ]
    },
    {
     "name": "stderr",
     "output_type": "stream",
     "text": [
      "  4%|▎         | 178/5000 [9:29:36<226:08:43, 168.84s/it]"
     ]
    },
    {
     "name": "stdout",
     "output_type": "stream",
     "text": [
      "LB Smoothed -11.89754982364865\n"
     ]
    },
    {
     "name": "stderr",
     "output_type": "stream",
     "text": [
      "  4%|▎         | 179/5000 [9:32:21<224:23:19, 167.56s/it]"
     ]
    },
    {
     "name": "stdout",
     "output_type": "stream",
     "text": [
      "LB Smoothed -11.89535276758452\n"
     ]
    },
    {
     "name": "stderr",
     "output_type": "stream",
     "text": [
      "  4%|▎         | 180/5000 [9:35:06<223:32:23, 166.96s/it]"
     ]
    },
    {
     "name": "stdout",
     "output_type": "stream",
     "text": [
      "LB Smoothed -11.892650280997056\n"
     ]
    },
    {
     "name": "stderr",
     "output_type": "stream",
     "text": [
      "  4%|▎         | 181/5000 [9:37:48<221:15:12, 165.29s/it]"
     ]
    },
    {
     "name": "stdout",
     "output_type": "stream",
     "text": [
      "LB Smoothed -11.888656680633373\n"
     ]
    },
    {
     "name": "stderr",
     "output_type": "stream",
     "text": [
      "  4%|▎         | 182/5000 [9:40:31<220:30:37, 164.76s/it]"
     ]
    },
    {
     "name": "stdout",
     "output_type": "stream",
     "text": [
      "LB Smoothed -11.883050380783727\n"
     ]
    },
    {
     "name": "stderr",
     "output_type": "stream",
     "text": [
      "  4%|▎         | 183/5000 [9:43:16<220:37:37, 164.89s/it]"
     ]
    },
    {
     "name": "stdout",
     "output_type": "stream",
     "text": [
      "LB Smoothed -11.878453718401474\n"
     ]
    },
    {
     "name": "stderr",
     "output_type": "stream",
     "text": [
      "  4%|▎         | 184/5000 [9:46:04<221:36:48, 165.66s/it]"
     ]
    },
    {
     "name": "stdout",
     "output_type": "stream",
     "text": [
      "LB Smoothed -11.876437438015971\n"
     ]
    },
    {
     "name": "stderr",
     "output_type": "stream",
     "text": [
      "  4%|▎         | 185/5000 [9:48:44<219:13:17, 163.90s/it]"
     ]
    },
    {
     "name": "stdout",
     "output_type": "stream",
     "text": [
      "LB Smoothed -11.872322244146613\n"
     ]
    },
    {
     "name": "stderr",
     "output_type": "stream",
     "text": [
      "  4%|▎         | 186/5000 [9:51:27<219:10:26, 163.90s/it]"
     ]
    },
    {
     "name": "stdout",
     "output_type": "stream",
     "text": [
      "LB Smoothed -11.870490733631845\n"
     ]
    },
    {
     "name": "stderr",
     "output_type": "stream",
     "text": [
      "  4%|▎         | 187/5000 [9:54:07<217:34:09, 162.74s/it]"
     ]
    },
    {
     "name": "stdout",
     "output_type": "stream",
     "text": [
      "LB Smoothed -11.86870102041808\n"
     ]
    },
    {
     "name": "stderr",
     "output_type": "stream",
     "text": [
      "  4%|▍         | 188/5000 [9:56:52<218:04:37, 163.15s/it]"
     ]
    },
    {
     "name": "stdout",
     "output_type": "stream",
     "text": [
      "LB Smoothed -11.869421355749141\n"
     ]
    },
    {
     "name": "stderr",
     "output_type": "stream",
     "text": [
      "  4%|▍         | 189/5000 [9:59:37<218:57:27, 163.84s/it]"
     ]
    },
    {
     "name": "stdout",
     "output_type": "stream",
     "text": [
      "LB Smoothed -11.867040779115152\n"
     ]
    },
    {
     "name": "stderr",
     "output_type": "stream",
     "text": [
      "  4%|▍         | 190/5000 [10:02:20<218:23:42, 163.46s/it]"
     ]
    },
    {
     "name": "stdout",
     "output_type": "stream",
     "text": [
      "LB Smoothed -11.86428486868634\n"
     ]
    },
    {
     "name": "stderr",
     "output_type": "stream",
     "text": [
      "  4%|▍         | 191/5000 [10:05:00<217:15:05, 162.63s/it]"
     ]
    },
    {
     "name": "stdout",
     "output_type": "stream",
     "text": [
      "LB Smoothed -11.863062441754497\n"
     ]
    },
    {
     "name": "stderr",
     "output_type": "stream",
     "text": [
      "  4%|▍         | 192/5000 [10:07:46<218:14:03, 163.40s/it]"
     ]
    },
    {
     "name": "stdout",
     "output_type": "stream",
     "text": [
      "LB Smoothed -11.860154530161417\n"
     ]
    },
    {
     "name": "stderr",
     "output_type": "stream",
     "text": [
      "  4%|▍         | 193/5000 [10:10:28<217:54:15, 163.19s/it]"
     ]
    },
    {
     "name": "stdout",
     "output_type": "stream",
     "text": [
      "LB Smoothed -11.858500075976412\n"
     ]
    },
    {
     "name": "stderr",
     "output_type": "stream",
     "text": [
      "  4%|▍         | 194/5000 [10:13:13<218:40:24, 163.80s/it]"
     ]
    },
    {
     "name": "stdout",
     "output_type": "stream",
     "text": [
      "LB Smoothed -11.857617918734505\n"
     ]
    },
    {
     "name": "stderr",
     "output_type": "stream",
     "text": [
      "  4%|▍         | 195/5000 [10:15:58<219:01:53, 164.10s/it]"
     ]
    },
    {
     "name": "stdout",
     "output_type": "stream",
     "text": [
      "LB Smoothed -11.853367164954673\n"
     ]
    },
    {
     "name": "stderr",
     "output_type": "stream",
     "text": [
      "  4%|▍         | 196/5000 [10:18:40<218:04:39, 163.42s/it]"
     ]
    },
    {
     "name": "stdout",
     "output_type": "stream",
     "text": [
      "LB Smoothed -11.852570998897114\n"
     ]
    },
    {
     "name": "stderr",
     "output_type": "stream",
     "text": [
      "  4%|▍         | 197/5000 [10:21:46<226:50:20, 170.02s/it]"
     ]
    },
    {
     "name": "stdout",
     "output_type": "stream",
     "text": [
      "LB Smoothed -11.850371294344377\n"
     ]
    },
    {
     "name": "stderr",
     "output_type": "stream",
     "text": [
      "  4%|▍         | 198/5000 [10:24:31<224:56:51, 168.64s/it]"
     ]
    },
    {
     "name": "stdout",
     "output_type": "stream",
     "text": [
      "LB Smoothed -11.847294059661689\n"
     ]
    },
    {
     "name": "stderr",
     "output_type": "stream",
     "text": [
      "  4%|▍         | 199/5000 [10:27:17<223:58:24, 167.95s/it]"
     ]
    },
    {
     "name": "stdout",
     "output_type": "stream",
     "text": [
      "LB Smoothed -11.84244519829433\n"
     ]
    },
    {
     "name": "stderr",
     "output_type": "stream",
     "text": [
      "  4%|▍         | 200/5000 [10:30:00<221:50:57, 166.39s/it]"
     ]
    },
    {
     "name": "stdout",
     "output_type": "stream",
     "text": [
      "LB Smoothed -11.838979648905065\n"
     ]
    },
    {
     "name": "stderr",
     "output_type": "stream",
     "text": [
      "  4%|▍         | 201/5000 [10:32:44<220:56:37, 165.74s/it]"
     ]
    },
    {
     "name": "stdout",
     "output_type": "stream",
     "text": [
      "LB Smoothed -11.838534730153754\n"
     ]
    },
    {
     "name": "stderr",
     "output_type": "stream",
     "text": [
      "  4%|▍         | 202/5000 [10:35:27<219:30:40, 164.70s/it]"
     ]
    },
    {
     "name": "stdout",
     "output_type": "stream",
     "text": [
      "LB Smoothed -11.835968670452047\n"
     ]
    },
    {
     "name": "stderr",
     "output_type": "stream",
     "text": [
      "  4%|▍         | 203/5000 [10:38:11<219:14:36, 164.54s/it]"
     ]
    },
    {
     "name": "stdout",
     "output_type": "stream",
     "text": [
      "LB Smoothed -11.833659510806685\n"
     ]
    },
    {
     "name": "stderr",
     "output_type": "stream",
     "text": [
      "  4%|▍         | 204/5000 [10:41:52<241:42:15, 181.43s/it]"
     ]
    },
    {
     "name": "stdout",
     "output_type": "stream",
     "text": [
      "LB Smoothed -11.831164046647523\n"
     ]
    },
    {
     "name": "stderr",
     "output_type": "stream",
     "text": [
      "  4%|▍         | 205/5000 [10:44:38<235:45:42, 177.01s/it]"
     ]
    },
    {
     "name": "stdout",
     "output_type": "stream",
     "text": [
      "LB Smoothed -11.82955459680779\n"
     ]
    },
    {
     "name": "stderr",
     "output_type": "stream",
     "text": [
      "  4%|▍         | 206/5000 [10:47:26<231:59:45, 174.21s/it]"
     ]
    },
    {
     "name": "stdout",
     "output_type": "stream",
     "text": [
      "LB Smoothed -11.827262188825122\n"
     ]
    },
    {
     "name": "stderr",
     "output_type": "stream",
     "text": [
      "  4%|▍         | 207/5000 [10:50:09<227:38:49, 170.98s/it]"
     ]
    },
    {
     "name": "stdout",
     "output_type": "stream",
     "text": [
      "LB Smoothed -11.825318527882732\n"
     ]
    },
    {
     "name": "stderr",
     "output_type": "stream",
     "text": [
      "  4%|▍         | 208/5000 [10:52:50<223:33:40, 167.95s/it]"
     ]
    },
    {
     "name": "stdout",
     "output_type": "stream",
     "text": [
      "LB Smoothed -11.824544930737211\n"
     ]
    },
    {
     "name": "stderr",
     "output_type": "stream",
     "text": [
      "  4%|▍         | 209/5000 [10:55:32<220:54:37, 165.99s/it]"
     ]
    },
    {
     "name": "stdout",
     "output_type": "stream",
     "text": [
      "LB Smoothed -11.828183203878515\n"
     ]
    },
    {
     "name": "stderr",
     "output_type": "stream",
     "text": [
      "  4%|▍         | 210/5000 [10:58:16<220:08:22, 165.45s/it]"
     ]
    },
    {
     "name": "stdout",
     "output_type": "stream",
     "text": [
      "LB Smoothed -11.827002329101388\n"
     ]
    },
    {
     "name": "stderr",
     "output_type": "stream",
     "text": [
      "  4%|▍         | 211/5000 [11:01:01<219:57:24, 165.35s/it]"
     ]
    },
    {
     "name": "stdout",
     "output_type": "stream",
     "text": [
      "LB Smoothed -11.82532177803644\n"
     ]
    },
    {
     "name": "stderr",
     "output_type": "stream",
     "text": [
      "  4%|▍         | 212/5000 [11:03:44<218:55:58, 164.61s/it]"
     ]
    },
    {
     "name": "stdout",
     "output_type": "stream",
     "text": [
      "LB Smoothed -11.824705770744947\n"
     ]
    },
    {
     "name": "stderr",
     "output_type": "stream",
     "text": [
      "  4%|▍         | 213/5000 [11:06:26<217:59:29, 163.94s/it]"
     ]
    },
    {
     "name": "stdout",
     "output_type": "stream",
     "text": [
      "LB Smoothed -11.821930841327381\n"
     ]
    },
    {
     "name": "stderr",
     "output_type": "stream",
     "text": [
      "  4%|▍         | 214/5000 [11:09:06<216:20:44, 162.73s/it]"
     ]
    },
    {
     "name": "stdout",
     "output_type": "stream",
     "text": [
      "LB Smoothed -11.820669845782989\n"
     ]
    },
    {
     "name": "stderr",
     "output_type": "stream",
     "text": [
      "  4%|▍         | 215/5000 [11:11:49<216:20:10, 162.76s/it]"
     ]
    },
    {
     "name": "stdout",
     "output_type": "stream",
     "text": [
      "LB Smoothed -11.817898270116435\n"
     ]
    },
    {
     "name": "stderr",
     "output_type": "stream",
     "text": [
      "  4%|▍         | 216/5000 [11:14:32<216:22:42, 162.83s/it]"
     ]
    },
    {
     "name": "stdout",
     "output_type": "stream",
     "text": [
      "LB Smoothed -11.815123188665538\n"
     ]
    },
    {
     "name": "stderr",
     "output_type": "stream",
     "text": [
      "  4%|▍         | 217/5000 [11:17:16<216:43:44, 163.12s/it]"
     ]
    },
    {
     "name": "stdout",
     "output_type": "stream",
     "text": [
      "LB Smoothed -11.813016769213636\n"
     ]
    },
    {
     "name": "stderr",
     "output_type": "stream",
     "text": [
      "  4%|▍         | 218/5000 [11:20:19<224:35:18, 169.08s/it]"
     ]
    },
    {
     "name": "stdout",
     "output_type": "stream",
     "text": [
      "LB Smoothed -11.810571311352993\n"
     ]
    },
    {
     "name": "stderr",
     "output_type": "stream",
     "text": [
      "  4%|▍         | 219/5000 [11:23:03<222:32:14, 167.57s/it]"
     ]
    },
    {
     "name": "stdout",
     "output_type": "stream",
     "text": [
      "LB Smoothed -11.807811700738243\n"
     ]
    },
    {
     "name": "stderr",
     "output_type": "stream",
     "text": [
      "  4%|▍         | 220/5000 [11:25:47<221:21:49, 166.72s/it]"
     ]
    },
    {
     "name": "stdout",
     "output_type": "stream",
     "text": [
      "LB Smoothed -11.80465412669678\n"
     ]
    },
    {
     "name": "stderr",
     "output_type": "stream",
     "text": [
      "  4%|▍         | 221/5000 [11:28:32<220:20:29, 165.98s/it]"
     ]
    },
    {
     "name": "stdout",
     "output_type": "stream",
     "text": [
      "LB Smoothed -11.804095361690099\n"
     ]
    },
    {
     "name": "stderr",
     "output_type": "stream",
     "text": [
      "  4%|▍         | 222/5000 [11:31:12<218:02:03, 164.28s/it]"
     ]
    },
    {
     "name": "stdout",
     "output_type": "stream",
     "text": [
      "LB Smoothed -11.801983188515967\n"
     ]
    },
    {
     "name": "stderr",
     "output_type": "stream",
     "text": [
      "  4%|▍         | 223/5000 [11:33:52<216:19:31, 163.03s/it]"
     ]
    },
    {
     "name": "stdout",
     "output_type": "stream",
     "text": [
      "LB Smoothed -11.800763799297295\n"
     ]
    },
    {
     "name": "stderr",
     "output_type": "stream",
     "text": [
      "  4%|▍         | 224/5000 [11:36:37<216:49:11, 163.43s/it]"
     ]
    },
    {
     "name": "stdout",
     "output_type": "stream",
     "text": [
      "LB Smoothed -11.79788718552721\n"
     ]
    },
    {
     "name": "stderr",
     "output_type": "stream",
     "text": [
      "  4%|▍         | 225/5000 [11:39:28<219:59:39, 165.86s/it]"
     ]
    },
    {
     "name": "stdout",
     "output_type": "stream",
     "text": [
      "LB Smoothed -11.79804710835961\n"
     ]
    },
    {
     "name": "stderr",
     "output_type": "stream",
     "text": [
      "  5%|▍         | 226/5000 [11:42:11<218:47:22, 164.99s/it]"
     ]
    },
    {
     "name": "stdout",
     "output_type": "stream",
     "text": [
      "LB Smoothed -11.79357474083582\n"
     ]
    },
    {
     "name": "stderr",
     "output_type": "stream",
     "text": [
      "  5%|▍         | 227/5000 [11:44:56<218:34:35, 164.86s/it]"
     ]
    },
    {
     "name": "stdout",
     "output_type": "stream",
     "text": [
      "LB Smoothed -11.792937927991881\n"
     ]
    },
    {
     "name": "stderr",
     "output_type": "stream",
     "text": [
      "  5%|▍         | 228/5000 [11:47:38<217:40:31, 164.21s/it]"
     ]
    },
    {
     "name": "stdout",
     "output_type": "stream",
     "text": [
      "LB Smoothed -11.79064192582392\n"
     ]
    },
    {
     "name": "stderr",
     "output_type": "stream",
     "text": [
      "  5%|▍         | 229/5000 [11:50:23<217:44:58, 164.30s/it]"
     ]
    },
    {
     "name": "stdout",
     "output_type": "stream",
     "text": [
      "LB Smoothed -11.792804872181145\n"
     ]
    },
    {
     "name": "stderr",
     "output_type": "stream",
     "text": [
      "  5%|▍         | 230/5000 [11:53:09<218:34:22, 164.96s/it]"
     ]
    },
    {
     "name": "stdout",
     "output_type": "stream",
     "text": [
      "LB Smoothed -11.791483755282803\n"
     ]
    },
    {
     "name": "stderr",
     "output_type": "stream",
     "text": [
      "  5%|▍         | 231/5000 [11:55:51<217:08:08, 163.91s/it]"
     ]
    },
    {
     "name": "stdout",
     "output_type": "stream",
     "text": [
      "LB Smoothed -11.79169675889937\n"
     ]
    },
    {
     "name": "stderr",
     "output_type": "stream",
     "text": [
      "  5%|▍         | 232/5000 [11:58:42<219:58:51, 166.09s/it]"
     ]
    },
    {
     "name": "stdout",
     "output_type": "stream",
     "text": [
      "LB Smoothed -11.790398901122078\n"
     ]
    },
    {
     "name": "stderr",
     "output_type": "stream",
     "text": [
      "  5%|▍         | 233/5000 [12:01:27<219:31:14, 165.78s/it]"
     ]
    },
    {
     "name": "stdout",
     "output_type": "stream",
     "text": [
      "LB Smoothed -11.790015005890154\n"
     ]
    },
    {
     "name": "stderr",
     "output_type": "stream",
     "text": [
      "  5%|▍         | 234/5000 [12:04:12<219:05:19, 165.49s/it]"
     ]
    },
    {
     "name": "stdout",
     "output_type": "stream",
     "text": [
      "LB Smoothed -11.78903609208793\n"
     ]
    },
    {
     "name": "stderr",
     "output_type": "stream",
     "text": [
      "  5%|▍         | 235/5000 [12:06:58<219:26:38, 165.79s/it]"
     ]
    },
    {
     "name": "stdout",
     "output_type": "stream",
     "text": [
      "LB Smoothed -11.785166549323915\n"
     ]
    },
    {
     "name": "stderr",
     "output_type": "stream",
     "text": [
      "  5%|▍         | 236/5000 [12:09:38<217:07:26, 164.07s/it]"
     ]
    },
    {
     "name": "stdout",
     "output_type": "stream",
     "text": [
      "LB Smoothed -11.783835640006972\n"
     ]
    },
    {
     "name": "stderr",
     "output_type": "stream",
     "text": [
      "  5%|▍         | 237/5000 [12:12:21<216:26:44, 163.60s/it]"
     ]
    },
    {
     "name": "stdout",
     "output_type": "stream",
     "text": [
      "LB Smoothed -11.780407442145613\n"
     ]
    },
    {
     "name": "stderr",
     "output_type": "stream",
     "text": [
      "  5%|▍         | 238/5000 [12:15:07<217:30:03, 164.43s/it]"
     ]
    },
    {
     "name": "stdout",
     "output_type": "stream",
     "text": [
      "LB Smoothed -11.78032925385824\n"
     ]
    },
    {
     "name": "stderr",
     "output_type": "stream",
     "text": [
      "  5%|▍         | 239/5000 [12:17:53<218:02:31, 164.87s/it]"
     ]
    },
    {
     "name": "stdout",
     "output_type": "stream",
     "text": [
      "LB Smoothed -11.780449100057131\n"
     ]
    },
    {
     "name": "stderr",
     "output_type": "stream",
     "text": [
      "  5%|▍         | 240/5000 [12:20:36<217:08:48, 164.23s/it]"
     ]
    },
    {
     "name": "stdout",
     "output_type": "stream",
     "text": [
      "LB Smoothed -11.780801129466061\n"
     ]
    },
    {
     "name": "stderr",
     "output_type": "stream",
     "text": [
      "  5%|▍         | 241/5000 [12:23:20<216:57:24, 164.12s/it]"
     ]
    },
    {
     "name": "stdout",
     "output_type": "stream",
     "text": [
      "LB Smoothed -11.780844891158551\n"
     ]
    },
    {
     "name": "stderr",
     "output_type": "stream",
     "text": [
      "  5%|▍         | 242/5000 [12:26:03<216:45:40, 164.01s/it]"
     ]
    },
    {
     "name": "stdout",
     "output_type": "stream",
     "text": [
      "LB Smoothed -11.781306050904057\n"
     ]
    },
    {
     "name": "stderr",
     "output_type": "stream",
     "text": [
      "  5%|▍         | 243/5000 [12:28:48<216:58:00, 164.20s/it]"
     ]
    },
    {
     "name": "stdout",
     "output_type": "stream",
     "text": [
      "LB Smoothed -11.781412294727165\n"
     ]
    },
    {
     "name": "stderr",
     "output_type": "stream",
     "text": [
      "  5%|▍         | 244/5000 [12:31:33<217:23:45, 164.56s/it]"
     ]
    },
    {
     "name": "stdout",
     "output_type": "stream",
     "text": [
      "LB Smoothed -11.781679491321059\n"
     ]
    },
    {
     "name": "stderr",
     "output_type": "stream",
     "text": [
      "  5%|▍         | 245/5000 [12:34:14<215:50:13, 163.41s/it]"
     ]
    },
    {
     "name": "stdout",
     "output_type": "stream",
     "text": [
      "LB Smoothed -11.781122129975543\n"
     ]
    },
    {
     "name": "stderr",
     "output_type": "stream",
     "text": [
      "  5%|▍         | 246/5000 [12:36:58<215:54:56, 163.50s/it]"
     ]
    },
    {
     "name": "stdout",
     "output_type": "stream",
     "text": [
      "LB Smoothed -11.77900524578661\n"
     ]
    },
    {
     "name": "stderr",
     "output_type": "stream",
     "text": [
      "  5%|▍         | 247/5000 [12:40:15<229:08:48, 173.56s/it]"
     ]
    },
    {
     "name": "stdout",
     "output_type": "stream",
     "text": [
      "LB Smoothed -11.776036731837966\n"
     ]
    },
    {
     "name": "stderr",
     "output_type": "stream",
     "text": [
      "  5%|▍         | 248/5000 [12:43:05<227:30:50, 172.36s/it]"
     ]
    },
    {
     "name": "stdout",
     "output_type": "stream",
     "text": [
      "LB Smoothed -11.773795337427421\n"
     ]
    },
    {
     "name": "stderr",
     "output_type": "stream",
     "text": [
      "  5%|▍         | 249/5000 [12:45:49<224:21:10, 170.00s/it]"
     ]
    },
    {
     "name": "stdout",
     "output_type": "stream",
     "text": [
      "LB Smoothed -11.771325402771447\n"
     ]
    },
    {
     "name": "stderr",
     "output_type": "stream",
     "text": [
      "  5%|▌         | 250/5000 [12:48:31<221:02:42, 167.53s/it]"
     ]
    },
    {
     "name": "stdout",
     "output_type": "stream",
     "text": [
      "LB Smoothed -11.772295986589238\n"
     ]
    },
    {
     "name": "stderr",
     "output_type": "stream",
     "text": [
      "  5%|▌         | 251/5000 [12:51:15<219:31:22, 166.41s/it]"
     ]
    },
    {
     "name": "stdout",
     "output_type": "stream",
     "text": [
      "LB Smoothed -11.770515180411419\n"
     ]
    },
    {
     "name": "stderr",
     "output_type": "stream",
     "text": [
      "  5%|▌         | 252/5000 [12:53:58<218:09:03, 165.41s/it]"
     ]
    },
    {
     "name": "stdout",
     "output_type": "stream",
     "text": [
      "LB Smoothed -11.771413038838633\n"
     ]
    },
    {
     "name": "stderr",
     "output_type": "stream",
     "text": [
      "  5%|▌         | 253/5000 [12:56:44<218:27:35, 165.67s/it]"
     ]
    },
    {
     "name": "stdout",
     "output_type": "stream",
     "text": [
      "LB Smoothed -11.771425147056378\n"
     ]
    },
    {
     "name": "stderr",
     "output_type": "stream",
     "text": [
      "  5%|▌         | 254/5000 [12:59:23<215:58:00, 163.82s/it]"
     ]
    },
    {
     "name": "stdout",
     "output_type": "stream",
     "text": [
      "LB Smoothed -11.77235995878613\n"
     ]
    },
    {
     "name": "stderr",
     "output_type": "stream",
     "text": [
      "  5%|▌         | 255/5000 [13:02:07<216:00:01, 163.88s/it]"
     ]
    },
    {
     "name": "stdout",
     "output_type": "stream",
     "text": [
      "LB Smoothed -11.775327578214158\n"
     ]
    },
    {
     "name": "stderr",
     "output_type": "stream",
     "text": [
      "  5%|▌         | 256/5000 [13:04:51<215:55:46, 163.86s/it]"
     ]
    },
    {
     "name": "stdout",
     "output_type": "stream",
     "text": [
      "LB Smoothed -11.776651284492063\n"
     ]
    },
    {
     "name": "stderr",
     "output_type": "stream",
     "text": [
      "  5%|▌         | 257/5000 [13:07:36<216:21:06, 164.21s/it]"
     ]
    },
    {
     "name": "stdout",
     "output_type": "stream",
     "text": [
      "LB Smoothed -11.777838375381597\n"
     ]
    },
    {
     "name": "stderr",
     "output_type": "stream",
     "text": [
      "  5%|▌         | 258/5000 [13:10:18<215:29:14, 163.59s/it]"
     ]
    },
    {
     "name": "stdout",
     "output_type": "stream",
     "text": [
      "LB Smoothed -11.775568349778627\n"
     ]
    },
    {
     "name": "stderr",
     "output_type": "stream",
     "text": [
      "  5%|▌         | 259/5000 [13:13:01<215:11:41, 163.40s/it]"
     ]
    },
    {
     "name": "stdout",
     "output_type": "stream",
     "text": [
      "LB Smoothed -11.776440794331103\n"
     ]
    },
    {
     "name": "stderr",
     "output_type": "stream",
     "text": [
      "  5%|▌         | 260/5000 [13:15:44<214:50:38, 163.17s/it]"
     ]
    },
    {
     "name": "stdout",
     "output_type": "stream",
     "text": [
      "LB Smoothed -11.778847188675241\n"
     ]
    },
    {
     "name": "stderr",
     "output_type": "stream",
     "text": [
      "  5%|▌         | 261/5000 [13:18:27<214:53:21, 163.24s/it]"
     ]
    },
    {
     "name": "stdout",
     "output_type": "stream",
     "text": [
      "LB Smoothed -11.778186374135887\n"
     ]
    },
    {
     "name": "stderr",
     "output_type": "stream",
     "text": [
      "  5%|▌         | 262/5000 [13:21:14<216:11:36, 164.27s/it]"
     ]
    },
    {
     "name": "stdout",
     "output_type": "stream",
     "text": [
      "LB Smoothed -11.775120518119254\n"
     ]
    },
    {
     "name": "stderr",
     "output_type": "stream",
     "text": [
      "  5%|▌         | 263/5000 [13:23:54<214:30:24, 163.02s/it]"
     ]
    },
    {
     "name": "stdout",
     "output_type": "stream",
     "text": [
      "LB Smoothed -11.774878963515725\n"
     ]
    },
    {
     "name": "stderr",
     "output_type": "stream",
     "text": [
      "  5%|▌         | 264/5000 [13:26:38<214:54:04, 163.35s/it]"
     ]
    },
    {
     "name": "stdout",
     "output_type": "stream",
     "text": [
      "LB Smoothed -11.773281584531544\n"
     ]
    },
    {
     "name": "stderr",
     "output_type": "stream",
     "text": [
      "  5%|▌         | 265/5000 [13:29:22<215:00:15, 163.47s/it]"
     ]
    },
    {
     "name": "stdout",
     "output_type": "stream",
     "text": [
      "LB Smoothed -11.77305584316861\n"
     ]
    },
    {
     "name": "stderr",
     "output_type": "stream",
     "text": [
      "  5%|▌         | 266/5000 [13:32:09<216:14:35, 164.44s/it]"
     ]
    },
    {
     "name": "stdout",
     "output_type": "stream",
     "text": [
      "LB Smoothed -11.772195403577362\n"
     ]
    },
    {
     "name": "stderr",
     "output_type": "stream",
     "text": [
      "  5%|▌         | 267/5000 [13:34:52<215:47:08, 164.13s/it]"
     ]
    },
    {
     "name": "stdout",
     "output_type": "stream",
     "text": [
      "LB Smoothed -11.771148959218612\n"
     ]
    },
    {
     "name": "stderr",
     "output_type": "stream",
     "text": [
      "  5%|▌         | 268/5000 [13:37:34<214:59:22, 163.56s/it]"
     ]
    },
    {
     "name": "stdout",
     "output_type": "stream",
     "text": [
      "LB Smoothed -11.769637309183791\n"
     ]
    },
    {
     "name": "stderr",
     "output_type": "stream",
     "text": [
      "  5%|▌         | 269/5000 [13:40:18<215:02:39, 163.64s/it]"
     ]
    },
    {
     "name": "stdout",
     "output_type": "stream",
     "text": [
      "LB Smoothed -11.767552644751229\n"
     ]
    },
    {
     "name": "stderr",
     "output_type": "stream",
     "text": [
      "  5%|▌         | 270/5000 [13:43:04<215:46:42, 164.23s/it]"
     ]
    },
    {
     "name": "stdout",
     "output_type": "stream",
     "text": [
      "LB Smoothed -11.76706634750819\n"
     ]
    },
    {
     "name": "stderr",
     "output_type": "stream",
     "text": [
      "  5%|▌         | 271/5000 [13:46:00<220:25:41, 167.80s/it]"
     ]
    },
    {
     "name": "stdout",
     "output_type": "stream",
     "text": [
      "LB Smoothed -11.765510301951604\n"
     ]
    },
    {
     "name": "stderr",
     "output_type": "stream",
     "text": [
      "  5%|▌         | 272/5000 [13:48:50<221:14:11, 168.45s/it]"
     ]
    },
    {
     "name": "stdout",
     "output_type": "stream",
     "text": [
      "LB Smoothed -11.76337874525909\n"
     ]
    },
    {
     "name": "stderr",
     "output_type": "stream",
     "text": [
      "  5%|▌         | 273/5000 [13:51:39<221:20:59, 168.58s/it]"
     ]
    },
    {
     "name": "stdout",
     "output_type": "stream",
     "text": [
      "LB Smoothed -11.763186711346023\n"
     ]
    },
    {
     "name": "stderr",
     "output_type": "stream",
     "text": [
      "  5%|▌         | 274/5000 [13:54:21<218:40:59, 166.58s/it]"
     ]
    },
    {
     "name": "stdout",
     "output_type": "stream",
     "text": [
      "LB Smoothed -11.762398728268701\n"
     ]
    },
    {
     "name": "stderr",
     "output_type": "stream",
     "text": [
      "  6%|▌         | 275/5000 [13:57:07<218:39:04, 166.59s/it]"
     ]
    },
    {
     "name": "stdout",
     "output_type": "stream",
     "text": [
      "LB Smoothed -11.762274230569048\n"
     ]
    },
    {
     "name": "stderr",
     "output_type": "stream",
     "text": [
      "  6%|▌         | 276/5000 [13:59:51<217:25:38, 165.69s/it]"
     ]
    },
    {
     "name": "stdout",
     "output_type": "stream",
     "text": [
      "LB Smoothed -11.762920412267693\n"
     ]
    },
    {
     "name": "stderr",
     "output_type": "stream",
     "text": [
      "  6%|▌         | 277/5000 [14:02:38<217:49:15, 166.03s/it]"
     ]
    },
    {
     "name": "stdout",
     "output_type": "stream",
     "text": [
      "LB Smoothed -11.764578480382585\n"
     ]
    },
    {
     "name": "stderr",
     "output_type": "stream",
     "text": [
      "  6%|▌         | 278/5000 [14:05:20<216:06:22, 164.76s/it]"
     ]
    },
    {
     "name": "stdout",
     "output_type": "stream",
     "text": [
      "LB Smoothed -11.762758793789457\n"
     ]
    },
    {
     "name": "stderr",
     "output_type": "stream",
     "text": [
      "  6%|▌         | 279/5000 [14:08:06<216:44:40, 165.28s/it]"
     ]
    },
    {
     "name": "stdout",
     "output_type": "stream",
     "text": [
      "LB Smoothed -11.760125110340587\n"
     ]
    },
    {
     "name": "stderr",
     "output_type": "stream",
     "text": [
      "  6%|▌         | 280/5000 [14:10:53<217:12:05, 165.66s/it]"
     ]
    },
    {
     "name": "stdout",
     "output_type": "stream",
     "text": [
      "LB Smoothed -11.760022323366274\n"
     ]
    },
    {
     "name": "stderr",
     "output_type": "stream",
     "text": [
      "  6%|▌         | 281/5000 [14:13:37<216:38:15, 165.27s/it]"
     ]
    },
    {
     "name": "stdout",
     "output_type": "stream",
     "text": [
      "LB Smoothed -11.759295454399126\n"
     ]
    },
    {
     "name": "stderr",
     "output_type": "stream",
     "text": [
      "  6%|▌         | 282/5000 [14:16:22<216:21:48, 165.09s/it]"
     ]
    },
    {
     "name": "stdout",
     "output_type": "stream",
     "text": [
      "LB Smoothed -11.756934887416737\n"
     ]
    },
    {
     "name": "stderr",
     "output_type": "stream",
     "text": [
      "  6%|▌         | 283/5000 [14:19:04<215:18:04, 164.32s/it]"
     ]
    },
    {
     "name": "stdout",
     "output_type": "stream",
     "text": [
      "LB Smoothed -11.753750737947923\n"
     ]
    },
    {
     "name": "stderr",
     "output_type": "stream",
     "text": [
      "  6%|▌         | 284/5000 [14:21:49<215:29:43, 164.50s/it]"
     ]
    },
    {
     "name": "stdout",
     "output_type": "stream",
     "text": [
      "LB Smoothed -11.752165612900244\n"
     ]
    },
    {
     "name": "stderr",
     "output_type": "stream",
     "text": [
      "  6%|▌         | 285/5000 [14:24:35<215:55:31, 164.86s/it]"
     ]
    },
    {
     "name": "stdout",
     "output_type": "stream",
     "text": [
      "LB Smoothed -11.750744506880674\n"
     ]
    },
    {
     "name": "stderr",
     "output_type": "stream",
     "text": [
      "  6%|▌         | 286/5000 [14:27:17<214:44:15, 163.99s/it]"
     ]
    },
    {
     "name": "stdout",
     "output_type": "stream",
     "text": [
      "LB Smoothed -11.751174330406098\n"
     ]
    },
    {
     "name": "stderr",
     "output_type": "stream",
     "text": [
      "  6%|▌         | 287/5000 [14:29:27<201:18:48, 153.77s/it]"
     ]
    },
    {
     "name": "stdout",
     "output_type": "stream",
     "text": [
      "LB Smoothed -11.747269824044407\n"
     ]
    },
    {
     "name": "stderr",
     "output_type": "stream",
     "text": [
      "  6%|▌         | 288/5000 [14:31:27<188:17:57, 143.86s/it]"
     ]
    },
    {
     "name": "stdout",
     "output_type": "stream",
     "text": [
      "LB Smoothed -11.747103252842217\n"
     ]
    },
    {
     "name": "stderr",
     "output_type": "stream",
     "text": [
      "  6%|▌         | 289/5000 [14:33:15<174:10:34, 133.10s/it]"
     ]
    },
    {
     "name": "stdout",
     "output_type": "stream",
     "text": [
      "LB Smoothed -11.748613264898387\n"
     ]
    },
    {
     "name": "stderr",
     "output_type": "stream",
     "text": [
      "  6%|▌         | 290/5000 [14:35:00<162:46:03, 124.41s/it]"
     ]
    },
    {
     "name": "stdout",
     "output_type": "stream",
     "text": [
      "LB Smoothed -11.749493617131353\n"
     ]
    },
    {
     "name": "stderr",
     "output_type": "stream",
     "text": [
      "  6%|▌         | 291/5000 [14:36:47<156:00:42, 119.27s/it]"
     ]
    },
    {
     "name": "stdout",
     "output_type": "stream",
     "text": [
      "LB Smoothed -11.749162718795926\n"
     ]
    },
    {
     "name": "stderr",
     "output_type": "stream",
     "text": [
      "  6%|▌         | 292/5000 [14:38:35<151:35:39, 115.92s/it]"
     ]
    },
    {
     "name": "stdout",
     "output_type": "stream",
     "text": [
      "LB Smoothed -11.748395620295717\n"
     ]
    },
    {
     "name": "stderr",
     "output_type": "stream",
     "text": [
      "  6%|▌         | 293/5000 [14:40:24<148:49:43, 113.83s/it]"
     ]
    },
    {
     "name": "stdout",
     "output_type": "stream",
     "text": [
      "LB Smoothed -11.745549650607796\n"
     ]
    },
    {
     "name": "stderr",
     "output_type": "stream",
     "text": [
      "  6%|▌         | 294/5000 [14:42:12<146:36:11, 112.15s/it]"
     ]
    },
    {
     "name": "stdout",
     "output_type": "stream",
     "text": [
      "LB Smoothed -11.745013544388776\n"
     ]
    },
    {
     "name": "stderr",
     "output_type": "stream",
     "text": [
      "  6%|▌         | 295/5000 [14:44:00<145:00:31, 110.95s/it]"
     ]
    },
    {
     "name": "stdout",
     "output_type": "stream",
     "text": [
      "LB Smoothed -11.744850715164953\n"
     ]
    },
    {
     "name": "stderr",
     "output_type": "stream",
     "text": [
      "  6%|▌         | 296/5000 [14:45:48<143:50:54, 110.09s/it]"
     ]
    },
    {
     "name": "stdout",
     "output_type": "stream",
     "text": [
      "LB Smoothed -11.741211763149122\n"
     ]
    },
    {
     "name": "stderr",
     "output_type": "stream",
     "text": [
      "  6%|▌         | 297/5000 [14:47:36<142:58:16, 109.44s/it]"
     ]
    },
    {
     "name": "stdout",
     "output_type": "stream",
     "text": [
      "LB Smoothed -11.739271705878053\n"
     ]
    },
    {
     "name": "stderr",
     "output_type": "stream",
     "text": [
      "  6%|▌         | 298/5000 [14:49:24<142:14:46, 108.91s/it]"
     ]
    },
    {
     "name": "stdout",
     "output_type": "stream",
     "text": [
      "LB Smoothed -11.740248503154675\n"
     ]
    },
    {
     "name": "stderr",
     "output_type": "stream",
     "text": [
      "  6%|▌         | 299/5000 [14:51:12<142:04:55, 108.81s/it]"
     ]
    },
    {
     "name": "stdout",
     "output_type": "stream",
     "text": [
      "LB Smoothed -11.738509211488848\n"
     ]
    },
    {
     "name": "stderr",
     "output_type": "stream",
     "text": [
      "  6%|▌         | 300/5000 [14:53:00<141:22:24, 108.29s/it]"
     ]
    },
    {
     "name": "stdout",
     "output_type": "stream",
     "text": [
      "LB Smoothed -11.735912140514712\n"
     ]
    },
    {
     "name": "stderr",
     "output_type": "stream",
     "text": [
      "  6%|▌         | 301/5000 [14:54:48<141:28:32, 108.39s/it]"
     ]
    },
    {
     "name": "stdout",
     "output_type": "stream",
     "text": [
      "LB Smoothed -11.737848807820622\n"
     ]
    },
    {
     "name": "stderr",
     "output_type": "stream",
     "text": [
      "  6%|▌         | 302/5000 [14:56:36<141:05:15, 108.11s/it]"
     ]
    },
    {
     "name": "stdout",
     "output_type": "stream",
     "text": [
      "LB Smoothed -11.735515378735947\n"
     ]
    },
    {
     "name": "stderr",
     "output_type": "stream",
     "text": [
      "  6%|▌         | 303/5000 [14:58:24<141:03:42, 108.12s/it]"
     ]
    },
    {
     "name": "stdout",
     "output_type": "stream",
     "text": [
      "LB Smoothed -11.733937582465428\n"
     ]
    },
    {
     "name": "stderr",
     "output_type": "stream",
     "text": [
      "  6%|▌         | 304/5000 [15:00:11<140:43:39, 107.88s/it]"
     ]
    },
    {
     "name": "stdout",
     "output_type": "stream",
     "text": [
      "LB Smoothed -11.734127773549327\n"
     ]
    },
    {
     "name": "stderr",
     "output_type": "stream",
     "text": [
      "  6%|▌         | 305/5000 [15:02:00<141:03:51, 108.16s/it]"
     ]
    },
    {
     "name": "stdout",
     "output_type": "stream",
     "text": [
      "LB Smoothed -11.732692093094274\n"
     ]
    },
    {
     "name": "stderr",
     "output_type": "stream",
     "text": [
      "  6%|▌         | 306/5000 [15:03:47<140:38:20, 107.86s/it]"
     ]
    },
    {
     "name": "stdout",
     "output_type": "stream",
     "text": [
      "LB Smoothed -11.733223411038363\n"
     ]
    },
    {
     "name": "stderr",
     "output_type": "stream",
     "text": [
      "  6%|▌         | 307/5000 [15:05:33<139:44:29, 107.20s/it]"
     ]
    },
    {
     "name": "stdout",
     "output_type": "stream",
     "text": [
      "LB Smoothed -11.733005080733907\n"
     ]
    },
    {
     "name": "stderr",
     "output_type": "stream",
     "text": [
      "  6%|▌         | 308/5000 [15:07:20<139:51:56, 107.31s/it]"
     ]
    },
    {
     "name": "stdout",
     "output_type": "stream",
     "text": [
      "LB Smoothed -11.729271878746038\n"
     ]
    },
    {
     "name": "stderr",
     "output_type": "stream",
     "text": [
      "  6%|▌         | 309/5000 [15:09:10<140:38:52, 107.94s/it]"
     ]
    },
    {
     "name": "stdout",
     "output_type": "stream",
     "text": [
      "LB Smoothed -11.728833982652404\n"
     ]
    },
    {
     "name": "stderr",
     "output_type": "stream",
     "text": [
      "  6%|▌         | 310/5000 [15:10:58<140:45:40, 108.05s/it]"
     ]
    },
    {
     "name": "stdout",
     "output_type": "stream",
     "text": [
      "LB Smoothed -11.728966520853145\n"
     ]
    },
    {
     "name": "stderr",
     "output_type": "stream",
     "text": [
      "  6%|▌         | 311/5000 [15:12:45<140:29:39, 107.87s/it]"
     ]
    },
    {
     "name": "stdout",
     "output_type": "stream",
     "text": [
      "LB Smoothed -11.728141279138018\n"
     ]
    },
    {
     "name": "stderr",
     "output_type": "stream",
     "text": [
      "  6%|▌         | 312/5000 [15:14:31<139:39:37, 107.25s/it]"
     ]
    },
    {
     "name": "stdout",
     "output_type": "stream",
     "text": [
      "LB Smoothed -11.728201061021782\n"
     ]
    },
    {
     "name": "stderr",
     "output_type": "stream",
     "text": [
      "  6%|▋         | 313/5000 [15:16:21<140:32:41, 107.95s/it]"
     ]
    },
    {
     "name": "stdout",
     "output_type": "stream",
     "text": [
      "LB Smoothed -11.727135288582948\n"
     ]
    },
    {
     "name": "stderr",
     "output_type": "stream",
     "text": [
      "  6%|▋         | 314/5000 [15:18:09<140:25:24, 107.88s/it]"
     ]
    },
    {
     "name": "stdout",
     "output_type": "stream",
     "text": [
      "LB Smoothed -11.729792375769403\n"
     ]
    },
    {
     "name": "stderr",
     "output_type": "stream",
     "text": [
      "  6%|▋         | 315/5000 [15:19:56<140:07:11, 107.67s/it]"
     ]
    },
    {
     "name": "stdout",
     "output_type": "stream",
     "text": [
      "LB Smoothed -11.729110078609722\n"
     ]
    },
    {
     "name": "stderr",
     "output_type": "stream",
     "text": [
      "  6%|▋         | 316/5000 [15:21:45<140:36:59, 108.07s/it]"
     ]
    },
    {
     "name": "stdout",
     "output_type": "stream",
     "text": [
      "LB Smoothed -11.729351371216339\n"
     ]
    },
    {
     "name": "stderr",
     "output_type": "stream",
     "text": [
      "  6%|▋         | 317/5000 [15:23:32<140:16:04, 107.83s/it]"
     ]
    },
    {
     "name": "stdout",
     "output_type": "stream",
     "text": [
      "LB Smoothed -11.729215596627395\n"
     ]
    },
    {
     "name": "stderr",
     "output_type": "stream",
     "text": [
      "  6%|▋         | 318/5000 [15:25:20<140:15:57, 107.85s/it]"
     ]
    },
    {
     "name": "stdout",
     "output_type": "stream",
     "text": [
      "LB Smoothed -11.729386758128353\n"
     ]
    },
    {
     "name": "stderr",
     "output_type": "stream",
     "text": [
      "  6%|▋         | 319/5000 [15:27:09<140:41:16, 108.20s/it]"
     ]
    },
    {
     "name": "stdout",
     "output_type": "stream",
     "text": [
      "LB Smoothed -11.731798018410252\n"
     ]
    },
    {
     "name": "stderr",
     "output_type": "stream",
     "text": [
      "  6%|▋         | 320/5000 [15:28:55<139:45:50, 107.51s/it]"
     ]
    },
    {
     "name": "stdout",
     "output_type": "stream",
     "text": [
      "LB Smoothed -11.732309401782393\n"
     ]
    },
    {
     "name": "stderr",
     "output_type": "stream",
     "text": [
      "  6%|▋         | 321/5000 [15:30:41<139:08:26, 107.05s/it]"
     ]
    },
    {
     "name": "stdout",
     "output_type": "stream",
     "text": [
      "LB Smoothed -11.73296938411944\n"
     ]
    },
    {
     "name": "stderr",
     "output_type": "stream",
     "text": [
      "  6%|▋         | 322/5000 [15:32:29<139:27:36, 107.32s/it]"
     ]
    },
    {
     "name": "stdout",
     "output_type": "stream",
     "text": [
      "LB Smoothed -11.730725482363706\n"
     ]
    },
    {
     "name": "stderr",
     "output_type": "stream",
     "text": [
      "  6%|▋         | 323/5000 [15:34:16<139:22:45, 107.28s/it]"
     ]
    },
    {
     "name": "stdout",
     "output_type": "stream",
     "text": [
      "LB Smoothed -11.731431251851777\n"
     ]
    },
    {
     "name": "stderr",
     "output_type": "stream",
     "text": [
      "  6%|▋         | 324/5000 [15:36:05<139:54:01, 107.71s/it]"
     ]
    },
    {
     "name": "stdout",
     "output_type": "stream",
     "text": [
      "LB Smoothed -11.730709966705424\n"
     ]
    },
    {
     "name": "stderr",
     "output_type": "stream",
     "text": [
      "  6%|▋         | 325/5000 [15:37:51<139:22:59, 107.33s/it]"
     ]
    },
    {
     "name": "stdout",
     "output_type": "stream",
     "text": [
      "LB Smoothed -11.72983628048318\n"
     ]
    },
    {
     "name": "stderr",
     "output_type": "stream",
     "text": [
      "  7%|▋         | 326/5000 [15:39:59<147:25:04, 113.54s/it]"
     ]
    },
    {
     "name": "stdout",
     "output_type": "stream",
     "text": [
      "LB Smoothed -11.730777962759282\n"
     ]
    },
    {
     "name": "stderr",
     "output_type": "stream",
     "text": [
      "  7%|▋         | 327/5000 [15:41:55<148:07:21, 114.11s/it]"
     ]
    },
    {
     "name": "stdout",
     "output_type": "stream",
     "text": [
      "LB Smoothed -11.731712115074643\n"
     ]
    },
    {
     "name": "stderr",
     "output_type": "stream",
     "text": [
      "  7%|▋         | 328/5000 [15:43:44<146:13:54, 112.68s/it]"
     ]
    },
    {
     "name": "stdout",
     "output_type": "stream",
     "text": [
      "LB Smoothed -11.72913562156923\n"
     ]
    },
    {
     "name": "stderr",
     "output_type": "stream",
     "text": [
      "  7%|▋         | 329/5000 [15:45:31<143:56:00, 110.93s/it]"
     ]
    },
    {
     "name": "stdout",
     "output_type": "stream",
     "text": [
      "LB Smoothed -11.727968947763971\n"
     ]
    },
    {
     "name": "stderr",
     "output_type": "stream",
     "text": [
      "  7%|▋         | 330/5000 [15:47:20<143:18:29, 110.47s/it]"
     ]
    },
    {
     "name": "stdout",
     "output_type": "stream",
     "text": [
      "LB Smoothed -11.727841445629181\n"
     ]
    },
    {
     "name": "stderr",
     "output_type": "stream",
     "text": [
      "  7%|▋         | 331/5000 [15:49:08<142:18:42, 109.73s/it]"
     ]
    },
    {
     "name": "stdout",
     "output_type": "stream",
     "text": [
      "LB Smoothed -11.725168116472762\n"
     ]
    },
    {
     "name": "stderr",
     "output_type": "stream",
     "text": [
      "  7%|▋         | 332/5000 [15:50:56<141:25:32, 109.07s/it]"
     ]
    },
    {
     "name": "stdout",
     "output_type": "stream",
     "text": [
      "LB Smoothed -11.724233665738918\n"
     ]
    },
    {
     "name": "stderr",
     "output_type": "stream",
     "text": [
      "  7%|▋         | 333/5000 [15:52:43<140:35:20, 108.45s/it]"
     ]
    },
    {
     "name": "stdout",
     "output_type": "stream",
     "text": [
      "LB Smoothed -11.723316505006558\n"
     ]
    },
    {
     "name": "stderr",
     "output_type": "stream",
     "text": [
      "  7%|▋         | 334/5000 [15:54:28<139:28:20, 107.61s/it]"
     ]
    },
    {
     "name": "stdout",
     "output_type": "stream",
     "text": [
      "LB Smoothed -11.725237325000926\n"
     ]
    },
    {
     "name": "stderr",
     "output_type": "stream",
     "text": [
      "  7%|▋         | 335/5000 [15:56:16<139:21:16, 107.54s/it]"
     ]
    },
    {
     "name": "stdout",
     "output_type": "stream",
     "text": [
      "LB Smoothed -11.722386999267247\n"
     ]
    },
    {
     "name": "stderr",
     "output_type": "stream",
     "text": [
      "  7%|▋         | 336/5000 [15:58:04<139:27:49, 107.65s/it]"
     ]
    },
    {
     "name": "stdout",
     "output_type": "stream",
     "text": [
      "LB Smoothed -11.723522136219243\n"
     ]
    },
    {
     "name": "stderr",
     "output_type": "stream",
     "text": [
      "  7%|▋         | 337/5000 [15:59:51<139:19:54, 107.57s/it]"
     ]
    },
    {
     "name": "stdout",
     "output_type": "stream",
     "text": [
      "LB Smoothed -11.720076376657548\n"
     ]
    },
    {
     "name": "stderr",
     "output_type": "stream",
     "text": [
      "  7%|▋         | 338/5000 [16:01:38<138:54:01, 107.26s/it]"
     ]
    },
    {
     "name": "stdout",
     "output_type": "stream",
     "text": [
      "LB Smoothed -11.716201185609997\n"
     ]
    },
    {
     "name": "stderr",
     "output_type": "stream",
     "text": [
      "  7%|▋         | 339/5000 [16:03:25<138:57:23, 107.33s/it]"
     ]
    },
    {
     "name": "stdout",
     "output_type": "stream",
     "text": [
      "LB Smoothed -11.71260292350023\n"
     ]
    },
    {
     "name": "stderr",
     "output_type": "stream",
     "text": [
      "  7%|▋         | 340/5000 [16:05:12<138:51:34, 107.27s/it]"
     ]
    },
    {
     "name": "stdout",
     "output_type": "stream",
     "text": [
      "LB Smoothed -11.71225028020834\n"
     ]
    },
    {
     "name": "stderr",
     "output_type": "stream",
     "text": [
      "  7%|▋         | 341/5000 [16:07:01<139:21:23, 107.68s/it]"
     ]
    },
    {
     "name": "stdout",
     "output_type": "stream",
     "text": [
      "LB Smoothed -11.709224066836018\n"
     ]
    },
    {
     "name": "stderr",
     "output_type": "stream",
     "text": [
      "  7%|▋         | 342/5000 [16:08:48<139:07:02, 107.52s/it]"
     ]
    },
    {
     "name": "stdout",
     "output_type": "stream",
     "text": [
      "LB Smoothed -11.708354917344106\n"
     ]
    },
    {
     "name": "stderr",
     "output_type": "stream",
     "text": [
      "  7%|▋         | 343/5000 [16:10:34<138:36:45, 107.15s/it]"
     ]
    },
    {
     "name": "stdout",
     "output_type": "stream",
     "text": [
      "LB Smoothed -11.706997452132251\n"
     ]
    },
    {
     "name": "stderr",
     "output_type": "stream",
     "text": [
      "  7%|▋         | 344/5000 [16:12:21<138:36:14, 107.17s/it]"
     ]
    },
    {
     "name": "stdout",
     "output_type": "stream",
     "text": [
      "LB Smoothed -11.704016568397435\n"
     ]
    },
    {
     "name": "stderr",
     "output_type": "stream",
     "text": [
      "  7%|▋         | 345/5000 [16:14:09<138:34:28, 107.17s/it]"
     ]
    },
    {
     "name": "stdout",
     "output_type": "stream",
     "text": [
      "LB Smoothed -11.702298034890049\n"
     ]
    },
    {
     "name": "stderr",
     "output_type": "stream",
     "text": [
      "  7%|▋         | 346/5000 [16:15:56<138:38:33, 107.24s/it]"
     ]
    },
    {
     "name": "stdout",
     "output_type": "stream",
     "text": [
      "LB Smoothed -11.70373542802643\n"
     ]
    },
    {
     "name": "stderr",
     "output_type": "stream",
     "text": [
      "  7%|▋         | 347/5000 [16:18:12<149:44:14, 115.85s/it]"
     ]
    },
    {
     "name": "stdout",
     "output_type": "stream",
     "text": [
      "LB Smoothed -11.70375561559345\n"
     ]
    },
    {
     "name": "stderr",
     "output_type": "stream",
     "text": [
      "  7%|▋         | 348/5000 [16:20:01<146:54:56, 113.69s/it]"
     ]
    },
    {
     "name": "stdout",
     "output_type": "stream",
     "text": [
      "LB Smoothed -11.706130992613419\n"
     ]
    },
    {
     "name": "stderr",
     "output_type": "stream",
     "text": [
      "  7%|▋         | 349/5000 [16:21:48<144:18:54, 111.70s/it]"
     ]
    },
    {
     "name": "stdout",
     "output_type": "stream",
     "text": [
      "LB Smoothed -11.706414888311018\n"
     ]
    },
    {
     "name": "stderr",
     "output_type": "stream",
     "text": [
      "  7%|▋         | 350/5000 [16:23:55<150:29:50, 116.51s/it]"
     ]
    },
    {
     "name": "stdout",
     "output_type": "stream",
     "text": [
      "LB Smoothed -11.706220510562702\n"
     ]
    },
    {
     "name": "stderr",
     "output_type": "stream",
     "text": [
      "  7%|▋         | 351/5000 [16:26:13<158:39:06, 122.85s/it]"
     ]
    },
    {
     "name": "stdout",
     "output_type": "stream",
     "text": [
      "LB Smoothed -11.704010256090607\n"
     ]
    },
    {
     "name": "stderr",
     "output_type": "stream",
     "text": [
      "  7%|▋         | 352/5000 [16:28:55<173:35:13, 134.45s/it]"
     ]
    },
    {
     "name": "stdout",
     "output_type": "stream",
     "text": [
      "LB Smoothed -11.701257506045888\n"
     ]
    },
    {
     "name": "stderr",
     "output_type": "stream",
     "text": [
      "  7%|▋         | 353/5000 [16:30:44<163:58:34, 127.03s/it]"
     ]
    },
    {
     "name": "stdout",
     "output_type": "stream",
     "text": [
      "LB Smoothed -11.700365702030991\n"
     ]
    },
    {
     "name": "stderr",
     "output_type": "stream",
     "text": [
      "  7%|▋         | 354/5000 [16:32:31<156:10:41, 121.02s/it]"
     ]
    },
    {
     "name": "stdout",
     "output_type": "stream",
     "text": [
      "LB Smoothed -11.695267617113286\n"
     ]
    },
    {
     "name": "stderr",
     "output_type": "stream",
     "text": [
      "  7%|▋         | 355/5000 [16:34:18<150:43:26, 116.82s/it]"
     ]
    },
    {
     "name": "stdout",
     "output_type": "stream",
     "text": [
      "LB Smoothed -11.690006242899116\n"
     ]
    },
    {
     "name": "stderr",
     "output_type": "stream",
     "text": [
      "  7%|▋         | 356/5000 [16:36:06<147:03:45, 114.00s/it]"
     ]
    },
    {
     "name": "stdout",
     "output_type": "stream",
     "text": [
      "LB Smoothed -11.687868376888908\n"
     ]
    },
    {
     "name": "stderr",
     "output_type": "stream",
     "text": [
      "  7%|▋         | 357/5000 [16:37:53<144:33:50, 112.09s/it]"
     ]
    },
    {
     "name": "stdout",
     "output_type": "stream",
     "text": [
      "LB Smoothed -11.687923652709022\n"
     ]
    },
    {
     "name": "stderr",
     "output_type": "stream",
     "text": [
      "  7%|▋         | 358/5000 [16:39:41<142:57:12, 110.86s/it]"
     ]
    },
    {
     "name": "stdout",
     "output_type": "stream",
     "text": [
      "LB Smoothed -11.687532036711746\n"
     ]
    },
    {
     "name": "stderr",
     "output_type": "stream",
     "text": [
      "  7%|▋         | 359/5000 [16:41:28<141:26:52, 109.72s/it]"
     ]
    },
    {
     "name": "stdout",
     "output_type": "stream",
     "text": [
      "LB Smoothed -11.682219945452184\n"
     ]
    },
    {
     "name": "stderr",
     "output_type": "stream",
     "text": [
      "  7%|▋         | 360/5000 [16:43:18<141:12:49, 109.56s/it]"
     ]
    },
    {
     "name": "stdout",
     "output_type": "stream",
     "text": [
      "LB Smoothed -11.682413390592323\n"
     ]
    },
    {
     "name": "stderr",
     "output_type": "stream",
     "text": [
      "  7%|▋         | 361/5000 [16:45:06<140:41:09, 109.18s/it]"
     ]
    },
    {
     "name": "stdout",
     "output_type": "stream",
     "text": [
      "LB Smoothed -11.682010648728996\n"
     ]
    },
    {
     "name": "stderr",
     "output_type": "stream",
     "text": [
      "  7%|▋         | 362/5000 [16:46:55<140:47:19, 109.28s/it]"
     ]
    },
    {
     "name": "stdout",
     "output_type": "stream",
     "text": [
      "LB Smoothed -11.681279044366025\n"
     ]
    },
    {
     "name": "stderr",
     "output_type": "stream",
     "text": [
      "  7%|▋         | 363/5000 [16:48:43<140:09:21, 108.81s/it]"
     ]
    },
    {
     "name": "stdout",
     "output_type": "stream",
     "text": [
      "LB Smoothed -11.679676047744625\n"
     ]
    },
    {
     "name": "stderr",
     "output_type": "stream",
     "text": [
      "  7%|▋         | 364/5000 [16:50:30<139:21:26, 108.22s/it]"
     ]
    },
    {
     "name": "stdout",
     "output_type": "stream",
     "text": [
      "LB Smoothed -11.678992378623542\n"
     ]
    },
    {
     "name": "stderr",
     "output_type": "stream",
     "text": [
      "  7%|▋         | 365/5000 [16:52:19<139:36:45, 108.44s/it]"
     ]
    },
    {
     "name": "stdout",
     "output_type": "stream",
     "text": [
      "LB Smoothed -11.679497542183363\n"
     ]
    },
    {
     "name": "stderr",
     "output_type": "stream",
     "text": [
      "  7%|▋         | 366/5000 [16:54:06<139:07:22, 108.08s/it]"
     ]
    },
    {
     "name": "stdout",
     "output_type": "stream",
     "text": [
      "LB Smoothed -11.679120513106838\n"
     ]
    },
    {
     "name": "stderr",
     "output_type": "stream",
     "text": [
      "  7%|▋         | 367/5000 [16:55:54<139:03:55, 108.06s/it]"
     ]
    },
    {
     "name": "stdout",
     "output_type": "stream",
     "text": [
      "LB Smoothed -11.67880614083746\n"
     ]
    },
    {
     "name": "stderr",
     "output_type": "stream",
     "text": [
      "  7%|▋         | 368/5000 [16:57:42<138:55:36, 107.97s/it]"
     ]
    },
    {
     "name": "stdout",
     "output_type": "stream",
     "text": [
      "LB Smoothed -11.679160534181925\n"
     ]
    },
    {
     "name": "stderr",
     "output_type": "stream",
     "text": [
      "  7%|▋         | 369/5000 [16:59:28<138:17:46, 107.51s/it]"
     ]
    },
    {
     "name": "stdout",
     "output_type": "stream",
     "text": [
      "LB Smoothed -11.67673539613341\n"
     ]
    },
    {
     "name": "stderr",
     "output_type": "stream",
     "text": [
      "  7%|▋         | 370/5000 [17:01:17<138:51:19, 107.97s/it]"
     ]
    },
    {
     "name": "stdout",
     "output_type": "stream",
     "text": [
      "LB Smoothed -11.675496883544412\n"
     ]
    },
    {
     "name": "stderr",
     "output_type": "stream",
     "text": [
      "  7%|▋         | 371/5000 [17:03:05<138:32:42, 107.75s/it]"
     ]
    },
    {
     "name": "stdout",
     "output_type": "stream",
     "text": [
      "LB Smoothed -11.673463016302277\n"
     ]
    },
    {
     "name": "stderr",
     "output_type": "stream",
     "text": [
      "  7%|▋         | 372/5000 [17:04:52<138:20:20, 107.61s/it]"
     ]
    },
    {
     "name": "stdout",
     "output_type": "stream",
     "text": [
      "LB Smoothed -11.673256652589934\n"
     ]
    },
    {
     "name": "stderr",
     "output_type": "stream",
     "text": [
      "  7%|▋         | 373/5000 [17:06:38<137:51:32, 107.26s/it]"
     ]
    },
    {
     "name": "stdout",
     "output_type": "stream",
     "text": [
      "LB Smoothed -11.672315148131217\n"
     ]
    },
    {
     "name": "stderr",
     "output_type": "stream",
     "text": [
      "  7%|▋         | 374/5000 [17:08:27<138:09:31, 107.52s/it]"
     ]
    },
    {
     "name": "stdout",
     "output_type": "stream",
     "text": [
      "LB Smoothed -11.671315215653358\n"
     ]
    },
    {
     "name": "stderr",
     "output_type": "stream",
     "text": [
      "  8%|▊         | 375/5000 [17:10:14<138:05:10, 107.48s/it]"
     ]
    },
    {
     "name": "stdout",
     "output_type": "stream",
     "text": [
      "LB Smoothed -11.669733667341845\n"
     ]
    },
    {
     "name": "stderr",
     "output_type": "stream",
     "text": [
      "  8%|▊         | 376/5000 [17:12:02<138:18:29, 107.68s/it]"
     ]
    },
    {
     "name": "stdout",
     "output_type": "stream",
     "text": [
      "LB Smoothed -11.66726893221061\n"
     ]
    },
    {
     "name": "stderr",
     "output_type": "stream",
     "text": [
      "  8%|▊         | 377/5000 [17:13:49<138:04:15, 107.52s/it]"
     ]
    },
    {
     "name": "stdout",
     "output_type": "stream",
     "text": [
      "LB Smoothed -11.666238242049936\n"
     ]
    },
    {
     "name": "stderr",
     "output_type": "stream",
     "text": [
      "  8%|▊         | 378/5000 [17:15:35<137:22:28, 107.00s/it]"
     ]
    },
    {
     "name": "stdout",
     "output_type": "stream",
     "text": [
      "LB Smoothed -11.66517639025449\n"
     ]
    },
    {
     "name": "stderr",
     "output_type": "stream",
     "text": [
      "  8%|▊         | 379/5000 [17:17:24<138:09:16, 107.63s/it]"
     ]
    },
    {
     "name": "stdout",
     "output_type": "stream",
     "text": [
      "LB Smoothed -11.666803653015288\n"
     ]
    },
    {
     "name": "stderr",
     "output_type": "stream",
     "text": [
      "  8%|▊         | 380/5000 [17:19:12<138:20:01, 107.79s/it]"
     ]
    },
    {
     "name": "stdout",
     "output_type": "stream",
     "text": [
      "LB Smoothed -11.666367794545467\n"
     ]
    },
    {
     "name": "stderr",
     "output_type": "stream",
     "text": [
      "  8%|▊         | 381/5000 [17:21:42<154:31:59, 120.44s/it]"
     ]
    },
    {
     "name": "stdout",
     "output_type": "stream",
     "text": [
      "LB Smoothed -11.668145544403798\n"
     ]
    },
    {
     "name": "stderr",
     "output_type": "stream",
     "text": [
      "  8%|▊         | 382/5000 [17:24:15<166:51:59, 130.08s/it]"
     ]
    },
    {
     "name": "stdout",
     "output_type": "stream",
     "text": [
      "LB Smoothed -11.669328313555981\n"
     ]
    },
    {
     "name": "stderr",
     "output_type": "stream",
     "text": [
      "  8%|▊         | 383/5000 [17:26:48<175:42:03, 137.00s/it]"
     ]
    },
    {
     "name": "stdout",
     "output_type": "stream",
     "text": [
      "LB Smoothed -11.667745742573556\n"
     ]
    },
    {
     "name": "stderr",
     "output_type": "stream",
     "text": [
      "  8%|▊         | 384/5000 [17:29:27<184:07:21, 143.60s/it]"
     ]
    },
    {
     "name": "stdout",
     "output_type": "stream",
     "text": [
      "LB Smoothed -11.668230255859788\n"
     ]
    },
    {
     "name": "stderr",
     "output_type": "stream",
     "text": [
      "  8%|▊         | 385/5000 [17:32:06<189:59:52, 148.21s/it]"
     ]
    },
    {
     "name": "stdout",
     "output_type": "stream",
     "text": [
      "LB Smoothed -11.66715284633853\n"
     ]
    },
    {
     "name": "stderr",
     "output_type": "stream",
     "text": [
      "  8%|▊         | 386/5000 [17:34:42<192:55:28, 150.53s/it]"
     ]
    },
    {
     "name": "stdout",
     "output_type": "stream",
     "text": [
      "LB Smoothed -11.669124271100145\n"
     ]
    },
    {
     "name": "stderr",
     "output_type": "stream",
     "text": [
      "  8%|▊         | 387/5000 [17:37:18<195:00:46, 152.19s/it]"
     ]
    },
    {
     "name": "stdout",
     "output_type": "stream",
     "text": [
      "LB Smoothed -11.66877964832822\n"
     ]
    },
    {
     "name": "stderr",
     "output_type": "stream",
     "text": [
      "  8%|▊         | 388/5000 [17:39:58<198:08:14, 154.66s/it]"
     ]
    },
    {
     "name": "stdout",
     "output_type": "stream",
     "text": [
      "LB Smoothed -11.666777115883066\n"
     ]
    },
    {
     "name": "stderr",
     "output_type": "stream",
     "text": [
      "  8%|▊         | 389/5000 [17:42:37<199:33:23, 155.80s/it]"
     ]
    },
    {
     "name": "stdout",
     "output_type": "stream",
     "text": [
      "LB Smoothed -11.664224991154176\n"
     ]
    },
    {
     "name": "stderr",
     "output_type": "stream",
     "text": [
      "  8%|▊         | 390/5000 [17:45:15<200:30:53, 156.58s/it]"
     ]
    },
    {
     "name": "stdout",
     "output_type": "stream",
     "text": [
      "LB Smoothed -11.663551956085925\n"
     ]
    },
    {
     "name": "stderr",
     "output_type": "stream",
     "text": [
      "  8%|▊         | 391/5000 [17:47:55<201:37:54, 157.49s/it]"
     ]
    },
    {
     "name": "stdout",
     "output_type": "stream",
     "text": [
      "LB Smoothed -11.662731906150894\n"
     ]
    },
    {
     "name": "stderr",
     "output_type": "stream",
     "text": [
      "  8%|▊         | 392/5000 [17:50:32<201:37:38, 157.52s/it]"
     ]
    },
    {
     "name": "stdout",
     "output_type": "stream",
     "text": [
      "LB Smoothed -11.664283818929606\n"
     ]
    },
    {
     "name": "stderr",
     "output_type": "stream",
     "text": [
      "  8%|▊         | 393/5000 [17:53:13<202:43:38, 158.42s/it]"
     ]
    },
    {
     "name": "stdout",
     "output_type": "stream",
     "text": [
      "LB Smoothed -11.662976556478625\n"
     ]
    },
    {
     "name": "stderr",
     "output_type": "stream",
     "text": [
      "  8%|▊         | 394/5000 [17:55:53<203:23:28, 158.97s/it]"
     ]
    },
    {
     "name": "stdout",
     "output_type": "stream",
     "text": [
      "LB Smoothed -11.66030491489175\n"
     ]
    },
    {
     "name": "stderr",
     "output_type": "stream",
     "text": [
      "  8%|▊         | 395/5000 [17:58:36<204:46:09, 160.08s/it]"
     ]
    },
    {
     "name": "stdout",
     "output_type": "stream",
     "text": [
      "LB Smoothed -11.66682078536936\n"
     ]
    },
    {
     "name": "stderr",
     "output_type": "stream",
     "text": [
      "  8%|▊         | 396/5000 [18:01:11<202:50:13, 158.60s/it]"
     ]
    },
    {
     "name": "stdout",
     "output_type": "stream",
     "text": [
      "LB Smoothed -11.666628578420088\n"
     ]
    },
    {
     "name": "stderr",
     "output_type": "stream",
     "text": [
      "  8%|▊         | 397/5000 [18:03:50<203:08:08, 158.87s/it]"
     ]
    },
    {
     "name": "stdout",
     "output_type": "stream",
     "text": [
      "LB Smoothed -11.666646996371293\n"
     ]
    },
    {
     "name": "stderr",
     "output_type": "stream",
     "text": [
      "  8%|▊         | 398/5000 [18:06:31<203:39:36, 159.32s/it]"
     ]
    },
    {
     "name": "stdout",
     "output_type": "stream",
     "text": [
      "LB Smoothed -11.66837933739741\n"
     ]
    },
    {
     "name": "stderr",
     "output_type": "stream",
     "text": [
      "  8%|▊         | 399/5000 [18:09:11<203:49:01, 159.47s/it]"
     ]
    },
    {
     "name": "stdout",
     "output_type": "stream",
     "text": [
      "LB Smoothed -11.669863281963186\n"
     ]
    },
    {
     "name": "stderr",
     "output_type": "stream",
     "text": [
      "  8%|▊         | 400/5000 [18:11:48<202:54:42, 158.80s/it]"
     ]
    },
    {
     "name": "stdout",
     "output_type": "stream",
     "text": [
      "LB Smoothed -11.667833922681622\n"
     ]
    },
    {
     "name": "stderr",
     "output_type": "stream",
     "text": [
      "  8%|▊         | 401/5000 [18:14:23<201:18:25, 157.58s/it]"
     ]
    },
    {
     "name": "stdout",
     "output_type": "stream",
     "text": [
      "LB Smoothed -11.6685739718962\n"
     ]
    },
    {
     "name": "stderr",
     "output_type": "stream",
     "text": [
      "  8%|▊         | 402/5000 [18:17:02<201:55:31, 158.10s/it]"
     ]
    },
    {
     "name": "stdout",
     "output_type": "stream",
     "text": [
      "LB Smoothed -11.669099516726755\n"
     ]
    },
    {
     "name": "stderr",
     "output_type": "stream",
     "text": [
      "  8%|▊         | 403/5000 [18:19:42<202:27:59, 158.56s/it]"
     ]
    },
    {
     "name": "stdout",
     "output_type": "stream",
     "text": [
      "LB Smoothed -11.667615086349613\n"
     ]
    },
    {
     "name": "stderr",
     "output_type": "stream",
     "text": [
      "  8%|▊         | 404/5000 [18:22:21<202:43:42, 158.80s/it]"
     ]
    },
    {
     "name": "stdout",
     "output_type": "stream",
     "text": [
      "LB Smoothed -11.666565700094289\n"
     ]
    },
    {
     "name": "stderr",
     "output_type": "stream",
     "text": [
      "  8%|▊         | 405/5000 [18:25:00<202:51:28, 158.93s/it]"
     ]
    },
    {
     "name": "stdout",
     "output_type": "stream",
     "text": [
      "LB Smoothed -11.663247139639344\n"
     ]
    },
    {
     "name": "stderr",
     "output_type": "stream",
     "text": [
      "  8%|▊         | 406/5000 [18:27:38<202:30:17, 158.69s/it]"
     ]
    },
    {
     "name": "stdout",
     "output_type": "stream",
     "text": [
      "LB Smoothed -11.66150583933999\n"
     ]
    },
    {
     "name": "stderr",
     "output_type": "stream",
     "text": [
      "  8%|▊         | 407/5000 [18:30:16<202:06:45, 158.42s/it]"
     ]
    },
    {
     "name": "stdout",
     "output_type": "stream",
     "text": [
      "LB Smoothed -11.6560560197276\n"
     ]
    },
    {
     "name": "stderr",
     "output_type": "stream",
     "text": [
      "  8%|▊         | 408/5000 [18:32:56<202:31:09, 158.77s/it]"
     ]
    },
    {
     "name": "stdout",
     "output_type": "stream",
     "text": [
      "LB Smoothed -11.656207756277553\n"
     ]
    },
    {
     "name": "stderr",
     "output_type": "stream",
     "text": [
      "  8%|▊         | 409/5000 [18:35:34<202:27:07, 158.75s/it]"
     ]
    },
    {
     "name": "stdout",
     "output_type": "stream",
     "text": [
      "LB Smoothed -11.654518495413496\n"
     ]
    },
    {
     "name": "stderr",
     "output_type": "stream",
     "text": [
      "  8%|▊         | 410/5000 [18:38:14<202:36:58, 158.91s/it]"
     ]
    },
    {
     "name": "stdout",
     "output_type": "stream",
     "text": [
      "LB Smoothed -11.652356482309171\n"
     ]
    },
    {
     "name": "stderr",
     "output_type": "stream",
     "text": [
      "  8%|▊         | 411/5000 [19:13:19<946:52:29, 742.81s/it]"
     ]
    },
    {
     "name": "stdout",
     "output_type": "stream",
     "text": [
      "LB Smoothed -11.652693156801128\n"
     ]
    },
    {
     "name": "stderr",
     "output_type": "stream",
     "text": [
      "  8%|▊         | 412/5000 [19:15:48<719:34:20, 564.62s/it]"
     ]
    },
    {
     "name": "stdout",
     "output_type": "stream",
     "text": [
      "LB Smoothed -11.65100406392847\n"
     ]
    },
    {
     "name": "stderr",
     "output_type": "stream",
     "text": [
      "  8%|▊         | 413/5000 [19:18:04<555:31:33, 435.99s/it]"
     ]
    },
    {
     "name": "stdout",
     "output_type": "stream",
     "text": [
      "LB Smoothed -11.648758561642392\n"
     ]
    },
    {
     "name": "stderr",
     "output_type": "stream",
     "text": [
      "  8%|▊         | 414/5000 [19:20:11<437:35:01, 343.50s/it]"
     ]
    },
    {
     "name": "stdout",
     "output_type": "stream",
     "text": [
      "LB Smoothed -11.649886487089113\n"
     ]
    },
    {
     "name": "stderr",
     "output_type": "stream",
     "text": [
      "  8%|▊         | 415/5000 [19:22:16<353:54:27, 277.88s/it]"
     ]
    },
    {
     "name": "stdout",
     "output_type": "stream",
     "text": [
      "LB Smoothed -11.650027099830389\n"
     ]
    },
    {
     "name": "stderr",
     "output_type": "stream",
     "text": [
      "  8%|▊         | 416/5000 [19:24:24<296:40:33, 232.99s/it]"
     ]
    },
    {
     "name": "stdout",
     "output_type": "stream",
     "text": [
      "LB Smoothed -11.650144128565081\n"
     ]
    },
    {
     "name": "stderr",
     "output_type": "stream",
     "text": [
      "  8%|▊         | 417/5000 [19:26:40<259:20:19, 203.71s/it]"
     ]
    },
    {
     "name": "stdout",
     "output_type": "stream",
     "text": [
      "LB Smoothed -11.64830425093077\n"
     ]
    },
    {
     "name": "stderr",
     "output_type": "stream",
     "text": [
      "  8%|▊         | 418/5000 [19:29:11<239:11:56, 187.93s/it]"
     ]
    },
    {
     "name": "stdout",
     "output_type": "stream",
     "text": [
      "LB Smoothed -11.646006558688812\n"
     ]
    },
    {
     "name": "stderr",
     "output_type": "stream",
     "text": [
      "  8%|▊         | 419/5000 [19:31:20<216:54:24, 170.46s/it]"
     ]
    },
    {
     "name": "stdout",
     "output_type": "stream",
     "text": [
      "LB Smoothed -11.644741892081214\n"
     ]
    },
    {
     "name": "stderr",
     "output_type": "stream",
     "text": [
      "  8%|▊         | 420/5000 [19:33:25<199:22:43, 156.72s/it]"
     ]
    },
    {
     "name": "stdout",
     "output_type": "stream",
     "text": [
      "LB Smoothed -11.642825166833665\n"
     ]
    },
    {
     "name": "stderr",
     "output_type": "stream",
     "text": [
      "  8%|▊         | 421/5000 [19:35:36<189:38:38, 149.10s/it]"
     ]
    },
    {
     "name": "stdout",
     "output_type": "stream",
     "text": [
      "LB Smoothed -11.641630074179377\n"
     ]
    },
    {
     "name": "stderr",
     "output_type": "stream",
     "text": [
      "  8%|▊         | 422/5000 [19:37:45<181:47:31, 142.96s/it]"
     ]
    },
    {
     "name": "stdout",
     "output_type": "stream",
     "text": [
      "LB Smoothed -11.641790641234994\n"
     ]
    },
    {
     "name": "stderr",
     "output_type": "stream",
     "text": [
      "  8%|▊         | 423/5000 [19:39:51<175:07:09, 137.74s/it]"
     ]
    },
    {
     "name": "stdout",
     "output_type": "stream",
     "text": [
      "LB Smoothed -11.639681513860102\n"
     ]
    },
    {
     "name": "stderr",
     "output_type": "stream",
     "text": [
      "  8%|▊         | 424/5000 [19:41:56<170:30:59, 134.15s/it]"
     ]
    },
    {
     "name": "stdout",
     "output_type": "stream",
     "text": [
      "LB Smoothed -11.640449417718665\n"
     ]
    },
    {
     "name": "stderr",
     "output_type": "stream",
     "text": [
      "  8%|▊         | 425/5000 [19:44:50<185:41:17, 146.12s/it]"
     ]
    },
    {
     "name": "stdout",
     "output_type": "stream",
     "text": [
      "LB Smoothed -11.641295537421279\n"
     ]
    },
    {
     "name": "stderr",
     "output_type": "stream",
     "text": [
      "  9%|▊         | 426/5000 [19:46:58<178:34:02, 140.54s/it]"
     ]
    },
    {
     "name": "stdout",
     "output_type": "stream",
     "text": [
      "LB Smoothed -11.638844146255517\n"
     ]
    },
    {
     "name": "stderr",
     "output_type": "stream",
     "text": [
      "  9%|▊         | 427/5000 [19:49:04<173:07:19, 136.29s/it]"
     ]
    },
    {
     "name": "stdout",
     "output_type": "stream",
     "text": [
      "LB Smoothed -11.636848856665479\n"
     ]
    },
    {
     "name": "stderr",
     "output_type": "stream",
     "text": [
      "  9%|▊         | 428/5000 [19:51:08<168:13:17, 132.46s/it]"
     ]
    },
    {
     "name": "stdout",
     "output_type": "stream",
     "text": [
      "LB Smoothed -11.635006759418518\n"
     ]
    },
    {
     "name": "stderr",
     "output_type": "stream",
     "text": [
      "  9%|▊         | 429/5000 [19:54:40<198:40:10, 156.47s/it]"
     ]
    },
    {
     "name": "stdout",
     "output_type": "stream",
     "text": [
      "LB Smoothed -11.631175267325574\n"
     ]
    },
    {
     "name": "stderr",
     "output_type": "stream",
     "text": [
      "  9%|▊         | 430/5000 [19:56:59<191:50:52, 151.13s/it]"
     ]
    },
    {
     "name": "stdout",
     "output_type": "stream",
     "text": [
      "LB Smoothed -11.630094301813209\n"
     ]
    },
    {
     "name": "stderr",
     "output_type": "stream",
     "text": [
      "  9%|▊         | 431/5000 [19:59:44<196:58:38, 155.20s/it]"
     ]
    },
    {
     "name": "stdout",
     "output_type": "stream",
     "text": [
      "LB Smoothed -11.626878881853631\n"
     ]
    },
    {
     "name": "stderr",
     "output_type": "stream",
     "text": [
      "  9%|▊         | 432/5000 [20:02:24<198:46:28, 156.65s/it]"
     ]
    },
    {
     "name": "stdout",
     "output_type": "stream",
     "text": [
      "LB Smoothed -11.625542321274567\n"
     ]
    },
    {
     "name": "stderr",
     "output_type": "stream",
     "text": [
      "  9%|▊         | 433/5000 [20:05:01<199:05:37, 156.94s/it]"
     ]
    },
    {
     "name": "stdout",
     "output_type": "stream",
     "text": [
      "LB Smoothed -11.62263900519869\n"
     ]
    },
    {
     "name": "stderr",
     "output_type": "stream",
     "text": [
      "  9%|▊         | 434/5000 [20:07:36<198:16:26, 156.33s/it]"
     ]
    },
    {
     "name": "stdout",
     "output_type": "stream",
     "text": [
      "LB Smoothed -11.622073553670882\n"
     ]
    },
    {
     "name": "stderr",
     "output_type": "stream",
     "text": [
      "  9%|▊         | 435/5000 [20:10:10<197:05:19, 155.43s/it]"
     ]
    },
    {
     "name": "stdout",
     "output_type": "stream",
     "text": [
      "LB Smoothed -11.620717255623067\n"
     ]
    },
    {
     "name": "stderr",
     "output_type": "stream",
     "text": [
      "  9%|▊         | 436/5000 [20:12:43<196:05:49, 154.68s/it]"
     ]
    },
    {
     "name": "stdout",
     "output_type": "stream",
     "text": [
      "LB Smoothed -11.621724532948104\n"
     ]
    },
    {
     "name": "stderr",
     "output_type": "stream",
     "text": [
      "  9%|▊         | 437/5000 [20:15:17<195:59:24, 154.63s/it]"
     ]
    },
    {
     "name": "stdout",
     "output_type": "stream",
     "text": [
      "LB Smoothed -11.62173488041032\n"
     ]
    },
    {
     "name": "stderr",
     "output_type": "stream",
     "text": [
      "  9%|▉         | 438/5000 [20:17:52<196:00:37, 154.68s/it]"
     ]
    },
    {
     "name": "stdout",
     "output_type": "stream",
     "text": [
      "LB Smoothed -11.622301689576448\n"
     ]
    },
    {
     "name": "stderr",
     "output_type": "stream",
     "text": [
      "  9%|▉         | 439/5000 [20:20:24<195:05:46, 153.99s/it]"
     ]
    },
    {
     "name": "stdout",
     "output_type": "stream",
     "text": [
      "LB Smoothed -11.620716926705787\n"
     ]
    },
    {
     "name": "stderr",
     "output_type": "stream",
     "text": [
      "  9%|▉         | 440/5000 [20:22:55<193:40:27, 152.90s/it]"
     ]
    },
    {
     "name": "stdout",
     "output_type": "stream",
     "text": [
      "LB Smoothed -11.619764005582896\n"
     ]
    },
    {
     "name": "stderr",
     "output_type": "stream",
     "text": [
      "  9%|▉         | 441/5000 [20:25:28<193:45:40, 153.00s/it]"
     ]
    },
    {
     "name": "stdout",
     "output_type": "stream",
     "text": [
      "LB Smoothed -11.618523697815952\n"
     ]
    },
    {
     "name": "stderr",
     "output_type": "stream",
     "text": [
      "  9%|▉         | 442/5000 [20:28:00<193:20:31, 152.71s/it]"
     ]
    },
    {
     "name": "stdout",
     "output_type": "stream",
     "text": [
      "LB Smoothed -11.61750235365396\n"
     ]
    },
    {
     "name": "stderr",
     "output_type": "stream",
     "text": [
      "  9%|▉         | 443/5000 [20:30:32<193:01:43, 152.49s/it]"
     ]
    },
    {
     "name": "stdout",
     "output_type": "stream",
     "text": [
      "LB Smoothed -11.618275612397603\n"
     ]
    },
    {
     "name": "stderr",
     "output_type": "stream",
     "text": [
      "  9%|▉         | 444/5000 [20:33:01<191:32:53, 151.36s/it]"
     ]
    },
    {
     "name": "stdout",
     "output_type": "stream",
     "text": [
      "LB Smoothed -11.618575908848193\n"
     ]
    },
    {
     "name": "stderr",
     "output_type": "stream",
     "text": [
      "  9%|▉         | 445/5000 [20:35:32<191:31:15, 151.37s/it]"
     ]
    },
    {
     "name": "stdout",
     "output_type": "stream",
     "text": [
      "LB Smoothed -11.61790145156556\n"
     ]
    },
    {
     "name": "stderr",
     "output_type": "stream",
     "text": [
      "  9%|▉         | 446/5000 [20:38:05<192:11:48, 151.93s/it]"
     ]
    },
    {
     "name": "stdout",
     "output_type": "stream",
     "text": [
      "LB Smoothed -11.617627490460213\n"
     ]
    },
    {
     "name": "stderr",
     "output_type": "stream",
     "text": [
      "  9%|▉         | 447/5000 [20:40:39<192:54:29, 152.53s/it]"
     ]
    },
    {
     "name": "stdout",
     "output_type": "stream",
     "text": [
      "LB Smoothed -11.617849732847827\n"
     ]
    },
    {
     "name": "stderr",
     "output_type": "stream",
     "text": [
      "  9%|▉         | 448/5000 [20:43:11<192:26:09, 152.19s/it]"
     ]
    },
    {
     "name": "stdout",
     "output_type": "stream",
     "text": [
      "LB Smoothed -11.617612386405177\n"
     ]
    },
    {
     "name": "stderr",
     "output_type": "stream",
     "text": [
      "  9%|▉         | 449/5000 [20:45:42<191:59:06, 151.87s/it]"
     ]
    },
    {
     "name": "stdout",
     "output_type": "stream",
     "text": [
      "LB Smoothed -11.617108363160076\n"
     ]
    },
    {
     "name": "stderr",
     "output_type": "stream",
     "text": [
      "  9%|▉         | 450/5000 [20:48:20<194:20:26, 153.76s/it]"
     ]
    },
    {
     "name": "stdout",
     "output_type": "stream",
     "text": [
      "LB Smoothed -11.616041812643866\n"
     ]
    },
    {
     "name": "stderr",
     "output_type": "stream",
     "text": [
      "  9%|▉         | 451/5000 [20:51:00<196:52:02, 155.80s/it]"
     ]
    },
    {
     "name": "stdout",
     "output_type": "stream",
     "text": [
      "LB Smoothed -11.615097994812285\n"
     ]
    },
    {
     "name": "stderr",
     "output_type": "stream",
     "text": [
      "  9%|▉         | 452/5000 [20:53:40<198:28:01, 157.10s/it]"
     ]
    },
    {
     "name": "stdout",
     "output_type": "stream",
     "text": [
      "LB Smoothed -11.612815949969816\n"
     ]
    },
    {
     "name": "stderr",
     "output_type": "stream",
     "text": [
      "  9%|▉         | 453/5000 [20:56:19<199:02:40, 157.59s/it]"
     ]
    },
    {
     "name": "stdout",
     "output_type": "stream",
     "text": [
      "LB Smoothed -11.614719009021725\n"
     ]
    },
    {
     "name": "stderr",
     "output_type": "stream",
     "text": [
      "  9%|▉         | 454/5000 [20:59:21<207:58:22, 164.69s/it]"
     ]
    },
    {
     "name": "stdout",
     "output_type": "stream",
     "text": [
      "LB Smoothed -11.61800788014055\n"
     ]
    },
    {
     "name": "stderr",
     "output_type": "stream",
     "text": [
      "  9%|▉         | 455/5000 [21:01:30<194:41:48, 154.22s/it]"
     ]
    },
    {
     "name": "stdout",
     "output_type": "stream",
     "text": [
      "LB Smoothed -11.618144787692831\n"
     ]
    },
    {
     "name": "stderr",
     "output_type": "stream",
     "text": [
      "  9%|▉         | 456/5000 [21:03:38<184:38:29, 146.28s/it]"
     ]
    },
    {
     "name": "stdout",
     "output_type": "stream",
     "text": [
      "LB Smoothed -11.617793416645384\n"
     ]
    },
    {
     "name": "stderr",
     "output_type": "stream",
     "text": [
      "  9%|▉         | 457/5000 [21:05:44<177:01:55, 140.29s/it]"
     ]
    },
    {
     "name": "stdout",
     "output_type": "stream",
     "text": [
      "LB Smoothed -11.617180554712132\n"
     ]
    },
    {
     "name": "stderr",
     "output_type": "stream",
     "text": [
      "  9%|▉         | 458/5000 [21:07:51<171:52:51, 136.23s/it]"
     ]
    },
    {
     "name": "stdout",
     "output_type": "stream",
     "text": [
      "LB Smoothed -11.618125525676543\n"
     ]
    },
    {
     "name": "stderr",
     "output_type": "stream",
     "text": [
      "  9%|▉         | 459/5000 [21:11:19<198:59:07, 157.75s/it]"
     ]
    },
    {
     "name": "stdout",
     "output_type": "stream",
     "text": [
      "LB Smoothed -11.61730727575396\n"
     ]
    },
    {
     "name": "stderr",
     "output_type": "stream",
     "text": [
      "  9%|▉         | 460/5000 [21:13:32<189:43:59, 150.45s/it]"
     ]
    },
    {
     "name": "stdout",
     "output_type": "stream",
     "text": [
      "LB Smoothed -11.61627930797081\n"
     ]
    },
    {
     "name": "stderr",
     "output_type": "stream",
     "text": [
      "  9%|▉         | 461/5000 [21:15:30<177:03:13, 140.43s/it]"
     ]
    },
    {
     "name": "stdout",
     "output_type": "stream",
     "text": [
      "LB Smoothed -11.614871527514284\n"
     ]
    },
    {
     "name": "stderr",
     "output_type": "stream",
     "text": [
      "  9%|▉         | 462/5000 [21:17:34<170:51:18, 135.54s/it]"
     ]
    },
    {
     "name": "stdout",
     "output_type": "stream",
     "text": [
      "LB Smoothed -11.614940990000509\n"
     ]
    }
   ],
   "source": [
    "vb = GVB(400, transformed_summary_statistics[0], 0.001, 2500, 100, 0.9, 0.9, 100, 100)\n",
    "LB_estimate, smoothed_LB_estimate, best_lambda = vb.vb_posterior(stop)"
   ]
  },
  {
   "cell_type": "code",
   "execution_count": null,
   "metadata": {},
   "outputs": [],
   "source": [
    "max(LB_estimate)"
   ]
  },
  {
   "cell_type": "code",
   "execution_count": null,
   "metadata": {},
   "outputs": [],
   "source": [
    "best_lambda"
   ]
  },
  {
   "cell_type": "code",
   "execution_count": null,
   "metadata": {},
   "outputs": [],
   "source": [
    "best_lambda_untransformed = np.array([np.array([-0.91025911,  0.43886716, -0.20901338, -0.17942595]),\n",
    "       np.array([11.07381326,  2.14421862,  0.67079883,  1.41588884,  7.3952956 ,\n",
    "              -0.58787869, -1.87596932,  9.91166966,  0.8760482 , 12.06295651])],\n",
    "      dtype=object)"
   ]
  },
  {
   "cell_type": "code",
   "execution_count": null,
   "metadata": {},
   "outputs": [],
   "source": [
    "best_lambda_wass = np.array([np.array([-0.84637604,  0.49732016, -0.20861551, -0.133564  ]),\n",
    "       np.array([13.2584442 ,  3.25839391,  3.25834736,  3.25839328,  6.74077997,\n",
    "              -3.25922636, -3.25923237, 13.22206768,  3.16039998, 13.20576727])],\n",
    "      dtype=object)"
   ]
  },
  {
   "cell_type": "markdown",
   "metadata": {},
   "source": [
    "## PLOT DENSITY PLOT OF ALL COEFFS\n"
   ]
  },
  {
   "cell_type": "code",
   "execution_count": null,
   "metadata": {},
   "outputs": [],
   "source": [
    "lb_df = pd.DataFrame(np.array(LB_estimate))\n",
    "plt.figure()\n",
    "lb_df.plot(title = 'Lower Bound Estimate', legend = False)"
   ]
  },
  {
   "cell_type": "code",
   "execution_count": null,
   "metadata": {},
   "outputs": [],
   "source": [
    "lb_df = pd.DataFrame(np.array(smoothed_LB_estimate))\n",
    "plt.figure()\n",
    "lb_df.plot(title = 'Smoothed Lower Bound Estimate', legend = False)"
   ]
  },
  {
   "cell_type": "code",
   "execution_count": null,
   "metadata": {},
   "outputs": [],
   "source": [
    "np.savetxt('vb_lb_varobust.txt', LB_estimate)"
   ]
  },
  {
   "cell_type": "code",
   "execution_count": null,
   "metadata": {},
   "outputs": [],
   "source": [
    "best_mu = best_lambda[0]\n",
    "best_vech_l = list(best_lambda[1])\n",
    "best_l = np.zeros((num_coeffs, num_coeffs))\n",
    "for i in range(num_coeffs):\n",
    "    best_l[i:num_coeffs,i] = best_vech_l[:num_coeffs - i]\n",
    "    del best_vech_l[:num_coeffs-i]\n",
    "best_Sigma_inv = best_l @ best_l.T\n",
    "best_Sigma =  np.linalg.inv(best_Sigma_inv)\n",
    "\n",
    "best_theta_tilde = multivariate_normal.rvs(mean = best_mu, cov = best_Sigma, size = 1000)\n",
    "best_alpha = (2 * np.exp(best_theta_tilde[:,0]) + 1.1) / (1 + np.exp(best_theta_tilde[:,0]))\n",
    "best_beta = (np.exp(best_theta_tilde[:,1]) - 1) / (np.exp(best_theta_tilde[:,1]) + 1)\n",
    "best_gamma = np.exp(best_theta_tilde[:,2])\n",
    "best_delta = best_theta_tilde[:,3]\n",
    "best_theta = np.array([best_alpha, best_beta, best_gamma, best_delta])\n",
    "posterior_mean_estimate = np.mean(best_theta, axis = 1)\n",
    "posterior_mean_estimate"
   ]
  },
  {
   "cell_type": "code",
   "execution_count": null,
   "metadata": {},
   "outputs": [],
   "source": [
    "best_mu_untransformed = best_lambda_untransformed[0]\n",
    "best_vech_l_untransformed = list(best_lambda_untransformed[1])\n",
    "best_l_untransformed = np.zeros((num_coeffs, num_coeffs))\n",
    "for i in range(num_coeffs):\n",
    "    best_l_untransformed[i:num_coeffs,i] = best_vech_l_untransformed[:num_coeffs - i]\n",
    "    del best_vech_l_untransformed[:num_coeffs-i]\n",
    "best_Sigma_untransformed =  np.linalg.inv(best_l_untransformed @ best_l_untransformed.T)\n",
    "\n",
    "best_theta_tilde_untransformed = multivariate_normal.rvs(mean = best_mu_untransformed, cov = best_Sigma_untransformed, size = 1000)\n",
    "best_alpha_untransformed = (2 * np.exp(best_theta_tilde_untransformed[:,0]) + 1.1) / (1 + np.exp(best_theta_tilde_untransformed[:,0]))\n",
    "best_beta_untransformed = (np.exp(best_theta_tilde_untransformed[:,1]) - 1) / (np.exp(best_theta_tilde_untransformed[:,1]) + 1)\n",
    "best_gamma_untransformed = np.exp(best_theta_tilde_untransformed[:,2])\n",
    "best_delta_untransformed = best_theta_tilde_untransformed[:,3]\n",
    "best_theta_untransformed = np.array([best_alpha_untransformed, best_beta_untransformed, best_gamma_untransformed, best_delta_untransformed])\n",
    "posterior_mean_estimate_untransformed = np.mean(best_theta_untransformed, axis = 1)\n",
    "posterior_mean_estimate_untransformed"
   ]
  },
  {
   "cell_type": "code",
   "execution_count": null,
   "metadata": {},
   "outputs": [],
   "source": [
    "best_mu_wass = best_lambda_wass[0]\n",
    "best_vech_l_wass = list(best_lambda_wass[1])\n",
    "best_l_wass = np.zeros((num_coeffs, num_coeffs))\n",
    "for i in range(num_coeffs):\n",
    "    best_l_wass[i:num_coeffs,i] = best_vech_l_wass[:num_coeffs - i]\n",
    "    del best_vech_l_wass[:num_coeffs-i]\n",
    "best_Sigma_wass =  np.linalg.inv(best_l_wass @ best_l_wass.T)\n",
    "\n",
    "best_theta_tilde_wass = multivariate_normal.rvs(mean = best_mu_wass, cov = best_Sigma_wass, size = 1000)\n",
    "best_alpha_wass = (2 * np.exp(best_theta_tilde_wass[:,0]) + 1.1) / (1 + np.exp(best_theta_tilde_wass[:,0]))\n",
    "best_beta_wass = (np.exp(best_theta_tilde_wass[:,1]) - 1) / (np.exp(best_theta_tilde_wass[:,1]) + 1)\n",
    "best_gamma_wass = np.exp(best_theta_tilde_wass[:,2])\n",
    "best_delta_wass = best_theta_tilde_wass[:,3]\n",
    "best_theta_wass = np.array([best_alpha_wass, best_beta_wass, best_gamma_wass, best_delta_wass])\n",
    "posterior_mean_estimate_wass = np.mean(best_theta_wass, axis = 1)\n",
    "posterior_mean_estimate_wass"
   ]
  },
  {
   "cell_type": "code",
   "execution_count": null,
   "metadata": {},
   "outputs": [],
   "source": [
    "plt.figure()\n",
    "x_plot = np.arange((np.mean(best_alpha)-4*np.std(best_alpha)), (np.mean(best_alpha)+4*np.std(best_alpha)), 0.002)\n",
    "kde = KernelDensity(bandwidth=0.01, kernel='gaussian')\n",
    "kde.fit(best_alpha.reshape(-1, 1))\n",
    "y_plot = kde.score_samples(x_plot.reshape(-1, 1))\n",
    "plt.plot(x_plot, np.exp(y_plot), '-', linewidth=2.0)\n",
    "plt.xlabel(r'$\\alpha$')\n",
    "plt.title('Posterior density of alpha')"
   ]
  },
  {
   "cell_type": "code",
   "execution_count": null,
   "metadata": {},
   "outputs": [],
   "source": [
    "plt.figure()\n",
    "#x_plot_mcmc = np.arange((pos_alpha_mean-4*pos_alpha_std), (pos_alpha_mean+4*pos_alpha_std), 0.002)\n",
    "x_plot = np.arange(min(np.mean(best_alpha_untransformed)-4*np.std(best_alpha_untransformed),np.mean(best_alpha)-4*np.std(best_alpha)), max(np.mean(best_alpha_untransformed)+4*np.std(best_alpha_untransformed), np.mean(best_alpha)+4*np.std(best_alpha)), 0.001)\n",
    "\n",
    "kde_vb = KernelDensity(bandwidth=0.0055, kernel='gaussian')\n",
    "kde_vb.fit(best_alpha.reshape(-1, 1))\n",
    "y_plot_vb = kde_vb.score_samples(x_plot.reshape(-1, 1))\n",
    "\n",
    "#x_plot_vb = np.arange((np.mean(best_alpha)-4*np.std(best_alpha)), (np.mean(best_alpha)+4*np.std(best_alpha)), 0.002)\n",
    "kde_vb_untransformed = KernelDensity(bandwidth=0.01, kernel='gaussian')\n",
    "kde_vb_untransformed.fit(best_alpha_untransformed.reshape(-1, 1))\n",
    "y_plot_vb_untransformed = kde_vb_untransformed.score_samples(x_plot.reshape(-1, 1))\n",
    "\n",
    "kde_vb_wass = KernelDensity(bandwidth=0.01, kernel='gaussian')\n",
    "kde_vb_wass.fit(best_alpha_wass.reshape(-1, 1))\n",
    "y_plot_vb_wass = kde_vb_wass.score_samples(x_plot.reshape(-1, 1))\n",
    "\n",
    "plt.plot(x_plot, np.exp(y_plot_vb_untransformed), '-', linewidth=2.0, label = 'VB - BSL')\n",
    "plt.plot(x_plot, np.exp(y_plot_vb_wass), '-', linewidth=2.0, label = 'WG - VB - BSL')\n",
    "plt.plot(x_plot, np.exp(y_plot_vb), '-', linewidth=2.0, label = 'VB - rBSL')\n",
    "# only one line may be specified; full height\n",
    "plt.axvline(x = 1.5, ymin = 0, ymax = max(y_plot_vb_untransformed), color = 'black', label = 'True alpha')\n",
    "\n",
    "plt.legend()\n",
    "plt.xlabel(r'$\\alpha$')\n",
    "plt.title('Posterior density of alpha')\n"
   ]
  },
  {
   "cell_type": "code",
   "execution_count": null,
   "metadata": {},
   "outputs": [],
   "source": [
    "plt.figure()\n",
    "x_plot = np.arange((np.mean(best_beta)-4*np.std(best_beta)), (np.mean(best_beta)+4*np.std(best_beta)), 0.002)\n",
    "kde = KernelDensity(bandwidth=0.1, kernel='gaussian')\n",
    "kde.fit(best_beta.reshape(-1, 1))\n",
    "y_plot = kde.score_samples(x_plot.reshape(-1, 1))\n",
    "plt.plot(x_plot, np.exp(y_plot), '-', linewidth=2.0)\n",
    "plt.xlabel(r'$\\beta$')\n",
    "plt.title('Posterior density of beta')"
   ]
  },
  {
   "cell_type": "code",
   "execution_count": null,
   "metadata": {},
   "outputs": [],
   "source": [
    "plt.figure()\n",
    "x_plot = np.arange((np.mean(best_gamma)-4*np.std(best_gamma)), (np.mean(best_gamma)+4*np.std(best_gamma)), 0.002)\n",
    "kde = KernelDensity(bandwidth=0.05, kernel='gaussian')\n",
    "kde.fit(best_gamma.reshape(-1, 1))\n",
    "y_plot = kde.score_samples(x_plot.reshape(-1, 1))\n",
    "plt.plot(x_plot, np.exp(y_plot), '-', linewidth=2.0)\n",
    "plt.xlabel(r'$\\gamma$')\n",
    "plt.title('Posterior density of gamma')"
   ]
  },
  {
   "cell_type": "code",
   "execution_count": null,
   "metadata": {},
   "outputs": [],
   "source": [
    "plt.figure()\n",
    "x_plot = np.arange((np.mean(best_delta)-4*np.std(best_delta)), (np.mean(best_delta)+4*np.std(best_delta)), 0.002)\n",
    "kde = KernelDensity(bandwidth=0.05, kernel='gaussian')\n",
    "kde.fit(best_delta.reshape(-1, 1))\n",
    "y_plot = kde.score_samples(x_plot.reshape(-1, 1))\n",
    "plt.plot(x_plot, np.exp(y_plot), '-', linewidth=1.5)\n",
    "plt.xlabel(r'$\\delta$')\n",
    "plt.title('Posterior density of delta')"
   ]
  },
  {
   "cell_type": "markdown",
   "metadata": {},
   "source": [
    "## RUN MCMC WITH ADAPTIVE RANDOM WALK"
   ]
  },
  {
   "cell_type": "code",
   "execution_count": null,
   "metadata": {},
   "outputs": [],
   "source": [
    "num_samples = 50000\n",
    "num_burnin = 0.2 * num_samples"
   ]
  },
  {
   "cell_type": "code",
   "execution_count": null,
   "metadata": {},
   "outputs": [],
   "source": [
    "def sampler(samples):\n",
    "\n",
    "    # ------------------- initialize MCMC\n",
    "\n",
    "    theta_size = num_coeffs  # num of weights and bias\n",
    "\n",
    "    pos_theta = np.ones((samples, theta_size))  # posterior of all weights and bias over all samples\n",
    "    pos_theta_tilde = np.ones((samples, theta_size))\n",
    "\n",
    "    theta_tilde = np.array([np.log((1.8-1.1)/(2-1.8)),np.log((0.5+1)/(1-0.5)),np.log(1),0])\n",
    "\n",
    "    alpha = (2 * np.exp(theta_tilde[0]) + 1.1) / (1 + np.exp(theta_tilde[0]))\n",
    "\tbeta = (np.exp(theta_tilde[1]) - 1) / (np.exp(theta_tilde[1]) + 1)\n",
    "\tgamma = np.exp(theta_tilde[2])\n",
    "\tdelta = theta_tilde[3]\n",
    "\n",
    "    theta = np.array([alpha, beta, gamma, delta])\n",
    "\n",
    "    ss = summary_statistics(theta, n_samples, num_datasets, mixture_obj_seq)\n",
    "    sample_mean = ss[0]\n",
    "    sample_variance = ss[1]\n",
    "    # Nuissance mean and variance\n",
    "    diag_var = np.zeros((num_latent, num_latent))\n",
    "    np.fill_diagonal(diag_var, np.diag(sample_variance))\n",
    "    mean_nuissance_p1 = my_inv(np.identity(num_latent) / sigma_latent + diag_var.T @ my_inv(sample_variance) @ diag_var)\n",
    "    diff_mean = actual_summary_statistics - sample_mean\n",
    "    mean_nuissance_p2 = diag_var @ my_inv(sample_variance) @ diff_mean\n",
    "    mean_nuissance = mean_nuissance_p1 @ mean_nuissance_p2\n",
    "\n",
    "    variance_nuissance = mean_nuissance_p1  #+ (np.eye(mean_nuissance_p1.shape[0]) * 5 * 1e-7)\n",
    "\n",
    "    # GENERATE GAMMA\n",
    "    rng = np.random.default_rng()\n",
    "    Gamma_init = rng.multivariate_normal(mean = mean_nuissance, cov = variance_nuissance)\n",
    "    # Gamma = Gamma[0]\n",
    "    adjusted_theta = np.concatenate((theta, Gamma_init))\n",
    "\n",
    "    # Find gradient of LB\n",
    "    llh = mean_adjustment_unbiased_log_likelihood(adjusted_theta, n_samples, num_datasets, num_coeffs, num_latent, actual_summary_statistics, mixture_obj_seq)\n",
    "    llh_gamma = nuissance_mean_adjustment_unbiased_log_likelihood(Gamma_init, mean_nuissance, variance_nuissance)\n",
    "\n",
    "    # --------------------- \n",
    "\n",
    "    prior_current = prior(theta_tilde, sigma_theta, num_coeffs)  # takes care of the gradients\n",
    "\n",
    "    likelihood_current = llh\n",
    "\n",
    "    naccept = 0\n",
    "\n",
    "    for i in tqdm(range(samples - 1)):\n",
    "        if i < 2000:\n",
    "            theta_proposal_tilde = multivariate_normal.rvs(mean = theta_tilde, cov = ((0.1**2/theta_size) * np.identity(theta_size)))\n",
    "        else:\n",
    "            if i % 500 == 0:\n",
    "                Sign = np.cov(pos_theta_tilde[0:i, :].T)\n",
    "            u_proposal = np.random.uniform(0, 1)\n",
    "            if u_proposal < 0.05:\n",
    "                theta_proposal_tilde = multivariate_normal.rvs(mean = theta_tilde, cov = ((0.1**2/theta_size) * np.identity(theta_size)))\n",
    "            else:\n",
    "                theta_proposal_tilde = multivariate_normal.rvs(mean = theta_tilde, cov = (2.38**2/theta_size) * Sign)\n",
    "\n",
    "        alpha_prop = (2 * np.exp(theta_proposal_tilde[0]) + 1.1) / (1 + np.exp(theta_proposal_tilde[0]))\n",
    "        beta_prop = (np.exp(theta_proposal_tilde[1]) - 1) / (1 + np.exp(theta_proposal_tilde[1]))\n",
    "        gamma_prop = np.exp(theta_proposal_tilde[2])\n",
    "        delta_prop = theta_tilde_q[3]\n",
    "\n",
    "        theta_proposal = np.array([alpha_prop, beta_prop, gamma_prop, delta_prop])\n",
    "\n",
    "        ss = summary_statistics(theta_proposal, num_samples, num_datasets, mixture_obj_seq)\n",
    "        sample_mean = ss[0]\n",
    "        sample_variance = ss[1]\n",
    "        # Find mean and variance for p(gamma | theta, obs)\n",
    "\n",
    "        diag_var = np.zeros((num_latent, num_latent))\n",
    "        np.fill_diagonal(diag_var, np.diag(sample_variance))\n",
    "        mean_nuissance_p1 = my_inv(np.identity(num_latent) / sigma_latent + diag_var.T @ my_inv(sample_variance) @ diag_var)\n",
    "        diff_mean = actual_summary_statistics - sample_mean\n",
    "        mean_nuissance_p2 = diag_var @ my_inv(sample_variance) @ diff_mean\n",
    "        mean_nuissance = mean_nuissance_p1 @ mean_nuissance_p2\n",
    "\n",
    "        variance_nuissance = mean_nuissance_p1  #+ (np.eye(mean_nuissance_p1.shape[0]) * 5 * 1e-7)\n",
    "\n",
    "        # GENERATE GAMMA\n",
    "        rng = np.random.default_rng()\n",
    "        Gamma = rng.multivariate_normal(mean = mean_nuissance, cov = variance_nuissance)\n",
    "        # Gamma = Gamma[0]\n",
    "        adjusted_theta_proposal = np.concatenate((theta_proposal, Gamma))\n",
    "\n",
    "\n",
    "        # Find gradient of LB\n",
    "        llh = mean_adjustment_unbiased_log_likelihood(adjusted_theta_proposal, n_samples, num_datasets, num_coeffs, num_latent, actual_summary_statistics, mixture_obj_seq)\n",
    "        llh_gamma = nuissance_mean_adjustment_unbiased_log_likelihood(Gamma, mean_nuissance, variance_nuissance)       \n",
    "        # --------------------- \n",
    "\n",
    "        prior_proposal = prior(theta_proposal_tilde)  # takes care of the gradients\n",
    "        likelihood_proposal = llh\n",
    "\n",
    "        diff_prior = prior_proposal - prior_current\n",
    "\n",
    "        diff_likelihood = likelihood_proposal - likelihood_current\n",
    "\n",
    "        try:\n",
    "            mh_prob = min(1, math.exp(diff_likelihood+diff_prior))\n",
    "\n",
    "        except OverflowError as e:\n",
    "            mh_prob = 1\n",
    "\n",
    "\n",
    "        u = np.random.uniform(0, 1)\n",
    "\n",
    "        if u < mh_prob:\n",
    "            # Update position \n",
    "            naccept += 1\n",
    "            likelihood_current = likelihood_proposal\n",
    "            prior_current = prior_proposal\n",
    "            theta_tilde = theta_proposal_tilde\n",
    "            theta = theta_proposal\n",
    "            pos_theta_tilde[i + 1,] = theta_proposal_tilde\t\n",
    "            pos_theta[i + 1,] = theta_proposal\n",
    "            print(i, pos_theta[i + 1,])\n",
    "\n",
    "        else:\n",
    "            pos_theta_tilde[i + 1,] = pos_theta_tilde[i,]\n",
    "            pos_theta[i + 1,] = pos_theta[i,]\n",
    "\n",
    "    print(naccept, ' num accepted')\n",
    "    print(naccept / (samples * 1.0) * 100, '% was accepted')\n",
    "    accept_ratio = naccept / (samples * 1.0) * 100\n",
    "\n",
    "    return (pos_theta, pos_theta_tilde, accept_ratio)"
   ]
  },
  {
   "cell_type": "code",
   "execution_count": null,
   "metadata": {},
   "outputs": [],
   "source": [
    "pos_w, pos_w_tilde, accept_ratio = sampler(num_samples)"
   ]
  },
  {
   "cell_type": "code",
   "execution_count": null,
   "metadata": {},
   "outputs": [],
   "source": [
    "pos_w = np.loadtxt('mcmc_w_varobust.txt')\n",
    "pos_w_tilde = np.loadtxt('mcmc_w_tilde_varobust.txt')"
   ]
  },
  {
   "cell_type": "code",
   "execution_count": null,
   "metadata": {},
   "outputs": [],
   "source": [
    "plt.figure()\n",
    "pos_alpha_mean = np.mean(pos_w[int(num_burnin):,0])\n",
    "pos_alpha_std = np.std(pos_w[int(num_burnin):,0])\n",
    "x_plot = np.arange((pos_alpha_mean-4*pos_alpha_std), (pos_alpha_mean+4*pos_alpha_std), 0.001)\n",
    "kde = KernelDensity(bandwidth=0.1, kernel='gaussian')\n",
    "kde.fit(pos_w[int(num_burnin):,0].reshape(-1, 1))\n",
    "y_plot = kde.score_samples(x_plot.reshape(-1, 1))\n",
    "plt.plot(x_plot, np.exp(y_plot), '-', linewidth=2.0)\n",
    "plt.xlabel(r'$\\alpha$')\n",
    "plt.title('Posterior density of alpha')"
   ]
  },
  {
   "cell_type": "code",
   "execution_count": null,
   "metadata": {},
   "outputs": [],
   "source": [
    "plt.figure()\n",
    "pos_alpha_mean = np.mean(pos_w[int(num_burnin):,0])\n",
    "pos_alpha_std = np.std(pos_w[int(num_burnin):,0])\n",
    "#x_plot_mcmc = np.arange((pos_alpha_mean-4*pos_alpha_std), (pos_alpha_mean+4*pos_alpha_std), 0.002)\n",
    "x_plot = np.arange(min(pos_alpha_mean-4*pos_alpha_std,np.mean(best_alpha)-4*np.std(best_alpha)), max(pos_alpha_mean+4*pos_alpha_std, np.mean(best_alpha)+4*np.std(best_alpha)), 0.001)\n",
    "kde_mcmc = KernelDensity(bandwidth=0.075, kernel='gaussian')\n",
    "kde_mcmc.fit(pos_w[int(num_burnin):,0].reshape(-1, 1))\n",
    "y_plot_mcmc = kde_mcmc.score_samples(x_plot.reshape(-1, 1))\n",
    "\n",
    "#x_plot_vb = np.arange((np.mean(best_alpha)-4*np.std(best_alpha)), (np.mean(best_alpha)+4*np.std(best_alpha)), 0.002)\n",
    "kde_vb = KernelDensity(bandwidth=0.155, kernel='gaussian')\n",
    "kde_vb.fit(best_alpha.reshape(-1, 1))\n",
    "y_plot_vb = kde_vb.score_samples(x_plot.reshape(-1, 1))\n",
    "\n",
    "plt.plot(x_plot, np.exp(y_plot_mcmc), '-', linewidth=2.0, label = 'MCMC')\n",
    "plt.plot(x_plot, np.exp(y_plot_vb), '-', linewidth=2.0, label = 'VB')\n",
    "\n",
    "plt.legend()\n",
    "plt.xlabel(r'$\\alpha$')\n",
    "plt.title('Posterior density of alpha')\n"
   ]
  },
  {
   "cell_type": "code",
   "execution_count": null,
   "metadata": {},
   "outputs": [],
   "source": [
    "plt.figure()\n",
    "\n",
    "pos_beta_mean = np.mean(pos_w[int(num_burnin):,1])\n",
    "pos_beta_std = np.std(pos_w[int(num_burnin):,1])\n",
    "x_plot = np.arange((pos_beta_mean-4*pos_beta_std), (pos_beta_mean+4*pos_beta_std), 0.001)\n",
    "kde = KernelDensity(bandwidth=0.1, kernel='gaussian')\n",
    "kde.fit(pos_w[int(num_burnin):,1].reshape(-1, 1))\n",
    "y_plot = kde.score_samples(x_plot.reshape(-1, 1))\n",
    "plt.plot(x_plot, np.exp(y_plot), '-', linewidth=2.0)\n",
    "plt.xlabel(r'$\\beta$')\n",
    "plt.title('Posterior density of beta')"
   ]
  },
  {
   "cell_type": "code",
   "execution_count": null,
   "metadata": {},
   "outputs": [],
   "source": [
    "plt.figure()\n",
    "pos_beta_mean = np.mean(pos_w[int(num_burnin):,1])\n",
    "pos_beta_std = np.std(pos_w[int(num_burnin):,1])\n",
    "#x_plot_mcmc = np.arange((pos_alpha_mean-4*pos_alpha_std), (pos_alpha_mean+4*pos_alpha_std), 0.002)\n",
    "x_plot = np.arange(min(pos_beta_mean-4*pos_beta_std,np.mean(best_beta)-4*np.std(best_beta)), max(pos_beta_mean+4*pos_beta_std, np.mean(best_beta)+4*np.std(best_beta)), 0.001)\n",
    "kde_mcmc = KernelDensity(bandwidth=0.1, kernel='gaussian')\n",
    "kde_mcmc.fit(pos_w[int(num_burnin):,1].reshape(-1, 1))\n",
    "y_plot_mcmc = kde_mcmc.score_samples(x_plot.reshape(-1, 1))\n",
    "\n",
    "#x_plot_vb = np.arange((np.mean(best_alpha)-4*np.std(best_alpha)), (np.mean(best_alpha)+4*np.std(best_alpha)), 0.002)\n",
    "kde_vb = KernelDensity(bandwidth=0.35, kernel='gaussian')\n",
    "kde_vb.fit(best_beta.reshape(-1, 1))\n",
    "y_plot_vb = kde_vb.score_samples(x_plot.reshape(-1, 1))\n",
    "\n",
    "plt.plot(x_plot, np.exp(y_plot_mcmc), '-', linewidth=2.0, label = 'MCMC')\n",
    "plt.plot(x_plot, np.exp(y_plot_vb), '-', linewidth=2.0, label = 'VB')\n",
    "\n",
    "plt.legend()\n",
    "plt.xlabel(r'$\\beta$')\n",
    "plt.title('Posterior density of beta')\n"
   ]
  },
  {
   "cell_type": "code",
   "execution_count": null,
   "metadata": {},
   "outputs": [],
   "source": [
    "plt.figure()\n",
    "\n",
    "pos_gamma_mean = np.mean(pos_w[int(num_burnin):,2])\n",
    "pos_gamma_std = np.std(pos_w[int(num_burnin):,2])\n",
    "x_plot = np.arange((pos_gamma_mean-4*pos_gamma_std), (pos_gamma_mean+4*pos_gamma_std), 0.002)\n",
    "kde = KernelDensity(bandwidth=0.02, kernel='gaussian')\n",
    "kde.fit(pos_w[int(num_burnin):,2].reshape(-1, 1))\n",
    "y_plot = kde.score_samples(x_plot.reshape(-1, 1))\n",
    "plt.plot(x_plot, np.exp(y_plot), '-', linewidth=2.0)\n",
    "plt.xlabel(r'$\\gamma$')\n",
    "plt.title('Posterior density of gamma')"
   ]
  },
  {
   "cell_type": "code",
   "execution_count": null,
   "metadata": {},
   "outputs": [],
   "source": [
    "plt.figure()\n",
    "pos_gamma_mean = np.mean(pos_w[int(num_burnin):,2])\n",
    "pos_gamma_std = np.std(pos_w[int(num_burnin):,2])\n",
    "#x_plot_mcmc = np.arange((pos_alpha_mean-4*pos_alpha_std), (pos_alpha_mean+4*pos_alpha_std), 0.002)\n",
    "x_plot = np.arange(min(pos_gamma_mean-4*pos_gamma_std,np.mean(best_gamma)-4*np.std(best_gamma)), max(pos_gamma_mean+4*pos_gamma_std, np.mean(best_gamma)+4*np.std(best_gamma)), 0.001)\n",
    "kde_mcmc = KernelDensity(bandwidth=0.0375, kernel='gaussian')\n",
    "kde_mcmc.fit(pos_w[int(num_burnin):,2].reshape(-1, 1))\n",
    "y_plot_mcmc = kde_mcmc.score_samples(x_plot.reshape(-1, 1))\n",
    "\n",
    "#x_plot_vb = np.arange((np.mean(best_alpha)-4*np.std(best_alpha)), (np.mean(best_alpha)+4*np.std(best_alpha)), 0.002)\n",
    "kde_vb = KernelDensity(bandwidth=0.025, kernel='gaussian')\n",
    "kde_vb.fit(best_gamma.reshape(-1, 1))\n",
    "y_plot_vb = kde_vb.score_samples(x_plot.reshape(-1, 1))\n",
    "\n",
    "plt.plot(x_plot, np.exp(y_plot_mcmc), '-', linewidth=2.0, label = 'MCMC')\n",
    "plt.plot(x_plot, np.exp(y_plot_vb), '-', linewidth=2.0, label = 'VB')\n",
    "\n",
    "plt.legend()\n",
    "plt.xlabel(r'$\\gamma$')\n",
    "plt.title('Posterior density of gamma')\n"
   ]
  },
  {
   "cell_type": "code",
   "execution_count": null,
   "metadata": {},
   "outputs": [],
   "source": [
    "plt.figure()\n",
    "\n",
    "pos_delta_mean = np.mean(pos_w[int(num_burnin):,3])\n",
    "pos_delta_std = np.std(pos_w[int(num_burnin):,3])\n",
    "x_plot = np.arange((pos_delta_mean-4*pos_delta_std), (pos_delta_mean+4*pos_delta_std), 0.002)\n",
    "kde = KernelDensity(bandwidth=0.2, kernel='gaussian')\n",
    "kde.fit(pos_w[int(num_burnin):,3].reshape(-1, 1))\n",
    "y_plot = kde.score_samples(x_plot.reshape(-1, 1))\n",
    "plt.plot(x_plot, np.exp(y_plot), '-', linewidth=2.0)\n",
    "plt.xlabel(r'$\\delta$')\n",
    "plt.title('Posterior density of delta')"
   ]
  },
  {
   "cell_type": "code",
   "execution_count": null,
   "metadata": {},
   "outputs": [],
   "source": [
    "plt.figure()\n",
    "pos_delta_mean = np.mean(pos_w[int(num_burnin):,3])\n",
    "pos_delta_std = np.std(pos_w[int(num_burnin):,3])\n",
    "#x_plot_mcmc = np.arange((pos_alpha_mean-4*pos_alpha_std), (pos_alpha_mean+4*pos_alpha_std), 0.002)\n",
    "x_plot = np.arange(min(pos_delta_mean-4*pos_delta_std,np.mean(best_delta)-4*np.std(best_delta)), max(pos_delta_mean+4*pos_delta_std, np.mean(best_delta)+4*np.std(best_delta)), 0.001)\n",
    "kde_mcmc = KernelDensity(bandwidth=0.1, kernel='gaussian')\n",
    "kde_mcmc.fit(pos_w[int(num_burnin):,3].reshape(-1, 1))\n",
    "y_plot_mcmc = kde_mcmc.score_samples(x_plot.reshape(-1, 1))\n",
    "\n",
    "#x_plot_vb = np.arange((np.mean(best_alpha)-4*np.std(best_alpha)), (np.mean(best_alpha)+4*np.std(best_alpha)), 0.002)\n",
    "kde_vb = KernelDensity(bandwidth=0.25, kernel='gaussian')\n",
    "kde_vb.fit(best_delta.reshape(-1, 1))\n",
    "y_plot_vb = kde_vb.score_samples(x_plot.reshape(-1, 1))\n",
    "\n",
    "plt.plot(x_plot, np.exp(y_plot_mcmc), '-', linewidth=2.0, label = 'MCMC')\n",
    "plt.plot(x_plot, np.exp(y_plot_vb), '-', linewidth=2.0, label = 'VB')\n",
    "\n",
    "plt.legend()\n",
    "plt.xlabel(r'$\\delta$')\n",
    "plt.title('Posterior density of delta')\n"
   ]
  },
  {
   "cell_type": "code",
   "execution_count": null,
   "metadata": {},
   "outputs": [],
   "source": [
    "alpha_trace = pos_w[int(num_burnin):,0]\n",
    "beta_trace = pos_w[int(num_burnin):,1]\n",
    "gamma_trace = pos_w[int(num_burnin):,2]\n",
    "delta_trace = pos_w[int(num_burnin):,3]\n",
    "\n",
    "x = np.arange(len(alpha_trace))\n",
    "plt.figure(facecolor = 'white')\n",
    "plt.plot(x, alpha_trace, label='Alpha')  \n",
    "plt.plot(x, beta_trace, label='Beta')  \n",
    "plt.plot(x, gamma_trace, label='Gamma')  \n",
    "plt.plot(x, delta_trace, label='Delta')  \n",
    "plt.xlabel('Number of samples')\n",
    "plt.ylabel('Theta')\n",
    "plt.legend()\n",
    "plt.title(\"Trace Plot for Theta\")\n",
    "plt.show()"
   ]
  }
 ],
 "metadata": {
  "kernelspec": {
   "display_name": "Python 3 (ipykernel)",
   "language": "python",
   "name": "python3"
  },
  "language_info": {
   "codemirror_mode": {
    "name": "ipython",
    "version": 3
   },
   "file_extension": ".py",
   "mimetype": "text/x-python",
   "name": "python",
   "nbconvert_exporter": "python",
   "pygments_lexer": "ipython3",
   "version": "3.9.13"
  },
  "vscode": {
   "interpreter": {
    "hash": "d1ea43ab9d17bb559e5232cc1d7d24428339cdd8b586c17a20f76ba563abd60e"
   }
  }
 },
 "nbformat": 4,
 "nbformat_minor": 2
}
