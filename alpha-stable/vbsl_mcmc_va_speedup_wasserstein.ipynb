{
 "cells": [
  {
   "cell_type": "code",
   "execution_count": 33,
   "metadata": {},
   "outputs": [
    {
     "name": "stdout",
     "output_type": "stream",
     "text": [
      "The autoreload extension is already loaded. To reload it, use:\n",
      "  %reload_ext autoreload\n",
      "Incorrect argument. Use on/1, off/0, or nothing for a toggle.\n"
     ]
    }
   ],
   "source": [
    "# magic\n",
    "%load_ext autoreload\n",
    "%autoreload 2 #any changes to the function files will be updated on every run\n",
    "%pdb 1 #where code fails, stops at that breakpoint and allows to examine potential error\n",
    "%matplotlib inline"
   ]
  },
  {
   "cell_type": "code",
   "execution_count": 34,
   "metadata": {},
   "outputs": [],
   "source": [
    "import os\n",
    "import matplotlib.pyplot as plt\n",
    "import numpy as np\n",
    "import random\n",
    "import time\n",
    "import math\n",
    "#import numdifftools as nd\n",
    "import pandas as pd\n",
    "#import pymc3 as pm\n",
    "\n",
    "from tqdm import tqdm\n",
    "from sklearn import preprocessing\n",
    "from numpy.linalg import multi_dot\n",
    "import scipy\n",
    "from scipy import stats\n",
    "from scipy.stats import invgamma\n",
    "from scipy.special import gamma\n",
    "from scipy.special import digamma\n",
    "from scipy.stats import multivariate_normal\n",
    "from scipy.stats import norm\n",
    "from scipy.stats import levy_stable\n",
    "from scipy.stats import gaussian_kde\n",
    "from sklearn.neighbors import KernelDensity\n",
    "from sklearn.model_selection import GridSearchCV\n",
    "from sklearn.model_selection import LeaveOneOut\n",
    "import sklearn.mixture"
   ]
  },
  {
   "cell_type": "code",
   "execution_count": 35,
   "metadata": {},
   "outputs": [],
   "source": [
    "from numba import vectorize, float64, guvectorize, jit"
   ]
  },
  {
   "cell_type": "code",
   "execution_count": 36,
   "metadata": {},
   "outputs": [],
   "source": [
    "np.random.seed(6898)"
   ]
  },
  {
   "cell_type": "code",
   "execution_count": 203,
   "metadata": {},
   "outputs": [],
   "source": [
    "from functions_robust_wasserstein.f_var_adjust_ss_wasserstein import (alpha_stable, alpha_stable_ss, wasserstein_transform, summary_statistics, variance_adjustment_summary_statistics)"
   ]
  },
  {
   "cell_type": "markdown",
   "metadata": {},
   "source": [
    "## LOAD DATASET"
   ]
  },
  {
   "cell_type": "code",
   "execution_count": null,
   "metadata": {},
   "outputs": [],
   "source": [
    "actual_data = alpha_stable(1.5, 0.5, 1, 0, 200, 1)\n",
    "actual_data"
   ]
  },
  {
   "cell_type": "code",
   "execution_count": null,
   "metadata": {},
   "outputs": [],
   "source": [
    "actual_summary_statistics = alpha_stable_ss(actual_data)\n",
    "actual_summary_statistics"
   ]
  },
  {
   "cell_type": "code",
   "execution_count": 158,
   "metadata": {},
   "outputs": [],
   "source": [
    "# Using previously simulated data for consistency\n",
    "actual_summary_statistics = np.array([ 1.36495524,  0.27388675,  0.78684313, -0.08169088])"
   ]
  },
  {
   "cell_type": "code",
   "execution_count": 39,
   "metadata": {},
   "outputs": [],
   "source": [
    "num_coeffs = np.shape(actual_summary_statistics)[0]\n",
    "num_latent = np.shape(actual_summary_statistics)[0]\n",
    "num_datasets = 200\n",
    "n_samples = 200\n",
    "gamma_samples = 20"
   ]
  },
  {
   "cell_type": "code",
   "execution_count": 142,
   "metadata": {},
   "outputs": [],
   "source": [
    "from multiprocessing import Pool\n",
    "from functools import partial\n",
    "pool = Pool(8)"
   ]
  },
  {
   "cell_type": "markdown",
   "metadata": {},
   "source": [
    "## Training Wasserstein Gaussianing"
   ]
  },
  {
   "cell_type": "code",
   "execution_count": 41,
   "metadata": {},
   "outputs": [],
   "source": [
    "wass_num_datasets = 6000\n",
    "wass_n_samples = 30\n",
    "maxG = 4"
   ]
  },
  {
   "cell_type": "code",
   "execution_count": 42,
   "metadata": {},
   "outputs": [],
   "source": [
    "# Generating data to train the transform\n",
    "wass_datasets = alpha_stable(1.5, 0.5, 1, 0, wass_n_samples, wass_num_datasets)\n",
    "wass_n_summary_statistics = np.array([alpha_stable_ss(wass_datasets[i,:]) for i in range(wass_num_datasets)])"
   ]
  },
  {
   "cell_type": "code",
   "execution_count": 43,
   "metadata": {},
   "outputs": [],
   "source": [
    "# Divide the synthetic data to train, test, val\n",
    "wass_train_summary_statistics = wass_n_summary_statistics[:int(wass_num_datasets/3),:]\n",
    "wass_val_summary_statistics = wass_n_summary_statistics[int(wass_num_datasets/3):int(wass_num_datasets * 2/3),:]\n",
    "wass_test_summary_statistics = wass_n_summary_statistics[int(wass_num_datasets * 2/3):wass_num_datasets,:]\n",
    "\n",
    "original_train_summary_statistics = wass_train_summary_statistics\n",
    "original_test_summary_statistics = wass_test_summary_statistics"
   ]
  },
  {
   "cell_type": "code",
   "execution_count": 44,
   "metadata": {},
   "outputs": [],
   "source": [
    "def mixture_model_fit(data, maxG):\n",
    "    bic_values = []\n",
    "    for g in np.arange(1, maxG+1):\n",
    "        mixture_obj = sklearn.mixture.GaussianMixture(n_components = g, reg_covar = 1e-10).fit(data)\n",
    "        bic_values.append(mixture_obj.bic(data))\n",
    "    bestG = np.argmin(bic_values) + 1\n",
    "    best_mixture_obj = sklearn.mixture.GaussianMixture(n_components = bestG, reg_covar = 1e-10).fit(data)\n",
    "    return best_mixture_obj, bestG"
   ]
  },
  {
   "cell_type": "code",
   "execution_count": 45,
   "metadata": {},
   "outputs": [],
   "source": [
    "def grad_log_density_mixture(data, mixture_obj):\n",
    "    mean_mixture_obj = mixture_obj.means_\n",
    "    sigma_mixture_obj = mixture_obj.covariances_\n",
    "    weights_mixture_obj = mixture_obj.weights_\n",
    "    bestG = len(weights_mixture_obj)\n",
    "\n",
    "    loglh_all_mixture = []\n",
    "    grad_loglh_all_mixture = []\n",
    "    for k in range(bestG):\n",
    "        mean_kth_mixture = mean_mixture_obj[k,:] #1 x g\n",
    "        sigma_kth_mixture = sigma_mixture_obj[k,:] # g x g\n",
    "        weight_kth_mixture = weights_mixture_obj[k] \n",
    "        diff_mean_kth_mixture = data - mean_kth_mixture #99 x g aux\n",
    "        loglh_all_mixture.append(np.log(weight_kth_mixture) - num_coeffs/2 * np.log(2 * np.pi)-1/2 * np.log(np.linalg.det(sigma_kth_mixture)) - 1/2 * np.diag(diff_mean_kth_mixture @ np.linalg.inv(sigma_kth_mixture) @ diff_mean_kth_mixture.T)) # 99x99 -> diag:1x99->gx99 lw\n",
    "        grad_loglh_all_mixture.append(-diff_mean_kth_mixture @ np.linalg.inv(sigma_kth_mixture)) #M =99 x dim of ss =4\n",
    "\n",
    "    max_llh_all_data = np.max(loglh_all_mixture, axis = 0) # 99 x 1\n",
    "    aux_llh_all_data = loglh_all_mixture - max_llh_all_data #g x 99\n",
    "    w_all_data = np.exp(aux_llh_all_data) / np.sum(np.exp(aux_llh_all_data), axis = 0) #g x 99\n",
    "    log_f = np.log(np.sum(np.exp(aux_llh_all_data), axis = 0)) + max_llh_all_data #99 x 1\n",
    "\n",
    "    grad_log_f = 0\n",
    "    for k in range(bestG):    \n",
    "        grad_log_f = grad_log_f + np.tile(np.reshape(w_all_data[k,:], (len(data),1)),(1,num_coeffs)) * grad_loglh_all_mixture[k] #data x num_coeff\n",
    "    return log_f, grad_log_f"
   ]
  },
  {
   "cell_type": "code",
   "execution_count": 46,
   "metadata": {},
   "outputs": [],
   "source": [
    "# At current particles, fit mixture normal\n",
    "mixture_obj, bestG = mixture_model_fit(wass_train_summary_statistics, maxG)"
   ]
  },
  {
   "cell_type": "code",
   "execution_count": 47,
   "metadata": {},
   "outputs": [],
   "source": [
    "# Start training\n",
    "\n",
    "# Hyperparams\n",
    "patience_max = 50\n",
    "patience = 0 \n",
    "stop = 5000\n",
    "eps = 0.01\n",
    "t_w = 20\n",
    "\n",
    "# Initialize empty chain\n",
    "mixture_obj_seq = [0] * stop\n",
    "bestG_seq = [0] * stop\n",
    "mixture_obj_seq[0] = mixture_obj\n",
    "bestG_seq[0] = bestG\n",
    "lb = []\n",
    "LB_Smoothed = []"
   ]
  },
  {
   "cell_type": "code",
   "execution_count": 48,
   "metadata": {},
   "outputs": [
    {
     "name": "stdout",
     "output_type": "stream",
     "text": [
      "LB -3.184238039516069\n",
      "LB -4786.345859907758\n",
      "LB -4967.028207092605\n",
      "LB -4866.386958686763\n",
      "LB -4769.314653556327\n",
      "LB -4674.211907256464\n",
      "LB -4581.002712073804\n",
      "LB -4489.662985466228\n",
      "LB -4400.153184012239\n",
      "LB -4312.439964958365\n",
      "LB -4226.455735913773\n",
      "LB -4142.218236848923\n",
      "LB -4059.586870039806\n",
      "LB -3978.7197252515707\n",
      "LB -3899.404149462024\n",
      "LB -3821.669935432842\n",
      "LB -3745.4851816936102\n",
      "LB -3670.82287092283\n",
      "LB -3597.640925404166\n",
      "LB -3525.925186456698\n",
      "LB Smoothed -4237.603960549305\n",
      "LB Smoothed -4167.5665871441915\n",
      "LB Smoothed -4084.3938246856605\n",
      "LB Smoothed -4002.9615511998186\n",
      "LB Smoothed -3923.1583471293807\n",
      "LB Smoothed -3844.9469993206394\n",
      "LB Smoothed -3768.2958942614987\n",
      "LB Smoothed -3693.1704054334077\n",
      "LB Smoothed -3619.5451541697917\n",
      "LB Smoothed -3547.3838658153836\n",
      "LB Smoothed -3476.6640605804523\n",
      "LB Smoothed -3407.3522775545634\n",
      "LB Smoothed -3339.4213468108705\n",
      "LB Smoothed -3272.8433293512157\n",
      "LB Smoothed -3207.588472685448\n",
      "LB Smoothed -3143.6362274358867\n",
      "LB Smoothed -3080.957637948577\n",
      "LB Smoothed -3019.5269673960997\n",
      "LB Smoothed -2959.319821529058\n",
      "LB Smoothed -2900.3111268693815\n",
      "LB Smoothed -2842.4773355223797\n",
      "LB Smoothed -2785.794991692115\n",
      "LB Smoothed -2730.243856002929\n",
      "LB Smoothed -2675.7958850223013\n",
      "LB Smoothed -2622.431934407224\n",
      "LB Smoothed -2570.130174669105\n",
      "LB Smoothed -2518.87234128529\n",
      "LB Smoothed -2468.6322489896734\n",
      "LB Smoothed -2419.3951827383307\n",
      "LB Smoothed -2371.1354142424457\n",
      "LB Smoothed -2323.836335312743\n",
      "LB Smoothed -2277.4817460228187\n",
      "LB Smoothed -2232.04699141567\n",
      "LB Smoothed -2187.5196302534055\n",
      "LB Smoothed -2143.8756772809734\n",
      "LB Smoothed -2101.1004526542742\n",
      "LB Smoothed -2059.1767380918823\n",
      "LB Smoothed -2018.0874657238792\n",
      "LB Smoothed -1977.8162178007012\n",
      "LB Smoothed -1938.3464816277276\n",
      "LB Smoothed -1899.660102950981\n",
      "LB Smoothed -1861.7461070083311\n",
      "LB Smoothed -1824.5867579686317\n",
      "LB Smoothed -1788.1670508457894\n",
      "LB Smoothed -1752.4711402163575\n",
      "LB Smoothed -1717.4871651489566\n",
      "LB Smoothed -1683.199412330768\n",
      "LB Smoothed -1649.5941221651985\n",
      "LB Smoothed -1616.6576955820292\n",
      "LB Smoothed -1584.335488134875\n",
      "LB Smoothed -1552.6979131465998\n",
      "LB Smoothed -1521.6900893974987\n",
      "LB Smoothed -1491.2981473516452\n",
      "LB Smoothed -1461.5123606540078\n",
      "LB Smoothed -1432.3195414903232\n",
      "LB Smoothed -1403.707786836935\n",
      "LB Smoothed -1375.6655169839871\n",
      "LB Smoothed -1348.181446326429\n",
      "LB Smoothed -1321.2444304579076\n",
      "LB Smoothed -1294.8457960619642\n",
      "LB Smoothed -1268.970398887067\n",
      "LB Smoothed -1243.6100376739287\n",
      "LB Smoothed -1218.7544836114043\n",
      "LB Smoothed -1194.3949430349458\n",
      "LB Smoothed -1170.5189305191032\n",
      "LB Smoothed -1147.1181948458052\n",
      "LB Smoothed -1124.1832402432753\n",
      "LB Smoothed -1101.7048090198975\n",
      "LB Smoothed -1079.714646826474\n",
      "LB Smoothed -1058.1213752173785\n",
      "LB Smoothed -1036.9578929366164\n",
      "LB Smoothed -1016.2169944482955\n",
      "LB Smoothed -995.8877359016622\n",
      "LB Smoothed -975.9630482388395\n",
      "LB Smoothed -956.435943357766\n",
      "LB Smoothed -937.2965525965279\n",
      "LB Smoothed -918.5381265944272\n",
      "LB Smoothed -900.1532004146902\n",
      "LB Smoothed -882.1342590666441\n",
      "LB Smoothed -864.473991094825\n",
      "LB Smoothed -847.1652741733323\n",
      "LB Smoothed -830.2010855951868\n",
      "LB Smoothed -813.5845855444608\n",
      "LB Smoothed -797.2888020885206\n",
      "LB Smoothed -781.3174834519082\n",
      "LB Smoothed -765.664093398193\n",
      "LB Smoothed -750.3235784211756\n",
      "LB Smoothed -735.2848401436457\n",
      "LB Smoothed -720.5580864352826\n",
      "LB Smoothed -706.1142744414777\n",
      "LB Smoothed -691.9580036301775\n",
      "LB Smoothed -678.0819721184608\n",
      "LB Smoothed -664.4837847289662\n",
      "LB Smoothed -651.155346848943\n",
      "LB Smoothed -638.0932316507559\n",
      "LB Smoothed -625.2883494839068\n",
      "LB Smoothed -612.7410552767857\n",
      "LB Smoothed -600.4436848628081\n",
      "LB Smoothed -588.3911111042303\n",
      "LB Smoothed -576.5755323346096\n",
      "LB Smoothed -564.9981216522601\n",
      "LB Smoothed -553.6412053956462\n",
      "LB Smoothed -542.5204632284364\n",
      "LB Smoothed -531.6210286714595\n",
      "LB Smoothed -520.9386003529736\n",
      "LB Smoothed -510.46758380891697\n",
      "LB Smoothed -500.2092087532257\n",
      "LB Smoothed -490.1445127815732\n",
      "LB Smoothed -480.2878695143557\n",
      "LB Smoothed -470.6274653472059\n",
      "LB Smoothed -461.1611128731367\n",
      "LB Smoothed -451.881652829755\n",
      "LB Smoothed -442.796534057919\n",
      "LB Smoothed -433.8921343917335\n",
      "LB Smoothed -425.15862357586593\n",
      "LB Smoothed -416.60658977512446\n",
      "LB Smoothed -408.2246557871024\n",
      "LB Smoothed -399.999238816777\n",
      "LB Smoothed -391.94085417844144\n",
      "LB Smoothed -384.0490966280675\n",
      "LB Smoothed -376.30541646406806\n",
      "LB Smoothed -368.7129006114272\n",
      "LB Smoothed -361.2835139298627\n",
      "LB Smoothed -354.0030898895329\n",
      "LB Smoothed -346.8574207226531\n",
      "LB Smoothed -339.8642911473165\n",
      "LB Smoothed -332.9977073008287\n",
      "LB Smoothed -326.27077618681733\n",
      "LB Smoothed -319.686736324428\n",
      "LB Smoothed -313.2346441180362\n",
      "LB Smoothed -306.9010350774818\n",
      "LB Smoothed -300.6839513595827\n",
      "LB Smoothed -294.59994932759287\n",
      "LB Smoothed -288.6473227842185\n",
      "LB Smoothed -282.792901752212\n",
      "LB Smoothed -277.05512874586367\n",
      "LB Smoothed -271.44239635575946\n",
      "LB Smoothed -265.9407414458173\n",
      "LB Smoothed -260.5401633272478\n",
      "LB Smoothed -255.26492814950305\n",
      "LB Smoothed -250.0987573989575\n",
      "LB Smoothed -245.01083414997106\n",
      "LB Smoothed -240.03487855087937\n",
      "LB Smoothed -235.1590701430681\n",
      "LB Smoothed -230.38045779415756\n",
      "LB Smoothed -225.69472045062264\n",
      "LB Smoothed -221.11446075126128\n",
      "LB Smoothed -216.60624467655066\n",
      "LB Smoothed -212.19611865221307\n",
      "LB Smoothed -207.8745900888032\n",
      "LB Smoothed -203.63719348206646\n",
      "LB Smoothed -199.48749320391934\n",
      "LB Smoothed -195.4183560147517\n",
      "LB Smoothed -191.44141441564435\n",
      "LB Smoothed -187.5437307714821\n",
      "LB Smoothed -183.72218905009805\n",
      "LB Smoothed -179.96514951681846\n",
      "LB Smoothed -176.28553951622274\n",
      "LB Smoothed -172.64624360699887\n",
      "LB Smoothed -169.07835841424162\n",
      "LB Smoothed -165.61834552972343\n",
      "LB Smoothed -162.2258242104374\n",
      "LB Smoothed -158.90903587466042\n",
      "LB Smoothed -155.6491216302257\n",
      "LB Smoothed -152.4666837524581\n",
      "LB Smoothed -149.33517764746702\n",
      "LB Smoothed -146.2753039872557\n",
      "LB Smoothed -143.255268927065\n",
      "LB Smoothed -140.31766974324321\n",
      "LB Smoothed -137.43049186933746\n",
      "LB Smoothed -134.58542260871775\n",
      "LB Smoothed -131.811439112919\n",
      "LB Smoothed -129.09078806155435\n",
      "LB Smoothed -126.42531655867231\n",
      "LB Smoothed -123.8037731885556\n",
      "LB Smoothed -121.2435109191523\n",
      "LB Smoothed -118.73122979637562\n",
      "LB Smoothed -116.2740336441809\n",
      "LB Smoothed -113.89842075072958\n",
      "LB Smoothed -111.54621552560188\n",
      "LB Smoothed -109.22976227888834\n",
      "LB Smoothed -106.96157549014355\n",
      "LB Smoothed -104.73752052730407\n",
      "LB Smoothed -102.54730244289578\n",
      "LB Smoothed -100.41136231717357\n",
      "LB Smoothed -98.31809033947063\n",
      "LB Smoothed -96.26907091518171\n",
      "LB Smoothed -94.25839707687943\n",
      "LB Smoothed -92.29801866748825\n",
      "LB Smoothed -90.37982314417343\n",
      "LB Smoothed -88.47230092403183\n",
      "LB Smoothed -86.61704583958756\n",
      "LB Smoothed -84.7989014731467\n",
      "LB Smoothed -83.02738210097074\n",
      "LB Smoothed -81.29432674093582\n",
      "LB Smoothed -79.58106118043065\n",
      "LB Smoothed -77.92129332576614\n",
      "LB Smoothed -76.2760515423552\n",
      "LB Smoothed -74.66449561109137\n",
      "LB Smoothed -73.06466819641541\n",
      "LB Smoothed -71.5171839487238\n",
      "LB Smoothed -70.00061018406939\n",
      "LB Smoothed -68.52406876742202\n",
      "LB Smoothed -67.06725973390775\n",
      "LB Smoothed -65.64053135733049\n",
      "LB Smoothed -64.22880223715504\n",
      "LB Smoothed -62.85772262580562\n",
      "LB Smoothed -61.51396671081784\n",
      "LB Smoothed -60.18610553179487\n",
      "LB Smoothed -58.90931643663862\n",
      "LB Smoothed -57.62252612703889\n",
      "LB Smoothed -56.3834074303463\n",
      "LB Smoothed -55.16905369942931\n",
      "LB Smoothed -53.97890604456998\n",
      "LB Smoothed -52.82723728694325\n",
      "LB Smoothed -51.675789607743816\n",
      "LB Smoothed -50.55594231576548\n",
      "LB Smoothed -49.43619004139186\n",
      "LB Smoothed -48.38201804789848\n",
      "LB Smoothed -47.305460752294756\n",
      "LB Smoothed -46.27249611794103\n",
      "LB Smoothed -45.26095435424606\n",
      "LB Smoothed -44.25704408652115\n",
      "LB Smoothed -43.28504369688978\n",
      "LB Smoothed -42.28744056346844\n",
      "LB Smoothed -41.33135058619672\n",
      "LB Smoothed -40.39445582488807\n",
      "LB Smoothed -39.51032438024992\n",
      "LB Smoothed -38.62201927561266\n",
      "LB Smoothed -37.77360197862643\n",
      "LB Smoothed -36.931262551921066\n",
      "LB Smoothed -36.10578871329252\n",
      "LB Smoothed -35.296798415008766\n",
      "LB Smoothed -34.4811981708778\n",
      "LB Smoothed -33.71553195460504\n",
      "LB Smoothed -32.94246653116374\n",
      "LB Smoothed -32.21873730403979\n",
      "LB Smoothed -31.475288459139097\n",
      "LB Smoothed -30.78129272873471\n",
      "LB Smoothed -30.079056890663544\n",
      "LB Smoothed -29.33176794276605\n",
      "LB Smoothed -28.670384013777678\n",
      "LB Smoothed -28.010376695730404\n",
      "LB Smoothed -27.419401344103473\n",
      "LB Smoothed -26.808110909684018\n",
      "LB Smoothed -26.20901350992617\n",
      "LB Smoothed -25.598909152943424\n",
      "LB Smoothed -25.000671503861245\n",
      "LB Smoothed -24.41445127052866\n",
      "LB Smoothed -23.826775544662933\n",
      "LB Smoothed -23.26411660452016\n",
      "LB Smoothed -22.712802981565385\n",
      "LB Smoothed -22.19540413776084\n",
      "LB Smoothed -21.665725393743227\n",
      "LB Smoothed -21.145829001003566\n",
      "LB Smoothed -20.588901446963348\n",
      "LB Smoothed -20.10357018591319\n",
      "LB Smoothed -19.60368237302688\n",
      "LB Smoothed -19.077059697435097\n",
      "LB Smoothed -18.66883195245966\n",
      "LB Smoothed -18.196673125092275\n",
      "LB Smoothed -17.746946474348157\n",
      "LB Smoothed -17.31886140775164\n",
      "LB Smoothed -16.875185209783435\n",
      "LB Smoothed -16.440461022702458\n",
      "LB Smoothed -16.012313531632834\n",
      "LB Smoothed -15.606887849128642\n",
      "LB Smoothed -15.20963035848418\n",
      "LB Smoothed -14.79246517662494\n",
      "LB Smoothed -14.399486457719487\n",
      "LB Smoothed -14.014347323516938\n",
      "LB Smoothed -13.636666372151673\n",
      "LB Smoothed -13.248156985070823\n",
      "LB Smoothed -12.875602789284219\n",
      "LB Smoothed -12.545460507340236\n",
      "LB Smoothed -12.19660236130222\n",
      "LB Smoothed -11.841451755790997\n",
      "LB Smoothed -11.559013795031419\n",
      "LB Smoothed -11.207566105439366\n",
      "LB Smoothed -10.874753265578343\n",
      "LB Smoothed -10.535378097173203\n",
      "LB Smoothed -10.240711655374998\n",
      "LB Smoothed -9.928153702390347\n",
      "LB Smoothed -9.61822477924494\n",
      "LB Smoothed -9.314615828301967\n",
      "LB Smoothed -9.02127034301409\n",
      "LB Smoothed -8.758246138233954\n",
      "LB Smoothed -8.499576435425675\n",
      "LB Smoothed -8.246987585433974\n",
      "LB Smoothed -7.972377665041469\n",
      "LB Smoothed -7.730602864531175\n",
      "LB Smoothed -7.524019713823842\n",
      "LB Smoothed -7.288659053620002\n",
      "LB Smoothed -7.061489679435959\n",
      "LB Smoothed -6.832122238342219\n",
      "LB Smoothed -6.615966974782029\n",
      "LB Smoothed -6.398738134822383\n",
      "LB Smoothed -6.186938830975217\n",
      "LB Smoothed -6.006991554917386\n",
      "LB Smoothed -5.830325938557024\n",
      "LB Smoothed -5.619061159939128\n",
      "LB Smoothed -5.447922875302094\n",
      "LB Smoothed -5.284089509590012\n",
      "LB Smoothed -5.104394954885023\n",
      "LB Smoothed -4.921855948074233\n",
      "LB Smoothed -4.740319031418193\n",
      "LB Smoothed -4.571483677003354\n",
      "LB Smoothed -4.39660435168094\n",
      "LB Smoothed -4.252483379151071\n",
      "LB Smoothed -4.08428135548359\n",
      "LB Smoothed -3.901253538730853\n",
      "LB Smoothed -3.7478121768153074\n",
      "LB Smoothed -3.6135449961337467\n",
      "LB Smoothed -3.4660058806951057\n",
      "LB Smoothed -3.338549443348289\n",
      "LB Smoothed -3.190509404582994\n",
      "LB Smoothed -3.0515678623534237\n",
      "LB Smoothed -2.9067171498512905\n",
      "LB Smoothed -2.748255456902617\n",
      "LB Smoothed -2.6106837246526573\n",
      "LB Smoothed -2.4758331541884577\n",
      "LB Smoothed -2.343603914730049\n",
      "LB Smoothed -2.2354752740068107\n",
      "LB Smoothed -2.1311047327267367\n",
      "LB Smoothed -2.006178706121468\n",
      "LB Smoothed -1.9057560582493447\n",
      "LB Smoothed -1.7708248871178582\n",
      "LB Smoothed -1.6549577410138585\n",
      "LB Smoothed -1.5419553029070316\n",
      "LB Smoothed -1.4493256170684545\n",
      "LB Smoothed -1.358812717391171\n",
      "LB Smoothed -1.2506711654795843\n",
      "LB Smoothed -1.1302379747882811\n",
      "LB Smoothed -1.025981539345979\n",
      "LB Smoothed -0.9248575526771802\n",
      "LB Smoothed -0.8446223367797929\n",
      "LB Smoothed -0.7490836100719921\n",
      "LB Smoothed -0.6728626263142236\n",
      "LB Smoothed -0.5802676301713672\n",
      "LB Smoothed -0.48890497565333496\n",
      "LB Smoothed -0.39945185935621125\n",
      "LB Smoothed -0.31170412168402456\n",
      "LB Smoothed -0.2254866911279158\n",
      "LB Smoothed -0.14127013454046677\n",
      "LB Smoothed -0.058533972225962044\n",
      "LB Smoothed 0.006452553505926632\n",
      "LB Smoothed 0.08649495871648726\n",
      "LB Smoothed 0.16524739029125857\n",
      "LB Smoothed 0.24546193764390123\n",
      "LB Smoothed 0.32390539103724114\n",
      "LB Smoothed 0.3976101900059745\n",
      "LB Smoothed 0.4547801401512135\n",
      "LB Smoothed 0.5250820349634221\n",
      "LB Smoothed 0.5978489698366731\n",
      "LB Smoothed 0.6688616287752877\n",
      "LB Smoothed 0.7387072749431185\n",
      "LB Smoothed 0.8069644087558041\n",
      "LB Smoothed 0.8704180153314631\n",
      "LB Smoothed 0.9191880744172825\n",
      "LB Smoothed 0.9824631319547519\n",
      "LB Smoothed 1.0444476047714932\n",
      "LB Smoothed 1.1032469613089984\n",
      "LB Smoothed 1.1471046107830638\n",
      "LB Smoothed 1.2019086754841486\n",
      "LB Smoothed 1.2596766885917567\n",
      "LB Smoothed 1.3130352746233875\n",
      "LB Smoothed 1.3653181053774408\n",
      "LB Smoothed 1.4168501855586224\n",
      "LB Smoothed 1.4632590658321616\n",
      "LB Smoothed 1.5159530112443704\n",
      "LB Smoothed 1.5636757760092983\n",
      "LB Smoothed 1.6103715052861645\n",
      "LB Smoothed 1.652918476737669\n",
      "LB Smoothed 1.694809532423827\n",
      "LB Smoothed 1.7390722829702652\n",
      "LB Smoothed 1.7762798719828645\n",
      "LB Smoothed 1.8190084997297715\n",
      "LB Smoothed 1.871817475689411\n",
      "LB Smoothed 1.895858920922133\n",
      "LB Smoothed 1.9331975698620552\n",
      "LB Smoothed 1.9710838627603156\n",
      "LB Smoothed 2.02139610441391\n",
      "LB Smoothed 2.0595115754649105\n",
      "LB Smoothed 2.0909550401801638\n",
      "LB Smoothed 2.1263354651746713\n",
      "LB Smoothed 2.1595089069591773\n",
      "LB Smoothed 2.187712897145289\n",
      "LB Smoothed 2.20930018733009\n",
      "LB Smoothed 2.2263338642235917\n",
      "LB Smoothed 2.2637199886020087\n",
      "LB Smoothed 2.296934220472861\n",
      "LB Smoothed 2.32756416802903\n",
      "LB Smoothed 2.359395367759183\n",
      "LB Smoothed 2.387279228537403\n",
      "LB Smoothed 2.413671416169328\n",
      "LB Smoothed 2.438109307665792\n",
      "LB Smoothed 2.4635117540017486\n",
      "LB Smoothed 2.5003856105982307\n",
      "LB Smoothed 2.5224486804346724\n",
      "LB Smoothed 2.55001786097914\n",
      "LB Smoothed 2.5639422463987276\n",
      "LB Smoothed 2.5851880272129235\n",
      "LB Smoothed 2.6137222950142878\n",
      "LB Smoothed 2.6336300305819362\n",
      "LB Smoothed 2.6588921436274933\n",
      "LB Smoothed 2.6840677126397066\n",
      "LB Smoothed 2.714259369430639\n",
      "LB Smoothed 2.743352009520557\n",
      "LB Smoothed 2.7552155895361325\n",
      "LB Smoothed 2.770007659387358\n",
      "LB Smoothed 2.7860399786587253\n",
      "LB Smoothed 2.8039814582004454\n",
      "LB Smoothed 2.8170789373263725\n",
      "LB Smoothed 2.8366838347421566\n",
      "LB Smoothed 2.849242195558425\n",
      "LB Smoothed 2.860495814870073\n",
      "LB Smoothed 2.881894620122559\n",
      "LB Smoothed 2.8916570245536444\n",
      "LB Smoothed 2.9075168911627842\n",
      "LB Smoothed 2.935711019129434\n",
      "LB Smoothed 2.9490648181109806\n",
      "LB Smoothed 2.9556001418362916\n",
      "LB Smoothed 2.9682799372267485\n",
      "LB Smoothed 2.9823750236002167\n",
      "LB Smoothed 2.989877153258971\n",
      "LB Smoothed 3.0014856787384807\n",
      "LB Smoothed 3.013244715955035\n",
      "LB Smoothed 3.0247451591534626\n",
      "LB Smoothed 3.0383444143061085\n",
      "LB Smoothed 3.0675343037014327\n",
      "LB Smoothed 3.0734429262175187\n",
      "LB Smoothed 3.0869681360561194\n",
      "LB Smoothed 3.096871605157934\n",
      "LB Smoothed 3.129105016664035\n",
      "LB Smoothed 3.148037008105645\n",
      "LB Smoothed 3.152195871151354\n",
      "LB Smoothed 3.1717796435362184\n",
      "LB Smoothed 3.1756241428056793\n",
      "LB Smoothed 3.1782703175018967\n",
      "LB Smoothed 3.1922422489967186\n",
      "LB Smoothed 3.2022066373746854\n",
      "LB Smoothed 3.2167540696652783\n",
      "LB Smoothed 3.2202005478885374\n",
      "LB Smoothed 3.2355731122053264\n",
      "LB Smoothed 3.2503444865880495\n",
      "LB Smoothed 3.259477075103034\n",
      "LB Smoothed 3.2731800792840233\n",
      "LB Smoothed 3.279339049857977\n",
      "LB Smoothed 3.267768138280067\n",
      "LB Smoothed 3.282370523869839\n",
      "LB Smoothed 3.2923200656214475\n",
      "LB Smoothed 3.3011629474442428\n",
      "LB Smoothed 3.2967039850945974\n",
      "LB Smoothed 3.3072818869967975\n",
      "LB Smoothed 3.315787229772242\n",
      "LB Smoothed 3.3198347127048664\n",
      "LB Smoothed 3.3341672776216047\n",
      "LB Smoothed 3.3504399061816774\n",
      "LB Smoothed 3.3613070282510438\n",
      "LB Smoothed 3.3687523066985654\n",
      "LB Smoothed 3.378619751336854\n",
      "LB Smoothed 3.3931502403781053\n",
      "LB Smoothed 3.3929723816510347\n",
      "LB Smoothed 3.400426125861661\n",
      "LB Smoothed 3.405749569055472\n",
      "LB Smoothed 3.4070887942046832\n",
      "LB Smoothed 3.4126031743173257\n",
      "LB Smoothed 3.4279183029637266\n",
      "LB Smoothed 3.434794574323605\n",
      "LB Smoothed 3.4331921700268753\n",
      "LB Smoothed 3.4433190118149004\n",
      "LB Smoothed 3.4495456036027075\n",
      "LB Smoothed 3.455844187987998\n",
      "LB Smoothed 3.4663391006313042\n",
      "LB Smoothed 3.4774114712553827\n",
      "LB Smoothed 3.4811669918282058\n",
      "LB Smoothed 3.477487532768684\n",
      "LB Smoothed 3.480524704743308\n",
      "LB Smoothed 3.490248839987267\n",
      "LB Smoothed 3.494784545641882\n",
      "LB Smoothed 3.496912427499876\n",
      "LB Smoothed 3.50759198222596\n",
      "LB Smoothed 3.5129502118554354\n",
      "LB Smoothed 3.5245977997082374\n",
      "LB Smoothed 3.535131829911015\n",
      "LB Smoothed 3.5445458553688143\n",
      "LB Smoothed 3.547611800413459\n",
      "LB Smoothed 3.5480009462885316\n",
      "LB Smoothed 3.5596853427856927\n",
      "LB Smoothed 3.565116840477707\n",
      "LB Smoothed 3.5664566219557545\n",
      "LB Smoothed 3.566943055173611\n",
      "LB Smoothed 3.57011080232346\n",
      "LB Smoothed 3.5711985726050175\n",
      "LB Smoothed 3.5772720449908744\n",
      "LB Smoothed 3.5893382792309745\n",
      "LB Smoothed 3.5925045111647895\n",
      "LB Smoothed 3.595299219825474\n",
      "LB Smoothed 3.596221801427895\n",
      "LB Smoothed 3.5995699138994626\n",
      "LB Smoothed 3.6036910200392147\n",
      "LB Smoothed 3.6066615417625854\n",
      "LB Smoothed 3.607524395189051\n",
      "LB Smoothed 3.6068847326287776\n",
      "LB Smoothed 3.6116441427907935\n",
      "LB Smoothed 3.6146690370033254\n",
      "LB Smoothed 3.6193820398807133\n",
      "LB Smoothed 3.620013091248375\n",
      "LB Smoothed 3.622597915740886\n",
      "LB Smoothed 3.6264594152657192\n",
      "LB Smoothed 3.6312220017146277\n",
      "LB Smoothed 3.6346954870608266\n",
      "LB Smoothed 3.639254827855042\n",
      "LB Smoothed 3.639795014424327\n",
      "LB Smoothed 3.6403149389421654\n",
      "LB Smoothed 3.6429118856112574\n",
      "LB Smoothed 3.6461230006989127\n",
      "LB Smoothed 3.648733082049419\n",
      "LB Smoothed 3.6509628965622616\n",
      "LB Smoothed 3.6523861668823514\n",
      "LB Smoothed 3.6528112634647294\n",
      "LB Smoothed 3.6558938478131116\n",
      "LB Smoothed 3.6602261505217855\n",
      "LB Smoothed 3.660605929047381\n",
      "LB Smoothed 3.6592325818086042\n",
      "LB Smoothed 3.6608930400429345\n",
      "LB Smoothed 3.6645237198438125\n",
      "LB Smoothed 3.664090267026884\n",
      "LB Smoothed 3.6660525052433615\n",
      "LB Smoothed 3.666356168646003\n",
      "LB Smoothed 3.6666480290987065\n",
      "LB Smoothed 3.6669285118785777\n",
      "LB Smoothed 3.6671980281466454\n",
      "LB Smoothed 3.6674569753659143\n",
      "LB Smoothed 3.667705737709242\n",
      "LB Smoothed 3.6679446864572034\n",
      "LB Smoothed 3.6681741803860946\n",
      "LB Smoothed 3.668394566146221\n",
      "LB Smoothed 3.668606178630647\n",
      "LB Smoothed 3.668809341334549\n",
      "LB Smoothed 3.669009392100517\n",
      "LB Smoothed 3.6691954202073522\n",
      "LB Smoothed 3.6608821969062957\n",
      "LB Smoothed 3.6627918974440203\n",
      "LB Smoothed 3.662956410695321\n",
      "LB Smoothed 3.663114219161505\n",
      "LB Smoothed 3.6640247130546104\n",
      "LB Smoothed 3.6641711335725033\n",
      "LB Smoothed 3.664311545277393\n",
      "LB Smoothed 3.664446175864332\n",
      "LB Smoothed 3.6645752449988063\n",
      "LB Smoothed 3.6617177511615004\n",
      "LB Smoothed 3.6618354326766003\n",
      "LB Smoothed 3.661948191540379\n",
      "LB Smoothed 3.662056217017614\n",
      "LB Smoothed 3.6621596915954058\n",
      "LB Smoothed 3.6622587912067277\n",
      "LB Smoothed 3.662353685447453\n",
      "LB Smoothed 3.6624445377870156\n",
      "LB Smoothed 3.6625264803776743\n",
      "LB Smoothed 3.6626108775051223\n",
      "LB Smoothed 3.6711833955768545\n",
      "LB Smoothed 3.671260862055453\n",
      "LB Smoothed 3.67133498676576\n",
      "LB Smoothed 3.6714059014371063\n",
      "LB Smoothed 3.6714737329524105\n",
      "LB Smoothed 3.671538603513955\n",
      "LB Smoothed 3.6716006308040563\n",
      "LB Smoothed 3.6708104820124956\n",
      "LB Smoothed 3.6708667346191195\n",
      "LB Smoothed 3.6739016966607605\n",
      "LB Smoothed 3.6739539349181816\n",
      "LB Smoothed 3.67400384145115\n",
      "LB Smoothed 3.674051510372141\n",
      "LB Smoothed 3.6740970322515674\n",
      "LB Smoothed 3.674140494242474\n",
      "LB Smoothed 3.674181980201205\n",
      "LB Smoothed 3.6742695499959965\n",
      "LB Smoothed 3.674306273802979\n",
      "LB Smoothed 3.674341276849357\n",
      "LB Smoothed 3.6743746304208025\n",
      "LB Smoothed 3.6744064030660066\n",
      "LB Smoothed 3.6744366606951337\n",
      "LB Smoothed 3.6706117973794616\n",
      "LB Smoothed 3.6706386084000826\n",
      "LB Smoothed 3.670664101748772\n",
      "LB Smoothed 3.6706883332835547\n",
      "LB Smoothed 3.671560802810661\n",
      "LB Smoothed 3.6715830935324796\n",
      "LB Smoothed 3.6716042654184413\n",
      "LB Smoothed 3.671624366457747\n",
      "LB Smoothed 3.6716434427495095\n",
      "LB Smoothed 3.6716615385725997\n",
      "LB Smoothed 3.6716786964530668\n",
      "LB Smoothed 3.671694957229235\n",
      "LB Smoothed 3.6717103601145356\n",
      "LB Smoothed 3.6716769635663185\n",
      "LB Smoothed 3.6716918111613275\n",
      "LB Smoothed 3.671705887018257\n",
      "LB Smoothed 3.6717192249505097\n",
      "LB Smoothed 3.6717318574164084\n",
      "LB Smoothed 3.671743815570237\n",
      "LB Smoothed 3.6756087986070307\n",
      "LB Smoothed 3.6756201008533638\n",
      "LB Smoothed 3.6756308004011986\n",
      "LB Smoothed 3.6756409240824066\n",
      "LB Smoothed 3.6756504976406545\n",
      "LB Smoothed 3.675659545772913\n",
      "LB Smoothed 3.6756680921694422\n",
      "LB Smoothed 3.6756761595523586\n",
      "LB Smoothed 3.675683769712786\n",
      "LB Smoothed 3.6756909435466754\n",
      "LB Smoothed 3.6756977010893075\n",
      "LB Smoothed 3.6757040615485423\n",
      "LB Smoothed 3.6757100433368537\n",
      "LB Smoothed 3.6757156641021904\n",
      "LB Smoothed 3.6757209407576963\n",
      "LB Smoothed 3.6757258895103484\n",
      "LB Smoothed 3.675730525888522\n",
      "LB Smoothed 3.6754231289113846\n",
      "LB Smoothed 3.6754267584341793\n",
      "LB Smoothed 3.675430128382292\n",
      "LB Smoothed 3.675433251573956\n",
      "LB Smoothed 3.6754361402789786\n",
      "LB Smoothed 3.6754388062404844\n",
      "LB Smoothed 3.6754412606958615\n",
      "LB Smoothed 3.6754435143969055\n",
      "LB Smoothed 3.6754455776292105\n",
      "LB Smoothed 3.6754474602308322\n",
      "LB Smoothed 3.6754491716102304\n",
      "LB Smoothed 3.675450720763544\n",
      "LB Smoothed 3.6754521162912024\n",
      "LB Smoothed 3.6754533664139037\n",
      "LB Smoothed 3.6754544789879895\n",
      "LB Smoothed 3.67546889683492\n",
      "LB Smoothed 3.675469238791669\n",
      "LB Smoothed 3.6754694754881405\n",
      "LB Smoothed 3.6754696132247684\n",
      "LB Smoothed 3.6757813938691264\n",
      "LB Smoothed 3.6757817775481922\n",
      "LB Smoothed 3.6757820694504337\n",
      "LB Smoothed 3.6757822750378577\n",
      "LB Smoothed 3.6757823995207626\n",
      "LB Smoothed 3.6757824478681695\n",
      "LB Smoothed 3.6757824248178483\n",
      "LB Smoothed 3.675782334885951\n",
      "LB Smoothed 3.6757821823762713\n",
      "LB Smoothed 3.6757819713891386\n",
      "LB Smoothed 3.675781705829958\n",
      "LB Smoothed 3.6757813894174203\n",
      "LB Smoothed 3.6757810256913905\n",
      "LB Smoothed 3.6757806180204695\n",
      "LB Smoothed 3.675780169609274\n",
      "LB Smoothed 3.6757662481907083\n",
      "LB Smoothed 3.6757662449965127\n",
      "LB Smoothed 3.675766198999934\n",
      "LB Smoothed 3.6757661130574557\n",
      "LB Smoothed 3.6757659898879256\n",
      "LB Smoothed 3.6757658320784095\n",
      "LB Smoothed 3.6757656420898153\n",
      "LB Smoothed 3.675765422262286\n",
      "LB Smoothed 3.6757651748203877\n",
      "LB Smoothed 3.675764901878075\n",
      "LB Smoothed 3.67576460544347\n",
      "LB Smoothed 3.6757642874234424\n",
      "LB Smoothed 3.675763949628002\n",
      "LB Smoothed 3.6757635937745246\n",
      "LB Smoothed 3.675763221491793\n",
      "LB Smoothed 3.6757628343238853\n",
      "LB Smoothed 3.6757624337339023\n",
      "LB Smoothed 3.675762021107535\n",
      "LB Smoothed 3.6757615977564986\n",
      "LB Smoothed 3.675761164921818\n",
      "LB Smoothed 3.6757607237769876\n",
      "LB Smoothed 3.6757602754309864\n",
      "LB Smoothed 3.675759820931181\n",
      "LB Smoothed 3.675759361266111\n",
      "LB Smoothed 3.675758897368146\n",
      "LB Smoothed 3.67575843011605\n",
      "LB Smoothed 3.675757960337422\n",
      "LB Smoothed 3.675757488811047\n",
      "LB Smoothed 3.6757570162691495\n",
      "LB Smoothed 3.6757565433995403\n",
      "LB Smoothed 3.6757560708476906\n",
      "LB Smoothed 3.675755599218705\n",
      "LB Smoothed 3.6757551290792243\n",
      "LB Smoothed 3.6757546609592295\n",
      "LB Smoothed 3.6757541953537927\n",
      "LB Smoothed 3.6757537327247376\n",
      "LB Smoothed 3.6757532735022327\n",
      "LB Smoothed 3.675752818086322\n",
      "LB Smoothed 3.6757523668483834\n",
      "LB Smoothed 3.67575192013253\n",
      "LB Smoothed 3.6757514782569505\n",
      "LB Smoothed 3.6757510415151864\n",
      "Stop at 714\n"
     ]
    }
   ],
   "source": [
    "for t in range(stop):\n",
    "    stepsize = eps\n",
    "\n",
    "    train_grad_log_f = grad_log_density_mixture(wass_train_summary_statistics, mixture_obj)[1]\n",
    "    v = -wass_train_summary_statistics-train_grad_log_f\n",
    "    wass_train_summary_statistics = wass_train_summary_statistics + stepsize * v\n",
    "\n",
    "    val_grad_log_f = grad_log_density_mixture(wass_val_summary_statistics, mixture_obj)[1]\n",
    "    val_log_f = grad_log_density_mixture(wass_val_summary_statistics, mixture_obj)[0]\n",
    "    v = -wass_val_summary_statistics-val_grad_log_f\n",
    "    wass_val_summary_statistics = wass_val_summary_statistics + stepsize * v\n",
    "    h_vector = -1/2 * np.diag(wass_val_summary_statistics @ wass_val_summary_statistics.T) - val_log_f \n",
    "\n",
    "    test_grad_log_f = grad_log_density_mixture(wass_test_summary_statistics, mixture_obj)[1]\n",
    "    v = -wass_test_summary_statistics-test_grad_log_f\n",
    "    wass_test_summary_statistics = wass_test_summary_statistics + stepsize * v\n",
    "\n",
    "    # Update new mixture model\n",
    "    mixture_obj = mixture_model_fit(wass_train_summary_statistics, maxG)[0]\n",
    "    bestG = mixture_model_fit(wass_train_summary_statistics, maxG)[1]\n",
    "\n",
    "    if min(mixture_obj.weights_) < 0.005:\n",
    "        mixture_obj = mixture_model_fit(wass_train_summary_statistics, bestG - 1)[0]\n",
    "\n",
    "    mixture_obj_seq[t+1] = mixture_obj\n",
    "    bestG_seq[t+1] = bestG\n",
    "\n",
    "    lb.append(np.mean(h_vector))\n",
    "\n",
    "    if t < t_w:\n",
    "        print('LB', np.mean(h_vector))\n",
    "\n",
    "    if t >= t_w:\n",
    "        LB_smoothed = np.mean(lb[t - t_w + 1 : t])\n",
    "        print('LB Smoothed', LB_smoothed)\n",
    "        LB_Smoothed.append(LB_smoothed)\n",
    "        if LB_smoothed >= np.max(LB_Smoothed):\n",
    "            patience = 0\n",
    "        else:\n",
    "            patience += 1\n",
    "            if patience > patience_max:\n",
    "                print(\"Stop at\", t)\n",
    "                break"
   ]
  },
  {
   "cell_type": "code",
   "execution_count": 49,
   "metadata": {},
   "outputs": [
    {
     "data": {
      "text/plain": [
       "<AxesSubplot:title={'center':'Lower Bound Estimate'}>"
      ]
     },
     "execution_count": 49,
     "metadata": {},
     "output_type": "execute_result"
    },
    {
     "data": {
      "text/plain": [
       "<Figure size 432x288 with 0 Axes>"
      ]
     },
     "metadata": {},
     "output_type": "display_data"
    },
    {
     "data": {
      "image/png": "[encoded data removed]",
      "text/plain": [
       "<Figure size 432x288 with 1 Axes>"
      ]
     },
     "metadata": {
      "needs_background": "light"
     },
     "output_type": "display_data"
    }
   ],
   "source": [
    "wass_lb_df = pd.DataFrame(np.array(lb[1:]))\n",
    "plt.figure()\n",
    "wass_lb_df.plot(title = 'Lower Bound Estimate', legend = False)"
   ]
  },
  {
   "cell_type": "code",
   "execution_count": 50,
   "metadata": {},
   "outputs": [
    {
     "data": {
      "text/plain": [
       "<AxesSubplot:title={'center':'Smoothed Lower Bound Estimate'}>"
      ]
     },
     "execution_count": 50,
     "metadata": {},
     "output_type": "execute_result"
    },
    {
     "data": {
      "text/plain": [
       "<Figure size 432x288 with 0 Axes>"
      ]
     },
     "metadata": {},
     "output_type": "display_data"
    },
    {
     "data": {
      "image/png": "[encoded data removed]",
      "text/plain": [
       "<Figure size 432x288 with 1 Axes>"
      ]
     },
     "metadata": {
      "needs_background": "light"
     },
     "output_type": "display_data"
    }
   ],
   "source": [
    "wass_smoothed_lb_df = pd.DataFrame(np.array(LB_Smoothed))\n",
    "plt.figure()\n",
    "wass_smoothed_lb_df.plot(title = 'Smoothed Lower Bound Estimate', legend = False)"
   ]
  },
  {
   "cell_type": "code",
   "execution_count": 51,
   "metadata": {},
   "outputs": [
    {
     "data": {
      "text/plain": [
       "<AxesSubplot:>"
      ]
     },
     "execution_count": 51,
     "metadata": {},
     "output_type": "execute_result"
    },
    {
     "data": {
      "image/png": "[encoded data removed]",
      "text/plain": [
       "<Figure size 432x288 with 1 Axes>"
      ]
     },
     "metadata": {
      "needs_background": "light"
     },
     "output_type": "display_data"
    }
   ],
   "source": [
    "pd.Series(np.random.normal(np.mean(original_train_summary_statistics[:,0]),np.std(original_train_summary_statistics[:,0]), len(original_train_summary_statistics[:,0]))\n",
    ").hist(bins = 50)"
   ]
  },
  {
   "cell_type": "code",
   "execution_count": 52,
   "metadata": {},
   "outputs": [
    {
     "data": {
      "text/plain": [
       "<AxesSubplot:>"
      ]
     },
     "execution_count": 52,
     "metadata": {},
     "output_type": "execute_result"
    },
    {
     "data": {
      "image/png": "[encoded data removed]",
      "text/plain": [
       "<Figure size 432x288 with 1 Axes>"
      ]
     },
     "metadata": {
      "needs_background": "light"
     },
     "output_type": "display_data"
    }
   ],
   "source": [
    "pd.Series(np.random.normal(np.mean(wass_train_summary_statistics[:,0]),np.std(wass_train_summary_statistics[:,0]), len(wass_train_summary_statistics[:,0]))\n",
    ").hist(bins = 50)"
   ]
  },
  {
   "cell_type": "code",
   "execution_count": 53,
   "metadata": {},
   "outputs": [
    {
     "data": {
      "text/plain": [
       "<matplotlib.collections.PathCollection at 0x138a0b250>"
      ]
     },
     "execution_count": 53,
     "metadata": {},
     "output_type": "execute_result"
    },
    {
     "data": {
      "image/png": "[encoded data removed]",
      "text/plain": [
       "<Figure size 432x288 with 1 Axes>"
      ]
     },
     "metadata": {
      "needs_background": "light"
     },
     "output_type": "display_data"
    }
   ],
   "source": [
    "plt.scatter(original_train_summary_statistics[:,0], original_train_summary_statistics[:,1])"
   ]
  },
  {
   "cell_type": "code",
   "execution_count": 54,
   "metadata": {},
   "outputs": [
    {
     "data": {
      "text/plain": [
       "<matplotlib.collections.PathCollection at 0x138afcfd0>"
      ]
     },
     "execution_count": 54,
     "metadata": {},
     "output_type": "execute_result"
    },
    {
     "data": {
      "image/png": "[encoded data removed]",
      "text/plain": [
       "<Figure size 432x288 with 1 Axes>"
      ]
     },
     "metadata": {
      "needs_background": "light"
     },
     "output_type": "display_data"
    }
   ],
   "source": [
    "plt.scatter(wass_train_summary_statistics[:,0], wass_train_summary_statistics[:,1])"
   ]
  },
  {
   "cell_type": "code",
   "execution_count": 59,
   "metadata": {},
   "outputs": [
    {
     "data": {
      "text/plain": [
       "<matplotlib.collections.PathCollection at 0x138bfca50>"
      ]
     },
     "execution_count": 59,
     "metadata": {},
     "output_type": "execute_result"
    },
    {
     "data": {
      "image/png": "[encoded data removed]",
      "text/plain": [
       "<Figure size 432x288 with 1 Axes>"
      ]
     },
     "metadata": {
      "needs_background": "light"
     },
     "output_type": "display_data"
    }
   ],
   "source": [
    "plt.scatter(original_train_summary_statistics[:,2], original_train_summary_statistics[:,3])"
   ]
  },
  {
   "cell_type": "code",
   "execution_count": 60,
   "metadata": {},
   "outputs": [
    {
     "data": {
      "text/plain": [
       "<matplotlib.collections.PathCollection at 0x138d0a190>"
      ]
     },
     "execution_count": 60,
     "metadata": {},
     "output_type": "execute_result"
    },
    {
     "data": {
      "image/png": "[encoded data removed]",
      "text/plain": [
       "<Figure size 432x288 with 1 Axes>"
      ]
     },
     "metadata": {
      "needs_background": "light"
     },
     "output_type": "display_data"
    }
   ],
   "source": [
    "plt.scatter(wass_train_summary_statistics[:,2], wass_train_summary_statistics[:,3])"
   ]
  },
  {
   "cell_type": "code",
   "execution_count": 62,
   "metadata": {},
   "outputs": [
    {
     "data": {
      "text/plain": [
       "<matplotlib.collections.PathCollection at 0x138f07810>"
      ]
     },
     "execution_count": 62,
     "metadata": {},
     "output_type": "execute_result"
    },
    {
     "data": {
      "image/png": "[encoded data removed]",
      "text/plain": [
       "<Figure size 432x288 with 1 Axes>"
      ]
     },
     "metadata": {
      "needs_background": "light"
     },
     "output_type": "display_data"
    }
   ],
   "source": [
    "plt.scatter(original_train_summary_statistics[:,1], original_train_summary_statistics[:,3])"
   ]
  },
  {
   "cell_type": "code",
   "execution_count": 63,
   "metadata": {},
   "outputs": [
    {
     "data": {
      "text/plain": [
       "<matplotlib.collections.PathCollection at 0x13900b350>"
      ]
     },
     "execution_count": 63,
     "metadata": {},
     "output_type": "execute_result"
    },
    {
     "data": {
      "image/png": "[encoded data removed]",
      "text/plain": [
       "<Figure size 432x288 with 1 Axes>"
      ]
     },
     "metadata": {
      "needs_background": "light"
     },
     "output_type": "display_data"
    }
   ],
   "source": [
    "plt.scatter(wass_train_summary_statistics[:,1], wass_train_summary_statistics[:,3])"
   ]
  },
  {
   "cell_type": "code",
   "execution_count": 57,
   "metadata": {},
   "outputs": [],
   "source": [
    "mixture_obj_seq = [i for i in mixture_obj_seq if i!=0]\n",
    "mixture_obj_seq = mixture_obj_seq[:-1]"
   ]
  },
  {
   "cell_type": "code",
   "execution_count": 66,
   "metadata": {},
   "outputs": [],
   "source": [
    "def wasserstein_transform(mixture_obj_seq, n_summary_statistics):\n",
    "    for i in range(len(mixture_obj_seq)):\n",
    "        stepsize = eps\n",
    "        mixture_obj = mixture_obj_seq[i]\n",
    "        grad_log_f = grad_log_density_mixture(n_summary_statistics, mixture_obj)[1]\n",
    "        v = -n_summary_statistics-grad_log_f\n",
    "        n_summary_statistics = n_summary_statistics + stepsize * v\n",
    "    return n_summary_statistics"
   ]
  },
  {
   "cell_type": "markdown",
   "metadata": {},
   "source": [
    "## Testing on dummary data"
   ]
  },
  {
   "cell_type": "code",
   "execution_count": 124,
   "metadata": {},
   "outputs": [],
   "source": [
    "dataset_dummy = alpha_stable(1.36495524,  0.27388675,  0.78684313, -0.08169088, 30, 4000)\n",
    "n_summary_statistics_dummy = np.array([alpha_stable_ss(dataset_dummy[i,:]) for i in range(4000)])"
   ]
  },
  {
   "cell_type": "code",
   "execution_count": 122,
   "metadata": {},
   "outputs": [],
   "source": [
    "transformed = wasserstein_transform(mixture_obj_seq, n_summary_statistics_dummy)"
   ]
  },
  {
   "cell_type": "code",
   "execution_count": 125,
   "metadata": {},
   "outputs": [
    {
     "data": {
      "text/plain": [
       "<matplotlib.collections.PathCollection at 0x13505ef90>"
      ]
     },
     "execution_count": 125,
     "metadata": {},
     "output_type": "execute_result"
    },
    {
     "data": {
      "image/png": "[encoded data removed]",
      "text/plain": [
       "<Figure size 432x288 with 1 Axes>"
      ]
     },
     "metadata": {
      "needs_background": "light"
     },
     "output_type": "display_data"
    }
   ],
   "source": [
    "plt.scatter(n_summary_statistics_dummy[:,1], n_summary_statistics_dummy[:,3])"
   ]
  },
  {
   "cell_type": "code",
   "execution_count": 140,
   "metadata": {},
   "outputs": [
    {
     "data": {
      "text/plain": [
       "<matplotlib.collections.PathCollection at 0x1336e8f90>"
      ]
     },
     "execution_count": 140,
     "metadata": {},
     "output_type": "execute_result"
    },
    {
     "data": {
      "image/png": "[encoded data removed]",
      "text/plain": [
       "<Figure size 432x288 with 1 Axes>"
      ]
     },
     "metadata": {
      "needs_background": "light"
     },
     "output_type": "display_data"
    }
   ],
   "source": [
    "plt.scatter(transformed[:,1], transformed[:,3])"
   ]
  },
  {
   "cell_type": "code",
   "execution_count": 126,
   "metadata": {},
   "outputs": [],
   "source": [
    "from scipy import stats\n",
    "z = stats.zscore(transformed)\n",
    "z_abs = np.abs(z)"
   ]
  },
  {
   "cell_type": "code",
   "execution_count": 137,
   "metadata": {},
   "outputs": [],
   "source": [
    "z_score_1st = np.where(z_abs[:,1] > 3.5)[0].tolist()\n",
    "z_score_3rd = np.where(z_abs[:,3] > 3.5)[0].tolist()\n",
    "z_score_both = z_score_1st + list(set(z_score_3rd) - set(z_score_1st))"
   ]
  },
  {
   "cell_type": "code",
   "execution_count": 138,
   "metadata": {},
   "outputs": [],
   "source": [
    "transformed_no_outlier_1st = np.delete(transformed[:,1], np.array(z_score_both), axis = 0)\n",
    "transformed_no_outlier_3rd = np.delete(transformed[:,3], np.array(z_score_both), axis = 0)"
   ]
  },
  {
   "cell_type": "code",
   "execution_count": 139,
   "metadata": {},
   "outputs": [
    {
     "data": {
      "text/plain": [
       "<matplotlib.collections.PathCollection at 0x1339ad5d0>"
      ]
     },
     "execution_count": 139,
     "metadata": {},
     "output_type": "execute_result"
    },
    {
     "data": {
      "image/png": "[encoded data removed]",
      "text/plain": [
       "<Figure size 432x288 with 1 Axes>"
      ]
     },
     "metadata": {
      "needs_background": "light"
     },
     "output_type": "display_data"
    }
   ],
   "source": [
    "plt.scatter(transformed_no_outlier_1st, transformed_no_outlier_3rd)"
   ]
  },
  {
   "cell_type": "markdown",
   "metadata": {},
   "source": [
    "## FIND THE BEST THETA (COEFFICIENTS) USING VB"
   ]
  },
  {
   "cell_type": "code",
   "execution_count": 204,
   "metadata": {},
   "outputs": [],
   "source": [
    "# Functions must be imported for multiprocessing to work\n",
    "from functions_robust_wasserstein.f_gradient_lb_wasserstein import (fun_gradient_lb)"
   ]
  },
  {
   "cell_type": "code",
   "execution_count": 205,
   "metadata": {},
   "outputs": [],
   "source": [
    "class GVB:\n",
    "    def __init__(self, samples, actual_summary_statistics, learning_rate, threshold, l_threshold, adaptive_lr_1, adaptive_lr_2, t_w, Patience):\n",
    "        self.samples = samples\n",
    "        self.actual_summary_statistics = actual_summary_statistics\n",
    "        self.num_datasets = 200 # number of datasets\n",
    "        self.num_coeffs = 4 # number of coeffs\n",
    "        self.lambda_dim = self.num_coeffs + int((self.num_coeffs * (self.num_coeffs + 1)) / 2)\n",
    "        self.learning_rate = learning_rate\n",
    "        self.threshold = threshold\n",
    "        self.l_threshold = l_threshold\n",
    "        self.adaptive_lr_1 = adaptive_lr_1\n",
    "        self.adaptive_lr_2 = adaptive_lr_2\n",
    "        self.t_w = t_w\n",
    "        self.Patience = Patience\n",
    "\n",
    "    def control_variates(self, Flat_grad_log_q, Flat_grad_lb):\n",
    "        c = []\n",
    "        stacked_gradient_lb = np.stack(Flat_grad_lb)\n",
    "        stacked_gradient_log_q = np.stack(Flat_grad_log_q)\n",
    "        for i in range(self.lambda_dim):\n",
    "            sample_cov = np.cov((stacked_gradient_lb[:, i], stacked_gradient_log_q[:, i]))\n",
    "            c_i = sample_cov[0, 1] / sample_cov[1, 1]\n",
    "            c.append(c_i)\n",
    "        c_mu = np.array(c[0:self.num_coeffs])\n",
    "        c_vech_l = np.array(c[self.num_coeffs:])\n",
    "        return np.array([c_mu, c_vech_l], dtype = object)\n",
    "\n",
    "    def vb_posterior(self, stop):\n",
    "        # Initialize mu_0, L_0\n",
    "        # mu_0 = np.array([np.log((self.actual_summary_statistics[0]-1.1)/(2-self.actual_summary_statistics[0])), np.log((1+self.actual_summary_statistics[1])/(1-self.actual_summary_statistics[1])), np.log(self.actual_summary_statistics[2]), self.actual_summary_statistics[3]])\n",
    "        #mu_0 = np.array([1.5, 0.5, 3, 0])\n",
    "        mu_0 = np.array([np.log((1.5-1.1)/(2-1.5)),np.log((0.5+1)/(1-0.5)),np.log(1),0])\n",
    "        #mu_0 = np.array([self.actual_summary_statistics[0], self.actual_summary_statistics[1], self.actual_summary_statistics[2], self.actual_summary_statistics[3]])\n",
    "        # mu_0 = np.array([0] * self.num_coeffs)\n",
    "        l_0 = np.tril(np.identity(self.num_coeffs) * 10)\n",
    "        Sigma_0_inv = l_0 @ l_0.T\n",
    "        Sigma_0 = np.linalg.inv(Sigma_0_inv)\n",
    "        l_0_inv = np.linalg.inv(l_0)\n",
    "        ### Change ways to get vech(l0)\n",
    "        vech_l0 = l_0.T[np.triu_indices(self.num_coeffs)]\n",
    "\n",
    "        lambda_0 = np.array([mu_0, vech_l0], dtype = object)\n",
    "        lambda_q = lambda_0\n",
    "        # Initilize best lambda\n",
    "        lambda_best = lambda_0\n",
    "        # List of Lambda\n",
    "        Lambda = [lambda_0]\n",
    "        # List of calculations of LB\n",
    "        LB_all = []\n",
    "        LB_Smoothed = []\n",
    "        patience = 0\n",
    "        for t in tqdm(range(stop)):\n",
    "            if t == 0:        \n",
    "                # Draw samples of theta from  variational q\n",
    "                theta_0_samples = multivariate_normal.rvs(mean = mu_0, cov = Sigma_0, size = self.samples)\n",
    "\n",
    "                # Multiprocessing a function with several inputs\n",
    "                results = pool.map(partial(fun_gradient_lb, theta_samples = theta_0_samples, mu_q = mu_0, l_q = l_0, c = 0, gamma_samples = gamma_samples, n_samples = n_samples, n_datasets= num_datasets, num_coeffs = self.num_coeffs, num_latent = num_latent, actual_summary_statistics = self.actual_summary_statistics, mixture_obj_seq = mixture_obj_seq), np.arange(self.samples)) \n",
    "                results = np.reshape(results, (self.samples, self.num_coeffs))\n",
    "                Gradient_lb_init = results[:,0]\n",
    "                lb_0 = results[:,1]\n",
    "                Flattened_gradient_lb = results[:,2]\n",
    "                Flattened_gradient_log_q = results[:,3]\n",
    "\n",
    "                # Calculate control variates using all samples\n",
    "                c = self.control_variates(Flattened_gradient_log_q, Flattened_gradient_lb)\n",
    "                # Update lambda_q\n",
    "                self.g_init = np.mean(Gradient_lb_init, axis = 0)\n",
    "                # Gradient clipping\n",
    "                if np.linalg.norm(np.concatenate(self.g_init, axis = None)) > self.l_threshold:\n",
    "                    self.g_init = self.l_threshold * self.g_init / np.linalg.norm(np.concatenate(self.g_init, axis = None))\n",
    "                self.v_init = self.g_init ** 2\n",
    "                # Calculate lower bound\n",
    "                LB_all.append(np.mean(lb_0))\n",
    "                print('LB', (np.mean(lb_0)))\n",
    "                lambda_q = lambda_0\n",
    "\n",
    "            if t > 0:\n",
    "                # From lambda_q find mu_q and L_q\n",
    "                mu_q = lambda_q[0]\n",
    "\n",
    "                ### Change ways to convert from vech_l0 to l0\n",
    "                vech_lq = list(lambda_q[1])\n",
    "                l_q = np.zeros((self.num_coeffs, self.num_coeffs))\n",
    "                # l_q[:, 0] = lambda_q[1][0:self.num_coeffs]\n",
    "                # l_q[1:self.num_coeffs, 1] = lambda_q[1][4:7]\n",
    "                # l_q[2:self.num_coeffs, 2] = lambda_q[1][7:9]\n",
    "                # l_q[3:self.num_coeffs, 3] = lambda_q[1][9:10]\n",
    "                for i in range(self.num_coeffs):\n",
    "                    l_q[i:self.num_coeffs,i] = vech_lq[:self.num_coeffs - i]\n",
    "                    del vech_lq[:self.num_coeffs-i]\n",
    "\n",
    "                Sigma_q_inv = l_q @ l_q.T\n",
    "                Sigma_q =  np.linalg.inv(Sigma_q_inv)\n",
    "                l_q_inv =  np.linalg.inv(l_q)\n",
    "\n",
    "                theta_q_samples = multivariate_normal.rvs(mean = mu_q, cov = Sigma_q, size = self.samples)\n",
    "\n",
    "                # Multiprocessing a function with several inputs\n",
    "                results = pool.map(partial(fun_gradient_lb, theta_samples = theta_q_samples, mu_q = mu_q, l_q = l_q, c = c, gamma_samples = gamma_samples, n_samples = n_samples, n_datasets= num_datasets, num_coeffs = self.num_coeffs, num_latent = num_latent, actual_summary_statistics = self.actual_summary_statistics, mixture_obj_seq = mixture_obj_seq), np.arange(self.samples)) \n",
    "                results = np.reshape(results, (self.samples, self.num_coeffs))\n",
    "                Gradient_lb = results[:,0]\n",
    "                lb_t = results[:,1]\n",
    "                Flattened_gradient_lb = results[:,2]\n",
    "                Flattened_gradient_log_q = results[:,3]\n",
    "\n",
    "                # Calculate control variates using all samples\n",
    "                c = self.control_variates(Flattened_gradient_log_q, Flattened_gradient_lb)\n",
    "\n",
    "                # Calc gradient of h\n",
    "                g_t = np.mean(Gradient_lb, axis = 0)\n",
    "                # Gradient clipping\n",
    "                if np.linalg.norm(np.concatenate(g_t, axis = None)) > self.l_threshold:\n",
    "                    g_t = self.l_threshold * g_t / np.linalg.norm(np.concatenate(g_t, axis = None))\n",
    "                v_t = g_t ** 2\n",
    "\n",
    "                #---- Update lambda\n",
    "                self.g_init = self.adaptive_lr_1 * self.g_init + (1 - self.adaptive_lr_1) * g_t\n",
    "                self.v_init = self.adaptive_lr_2 * self.v_init + (1 - self.adaptive_lr_2) * v_t\n",
    "                if t >= self.threshold:\n",
    "                    update_t = self.learning_rate * self.threshold / t\n",
    "                else:\n",
    "                    update_t = self.learning_rate\n",
    "\n",
    "                lambda_q = lambda_q + update_t * self.g_init / (self.v_init ** 0.5)\n",
    "                Lambda.append(lambda_q)\n",
    "                # Calculate lower bound\n",
    "                LB_all.append(np.mean(lb_t))\n",
    "\n",
    "                if t < self.t_w:\n",
    "                    print('LB', np.mean(lb_t))\n",
    "\n",
    "                if t >= self.t_w:\n",
    "                    LB_smoothed = np.mean(LB_all[t - self.t_w + 1 : t])\n",
    "                    print('LB Smoothed', LB_smoothed)\n",
    "                    LB_Smoothed.append(LB_smoothed)\n",
    "                    if LB_smoothed >= max(LB_Smoothed):\n",
    "                        patience = 0\n",
    "                        lambda_best = lambda_q\n",
    "                    else:\n",
    "                        patience += 1\n",
    "                        if patience > self.Patience:\n",
    "                            print(\"Stop at\", t)\n",
    "                            break\n",
    "\n",
    "        return LB_all, LB_Smoothed, lambda_best"
   ]
  },
  {
   "cell_type": "code",
   "execution_count": 159,
   "metadata": {},
   "outputs": [],
   "source": [
    "actual_summary_statistics = np.reshape(actual_summary_statistics, (1, len(actual_summary_statistics)))"
   ]
  },
  {
   "cell_type": "markdown",
   "metadata": {},
   "source": [
    "## RUN VB AND PRINT OUT VARIATIONAL PARAMS"
   ]
  },
  {
   "cell_type": "code",
   "execution_count": 199,
   "metadata": {},
   "outputs": [],
   "source": [
    "# Set hyperparameters\n",
    "stop = 5000\n",
    "transformed_summary_statistics = wasserstein_transform(mixture_obj_seq, actual_summary_statistics)"
   ]
  },
  {
   "cell_type": "code",
   "execution_count": 209,
   "metadata": {},
   "outputs": [
    {
     "name": "stderr",
     "output_type": "stream",
     "text": [
      "  0%|          | 0/5000 [00:00<?, ?it/s]/anaconda3/envs/myenv/lib/python3.7/site-packages/numpy/core/_asarray.py:102: VisibleDeprecationWarning: Creating an ndarray from ragged nested sequences (which is a list-or-tuple of lists-or-tuples-or ndarrays with different lengths or shapes) is deprecated. If you meant to do this, you must specify 'dtype=object' when creating the ndarray.\n",
      "  return array(a, dtype, copy=False, order=order)\n",
      "  0%|          | 1/5000 [1:00:26<5035:55:32, 3626.59s/it]"
     ]
    },
    {
     "name": "stdout",
     "output_type": "stream",
     "text": [
      "LB -14.470286397174714\n"
     ]
    },
    {
     "name": "stderr",
     "output_type": "stream",
     "text": [
      "  0%|          | 2/5000 [2:08:47<5422:37:17, 3905.85s/it]"
     ]
    },
    {
     "name": "stdout",
     "output_type": "stream",
     "text": [
      "LB -14.56569337279708\n"
     ]
    },
    {
     "name": "stderr",
     "output_type": "stream",
     "text": [
      "  0%|          | 3/5000 [3:12:16<5359:49:32, 3861.39s/it]"
     ]
    },
    {
     "name": "stdout",
     "output_type": "stream",
     "text": [
      "LB -14.60850343554276\n"
     ]
    },
    {
     "name": "stderr",
     "output_type": "stream",
     "text": [
      "  0%|          | 4/5000 [4:29:08<5770:17:41, 4157.94s/it]"
     ]
    },
    {
     "name": "stdout",
     "output_type": "stream",
     "text": [
      "LB -14.436348362983285\n"
     ]
    },
    {
     "name": "stderr",
     "output_type": "stream",
     "text": [
      "  0%|          | 5/5000 [5:44:11<5941:28:46, 4282.15s/it]"
     ]
    },
    {
     "name": "stdout",
     "output_type": "stream",
     "text": [
      "LB -13.987738973042864\n"
     ]
    },
    {
     "name": "stderr",
     "output_type": "stream",
     "text": [
      "  0%|          | 6/5000 [6:49:21<5764:47:13, 4155.63s/it]"
     ]
    },
    {
     "name": "stdout",
     "output_type": "stream",
     "text": [
      "LB -13.914306829961836\n"
     ]
    },
    {
     "name": "stderr",
     "output_type": "stream",
     "text": [
      "  0%|          | 7/5000 [7:49:59<5529:05:14, 3986.52s/it]"
     ]
    },
    {
     "name": "stdout",
     "output_type": "stream",
     "text": [
      "LB -13.834408358146133\n"
     ]
    },
    {
     "name": "stderr",
     "output_type": "stream",
     "text": [
      "  0%|          | 8/5000 [8:50:33<5372:11:50, 3874.18s/it]"
     ]
    },
    {
     "name": "stdout",
     "output_type": "stream",
     "text": [
      "LB -13.712672742470765\n"
     ]
    },
    {
     "name": "stderr",
     "output_type": "stream",
     "text": [
      "  0%|          | 9/5000 [9:52:07<5292:59:22, 3817.82s/it]"
     ]
    },
    {
     "name": "stdout",
     "output_type": "stream",
     "text": [
      "LB -13.55271767319064\n"
     ]
    },
    {
     "name": "stderr",
     "output_type": "stream",
     "text": [
      "  0%|          | 10/5000 [11:02:40<5469:43:15, 3946.09s/it]"
     ]
    },
    {
     "name": "stdout",
     "output_type": "stream",
     "text": [
      "LB -13.674516733840951\n"
     ]
    },
    {
     "name": "stderr",
     "output_type": "stream",
     "text": [
      "  0%|          | 11/5000 [12:24:58<5889:23:53, 4249.72s/it]"
     ]
    },
    {
     "name": "stdout",
     "output_type": "stream",
     "text": [
      "LB -13.50737074917322\n"
     ]
    },
    {
     "name": "stderr",
     "output_type": "stream",
     "text": [
      "  0%|          | 12/5000 [13:36:39<5909:55:22, 4265.38s/it]"
     ]
    },
    {
     "name": "stdout",
     "output_type": "stream",
     "text": [
      "LB -13.172859482066997\n"
     ]
    },
    {
     "name": "stderr",
     "output_type": "stream",
     "text": [
      "  0%|          | 13/5000 [14:48:33<5928:48:09, 4279.87s/it]"
     ]
    },
    {
     "name": "stdout",
     "output_type": "stream",
     "text": [
      "LB -13.421071327424562\n"
     ]
    },
    {
     "name": "stderr",
     "output_type": "stream",
     "text": [
      "  0%|          | 14/5000 [16:00:12<5935:50:20, 4285.80s/it]"
     ]
    },
    {
     "name": "stdout",
     "output_type": "stream",
     "text": [
      "LB -12.974555663569008\n"
     ]
    },
    {
     "name": "stderr",
     "output_type": "stream",
     "text": [
      "  0%|          | 15/5000 [17:11:30<5931:28:10, 4283.51s/it]"
     ]
    },
    {
     "name": "stdout",
     "output_type": "stream",
     "text": [
      "LB -13.083703445803517\n"
     ]
    },
    {
     "name": "stderr",
     "output_type": "stream",
     "text": [
      "  0%|          | 16/5000 [18:23:31<5945:57:13, 4294.83s/it]"
     ]
    },
    {
     "name": "stdout",
     "output_type": "stream",
     "text": [
      "LB -12.912616140381168\n"
     ]
    },
    {
     "name": "stderr",
     "output_type": "stream",
     "text": [
      "  0%|          | 17/5000 [19:16:23<5477:05:32, 3956.96s/it]"
     ]
    },
    {
     "name": "stdout",
     "output_type": "stream",
     "text": [
      "LB -12.795377854255022\n"
     ]
    },
    {
     "name": "stderr",
     "output_type": "stream",
     "text": [
      "  0%|          | 18/5000 [20:38:31<5880:04:28, 4248.95s/it]"
     ]
    },
    {
     "name": "stdout",
     "output_type": "stream",
     "text": [
      "LB -12.788472398882767\n"
     ]
    },
    {
     "name": "stderr",
     "output_type": "stream",
     "text": [
      "  0%|          | 19/5000 [21:50:17<5902:27:37, 4265.98s/it]"
     ]
    },
    {
     "name": "stdout",
     "output_type": "stream",
     "text": [
      "LB -12.646091050502145\n"
     ]
    },
    {
     "name": "stderr",
     "output_type": "stream",
     "text": [
      "  0%|          | 20/5000 [23:13:42<6208:05:57, 4487.78s/it]"
     ]
    },
    {
     "name": "stdout",
     "output_type": "stream",
     "text": [
      "LB -12.714748063906313\n"
     ]
    },
    {
     "name": "stderr",
     "output_type": "stream",
     "text": [
      "  0%|          | 21/5000 [24:20:30<6007:56:30, 4343.96s/it]"
     ]
    },
    {
     "name": "stdout",
     "output_type": "stream",
     "text": [
      "LB -12.467699247427424\n"
     ]
    },
    {
     "name": "stderr",
     "output_type": "stream",
     "text": [
      "  0%|          | 22/5000 [25:27:22<5868:48:58, 4244.22s/it]"
     ]
    },
    {
     "name": "stdout",
     "output_type": "stream",
     "text": [
      "LB -12.503728920463741\n"
     ]
    },
    {
     "name": "stderr",
     "output_type": "stream",
     "text": [
      "  0%|          | 23/5000 [27:11:46<6705:24:51, 4850.21s/it]"
     ]
    },
    {
     "name": "stdout",
     "output_type": "stream",
     "text": [
      "LB -12.50888509322632\n"
     ]
    },
    {
     "name": "stderr",
     "output_type": "stream",
     "text": [
      "  0%|          | 24/5000 [28:22:12<6445:31:15, 4663.16s/it]"
     ]
    },
    {
     "name": "stdout",
     "output_type": "stream",
     "text": [
      "LB -12.33046057909308\n"
     ]
    },
    {
     "name": "stderr",
     "output_type": "stream",
     "text": [
      "  0%|          | 25/5000 [29:25:14<6078:44:52, 4398.69s/it]"
     ]
    },
    {
     "name": "stdout",
     "output_type": "stream",
     "text": [
      "LB -12.292195245208427\n"
     ]
    },
    {
     "name": "stderr",
     "output_type": "stream",
     "text": [
      "  1%|          | 26/5000 [30:28:48<5834:59:57, 4223.16s/it]"
     ]
    },
    {
     "name": "stdout",
     "output_type": "stream",
     "text": [
      "LB -12.365421746211375\n"
     ]
    },
    {
     "name": "stderr",
     "output_type": "stream",
     "text": [
      "  1%|          | 27/5000 [31:32:34<5669:17:50, 4104.06s/it]"
     ]
    },
    {
     "name": "stdout",
     "output_type": "stream",
     "text": [
      "LB -12.36198215381023\n"
     ]
    },
    {
     "name": "stderr",
     "output_type": "stream",
     "text": [
      "  1%|          | 28/5000 [33:07:32<6328:38:11, 4582.28s/it]"
     ]
    },
    {
     "name": "stdout",
     "output_type": "stream",
     "text": [
      "LB -12.244089022203761\n"
     ]
    },
    {
     "name": "stderr",
     "output_type": "stream",
     "text": [
      "  1%|          | 29/5000 [34:39:28<6714:18:40, 4862.51s/it]"
     ]
    },
    {
     "name": "stdout",
     "output_type": "stream",
     "text": [
      "LB -12.342144315181358\n"
     ]
    },
    {
     "name": "stderr",
     "output_type": "stream",
     "text": [
      "  1%|          | 30/5000 [35:58:45<6669:14:59, 4830.84s/it]"
     ]
    },
    {
     "name": "stdout",
     "output_type": "stream",
     "text": [
      "LB -12.20524675387994\n"
     ]
    },
    {
     "name": "stderr",
     "output_type": "stream",
     "text": [
      "  1%|          | 31/5000 [37:12:23<6496:57:00, 4706.99s/it]"
     ]
    },
    {
     "name": "stdout",
     "output_type": "stream",
     "text": [
      "LB -12.33267057697145\n"
     ]
    },
    {
     "name": "stderr",
     "output_type": "stream",
     "text": [
      "  1%|          | 32/5000 [38:25:27<6361:39:03, 4609.89s/it]"
     ]
    },
    {
     "name": "stdout",
     "output_type": "stream",
     "text": [
      "LB -12.273517518315941\n"
     ]
    },
    {
     "name": "stderr",
     "output_type": "stream",
     "text": [
      "  1%|          | 33/5000 [39:38:15<6260:25:08, 4537.45s/it]"
     ]
    },
    {
     "name": "stdout",
     "output_type": "stream",
     "text": [
      "LB -12.239034779971462\n"
     ]
    },
    {
     "name": "stderr",
     "output_type": "stream",
     "text": [
      "  1%|          | 34/5000 [40:47:24<6098:15:15, 4420.80s/it]"
     ]
    },
    {
     "name": "stdout",
     "output_type": "stream",
     "text": [
      "LB -12.102073826173505\n"
     ]
    },
    {
     "name": "stderr",
     "output_type": "stream",
     "text": [
      "  1%|          | 35/5000 [41:52:08<5874:54:53, 4259.76s/it]"
     ]
    },
    {
     "name": "stdout",
     "output_type": "stream",
     "text": [
      "LB -12.150348413581082\n"
     ]
    },
    {
     "name": "stderr",
     "output_type": "stream",
     "text": [
      "  1%|          | 36/5000 [42:57:45<5740:20:14, 4163.02s/it]"
     ]
    },
    {
     "name": "stdout",
     "output_type": "stream",
     "text": [
      "LB -12.096716772213798\n"
     ]
    },
    {
     "name": "stderr",
     "output_type": "stream",
     "text": [
      "  1%|          | 37/5000 [47:10:47<10296:19:34, 7468.62s/it]"
     ]
    },
    {
     "name": "stdout",
     "output_type": "stream",
     "text": [
      "LB -12.259687777889424\n"
     ]
    },
    {
     "name": "stderr",
     "output_type": "stream",
     "text": [
      "  1%|          | 38/5000 [47:57:44<8370:47:39, 6073.13s/it] "
     ]
    },
    {
     "name": "stdout",
     "output_type": "stream",
     "text": [
      "LB -12.102992833226844\n"
     ]
    },
    {
     "name": "stderr",
     "output_type": "stream",
     "text": [
      "  1%|          | 39/5000 [48:58:27<7364:41:01, 5344.26s/it]"
     ]
    },
    {
     "name": "stdout",
     "output_type": "stream",
     "text": [
      "LB -12.107008794001192\n"
     ]
    },
    {
     "name": "stderr",
     "output_type": "stream",
     "text": [
      "  1%|          | 40/5000 [66:41:08<31508:49:05, 22869.30s/it]"
     ]
    },
    {
     "name": "stdout",
     "output_type": "stream",
     "text": [
      "LB -12.020958400691725\n"
     ]
    },
    {
     "name": "stderr",
     "output_type": "stream",
     "text": [
      "  1%|          | 41/5000 [68:36:11<24904:07:45, 18079.22s/it]"
     ]
    },
    {
     "name": "stdout",
     "output_type": "stream",
     "text": [
      "LB -12.017133879231592\n"
     ]
    },
    {
     "name": "stderr",
     "output_type": "stream",
     "text": [
      "  1%|          | 42/5000 [70:02:59<19581:23:38, 14218.04s/it]"
     ]
    },
    {
     "name": "stdout",
     "output_type": "stream",
     "text": [
      "LB -12.123496344900845\n"
     ]
    },
    {
     "name": "stderr",
     "output_type": "stream",
     "text": [
      "  1%|          | 43/5000 [71:18:56<15586:35:04, 11319.69s/it]"
     ]
    },
    {
     "name": "stdout",
     "output_type": "stream",
     "text": [
      "LB -12.14688251099136\n"
     ]
    },
    {
     "name": "stderr",
     "output_type": "stream",
     "text": [
      "  1%|          | 44/5000 [72:37:30<12855:13:15, 9337.93s/it] "
     ]
    },
    {
     "name": "stdout",
     "output_type": "stream",
     "text": [
      "LB -11.919536881902333\n"
     ]
    },
    {
     "name": "stderr",
     "output_type": "stream",
     "text": [
      "  1%|          | 45/5000 [73:49:23<10777:40:42, 7830.40s/it]"
     ]
    },
    {
     "name": "stdout",
     "output_type": "stream",
     "text": [
      "LB -11.927341665044572\n"
     ]
    },
    {
     "name": "stderr",
     "output_type": "stream",
     "text": [
      "  1%|          | 46/5000 [75:02:12<9346:45:20, 6792.15s/it] "
     ]
    },
    {
     "name": "stdout",
     "output_type": "stream",
     "text": [
      "LB -12.077846748401146\n"
     ]
    },
    {
     "name": "stderr",
     "output_type": "stream",
     "text": [
      "  1%|          | 47/5000 [76:14:40<8335:57:47, 6058.85s/it]"
     ]
    },
    {
     "name": "stdout",
     "output_type": "stream",
     "text": [
      "LB -11.990588061735064\n"
     ]
    },
    {
     "name": "stderr",
     "output_type": "stream",
     "text": [
      "  1%|          | 48/5000 [77:27:08<7628:05:31, 5545.46s/it]"
     ]
    },
    {
     "name": "stdout",
     "output_type": "stream",
     "text": [
      "LB -11.975084099835033\n"
     ]
    },
    {
     "name": "stderr",
     "output_type": "stream",
     "text": [
      "  1%|          | 49/5000 [78:39:37<7132:53:16, 5186.51s/it]"
     ]
    },
    {
     "name": "stdout",
     "output_type": "stream",
     "text": [
      "LB -12.143953160654277\n"
     ]
    },
    {
     "name": "stderr",
     "output_type": "stream",
     "text": [
      "  1%|          | 50/5000 [79:53:44<6826:34:38, 4964.78s/it]"
     ]
    },
    {
     "name": "stdout",
     "output_type": "stream",
     "text": [
      "LB -11.92422817763555\n"
     ]
    },
    {
     "name": "stderr",
     "output_type": "stream",
     "text": [
      "  1%|          | 51/5000 [81:27:36<7100:30:22, 5165.05s/it]"
     ]
    },
    {
     "name": "stdout",
     "output_type": "stream",
     "text": [
      "LB -11.906188744391288\n"
     ]
    },
    {
     "name": "stderr",
     "output_type": "stream",
     "text": [
      "  1%|          | 52/5000 [82:34:06<6614:16:22, 4812.32s/it]"
     ]
    },
    {
     "name": "stdout",
     "output_type": "stream",
     "text": [
      "LB -11.976015815266804\n"
     ]
    },
    {
     "name": "stderr",
     "output_type": "stream",
     "text": [
      "  1%|          | 53/5000 [83:35:49<6155:53:47, 4479.73s/it]"
     ]
    },
    {
     "name": "stdout",
     "output_type": "stream",
     "text": [
      "LB -11.912829178315924\n"
     ]
    },
    {
     "name": "stderr",
     "output_type": "stream",
     "text": [
      "  1%|          | 54/5000 [84:36:37<5811:45:21, 4230.15s/it]"
     ]
    },
    {
     "name": "stdout",
     "output_type": "stream",
     "text": [
      "LB -11.888885820995888\n"
     ]
    },
    {
     "name": "stderr",
     "output_type": "stream",
     "text": [
      "  1%|          | 55/5000 [85:36:37<5550:37:16, 4040.90s/it]"
     ]
    },
    {
     "name": "stdout",
     "output_type": "stream",
     "text": [
      "LB -12.02645804093546\n"
     ]
    },
    {
     "name": "stderr",
     "output_type": "stream",
     "text": [
      "  1%|          | 56/5000 [86:37:37<5392:33:05, 3926.62s/it]"
     ]
    },
    {
     "name": "stdout",
     "output_type": "stream",
     "text": [
      "LB -11.851700574596872\n"
     ]
    },
    {
     "name": "stderr",
     "output_type": "stream",
     "text": [
      "  1%|          | 57/5000 [87:37:23<5251:26:58, 3824.64s/it]"
     ]
    },
    {
     "name": "stdout",
     "output_type": "stream",
     "text": [
      "LB -11.769776497126543\n"
     ]
    },
    {
     "name": "stderr",
     "output_type": "stream",
     "text": [
      "  1%|          | 58/5000 [88:37:28<5160:00:49, 3758.81s/it]"
     ]
    },
    {
     "name": "stdout",
     "output_type": "stream",
     "text": [
      "LB -11.752118752574011\n"
     ]
    },
    {
     "name": "stderr",
     "output_type": "stream",
     "text": [
      "  1%|          | 59/5000 [89:49:26<5388:56:13, 3926.37s/it]"
     ]
    },
    {
     "name": "stdout",
     "output_type": "stream",
     "text": [
      "LB -12.01299686109474\n"
     ]
    },
    {
     "name": "stderr",
     "output_type": "stream",
     "text": [
      "  1%|          | 60/5000 [90:47:24<5203:32:51, 3792.06s/it]"
     ]
    },
    {
     "name": "stdout",
     "output_type": "stream",
     "text": [
      "LB -11.864214348100463\n"
     ]
    },
    {
     "name": "stderr",
     "output_type": "stream",
     "text": [
      "  1%|          | 61/5000 [91:51:56<5235:01:23, 3815.77s/it]"
     ]
    },
    {
     "name": "stdout",
     "output_type": "stream",
     "text": [
      "LB -11.918882483026177\n"
     ]
    },
    {
     "name": "stderr",
     "output_type": "stream",
     "text": [
      "  1%|          | 62/5000 [92:49:56<5096:10:11, 3715.31s/it]"
     ]
    },
    {
     "name": "stdout",
     "output_type": "stream",
     "text": [
      "LB -11.823643459027204\n"
     ]
    },
    {
     "name": "stderr",
     "output_type": "stream",
     "text": [
      "  1%|▏         | 63/5000 [93:48:39<5015:56:20, 3657.56s/it]"
     ]
    },
    {
     "name": "stdout",
     "output_type": "stream",
     "text": [
      "LB -11.934327699939159\n"
     ]
    },
    {
     "name": "stderr",
     "output_type": "stream",
     "text": [
      "  1%|▏         | 64/5000 [95:06:01<5419:47:11, 3952.84s/it]"
     ]
    },
    {
     "name": "stdout",
     "output_type": "stream",
     "text": [
      "LB -11.853854457526554\n"
     ]
    },
    {
     "name": "stderr",
     "output_type": "stream",
     "text": [
      "  1%|▏         | 65/5000 [96:05:25<5258:43:40, 3836.15s/it]"
     ]
    },
    {
     "name": "stdout",
     "output_type": "stream",
     "text": [
      "LB -11.829827507815242\n"
     ]
    },
    {
     "name": "stderr",
     "output_type": "stream",
     "text": [
      "  1%|▏         | 66/5000 [97:03:58<5124:48:52, 3739.22s/it]"
     ]
    },
    {
     "name": "stdout",
     "output_type": "stream",
     "text": [
      "LB -11.964067202365817\n"
     ]
    },
    {
     "name": "stderr",
     "output_type": "stream",
     "text": [
      "  1%|▏         | 67/5000 [98:27:12<5639:25:10, 4115.53s/it]"
     ]
    },
    {
     "name": "stdout",
     "output_type": "stream",
     "text": [
      "LB -11.75841461063343\n"
     ]
    },
    {
     "name": "stderr",
     "output_type": "stream",
     "text": [
      "  1%|▏         | 68/5000 [99:25:51<5393:18:51, 3936.73s/it]"
     ]
    },
    {
     "name": "stdout",
     "output_type": "stream",
     "text": [
      "LB -11.940309263039053\n"
     ]
    },
    {
     "name": "stderr",
     "output_type": "stream",
     "text": [
      "  1%|▏         | 69/5000 [100:24:02<5208:59:47, 3802.96s/it]"
     ]
    },
    {
     "name": "stdout",
     "output_type": "stream",
     "text": [
      "LB -11.940248420988194\n"
     ]
    },
    {
     "name": "stderr",
     "output_type": "stream",
     "text": [
      "  1%|▏         | 70/5000 [101:23:03<5100:10:19, 3724.26s/it]"
     ]
    },
    {
     "name": "stdout",
     "output_type": "stream",
     "text": [
      "LB -11.774375039190788\n"
     ]
    },
    {
     "name": "stderr",
     "output_type": "stream",
     "text": [
      "  1%|▏         | 71/5000 [102:21:07<5000:30:27, 3652.23s/it]"
     ]
    },
    {
     "name": "stdout",
     "output_type": "stream",
     "text": [
      "LB -11.89891534888617\n"
     ]
    },
    {
     "name": "stderr",
     "output_type": "stream",
     "text": [
      "  1%|▏         | 72/5000 [103:03:38<4547:19:33, 3321.91s/it]"
     ]
    },
    {
     "name": "stdout",
     "output_type": "stream",
     "text": [
      "LB -11.862341972060365\n"
     ]
    },
    {
     "name": "stderr",
     "output_type": "stream",
     "text": [
      "  1%|▏         | 73/5000 [103:42:50<4148:09:04, 3030.92s/it]"
     ]
    },
    {
     "name": "stdout",
     "output_type": "stream",
     "text": [
      "LB -11.733963819725341\n"
     ]
    },
    {
     "name": "stderr",
     "output_type": "stream",
     "text": [
      "  1%|▏         | 74/5000 [104:21:54<3865:21:29, 2824.87s/it]"
     ]
    },
    {
     "name": "stdout",
     "output_type": "stream",
     "text": [
      "LB -11.725543881328512\n"
     ]
    },
    {
     "name": "stderr",
     "output_type": "stream",
     "text": [
      "  2%|▏         | 75/5000 [105:01:03<3669:10:18, 2682.03s/it]"
     ]
    },
    {
     "name": "stdout",
     "output_type": "stream",
     "text": [
      "LB -11.603435800246904\n"
     ]
    },
    {
     "name": "stderr",
     "output_type": "stream",
     "text": [
      "  2%|▏         | 76/5000 [105:39:57<3525:51:51, 2577.80s/it]"
     ]
    },
    {
     "name": "stdout",
     "output_type": "stream",
     "text": [
      "LB -11.604041505736143\n"
     ]
    },
    {
     "name": "stderr",
     "output_type": "stream",
     "text": [
      "  2%|▏         | 77/5000 [106:24:38<3567:17:13, 2608.62s/it]"
     ]
    },
    {
     "name": "stdout",
     "output_type": "stream",
     "text": [
      "LB -11.801539790049246\n"
     ]
    },
    {
     "name": "stderr",
     "output_type": "stream",
     "text": [
      "  2%|▏         | 78/5000 [107:03:54<3462:56:06, 2532.83s/it]"
     ]
    },
    {
     "name": "stdout",
     "output_type": "stream",
     "text": [
      "LB -11.646032451559046\n"
     ]
    },
    {
     "name": "stderr",
     "output_type": "stream",
     "text": [
      "  2%|▏         | 79/5000 [107:42:57<3384:31:47, 2475.98s/it]"
     ]
    },
    {
     "name": "stdout",
     "output_type": "stream",
     "text": [
      "LB -11.660097664929832\n"
     ]
    },
    {
     "name": "stderr",
     "output_type": "stream",
     "text": [
      "  2%|▏         | 80/5000 [108:22:23<3338:30:25, 2442.81s/it]"
     ]
    },
    {
     "name": "stdout",
     "output_type": "stream",
     "text": [
      "LB -11.639376858438718\n"
     ]
    },
    {
     "name": "stderr",
     "output_type": "stream",
     "text": [
      "  2%|▏         | 81/5000 [109:01:17<3293:20:59, 2410.26s/it]"
     ]
    },
    {
     "name": "stdout",
     "output_type": "stream",
     "text": [
      "LB -11.680952551455682\n"
     ]
    },
    {
     "name": "stderr",
     "output_type": "stream",
     "text": [
      "  2%|▏         | 82/5000 [109:40:22<3265:54:06, 2390.66s/it]"
     ]
    },
    {
     "name": "stdout",
     "output_type": "stream",
     "text": [
      "LB -11.592903355158548\n"
     ]
    },
    {
     "name": "stderr",
     "output_type": "stream",
     "text": [
      "  2%|▏         | 83/5000 [110:19:23<3244:47:23, 2375.69s/it]"
     ]
    },
    {
     "name": "stdout",
     "output_type": "stream",
     "text": [
      "LB -11.710147974067509\n"
     ]
    },
    {
     "name": "stderr",
     "output_type": "stream",
     "text": [
      "  2%|▏         | 84/5000 [110:58:50<3240:44:08, 2373.20s/it]"
     ]
    },
    {
     "name": "stdout",
     "output_type": "stream",
     "text": [
      "LB -11.68709798493522\n"
     ]
    },
    {
     "name": "stderr",
     "output_type": "stream",
     "text": [
      "  2%|▏         | 85/5000 [111:38:11<3235:04:06, 2369.53s/it]"
     ]
    },
    {
     "name": "stdout",
     "output_type": "stream",
     "text": [
      "LB -11.661413956874062\n"
     ]
    },
    {
     "name": "stderr",
     "output_type": "stream",
     "text": [
      "  2%|▏         | 86/5000 [112:17:15<3223:51:27, 2361.80s/it]"
     ]
    },
    {
     "name": "stdout",
     "output_type": "stream",
     "text": [
      "LB -11.641148907316072\n"
     ]
    },
    {
     "name": "stderr",
     "output_type": "stream",
     "text": [
      "  2%|▏         | 87/5000 [112:56:30<3220:23:21, 2359.74s/it]"
     ]
    },
    {
     "name": "stdout",
     "output_type": "stream",
     "text": [
      "LB -11.610336310430005\n"
     ]
    },
    {
     "name": "stderr",
     "output_type": "stream",
     "text": [
      "  2%|▏         | 88/5000 [113:35:35<3213:55:38, 2355.48s/it]"
     ]
    },
    {
     "name": "stdout",
     "output_type": "stream",
     "text": [
      "LB -11.646387138426235\n"
     ]
    },
    {
     "name": "stderr",
     "output_type": "stream",
     "text": [
      "  2%|▏         | 89/5000 [114:15:09<3220:39:08, 2360.89s/it]"
     ]
    },
    {
     "name": "stdout",
     "output_type": "stream",
     "text": [
      "LB -11.673709919924033\n"
     ]
    },
    {
     "name": "stderr",
     "output_type": "stream",
     "text": [
      "  2%|▏         | 90/5000 [114:54:04<3209:28:18, 2353.18s/it]"
     ]
    },
    {
     "name": "stdout",
     "output_type": "stream",
     "text": [
      "LB -11.618677203081972\n"
     ]
    },
    {
     "name": "stderr",
     "output_type": "stream",
     "text": [
      "  2%|▏         | 91/5000 [115:33:10<3205:59:45, 2351.11s/it]"
     ]
    },
    {
     "name": "stdout",
     "output_type": "stream",
     "text": [
      "LB -11.839727760646133\n"
     ]
    },
    {
     "name": "stderr",
     "output_type": "stream",
     "text": [
      "  2%|▏         | 92/5000 [116:12:26<3207:22:02, 2352.59s/it]"
     ]
    },
    {
     "name": "stdout",
     "output_type": "stream",
     "text": [
      "LB -11.64013061053286\n"
     ]
    },
    {
     "name": "stderr",
     "output_type": "stream",
     "text": [
      "  2%|▏         | 93/5000 [116:51:33<3204:19:12, 2350.84s/it]"
     ]
    },
    {
     "name": "stdout",
     "output_type": "stream",
     "text": [
      "LB -11.571601518978836\n"
     ]
    },
    {
     "name": "stderr",
     "output_type": "stream",
     "text": [
      "  2%|▏         | 94/5000 [117:31:09<3213:55:37, 2358.36s/it]"
     ]
    },
    {
     "name": "stdout",
     "output_type": "stream",
     "text": [
      "LB -11.610902899088392\n"
     ]
    },
    {
     "name": "stderr",
     "output_type": "stream",
     "text": [
      "  2%|▏         | 95/5000 [118:10:07<3205:05:38, 2352.36s/it]"
     ]
    },
    {
     "name": "stdout",
     "output_type": "stream",
     "text": [
      "LB -11.547866761880854\n"
     ]
    },
    {
     "name": "stderr",
     "output_type": "stream",
     "text": [
      "  2%|▏         | 96/5000 [118:48:58<3195:36:47, 2345.88s/it]"
     ]
    },
    {
     "name": "stdout",
     "output_type": "stream",
     "text": [
      "LB -11.610949131550626\n"
     ]
    },
    {
     "name": "stderr",
     "output_type": "stream",
     "text": [
      "  2%|▏         | 97/5000 [119:28:08<3196:44:06, 2347.18s/it]"
     ]
    },
    {
     "name": "stdout",
     "output_type": "stream",
     "text": [
      "LB -11.59745260061746\n"
     ]
    },
    {
     "name": "stderr",
     "output_type": "stream",
     "text": [
      "  2%|▏         | 98/5000 [120:08:23<3223:53:55, 2367.61s/it]"
     ]
    },
    {
     "name": "stdout",
     "output_type": "stream",
     "text": [
      "LB -11.652765313681316\n"
     ]
    },
    {
     "name": "stderr",
     "output_type": "stream",
     "text": [
      "  2%|▏         | 99/5000 [120:47:20<3210:38:34, 2358.36s/it]"
     ]
    },
    {
     "name": "stdout",
     "output_type": "stream",
     "text": [
      "LB -11.546041991447316\n"
     ]
    },
    {
     "name": "stderr",
     "output_type": "stream",
     "text": [
      "  2%|▏         | 100/5000 [121:26:52<3215:24:37, 2362.34s/it]"
     ]
    },
    {
     "name": "stdout",
     "output_type": "stream",
     "text": [
      "LB -11.615017354212116\n"
     ]
    },
    {
     "name": "stderr",
     "output_type": "stream",
     "text": [
      "  2%|▏         | 101/5000 [122:05:57<3207:47:45, 2357.23s/it]"
     ]
    },
    {
     "name": "stdout",
     "output_type": "stream",
     "text": [
      "LB Smoothed -12.217034162345756\n"
     ]
    },
    {
     "name": "stderr",
     "output_type": "stream",
     "text": [
      "  2%|▏         | 102/5000 [122:45:04<3202:55:03, 2354.12s/it]"
     ]
    },
    {
     "name": "stdout",
     "output_type": "stream",
     "text": [
      "LB Smoothed -12.186782816838212\n"
     ]
    },
    {
     "name": "stderr",
     "output_type": "stream",
     "text": [
      "  2%|▏         | 103/5000 [123:24:40<3211:17:28, 2360.76s/it]"
     ]
    },
    {
     "name": "stdout",
     "output_type": "stream",
     "text": [
      "LB Smoothed -12.156645616347893\n"
     ]
    },
    {
     "name": "stderr",
     "output_type": "stream",
     "text": [
      "  2%|▏         | 104/5000 [124:03:42<3202:52:53, 2355.06s/it]"
     ]
    },
    {
     "name": "stdout",
     "output_type": "stream",
     "text": [
      "LB Smoothed -12.128401850488281\n"
     ]
    },
    {
     "name": "stderr",
     "output_type": "stream",
     "text": [
      "  2%|▏         | 105/5000 [124:42:44<3196:53:10, 2351.13s/it]"
     ]
    },
    {
     "name": "stdout",
     "output_type": "stream",
     "text": [
      "LB Smoothed -12.103889618574796\n"
     ]
    },
    {
     "name": "stderr",
     "output_type": "stream",
     "text": [
      "  2%|▏         | 106/5000 [125:21:52<3194:59:43, 2350.22s/it]"
     ]
    },
    {
     "name": "stdout",
     "output_type": "stream",
     "text": [
      "LB Smoothed -12.079750080430774\n"
     ]
    },
    {
     "name": "stderr",
     "output_type": "stream",
     "text": [
      "  2%|▏         | 107/5000 [126:01:26<3204:00:37, 2357.33s/it]"
     ]
    },
    {
     "name": "stdout",
     "output_type": "stream",
     "text": [
      "LB Smoothed -12.056413049576854\n"
     ]
    },
    {
     "name": "stderr",
     "output_type": "stream",
     "text": [
      "  2%|▏         | 108/5000 [126:40:42<3202:40:42, 2356.84s/it]"
     ]
    },
    {
     "name": "stdout",
     "output_type": "stream",
     "text": [
      "LB Smoothed -12.034452389951992\n"
     ]
    },
    {
     "name": "stderr",
     "output_type": "stream",
     "text": [
      "  2%|▏         | 109/5000 [127:19:46<3196:56:03, 2353.09s/it]"
     ]
    },
    {
     "name": "stdout",
     "output_type": "stream",
     "text": [
      "LB Smoothed -12.014437953861794\n"
     ]
    },
    {
     "name": "stderr",
     "output_type": "stream",
     "text": [
      "  2%|▏         | 110/5000 [127:58:43<3189:35:48, 2348.17s/it]"
     ]
    },
    {
     "name": "stdout",
     "output_type": "stream",
     "text": [
      "LB Smoothed -11.991999195458419\n"
     ]
    },
    {
     "name": "stderr",
     "output_type": "stream",
     "text": [
      "  2%|▏         | 111/5000 [128:37:39<3183:54:24, 2344.46s/it]"
     ]
    },
    {
     "name": "stdout",
     "output_type": "stream",
     "text": [
      "LB Smoothed -11.972376714078461\n"
     ]
    },
    {
     "name": "stderr",
     "output_type": "stream",
     "text": [
      "  2%|▏         | 112/5000 [129:27:05<3436:32:40, 2531.01s/it]"
     ]
    },
    {
     "name": "stdout",
     "output_type": "stream",
     "text": [
      "LB Smoothed -11.955633175542248\n"
     ]
    },
    {
     "name": "stderr",
     "output_type": "stream",
     "text": [
      "  2%|▏         | 113/5000 [130:09:42<3446:31:00, 2538.87s/it]"
     ]
    },
    {
     "name": "stdout",
     "output_type": "stream",
     "text": [
      "LB Smoothed -11.9361455721638\n"
     ]
    },
    {
     "name": "stderr",
     "output_type": "stream",
     "text": [
      "  2%|▏         | 114/5000 [130:48:57<3370:59:09, 2483.74s/it]"
     ]
    },
    {
     "name": "stdout",
     "output_type": "stream",
     "text": [
      "LB Smoothed -11.92190510740294\n"
     ]
    },
    {
     "name": "stderr",
     "output_type": "stream",
     "text": [
      "  2%|▏         | 115/5000 [131:28:25<3323:11:50, 2449.03s/it]"
     ]
    },
    {
     "name": "stdout",
     "output_type": "stream",
     "text": [
      "LB Smoothed -11.90447607716959\n"
     ]
    },
    {
     "name": "stderr",
     "output_type": "stream",
     "text": [
      "  2%|▏         | 116/5000 [132:07:40<3284:01:16, 2420.65s/it]"
     ]
    },
    {
     "name": "stdout",
     "output_type": "stream",
     "text": [
      "LB Smoothed -11.889107396413152\n"
     ]
    },
    {
     "name": "stderr",
     "output_type": "stream",
     "text": [
      "  2%|▏         | 117/5000 [132:46:54<3256:25:50, 2400.81s/it]"
     ]
    },
    {
     "name": "stdout",
     "output_type": "stream",
     "text": [
      "LB Smoothed -11.875306868504587\n"
     ]
    },
    {
     "name": "stderr",
     "output_type": "stream",
     "text": [
      "  2%|▏         | 118/5000 [133:26:03<3234:47:19, 2385.34s/it]"
     ]
    },
    {
     "name": "stdout",
     "output_type": "stream",
     "text": [
      "LB Smoothed -11.862706911758451\n"
     ]
    },
    {
     "name": "stderr",
     "output_type": "stream",
     "text": [
      "  2%|▏         | 119/5000 [134:11:12<3365:43:40, 2482.41s/it]"
     ]
    },
    {
     "name": "stdout",
     "output_type": "stream",
     "text": [
      "LB Smoothed -11.85091117051029\n"
     ]
    },
    {
     "name": "stderr",
     "output_type": "stream",
     "text": [
      "  2%|▏         | 120/5000 [134:50:14<3307:54:29, 2440.26s/it]"
     ]
    },
    {
     "name": "stdout",
     "output_type": "stream",
     "text": [
      "LB Smoothed -11.839324304561872\n"
     ]
    },
    {
     "name": "stderr",
     "output_type": "stream",
     "text": [
      "  2%|▏         | 121/5000 [135:29:17<3267:30:13, 2410.95s/it]"
     ]
    },
    {
     "name": "stdout",
     "output_type": "stream",
     "text": [
      "LB Smoothed -11.829328253020515\n"
     ]
    },
    {
     "name": "stderr",
     "output_type": "stream",
     "text": [
      "  2%|▏         | 122/5000 [136:08:52<3252:30:00, 2400.37s/it]"
     ]
    },
    {
     "name": "stdout",
     "output_type": "stream",
     "text": [
      "LB Smoothed -11.818133978102354\n"
     ]
    },
    {
     "name": "stderr",
     "output_type": "stream",
     "text": [
      "  2%|▏         | 123/5000 [136:48:10<3234:25:52, 2387.52s/it]"
     ]
    },
    {
     "name": "stdout",
     "output_type": "stream",
     "text": [
      "LB Smoothed -11.806785330610095\n"
     ]
    },
    {
     "name": "stderr",
     "output_type": "stream",
     "text": [
      "  2%|▏         | 124/5000 [137:27:16<3217:02:24, 2375.17s/it]"
     ]
    },
    {
     "name": "stdout",
     "output_type": "stream",
     "text": [
      "LB Smoothed -11.79647698192752\n"
     ]
    },
    {
     "name": "stderr",
     "output_type": "stream",
     "text": [
      "  2%|▎         | 125/5000 [138:06:18<3202:41:40, 2365.07s/it]"
     ]
    },
    {
     "name": "stdout",
     "output_type": "stream",
     "text": [
      "LB Smoothed -11.787261810251149\n"
     ]
    },
    {
     "name": "stderr",
     "output_type": "stream",
     "text": [
      "  3%|▎         | 126/5000 [139:01:21<3582:54:28, 2646.38s/it]"
     ]
    },
    {
     "name": "stdout",
     "output_type": "stream",
     "text": [
      "LB Smoothed -11.779072463015828\n"
     ]
    },
    {
     "name": "stderr",
     "output_type": "stream",
     "text": [
      "  3%|▎         | 127/5000 [141:08:14<5599:22:14, 4136.62s/it]"
     ]
    },
    {
     "name": "stdout",
     "output_type": "stream",
     "text": [
      "LB Smoothed -11.769214564386779\n"
     ]
    },
    {
     "name": "stderr",
     "output_type": "stream",
     "text": [
      "  3%|▎         | 128/5000 [143:17:53<7076:50:40, 5229.20s/it]"
     ]
    },
    {
     "name": "stdout",
     "output_type": "stream",
     "text": [
      "LB Smoothed -11.761556938699373\n"
     ]
    },
    {
     "name": "stderr",
     "output_type": "stream",
     "text": [
      "  3%|▎         | 129/5000 [145:24:54<8046:20:41, 5946.80s/it]"
     ]
    },
    {
     "name": "stdout",
     "output_type": "stream",
     "text": [
      "LB Smoothed -11.750778557986777\n"
     ]
    },
    {
     "name": "stderr",
     "output_type": "stream",
     "text": [
      "  3%|▎         | 130/5000 [147:01:22<7979:59:51, 5898.97s/it]"
     ]
    },
    {
     "name": "stdout",
     "output_type": "stream",
     "text": [
      "LB Smoothed -11.741594514264472\n"
     ]
    },
    {
     "name": "stderr",
     "output_type": "stream",
     "text": [
      "  3%|▎         | 131/5000 [148:34:41<7856:52:21, 5809.15s/it]"
     ]
    },
    {
     "name": "stdout",
     "output_type": "stream",
     "text": [
      "LB Smoothed -11.729570509172742\n"
     ]
    },
    {
     "name": "stderr",
     "output_type": "stream",
     "text": [
      "  3%|▎         | 132/5000 [150:02:37<7639:05:40, 5649.29s/it]"
     ]
    },
    {
     "name": "stdout",
     "output_type": "stream",
     "text": [
      "LB Smoothed -11.720452671165349\n"
     ]
    },
    {
     "name": "stderr",
     "output_type": "stream",
     "text": [
      "  3%|▎         | 133/5000 [151:34:38<7585:21:33, 5610.70s/it]"
     ]
    },
    {
     "name": "stdout",
     "output_type": "stream",
     "text": [
      "LB Smoothed -11.711965850258782\n"
     ]
    },
    {
     "name": "stderr",
     "output_type": "stream",
     "text": [
      "  3%|▎         | 134/5000 [153:19:59<7871:37:19, 5823.64s/it]"
     ]
    },
    {
     "name": "stdout",
     "output_type": "stream",
     "text": [
      "LB Smoothed -11.703892434113964\n"
     ]
    },
    {
     "name": "stderr",
     "output_type": "stream",
     "text": [
      "  3%|▎         | 135/5000 [155:41:29<8951:15:42, 6623.75s/it]"
     ]
    },
    {
     "name": "stdout",
     "output_type": "stream",
     "text": [
      "LB Smoothed -11.695127518247622\n"
     ]
    },
    {
     "name": "stderr",
     "output_type": "stream",
     "text": [
      "  3%|▎         | 136/5000 [157:45:42<9285:17:20, 6872.34s/it]"
     ]
    },
    {
     "name": "stdout",
     "output_type": "stream",
     "text": [
      "LB Smoothed -11.686559629078241\n"
     ]
    },
    {
     "name": "stderr",
     "output_type": "stream",
     "text": [
      "  3%|▎         | 137/5000 [159:49:30<9508:42:50, 7039.15s/it]"
     ]
    },
    {
     "name": "stdout",
     "output_type": "stream",
     "text": [
      "LB Smoothed -11.675475922102914\n"
     ]
    },
    {
     "name": "stderr",
     "output_type": "stream",
     "text": [
      "  3%|▎         | 138/5000 [161:53:01<9657:21:45, 7150.66s/it]"
     ]
    },
    {
     "name": "stdout",
     "output_type": "stream",
     "text": [
      "LB Smoothed -11.6666263418288\n"
     ]
    },
    {
     "name": "stderr",
     "output_type": "stream",
     "text": [
      "  3%|▎         | 139/5000 [165:16:56<11715:12:43, 8676.15s/it]"
     ]
    },
    {
     "name": "stdout",
     "output_type": "stream",
     "text": [
      "LB Smoothed -11.658664191588548\n"
     ]
    },
    {
     "name": "stderr",
     "output_type": "stream",
     "text": [
      "  3%|▎         | 140/5000 [167:13:01<11019:26:57, 8162.56s/it]"
     ]
    },
    {
     "name": "stdout",
     "output_type": "stream",
     "text": [
      "LB Smoothed -11.65020934527338\n"
     ]
    },
    {
     "name": "stderr",
     "output_type": "stream",
     "text": [
      "  3%|▎         | 141/5000 [169:45:59<11428:37:14, 8467.39s/it]"
     ]
    },
    {
     "name": "stdout",
     "output_type": "stream",
     "text": [
      "LB Smoothed -11.641766772414625\n"
     ]
    },
    {
     "name": "stderr",
     "output_type": "stream",
     "text": [
      "  3%|▎         | 142/5000 [175:32:34<16416:57:44, 12165.72s/it]"
     ]
    },
    {
     "name": "stdout",
     "output_type": "stream",
     "text": [
      "LB Smoothed -11.632278638578628\n"
     ]
    },
    {
     "name": "stderr",
     "output_type": "stream",
     "text": [
      "  3%|▎         | 143/5000 [177:50:54<14848:55:32, 11006.00s/it]"
     ]
    },
    {
     "name": "stdout",
     "output_type": "stream",
     "text": [
      "LB Smoothed -11.623229683974747\n"
     ]
    }
   ],
   "source": [
    "vb = GVB(400, transformed_summary_statistics[0], 0.005, 2500, 100, 0.9, 0.9, 100, 100)\n",
    "LB_estimate, smoothed_LB_estimate, best_lambda = vb.vb_posterior(stop)"
   ]
  },
  {
   "cell_type": "code",
   "execution_count": null,
   "metadata": {},
   "outputs": [],
   "source": [
    "LB_estimate"
   ]
  },
  {
   "cell_type": "code",
   "execution_count": null,
   "metadata": {},
   "outputs": [],
   "source": [
    "best_lambda"
   ]
  },
  {
   "cell_type": "markdown",
   "metadata": {},
   "source": [
    "## PLOT DENSITY PLOT OF ALL COEFFS\n"
   ]
  },
  {
   "cell_type": "code",
   "execution_count": null,
   "metadata": {},
   "outputs": [],
   "source": [
    "lb_df = pd.DataFrame(np.array(LB_estimate))\n",
    "plt.figure()\n",
    "lb_df.plot(title = 'Lower Bound Estimate', legend = False)"
   ]
  },
  {
   "cell_type": "code",
   "execution_count": null,
   "metadata": {},
   "outputs": [],
   "source": [
    "lb_df = pd.DataFrame(np.array(smoothed_LB_estimate))\n",
    "plt.figure()\n",
    "lb_df.plot(title = 'Smoothed Lower Bound Estimate', legend = False)"
   ]
  },
  {
   "cell_type": "code",
   "execution_count": null,
   "metadata": {},
   "outputs": [],
   "source": [
    "np.savetxt('vb_lb_varobust_wasserstein.txt', LB_estimate)"
   ]
  },
  {
   "cell_type": "code",
   "execution_count": null,
   "metadata": {},
   "outputs": [],
   "source": [
    "best_mu = best_lambda[0]\n",
    "best_vech_l = list(best_lambda[1])\n",
    "best_l = np.zeros((num_coeffs, num_coeffs))\n",
    "for i in range(num_coeffs):\n",
    "    best_l[i:num_coeffs,i] = best_vech_l[:num_coeffs - i]\n",
    "    del best_vech_l[:num_coeffs-i]\n",
    "best_Sigma_inv = best_l @ best_l.T\n",
    "best_Sigma =  np.linalg.inv(best_Sigma_inv)\n",
    "\n",
    "best_theta_tilde = multivariate_normal.rvs(mean = best_mu, cov = best_Sigma, size = 1000)\n",
    "best_alpha = (2 * np.exp(best_theta_tilde[:,0]) + 1.1) / (1 + np.exp(best_theta_tilde[:,0]))\n",
    "best_beta = (np.exp(best_theta_tilde[:,1]) - 1) / (np.exp(best_theta_tilde[:,1]) + 1)\n",
    "best_gamma = np.exp(best_theta_tilde[:,2])\n",
    "best_delta = best_theta_tilde[:,3]\n",
    "best_theta = np.array([best_alpha, best_beta, best_gamma, best_delta])\n",
    "posterior_mean_estimate = np.mean(best_theta, axis = 1)\n",
    "posterior_mean_estimate"
   ]
  },
  {
   "cell_type": "code",
   "execution_count": null,
   "metadata": {},
   "outputs": [],
   "source": [
    "plt.figure()\n",
    "x_plot = np.arange((np.mean(best_alpha)-4*np.std(best_alpha)), (np.mean(best_alpha)+4*np.std(best_alpha)), 0.002)\n",
    "kde = KernelDensity(bandwidth=0.01, kernel='gaussian')\n",
    "kde.fit(best_alpha.reshape(-1, 1))\n",
    "y_plot = kde.score_samples(x_plot.reshape(-1, 1))\n",
    "plt.plot(x_plot, np.exp(y_plot), '-', linewidth=2.0)\n",
    "plt.xlabel(r'$\\alpha$')\n",
    "plt.title('Posterior density of alpha')"
   ]
  },
  {
   "cell_type": "code",
   "execution_count": null,
   "metadata": {},
   "outputs": [],
   "source": [
    "plt.figure()\n",
    "x_plot = np.arange((np.mean(best_beta)-4*np.std(best_beta)), (np.mean(best_beta)+4*np.std(best_beta)), 0.002)\n",
    "kde = KernelDensity(bandwidth=0.1, kernel='gaussian')\n",
    "kde.fit(best_beta.reshape(-1, 1))\n",
    "y_plot = kde.score_samples(x_plot.reshape(-1, 1))\n",
    "plt.plot(x_plot, np.exp(y_plot), '-', linewidth=2.0)\n",
    "plt.xlabel(r'$\\beta$')\n",
    "plt.title('Posterior density of beta')"
   ]
  },
  {
   "cell_type": "code",
   "execution_count": null,
   "metadata": {},
   "outputs": [],
   "source": [
    "plt.figure()\n",
    "x_plot = np.arange((np.mean(best_gamma)-4*np.std(best_gamma)), (np.mean(best_gamma)+4*np.std(best_gamma)), 0.002)\n",
    "kde = KernelDensity(bandwidth=0.05, kernel='gaussian')\n",
    "kde.fit(best_gamma.reshape(-1, 1))\n",
    "y_plot = kde.score_samples(x_plot.reshape(-1, 1))\n",
    "plt.plot(x_plot, np.exp(y_plot), '-', linewidth=2.0)\n",
    "plt.xlabel(r'$\\gamma$')\n",
    "plt.title('Posterior density of gamma')"
   ]
  },
  {
   "cell_type": "code",
   "execution_count": null,
   "metadata": {},
   "outputs": [],
   "source": [
    "plt.figure()\n",
    "x_plot = np.arange((np.mean(best_delta)-4*np.std(best_delta)), (np.mean(best_delta)+4*np.std(best_delta)), 0.002)\n",
    "kde = KernelDensity(bandwidth=0.05, kernel='gaussian')\n",
    "kde.fit(best_delta.reshape(-1, 1))\n",
    "y_plot = kde.score_samples(x_plot.reshape(-1, 1))\n",
    "plt.plot(x_plot, np.exp(y_plot), '-', linewidth=1.5)\n",
    "plt.xlabel(r'$\\delta$')\n",
    "plt.title('Posterior density of delta')"
   ]
  },
  {
   "cell_type": "markdown",
   "metadata": {},
   "source": [
    "## RUN MCMC WITH ADAPTIVE RANDOM WALK"
   ]
  },
  {
   "cell_type": "code",
   "execution_count": null,
   "metadata": {},
   "outputs": [],
   "source": [
    "num_samples = 50000\n",
    "num_burnin = 0.2 * num_samples"
   ]
  },
  {
   "cell_type": "code",
   "execution_count": null,
   "metadata": {},
   "outputs": [],
   "source": [
    "def sampler(samples):\n",
    "\n",
    "\t# ------------------- initialize MCMC\n",
    "\n",
    "\tw_size = num_coeffs  # num of weights and bias\n",
    "\n",
    "\tpos_w = np.ones((samples, w_size))  # posterior of all weights and bias over all samples\n",
    "\tpos_w_tilde = np.ones((samples, w_size))\n",
    "\n",
    "\tw_tilde = np.array([np.log((1.5-1.1)/(2-1.5)),np.log((0.5+1)/(1-0.5)),np.log(1),0])\n",
    "\t# w_tilde = [np.log((actual_summary_statistics[0]-1.1)/(2-actual_summary_statistics[0])), np.log((1+actual_summary_statistics[1])/(1-actual_summary_statistics[1])), np.log(actual_summary_statistics[2]), actual_summary_statistics[3]]\n",
    "\n",
    "\talpha = (2 * np.exp(w_tilde[0]) + 1.1) / (1 + np.exp(w_tilde[0]))\n",
    "\tbeta = (np.exp(w_tilde[1]) - 1) / (np.exp(w_tilde[1]) + 1)\n",
    "\tgamma = np.exp(w_tilde[2])\n",
    "\tdelta = w_tilde[3]\n",
    "\tw = np.array([alpha, beta, gamma, delta])\n",
    "\n",
    "\t# GENERATE GAMMA\n",
    "\tGamma_init = np.random.exponential(scale = 0.5, size = (gamma_samples, num_latent))\n",
    "\tadjusted_w = np.concatenate((np.tile(w, (gamma_samples, 1)), Gamma_init), axis = 1)\n",
    "\t# --------------------- \n",
    "\n",
    "\tprior_current = prior(w_tilde)  # takes care of the gradients\n",
    "\n",
    "\tlikelihood_current = variance_adjustment_unbiased_log_likelihood(adjusted_w)\n",
    "\n",
    "\tnaccept = 0\n",
    "\t\t\n",
    "\tfor i in range(samples - 1):\n",
    "\t\tif i < 2000:\n",
    "\t\t\tw_proposal_tilde = multivariate_normal.rvs(mean = w_tilde, cov = ((0.1**2/w_size) * np.identity(w_size)))\n",
    "\t\telse:\n",
    "\t\t\tif i % 500 == 0:\n",
    "\t\t\t\tSign = np.cov(pos_w_tilde[0:i, :].T)\n",
    "\t\t\tu_proposal = random.uniform(0, 1)\n",
    "\t\t\tif u_proposal < 0.05:\n",
    "\t\t\t\tw_proposal_tilde = multivariate_normal.rvs(mean = w_tilde, cov = ((0.1**2/w_size) * np.identity(w_size)))\n",
    "\t\t\telse:\n",
    "\t\t\t\tw_proposal_tilde = multivariate_normal.rvs(mean = w_tilde, cov = (2.38**2/w_size) * Sign)\n",
    "\n",
    "\t\talpha_prop = (2 * np.exp(w_proposal_tilde[0]) + 1.1) / (1 + np.exp(w_proposal_tilde[0]))\n",
    "\t\tbeta_prop = (np.exp(w_proposal_tilde[1]) - 1) / (np.exp(w_proposal_tilde[1]) + 1)\n",
    "\t\tgamma_prop = np.exp(w_proposal_tilde[2])\n",
    "\t\tdelta_prop = w_proposal_tilde[3]\n",
    "\t\tw_proposal = np.array([alpha_prop, beta_prop, gamma_prop, delta_prop])\n",
    "\n",
    "\t\t# GENERATE GAMMA\n",
    "\t\tGamma = np.random.exponential(scale = 0.5, size = (gamma_samples, num_latent))\n",
    "\t\tadjusted_w_proposal = np.concatenate((np.tile(w_proposal, (gamma_samples, 1)), Gamma), axis = 1)\n",
    "\t\t# --------------------- \n",
    "\n",
    "\t\tprior_proposal = prior(w_proposal_tilde)  # takes care of the gradients\n",
    "\t\tlikelihood_proposal = variance_adjustment_unbiased_log_likelihood(adjusted_w_proposal)\n",
    "\n",
    "\t\tdiff_prior = prior_proposal - prior_current\n",
    "\n",
    "\t\tdiff_likelihood = likelihood_proposal - likelihood_current\n",
    "\n",
    "\t\ttry:\n",
    "\t\t\tmh_prob = min(1, math.exp(diff_likelihood+diff_prior))\n",
    "\n",
    "\t\texcept OverflowError as e:\n",
    "\t\t\tmh_prob = 1\n",
    "\n",
    "\n",
    "\t\tu = random.uniform(0, 1)\n",
    "\n",
    "\t\tif u < mh_prob:\n",
    "\t\t\t# Update position \n",
    "\t\t\tnaccept += 1\n",
    "\t\t\tlikelihood_current = likelihood_proposal\n",
    "\t\t\tprior_current = prior_proposal\n",
    "\t\t\tw_tilde = w_proposal_tilde\n",
    "\t\t\tw = w_proposal\n",
    "\t\t\tpos_w_tilde[i + 1,] = w_proposal_tilde\t\n",
    "\t\t\tpos_w[i + 1,] = w_proposal\n",
    "\t\t\tprint(i, pos_w[i + 1,])\n",
    "\n",
    "\t\telse:\n",
    "\t\t\tpos_w_tilde[i + 1,] = pos_w_tilde[i,]\n",
    "\t\t\tpos_w[i + 1,] = pos_w[i,]\n",
    "\n",
    "\tprint(naccept, ' num accepted')\n",
    "\tprint(naccept / (samples * 1.0) * 100, '% was accepted')\n",
    "\taccept_ratio = naccept / (samples * 1.0) * 100\n",
    "\n",
    "\treturn (pos_w, pos_w_tilde, accept_ratio)"
   ]
  },
  {
   "cell_type": "code",
   "execution_count": null,
   "metadata": {},
   "outputs": [],
   "source": [
    "pos_w, pos_w_tilde, accept_ratio = sampler(num_samples)"
   ]
  },
  {
   "cell_type": "code",
   "execution_count": null,
   "metadata": {},
   "outputs": [],
   "source": [
    "pos_w = np.loadtxt('mcmc_w_varobust.txt')\n",
    "pos_w_tilde = np.loadtxt('mcmc_w_tilde_varobust.txt')"
   ]
  },
  {
   "cell_type": "code",
   "execution_count": null,
   "metadata": {},
   "outputs": [],
   "source": [
    "plt.figure()\n",
    "pos_alpha_mean = np.mean(pos_w[int(num_burnin):,0])\n",
    "pos_alpha_std = np.std(pos_w[int(num_burnin):,0])\n",
    "x_plot = np.arange((pos_alpha_mean-4*pos_alpha_std), (pos_alpha_mean+4*pos_alpha_std), 0.001)\n",
    "kde = KernelDensity(bandwidth=0.1, kernel='gaussian')\n",
    "kde.fit(pos_w[int(num_burnin):,0].reshape(-1, 1))\n",
    "y_plot = kde.score_samples(x_plot.reshape(-1, 1))\n",
    "plt.plot(x_plot, np.exp(y_plot), '-', linewidth=2.0)\n",
    "plt.xlabel(r'$\\alpha$')\n",
    "plt.title('Posterior density of alpha')"
   ]
  },
  {
   "cell_type": "code",
   "execution_count": null,
   "metadata": {},
   "outputs": [],
   "source": [
    "plt.figure()\n",
    "pos_alpha_mean = np.mean(pos_w[int(num_burnin):,0])\n",
    "pos_alpha_std = np.std(pos_w[int(num_burnin):,0])\n",
    "#x_plot_mcmc = np.arange((pos_alpha_mean-4*pos_alpha_std), (pos_alpha_mean+4*pos_alpha_std), 0.002)\n",
    "x_plot = np.arange(min(pos_alpha_mean-4*pos_alpha_std,np.mean(best_alpha)-4*np.std(best_alpha)), max(pos_alpha_mean+4*pos_alpha_std, np.mean(best_alpha)+4*np.std(best_alpha)), 0.001)\n",
    "kde_mcmc = KernelDensity(bandwidth=0.075, kernel='gaussian')\n",
    "kde_mcmc.fit(pos_w[int(num_burnin):,0].reshape(-1, 1))\n",
    "y_plot_mcmc = kde_mcmc.score_samples(x_plot.reshape(-1, 1))\n",
    "\n",
    "#x_plot_vb = np.arange((np.mean(best_alpha)-4*np.std(best_alpha)), (np.mean(best_alpha)+4*np.std(best_alpha)), 0.002)\n",
    "kde_vb = KernelDensity(bandwidth=0.155, kernel='gaussian')\n",
    "kde_vb.fit(best_alpha.reshape(-1, 1))\n",
    "y_plot_vb = kde_vb.score_samples(x_plot.reshape(-1, 1))\n",
    "\n",
    "plt.plot(x_plot, np.exp(y_plot_mcmc), '-', linewidth=2.0, label = 'MCMC')\n",
    "plt.plot(x_plot, np.exp(y_plot_vb), '-', linewidth=2.0, label = 'VB')\n",
    "\n",
    "plt.legend()\n",
    "plt.xlabel(r'$\\alpha$')\n",
    "plt.title('Posterior density of alpha')\n"
   ]
  },
  {
   "cell_type": "code",
   "execution_count": null,
   "metadata": {},
   "outputs": [],
   "source": [
    "plt.figure()\n",
    "\n",
    "pos_beta_mean = np.mean(pos_w[int(num_burnin):,1])\n",
    "pos_beta_std = np.std(pos_w[int(num_burnin):,1])\n",
    "x_plot = np.arange((pos_beta_mean-4*pos_beta_std), (pos_beta_mean+4*pos_beta_std), 0.001)\n",
    "kde = KernelDensity(bandwidth=0.1, kernel='gaussian')\n",
    "kde.fit(pos_w[int(num_burnin):,1].reshape(-1, 1))\n",
    "y_plot = kde.score_samples(x_plot.reshape(-1, 1))\n",
    "plt.plot(x_plot, np.exp(y_plot), '-', linewidth=2.0)\n",
    "plt.xlabel(r'$\\beta$')\n",
    "plt.title('Posterior density of beta')"
   ]
  },
  {
   "cell_type": "code",
   "execution_count": null,
   "metadata": {},
   "outputs": [],
   "source": [
    "plt.figure()\n",
    "pos_beta_mean = np.mean(pos_w[int(num_burnin):,1])\n",
    "pos_beta_std = np.std(pos_w[int(num_burnin):,1])\n",
    "#x_plot_mcmc = np.arange((pos_alpha_mean-4*pos_alpha_std), (pos_alpha_mean+4*pos_alpha_std), 0.002)\n",
    "x_plot = np.arange(min(pos_beta_mean-4*pos_beta_std,np.mean(best_beta)-4*np.std(best_beta)), max(pos_beta_mean+4*pos_beta_std, np.mean(best_beta)+4*np.std(best_beta)), 0.001)\n",
    "kde_mcmc = KernelDensity(bandwidth=0.1, kernel='gaussian')\n",
    "kde_mcmc.fit(pos_w[int(num_burnin):,1].reshape(-1, 1))\n",
    "y_plot_mcmc = kde_mcmc.score_samples(x_plot.reshape(-1, 1))\n",
    "\n",
    "#x_plot_vb = np.arange((np.mean(best_alpha)-4*np.std(best_alpha)), (np.mean(best_alpha)+4*np.std(best_alpha)), 0.002)\n",
    "kde_vb = KernelDensity(bandwidth=0.35, kernel='gaussian')\n",
    "kde_vb.fit(best_beta.reshape(-1, 1))\n",
    "y_plot_vb = kde_vb.score_samples(x_plot.reshape(-1, 1))\n",
    "\n",
    "plt.plot(x_plot, np.exp(y_plot_mcmc), '-', linewidth=2.0, label = 'MCMC')\n",
    "plt.plot(x_plot, np.exp(y_plot_vb), '-', linewidth=2.0, label = 'VB')\n",
    "\n",
    "plt.legend()\n",
    "plt.xlabel(r'$\\beta$')\n",
    "plt.title('Posterior density of beta')\n"
   ]
  },
  {
   "cell_type": "code",
   "execution_count": null,
   "metadata": {},
   "outputs": [],
   "source": [
    "plt.figure()\n",
    "\n",
    "pos_gamma_mean = np.mean(pos_w[int(num_burnin):,2])\n",
    "pos_gamma_std = np.std(pos_w[int(num_burnin):,2])\n",
    "x_plot = np.arange((pos_gamma_mean-4*pos_gamma_std), (pos_gamma_mean+4*pos_gamma_std), 0.002)\n",
    "kde = KernelDensity(bandwidth=0.02, kernel='gaussian')\n",
    "kde.fit(pos_w[int(num_burnin):,2].reshape(-1, 1))\n",
    "y_plot = kde.score_samples(x_plot.reshape(-1, 1))\n",
    "plt.plot(x_plot, np.exp(y_plot), '-', linewidth=2.0)\n",
    "plt.xlabel(r'$\\gamma$')\n",
    "plt.title('Posterior density of gamma')"
   ]
  },
  {
   "cell_type": "code",
   "execution_count": null,
   "metadata": {},
   "outputs": [],
   "source": [
    "plt.figure()\n",
    "pos_gamma_mean = np.mean(pos_w[int(num_burnin):,2])\n",
    "pos_gamma_std = np.std(pos_w[int(num_burnin):,2])\n",
    "#x_plot_mcmc = np.arange((pos_alpha_mean-4*pos_alpha_std), (pos_alpha_mean+4*pos_alpha_std), 0.002)\n",
    "x_plot = np.arange(min(pos_gamma_mean-4*pos_gamma_std,np.mean(best_gamma)-4*np.std(best_gamma)), max(pos_gamma_mean+4*pos_gamma_std, np.mean(best_gamma)+4*np.std(best_gamma)), 0.001)\n",
    "kde_mcmc = KernelDensity(bandwidth=0.0375, kernel='gaussian')\n",
    "kde_mcmc.fit(pos_w[int(num_burnin):,2].reshape(-1, 1))\n",
    "y_plot_mcmc = kde_mcmc.score_samples(x_plot.reshape(-1, 1))\n",
    "\n",
    "#x_plot_vb = np.arange((np.mean(best_alpha)-4*np.std(best_alpha)), (np.mean(best_alpha)+4*np.std(best_alpha)), 0.002)\n",
    "kde_vb = KernelDensity(bandwidth=0.025, kernel='gaussian')\n",
    "kde_vb.fit(best_gamma.reshape(-1, 1))\n",
    "y_plot_vb = kde_vb.score_samples(x_plot.reshape(-1, 1))\n",
    "\n",
    "plt.plot(x_plot, np.exp(y_plot_mcmc), '-', linewidth=2.0, label = 'MCMC')\n",
    "plt.plot(x_plot, np.exp(y_plot_vb), '-', linewidth=2.0, label = 'VB')\n",
    "\n",
    "plt.legend()\n",
    "plt.xlabel(r'$\\gamma$')\n",
    "plt.title('Posterior density of gamma')\n"
   ]
  },
  {
   "cell_type": "code",
   "execution_count": null,
   "metadata": {},
   "outputs": [],
   "source": [
    "plt.figure()\n",
    "\n",
    "pos_delta_mean = np.mean(pos_w[int(num_burnin):,3])\n",
    "pos_delta_std = np.std(pos_w[int(num_burnin):,3])\n",
    "x_plot = np.arange((pos_delta_mean-4*pos_delta_std), (pos_delta_mean+4*pos_delta_std), 0.002)\n",
    "kde = KernelDensity(bandwidth=0.2, kernel='gaussian')\n",
    "kde.fit(pos_w[int(num_burnin):,3].reshape(-1, 1))\n",
    "y_plot = kde.score_samples(x_plot.reshape(-1, 1))\n",
    "plt.plot(x_plot, np.exp(y_plot), '-', linewidth=2.0)\n",
    "plt.xlabel(r'$\\delta$')\n",
    "plt.title('Posterior density of delta')"
   ]
  },
  {
   "cell_type": "code",
   "execution_count": null,
   "metadata": {},
   "outputs": [],
   "source": [
    "plt.figure()\n",
    "pos_delta_mean = np.mean(pos_w[int(num_burnin):,3])\n",
    "pos_delta_std = np.std(pos_w[int(num_burnin):,3])\n",
    "#x_plot_mcmc = np.arange((pos_alpha_mean-4*pos_alpha_std), (pos_alpha_mean+4*pos_alpha_std), 0.002)\n",
    "x_plot = np.arange(min(pos_delta_mean-4*pos_delta_std,np.mean(best_delta)-4*np.std(best_delta)), max(pos_delta_mean+4*pos_delta_std, np.mean(best_delta)+4*np.std(best_delta)), 0.001)\n",
    "kde_mcmc = KernelDensity(bandwidth=0.1, kernel='gaussian')\n",
    "kde_mcmc.fit(pos_w[int(num_burnin):,3].reshape(-1, 1))\n",
    "y_plot_mcmc = kde_mcmc.score_samples(x_plot.reshape(-1, 1))\n",
    "\n",
    "#x_plot_vb = np.arange((np.mean(best_alpha)-4*np.std(best_alpha)), (np.mean(best_alpha)+4*np.std(best_alpha)), 0.002)\n",
    "kde_vb = KernelDensity(bandwidth=0.25, kernel='gaussian')\n",
    "kde_vb.fit(best_delta.reshape(-1, 1))\n",
    "y_plot_vb = kde_vb.score_samples(x_plot.reshape(-1, 1))\n",
    "\n",
    "plt.plot(x_plot, np.exp(y_plot_mcmc), '-', linewidth=2.0, label = 'MCMC')\n",
    "plt.plot(x_plot, np.exp(y_plot_vb), '-', linewidth=2.0, label = 'VB')\n",
    "\n",
    "plt.legend()\n",
    "plt.xlabel(r'$\\delta$')\n",
    "plt.title('Posterior density of delta')\n"
   ]
  },
  {
   "cell_type": "code",
   "execution_count": null,
   "metadata": {},
   "outputs": [],
   "source": [
    "alpha_trace = pos_w[int(num_burnin):,0]\n",
    "beta_trace = pos_w[int(num_burnin):,1]\n",
    "gamma_trace = pos_w[int(num_burnin):,2]\n",
    "delta_trace = pos_w[int(num_burnin):,3]\n",
    "\n",
    "x = np.arange(len(alpha_trace))\n",
    "plt.figure(facecolor = 'white')\n",
    "plt.plot(x, alpha_trace, label='Alpha')  \n",
    "plt.plot(x, beta_trace, label='Beta')  \n",
    "plt.plot(x, gamma_trace, label='Gamma')  \n",
    "plt.plot(x, delta_trace, label='Delta')  \n",
    "plt.xlabel('Number of samples')\n",
    "plt.ylabel('Theta')\n",
    "plt.legend()\n",
    "plt.title(\"Trace Plot for Theta\")\n",
    "plt.show()"
   ]
  }
 ],
 "metadata": {
  "kernelspec": {
   "display_name": "Python 3.7.11",
   "language": "python",
   "name": "python3"
  },
  "language_info": {
   "codemirror_mode": {
    "name": "ipython",
    "version": 3
   },
   "file_extension": ".py",
   "mimetype": "text/x-python",
   "name": "python",
   "nbconvert_exporter": "python",
   "pygments_lexer": "ipython3",
   "version": "3.7.11"
  },
  "orig_nbformat": 4,
  "vscode": {
   "interpreter": {
    "hash": "d1ea43ab9d17bb559e5232cc1d7d24428339cdd8b586c17a20f76ba563abd60e"
   }
  }
 },
 "nbformat": 4,
 "nbformat_minor": 2
}
