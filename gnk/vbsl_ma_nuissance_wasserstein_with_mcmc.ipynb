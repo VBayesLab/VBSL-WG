{
 "cells": [
  {
   "cell_type": "code",
   "execution_count": 1,
   "metadata": {},
   "outputs": [],
   "source": [
    "import os\n",
    "import matplotlib.pyplot as plt\n",
    "import numpy as np\n",
    "import random\n",
    "import time\n",
    "import math\n",
    "#import numdifftools as nd\n",
    "import pandas as pd\n",
    "#import pymc3 as pm\n",
    "\n",
    "from tqdm import tqdm\n",
    "from sklearn import preprocessing\n",
    "from numpy.linalg import multi_dot\n",
    "import scipy\n",
    "import scipy.stats as ss\n",
    "from scipy.stats import invgamma\n",
    "from scipy.special import gamma\n",
    "from scipy.special import digamma\n",
    "from scipy.stats import multivariate_normal\n",
    "from scipy.stats import norm\n",
    "from scipy.stats import levy_stable\n",
    "from scipy.stats import gaussian_kde\n",
    "from sklearn.neighbors import KernelDensity\n",
    "from sklearn.model_selection import GridSearchCV\n",
    "from sklearn.model_selection import LeaveOneOut\n",
    "import sklearn.mixture\n",
    "\n",
    "import logging\n",
    "import warnings\n",
    "from functools import partial"
   ]
  },
  {
   "cell_type": "code",
   "execution_count": 2,
   "metadata": {},
   "outputs": [],
   "source": [
    "def simulate_gandk(theta, num_samples, c = 0.8):\n",
    "    zu = np.random.randn(num_samples,1)\n",
    "    f = (theta[0] + theta[1] * (1 + c * (1 - np.exp(-theta[2] * zu)) / (1 + np.exp(-theta[2] * zu))) * (1 + zu**2)**theta[3] * zu)\n",
    "    return f\n",
    "\n",
    "def compute_summary_statistics(y):\n",
    "    quant_y = []\n",
    "    for i in np.arange(0.125, 1, 0.125):\n",
    "        quant_y.append(np.quantile(y, i))\n",
    "    Sa = quant_y[3]\n",
    "    Sb = quant_y[5] - quant_y[1]\n",
    "    Sc = (quant_y[5] + quant_y[1] - 2 * quant_y[3]) / Sb\n",
    "    Sd = (quant_y[6] - quant_y[4] + quant_y[2] - quant_y[0]) / Sb\n",
    "    return np.array([Sa, Sb, Sc, Sd])"
   ]
  },
  {
   "cell_type": "code",
   "execution_count": 3,
   "metadata": {},
   "outputs": [],
   "source": [
    "true_theta = np.array([3, 1, 2, 0.5])\n",
    "num_coeffs = 4\n",
    "num_latent = 4\n",
    "num_datasets = 200\n",
    "n_samples = 500"
   ]
  },
  {
   "cell_type": "code",
   "execution_count": 4,
   "metadata": {},
   "outputs": [
    {
     "data": {
      "text/plain": [
       "array([[ 3.18799398],\n",
       "       [ 4.36241851],\n",
       "       [ 4.50881472],\n",
       "       [ 2.3908561 ],\n",
       "       [ 8.85489607],\n",
       "       [ 4.22026576],\n",
       "       [ 2.82820541],\n",
       "       [ 4.84332923],\n",
       "       [ 2.37518878],\n",
       "       [ 3.28546016],\n",
       "       [ 2.98149124],\n",
       "       [ 2.90626708],\n",
       "       [ 2.76859544],\n",
       "       [ 9.5016222 ],\n",
       "       [12.57952534],\n",
       "       [ 3.24393443],\n",
       "       [ 3.44436586],\n",
       "       [ 4.00182231],\n",
       "       [ 2.7734596 ],\n",
       "       [ 6.93721419],\n",
       "       [ 4.51155113],\n",
       "       [ 2.32595585],\n",
       "       [ 2.91390163],\n",
       "       [ 4.02745182],\n",
       "       [ 3.83715165],\n",
       "       [ 3.10049794],\n",
       "       [ 2.74037159],\n",
       "       [13.08854783],\n",
       "       [ 3.6533086 ],\n",
       "       [ 3.41768243],\n",
       "       [ 5.17976888],\n",
       "       [ 2.52870012],\n",
       "       [ 3.08411733],\n",
       "       [ 2.8355736 ],\n",
       "       [ 4.20919597],\n",
       "       [ 2.82077209],\n",
       "       [ 2.36631065],\n",
       "       [ 3.43963168],\n",
       "       [ 2.4246762 ],\n",
       "       [ 4.52669245],\n",
       "       [ 3.38188101],\n",
       "       [ 2.60783321],\n",
       "       [ 2.55708176],\n",
       "       [ 2.30258064],\n",
       "       [ 3.29266683],\n",
       "       [ 2.4922251 ],\n",
       "       [ 2.34677465],\n",
       "       [ 3.71298147],\n",
       "       [ 2.63402007],\n",
       "       [ 3.15885421],\n",
       "       [ 3.12361692],\n",
       "       [ 5.17658807],\n",
       "       [ 4.7964758 ],\n",
       "       [ 3.22393436],\n",
       "       [ 7.46018021],\n",
       "       [ 2.95817618],\n",
       "       [ 6.13273934],\n",
       "       [ 2.21375112],\n",
       "       [ 3.19247918],\n",
       "       [ 4.53249598],\n",
       "       [ 2.56883776],\n",
       "       [ 2.96943059],\n",
       "       [ 5.31216028],\n",
       "       [ 2.61872295],\n",
       "       [ 2.54657666],\n",
       "       [ 2.86248909],\n",
       "       [ 4.03027126],\n",
       "       [12.40182899],\n",
       "       [ 2.9139191 ],\n",
       "       [ 2.42313109],\n",
       "       [ 4.92049134],\n",
       "       [ 3.39002762],\n",
       "       [ 4.28772838],\n",
       "       [10.44071003],\n",
       "       [ 2.52676443],\n",
       "       [ 2.13000743],\n",
       "       [19.87180956],\n",
       "       [ 2.50095212],\n",
       "       [ 2.61160086],\n",
       "       [ 2.16222218],\n",
       "       [ 2.86079272],\n",
       "       [ 5.44554644],\n",
       "       [ 2.49995924],\n",
       "       [ 2.69951329],\n",
       "       [ 2.52642433],\n",
       "       [ 2.56579777],\n",
       "       [ 3.56912849],\n",
       "       [ 9.80944049],\n",
       "       [ 2.68185882],\n",
       "       [ 2.58793565],\n",
       "       [ 3.45953882],\n",
       "       [ 2.59146548],\n",
       "       [ 3.33996518],\n",
       "       [ 3.11444745],\n",
       "       [ 4.40485891],\n",
       "       [ 1.18426261],\n",
       "       [ 4.02240543],\n",
       "       [ 3.04806875],\n",
       "       [12.14517827],\n",
       "       [ 4.64550938],\n",
       "       [ 2.77283552],\n",
       "       [ 2.84066241],\n",
       "       [ 2.49319041],\n",
       "       [ 2.92872347],\n",
       "       [ 3.40919406],\n",
       "       [ 3.88028866],\n",
       "       [ 5.19075566],\n",
       "       [ 2.36860568],\n",
       "       [ 2.61866737],\n",
       "       [ 4.98200366],\n",
       "       [ 2.60766247],\n",
       "       [ 2.40378684],\n",
       "       [10.93071245],\n",
       "       [ 2.6831991 ],\n",
       "       [ 2.60067002],\n",
       "       [ 4.37116537],\n",
       "       [ 3.52378526],\n",
       "       [ 1.54821069],\n",
       "       [ 2.39389819],\n",
       "       [ 3.61274088],\n",
       "       [ 2.84259105],\n",
       "       [ 3.42246385],\n",
       "       [ 1.33866861],\n",
       "       [ 2.65363155],\n",
       "       [ 3.27499009],\n",
       "       [ 4.10151861],\n",
       "       [ 2.56954794],\n",
       "       [ 2.68004908],\n",
       "       [ 3.30843681],\n",
       "       [ 9.62773978],\n",
       "       [ 3.39543773],\n",
       "       [ 2.54904035],\n",
       "       [ 3.85527681],\n",
       "       [ 2.52243789],\n",
       "       [ 4.10683045],\n",
       "       [ 2.45387336],\n",
       "       [ 3.0311853 ],\n",
       "       [ 2.96235271],\n",
       "       [ 2.88596169],\n",
       "       [ 2.53633691],\n",
       "       [ 2.8986589 ],\n",
       "       [ 3.56893181],\n",
       "       [ 3.63322487],\n",
       "       [ 4.56247161],\n",
       "       [ 2.75246539],\n",
       "       [ 3.67251941],\n",
       "       [ 2.46881624],\n",
       "       [ 1.78821787],\n",
       "       [ 6.92003772],\n",
       "       [ 2.53288743],\n",
       "       [ 3.01233425],\n",
       "       [ 2.81094223],\n",
       "       [ 3.38055892],\n",
       "       [ 2.65399025],\n",
       "       [ 3.1151893 ],\n",
       "       [ 2.70796511],\n",
       "       [ 2.62760546],\n",
       "       [ 3.78428966],\n",
       "       [ 3.58863595],\n",
       "       [ 6.93349665],\n",
       "       [ 3.76266198],\n",
       "       [ 2.61765224],\n",
       "       [ 2.11354863],\n",
       "       [ 9.7461606 ],\n",
       "       [ 2.70736468],\n",
       "       [ 9.23974545],\n",
       "       [ 2.53903155],\n",
       "       [ 3.05146048],\n",
       "       [ 2.62340296],\n",
       "       [ 3.6715594 ],\n",
       "       [ 3.41056328],\n",
       "       [ 2.81971606],\n",
       "       [ 2.50324573],\n",
       "       [ 7.86610219],\n",
       "       [ 2.76954862],\n",
       "       [ 2.94955447],\n",
       "       [ 3.18189111],\n",
       "       [ 3.63640151],\n",
       "       [ 2.67571011],\n",
       "       [ 2.65642339],\n",
       "       [ 3.03400228],\n",
       "       [ 3.8706973 ],\n",
       "       [ 2.51281843],\n",
       "       [ 3.96207575],\n",
       "       [ 5.87004636],\n",
       "       [ 3.89228527],\n",
       "       [ 2.53730139],\n",
       "       [ 3.20513376],\n",
       "       [ 3.05871469],\n",
       "       [ 2.73405429],\n",
       "       [ 2.59957814],\n",
       "       [ 3.5312383 ],\n",
       "       [ 9.09913351],\n",
       "       [ 4.83660457],\n",
       "       [ 2.91575288],\n",
       "       [ 2.379951  ],\n",
       "       [ 8.85601252],\n",
       "       [ 1.97390597],\n",
       "       [ 8.15434222],\n",
       "       [ 2.33833543],\n",
       "       [ 3.11035931],\n",
       "       [ 2.13695746],\n",
       "       [ 3.85406609],\n",
       "       [ 5.7922696 ],\n",
       "       [ 1.82721367],\n",
       "       [ 4.8986887 ],\n",
       "       [ 3.31781428],\n",
       "       [ 5.14665851],\n",
       "       [ 5.44059918],\n",
       "       [ 3.26396679],\n",
       "       [ 5.62506512],\n",
       "       [ 3.56704069],\n",
       "       [ 2.24934377],\n",
       "       [ 3.49029177],\n",
       "       [ 2.38926835],\n",
       "       [ 2.49981289],\n",
       "       [ 2.41638479],\n",
       "       [ 2.49767503],\n",
       "       [ 2.65117767],\n",
       "       [ 2.23795413],\n",
       "       [12.16182871],\n",
       "       [11.26369993],\n",
       "       [ 4.6501916 ],\n",
       "       [ 4.16241107],\n",
       "       [10.06305749],\n",
       "       [13.0726144 ],\n",
       "       [ 2.91817263],\n",
       "       [ 5.5801627 ],\n",
       "       [ 2.53035761],\n",
       "       [ 2.48273296],\n",
       "       [ 1.94043118],\n",
       "       [ 2.72354956],\n",
       "       [ 2.32204159],\n",
       "       [ 4.09295097],\n",
       "       [ 2.87353328],\n",
       "       [ 6.36484928],\n",
       "       [ 1.35073044],\n",
       "       [ 5.20158822],\n",
       "       [ 2.78844267],\n",
       "       [ 2.09682835],\n",
       "       [14.74992054],\n",
       "       [ 2.38898186],\n",
       "       [ 4.25467277],\n",
       "       [ 2.33820875],\n",
       "       [ 9.87576131],\n",
       "       [ 3.10230897],\n",
       "       [ 6.03563001],\n",
       "       [ 2.63787472],\n",
       "       [ 3.53916578],\n",
       "       [ 2.97629106],\n",
       "       [ 4.6172154 ],\n",
       "       [ 4.49884081],\n",
       "       [ 3.32201874],\n",
       "       [ 3.94954684],\n",
       "       [ 2.73586779],\n",
       "       [ 9.54527511],\n",
       "       [ 2.33517592],\n",
       "       [ 2.35270017],\n",
       "       [ 4.83666966],\n",
       "       [ 9.58935882],\n",
       "       [ 2.98188254],\n",
       "       [ 3.10309536],\n",
       "       [ 4.07305575],\n",
       "       [ 2.19774562],\n",
       "       [ 3.57188613],\n",
       "       [ 4.61778875],\n",
       "       [11.72276524],\n",
       "       [ 2.62210948],\n",
       "       [ 3.08170154],\n",
       "       [ 2.64884158],\n",
       "       [ 3.10811752],\n",
       "       [ 2.88162592],\n",
       "       [ 2.65070307],\n",
       "       [ 2.60710735],\n",
       "       [ 2.97046773],\n",
       "       [ 3.38862223],\n",
       "       [ 3.96523027],\n",
       "       [ 2.69535545],\n",
       "       [ 2.75900511],\n",
       "       [ 5.27393157],\n",
       "       [ 2.3941438 ],\n",
       "       [ 4.41518508],\n",
       "       [ 2.43127925],\n",
       "       [ 2.54240493],\n",
       "       [ 2.31721549],\n",
       "       [ 2.41267915],\n",
       "       [ 9.84545554],\n",
       "       [ 2.67365563],\n",
       "       [ 2.80831774],\n",
       "       [ 2.83089835],\n",
       "       [ 8.23277909],\n",
       "       [ 3.79982133],\n",
       "       [ 2.55687961],\n",
       "       [ 3.51404995],\n",
       "       [ 2.65057595],\n",
       "       [ 4.6958119 ],\n",
       "       [ 2.56301749],\n",
       "       [ 6.06210661],\n",
       "       [ 5.83982885],\n",
       "       [ 3.3705456 ],\n",
       "       [ 2.52120615],\n",
       "       [ 2.68354007],\n",
       "       [ 4.51435966],\n",
       "       [ 2.78718473],\n",
       "       [13.97170767],\n",
       "       [ 2.31548274],\n",
       "       [ 3.48095327],\n",
       "       [ 2.6700131 ],\n",
       "       [ 2.42085683],\n",
       "       [ 3.669246  ],\n",
       "       [ 2.92237217],\n",
       "       [ 3.20678864],\n",
       "       [ 2.55292373],\n",
       "       [ 5.25807671],\n",
       "       [ 2.66073006],\n",
       "       [ 3.03293848],\n",
       "       [ 2.75020976],\n",
       "       [ 2.26951748],\n",
       "       [11.97194858],\n",
       "       [ 2.77415934],\n",
       "       [ 4.68872479],\n",
       "       [ 4.60972432],\n",
       "       [ 2.27920767],\n",
       "       [ 4.82221811],\n",
       "       [ 2.48321838],\n",
       "       [ 2.68189261],\n",
       "       [ 4.25622121],\n",
       "       [ 3.02344306],\n",
       "       [ 2.8130669 ],\n",
       "       [ 3.39754808],\n",
       "       [ 8.84401788],\n",
       "       [ 1.90559215],\n",
       "       [ 2.21715401],\n",
       "       [ 5.26029433],\n",
       "       [ 2.45330376],\n",
       "       [ 3.09837465],\n",
       "       [ 3.37128927],\n",
       "       [ 1.5012332 ],\n",
       "       [ 4.0229062 ],\n",
       "       [ 4.35065902],\n",
       "       [ 2.01949505],\n",
       "       [ 3.35479556],\n",
       "       [ 7.96193852],\n",
       "       [ 3.44914564],\n",
       "       [ 2.59960075],\n",
       "       [ 6.80730487],\n",
       "       [ 2.62765596],\n",
       "       [ 6.6751271 ],\n",
       "       [ 5.79490536],\n",
       "       [ 2.81008744],\n",
       "       [ 2.72034217],\n",
       "       [ 2.32286572],\n",
       "       [ 2.72824091],\n",
       "       [ 2.21399393],\n",
       "       [ 3.58242632],\n",
       "       [ 2.95683829],\n",
       "       [ 3.65260367],\n",
       "       [ 2.21114662],\n",
       "       [ 1.81633249],\n",
       "       [ 4.51984063],\n",
       "       [ 6.38256   ],\n",
       "       [ 2.60011892],\n",
       "       [ 2.56925513],\n",
       "       [ 3.85884674],\n",
       "       [ 2.5173364 ],\n",
       "       [ 3.04012429],\n",
       "       [ 2.58494283],\n",
       "       [ 3.04459579],\n",
       "       [ 2.47275022],\n",
       "       [ 2.69869581],\n",
       "       [ 6.34340212],\n",
       "       [ 4.98603626],\n",
       "       [ 2.3659697 ],\n",
       "       [ 2.21981259],\n",
       "       [ 7.4175552 ],\n",
       "       [ 6.72906996],\n",
       "       [ 2.59303905],\n",
       "       [ 6.40933677],\n",
       "       [ 3.9886598 ],\n",
       "       [ 2.37966672],\n",
       "       [ 2.93649134],\n",
       "       [ 2.39462991],\n",
       "       [ 3.04905288],\n",
       "       [ 5.7875074 ],\n",
       "       [ 5.51297675],\n",
       "       [ 2.86453775],\n",
       "       [ 3.41914419],\n",
       "       [ 1.57468115],\n",
       "       [ 3.45646123],\n",
       "       [ 4.65690254],\n",
       "       [ 2.73749822],\n",
       "       [ 7.73682886],\n",
       "       [ 5.13418267],\n",
       "       [ 2.83028957],\n",
       "       [ 1.12776457],\n",
       "       [ 3.47606096],\n",
       "       [ 3.01324445],\n",
       "       [ 4.07642685],\n",
       "       [ 2.36685624],\n",
       "       [ 3.70293109],\n",
       "       [ 2.62051694],\n",
       "       [ 4.04569871],\n",
       "       [ 2.79549468],\n",
       "       [ 4.10370958],\n",
       "       [ 3.02154284],\n",
       "       [ 3.83995274],\n",
       "       [ 4.42503833],\n",
       "       [ 6.90876733],\n",
       "       [ 2.79230615],\n",
       "       [ 5.42505178],\n",
       "       [ 2.49094616],\n",
       "       [ 2.40645166],\n",
       "       [ 3.10512139],\n",
       "       [ 2.5370072 ],\n",
       "       [ 2.07018837],\n",
       "       [ 6.81083673],\n",
       "       [ 2.91927542],\n",
       "       [ 4.27011836],\n",
       "       [ 3.65490486],\n",
       "       [ 2.81866667],\n",
       "       [ 2.53131019],\n",
       "       [ 4.87997616],\n",
       "       [ 4.78462661],\n",
       "       [ 5.92382495],\n",
       "       [ 2.65363691],\n",
       "       [ 2.64188704],\n",
       "       [ 2.30266678],\n",
       "       [ 5.70850601],\n",
       "       [ 2.41704135],\n",
       "       [ 5.61662178],\n",
       "       [ 3.08492028],\n",
       "       [ 2.30567741],\n",
       "       [ 2.63452833],\n",
       "       [ 3.0541069 ],\n",
       "       [ 4.64973087],\n",
       "       [ 3.82003955],\n",
       "       [ 2.20273822],\n",
       "       [10.60835676],\n",
       "       [ 8.2934746 ],\n",
       "       [ 3.33237327],\n",
       "       [11.66308492],\n",
       "       [ 2.82580941],\n",
       "       [ 2.35921939],\n",
       "       [ 2.83327983],\n",
       "       [ 2.2889108 ],\n",
       "       [ 2.89653672],\n",
       "       [ 3.46354274],\n",
       "       [ 2.67939153],\n",
       "       [ 2.55219338],\n",
       "       [ 2.26980028],\n",
       "       [ 3.07065899],\n",
       "       [ 1.68097295],\n",
       "       [ 3.04794993],\n",
       "       [ 5.4008544 ],\n",
       "       [ 5.30420289],\n",
       "       [ 3.47959298],\n",
       "       [21.2080772 ],\n",
       "       [ 2.51954213],\n",
       "       [ 2.58877638],\n",
       "       [ 4.01511097],\n",
       "       [ 2.28988938],\n",
       "       [ 3.21010177],\n",
       "       [ 2.81557369],\n",
       "       [ 2.92054485],\n",
       "       [17.03061897],\n",
       "       [ 4.39750357],\n",
       "       [ 2.56747277],\n",
       "       [ 2.96427707],\n",
       "       [ 2.52447739],\n",
       "       [ 2.74466303],\n",
       "       [ 2.39706847],\n",
       "       [ 5.59193191],\n",
       "       [ 5.80296435],\n",
       "       [ 3.82732684],\n",
       "       [ 2.19183269],\n",
       "       [ 3.02156817],\n",
       "       [ 3.11856594],\n",
       "       [ 2.94069651],\n",
       "       [ 3.23576505],\n",
       "       [ 2.81965981],\n",
       "       [ 7.7221926 ],\n",
       "       [ 3.06151185],\n",
       "       [ 4.55296917],\n",
       "       [ 9.49490037],\n",
       "       [ 2.88778527],\n",
       "       [ 7.32907674],\n",
       "       [ 3.72607276],\n",
       "       [ 3.78656204],\n",
       "       [ 2.33536862],\n",
       "       [10.13075821],\n",
       "       [ 2.7641547 ],\n",
       "       [ 2.78359137],\n",
       "       [ 4.01975953],\n",
       "       [ 3.90658074],\n",
       "       [ 6.68981595],\n",
       "       [ 8.83461991],\n",
       "       [10.37700193],\n",
       "       [ 3.36477716],\n",
       "       [ 3.07471835],\n",
       "       [ 3.02643088]])"
      ]
     },
     "execution_count": 4,
     "metadata": {},
     "output_type": "execute_result"
    }
   ],
   "source": [
    "actual_data = simulate_gandk(true_theta, n_samples)\n",
    "actual_data"
   ]
  },
  {
   "cell_type": "code",
   "execution_count": 5,
   "metadata": {},
   "outputs": [
    {
     "data": {
      "text/plain": [
       "array([3.0564108 , 1.75306665, 0.47990734, 1.6010747 ])"
      ]
     },
     "execution_count": 5,
     "metadata": {},
     "output_type": "execute_result"
    }
   ],
   "source": [
    "actual_summary_statistics = compute_summary_statistics(actual_data)\n",
    "actual_summary_statistics"
   ]
  },
  {
   "cell_type": "code",
   "execution_count": 6,
   "metadata": {},
   "outputs": [],
   "source": [
    "def my_inv(x):\n",
    "    return np.linalg.inv(x + (np.eye(x.shape[0]) * 1e-7))"
   ]
  },
  {
   "cell_type": "code",
   "execution_count": 7,
   "metadata": {},
   "outputs": [],
   "source": [
    "actual_summary_statistics = np.array([2.96978227, 1.45609898, 0.4837584 , 2.00723605])"
   ]
  },
  {
   "cell_type": "markdown",
   "metadata": {},
   "source": [
    "## Training Wasserstein Gaussianing"
   ]
  },
  {
   "cell_type": "code",
   "execution_count": 8,
   "metadata": {},
   "outputs": [],
   "source": [
    "wass_num_datasets = 6000\n",
    "wass_n_samples = 30\n",
    "maxG = 4"
   ]
  },
  {
   "cell_type": "code",
   "execution_count": 9,
   "metadata": {},
   "outputs": [],
   "source": [
    "wass_n_summary_statistics = np.zeros((wass_num_datasets, num_latent))\n",
    "for i in range(0, wass_num_datasets):\n",
    "    y = simulate_gandk(true_theta, wass_n_samples)\n",
    "    wass_n_summary_statistics[i,:] = compute_summary_statistics(y)"
   ]
  },
  {
   "cell_type": "code",
   "execution_count": 10,
   "metadata": {},
   "outputs": [],
   "source": [
    "# Divide the synthetic data to train, test, val\n",
    "wass_train_summary_statistics = wass_n_summary_statistics[:int(wass_num_datasets/3),:]\n",
    "wass_val_summary_statistics = wass_n_summary_statistics[int(wass_num_datasets/3):int(wass_num_datasets * 2/3),:]\n",
    "wass_test_summary_statistics = wass_n_summary_statistics[int(wass_num_datasets * 2/3):wass_num_datasets,:]\n",
    "\n",
    "original_train_summary_statistics = wass_train_summary_statistics\n",
    "original_test_summary_statistics = wass_test_summary_statistics"
   ]
  },
  {
   "cell_type": "code",
   "execution_count": 11,
   "metadata": {},
   "outputs": [],
   "source": [
    "def mixture_model_fit(data, maxG):\n",
    "    bic_values = []\n",
    "    for g in range(1, maxG+1):\n",
    "        mixture_obj = sklearn.mixture.GaussianMixture(n_components = g, reg_covar = 1e-5).fit(data)\n",
    "        bic_values.append(mixture_obj.bic(data))\n",
    "    bestG = int(np.argmin(bic_values) + 1)\n",
    "    best_mixture_obj = sklearn.mixture.GaussianMixture(n_components = bestG, reg_covar = 1e-5).fit(data)\n",
    "    mean_mixture_obj = best_mixture_obj.means_\n",
    "    sigma_mixture_obj = best_mixture_obj.covariances_\n",
    "    weights_mixture_obj = best_mixture_obj.weights_\n",
    "    return best_mixture_obj, bestG, np.array(mean_mixture_obj), np.array(sigma_mixture_obj), np.array(weights_mixture_obj)"
   ]
  },
  {
   "cell_type": "code",
   "execution_count": 12,
   "metadata": {},
   "outputs": [],
   "source": [
    "def grad_log_density_mixture(data, mean_mixture_obj, sigma_mixture_obj, weights_mixture_obj):\n",
    "    bestG = len(weights_mixture_obj)\n",
    "\n",
    "    loglh_all_mixture = []\n",
    "    grad_loglh_all_mixture = []\n",
    "    for k in range(bestG):\n",
    "        mean_kth_mixture = mean_mixture_obj[k,:] #1 x g\n",
    "        sigma_kth_mixture = sigma_mixture_obj[k,:] # g x g\n",
    "        weight_kth_mixture = weights_mixture_obj[k] \n",
    "        diff_mean_kth_mixture = data - mean_kth_mixture #99 x g aux\n",
    "        loglh_all_mixture.append(np.log(weight_kth_mixture) - num_coeffs/2 * np.log(2 * np.pi)-1/2 * np.log(np.linalg.det(sigma_kth_mixture)) - 1/2 * np.diag(diff_mean_kth_mixture @ my_inv(sigma_kth_mixture) @ diff_mean_kth_mixture.T)) # 99x99 -> diag:1x99->gx99 lw\n",
    "        grad_loglh_all_mixture.append(-diff_mean_kth_mixture @ my_inv(sigma_kth_mixture)) #M =99 x dim of ss =4\n",
    "\n",
    "    max_llh_all_data = np.max(loglh_all_mixture, axis = 0) # 99 x 1\n",
    "    aux_llh_all_data = loglh_all_mixture - max_llh_all_data #g x 99\n",
    "    w_all_data = np.exp(aux_llh_all_data) / np.sum(np.exp(aux_llh_all_data), axis = 0) #g x 99\n",
    "    log_f = np.log(np.sum(np.exp(aux_llh_all_data), axis = 0)) + max_llh_all_data #99 x 1\n",
    "\n",
    "    grad_log_f = 0\n",
    "    for k in range(bestG):    \n",
    "        grad_log_f = grad_log_f + np.tile(np.reshape(w_all_data[k,:], (len(data),1)),(1,len(actual_summary_statistics))) * grad_loglh_all_mixture[k] #data x num_coeff\n",
    "    return log_f, grad_log_f"
   ]
  },
  {
   "cell_type": "code",
   "execution_count": 13,
   "metadata": {},
   "outputs": [],
   "source": [
    "# Start training\n",
    "\n",
    "# Hyperparams\n",
    "patience_max = 5\n",
    "patience = 0 \n",
    "stop = 5000\n",
    "eps = 0.01\n",
    "t_w = 20\n",
    "\n",
    "# Initialize empty chain\n",
    "mixture_obj_seq = []\n",
    "bestG_seq = []\n",
    "lb = []\n",
    "LB_Smoothed = []\n",
    "\n",
    "# At current particles, fit mixture normal\n",
    "mixture_model = mixture_model_fit(original_train_summary_statistics, maxG)\n",
    "mixture_obj_seq.append(mixture_model[0])\n",
    "bestG_seq.append(mixture_model[1])"
   ]
  },
  {
   "cell_type": "code",
   "execution_count": 14,
   "metadata": {},
   "outputs": [
    {
     "name": "stderr",
     "output_type": "stream",
     "text": [
      "  0%|                                                                                 | 1/5000 [00:00<16:47,  4.96it/s]"
     ]
    },
    {
     "name": "stdout",
     "output_type": "stream",
     "text": [
      "LB -7.302194588391296\n"
     ]
    },
    {
     "name": "stderr",
     "output_type": "stream",
     "text": [
      "  0%|                                                                                 | 3/5000 [00:00<16:58,  4.90it/s]"
     ]
    },
    {
     "name": "stdout",
     "output_type": "stream",
     "text": [
      "LB -6.0643931990288875\n",
      "LB -5.577558360916104\n"
     ]
    },
    {
     "name": "stderr",
     "output_type": "stream",
     "text": [
      "  0%|                                                                                 | 5/5000 [00:01<16:27,  5.06it/s]"
     ]
    },
    {
     "name": "stdout",
     "output_type": "stream",
     "text": [
      "LB -5.2165300876072225\n",
      "LB -4.8682346653514506\n"
     ]
    },
    {
     "name": "stderr",
     "output_type": "stream",
     "text": [
      "  0%|                                                                                 | 7/5000 [00:01<15:04,  5.52it/s]"
     ]
    },
    {
     "name": "stdout",
     "output_type": "stream",
     "text": [
      "LB -4.6055025377309216\n",
      "LB -4.329527400449628\n"
     ]
    },
    {
     "name": "stderr",
     "output_type": "stream",
     "text": [
      "  0%|▏                                                                                | 9/5000 [00:01<14:04,  5.91it/s]"
     ]
    },
    {
     "name": "stdout",
     "output_type": "stream",
     "text": [
      "LB -4.0923342643877305\n",
      "LB -3.8708313426990646\n"
     ]
    },
    {
     "name": "stderr",
     "output_type": "stream",
     "text": [
      "  0%|▏                                                                               | 11/5000 [00:02<13:58,  5.95it/s]"
     ]
    },
    {
     "name": "stdout",
     "output_type": "stream",
     "text": [
      "LB -3.6630099025325564\n",
      "LB -3.4667669001658137\n"
     ]
    },
    {
     "name": "stderr",
     "output_type": "stream",
     "text": [
      "  0%|▏                                                                               | 13/5000 [00:02<14:48,  5.62it/s]"
     ]
    },
    {
     "name": "stdout",
     "output_type": "stream",
     "text": [
      "LB -3.3314720370290796\n",
      "LB -3.1038168878211714\n"
     ]
    },
    {
     "name": "stderr",
     "output_type": "stream",
     "text": [
      "\r",
      "  0%|▏                                                                               | 14/5000 [00:02<14:08,  5.88it/s]"
     ]
    },
    {
     "name": "stdout",
     "output_type": "stream",
     "text": [
      "LB -2.9333594149608957\n"
     ]
    },
    {
     "name": "stderr",
     "output_type": "stream",
     "text": [
      "\r",
      "  0%|▏                                                                               | 15/5000 [00:02<15:09,  5.48it/s]"
     ]
    },
    {
     "name": "stdout",
     "output_type": "stream",
     "text": [
      "LB -2.7704270957690147\n"
     ]
    },
    {
     "name": "stderr",
     "output_type": "stream",
     "text": [
      "\r",
      "  0%|▎                                                                               | 16/5000 [00:02<16:13,  5.12it/s]"
     ]
    },
    {
     "name": "stdout",
     "output_type": "stream",
     "text": [
      "LB -2.6141298803153394\n"
     ]
    },
    {
     "name": "stderr",
     "output_type": "stream",
     "text": [
      "\r",
      "  0%|▎                                                                               | 17/5000 [00:03<17:12,  4.82it/s]"
     ]
    },
    {
     "name": "stdout",
     "output_type": "stream",
     "text": [
      "LB -2.4637472984597344\n"
     ]
    },
    {
     "name": "stderr",
     "output_type": "stream",
     "text": [
      "  0%|▎                                                                               | 19/5000 [00:03<16:59,  4.89it/s]"
     ]
    },
    {
     "name": "stdout",
     "output_type": "stream",
     "text": [
      "LB -2.3177893528725337\n",
      "LB -2.177919144546092\n"
     ]
    },
    {
     "name": "stderr",
     "output_type": "stream",
     "text": [
      "\r",
      "  0%|▎                                                                               | 20/5000 [00:03<18:31,  4.48it/s]"
     ]
    },
    {
     "name": "stdout",
     "output_type": "stream",
     "text": [
      "LB -2.041996844801155\n"
     ]
    },
    {
     "name": "stderr",
     "output_type": "stream",
     "text": [
      "\r",
      "  0%|▎                                                                               | 21/5000 [00:04<22:10,  3.74it/s]"
     ]
    },
    {
     "name": "stdout",
     "output_type": "stream",
     "text": [
      "LB Smoothed -3.6583866640760214\n"
     ]
    },
    {
     "name": "stderr",
     "output_type": "stream",
     "text": [
      "\r",
      "  0%|▎                                                                               | 22/5000 [00:04<21:24,  3.88it/s]"
     ]
    },
    {
     "name": "stdout",
     "output_type": "stream",
     "text": [
      "LB Smoothed -3.442457686666877\n"
     ]
    },
    {
     "name": "stderr",
     "output_type": "stream",
     "text": [
      "\r",
      "  0%|▎                                                                               | 23/5000 [00:04<20:06,  4.13it/s]"
     ]
    },
    {
     "name": "stdout",
     "output_type": "stream",
     "text": [
      "LB Smoothed -3.242850093897384\n"
     ]
    },
    {
     "name": "stderr",
     "output_type": "stream",
     "text": [
      "\r",
      "  0%|▍                                                                               | 24/5000 [00:04<21:21,  3.88it/s]"
     ]
    },
    {
     "name": "stdout",
     "output_type": "stream",
     "text": [
      "LB Smoothed -3.054561761713512\n"
     ]
    },
    {
     "name": "stderr",
     "output_type": "stream",
     "text": [
      "\r",
      "  0%|▍                                                                               | 25/5000 [00:05<20:12,  4.10it/s]"
     ]
    },
    {
     "name": "stdout",
     "output_type": "stream",
     "text": [
      "LB Smoothed -2.8823485816144165\n"
     ]
    },
    {
     "name": "stderr",
     "output_type": "stream",
     "text": [
      "  1%|▍                                                                               | 27/5000 [00:05<18:20,  4.52it/s]"
     ]
    },
    {
     "name": "stdout",
     "output_type": "stream",
     "text": [
      "LB Smoothed -2.7140385646143836\n",
      "LB Smoothed -2.5543912649329017\n"
     ]
    },
    {
     "name": "stderr",
     "output_type": "stream",
     "text": [
      "  1%|▍                                                                               | 29/5000 [00:05<16:54,  4.90it/s]"
     ]
    },
    {
     "name": "stdout",
     "output_type": "stream",
     "text": [
      "LB Smoothed -2.4015248898359394\n",
      "LB Smoothed -2.2547660488492847\n"
     ]
    },
    {
     "name": "stderr",
     "output_type": "stream",
     "text": [
      "  1%|▍                                                                               | 31/5000 [00:06<15:09,  5.46it/s]"
     ]
    },
    {
     "name": "stdout",
     "output_type": "stream",
     "text": [
      "LB Smoothed -2.113540671748614\n",
      "LB Smoothed -1.9784721461394186\n"
     ]
    },
    {
     "name": "stderr",
     "output_type": "stream",
     "text": [
      "\r",
      "  1%|▌                                                                               | 32/5000 [00:06<14:01,  5.90it/s]"
     ]
    },
    {
     "name": "stdout",
     "output_type": "stream",
     "text": [
      "LB Smoothed -1.8443008364325304\n"
     ]
    },
    {
     "name": "stderr",
     "output_type": "stream",
     "text": [
      "  1%|▌                                                                               | 34/5000 [00:06<16:04,  5.15it/s]"
     ]
    },
    {
     "name": "stdout",
     "output_type": "stream",
     "text": [
      "LB Smoothed -1.717111012109787\n",
      "LB Smoothed -1.595429335169826\n"
     ]
    },
    {
     "name": "stderr",
     "output_type": "stream",
     "text": [
      "\r",
      "  1%|▌                                                                               | 35/5000 [00:07<16:58,  4.87it/s]"
     ]
    },
    {
     "name": "stdout",
     "output_type": "stream",
     "text": [
      "LB Smoothed -1.4761496326636225\n"
     ]
    },
    {
     "name": "stderr",
     "output_type": "stream",
     "text": [
      "\r",
      "  1%|▌                                                                               | 36/5000 [00:07<17:40,  4.68it/s]"
     ]
    },
    {
     "name": "stdout",
     "output_type": "stream",
     "text": [
      "LB Smoothed -1.3604568716034606\n"
     ]
    },
    {
     "name": "stderr",
     "output_type": "stream",
     "text": [
      "  1%|▌                                                                               | 38/5000 [00:07<17:29,  4.73it/s]"
     ]
    },
    {
     "name": "stdout",
     "output_type": "stream",
     "text": [
      "LB Smoothed -1.2481519042457532\n",
      "LB Smoothed -1.1391102896812704\n"
     ]
    },
    {
     "name": "stderr",
     "output_type": "stream",
     "text": [
      "  1%|▋                                                                               | 40/5000 [00:08<14:55,  5.54it/s]"
     ]
    },
    {
     "name": "stdout",
     "output_type": "stream",
     "text": [
      "LB Smoothed -1.0331165456165967\n",
      "LB Smoothed -0.9300644890176951\n"
     ]
    },
    {
     "name": "stderr",
     "output_type": "stream",
     "text": [
      "\r",
      "  1%|▋                                                                               | 41/5000 [00:08<17:14,  4.79it/s]"
     ]
    },
    {
     "name": "stdout",
     "output_type": "stream",
     "text": [
      "LB Smoothed -0.8271226697603343\n"
     ]
    },
    {
     "name": "stderr",
     "output_type": "stream",
     "text": [
      "\r",
      "  1%|▋                                                                               | 42/5000 [00:08<17:38,  4.69it/s]"
     ]
    },
    {
     "name": "stdout",
     "output_type": "stream",
     "text": [
      "LB Smoothed -0.7294641363198239\n"
     ]
    },
    {
     "name": "stderr",
     "output_type": "stream",
     "text": [
      "\r",
      "  1%|▋                                                                               | 43/5000 [00:08<17:36,  4.69it/s]"
     ]
    },
    {
     "name": "stdout",
     "output_type": "stream",
     "text": [
      "LB Smoothed -0.6355622159145559\n"
     ]
    },
    {
     "name": "stderr",
     "output_type": "stream",
     "text": [
      "  1%|▋                                                                               | 45/5000 [00:09<17:14,  4.79it/s]"
     ]
    },
    {
     "name": "stdout",
     "output_type": "stream",
     "text": [
      "LB Smoothed -0.5400807497221759\n",
      "LB Smoothed -0.45077568279362107\n"
     ]
    },
    {
     "name": "stderr",
     "output_type": "stream",
     "text": [
      "  1%|▊                                                                               | 47/5000 [00:09<17:07,  4.82it/s]"
     ]
    },
    {
     "name": "stdout",
     "output_type": "stream",
     "text": [
      "LB Smoothed -0.36366926770399005\n",
      "LB Smoothed -0.27868457070892755\n"
     ]
    },
    {
     "name": "stderr",
     "output_type": "stream",
     "text": [
      "  1%|▊                                                                               | 49/5000 [00:09<15:26,  5.35it/s]"
     ]
    },
    {
     "name": "stdout",
     "output_type": "stream",
     "text": [
      "LB Smoothed -0.19574933722778745\n",
      "LB Smoothed -0.11479553190397525\n"
     ]
    },
    {
     "name": "stderr",
     "output_type": "stream",
     "text": [
      "  1%|▊                                                                               | 51/5000 [00:10<16:07,  5.12it/s]"
     ]
    },
    {
     "name": "stdout",
     "output_type": "stream",
     "text": [
      "LB Smoothed -0.034666251278304194\n",
      "LB Smoothed 0.04251280592347651\n"
     ]
    },
    {
     "name": "stderr",
     "output_type": "stream",
     "text": [
      "\r",
      "  1%|▊                                                                               | 52/5000 [00:10<15:28,  5.33it/s]"
     ]
    },
    {
     "name": "stdout",
     "output_type": "stream",
     "text": [
      "LB Smoothed 0.11789292104747544\n"
     ]
    },
    {
     "name": "stderr",
     "output_type": "stream",
     "text": [
      "  1%|▊                                                                               | 54/5000 [00:11<16:47,  4.91it/s]"
     ]
    },
    {
     "name": "stdout",
     "output_type": "stream",
     "text": [
      "LB Smoothed 0.19294110747936669\n",
      "LB Smoothed 0.26487900062832564\n"
     ]
    },
    {
     "name": "stderr",
     "output_type": "stream",
     "text": [
      "\r",
      "  1%|▉                                                                               | 55/5000 [00:11<17:31,  4.70it/s]"
     ]
    },
    {
     "name": "stdout",
     "output_type": "stream",
     "text": [
      "LB Smoothed 0.3351742676431703\n"
     ]
    },
    {
     "name": "stderr",
     "output_type": "stream",
     "text": [
      "\r",
      "  1%|▉                                                                               | 56/5000 [00:11<18:44,  4.39it/s]"
     ]
    },
    {
     "name": "stdout",
     "output_type": "stream",
     "text": [
      "LB Smoothed 0.4038742176720933\n"
     ]
    },
    {
     "name": "stderr",
     "output_type": "stream",
     "text": [
      "  1%|▉                                                                               | 58/5000 [00:11<16:50,  4.89it/s]"
     ]
    },
    {
     "name": "stdout",
     "output_type": "stream",
     "text": [
      "LB Smoothed 0.47102406495635857\n",
      "LB Smoothed 0.5366670790527488\n"
     ]
    },
    {
     "name": "stderr",
     "output_type": "stream",
     "text": [
      "\r",
      "  1%|▉                                                                               | 59/5000 [00:12<17:23,  4.73it/s]"
     ]
    },
    {
     "name": "stdout",
     "output_type": "stream",
     "text": [
      "LB Smoothed 0.6008447199223488\n"
     ]
    },
    {
     "name": "stderr",
     "output_type": "stream",
     "text": [
      "\r",
      "  1%|▉                                                                               | 60/5000 [00:12<17:41,  4.66it/s]"
     ]
    },
    {
     "name": "stdout",
     "output_type": "stream",
     "text": [
      "LB Smoothed 0.6635967597746106\n"
     ]
    },
    {
     "name": "stderr",
     "output_type": "stream",
     "text": [
      "\r",
      "  1%|▉                                                                               | 61/5000 [00:12<17:58,  4.58it/s]"
     ]
    },
    {
     "name": "stdout",
     "output_type": "stream",
     "text": [
      "LB Smoothed 0.7249613932802275\n"
     ]
    },
    {
     "name": "stderr",
     "output_type": "stream",
     "text": [
      "  1%|█                                                                               | 63/5000 [00:12<16:57,  4.85it/s]"
     ]
    },
    {
     "name": "stdout",
     "output_type": "stream",
     "text": [
      "LB Smoothed 0.7849753375364942\n",
      "LB Smoothed 0.8436739229761864\n"
     ]
    },
    {
     "name": "stderr",
     "output_type": "stream",
     "text": [
      "\r",
      "  1%|█                                                                               | 64/5000 [00:13<16:50,  4.88it/s]"
     ]
    },
    {
     "name": "stdout",
     "output_type": "stream",
     "text": [
      "LB Smoothed 0.9010911762487702\n"
     ]
    },
    {
     "name": "stderr",
     "output_type": "stream",
     "text": [
      "  1%|█                                                                               | 66/5000 [00:13<16:40,  4.93it/s]"
     ]
    },
    {
     "name": "stdout",
     "output_type": "stream",
     "text": [
      "LB Smoothed 0.9572598959656882\n",
      "LB Smoothed 1.0122117220851128\n"
     ]
    },
    {
     "name": "stderr",
     "output_type": "stream",
     "text": [
      "  1%|█                                                                               | 68/5000 [00:13<16:49,  4.88it/s]"
     ]
    },
    {
     "name": "stdout",
     "output_type": "stream",
     "text": [
      "LB Smoothed 1.065977199612514\n",
      "LB Smoothed 1.1185858372086994\n"
     ]
    },
    {
     "name": "stderr",
     "output_type": "stream",
     "text": [
      "\r",
      "  1%|█                                                                               | 69/5000 [00:14<18:17,  4.49it/s]"
     ]
    },
    {
     "name": "stdout",
     "output_type": "stream",
     "text": [
      "LB Smoothed 1.1700661612243932\n"
     ]
    },
    {
     "name": "stderr",
     "output_type": "stream",
     "text": [
      "\r",
      "  1%|█                                                                               | 70/5000 [00:14<18:02,  4.56it/s]"
     ]
    },
    {
     "name": "stdout",
     "output_type": "stream",
     "text": [
      "LB Smoothed 1.2204457656179553\n"
     ]
    },
    {
     "name": "stderr",
     "output_type": "stream",
     "text": [
      "\r",
      "  1%|█▏                                                                              | 71/5000 [00:14<18:44,  4.38it/s]"
     ]
    },
    {
     "name": "stdout",
     "output_type": "stream",
     "text": [
      "LB Smoothed 1.2697513581589521\n"
     ]
    },
    {
     "name": "stderr",
     "output_type": "stream",
     "text": [
      "\r",
      "  1%|█▏                                                                              | 72/5000 [00:14<19:19,  4.25it/s]"
     ]
    },
    {
     "name": "stdout",
     "output_type": "stream",
     "text": [
      "LB Smoothed 1.317125292894741\n"
     ]
    },
    {
     "name": "stderr",
     "output_type": "stream",
     "text": [
      "\r",
      "  1%|█▏                                                                              | 73/5000 [00:15<20:53,  3.93it/s]"
     ]
    },
    {
     "name": "stdout",
     "output_type": "stream",
     "text": [
      "LB Smoothed 1.3643623248847263\n"
     ]
    },
    {
     "name": "stderr",
     "output_type": "stream",
     "text": [
      "\r",
      "  1%|█▏                                                                              | 74/5000 [00:15<20:09,  4.07it/s]"
     ]
    },
    {
     "name": "stdout",
     "output_type": "stream",
     "text": [
      "LB Smoothed 1.4106004930905656\n"
     ]
    },
    {
     "name": "stderr",
     "output_type": "stream",
     "text": [
      "\r",
      "  2%|█▏                                                                              | 75/5000 [00:15<20:12,  4.06it/s]"
     ]
    },
    {
     "name": "stdout",
     "output_type": "stream",
     "text": [
      "LB Smoothed 1.4558633621391082\n"
     ]
    },
    {
     "name": "stderr",
     "output_type": "stream",
     "text": [
      "\r",
      "  2%|█▏                                                                              | 76/5000 [00:15<20:01,  4.10it/s]"
     ]
    },
    {
     "name": "stdout",
     "output_type": "stream",
     "text": [
      "LB Smoothed 1.5001737968399886\n"
     ]
    },
    {
     "name": "stderr",
     "output_type": "stream",
     "text": [
      "\r",
      "  2%|█▏                                                                              | 77/5000 [00:16<20:03,  4.09it/s]"
     ]
    },
    {
     "name": "stdout",
     "output_type": "stream",
     "text": [
      "LB Smoothed 1.543553992337302\n"
     ]
    },
    {
     "name": "stderr",
     "output_type": "stream",
     "text": [
      "\r",
      "  2%|█▏                                                                              | 78/5000 [00:16<22:20,  3.67it/s]"
     ]
    },
    {
     "name": "stdout",
     "output_type": "stream",
     "text": [
      "LB Smoothed 1.5860255023487606\n"
     ]
    },
    {
     "name": "stderr",
     "output_type": "stream",
     "text": [
      "\r",
      "  2%|█▎                                                                              | 79/5000 [00:16<21:53,  3.75it/s]"
     ]
    },
    {
     "name": "stdout",
     "output_type": "stream",
     "text": [
      "LB Smoothed 1.6245768693998404\n"
     ]
    },
    {
     "name": "stderr",
     "output_type": "stream",
     "text": [
      "\r",
      "  2%|█▎                                                                              | 80/5000 [00:17<21:06,  3.89it/s]"
     ]
    },
    {
     "name": "stdout",
     "output_type": "stream",
     "text": [
      "LB Smoothed 1.6637465009312578\n"
     ]
    },
    {
     "name": "stderr",
     "output_type": "stream",
     "text": [
      "\r",
      "  2%|█▎                                                                              | 81/5000 [00:17<21:08,  3.88it/s]"
     ]
    },
    {
     "name": "stdout",
     "output_type": "stream",
     "text": [
      "LB Smoothed 1.7035901831505205\n"
     ]
    },
    {
     "name": "stderr",
     "output_type": "stream",
     "text": [
      "\r",
      "  2%|█▎                                                                              | 82/5000 [00:17<20:20,  4.03it/s]"
     ]
    },
    {
     "name": "stdout",
     "output_type": "stream",
     "text": [
      "LB Smoothed 1.741516783473864\n"
     ]
    },
    {
     "name": "stderr",
     "output_type": "stream",
     "text": [
      "\r",
      "  2%|█▎                                                                              | 83/5000 [00:17<19:53,  4.12it/s]"
     ]
    },
    {
     "name": "stdout",
     "output_type": "stream",
     "text": [
      "LB Smoothed 1.7797153892332325\n"
     ]
    },
    {
     "name": "stderr",
     "output_type": "stream",
     "text": [
      "  2%|█▎                                                                              | 85/5000 [00:18<18:17,  4.48it/s]"
     ]
    },
    {
     "name": "stdout",
     "output_type": "stream",
     "text": [
      "LB Smoothed 1.817122866805523\n",
      "LB Smoothed 1.853756938065355\n"
     ]
    },
    {
     "name": "stderr",
     "output_type": "stream",
     "text": [
      "\r",
      "  2%|█▍                                                                              | 86/5000 [00:18<18:28,  4.43it/s]"
     ]
    },
    {
     "name": "stdout",
     "output_type": "stream",
     "text": [
      "LB Smoothed 1.8896348567032581\n"
     ]
    },
    {
     "name": "stderr",
     "output_type": "stream",
     "text": [
      "  2%|█▍                                                                              | 88/5000 [00:18<17:21,  4.72it/s]"
     ]
    },
    {
     "name": "stdout",
     "output_type": "stream",
     "text": [
      "LB Smoothed 1.9247734248681752\n",
      "LB Smoothed 1.9591890089537818\n"
     ]
    },
    {
     "name": "stderr",
     "output_type": "stream",
     "text": [
      "\r",
      "  2%|█▍                                                                              | 89/5000 [00:19<17:26,  4.69it/s]"
     ]
    },
    {
     "name": "stdout",
     "output_type": "stream",
     "text": [
      "LB Smoothed 1.9928975545884935\n"
     ]
    },
    {
     "name": "stderr",
     "output_type": "stream",
     "text": [
      "\r",
      "  2%|█▍                                                                              | 90/5000 [00:19<18:59,  4.31it/s]"
     ]
    },
    {
     "name": "stdout",
     "output_type": "stream",
     "text": [
      "LB Smoothed 2.0259146008838895\n"
     ]
    },
    {
     "name": "stderr",
     "output_type": "stream",
     "text": [
      "  2%|█▍                                                                              | 92/5000 [00:19<18:50,  4.34it/s]"
     ]
    },
    {
     "name": "stdout",
     "output_type": "stream",
     "text": [
      "LB Smoothed 2.0573648892416467\n",
      "LB Smoothed 2.0890308940309725\n"
     ]
    },
    {
     "name": "stderr",
     "output_type": "stream",
     "text": [
      "\r",
      "  2%|█▍                                                                              | 93/5000 [00:19<18:25,  4.44it/s]"
     ]
    },
    {
     "name": "stdout",
     "output_type": "stream",
     "text": [
      "LB Smoothed 2.1200498546124917\n"
     ]
    },
    {
     "name": "stderr",
     "output_type": "stream",
     "text": [
      "  2%|█▌                                                                              | 95/5000 [00:20<17:27,  4.68it/s]"
     ]
    },
    {
     "name": "stdout",
     "output_type": "stream",
     "text": [
      "LB Smoothed 2.1504358118453517\n",
      "LB Smoothed 2.180202461817485\n"
     ]
    },
    {
     "name": "stderr",
     "output_type": "stream",
     "text": [
      "  2%|█▌                                                                              | 97/5000 [00:20<17:27,  4.68it/s]"
     ]
    },
    {
     "name": "stdout",
     "output_type": "stream",
     "text": [
      "LB Smoothed 2.209363166563119\n",
      "LB Smoothed 2.237930964314252\n"
     ]
    },
    {
     "name": "stderr",
     "output_type": "stream",
     "text": [
      "\r",
      "  2%|█▌                                                                              | 98/5000 [00:21<17:59,  4.54it/s]"
     ]
    },
    {
     "name": "stdout",
     "output_type": "stream",
     "text": [
      "LB Smoothed 2.2689509755666895\n"
     ]
    },
    {
     "name": "stderr",
     "output_type": "stream",
     "text": [
      "\r",
      "  2%|█▌                                                                              | 99/5000 [00:21<19:13,  4.25it/s]"
     ]
    },
    {
     "name": "stdout",
     "output_type": "stream",
     "text": [
      "LB Smoothed 2.296342455594919\n"
     ]
    },
    {
     "name": "stderr",
     "output_type": "stream",
     "text": [
      "  2%|█▌                                                                             | 101/5000 [00:21<18:11,  4.49it/s]"
     ]
    },
    {
     "name": "stdout",
     "output_type": "stream",
     "text": [
      "LB Smoothed 2.3218602390164196\n",
      "LB Smoothed 2.349283878395013\n"
     ]
    },
    {
     "name": "stderr",
     "output_type": "stream",
     "text": [
      "\r",
      "  2%|█▌                                                                             | 102/5000 [00:21<16:31,  4.94it/s]"
     ]
    },
    {
     "name": "stdout",
     "output_type": "stream",
     "text": [
      "LB Smoothed 2.375093684621752\n"
     ]
    },
    {
     "name": "stderr",
     "output_type": "stream",
     "text": [
      "\r",
      "  2%|█▋                                                                             | 103/5000 [00:22<17:47,  4.59it/s]"
     ]
    },
    {
     "name": "stdout",
     "output_type": "stream",
     "text": [
      "LB Smoothed 2.4003822891772306\n"
     ]
    },
    {
     "name": "stderr",
     "output_type": "stream",
     "text": [
      "\r",
      "  2%|█▋                                                                             | 104/5000 [00:22<17:33,  4.65it/s]"
     ]
    },
    {
     "name": "stdout",
     "output_type": "stream",
     "text": [
      "LB Smoothed 2.4251607193170353\n"
     ]
    },
    {
     "name": "stderr",
     "output_type": "stream",
     "text": [
      "  2%|█▋                                                                             | 106/5000 [00:22<17:10,  4.75it/s]"
     ]
    },
    {
     "name": "stdout",
     "output_type": "stream",
     "text": [
      "LB Smoothed 2.44943974668897\n",
      "LB Smoothed 2.4732298944274107\n"
     ]
    },
    {
     "name": "stderr",
     "output_type": "stream",
     "text": [
      "  2%|█▋                                                                             | 108/5000 [00:23<17:51,  4.56it/s]"
     ]
    },
    {
     "name": "stdout",
     "output_type": "stream",
     "text": [
      "LB Smoothed 2.496541443985212\n",
      "LB Smoothed 2.51938444171654\n"
     ]
    },
    {
     "name": "stderr",
     "output_type": "stream",
     "text": [
      "\r",
      "  2%|█▋                                                                             | 109/5000 [00:23<18:11,  4.48it/s]"
     ]
    },
    {
     "name": "stdout",
     "output_type": "stream",
     "text": [
      "LB Smoothed 2.541768705223136\n"
     ]
    },
    {
     "name": "stderr",
     "output_type": "stream",
     "text": [
      "  2%|█▊                                                                             | 111/5000 [00:23<17:44,  4.59it/s]"
     ]
    },
    {
     "name": "stdout",
     "output_type": "stream",
     "text": [
      "LB Smoothed 2.5654777446045762\n",
      "LB Smoothed 2.5869835356683066\n"
     ]
    },
    {
     "name": "stderr",
     "output_type": "stream",
     "text": [
      "  2%|█▊                                                                             | 113/5000 [00:24<16:07,  5.05it/s]"
     ]
    },
    {
     "name": "stdout",
     "output_type": "stream",
     "text": [
      "LB Smoothed 2.608058660067949\n",
      "LB Smoothed 2.628712078814251\n"
     ]
    },
    {
     "name": "stderr",
     "output_type": "stream",
     "text": [
      "\r",
      "  2%|█▊                                                                             | 114/5000 [00:24<15:47,  5.16it/s]"
     ]
    },
    {
     "name": "stdout",
     "output_type": "stream",
     "text": [
      "LB Smoothed 2.648952552804178\n"
     ]
    },
    {
     "name": "stderr",
     "output_type": "stream",
     "text": [
      "  2%|█▊                                                                             | 116/5000 [00:24<16:07,  5.05it/s]"
     ]
    },
    {
     "name": "stdout",
     "output_type": "stream",
     "text": [
      "LB Smoothed 2.6687886479650476\n",
      "LB Smoothed 2.688228740230227\n"
     ]
    },
    {
     "name": "stderr",
     "output_type": "stream",
     "text": [
      "\r",
      "  2%|█▊                                                                             | 117/5000 [00:25<15:46,  5.16it/s]"
     ]
    },
    {
     "name": "stdout",
     "output_type": "stream",
     "text": [
      "LB Smoothed 2.7072810203538893\n"
     ]
    },
    {
     "name": "stderr",
     "output_type": "stream",
     "text": [
      "  2%|█▉                                                                             | 119/5000 [00:25<16:20,  4.98it/s]"
     ]
    },
    {
     "name": "stdout",
     "output_type": "stream",
     "text": [
      "LB Smoothed 2.7275286042291556\n",
      "LB Smoothed 2.7472006113986085\n"
     ]
    },
    {
     "name": "stderr",
     "output_type": "stream",
     "text": [
      "\r",
      "  2%|█▉                                                                             | 120/5000 [00:25<17:06,  4.76it/s]"
     ]
    },
    {
     "name": "stdout",
     "output_type": "stream",
     "text": [
      "LB Smoothed 2.7651473590668654\n"
     ]
    },
    {
     "name": "stderr",
     "output_type": "stream",
     "text": [
      "  2%|█▉                                                                             | 122/5000 [00:26<16:52,  4.82it/s]"
     ]
    },
    {
     "name": "stdout",
     "output_type": "stream",
     "text": [
      "LB Smoothed 2.7823652830126933\n",
      "LB Smoothed 2.7996070261762593\n"
     ]
    },
    {
     "name": "stderr",
     "output_type": "stream",
     "text": [
      "\r",
      "  2%|█▉                                                                             | 123/5000 [00:26<17:28,  4.65it/s]"
     ]
    },
    {
     "name": "stdout",
     "output_type": "stream",
     "text": [
      "LB Smoothed 2.8165063694765013\n"
     ]
    },
    {
     "name": "stderr",
     "output_type": "stream",
     "text": [
      "  2%|█▉                                                                             | 125/5000 [00:26<17:23,  4.67it/s]"
     ]
    },
    {
     "name": "stdout",
     "output_type": "stream",
     "text": [
      "LB Smoothed 2.833070329860231\n",
      "LB Smoothed 2.849305772643675\n"
     ]
    },
    {
     "name": "stderr",
     "output_type": "stream",
     "text": [
      "\r",
      "  3%|█▉                                                                             | 126/5000 [00:27<17:25,  4.66it/s]"
     ]
    },
    {
     "name": "stdout",
     "output_type": "stream",
     "text": [
      "LB Smoothed 2.8652194151494133\n"
     ]
    },
    {
     "name": "stderr",
     "output_type": "stream",
     "text": [
      "\r",
      "  3%|██                                                                             | 127/5000 [00:27<17:19,  4.69it/s]"
     ]
    },
    {
     "name": "stdout",
     "output_type": "stream",
     "text": [
      "LB Smoothed 2.880616157068071\n"
     ]
    },
    {
     "name": "stderr",
     "output_type": "stream",
     "text": [
      "\r",
      "  3%|██                                                                             | 128/5000 [00:27<18:09,  4.47it/s]"
     ]
    },
    {
     "name": "stdout",
     "output_type": "stream",
     "text": [
      "LB Smoothed 2.8959046319481545\n",
      "LB Smoothed 2.9108906099937113\n"
     ]
    },
    {
     "name": "stderr",
     "output_type": "stream",
     "text": [
      "  3%|██                                                                             | 130/5000 [00:27<18:13,  4.45it/s]"
     ]
    },
    {
     "name": "stdout",
     "output_type": "stream",
     "text": [
      "LB Smoothed 2.9255802511844733\n"
     ]
    },
    {
     "name": "stderr",
     "output_type": "stream",
     "text": [
      "  3%|██                                                                             | 132/5000 [00:28<17:08,  4.73it/s]"
     ]
    },
    {
     "name": "stdout",
     "output_type": "stream",
     "text": [
      "LB Smoothed 2.9399795841655654\n",
      "LB Smoothed 2.9540945093085362\n"
     ]
    },
    {
     "name": "stderr",
     "output_type": "stream",
     "text": [
      "\r",
      "  3%|██                                                                             | 133/5000 [00:28<17:15,  4.70it/s]"
     ]
    },
    {
     "name": "stdout",
     "output_type": "stream",
     "text": [
      "LB Smoothed 2.9679308016881247\n"
     ]
    },
    {
     "name": "stderr",
     "output_type": "stream",
     "text": [
      "  3%|██▏                                                                            | 135/5000 [00:28<16:59,  4.77it/s]"
     ]
    },
    {
     "name": "stdout",
     "output_type": "stream",
     "text": [
      "LB Smoothed 2.98149411397776\n",
      "LB Smoothed 2.994789979266636\n"
     ]
    },
    {
     "name": "stderr",
     "output_type": "stream",
     "text": [
      "\r",
      "  3%|██▏                                                                            | 136/5000 [00:29<16:22,  4.95it/s]"
     ]
    },
    {
     "name": "stdout",
     "output_type": "stream",
     "text": [
      "LB Smoothed 3.0078238138010702\n"
     ]
    },
    {
     "name": "stderr",
     "output_type": "stream",
     "text": [
      "\r",
      "  3%|██▏                                                                            | 137/5000 [00:29<16:57,  4.78it/s]"
     ]
    },
    {
     "name": "stdout",
     "output_type": "stream",
     "text": [
      "LB Smoothed 3.020600919652736\n"
     ]
    },
    {
     "name": "stderr",
     "output_type": "stream",
     "text": [
      "\r",
      "  3%|██▏                                                                            | 138/5000 [00:29<17:23,  4.66it/s]"
     ]
    },
    {
     "name": "stdout",
     "output_type": "stream",
     "text": [
      "LB Smoothed 3.0331264873162516\n"
     ]
    },
    {
     "name": "stderr",
     "output_type": "stream",
     "text": [
      "\r",
      "  3%|██▏                                                                            | 139/5000 [00:29<17:31,  4.62it/s]"
     ]
    },
    {
     "name": "stdout",
     "output_type": "stream",
     "text": [
      "LB Smoothed 3.045405598238469\n"
     ]
    },
    {
     "name": "stderr",
     "output_type": "stream",
     "text": [
      "\r",
      "  3%|██▏                                                                            | 140/5000 [00:30<19:09,  4.23it/s]"
     ]
    },
    {
     "name": "stdout",
     "output_type": "stream",
     "text": [
      "LB Smoothed 3.0574091702683606\n"
     ]
    },
    {
     "name": "stderr",
     "output_type": "stream",
     "text": [
      "\r",
      "  3%|██▏                                                                            | 141/5000 [00:30<18:44,  4.32it/s]"
     ]
    },
    {
     "name": "stdout",
     "output_type": "stream",
     "text": [
      "LB Smoothed 3.0692088947018803\n"
     ]
    },
    {
     "name": "stderr",
     "output_type": "stream",
     "text": [
      "  3%|██▎                                                                            | 143/5000 [00:30<17:27,  4.64it/s]"
     ]
    },
    {
     "name": "stdout",
     "output_type": "stream",
     "text": [
      "LB Smoothed 3.0797805122604713\n",
      "LB Smoothed 3.091116882266434\n"
     ]
    },
    {
     "name": "stderr",
     "output_type": "stream",
     "text": [
      "\r",
      "  3%|██▎                                                                            | 144/5000 [00:30<17:27,  4.64it/s]"
     ]
    },
    {
     "name": "stdout",
     "output_type": "stream",
     "text": [
      "LB Smoothed 3.1022307127521365\n"
     ]
    },
    {
     "name": "stderr",
     "output_type": "stream",
     "text": [
      "\r",
      "  3%|██▎                                                                            | 145/5000 [00:31<18:35,  4.35it/s]"
     ]
    },
    {
     "name": "stdout",
     "output_type": "stream",
     "text": [
      "LB Smoothed 3.113126479795972\n"
     ]
    },
    {
     "name": "stderr",
     "output_type": "stream",
     "text": [
      "\r",
      "  3%|██▎                                                                            | 146/5000 [00:31<18:56,  4.27it/s]"
     ]
    },
    {
     "name": "stdout",
     "output_type": "stream",
     "text": [
      "LB Smoothed 3.124010239572926\n"
     ]
    },
    {
     "name": "stderr",
     "output_type": "stream",
     "text": [
      "  3%|██▎                                                                            | 148/5000 [00:31<17:51,  4.53it/s]"
     ]
    },
    {
     "name": "stdout",
     "output_type": "stream",
     "text": [
      "LB Smoothed 3.13448408235146\n",
      "LB Smoothed 3.1447527350337747\n"
     ]
    },
    {
     "name": "stderr",
     "output_type": "stream",
     "text": [
      "\r",
      "  3%|██▎                                                                            | 149/5000 [00:32<18:27,  4.38it/s]"
     ]
    },
    {
     "name": "stdout",
     "output_type": "stream",
     "text": [
      "LB Smoothed 3.1548203132299637\n"
     ]
    },
    {
     "name": "stderr",
     "output_type": "stream",
     "text": [
      "  3%|██▍                                                                            | 151/5000 [00:32<18:05,  4.47it/s]"
     ]
    },
    {
     "name": "stdout",
     "output_type": "stream",
     "text": [
      "LB Smoothed 3.1644355145206156\n",
      "LB Smoothed 3.174114025752449\n"
     ]
    },
    {
     "name": "stderr",
     "output_type": "stream",
     "text": [
      "  3%|██▍                                                                            | 153/5000 [00:32<16:34,  4.88it/s]"
     ]
    },
    {
     "name": "stdout",
     "output_type": "stream",
     "text": [
      "LB Smoothed 3.1836032884395533\n",
      "LB Smoothed 3.192907089046537\n"
     ]
    },
    {
     "name": "stderr",
     "output_type": "stream",
     "text": [
      "  3%|██▍                                                                            | 155/5000 [00:33<16:32,  4.88it/s]"
     ]
    },
    {
     "name": "stdout",
     "output_type": "stream",
     "text": [
      "LB Smoothed 3.202029136077344\n",
      "LB Smoothed 3.2109730617631294\n"
     ]
    },
    {
     "name": "stderr",
     "output_type": "stream",
     "text": [
      "  3%|██▍                                                                            | 157/5000 [00:33<17:11,  4.70it/s]"
     ]
    },
    {
     "name": "stdout",
     "output_type": "stream",
     "text": [
      "LB Smoothed 3.2197424237099015\n",
      "LB Smoothed 3.228340706507049\n"
     ]
    },
    {
     "name": "stderr",
     "output_type": "stream",
     "text": [
      "  3%|██▌                                                                            | 159/5000 [00:34<16:12,  4.98it/s]"
     ]
    },
    {
     "name": "stdout",
     "output_type": "stream",
     "text": [
      "LB Smoothed 3.236771323297867\n",
      "LB Smoothed 3.2454436076482343\n"
     ]
    },
    {
     "name": "stderr",
     "output_type": "stream",
     "text": [
      "  3%|██▌                                                                            | 161/5000 [00:34<16:24,  4.92it/s]"
     ]
    },
    {
     "name": "stdout",
     "output_type": "stream",
     "text": [
      "LB Smoothed 3.2535487021261664\n",
      "LB Smoothed 3.2624922338687425\n"
     ]
    },
    {
     "name": "stderr",
     "output_type": "stream",
     "text": [
      "  3%|██▌                                                                            | 163/5000 [00:35<16:15,  4.96it/s]"
     ]
    },
    {
     "name": "stdout",
     "output_type": "stream",
     "text": [
      "LB Smoothed 3.270289154924518\n",
      "LB Smoothed 3.277934407164422\n"
     ]
    },
    {
     "name": "stderr",
     "output_type": "stream",
     "text": [
      "\r",
      "  3%|██▌                                                                            | 164/5000 [00:35<16:13,  4.97it/s]"
     ]
    },
    {
     "name": "stdout",
     "output_type": "stream",
     "text": [
      "LB Smoothed 3.2854310064724204\n"
     ]
    },
    {
     "name": "stderr",
     "output_type": "stream",
     "text": [
      "  3%|██▌                                                                            | 166/5000 [00:35<16:18,  4.94it/s]"
     ]
    },
    {
     "name": "stdout",
     "output_type": "stream",
     "text": [
      "LB Smoothed 3.292781907305603\n",
      "LB Smoothed 3.299990003995096\n"
     ]
    },
    {
     "name": "stderr",
     "output_type": "stream",
     "text": [
      "\r",
      "  3%|██▋                                                                            | 167/5000 [00:35<15:28,  5.20it/s]"
     ]
    },
    {
     "name": "stdout",
     "output_type": "stream",
     "text": [
      "LB Smoothed 3.3070581320173176\n"
     ]
    },
    {
     "name": "stderr",
     "output_type": "stream",
     "text": [
      "\r",
      "  3%|██▋                                                                            | 168/5000 [00:36<15:43,  5.12it/s]"
     ]
    },
    {
     "name": "stdout",
     "output_type": "stream",
     "text": [
      "LB Smoothed 3.313989069236331\n"
     ]
    },
    {
     "name": "stderr",
     "output_type": "stream",
     "text": [
      "  3%|██▋                                                                            | 170/5000 [00:36<15:46,  5.11it/s]"
     ]
    },
    {
     "name": "stdout",
     "output_type": "stream",
     "text": [
      "LB Smoothed 3.32104087002136\n",
      "LB Smoothed 3.32770446099856\n"
     ]
    },
    {
     "name": "stderr",
     "output_type": "stream",
     "text": [
      "  3%|██▋                                                                            | 172/5000 [00:36<15:07,  5.32it/s]"
     ]
    },
    {
     "name": "stdout",
     "output_type": "stream",
     "text": [
      "LB Smoothed 3.3342388786252726\n",
      "LB Smoothed 3.340646681812421\n"
     ]
    },
    {
     "name": "stderr",
     "output_type": "stream",
     "text": [
      "  3%|██▋                                                                            | 174/5000 [00:37<16:22,  4.91it/s]"
     ]
    },
    {
     "name": "stdout",
     "output_type": "stream",
     "text": [
      "LB Smoothed 3.3469303776732566\n",
      "LB Smoothed 3.3530924226068906\n"
     ]
    },
    {
     "name": "stderr",
     "output_type": "stream",
     "text": [
      "\r",
      "  4%|██▊                                                                            | 175/5000 [00:37<16:21,  4.91it/s]"
     ]
    },
    {
     "name": "stdout",
     "output_type": "stream",
     "text": [
      "LB Smoothed 3.359135223357736\n"
     ]
    },
    {
     "name": "stderr",
     "output_type": "stream",
     "text": [
      "\r",
      "  4%|██▊                                                                            | 176/5000 [00:37<18:02,  4.46it/s]"
     ]
    },
    {
     "name": "stdout",
     "output_type": "stream",
     "text": [
      "LB Smoothed 3.3650611380514435\n"
     ]
    },
    {
     "name": "stderr",
     "output_type": "stream",
     "text": [
      "\r",
      "  4%|██▊                                                                            | 177/5000 [00:37<19:24,  4.14it/s]"
     ]
    },
    {
     "name": "stdout",
     "output_type": "stream",
     "text": [
      "LB Smoothed 3.370872477207926\n"
     ]
    },
    {
     "name": "stderr",
     "output_type": "stream",
     "text": [
      "\r",
      "  4%|██▊                                                                            | 178/5000 [00:38<18:52,  4.26it/s]"
     ]
    },
    {
     "name": "stdout",
     "output_type": "stream",
     "text": [
      "LB Smoothed 3.375192670593411\n"
     ]
    },
    {
     "name": "stderr",
     "output_type": "stream",
     "text": [
      "  4%|██▊                                                                            | 180/5000 [00:38<17:42,  4.54it/s]"
     ]
    },
    {
     "name": "stdout",
     "output_type": "stream",
     "text": [
      "LB Smoothed 3.380779966184257\n",
      "LB Smoothed 3.3854683692215644\n"
     ]
    },
    {
     "name": "stderr",
     "output_type": "stream",
     "text": [
      "\r",
      "  4%|██▊                                                                            | 181/5000 [00:38<16:50,  4.77it/s]"
     ]
    },
    {
     "name": "stdout",
     "output_type": "stream",
     "text": [
      "LB Smoothed 3.3908395863712086\n"
     ]
    },
    {
     "name": "stderr",
     "output_type": "stream",
     "text": [
      "\r",
      "  4%|██▉                                                                            | 182/5000 [00:39<18:23,  4.37it/s]"
     ]
    },
    {
     "name": "stdout",
     "output_type": "stream",
     "text": [
      "LB Smoothed 3.3961071531775673\n"
     ]
    },
    {
     "name": "stderr",
     "output_type": "stream",
     "text": [
      "\r",
      "  4%|██▉                                                                            | 183/5000 [00:39<19:25,  4.13it/s]"
     ]
    },
    {
     "name": "stdout",
     "output_type": "stream",
     "text": [
      "LB Smoothed 3.401273113927057\n"
     ]
    },
    {
     "name": "stderr",
     "output_type": "stream",
     "text": [
      "\r",
      "  4%|██▉                                                                            | 184/5000 [00:39<19:59,  4.02it/s]"
     ]
    },
    {
     "name": "stdout",
     "output_type": "stream",
     "text": [
      "LB Smoothed 3.406339471799388\n"
     ]
    },
    {
     "name": "stderr",
     "output_type": "stream",
     "text": [
      "  4%|██▉                                                                            | 186/5000 [00:40<17:41,  4.54it/s]"
     ]
    },
    {
     "name": "stdout",
     "output_type": "stream",
     "text": [
      "LB Smoothed 3.410087364646481\n",
      "LB Smoothed 3.4149593870466517\n"
     ]
    },
    {
     "name": "stderr",
     "output_type": "stream",
     "text": [
      "\r",
      "  4%|██▉                                                                            | 187/5000 [00:40<17:54,  4.48it/s]"
     ]
    },
    {
     "name": "stdout",
     "output_type": "stream",
     "text": [
      "LB Smoothed 3.4197375883419205\n"
     ]
    },
    {
     "name": "stderr",
     "output_type": "stream",
     "text": [
      "\r",
      "  4%|██▉                                                                            | 188/5000 [00:40<18:31,  4.33it/s]"
     ]
    },
    {
     "name": "stdout",
     "output_type": "stream",
     "text": [
      "LB Smoothed 3.4244238155604485\n"
     ]
    },
    {
     "name": "stderr",
     "output_type": "stream",
     "text": [
      "\r",
      "  4%|██▉                                                                            | 189/5000 [00:40<18:53,  4.25it/s]"
     ]
    },
    {
     "name": "stdout",
     "output_type": "stream",
     "text": [
      "LB Smoothed 3.4290198786843358\n"
     ]
    },
    {
     "name": "stderr",
     "output_type": "stream",
     "text": [
      "  4%|███                                                                            | 191/5000 [00:41<17:46,  4.51it/s]"
     ]
    },
    {
     "name": "stdout",
     "output_type": "stream",
     "text": [
      "LB Smoothed 3.432255809373032\n",
      "LB Smoothed 3.436674964093212\n"
     ]
    },
    {
     "name": "stderr",
     "output_type": "stream",
     "text": [
      "\r",
      "  4%|███                                                                            | 192/5000 [00:41<18:04,  4.43it/s]"
     ]
    },
    {
     "name": "stdout",
     "output_type": "stream",
     "text": [
      "LB Smoothed 3.4410091857724754\n"
     ]
    },
    {
     "name": "stderr",
     "output_type": "stream",
     "text": [
      "  4%|███                                                                            | 194/5000 [00:41<17:52,  4.48it/s]"
     ]
    },
    {
     "name": "stdout",
     "output_type": "stream",
     "text": [
      "LB Smoothed 3.444575930621221\n",
      "LB Smoothed 3.448745203263382\n"
     ]
    },
    {
     "name": "stderr",
     "output_type": "stream",
     "text": [
      "\r",
      "  4%|███                                                                            | 195/5000 [00:42<16:52,  4.74it/s]"
     ]
    },
    {
     "name": "stdout",
     "output_type": "stream",
     "text": [
      "LB Smoothed 3.4528344515780165\n"
     ]
    },
    {
     "name": "stderr",
     "output_type": "stream",
     "text": [
      "\r",
      "  4%|███                                                                            | 196/5000 [00:42<17:25,  4.60it/s]"
     ]
    },
    {
     "name": "stdout",
     "output_type": "stream",
     "text": [
      "LB Smoothed 3.4568452465866946\n"
     ]
    },
    {
     "name": "stderr",
     "output_type": "stream",
     "text": [
      "  4%|███▏                                                                           | 198/5000 [00:42<16:41,  4.79it/s]"
     ]
    },
    {
     "name": "stdout",
     "output_type": "stream",
     "text": [
      "LB Smoothed 3.4621579620554512\n",
      "LB Smoothed 3.4660180771408604\n"
     ]
    },
    {
     "name": "stderr",
     "output_type": "stream",
     "text": [
      "  4%|███▏                                                                           | 200/5000 [00:43<16:29,  4.85it/s]"
     ]
    },
    {
     "name": "stdout",
     "output_type": "stream",
     "text": [
      "LB Smoothed 3.47059523891049\n",
      "LB Smoothed 3.4743113197238897\n"
     ]
    },
    {
     "name": "stderr",
     "output_type": "stream",
     "text": [
      "\r",
      "  4%|███▏                                                                           | 201/5000 [00:43<16:54,  4.73it/s]"
     ]
    },
    {
     "name": "stdout",
     "output_type": "stream",
     "text": [
      "LB Smoothed 3.4779562912866804\n"
     ]
    },
    {
     "name": "stderr",
     "output_type": "stream",
     "text": [
      "\r",
      "  4%|███▏                                                                           | 202/5000 [00:43<17:51,  4.48it/s]"
     ]
    },
    {
     "name": "stdout",
     "output_type": "stream",
     "text": [
      "LB Smoothed 3.4815315462623984\n"
     ]
    },
    {
     "name": "stderr",
     "output_type": "stream",
     "text": [
      "\r",
      "  4%|███▏                                                                           | 203/5000 [00:43<18:53,  4.23it/s]"
     ]
    },
    {
     "name": "stdout",
     "output_type": "stream",
     "text": [
      "LB Smoothed 3.485038449564934\n"
     ]
    },
    {
     "name": "stderr",
     "output_type": "stream",
     "text": [
      "\r",
      "  4%|███▏                                                                           | 204/5000 [00:44<19:48,  4.03it/s]"
     ]
    },
    {
     "name": "stdout",
     "output_type": "stream",
     "text": [
      "LB Smoothed 3.4896991639923733\n"
     ]
    },
    {
     "name": "stderr",
     "output_type": "stream",
     "text": [
      "\r",
      "  4%|███▏                                                                           | 205/5000 [00:44<19:42,  4.06it/s]"
     ]
    },
    {
     "name": "stdout",
     "output_type": "stream",
     "text": [
      "LB Smoothed 3.4930743295553497\n"
     ]
    },
    {
     "name": "stderr",
     "output_type": "stream",
     "text": [
      "\r",
      "  4%|███▎                                                                           | 206/5000 [00:44<19:57,  4.00it/s]"
     ]
    },
    {
     "name": "stdout",
     "output_type": "stream",
     "text": [
      "LB Smoothed 3.496385066792744\n"
     ]
    },
    {
     "name": "stderr",
     "output_type": "stream",
     "text": [
      "\r",
      "  4%|███▎                                                                           | 207/5000 [00:44<20:18,  3.93it/s]"
     ]
    },
    {
     "name": "stdout",
     "output_type": "stream",
     "text": [
      "LB Smoothed 3.499632635173429\n"
     ]
    },
    {
     "name": "stderr",
     "output_type": "stream",
     "text": [
      "  4%|███▎                                                                           | 209/5000 [00:45<18:13,  4.38it/s]"
     ]
    },
    {
     "name": "stdout",
     "output_type": "stream",
     "text": [
      "LB Smoothed 3.502153422357685\n",
      "LB Smoothed 3.506549539794532\n"
     ]
    },
    {
     "name": "stderr",
     "output_type": "stream",
     "text": [
      "\r",
      "  4%|███▎                                                                           | 210/5000 [00:45<18:16,  4.37it/s]"
     ]
    },
    {
     "name": "stdout",
     "output_type": "stream",
     "text": [
      "LB Smoothed 3.50961625302144\n"
     ]
    },
    {
     "name": "stderr",
     "output_type": "stream",
     "text": [
      "\r",
      "  4%|███▎                                                                           | 211/5000 [00:45<19:22,  4.12it/s]"
     ]
    },
    {
     "name": "stdout",
     "output_type": "stream",
     "text": [
      "LB Smoothed 3.51262458456144\n"
     ]
    },
    {
     "name": "stderr",
     "output_type": "stream",
     "text": [
      "\r",
      "  4%|███▎                                                                           | 212/5000 [00:46<19:19,  4.13it/s]"
     ]
    },
    {
     "name": "stdout",
     "output_type": "stream",
     "text": [
      "LB Smoothed 3.5162598864848733\n"
     ]
    },
    {
     "name": "stderr",
     "output_type": "stream",
     "text": [
      "  4%|███▍                                                                           | 214/5000 [00:46<17:55,  4.45it/s]"
     ]
    },
    {
     "name": "stdout",
     "output_type": "stream",
     "text": [
      "LB Smoothed 3.519154906443094\n",
      "LB Smoothed 3.521994893966751\n"
     ]
    },
    {
     "name": "stderr",
     "output_type": "stream",
     "text": [
      "\r",
      "  4%|███▍                                                                           | 215/5000 [00:46<17:42,  4.50it/s]"
     ]
    },
    {
     "name": "stdout",
     "output_type": "stream",
     "text": [
      "LB Smoothed 3.5247809216942882\n"
     ]
    },
    {
     "name": "stderr",
     "output_type": "stream",
     "text": [
      "\r",
      "  4%|███▍                                                                           | 216/5000 [00:46<17:57,  4.44it/s]"
     ]
    },
    {
     "name": "stdout",
     "output_type": "stream",
     "text": [
      "LB Smoothed 3.5275140410010364\n"
     ]
    },
    {
     "name": "stderr",
     "output_type": "stream",
     "text": [
      "\r",
      "  4%|███▍                                                                           | 217/5000 [00:47<18:46,  4.25it/s]"
     ]
    },
    {
     "name": "stdout",
     "output_type": "stream",
     "text": [
      "LB Smoothed 3.529317510247041\n"
     ]
    },
    {
     "name": "stderr",
     "output_type": "stream",
     "text": [
      "\r",
      "  4%|███▍                                                                           | 218/5000 [00:47<18:47,  4.24it/s]"
     ]
    },
    {
     "name": "stdout",
     "output_type": "stream",
     "text": [
      "LB Smoothed 3.5319485960368113\n"
     ]
    },
    {
     "name": "stderr",
     "output_type": "stream",
     "text": [
      "\r",
      "  4%|███▍                                                                           | 219/5000 [00:47<19:03,  4.18it/s]"
     ]
    },
    {
     "name": "stdout",
     "output_type": "stream",
     "text": [
      "LB Smoothed 3.5345297975336734\n"
     ]
    },
    {
     "name": "stderr",
     "output_type": "stream",
     "text": [
      "  4%|███▍                                                                           | 221/5000 [00:48<18:12,  4.37it/s]"
     ]
    },
    {
     "name": "stdout",
     "output_type": "stream",
     "text": [
      "LB Smoothed 3.536730468467565\n",
      "LB Smoothed 3.5392148658789977\n"
     ]
    },
    {
     "name": "stderr",
     "output_type": "stream",
     "text": [
      "  4%|███▌                                                                           | 223/5000 [00:48<16:36,  4.80it/s]"
     ]
    },
    {
     "name": "stdout",
     "output_type": "stream",
     "text": [
      "LB Smoothed 3.5416522330397\n",
      "LB Smoothed 3.544043484057879\n"
     ]
    },
    {
     "name": "stderr",
     "output_type": "stream",
     "text": [
      "\r",
      "  4%|███▌                                                                           | 224/5000 [00:48<16:40,  4.77it/s]"
     ]
    },
    {
     "name": "stdout",
     "output_type": "stream",
     "text": [
      "LB Smoothed 3.546389514968227\n"
     ]
    },
    {
     "name": "stderr",
     "output_type": "stream",
     "text": [
      "\r",
      "  4%|███▌                                                                           | 225/5000 [00:48<16:35,  4.80it/s]"
     ]
    },
    {
     "name": "stdout",
     "output_type": "stream",
     "text": [
      "LB Smoothed 3.54869120409476\n"
     ]
    },
    {
     "name": "stderr",
     "output_type": "stream",
     "text": [
      "  5%|███▌                                                                           | 227/5000 [00:49<16:29,  4.82it/s]"
     ]
    },
    {
     "name": "stdout",
     "output_type": "stream",
     "text": [
      "LB Smoothed 3.550949412406217\n",
      "LB Smoothed 3.553829830630947\n"
     ]
    },
    {
     "name": "stderr",
     "output_type": "stream",
     "text": [
      "  5%|███▌                                                                           | 229/5000 [00:49<16:11,  4.91it/s]"
     ]
    },
    {
     "name": "stdout",
     "output_type": "stream",
     "text": [
      "LB Smoothed 3.5560041265456293\n",
      "LB Smoothed 3.5581374131212464\n"
     ]
    },
    {
     "name": "stderr",
     "output_type": "stream",
     "text": [
      "\r",
      "  5%|███▋                                                                           | 230/5000 [00:49<16:49,  4.72it/s]"
     ]
    },
    {
     "name": "stdout",
     "output_type": "stream",
     "text": [
      "LB Smoothed 3.560230485514744\n"
     ]
    },
    {
     "name": "stderr",
     "output_type": "stream",
     "text": [
      "\r",
      "  5%|███▋                                                                           | 231/5000 [00:50<17:29,  4.54it/s]"
     ]
    },
    {
     "name": "stdout",
     "output_type": "stream",
     "text": [
      "LB Smoothed 3.5622841231954645\n"
     ]
    },
    {
     "name": "stderr",
     "output_type": "stream",
     "text": [
      "  5%|███▋                                                                           | 233/5000 [00:50<17:01,  4.67it/s]"
     ]
    },
    {
     "name": "stdout",
     "output_type": "stream",
     "text": [
      "LB Smoothed 3.5642990902591443\n",
      "LB Smoothed 3.5662761357355\n"
     ]
    },
    {
     "name": "stderr",
     "output_type": "stream",
     "text": [
      "  5%|███▋                                                                           | 235/5000 [00:51<18:00,  4.41it/s]"
     ]
    },
    {
     "name": "stdout",
     "output_type": "stream",
     "text": [
      "LB Smoothed 3.568215993889547\n",
      "LB Smoothed 3.570119384516791\n"
     ]
    },
    {
     "name": "stderr",
     "output_type": "stream",
     "text": [
      "\r",
      "  5%|███▋                                                                           | 236/5000 [00:51<17:47,  4.46it/s]"
     ]
    },
    {
     "name": "stdout",
     "output_type": "stream",
     "text": [
      "LB Smoothed 3.572864785413038\n"
     ]
    },
    {
     "name": "stderr",
     "output_type": "stream",
     "text": [
      "  5%|███▊                                                                           | 238/5000 [00:51<17:31,  4.53it/s]"
     ]
    },
    {
     "name": "stdout",
     "output_type": "stream",
     "text": [
      "LB Smoothed 3.574696631817566\n",
      "LB Smoothed 3.5764940927872693\n"
     ]
    },
    {
     "name": "stderr",
     "output_type": "stream",
     "text": [
      "\r",
      "  5%|███▊                                                                           | 239/5000 [00:51<17:48,  4.45it/s]"
     ]
    },
    {
     "name": "stdout",
     "output_type": "stream",
     "text": [
      "LB Smoothed 3.5785894498632653\n"
     ]
    },
    {
     "name": "stderr",
     "output_type": "stream",
     "text": [
      "  5%|███▊                                                                           | 241/5000 [00:52<16:59,  4.67it/s]"
     ]
    },
    {
     "name": "stdout",
     "output_type": "stream",
     "text": [
      "LB Smoothed 3.580320048987524\n",
      "LB Smoothed 3.5820182182292974\n"
     ]
    },
    {
     "name": "stderr",
     "output_type": "stream",
     "text": [
      "\r",
      "  5%|███▊                                                                           | 242/5000 [00:52<16:11,  4.90it/s]"
     ]
    },
    {
     "name": "stdout",
     "output_type": "stream",
     "text": [
      "LB Smoothed 3.5836845838137177\n"
     ]
    },
    {
     "name": "stderr",
     "output_type": "stream",
     "text": [
      "  5%|███▊                                                                           | 244/5000 [00:53<17:03,  4.64it/s]"
     ]
    },
    {
     "name": "stdout",
     "output_type": "stream",
     "text": [
      "LB Smoothed 3.58531975965269\n",
      "LB Smoothed 3.5869243475902888\n"
     ]
    },
    {
     "name": "stderr",
     "output_type": "stream",
     "text": [
      "  5%|███▉                                                                           | 246/5000 [00:53<16:07,  4.91it/s]"
     ]
    },
    {
     "name": "stdout",
     "output_type": "stream",
     "text": [
      "LB Smoothed 3.5884989376431817\n",
      "LB Smoothed 3.590044108236203\n"
     ]
    },
    {
     "name": "stderr",
     "output_type": "stream",
     "text": [
      "\r",
      "  5%|███▉                                                                           | 247/5000 [00:53<16:03,  4.93it/s]"
     ]
    },
    {
     "name": "stdout",
     "output_type": "stream",
     "text": [
      "LB Smoothed 3.5915604264331455\n"
     ]
    },
    {
     "name": "stderr",
     "output_type": "stream",
     "text": [
      "  5%|███▉                                                                           | 249/5000 [00:54<16:47,  4.72it/s]"
     ]
    },
    {
     "name": "stdout",
     "output_type": "stream",
     "text": [
      "LB Smoothed 3.5930484481629037\n",
      "LB Smoothed 3.594508718441047\n"
     ]
    },
    {
     "name": "stderr",
     "output_type": "stream",
     "text": [
      "  5%|███▉                                                                           | 251/5000 [00:54<15:36,  5.07it/s]"
     ]
    },
    {
     "name": "stdout",
     "output_type": "stream",
     "text": [
      "LB Smoothed 3.595941771586917\n",
      "LB Smoothed 3.5973481314363482\n"
     ]
    },
    {
     "name": "stderr",
     "output_type": "stream",
     "text": [
      "\r",
      "  5%|███▉                                                                           | 252/5000 [00:54<17:14,  4.59it/s]"
     ]
    },
    {
     "name": "stdout",
     "output_type": "stream",
     "text": [
      "LB Smoothed 3.598728311550089\n"
     ]
    },
    {
     "name": "stderr",
     "output_type": "stream",
     "text": [
      "\r",
      "  5%|███▉                                                                           | 253/5000 [00:54<17:10,  4.61it/s]"
     ]
    },
    {
     "name": "stdout",
     "output_type": "stream",
     "text": [
      "LB Smoothed 3.599453833845456\n"
     ]
    },
    {
     "name": "stderr",
     "output_type": "stream",
     "text": [
      "  5%|████                                                                           | 255/5000 [00:55<17:08,  4.61it/s]"
     ]
    },
    {
     "name": "stdout",
     "output_type": "stream",
     "text": [
      "LB Smoothed 3.600782571119643\n",
      "LB Smoothed 3.602086614053578\n"
     ]
    },
    {
     "name": "stderr",
     "output_type": "stream",
     "text": [
      "  5%|████                                                                           | 257/5000 [00:55<16:29,  4.79it/s]"
     ]
    },
    {
     "name": "stdout",
     "output_type": "stream",
     "text": [
      "LB Smoothed 3.6033664371160827\n",
      "LB Smoothed 3.6046225054799037\n"
     ]
    },
    {
     "name": "stderr",
     "output_type": "stream",
     "text": [
      "\r",
      "  5%|████                                                                           | 258/5000 [00:55<16:17,  4.85it/s]"
     ]
    },
    {
     "name": "stdout",
     "output_type": "stream",
     "text": [
      "LB Smoothed 3.6058552752062756\n"
     ]
    },
    {
     "name": "stderr",
     "output_type": "stream",
     "text": [
      "\r",
      "  5%|████                                                                           | 259/5000 [00:56<16:44,  4.72it/s]"
     ]
    },
    {
     "name": "stdout",
     "output_type": "stream",
     "text": [
      "LB Smoothed 3.6070651934257714\n"
     ]
    },
    {
     "name": "stderr",
     "output_type": "stream",
     "text": [
      "  5%|████                                                                           | 261/5000 [00:56<16:36,  4.76it/s]"
     ]
    },
    {
     "name": "stdout",
     "output_type": "stream",
     "text": [
      "LB Smoothed 3.6082526985155132\n",
      "LB Smoothed 3.6094182202728233\n"
     ]
    },
    {
     "name": "stderr",
     "output_type": "stream",
     "text": [
      "  5%|████▏                                                                          | 263/5000 [00:57<15:36,  5.06it/s]"
     ]
    },
    {
     "name": "stdout",
     "output_type": "stream",
     "text": [
      "LB Smoothed 3.610562180085384\n",
      "LB Smoothed 3.6116849910979845\n"
     ]
    },
    {
     "name": "stderr",
     "output_type": "stream",
     "text": [
      "\r",
      "  5%|████▏                                                                          | 264/5000 [00:57<14:43,  5.36it/s]"
     ]
    },
    {
     "name": "stdout",
     "output_type": "stream",
     "text": [
      "LB Smoothed 3.6127870583759156\n"
     ]
    },
    {
     "name": "stderr",
     "output_type": "stream",
     "text": [
      "  5%|████▏                                                                          | 266/5000 [00:57<15:11,  5.20it/s]"
     ]
    },
    {
     "name": "stdout",
     "output_type": "stream",
     "text": [
      "LB Smoothed 3.61386877906509\n",
      "LB Smoothed 3.614930542548944\n"
     ]
    },
    {
     "name": "stderr",
     "output_type": "stream",
     "text": [
      "  5%|████▏                                                                          | 268/5000 [00:58<15:31,  5.08it/s]"
     ]
    },
    {
     "name": "stdout",
     "output_type": "stream",
     "text": [
      "LB Smoothed 3.6159727306021994\n",
      "LB Smoothed 3.6169957175415366\n"
     ]
    },
    {
     "name": "stderr",
     "output_type": "stream",
     "text": [
      "  5%|████▎                                                                          | 270/5000 [00:58<14:29,  5.44it/s]"
     ]
    },
    {
     "name": "stdout",
     "output_type": "stream",
     "text": [
      "LB Smoothed 3.617999870373258\n",
      "LB Smoothed 3.6189855489379785\n"
     ]
    },
    {
     "name": "stderr",
     "output_type": "stream",
     "text": [
      "\r",
      "  5%|████▎                                                                          | 271/5000 [00:58<14:07,  5.58it/s]"
     ]
    },
    {
     "name": "stdout",
     "output_type": "stream",
     "text": [
      "LB Smoothed 3.619953106052433\n",
      "LB Smoothed 3.621531869221019\n"
     ]
    },
    {
     "name": "stderr",
     "output_type": "stream",
     "text": [
      "  5%|████▎                                                                          | 274/5000 [00:59<14:58,  5.26it/s]"
     ]
    },
    {
     "name": "stdout",
     "output_type": "stream",
     "text": [
      "LB Smoothed 3.6224647984487732\n",
      "LB Smoothed 3.6233806195670506\n"
     ]
    },
    {
     "name": "stderr",
     "output_type": "stream",
     "text": [
      "\r",
      "  6%|████▎                                                                          | 275/5000 [00:59<17:29,  4.50it/s]"
     ]
    },
    {
     "name": "stdout",
     "output_type": "stream",
     "text": [
      "LB Smoothed 3.624279658652297\n"
     ]
    },
    {
     "name": "stderr",
     "output_type": "stream",
     "text": [
      "\r",
      "  6%|████▎                                                                          | 276/5000 [00:59<17:01,  4.63it/s]"
     ]
    },
    {
     "name": "stdout",
     "output_type": "stream",
     "text": [
      "LB Smoothed 3.624304123919067\n"
     ]
    },
    {
     "name": "stderr",
     "output_type": "stream",
     "text": [
      "  6%|████▍                                                                          | 278/5000 [01:00<17:06,  4.60it/s]"
     ]
    },
    {
     "name": "stdout",
     "output_type": "stream",
     "text": [
      "LB Smoothed 3.6251695412136713\n",
      "LB Smoothed 3.6260191261872374\n"
     ]
    },
    {
     "name": "stderr",
     "output_type": "stream",
     "text": [
      "\r",
      "  6%|████▍                                                                          | 279/5000 [01:00<15:58,  4.92it/s]"
     ]
    },
    {
     "name": "stdout",
     "output_type": "stream",
     "text": [
      "LB Smoothed 3.626853180181113\n"
     ]
    },
    {
     "name": "stderr",
     "output_type": "stream",
     "text": [
      "\r",
      "  6%|████▍                                                                          | 280/5000 [01:00<17:36,  4.47it/s]"
     ]
    },
    {
     "name": "stdout",
     "output_type": "stream",
     "text": [
      "LB Smoothed 3.6276719986690265\n"
     ]
    },
    {
     "name": "stderr",
     "output_type": "stream",
     "text": [
      "\r",
      "  6%|████▍                                                                          | 281/5000 [01:00<17:16,  4.55it/s]"
     ]
    },
    {
     "name": "stdout",
     "output_type": "stream",
     "text": [
      "LB Smoothed 3.6284758713729253\n"
     ]
    },
    {
     "name": "stderr",
     "output_type": "stream",
     "text": [
      "  6%|████▍                                                                          | 283/5000 [01:01<16:36,  4.73it/s]"
     ]
    },
    {
     "name": "stdout",
     "output_type": "stream",
     "text": [
      "LB Smoothed 3.6292650823765022\n",
      "LB Smoothed 3.6300399102364547\n"
     ]
    },
    {
     "name": "stderr",
     "output_type": "stream",
     "text": [
      "\r",
      "  6%|████▍                                                                          | 284/5000 [01:01<16:47,  4.68it/s]"
     ]
    },
    {
     "name": "stdout",
     "output_type": "stream",
     "text": [
      "LB Smoothed 3.6308006280915337\n"
     ]
    },
    {
     "name": "stderr",
     "output_type": "stream",
     "text": [
      "\r",
      "  6%|████▌                                                                          | 285/5000 [01:01<17:28,  4.50it/s]"
     ]
    },
    {
     "name": "stdout",
     "output_type": "stream",
     "text": [
      "LB Smoothed 3.6315475037694047\n"
     ]
    },
    {
     "name": "stderr",
     "output_type": "stream",
     "text": [
      "\r",
      "  6%|████▌                                                                          | 286/5000 [01:01<18:04,  4.35it/s]"
     ]
    },
    {
     "name": "stdout",
     "output_type": "stream",
     "text": [
      "LB Smoothed 3.631185476396838\n"
     ]
    },
    {
     "name": "stderr",
     "output_type": "stream",
     "text": [
      "  6%|████▌                                                                          | 288/5000 [01:02<16:52,  4.65it/s]"
     ]
    },
    {
     "name": "stdout",
     "output_type": "stream",
     "text": [
      "LB Smoothed 3.6319043454422424\n",
      "LB Smoothed 3.6326101569323597\n"
     ]
    },
    {
     "name": "stderr",
     "output_type": "stream",
     "text": [
      "  6%|████▌                                                                          | 290/5000 [01:02<15:16,  5.14it/s]"
     ]
    },
    {
     "name": "stdout",
     "output_type": "stream",
     "text": [
      "LB Smoothed 3.633303158351084\n",
      "LB Smoothed 3.6339835923754227\n"
     ]
    },
    {
     "name": "stderr",
     "output_type": "stream",
     "text": [
      "  6%|████▌                                                                          | 292/5000 [01:02<14:27,  5.42it/s]"
     ]
    },
    {
     "name": "stdout",
     "output_type": "stream",
     "text": [
      "LB Smoothed 3.634651696970225\n",
      "LB Smoothed 3.6353077054810172\n"
     ]
    },
    {
     "name": "stderr",
     "output_type": "stream",
     "text": [
      "  6%|████▋                                                                          | 294/5000 [01:03<15:10,  5.17it/s]"
     ]
    },
    {
     "name": "stdout",
     "output_type": "stream",
     "text": [
      "LB Smoothed 3.635951846724994\n",
      "LB Smoothed 3.636584345080199\n"
     ]
    },
    {
     "name": "stderr",
     "output_type": "stream",
     "text": [
      "\r",
      "  6%|████▋                                                                          | 295/5000 [01:03<16:25,  4.77it/s]"
     ]
    },
    {
     "name": "stdout",
     "output_type": "stream",
     "text": [
      "LB Smoothed 3.6380635320803085\n"
     ]
    },
    {
     "name": "stderr",
     "output_type": "stream",
     "text": [
      "  6%|████▋                                                                          | 297/5000 [01:04<15:39,  5.01it/s]"
     ]
    },
    {
     "name": "stdout",
     "output_type": "stream",
     "text": [
      "LB Smoothed 3.6386744111321776\n",
      "LB Smoothed 3.639274285549766\n"
     ]
    },
    {
     "name": "stderr",
     "output_type": "stream",
     "text": [
      "\r",
      "  6%|████▋                                                                          | 298/5000 [01:04<15:40,  5.00it/s]"
     ]
    },
    {
     "name": "stdout",
     "output_type": "stream",
     "text": [
      "LB Smoothed 3.639863362871589\n"
     ]
    },
    {
     "name": "stderr",
     "output_type": "stream",
     "text": [
      "  6%|████▋                                                                          | 300/5000 [01:04<15:30,  5.05it/s]"
     ]
    },
    {
     "name": "stdout",
     "output_type": "stream",
     "text": [
      "LB Smoothed 3.640441846617377\n",
      "LB Smoothed 3.6410099363670896\n"
     ]
    },
    {
     "name": "stderr",
     "output_type": "stream",
     "text": [
      "\r",
      "  6%|████▊                                                                          | 301/5000 [01:04<16:38,  4.71it/s]"
     ]
    },
    {
     "name": "stdout",
     "output_type": "stream",
     "text": [
      "LB Smoothed 3.641567827838357\n"
     ]
    },
    {
     "name": "stderr",
     "output_type": "stream",
     "text": [
      "  6%|████▊                                                                          | 303/5000 [01:05<16:13,  4.83it/s]"
     ]
    },
    {
     "name": "stdout",
     "output_type": "stream",
     "text": [
      "LB Smoothed 3.6421157129623967\n",
      "LB Smoothed 3.6426537799584024\n"
     ]
    },
    {
     "name": "stderr",
     "output_type": "stream",
     "text": [
      "  6%|████▊                                                                          | 305/5000 [01:05<15:16,  5.12it/s]"
     ]
    },
    {
     "name": "stdout",
     "output_type": "stream",
     "text": [
      "LB Smoothed 3.643182213406477\n",
      "LB Smoothed 3.644796517813659\n"
     ]
    },
    {
     "name": "stderr",
     "output_type": "stream",
     "text": [
      "  6%|████▊                                                                          | 307/5000 [01:06<15:17,  5.12it/s]"
     ]
    },
    {
     "name": "stdout",
     "output_type": "stream",
     "text": [
      "LB Smoothed 3.64530732874409\n",
      "LB Smoothed 3.645809026771601\n"
     ]
    },
    {
     "name": "stderr",
     "output_type": "stream",
     "text": [
      "  6%|████▉                                                                          | 309/5000 [01:06<14:22,  5.44it/s]"
     ]
    },
    {
     "name": "stdout",
     "output_type": "stream",
     "text": [
      "LB Smoothed 3.6463017827467916\n",
      "LB Smoothed 3.6467857642236807\n"
     ]
    },
    {
     "name": "stderr",
     "output_type": "stream",
     "text": [
      "\r",
      "  6%|████▉                                                                          | 310/5000 [01:06<14:43,  5.31it/s]"
     ]
    },
    {
     "name": "stdout",
     "output_type": "stream",
     "text": [
      "LB Smoothed 3.647261135524358\n"
     ]
    },
    {
     "name": "stderr",
     "output_type": "stream",
     "text": [
      "\r",
      "  6%|████▉                                                                          | 311/5000 [01:06<15:26,  5.06it/s]"
     ]
    },
    {
     "name": "stdout",
     "output_type": "stream",
     "text": [
      "LB Smoothed 3.647728057802347\n"
     ]
    },
    {
     "name": "stderr",
     "output_type": "stream",
     "text": [
      "  6%|████▉                                                                          | 313/5000 [01:07<15:16,  5.11it/s]"
     ]
    },
    {
     "name": "stdout",
     "output_type": "stream",
     "text": [
      "LB Smoothed 3.6481866891047288\n",
      "LB Smoothed 3.648637184433019\n"
     ]
    },
    {
     "name": "stderr",
     "output_type": "stream",
     "text": [
      "  6%|████▉                                                                          | 315/5000 [01:07<14:55,  5.23it/s]"
     ]
    },
    {
     "name": "stdout",
     "output_type": "stream",
     "text": [
      "LB Smoothed 3.6490796958028473\n",
      "LB Smoothed 3.649514372302457\n"
     ]
    },
    {
     "name": "stderr",
     "output_type": "stream",
     "text": [
      "\r",
      "  6%|████▉                                                                          | 316/5000 [01:07<13:44,  5.68it/s]"
     ]
    },
    {
     "name": "stdout",
     "output_type": "stream",
     "text": [
      "LB Smoothed 3.6499413601500423\n"
     ]
    },
    {
     "name": "stderr",
     "output_type": "stream",
     "text": [
      "\r",
      "  6%|█████                                                                          | 317/5000 [01:07<15:08,  5.15it/s]"
     ]
    },
    {
     "name": "stdout",
     "output_type": "stream",
     "text": [
      "LB Smoothed 3.650360802749956\n"
     ]
    },
    {
     "name": "stderr",
     "output_type": "stream",
     "text": [
      "  6%|█████                                                                          | 319/5000 [01:08<14:02,  5.56it/s]"
     ]
    },
    {
     "name": "stdout",
     "output_type": "stream",
     "text": [
      "LB Smoothed 3.6507728407477926\n",
      "LB Smoothed 3.651177612084406\n"
     ]
    },
    {
     "name": "stderr",
     "output_type": "stream",
     "text": [
      "\r",
      "  6%|█████                                                                          | 320/5000 [01:08<14:51,  5.25it/s]"
     ]
    },
    {
     "name": "stdout",
     "output_type": "stream",
     "text": [
      "LB Smoothed 3.651575252048826\n"
     ]
    },
    {
     "name": "stderr",
     "output_type": "stream",
     "text": [
      "  6%|█████                                                                          | 322/5000 [01:08<15:37,  4.99it/s]"
     ]
    },
    {
     "name": "stdout",
     "output_type": "stream",
     "text": [
      "LB Smoothed 3.6519658933301584\n",
      "LB Smoothed 3.6523496660684445\n"
     ]
    },
    {
     "name": "stderr",
     "output_type": "stream",
     "text": [
      "  6%|█████                                                                          | 324/5000 [01:09<14:49,  5.26it/s]"
     ]
    },
    {
     "name": "stdout",
     "output_type": "stream",
     "text": [
      "LB Smoothed 3.652726697904507\n",
      "LB Smoothed 3.6530971140288355\n"
     ]
    },
    {
     "name": "stderr",
     "output_type": "stream",
     "text": [
      "\r",
      "  6%|█████▏                                                                         | 325/5000 [01:09<15:06,  5.16it/s]"
     ]
    },
    {
     "name": "stdout",
     "output_type": "stream",
     "text": [
      "LB Smoothed 3.653461037229478\n"
     ]
    },
    {
     "name": "stderr",
     "output_type": "stream",
     "text": [
      "  7%|█████▏                                                                         | 327/5000 [01:09<14:46,  5.27it/s]"
     ]
    },
    {
     "name": "stdout",
     "output_type": "stream",
     "text": [
      "LB Smoothed 3.6538185879390044\n",
      "LB Smoothed 3.654169884280537\n"
     ]
    },
    {
     "name": "stderr",
     "output_type": "stream",
     "text": [
      "  7%|█████▏                                                                         | 329/5000 [01:10<14:13,  5.47it/s]"
     ]
    },
    {
     "name": "stdout",
     "output_type": "stream",
     "text": [
      "LB Smoothed 3.654515042112866\n",
      "LB Smoothed 3.654854175074686\n"
     ]
    },
    {
     "name": "stderr",
     "output_type": "stream",
     "text": [
      "\r",
      "  7%|█████▏                                                                         | 330/5000 [01:10<15:38,  4.97it/s]"
     ]
    },
    {
     "name": "stdout",
     "output_type": "stream",
     "text": [
      "LB Smoothed 3.6551873946279456\n"
     ]
    },
    {
     "name": "stderr",
     "output_type": "stream",
     "text": [
      "  7%|█████▏                                                                         | 332/5000 [01:10<14:28,  5.38it/s]"
     ]
    },
    {
     "name": "stdout",
     "output_type": "stream",
     "text": [
      "LB Smoothed 3.6555148101003523\n",
      "LB Smoothed 3.655836528727028\n"
     ]
    },
    {
     "name": "stderr",
     "output_type": "stream",
     "text": [
      "  7%|█████▎                                                                         | 334/5000 [01:11<13:00,  5.98it/s]"
     ]
    },
    {
     "name": "stdout",
     "output_type": "stream",
     "text": [
      "LB Smoothed 3.656152655691354\n",
      "LB Smoothed 3.656463294165001\n"
     ]
    },
    {
     "name": "stderr",
     "output_type": "stream",
     "text": [
      "  7%|█████▎                                                                         | 336/5000 [01:11<13:07,  5.92it/s]"
     ]
    },
    {
     "name": "stdout",
     "output_type": "stream",
     "text": [
      "LB Smoothed 3.656768545347164\n",
      "LB Smoothed 3.657068508503046\n"
     ]
    },
    {
     "name": "stderr",
     "output_type": "stream",
     "text": [
      "  7%|█████▎                                                                         | 338/5000 [01:11<11:59,  6.48it/s]"
     ]
    },
    {
     "name": "stdout",
     "output_type": "stream",
     "text": [
      "LB Smoothed 3.6573632810015555\n",
      "LB Smoothed 3.6576529583522763\n"
     ]
    },
    {
     "name": "stderr",
     "output_type": "stream",
     "text": [
      "  7%|█████▎                                                                         | 340/5000 [01:12<11:22,  6.83it/s]"
     ]
    },
    {
     "name": "stdout",
     "output_type": "stream",
     "text": [
      "LB Smoothed 3.657937634241707\n",
      "LB Smoothed 3.6582174005687764\n"
     ]
    },
    {
     "name": "stderr",
     "output_type": "stream",
     "text": [
      "  7%|█████▍                                                                         | 342/5000 [01:12<12:50,  6.05it/s]"
     ]
    },
    {
     "name": "stdout",
     "output_type": "stream",
     "text": [
      "LB Smoothed 3.658492347479672\n",
      "LB Smoothed 3.6587625634019765\n"
     ]
    },
    {
     "name": "stderr",
     "output_type": "stream",
     "text": [
      "  7%|█████▍                                                                         | 344/5000 [01:12<13:50,  5.60it/s]"
     ]
    },
    {
     "name": "stdout",
     "output_type": "stream",
     "text": [
      "LB Smoothed 3.6590281350781253\n",
      "LB Smoothed 3.6592891475982148\n"
     ]
    },
    {
     "name": "stderr",
     "output_type": "stream",
     "text": [
      "  7%|█████▍                                                                         | 346/5000 [01:13<13:52,  5.59it/s]"
     ]
    },
    {
     "name": "stdout",
     "output_type": "stream",
     "text": [
      "LB Smoothed 3.659545684432156\n",
      "LB Smoothed 3.6597978274612024\n"
     ]
    },
    {
     "name": "stderr",
     "output_type": "stream",
     "text": [
      "\r",
      "  7%|█████▍                                                                         | 347/5000 [01:13<15:05,  5.14it/s]"
     ]
    },
    {
     "name": "stdout",
     "output_type": "stream",
     "text": [
      "LB Smoothed 3.6600456570088524\n"
     ]
    },
    {
     "name": "stderr",
     "output_type": "stream",
     "text": [
      "\r",
      "  7%|█████▍                                                                         | 348/5000 [01:13<16:17,  4.76it/s]"
     ]
    },
    {
     "name": "stdout",
     "output_type": "stream",
     "text": [
      "LB Smoothed 3.660289251871143\n"
     ]
    },
    {
     "name": "stderr",
     "output_type": "stream",
     "text": [
      "  7%|█████▌                                                                         | 350/5000 [01:14<16:08,  4.80it/s]"
     ]
    },
    {
     "name": "stdout",
     "output_type": "stream",
     "text": [
      "LB Smoothed 3.6605286893463465\n",
      "LB Smoothed 3.6607640452640866\n"
     ]
    },
    {
     "name": "stderr",
     "output_type": "stream",
     "text": [
      "\r",
      "  7%|█████▌                                                                         | 351/5000 [01:14<16:15,  4.77it/s]"
     ]
    },
    {
     "name": "stdout",
     "output_type": "stream",
     "text": [
      "LB Smoothed 3.6609953940138755\n"
     ]
    },
    {
     "name": "stderr",
     "output_type": "stream",
     "text": [
      "\r",
      "  7%|█████▌                                                                         | 352/5000 [01:14<16:19,  4.74it/s]"
     ]
    },
    {
     "name": "stdout",
     "output_type": "stream",
     "text": [
      "LB Smoothed 3.6612228085730996\n"
     ]
    },
    {
     "name": "stderr",
     "output_type": "stream",
     "text": [
      "  7%|█████▌                                                                         | 354/5000 [01:14<16:09,  4.79it/s]"
     ]
    },
    {
     "name": "stdout",
     "output_type": "stream",
     "text": [
      "LB Smoothed 3.661446360534441\n",
      "LB Smoothed 3.6616661201327676\n"
     ]
    },
    {
     "name": "stderr",
     "output_type": "stream",
     "text": [
      "\r",
      "  7%|█████▌                                                                         | 355/5000 [01:15<15:58,  4.85it/s]"
     ]
    },
    {
     "name": "stdout",
     "output_type": "stream",
     "text": [
      "LB Smoothed 3.661882156271495\n"
     ]
    },
    {
     "name": "stderr",
     "output_type": "stream",
     "text": [
      "  7%|█████▋                                                                         | 357/5000 [01:15<16:26,  4.71it/s]"
     ]
    },
    {
     "name": "stdout",
     "output_type": "stream",
     "text": [
      "LB Smoothed 3.6620945365484276\n",
      "LB Smoothed 3.662303327281091\n"
     ]
    },
    {
     "name": "stderr",
     "output_type": "stream",
     "text": [
      "\r",
      "  7%|█████▋                                                                         | 358/5000 [01:15<18:37,  4.15it/s]"
     ]
    },
    {
     "name": "stdout",
     "output_type": "stream",
     "text": [
      "LB Smoothed 3.6625085935315673\n"
     ]
    },
    {
     "name": "stderr",
     "output_type": "stream",
     "text": [
      "\r",
      "  7%|█████▋                                                                         | 359/5000 [01:16<19:17,  4.01it/s]"
     ]
    },
    {
     "name": "stdout",
     "output_type": "stream",
     "text": [
      "LB Smoothed 3.662710399130839\n"
     ]
    },
    {
     "name": "stderr",
     "output_type": "stream",
     "text": [
      "  7%|█████▋                                                                         | 361/5000 [01:16<18:16,  4.23it/s]"
     ]
    },
    {
     "name": "stdout",
     "output_type": "stream",
     "text": [
      "LB Smoothed 3.6629088067026685\n",
      "LB Smoothed 3.663103877686982\n"
     ]
    },
    {
     "name": "stderr",
     "output_type": "stream",
     "text": [
      "\r",
      "  7%|█████▋                                                                         | 362/5000 [01:16<19:37,  3.94it/s]"
     ]
    },
    {
     "name": "stdout",
     "output_type": "stream",
     "text": [
      "LB Smoothed 3.6632956723628225\n"
     ]
    },
    {
     "name": "stderr",
     "output_type": "stream",
     "text": [
      "  7%|█████▊                                                                         | 364/5000 [01:17<16:22,  4.72it/s]"
     ]
    },
    {
     "name": "stdout",
     "output_type": "stream",
     "text": [
      "LB Smoothed 3.66348424987083\n",
      "LB Smoothed 3.6636696682352947\n"
     ]
    },
    {
     "name": "stderr",
     "output_type": "stream",
     "text": [
      "  7%|█████▊                                                                         | 366/5000 [01:17<14:21,  5.38it/s]"
     ]
    },
    {
     "name": "stdout",
     "output_type": "stream",
     "text": [
      "LB Smoothed 3.6638519843857678\n",
      "LB Smoothed 3.664031254178254\n"
     ]
    },
    {
     "name": "stderr",
     "output_type": "stream",
     "text": [
      "\r",
      "  7%|█████▊                                                                         | 367/5000 [01:17<15:24,  5.01it/s]"
     ]
    },
    {
     "name": "stdout",
     "output_type": "stream",
     "text": [
      "LB Smoothed 3.664207532415987\n"
     ]
    },
    {
     "name": "stderr",
     "output_type": "stream",
     "text": [
      "\r",
      "  7%|█████▊                                                                         | 368/5000 [01:18<16:00,  4.82it/s]"
     ]
    },
    {
     "name": "stdout",
     "output_type": "stream",
     "text": [
      "LB Smoothed 3.664380872869787\n"
     ]
    },
    {
     "name": "stderr",
     "output_type": "stream",
     "text": [
      "\r",
      "  7%|█████▊                                                                         | 369/5000 [01:18<17:18,  4.46it/s]"
     ]
    },
    {
     "name": "stdout",
     "output_type": "stream",
     "text": [
      "LB Smoothed 3.6645513282980384\n"
     ]
    },
    {
     "name": "stderr",
     "output_type": "stream",
     "text": [
      "\r",
      "  7%|█████▊                                                                         | 370/5000 [01:18<17:12,  4.48it/s]"
     ]
    },
    {
     "name": "stdout",
     "output_type": "stream",
     "text": [
      "LB Smoothed 3.6647189504662587\n"
     ]
    },
    {
     "name": "stderr",
     "output_type": "stream",
     "text": [
      "\r",
      "  7%|█████▊                                                                         | 371/5000 [01:18<17:22,  4.44it/s]"
     ]
    },
    {
     "name": "stdout",
     "output_type": "stream",
     "text": [
      "LB Smoothed 3.664883790166289\n"
     ]
    },
    {
     "name": "stderr",
     "output_type": "stream",
     "text": [
      "\r",
      "  7%|█████▉                                                                         | 372/5000 [01:19<17:16,  4.47it/s]"
     ]
    },
    {
     "name": "stdout",
     "output_type": "stream",
     "text": [
      "LB Smoothed 3.665045897235112\n"
     ]
    },
    {
     "name": "stderr",
     "output_type": "stream",
     "text": [
      "  7%|█████▉                                                                         | 374/5000 [01:19<16:18,  4.73it/s]"
     ]
    },
    {
     "name": "stdout",
     "output_type": "stream",
     "text": [
      "LB Smoothed 3.6652053205732957\n",
      "LB Smoothed 3.6653621081630727\n"
     ]
    },
    {
     "name": "stderr",
     "output_type": "stream",
     "text": [
      "\r",
      "  8%|█████▉                                                                         | 375/5000 [01:19<16:03,  4.80it/s]"
     ]
    },
    {
     "name": "stdout",
     "output_type": "stream",
     "text": [
      "LB Smoothed 3.6655163070860763\n"
     ]
    },
    {
     "name": "stderr",
     "output_type": "stream",
     "text": [
      "  8%|█████▉                                                                         | 377/5000 [01:19<14:43,  5.23it/s]"
     ]
    },
    {
     "name": "stdout",
     "output_type": "stream",
     "text": [
      "LB Smoothed 3.6656679635407206\n",
      "LB Smoothed 3.6658171228592358\n"
     ]
    },
    {
     "name": "stderr",
     "output_type": "stream",
     "text": [
      "\r",
      "  8%|█████▉                                                                         | 378/5000 [01:20<14:12,  5.42it/s]"
     ]
    },
    {
     "name": "stdout",
     "output_type": "stream",
     "text": [
      "LB Smoothed 3.6659638295243835\n"
     ]
    },
    {
     "name": "stderr",
     "output_type": "stream",
     "text": [
      "  8%|██████                                                                         | 380/5000 [01:20<15:56,  4.83it/s]"
     ]
    },
    {
     "name": "stdout",
     "output_type": "stream",
     "text": [
      "LB Smoothed 3.66610812718583\n",
      "LB Smoothed 3.666250058676211\n"
     ]
    },
    {
     "name": "stderr",
     "output_type": "stream",
     "text": [
      "\r",
      "  8%|██████                                                                         | 381/5000 [01:20<16:07,  4.77it/s]"
     ]
    },
    {
     "name": "stdout",
     "output_type": "stream",
     "text": [
      "LB Smoothed 3.6663896660268676\n",
      "LB Smoothed 3.6665269904832942\n"
     ]
    },
    {
     "name": "stderr",
     "output_type": "stream",
     "text": [
      "  8%|██████                                                                         | 384/5000 [01:21<15:28,  4.97it/s]"
     ]
    },
    {
     "name": "stdout",
     "output_type": "stream",
     "text": [
      "LB Smoothed 3.6666620725202623\n",
      "LB Smoothed 3.6667949518566623\n"
     ]
    },
    {
     "name": "stderr",
     "output_type": "stream",
     "text": [
      "  8%|██████                                                                         | 386/5000 [01:21<15:03,  5.11it/s]"
     ]
    },
    {
     "name": "stdout",
     "output_type": "stream",
     "text": [
      "LB Smoothed 3.6669256674700526\n",
      "LB Smoothed 3.6670542576109177\n"
     ]
    },
    {
     "name": "stderr",
     "output_type": "stream",
     "text": [
      "\r",
      "  8%|██████                                                                         | 387/5000 [01:22<15:30,  4.96it/s]"
     ]
    },
    {
     "name": "stdout",
     "output_type": "stream",
     "text": [
      "LB Smoothed 3.6671807598166564\n"
     ]
    },
    {
     "name": "stderr",
     "output_type": "stream",
     "text": [
      "\r",
      "  8%|██████▏                                                                        | 388/5000 [01:22<16:49,  4.57it/s]"
     ]
    },
    {
     "name": "stdout",
     "output_type": "stream",
     "text": [
      "LB Smoothed 3.667305210925289\n"
     ]
    },
    {
     "name": "stderr",
     "output_type": "stream",
     "text": [
      "  8%|██████▏                                                                        | 390/5000 [01:22<15:47,  4.87it/s]"
     ]
    },
    {
     "name": "stdout",
     "output_type": "stream",
     "text": [
      "LB Smoothed 3.667427647088903\n",
      "LB Smoothed 3.667548103786827\n"
     ]
    },
    {
     "name": "stderr",
     "output_type": "stream",
     "text": [
      "  8%|██████▏                                                                        | 392/5000 [01:23<14:35,  5.26it/s]"
     ]
    },
    {
     "name": "stdout",
     "output_type": "stream",
     "text": [
      "LB Smoothed 3.667666615838558\n",
      "LB Smoothed 3.6677832174164258\n"
     ]
    },
    {
     "name": "stderr",
     "output_type": "stream",
     "text": [
      "\r",
      "  8%|██████▏                                                                        | 393/5000 [01:23<15:12,  5.05it/s]"
     ]
    },
    {
     "name": "stdout",
     "output_type": "stream",
     "text": [
      "LB Smoothed 3.6678979420580182\n"
     ]
    },
    {
     "name": "stderr",
     "output_type": "stream",
     "text": [
      "  8%|██████▏                                                                        | 395/5000 [01:23<15:06,  5.08it/s]"
     ]
    },
    {
     "name": "stdout",
     "output_type": "stream",
     "text": [
      "LB Smoothed 3.6680108226783577\n",
      "LB Smoothed 3.6681218915818423\n"
     ]
    },
    {
     "name": "stderr",
     "output_type": "stream",
     "text": [
      "  8%|██████▎                                                                        | 397/5000 [01:24<14:38,  5.24it/s]"
     ]
    },
    {
     "name": "stdout",
     "output_type": "stream",
     "text": [
      "LB Smoothed 3.6682311804739562\n",
      "LB Smoothed 3.6683387204727453\n"
     ]
    },
    {
     "name": "stderr",
     "output_type": "stream",
     "text": [
      "  8%|██████▎                                                                        | 399/5000 [01:24<15:05,  5.08it/s]"
     ]
    },
    {
     "name": "stdout",
     "output_type": "stream",
     "text": [
      "LB Smoothed 3.6684445421200738\n",
      "LB Smoothed 3.6685486753926604\n"
     ]
    },
    {
     "name": "stderr",
     "output_type": "stream",
     "text": [
      "\r",
      "  8%|██████▎                                                                        | 400/5000 [01:24<14:49,  5.17it/s]"
     ]
    },
    {
     "name": "stdout",
     "output_type": "stream",
     "text": [
      "LB Smoothed 3.6686511497129004\n"
     ]
    },
    {
     "name": "stderr",
     "output_type": "stream",
     "text": [
      "  8%|██████▎                                                                        | 402/5000 [01:25<14:53,  5.15it/s]"
     ]
    },
    {
     "name": "stdout",
     "output_type": "stream",
     "text": [
      "LB Smoothed 3.668751993959466\n",
      "LB Smoothed 3.66885123647772\n"
     ]
    },
    {
     "name": "stderr",
     "output_type": "stream",
     "text": [
      "\r",
      "  8%|██████▎                                                                        | 403/5000 [01:25<16:05,  4.76it/s]"
     ]
    },
    {
     "name": "stdout",
     "output_type": "stream",
     "text": [
      "LB Smoothed 3.668948905089907\n"
     ]
    },
    {
     "name": "stderr",
     "output_type": "stream",
     "text": [
      "\r",
      "  8%|██████▍                                                                        | 404/5000 [01:25<17:06,  4.48it/s]"
     ]
    },
    {
     "name": "stdout",
     "output_type": "stream",
     "text": [
      "LB Smoothed 3.6690450271051582\n"
     ]
    },
    {
     "name": "stderr",
     "output_type": "stream",
     "text": [
      "  8%|██████▍                                                                        | 406/5000 [01:26<16:46,  4.56it/s]"
     ]
    },
    {
     "name": "stdout",
     "output_type": "stream",
     "text": [
      "LB Smoothed 3.6691396293292917\n",
      "LB Smoothed 3.669232738074433\n"
     ]
    },
    {
     "name": "stderr",
     "output_type": "stream",
     "text": [
      "\r",
      "  8%|██████▍                                                                        | 407/5000 [01:26<16:34,  4.62it/s]"
     ]
    },
    {
     "name": "stdout",
     "output_type": "stream",
     "text": [
      "LB Smoothed 3.6693243791684385\n"
     ]
    },
    {
     "name": "stderr",
     "output_type": "stream",
     "text": [
      "\r",
      "  8%|██████▍                                                                        | 408/5000 [01:26<17:25,  4.39it/s]"
     ]
    },
    {
     "name": "stdout",
     "output_type": "stream",
     "text": [
      "LB Smoothed 3.6694145779641376\n"
     ]
    },
    {
     "name": "stderr",
     "output_type": "stream",
     "text": [
      "\r",
      "  8%|██████▍                                                                        | 409/5000 [01:26<17:05,  4.48it/s]"
     ]
    },
    {
     "name": "stdout",
     "output_type": "stream",
     "text": [
      "LB Smoothed 3.6695033593484\n"
     ]
    },
    {
     "name": "stderr",
     "output_type": "stream",
     "text": [
      "\r",
      "  8%|██████▍                                                                        | 410/5000 [01:26<16:38,  4.60it/s]"
     ]
    },
    {
     "name": "stdout",
     "output_type": "stream",
     "text": [
      "LB Smoothed 3.6695907477510206\n"
     ]
    },
    {
     "name": "stderr",
     "output_type": "stream",
     "text": [
      "\r",
      "  8%|██████▍                                                                        | 411/5000 [01:27<17:08,  4.46it/s]"
     ]
    },
    {
     "name": "stdout",
     "output_type": "stream",
     "text": [
      "LB Smoothed 3.669676767153431\n"
     ]
    },
    {
     "name": "stderr",
     "output_type": "stream",
     "text": [
      "  8%|██████▌                                                                        | 413/5000 [01:27<16:15,  4.70it/s]"
     ]
    },
    {
     "name": "stdout",
     "output_type": "stream",
     "text": [
      "LB Smoothed 3.6697614410972474\n",
      "LB Smoothed 3.6698447926926465\n"
     ]
    },
    {
     "name": "stderr",
     "output_type": "stream",
     "text": [
      "\r",
      "  8%|██████▌                                                                        | 414/5000 [01:27<15:58,  4.79it/s]"
     ]
    },
    {
     "name": "stdout",
     "output_type": "stream",
     "text": [
      "LB Smoothed 3.669926844626582\n"
     ]
    },
    {
     "name": "stderr",
     "output_type": "stream",
     "text": [
      "  8%|██████▌                                                                        | 416/5000 [01:28<16:08,  4.74it/s]"
     ]
    },
    {
     "name": "stdout",
     "output_type": "stream",
     "text": [
      "LB Smoothed 3.6700076191708377\n",
      "LB Smoothed 3.670087138189929\n"
     ]
    },
    {
     "name": "stderr",
     "output_type": "stream",
     "text": [
      "\r",
      "  8%|██████▌                                                                        | 417/5000 [01:28<18:14,  4.19it/s]"
     ]
    },
    {
     "name": "stdout",
     "output_type": "stream",
     "text": [
      "LB Smoothed 3.6701654231488434\n"
     ]
    },
    {
     "name": "stderr",
     "output_type": "stream",
     "text": [
      "\r",
      "  8%|██████▌                                                                        | 418/5000 [01:28<17:38,  4.33it/s]"
     ]
    },
    {
     "name": "stdout",
     "output_type": "stream",
     "text": [
      "LB Smoothed 3.67024249512064\n"
     ]
    },
    {
     "name": "stderr",
     "output_type": "stream",
     "text": [
      "  8%|██████▋                                                                        | 420/5000 [01:29<16:34,  4.60it/s]"
     ]
    },
    {
     "name": "stdout",
     "output_type": "stream",
     "text": [
      "LB Smoothed 3.670318374793893\n",
      "LB Smoothed 3.6703930824799955\n"
     ]
    },
    {
     "name": "stderr",
     "output_type": "stream",
     "text": [
      "\r",
      "  8%|██████▋                                                                        | 421/5000 [01:29<15:48,  4.83it/s]"
     ]
    },
    {
     "name": "stdout",
     "output_type": "stream",
     "text": [
      "LB Smoothed 3.670466638120319\n"
     ]
    },
    {
     "name": "stderr",
     "output_type": "stream",
     "text": [
      "  8%|██████▋                                                                        | 423/5000 [01:29<15:11,  5.02it/s]"
     ]
    },
    {
     "name": "stdout",
     "output_type": "stream",
     "text": [
      "LB Smoothed 3.670539061293237\n",
      "LB Smoothed 3.6706103712210045\n"
     ]
    },
    {
     "name": "stderr",
     "output_type": "stream",
     "text": [
      "  8%|██████▋                                                                        | 425/5000 [01:30<15:42,  4.85it/s]"
     ]
    },
    {
     "name": "stdout",
     "output_type": "stream",
     "text": [
      "LB Smoothed 3.6706805867765158\n",
      "LB Smoothed 3.6707497264899227\n"
     ]
    },
    {
     "name": "stderr",
     "output_type": "stream",
     "text": [
      "  9%|██████▋                                                                        | 427/5000 [01:30<15:38,  4.87it/s]"
     ]
    },
    {
     "name": "stdout",
     "output_type": "stream",
     "text": [
      "LB Smoothed 3.6708178085551246\n",
      "LB Smoothed 3.670884850836136\n"
     ]
    },
    {
     "name": "stderr",
     "output_type": "stream",
     "text": [
      "  9%|██████▊                                                                        | 429/5000 [01:30<16:13,  4.70it/s]"
     ]
    },
    {
     "name": "stdout",
     "output_type": "stream",
     "text": [
      "LB Smoothed 3.670950870873329\n",
      "LB Smoothed 3.671015885889556\n"
     ]
    },
    {
     "name": "stderr",
     "output_type": "stream",
     "text": [
      "\r",
      "  9%|██████▊                                                                        | 430/5000 [01:31<15:52,  4.80it/s]"
     ]
    },
    {
     "name": "stdout",
     "output_type": "stream",
     "text": [
      "LB Smoothed 3.6710799127961518\n"
     ]
    },
    {
     "name": "stderr",
     "output_type": "stream",
     "text": [
      "\r",
      "  9%|██████▊                                                                        | 431/5000 [01:31<16:32,  4.60it/s]"
     ]
    },
    {
     "name": "stdout",
     "output_type": "stream",
     "text": [
      "LB Smoothed 3.6711429681988177\n"
     ]
    },
    {
     "name": "stderr",
     "output_type": "stream",
     "text": [
      "\r",
      "  9%|██████▊                                                                        | 432/5000 [01:31<16:50,  4.52it/s]"
     ]
    },
    {
     "name": "stdout",
     "output_type": "stream",
     "text": [
      "LB Smoothed 3.6712050684034008\n"
     ]
    },
    {
     "name": "stderr",
     "output_type": "stream",
     "text": [
      "\r",
      "  9%|██████▊                                                                        | 433/5000 [01:31<16:40,  4.57it/s]"
     ]
    },
    {
     "name": "stdout",
     "output_type": "stream",
     "text": [
      "LB Smoothed 3.6712662294215477\n"
     ]
    },
    {
     "name": "stderr",
     "output_type": "stream",
     "text": [
      "\r",
      "  9%|██████▊                                                                        | 434/5000 [01:32<16:58,  4.48it/s]"
     ]
    },
    {
     "name": "stdout",
     "output_type": "stream",
     "text": [
      "LB Smoothed 3.6713264669762595\n"
     ]
    },
    {
     "name": "stderr",
     "output_type": "stream",
     "text": [
      "\r",
      "  9%|██████▊                                                                        | 435/5000 [01:32<16:45,  4.54it/s]"
     ]
    },
    {
     "name": "stdout",
     "output_type": "stream",
     "text": [
      "LB Smoothed 3.6713857965073373\n"
     ]
    },
    {
     "name": "stderr",
     "output_type": "stream",
     "text": [
      "\r",
      "  9%|██████▉                                                                        | 436/5000 [01:32<17:07,  4.44it/s]"
     ]
    },
    {
     "name": "stdout",
     "output_type": "stream",
     "text": [
      "LB Smoothed 3.671444233176713\n"
     ]
    },
    {
     "name": "stderr",
     "output_type": "stream",
     "text": [
      "  9%|██████▉                                                                        | 438/5000 [01:32<15:43,  4.83it/s]"
     ]
    },
    {
     "name": "stdout",
     "output_type": "stream",
     "text": [
      "LB Smoothed 3.671501791873698\n",
      "LB Smoothed 3.671558487220101\n"
     ]
    },
    {
     "name": "stderr",
     "output_type": "stream",
     "text": [
      "\r",
      "  9%|██████▉                                                                        | 439/5000 [01:33<15:28,  4.91it/s]"
     ]
    },
    {
     "name": "stdout",
     "output_type": "stream",
     "text": [
      "LB Smoothed 3.6716143335752784\n"
     ]
    },
    {
     "name": "stderr",
     "output_type": "stream",
     "text": [
      "\r",
      "  9%|██████▉                                                                        | 440/5000 [01:33<16:33,  4.59it/s]"
     ]
    },
    {
     "name": "stdout",
     "output_type": "stream",
     "text": [
      "LB Smoothed 3.671669345041059\n",
      "LB Smoothed 3.6717235354665942\n"
     ]
    },
    {
     "name": "stderr",
     "output_type": "stream",
     "text": [
      "  9%|██████▉                                                                        | 443/5000 [01:33<15:42,  4.83it/s]"
     ]
    },
    {
     "name": "stdout",
     "output_type": "stream",
     "text": [
      "LB Smoothed 3.671776918453104\n",
      "LB Smoothed 3.6718295073585328\n"
     ]
    },
    {
     "name": "stderr",
     "output_type": "stream",
     "text": [
      "  9%|███████                                                                        | 445/5000 [01:34<15:24,  4.92it/s]"
     ]
    },
    {
     "name": "stdout",
     "output_type": "stream",
     "text": [
      "LB Smoothed 3.6718813153021195\n",
      "LB Smoothed 3.6719323551688707\n"
     ]
    },
    {
     "name": "stderr",
     "output_type": "stream",
     "text": [
      "  9%|███████                                                                        | 447/5000 [01:34<15:53,  4.78it/s]"
     ]
    },
    {
     "name": "stdout",
     "output_type": "stream",
     "text": [
      "LB Smoothed 3.671982639613959\n",
      "LB Smoothed 3.6720321810670273\n"
     ]
    },
    {
     "name": "stderr",
     "output_type": "stream",
     "text": [
      "\r",
      "  9%|███████                                                                        | 448/5000 [01:35<14:58,  5.07it/s]"
     ]
    },
    {
     "name": "stdout",
     "output_type": "stream",
     "text": [
      "LB Smoothed 3.6720809917364163\n"
     ]
    },
    {
     "name": "stderr",
     "output_type": "stream",
     "text": [
      "\r",
      "  9%|███████                                                                        | 449/5000 [01:35<15:45,  4.81it/s]"
     ]
    },
    {
     "name": "stdout",
     "output_type": "stream",
     "text": [
      "LB Smoothed 3.6721290836133016\n"
     ]
    },
    {
     "name": "stderr",
     "output_type": "stream",
     "text": [
      "  9%|███████▏                                                                       | 451/5000 [01:35<15:19,  4.94it/s]"
     ]
    },
    {
     "name": "stdout",
     "output_type": "stream",
     "text": [
      "LB Smoothed 3.6721764684757674\n",
      "LB Smoothed 3.6722231578927778\n"
     ]
    },
    {
     "name": "stderr",
     "output_type": "stream",
     "text": [
      "\r",
      "  9%|███████▏                                                                       | 452/5000 [01:35<15:16,  4.96it/s]"
     ]
    },
    {
     "name": "stdout",
     "output_type": "stream",
     "text": [
      "LB Smoothed 3.6722691632281017\n"
     ]
    },
    {
     "name": "stderr",
     "output_type": "stream",
     "text": [
      "\r",
      "  9%|███████▏                                                                       | 453/5000 [01:36<17:18,  4.38it/s]"
     ]
    },
    {
     "name": "stdout",
     "output_type": "stream",
     "text": [
      "LB Smoothed 3.6723144956441294\n"
     ]
    },
    {
     "name": "stderr",
     "output_type": "stream",
     "text": [
      "\r",
      "  9%|███████▏                                                                       | 454/5000 [01:36<17:26,  4.34it/s]"
     ]
    },
    {
     "name": "stdout",
     "output_type": "stream",
     "text": [
      "LB Smoothed 3.6723591661056436\n"
     ]
    },
    {
     "name": "stderr",
     "output_type": "stream",
     "text": [
      "\r",
      "  9%|███████▏                                                                       | 455/5000 [01:36<18:36,  4.07it/s]"
     ]
    },
    {
     "name": "stdout",
     "output_type": "stream",
     "text": [
      "LB Smoothed 3.6724031853835015\n"
     ]
    },
    {
     "name": "stderr",
     "output_type": "stream",
     "text": [
      "  9%|███████▏                                                                       | 457/5000 [01:37<17:25,  4.35it/s]"
     ]
    },
    {
     "name": "stdout",
     "output_type": "stream",
     "text": [
      "LB Smoothed 3.6724465640582524\n",
      "LB Smoothed 3.6724893125236804\n"
     ]
    },
    {
     "name": "stderr",
     "output_type": "stream",
     "text": [
      "  9%|███████▎                                                                       | 459/5000 [01:37<16:07,  4.70it/s]"
     ]
    },
    {
     "name": "stdout",
     "output_type": "stream",
     "text": [
      "LB Smoothed 3.672531440990291\n",
      "LB Smoothed 3.672572959488714\n"
     ]
    },
    {
     "name": "stderr",
     "output_type": "stream",
     "text": [
      "\r",
      "  9%|███████▎                                                                       | 460/5000 [01:37<16:30,  4.58it/s]"
     ]
    },
    {
     "name": "stdout",
     "output_type": "stream",
     "text": [
      "LB Smoothed 3.6726138778730557\n"
     ]
    },
    {
     "name": "stderr",
     "output_type": "stream",
     "text": [
      "  9%|███████▎                                                                       | 462/5000 [01:38<15:17,  4.94it/s]"
     ]
    },
    {
     "name": "stdout",
     "output_type": "stream",
     "text": [
      "LB Smoothed 3.6726542058241756\n",
      "LB Smoothed 3.6726939528529092\n"
     ]
    },
    {
     "name": "stderr",
     "output_type": "stream",
     "text": [
      "  9%|███████▎                                                                       | 464/5000 [01:38<13:36,  5.56it/s]"
     ]
    },
    {
     "name": "stdout",
     "output_type": "stream",
     "text": [
      "LB Smoothed 3.6727331283032267\n",
      "LB Smoothed 3.6727717413553194\n"
     ]
    },
    {
     "name": "stderr",
     "output_type": "stream",
     "text": [
      "\r",
      "  9%|███████▎                                                                       | 465/5000 [01:38<15:06,  5.00it/s]"
     ]
    },
    {
     "name": "stdout",
     "output_type": "stream",
     "text": [
      "LB Smoothed 3.672809801028651\n"
     ]
    },
    {
     "name": "stderr",
     "output_type": "stream",
     "text": [
      "  9%|███████▍                                                                       | 467/5000 [01:39<15:32,  4.86it/s]"
     ]
    },
    {
     "name": "stdout",
     "output_type": "stream",
     "text": [
      "LB Smoothed 3.672847316184925\n",
      "LB Smoothed 3.6728842955310124\n"
     ]
    },
    {
     "name": "stderr",
     "output_type": "stream",
     "text": [
      "  9%|███████▍                                                                       | 469/5000 [01:39<15:27,  4.89it/s]"
     ]
    },
    {
     "name": "stdout",
     "output_type": "stream",
     "text": [
      "LB Smoothed 3.6729207476218164\n",
      "LB Smoothed 3.672956680863082\n"
     ]
    },
    {
     "name": "stderr",
     "output_type": "stream",
     "text": [
      "\r",
      "  9%|███████▍                                                                       | 470/5000 [01:39<13:37,  5.54it/s]"
     ]
    },
    {
     "name": "stdout",
     "output_type": "stream",
     "text": [
      "LB Smoothed 3.672992103514155\n"
     ]
    },
    {
     "name": "stderr",
     "output_type": "stream",
     "text": [
      "\r",
      "  9%|███████▍                                                                       | 471/5000 [01:39<14:30,  5.20it/s]"
     ]
    },
    {
     "name": "stdout",
     "output_type": "stream",
     "text": [
      "LB Smoothed 3.6730270236906857\n"
     ]
    },
    {
     "name": "stderr",
     "output_type": "stream",
     "text": [
      "\r",
      "  9%|███████▍                                                                       | 472/5000 [01:40<15:06,  5.00it/s]"
     ]
    },
    {
     "name": "stdout",
     "output_type": "stream",
     "text": [
      "LB Smoothed 3.6730614493672804\n"
     ]
    },
    {
     "name": "stderr",
     "output_type": "stream",
     "text": [
      "\r",
      "  9%|███████▍                                                                       | 473/5000 [01:40<16:00,  4.71it/s]"
     ]
    },
    {
     "name": "stdout",
     "output_type": "stream",
     "text": [
      "LB Smoothed 3.673095388380105\n"
     ]
    },
    {
     "name": "stderr",
     "output_type": "stream",
     "text": [
      "\r",
      "  9%|███████▍                                                                       | 474/5000 [01:40<16:45,  4.50it/s]"
     ]
    },
    {
     "name": "stdout",
     "output_type": "stream",
     "text": [
      "LB Smoothed 3.673128848429438\n"
     ]
    },
    {
     "name": "stderr",
     "output_type": "stream",
     "text": [
      " 10%|███████▌                                                                       | 476/5000 [01:40<15:47,  4.78it/s]"
     ]
    },
    {
     "name": "stdout",
     "output_type": "stream",
     "text": [
      "LB Smoothed 3.6731618370821697\n",
      "LB Smoothed 3.6731943617742657\n"
     ]
    },
    {
     "name": "stderr",
     "output_type": "stream",
     "text": [
      "\r",
      " 10%|███████▌                                                                       | 477/5000 [01:41<15:03,  5.00it/s]"
     ]
    },
    {
     "name": "stdout",
     "output_type": "stream",
     "text": [
      "LB Smoothed 3.673226429813166\n"
     ]
    },
    {
     "name": "stderr",
     "output_type": "stream",
     "text": [
      "\r",
      " 10%|███████▌                                                                       | 478/5000 [01:41<15:46,  4.78it/s]"
     ]
    },
    {
     "name": "stdout",
     "output_type": "stream",
     "text": [
      "LB Smoothed 3.673258048380155\n"
     ]
    },
    {
     "name": "stderr",
     "output_type": "stream",
     "text": [
      "\r",
      " 10%|███████▌                                                                       | 479/5000 [01:41<16:25,  4.59it/s]"
     ]
    },
    {
     "name": "stdout",
     "output_type": "stream",
     "text": [
      "LB Smoothed 3.6732892245326787\n"
     ]
    },
    {
     "name": "stderr",
     "output_type": "stream",
     "text": [
      " 10%|███████▌                                                                       | 481/5000 [01:42<16:26,  4.58it/s]"
     ]
    },
    {
     "name": "stdout",
     "output_type": "stream",
     "text": [
      "LB Smoothed 3.6733199652066117\n",
      "LB Smoothed 3.6733502772184976\n"
     ]
    },
    {
     "name": "stderr",
     "output_type": "stream",
     "text": [
      "\r",
      " 10%|███████▌                                                                       | 482/5000 [01:42<16:00,  4.70it/s]"
     ]
    },
    {
     "name": "stdout",
     "output_type": "stream",
     "text": [
      "LB Smoothed 3.6733801672677298\n"
     ]
    },
    {
     "name": "stderr",
     "output_type": "stream",
     "text": [
      "\r",
      " 10%|███████▋                                                                       | 483/5000 [01:42<17:12,  4.38it/s]"
     ]
    },
    {
     "name": "stdout",
     "output_type": "stream",
     "text": [
      "LB Smoothed 3.673409641938699\n"
     ]
    },
    {
     "name": "stderr",
     "output_type": "stream",
     "text": [
      "\r",
      " 10%|███████▋                                                                       | 484/5000 [01:42<17:27,  4.31it/s]"
     ]
    },
    {
     "name": "stdout",
     "output_type": "stream",
     "text": [
      "LB Smoothed 3.6734387077028967\n"
     ]
    },
    {
     "name": "stderr",
     "output_type": "stream",
     "text": [
      " 10%|███████▋                                                                       | 486/5000 [01:43<16:41,  4.51it/s]"
     ]
    },
    {
     "name": "stdout",
     "output_type": "stream",
     "text": [
      "LB Smoothed 3.6734673709209864\n",
      "LB Smoothed 3.673495637844823\n"
     ]
    },
    {
     "name": "stderr",
     "output_type": "stream",
     "text": [
      " 10%|███████▋                                                                       | 488/5000 [01:43<16:42,  4.50it/s]"
     ]
    },
    {
     "name": "stdout",
     "output_type": "stream",
     "text": [
      "LB Smoothed 3.6735235146194434\n",
      "LB Smoothed 3.6735510072850164\n"
     ]
    },
    {
     "name": "stderr",
     "output_type": "stream",
     "text": [
      "\r",
      " 10%|███████▋                                                                       | 489/5000 [01:43<16:14,  4.63it/s]"
     ]
    },
    {
     "name": "stdout",
     "output_type": "stream",
     "text": [
      "LB Smoothed 3.6735781217787515\n"
     ]
    },
    {
     "name": "stderr",
     "output_type": "stream",
     "text": [
      " 10%|███████▊                                                                       | 491/5000 [01:44<16:12,  4.64it/s]"
     ]
    },
    {
     "name": "stdout",
     "output_type": "stream",
     "text": [
      "LB Smoothed 3.673604863936782\n",
      "LB Smoothed 3.6736312394959985\n"
     ]
    },
    {
     "name": "stderr",
     "output_type": "stream",
     "text": [
      "\r",
      " 10%|███████▊                                                                       | 492/5000 [01:44<17:04,  4.40it/s]"
     ]
    },
    {
     "name": "stdout",
     "output_type": "stream",
     "text": [
      "LB Smoothed 3.673657254095861\n"
     ]
    },
    {
     "name": "stderr",
     "output_type": "stream",
     "text": [
      "\r",
      " 10%|███████▊                                                                       | 493/5000 [01:44<16:57,  4.43it/s]"
     ]
    },
    {
     "name": "stdout",
     "output_type": "stream",
     "text": [
      "LB Smoothed 3.6736829132801625\n"
     ]
    },
    {
     "name": "stderr",
     "output_type": "stream",
     "text": [
      "\r",
      " 10%|███████▊                                                                       | 494/5000 [01:45<17:01,  4.41it/s]"
     ]
    },
    {
     "name": "stdout",
     "output_type": "stream",
     "text": [
      "LB Smoothed 3.6737082224987767\n"
     ]
    },
    {
     "name": "stderr",
     "output_type": "stream",
     "text": [
      " 10%|███████▊                                                                       | 496/5000 [01:45<16:02,  4.68it/s]"
     ]
    },
    {
     "name": "stdout",
     "output_type": "stream",
     "text": [
      "LB Smoothed 3.6737331871093546\n",
      "LB Smoothed 3.6737578123790042\n"
     ]
    },
    {
     "name": "stderr",
     "output_type": "stream",
     "text": [
      "\r",
      " 10%|███████▊                                                                       | 497/5000 [01:45<15:00,  5.00it/s]"
     ]
    },
    {
     "name": "stdout",
     "output_type": "stream",
     "text": [
      "LB Smoothed 3.673782103485924\n"
     ]
    },
    {
     "name": "stderr",
     "output_type": "stream",
     "text": [
      "\r",
      " 10%|███████▊                                                                       | 498/5000 [01:45<14:51,  5.05it/s]"
     ]
    },
    {
     "name": "stdout",
     "output_type": "stream",
     "text": [
      "LB Smoothed 3.6738060655210174\n"
     ]
    },
    {
     "name": "stderr",
     "output_type": "stream",
     "text": [
      "\r",
      " 10%|███████▉                                                                       | 499/5000 [01:46<16:14,  4.62it/s]"
     ]
    },
    {
     "name": "stdout",
     "output_type": "stream",
     "text": [
      "LB Smoothed 3.6738297034894756\n"
     ]
    },
    {
     "name": "stderr",
     "output_type": "stream",
     "text": [
      " 10%|███████▉                                                                       | 501/5000 [01:46<15:52,  4.73it/s]"
     ]
    },
    {
     "name": "stdout",
     "output_type": "stream",
     "text": [
      "LB Smoothed 3.6738530223123202\n",
      "LB Smoothed 3.6738760268279287\n"
     ]
    },
    {
     "name": "stderr",
     "output_type": "stream",
     "text": [
      " 10%|███████▉                                                                       | 503/5000 [01:46<15:29,  4.84it/s]"
     ]
    },
    {
     "name": "stdout",
     "output_type": "stream",
     "text": [
      "LB Smoothed 3.6738987217935226\n",
      "LB Smoothed 3.6739211118866355\n"
     ]
    },
    {
     "name": "stderr",
     "output_type": "stream",
     "text": [
      " 10%|███████▉                                                                       | 505/5000 [01:47<15:16,  4.91it/s]"
     ]
    },
    {
     "name": "stdout",
     "output_type": "stream",
     "text": [
      "LB Smoothed 3.673943201706545\n",
      "LB Smoothed 3.6739649957756826\n"
     ]
    },
    {
     "name": "stderr",
     "output_type": "stream",
     "text": [
      "\r",
      " 10%|███████▉                                                                       | 506/5000 [01:47<15:43,  4.77it/s]"
     ]
    },
    {
     "name": "stdout",
     "output_type": "stream",
     "text": [
      "LB Smoothed 3.673986498541019\n"
     ]
    },
    {
     "name": "stderr",
     "output_type": "stream",
     "text": [
      " 10%|████████                                                                       | 508/5000 [01:48<16:19,  4.59it/s]"
     ]
    },
    {
     "name": "stdout",
     "output_type": "stream",
     "text": [
      "LB Smoothed 3.674007714375415\n",
      "LB Smoothed 3.6740286475789556\n"
     ]
    },
    {
     "name": "stderr",
     "output_type": "stream",
     "text": [
      " 10%|████████                                                                       | 510/5000 [01:48<15:24,  4.86it/s]"
     ]
    },
    {
     "name": "stdout",
     "output_type": "stream",
     "text": [
      "LB Smoothed 3.6740493023802574\n",
      "LB Smoothed 3.6740696829377466\n"
     ]
    },
    {
     "name": "stderr",
     "output_type": "stream",
     "text": [
      "\r",
      " 10%|████████                                                                       | 511/5000 [01:48<14:08,  5.29it/s]"
     ]
    },
    {
     "name": "stdout",
     "output_type": "stream",
     "text": [
      "LB Smoothed 3.6740897933409173\n"
     ]
    },
    {
     "name": "stderr",
     "output_type": "stream",
     "text": [
      "\r",
      " 10%|████████                                                                       | 512/5000 [01:48<14:56,  5.00it/s]"
     ]
    },
    {
     "name": "stdout",
     "output_type": "stream",
     "text": [
      "LB Smoothed 3.6741096376115636\n"
     ]
    },
    {
     "name": "stderr",
     "output_type": "stream",
     "text": [
      "\r",
      " 10%|████████                                                                       | 513/5000 [01:48<15:26,  4.84it/s]"
     ]
    },
    {
     "name": "stdout",
     "output_type": "stream",
     "text": [
      "LB Smoothed 3.6741292197049935\n"
     ]
    },
    {
     "name": "stderr",
     "output_type": "stream",
     "text": [
      "\r",
      " 10%|████████                                                                       | 514/5000 [01:49<16:17,  4.59it/s]"
     ]
    },
    {
     "name": "stdout",
     "output_type": "stream",
     "text": [
      "LB Smoothed 3.674148543511212\n"
     ]
    },
    {
     "name": "stderr",
     "output_type": "stream",
     "text": [
      "\r",
      " 10%|████████▏                                                                      | 515/5000 [01:49<17:10,  4.35it/s]"
     ]
    },
    {
     "name": "stdout",
     "output_type": "stream",
     "text": [
      "LB Smoothed 3.67416761285609\n"
     ]
    },
    {
     "name": "stderr",
     "output_type": "stream",
     "text": [
      " 10%|████████▏                                                                      | 517/5000 [01:49<16:53,  4.42it/s]"
     ]
    },
    {
     "name": "stdout",
     "output_type": "stream",
     "text": [
      "LB Smoothed 3.6741864315025055\n",
      "LB Smoothed 3.6742050031514673\n"
     ]
    },
    {
     "name": "stderr",
     "output_type": "stream",
     "text": [
      "\r",
      " 10%|████████▏                                                                      | 518/5000 [01:50<17:11,  4.34it/s]"
     ]
    },
    {
     "name": "stdout",
     "output_type": "stream",
     "text": [
      "LB Smoothed 3.6742233314432147\n"
     ]
    },
    {
     "name": "stderr",
     "output_type": "stream",
     "text": [
      " 10%|████████▏                                                                      | 520/5000 [01:50<16:35,  4.50it/s]"
     ]
    },
    {
     "name": "stdout",
     "output_type": "stream",
     "text": [
      "LB Smoothed 3.674241419958299\n",
      "LB Smoothed 3.674259272218643\n"
     ]
    },
    {
     "name": "stderr",
     "output_type": "stream",
     "text": [
      "\r",
      " 10%|████████▏                                                                      | 521/5000 [01:50<17:02,  4.38it/s]"
     ]
    },
    {
     "name": "stdout",
     "output_type": "stream",
     "text": [
      "LB Smoothed 3.674276891688581\n"
     ]
    },
    {
     "name": "stderr",
     "output_type": "stream",
     "text": [
      "\r",
      " 10%|████████▏                                                                      | 522/5000 [01:51<16:52,  4.42it/s]"
     ]
    },
    {
     "name": "stdout",
     "output_type": "stream",
     "text": [
      "LB Smoothed 3.6742942817758815\n"
     ]
    },
    {
     "name": "stderr",
     "output_type": "stream",
     "text": [
      "\r",
      " 10%|████████▎                                                                      | 523/5000 [01:51<17:20,  4.30it/s]"
     ]
    },
    {
     "name": "stdout",
     "output_type": "stream",
     "text": [
      "LB Smoothed 3.674311445832746\n"
     ]
    },
    {
     "name": "stderr",
     "output_type": "stream",
     "text": [
      " 10%|████████▎                                                                      | 525/5000 [01:51<16:27,  4.53it/s]"
     ]
    },
    {
     "name": "stdout",
     "output_type": "stream",
     "text": [
      "LB Smoothed 3.6743283871567978\n",
      "LB Smoothed 3.6743451089920383\n"
     ]
    },
    {
     "name": "stderr",
     "output_type": "stream",
     "text": [
      "\r",
      " 11%|████████▎                                                                      | 526/5000 [01:51<15:10,  4.92it/s]"
     ]
    },
    {
     "name": "stdout",
     "output_type": "stream",
     "text": [
      "LB Smoothed 3.674361614529803\n"
     ]
    },
    {
     "name": "stderr",
     "output_type": "stream",
     "text": [
      "\r",
      " 11%|████████▎                                                                      | 527/5000 [01:52<16:25,  4.54it/s]"
     ]
    },
    {
     "name": "stdout",
     "output_type": "stream",
     "text": [
      "LB Smoothed 3.6743779069096845\n"
     ]
    },
    {
     "name": "stderr",
     "output_type": "stream",
     "text": [
      "\r",
      " 11%|████████▎                                                                      | 528/5000 [01:52<16:57,  4.39it/s]"
     ]
    },
    {
     "name": "stdout",
     "output_type": "stream",
     "text": [
      "LB Smoothed 3.674393989220446\n"
     ]
    },
    {
     "name": "stderr",
     "output_type": "stream",
     "text": [
      " 11%|████████▎                                                                      | 530/5000 [01:52<15:59,  4.66it/s]"
     ]
    },
    {
     "name": "stdout",
     "output_type": "stream",
     "text": [
      "LB Smoothed 3.674409864500918\n",
      "LB Smoothed 3.674425535740876\n"
     ]
    },
    {
     "name": "stderr",
     "output_type": "stream",
     "text": [
      " 11%|████████▍                                                                      | 532/5000 [01:53<14:55,  4.99it/s]"
     ]
    },
    {
     "name": "stdout",
     "output_type": "stream",
     "text": [
      "LB Smoothed 3.6744410058818997\n",
      "LB Smoothed 3.6744562778182215\n"
     ]
    },
    {
     "name": "stderr",
     "output_type": "stream",
     "text": [
      "\r",
      " 11%|████████▍                                                                      | 533/5000 [01:53<14:12,  5.24it/s]"
     ]
    },
    {
     "name": "stdout",
     "output_type": "stream",
     "text": [
      "LB Smoothed 3.6744713543975567\n"
     ]
    },
    {
     "name": "stderr",
     "output_type": "stream",
     "text": [
      "\r",
      " 11%|████████▍                                                                      | 534/5000 [01:53<14:40,  5.07it/s]"
     ]
    },
    {
     "name": "stdout",
     "output_type": "stream",
     "text": [
      "LB Smoothed 3.6744862384219203\n"
     ]
    },
    {
     "name": "stderr",
     "output_type": "stream",
     "text": [
      " 11%|████████▍                                                                      | 536/5000 [01:54<14:43,  5.05it/s]"
     ]
    },
    {
     "name": "stdout",
     "output_type": "stream",
     "text": [
      "LB Smoothed 3.6745009326484204\n",
      "LB Smoothed 3.6745154397900497\n"
     ]
    },
    {
     "name": "stderr",
     "output_type": "stream",
     "text": [
      "\r",
      " 11%|████████▍                                                                      | 537/5000 [01:54<15:30,  4.80it/s]"
     ]
    },
    {
     "name": "stdout",
     "output_type": "stream",
     "text": [
      "LB Smoothed 3.6745297625164532\n"
     ]
    },
    {
     "name": "stderr",
     "output_type": "stream",
     "text": [
      "\r",
      " 11%|████████▌                                                                      | 538/5000 [01:54<16:23,  4.54it/s]"
     ]
    },
    {
     "name": "stdout",
     "output_type": "stream",
     "text": [
      "LB Smoothed 3.6745439034546847\n"
     ]
    },
    {
     "name": "stderr",
     "output_type": "stream",
     "text": [
      " 11%|████████▌                                                                      | 540/5000 [01:54<15:35,  4.77it/s]"
     ]
    },
    {
     "name": "stdout",
     "output_type": "stream",
     "text": [
      "LB Smoothed 3.674557865189948\n",
      "LB Smoothed 3.674571650266329\n"
     ]
    },
    {
     "name": "stderr",
     "output_type": "stream",
     "text": [
      "\r",
      " 11%|████████▌                                                                      | 541/5000 [01:55<15:53,  4.67it/s]"
     ]
    },
    {
     "name": "stdout",
     "output_type": "stream",
     "text": [
      "LB Smoothed 3.6745852611875045\n"
     ]
    },
    {
     "name": "stderr",
     "output_type": "stream",
     "text": [
      "\r",
      " 11%|████████▌                                                                      | 542/5000 [01:55<16:53,  4.40it/s]"
     ]
    },
    {
     "name": "stdout",
     "output_type": "stream",
     "text": [
      "LB Smoothed 3.6745987004174494\n"
     ]
    },
    {
     "name": "stderr",
     "output_type": "stream",
     "text": [
      "\r",
      " 11%|████████▌                                                                      | 543/5000 [01:55<17:22,  4.28it/s]"
     ]
    },
    {
     "name": "stdout",
     "output_type": "stream",
     "text": [
      "LB Smoothed 3.674611970381125\n"
     ]
    },
    {
     "name": "stderr",
     "output_type": "stream",
     "text": [
      "\r",
      " 11%|████████▌                                                                      | 544/5000 [01:55<16:54,  4.39it/s]"
     ]
    },
    {
     "name": "stdout",
     "output_type": "stream",
     "text": [
      "LB Smoothed 3.6746250734651498\n"
     ]
    },
    {
     "name": "stderr",
     "output_type": "stream",
     "text": [
      " 11%|████████▋                                                                      | 546/5000 [01:56<15:55,  4.66it/s]"
     ]
    },
    {
     "name": "stdout",
     "output_type": "stream",
     "text": [
      "LB Smoothed 3.6746380120184723\n",
      "LB Smoothed 3.6746507883530133\n"
     ]
    },
    {
     "name": "stderr",
     "output_type": "stream",
     "text": [
      "\r",
      " 11%|████████▋                                                                      | 547/5000 [01:56<16:01,  4.63it/s]"
     ]
    },
    {
     "name": "stdout",
     "output_type": "stream",
     "text": [
      "LB Smoothed 3.6746634047443125\n"
     ]
    },
    {
     "name": "stderr",
     "output_type": "stream",
     "text": [
      "\r",
      " 11%|████████▋                                                                      | 548/5000 [01:56<16:01,  4.63it/s]"
     ]
    },
    {
     "name": "stdout",
     "output_type": "stream",
     "text": [
      "LB Smoothed 3.674675863432153\n"
     ]
    },
    {
     "name": "stderr",
     "output_type": "stream",
     "text": [
      " 11%|████████▋                                                                      | 550/5000 [01:57<15:27,  4.80it/s]"
     ]
    },
    {
     "name": "stdout",
     "output_type": "stream",
     "text": [
      "LB Smoothed 3.674688166621177\n",
      "LB Smoothed 3.6747003164814913\n"
     ]
    },
    {
     "name": "stderr",
     "output_type": "stream",
     "text": [
      "\r",
      " 11%|████████▋                                                                      | 551/5000 [01:57<16:09,  4.59it/s]"
     ]
    },
    {
     "name": "stdout",
     "output_type": "stream",
     "text": [
      "LB Smoothed 3.6747123151492658\n"
     ]
    },
    {
     "name": "stderr",
     "output_type": "stream",
     "text": [
      " 11%|████████▋                                                                      | 553/5000 [01:57<16:02,  4.62it/s]"
     ]
    },
    {
     "name": "stdout",
     "output_type": "stream",
     "text": [
      "LB Smoothed 3.6747241647273055\n",
      "LB Smoothed 3.6747358672856345\n"
     ]
    },
    {
     "name": "stderr",
     "output_type": "stream",
     "text": [
      " 11%|████████▊                                                                      | 555/5000 [01:58<15:25,  4.80it/s]"
     ]
    },
    {
     "name": "stdout",
     "output_type": "stream",
     "text": [
      "LB Smoothed 3.6747474248620513\n",
      "LB Smoothed 3.6747588394626822\n"
     ]
    },
    {
     "name": "stderr",
     "output_type": "stream",
     "text": [
      " 11%|████████▊                                                                      | 557/5000 [01:58<14:38,  5.06it/s]"
     ]
    },
    {
     "name": "stdout",
     "output_type": "stream",
     "text": [
      "LB Smoothed 3.6747701130625225\n",
      "LB Smoothed 3.674781247605968\n"
     ]
    },
    {
     "name": "stderr",
     "output_type": "stream",
     "text": [
      "\r",
      " 11%|████████▊                                                                      | 558/5000 [01:58<14:52,  4.98it/s]"
     ]
    },
    {
     "name": "stdout",
     "output_type": "stream",
     "text": [
      "LB Smoothed 3.6747922450073367\n"
     ]
    },
    {
     "name": "stderr",
     "output_type": "stream",
     "text": [
      " 11%|████████▊                                                                      | 560/5000 [01:59<14:27,  5.12it/s]"
     ]
    },
    {
     "name": "stdout",
     "output_type": "stream",
     "text": [
      "LB Smoothed 3.67480310715138\n",
      "LB Smoothed 3.67481383589379\n"
     ]
    },
    {
     "name": "stderr",
     "output_type": "stream",
     "text": [
      "\r",
      " 11%|████████▊                                                                      | 561/5000 [01:59<14:40,  5.04it/s]"
     ]
    },
    {
     "name": "stdout",
     "output_type": "stream",
     "text": [
      "LB Smoothed 3.6748244330616893\n",
      "LB Smoothed 3.6748349004541163\n"
     ]
    },
    {
     "name": "stderr",
     "output_type": "stream",
     "text": [
      " 11%|████████▉                                                                      | 564/5000 [01:59<14:17,  5.17it/s]"
     ]
    },
    {
     "name": "stdout",
     "output_type": "stream",
     "text": [
      "LB Smoothed 3.6748452398425027\n",
      "LB Smoothed 3.6748554529711397\n"
     ]
    },
    {
     "name": "stderr",
     "output_type": "stream",
     "text": [
      "\r",
      " 11%|████████▉                                                                      | 565/5000 [02:00<14:44,  5.01it/s]"
     ]
    },
    {
     "name": "stdout",
     "output_type": "stream",
     "text": [
      "LB Smoothed 3.6748655415576397\n"
     ]
    },
    {
     "name": "stderr",
     "output_type": "stream",
     "text": [
      "\r",
      " 11%|████████▉                                                                      | 566/5000 [02:00<15:27,  4.78it/s]"
     ]
    },
    {
     "name": "stdout",
     "output_type": "stream",
     "text": [
      "LB Smoothed 3.6748755072933803\n"
     ]
    },
    {
     "name": "stderr",
     "output_type": "stream",
     "text": [
      "\r",
      " 11%|████████▉                                                                      | 567/5000 [02:00<15:38,  4.72it/s]"
     ]
    },
    {
     "name": "stdout",
     "output_type": "stream",
     "text": [
      "LB Smoothed 3.674885351843957\n"
     ]
    },
    {
     "name": "stderr",
     "output_type": "stream",
     "text": [
      "\r",
      " 11%|████████▉                                                                      | 568/5000 [02:00<15:52,  4.65it/s]"
     ]
    },
    {
     "name": "stdout",
     "output_type": "stream",
     "text": [
      "LB Smoothed 3.6748950768496074\n"
     ]
    },
    {
     "name": "stderr",
     "output_type": "stream",
     "text": [
      "\r",
      " 11%|████████▉                                                                      | 569/5000 [02:01<17:46,  4.15it/s]"
     ]
    },
    {
     "name": "stdout",
     "output_type": "stream",
     "text": [
      "LB Smoothed 3.6749046839256443\n"
     ]
    },
    {
     "name": "stderr",
     "output_type": "stream",
     "text": [
      " 11%|█████████                                                                      | 571/5000 [02:01<16:48,  4.39it/s]"
     ]
    },
    {
     "name": "stdout",
     "output_type": "stream",
     "text": [
      "LB Smoothed 3.6749141746628706\n",
      "LB Smoothed 3.6749235506279976\n"
     ]
    },
    {
     "name": "stderr",
     "output_type": "stream",
     "text": [
      "\r",
      " 11%|█████████                                                                      | 572/5000 [02:01<16:39,  4.43it/s]"
     ]
    },
    {
     "name": "stdout",
     "output_type": "stream",
     "text": [
      "LB Smoothed 3.674932813364036\n"
     ]
    },
    {
     "name": "stderr",
     "output_type": "stream",
     "text": [
      "\r",
      " 11%|█████████                                                                      | 573/5000 [02:02<17:14,  4.28it/s]"
     ]
    },
    {
     "name": "stdout",
     "output_type": "stream",
     "text": [
      "LB Smoothed 3.6749419643907086\n"
     ]
    },
    {
     "name": "stderr",
     "output_type": "stream",
     "text": [
      "\r",
      " 11%|█████████                                                                      | 574/5000 [02:02<16:52,  4.37it/s]"
     ]
    },
    {
     "name": "stdout",
     "output_type": "stream",
     "text": [
      "LB Smoothed 3.6749510052048264\n"
     ]
    },
    {
     "name": "stderr",
     "output_type": "stream",
     "text": [
      " 12%|█████████                                                                      | 576/5000 [02:02<16:11,  4.55it/s]"
     ]
    },
    {
     "name": "stdout",
     "output_type": "stream",
     "text": [
      "LB Smoothed 3.674959937280678\n",
      "LB Smoothed 3.674968762070403\n"
     ]
    },
    {
     "name": "stderr",
     "output_type": "stream",
     "text": [
      " 12%|█████████▏                                                                     | 578/5000 [02:03<14:34,  5.06it/s]"
     ]
    },
    {
     "name": "stdout",
     "output_type": "stream",
     "text": [
      "LB Smoothed 3.674977481004362\n",
      "LB Smoothed 3.6749860954914966\n"
     ]
    },
    {
     "name": "stderr",
     "output_type": "stream",
     "text": [
      " 12%|█████████▏                                                                     | 580/5000 [02:03<15:03,  4.89it/s]"
     ]
    },
    {
     "name": "stdout",
     "output_type": "stream",
     "text": [
      "LB Smoothed 3.67499460691969\n",
      "LB Smoothed 3.6750030166561083\n"
     ]
    },
    {
     "name": "stderr",
     "output_type": "stream",
     "text": [
      "\r",
      " 12%|█████████▏                                                                     | 581/5000 [02:03<16:50,  4.37it/s]"
     ]
    },
    {
     "name": "stdout",
     "output_type": "stream",
     "text": [
      "LB Smoothed 3.675011326047553\n"
     ]
    },
    {
     "name": "stderr",
     "output_type": "stream",
     "text": [
      "\r",
      " 12%|█████████▏                                                                     | 582/5000 [02:04<18:07,  4.06it/s]"
     ]
    },
    {
     "name": "stdout",
     "output_type": "stream",
     "text": [
      "LB Smoothed 3.6750195364207903\n"
     ]
    },
    {
     "name": "stderr",
     "output_type": "stream",
     "text": [
      "\r",
      " 12%|█████████▏                                                                     | 583/5000 [02:04<17:20,  4.24it/s]"
     ]
    },
    {
     "name": "stdout",
     "output_type": "stream",
     "text": [
      "LB Smoothed 3.6750276490828857\n"
     ]
    },
    {
     "name": "stderr",
     "output_type": "stream",
     "text": [
      "\r",
      " 12%|█████████▏                                                                     | 584/5000 [02:04<18:53,  3.89it/s]"
     ]
    },
    {
     "name": "stdout",
     "output_type": "stream",
     "text": [
      "LB Smoothed 3.6750356653215293\n"
     ]
    },
    {
     "name": "stderr",
     "output_type": "stream",
     "text": [
      " 12%|█████████▎                                                                     | 586/5000 [02:05<16:46,  4.38it/s]"
     ]
    },
    {
     "name": "stdout",
     "output_type": "stream",
     "text": [
      "LB Smoothed 3.6750435864053514\n",
      "LB Smoothed 3.6750514135842436\n"
     ]
    },
    {
     "name": "stderr",
     "output_type": "stream",
     "text": [
      "\r",
      " 12%|█████████▎                                                                     | 587/5000 [02:05<17:05,  4.30it/s]"
     ]
    },
    {
     "name": "stdout",
     "output_type": "stream",
     "text": [
      "LB Smoothed 3.6750591480896575\n"
     ]
    },
    {
     "name": "stderr",
     "output_type": "stream",
     "text": [
      "\r",
      " 12%|█████████▎                                                                     | 588/5000 [02:05<17:05,  4.30it/s]"
     ]
    },
    {
     "name": "stdout",
     "output_type": "stream",
     "text": [
      "LB Smoothed 3.6750667911349133\n"
     ]
    },
    {
     "name": "stderr",
     "output_type": "stream",
     "text": [
      " 12%|█████████▎                                                                     | 590/5000 [02:05<16:13,  4.53it/s]"
     ]
    },
    {
     "name": "stdout",
     "output_type": "stream",
     "text": [
      "LB Smoothed 3.675074343915495\n",
      "LB Smoothed 3.675081807609344\n"
     ]
    },
    {
     "name": "stderr",
     "output_type": "stream",
     "text": [
      "\r",
      " 12%|█████████▎                                                                     | 591/5000 [02:06<16:07,  4.56it/s]"
     ]
    },
    {
     "name": "stdout",
     "output_type": "stream",
     "text": [
      "LB Smoothed 3.6750891833771404\n"
     ]
    },
    {
     "name": "stderr",
     "output_type": "stream",
     "text": [
      " 12%|█████████▎                                                                     | 593/5000 [02:06<16:31,  4.44it/s]"
     ]
    },
    {
     "name": "stdout",
     "output_type": "stream",
     "text": [
      "LB Smoothed 3.6750964723625916\n",
      "LB Smoothed 3.6751036756927054\n"
     ]
    },
    {
     "name": "stderr",
     "output_type": "stream",
     "text": [
      "\r",
      " 12%|█████████▍                                                                     | 594/5000 [02:06<16:11,  4.54it/s]"
     ]
    },
    {
     "name": "stdout",
     "output_type": "stream",
     "text": [
      "LB Smoothed 3.6751107944780617\n"
     ]
    },
    {
     "name": "stderr",
     "output_type": "stream",
     "text": [
      " 12%|█████████▍                                                                     | 596/5000 [02:07<16:02,  4.57it/s]"
     ]
    },
    {
     "name": "stdout",
     "output_type": "stream",
     "text": [
      "LB Smoothed 3.675117829813079\n",
      "LB Smoothed 3.6751247827762783\n"
     ]
    },
    {
     "name": "stderr",
     "output_type": "stream",
     "text": [
      "\r",
      " 12%|█████████▍                                                                     | 597/5000 [02:07<15:37,  4.70it/s]"
     ]
    },
    {
     "name": "stdout",
     "output_type": "stream",
     "text": [
      "LB Smoothed 3.6751316544305364\n"
     ]
    },
    {
     "name": "stderr",
     "output_type": "stream",
     "text": [
      "\r",
      " 12%|█████████▍                                                                     | 598/5000 [02:07<16:30,  4.44it/s]"
     ]
    },
    {
     "name": "stdout",
     "output_type": "stream",
     "text": [
      "LB Smoothed 3.6751384458233494\n"
     ]
    },
    {
     "name": "stderr",
     "output_type": "stream",
     "text": [
      "\r",
      " 12%|█████████▍                                                                     | 599/5000 [02:07<16:15,  4.51it/s]"
     ]
    },
    {
     "name": "stdout",
     "output_type": "stream",
     "text": [
      "LB Smoothed 3.675145157987067\n"
     ]
    },
    {
     "name": "stderr",
     "output_type": "stream",
     "text": [
      "\r",
      " 12%|█████████▍                                                                     | 600/5000 [02:08<16:34,  4.42it/s]"
     ]
    },
    {
     "name": "stdout",
     "output_type": "stream",
     "text": [
      "LB Smoothed 3.6751517919391468\n"
     ]
    },
    {
     "name": "stderr",
     "output_type": "stream",
     "text": [
      " 12%|█████████▌                                                                     | 602/5000 [02:08<14:56,  4.90it/s]"
     ]
    },
    {
     "name": "stdout",
     "output_type": "stream",
     "text": [
      "LB Smoothed 3.6751583486823907\n",
      "LB Smoothed 3.6751648292051815\n"
     ]
    },
    {
     "name": "stderr",
     "output_type": "stream",
     "text": [
      " 12%|█████████▌                                                                     | 604/5000 [02:08<14:44,  4.97it/s]"
     ]
    },
    {
     "name": "stdout",
     "output_type": "stream",
     "text": [
      "LB Smoothed 3.6751712344817125\n",
      "LB Smoothed 3.67517756547222\n"
     ]
    },
    {
     "name": "stderr",
     "output_type": "stream",
     "text": [
      "\r",
      " 12%|█████████▌                                                                     | 605/5000 [02:09<15:27,  4.74it/s]"
     ]
    },
    {
     "name": "stdout",
     "output_type": "stream",
     "text": [
      "LB Smoothed 3.6751838231232\n"
     ]
    },
    {
     "name": "stderr",
     "output_type": "stream",
     "text": [
      "\r",
      " 12%|█████████▌                                                                     | 606/5000 [02:09<16:30,  4.44it/s]"
     ]
    },
    {
     "name": "stdout",
     "output_type": "stream",
     "text": [
      "LB Smoothed 3.675190008367633\n"
     ]
    },
    {
     "name": "stderr",
     "output_type": "stream",
     "text": [
      "\r",
      " 12%|█████████▌                                                                     | 607/5000 [02:09<16:22,  4.47it/s]"
     ]
    },
    {
     "name": "stdout",
     "output_type": "stream",
     "text": [
      "LB Smoothed 3.675196122125198\n"
     ]
    },
    {
     "name": "stderr",
     "output_type": "stream",
     "text": [
      " 12%|█████████▌                                                                     | 609/5000 [02:10<15:02,  4.86it/s]"
     ]
    },
    {
     "name": "stdout",
     "output_type": "stream",
     "text": [
      "LB Smoothed 3.6752021653024856\n",
      "LB Smoothed 3.675208138793202\n"
     ]
    },
    {
     "name": "stderr",
     "output_type": "stream",
     "text": [
      " 12%|█████████▋                                                                     | 611/5000 [02:10<14:54,  4.91it/s]"
     ]
    },
    {
     "name": "stdout",
     "output_type": "stream",
     "text": [
      "LB Smoothed 3.67521404347838\n",
      "LB Smoothed 3.675219880226578\n"
     ]
    },
    {
     "name": "stderr",
     "output_type": "stream",
     "text": [
      " 12%|█████████▋                                                                     | 613/5000 [02:10<14:06,  5.19it/s]"
     ]
    },
    {
     "name": "stdout",
     "output_type": "stream",
     "text": [
      "LB Smoothed 3.675225649894075\n",
      "LB Smoothed 3.6752313533250667\n"
     ]
    },
    {
     "name": "stderr",
     "output_type": "stream",
     "text": [
      " 12%|█████████▋                                                                     | 615/5000 [02:11<13:07,  5.57it/s]"
     ]
    },
    {
     "name": "stdout",
     "output_type": "stream",
     "text": [
      "LB Smoothed 3.6752369913518588\n",
      "LB Smoothed 3.6752425647950484\n"
     ]
    },
    {
     "name": "stderr",
     "output_type": "stream",
     "text": [
      "\r",
      " 12%|█████████▋                                                                     | 616/5000 [02:11<13:21,  5.47it/s]"
     ]
    },
    {
     "name": "stdout",
     "output_type": "stream",
     "text": [
      "LB Smoothed 3.6752480744637173\n"
     ]
    },
    {
     "name": "stderr",
     "output_type": "stream",
     "text": [
      "\r",
      " 12%|█████████▋                                                                     | 617/5000 [02:11<15:21,  4.76it/s]"
     ]
    },
    {
     "name": "stdout",
     "output_type": "stream",
     "text": [
      "LB Smoothed 3.675253521155603\n",
      "LB Smoothed 3.6752589056572873\n"
     ]
    },
    {
     "name": "stderr",
     "output_type": "stream",
     "text": [
      " 12%|█████████▊                                                                     | 620/5000 [02:12<15:08,  4.82it/s]"
     ]
    },
    {
     "name": "stdout",
     "output_type": "stream",
     "text": [
      "LB Smoothed 3.6752642287443593\n",
      "LB Smoothed 3.6752694911815995\n"
     ]
    },
    {
     "name": "stderr",
     "output_type": "stream",
     "text": [
      "\r",
      " 12%|█████████▊                                                                     | 621/5000 [02:12<16:05,  4.53it/s]"
     ]
    },
    {
     "name": "stdout",
     "output_type": "stream",
     "text": [
      "LB Smoothed 3.6752746937231393\n"
     ]
    },
    {
     "name": "stderr",
     "output_type": "stream",
     "text": [
      "\r",
      " 12%|█████████▊                                                                     | 622/5000 [02:12<15:56,  4.58it/s]"
     ]
    },
    {
     "name": "stdout",
     "output_type": "stream",
     "text": [
      "LB Smoothed 3.6752798371126345\n"
     ]
    },
    {
     "name": "stderr",
     "output_type": "stream",
     "text": [
      " 12%|█████████▊                                                                     | 624/5000 [02:13<14:55,  4.89it/s]"
     ]
    },
    {
     "name": "stdout",
     "output_type": "stream",
     "text": [
      "LB Smoothed 3.6752849220834207\n",
      "LB Smoothed 3.6752899493586817\n"
     ]
    },
    {
     "name": "stderr",
     "output_type": "stream",
     "text": [
      "\r",
      " 12%|█████████▉                                                                     | 625/5000 [02:13<14:27,  5.04it/s]"
     ]
    },
    {
     "name": "stdout",
     "output_type": "stream",
     "text": [
      "LB Smoothed 3.6752949196516025\n"
     ]
    },
    {
     "name": "stderr",
     "output_type": "stream",
     "text": [
      " 13%|█████████▉                                                                     | 627/5000 [02:13<14:41,  4.96it/s]"
     ]
    },
    {
     "name": "stdout",
     "output_type": "stream",
     "text": [
      "LB Smoothed 3.675299833665523\n",
      "LB Smoothed 3.675304692094098\n"
     ]
    },
    {
     "name": "stderr",
     "output_type": "stream",
     "text": [
      " 13%|█████████▉                                                                     | 629/5000 [02:14<13:51,  5.26it/s]"
     ]
    },
    {
     "name": "stdout",
     "output_type": "stream",
     "text": [
      "LB Smoothed 3.6753094956214363\n",
      "LB Smoothed 3.6753142449222556\n"
     ]
    },
    {
     "name": "stderr",
     "output_type": "stream",
     "text": [
      "\r",
      " 13%|█████████▉                                                                     | 630/5000 [02:14<14:02,  5.19it/s]"
     ]
    },
    {
     "name": "stdout",
     "output_type": "stream",
     "text": [
      "LB Smoothed 3.6753189406620246\n"
     ]
    },
    {
     "name": "stderr",
     "output_type": "stream",
     "text": [
      "\r",
      " 13%|█████████▉                                                                     | 631/5000 [02:14<14:30,  5.02it/s]"
     ]
    },
    {
     "name": "stdout",
     "output_type": "stream",
     "text": [
      "LB Smoothed 3.675323583497107\n"
     ]
    },
    {
     "name": "stderr",
     "output_type": "stream",
     "text": [
      "\r",
      " 13%|█████████▉                                                                     | 632/5000 [02:14<16:49,  4.33it/s]"
     ]
    },
    {
     "name": "stdout",
     "output_type": "stream",
     "text": [
      "LB Smoothed 3.6753281740749\n"
     ]
    },
    {
     "name": "stderr",
     "output_type": "stream",
     "text": [
      "\r",
      " 13%|██████████                                                                     | 633/5000 [02:14<16:29,  4.41it/s]"
     ]
    },
    {
     "name": "stdout",
     "output_type": "stream",
     "text": [
      "LB Smoothed 3.675332713033968\n"
     ]
    },
    {
     "name": "stderr",
     "output_type": "stream",
     "text": [
      "\r",
      " 13%|██████████                                                                     | 634/5000 [02:15<16:10,  4.50it/s]"
     ]
    },
    {
     "name": "stdout",
     "output_type": "stream",
     "text": [
      "LB Smoothed 3.675337201004185\n"
     ]
    },
    {
     "name": "stderr",
     "output_type": "stream",
     "text": [
      "\r",
      " 13%|██████████                                                                     | 635/5000 [02:15<16:15,  4.47it/s]"
     ]
    },
    {
     "name": "stdout",
     "output_type": "stream",
     "text": [
      "LB Smoothed 3.6753416386068634\n"
     ]
    },
    {
     "name": "stderr",
     "output_type": "stream",
     "text": [
      " 13%|██████████                                                                     | 637/5000 [02:15<15:57,  4.55it/s]"
     ]
    },
    {
     "name": "stdout",
     "output_type": "stream",
     "text": [
      "LB Smoothed 3.675346026454886\n",
      "LB Smoothed 3.675350365152831\n"
     ]
    },
    {
     "name": "stderr",
     "output_type": "stream",
     "text": [
      " 13%|██████████                                                                     | 639/5000 [02:16<14:53,  4.88it/s]"
     ]
    },
    {
     "name": "stdout",
     "output_type": "stream",
     "text": [
      "LB Smoothed 3.675354655297104\n",
      "LB Smoothed 3.6753588974760554\n"
     ]
    },
    {
     "name": "stderr",
     "output_type": "stream",
     "text": [
      "\r",
      " 13%|██████████                                                                     | 640/5000 [02:16<15:28,  4.69it/s]"
     ]
    },
    {
     "name": "stdout",
     "output_type": "stream",
     "text": [
      "LB Smoothed 3.67536309227011\n"
     ]
    },
    {
     "name": "stderr",
     "output_type": "stream",
     "text": [
      "\r",
      " 13%|██████████▏                                                                    | 641/5000 [02:16<17:09,  4.24it/s]"
     ]
    },
    {
     "name": "stdout",
     "output_type": "stream",
     "text": [
      "LB Smoothed 3.6753672402518816\n"
     ]
    },
    {
     "name": "stderr",
     "output_type": "stream",
     "text": [
      "\r",
      " 13%|██████████▏                                                                    | 642/5000 [02:16<17:09,  4.23it/s]"
     ]
    },
    {
     "name": "stdout",
     "output_type": "stream",
     "text": [
      "LB Smoothed 3.6753713419862906\n"
     ]
    },
    {
     "name": "stderr",
     "output_type": "stream",
     "text": [
      "\r",
      " 13%|██████████▏                                                                    | 643/5000 [02:17<16:42,  4.35it/s]"
     ]
    },
    {
     "name": "stdout",
     "output_type": "stream",
     "text": [
      "LB Smoothed 3.6753753980306842\n"
     ]
    },
    {
     "name": "stderr",
     "output_type": "stream",
     "text": [
      " 13%|██████████▏                                                                    | 645/5000 [02:17<15:32,  4.67it/s]"
     ]
    },
    {
     "name": "stdout",
     "output_type": "stream",
     "text": [
      "LB Smoothed 3.6753794089349476\n",
      "LB Smoothed 3.6753833752416174\n"
     ]
    },
    {
     "name": "stderr",
     "output_type": "stream",
     "text": [
      " 13%|██████████▏                                                                    | 647/5000 [02:17<14:17,  5.07it/s]"
     ]
    },
    {
     "name": "stdout",
     "output_type": "stream",
     "text": [
      "LB Smoothed 3.67538729748599\n",
      "LB Smoothed 3.675391176196232\n"
     ]
    },
    {
     "name": "stderr",
     "output_type": "stream",
     "text": [
      "\r",
      " 13%|██████████▏                                                                    | 648/5000 [02:18<15:46,  4.60it/s]"
     ]
    },
    {
     "name": "stdout",
     "output_type": "stream",
     "text": [
      "LB Smoothed 3.675395011893486\n"
     ]
    },
    {
     "name": "stderr",
     "output_type": "stream",
     "text": [
      " 13%|██████████▎                                                                    | 650/5000 [02:18<15:23,  4.71it/s]"
     ]
    },
    {
     "name": "stdout",
     "output_type": "stream",
     "text": [
      "LB Smoothed 3.6753988050919766\n",
      "LB Smoothed 3.675402556299113\n"
     ]
    },
    {
     "name": "stderr",
     "output_type": "stream",
     "text": [
      " 13%|██████████▎                                                                    | 652/5000 [02:19<14:14,  5.09it/s]"
     ]
    },
    {
     "name": "stdout",
     "output_type": "stream",
     "text": [
      "LB Smoothed 3.6754062660155866\n",
      "LB Smoothed 3.6754099347354794\n"
     ]
    },
    {
     "name": "stderr",
     "output_type": "stream",
     "text": [
      " 13%|██████████▎                                                                    | 654/5000 [02:19<14:18,  5.06it/s]"
     ]
    },
    {
     "name": "stdout",
     "output_type": "stream",
     "text": [
      "LB Smoothed 3.675413562946355\n",
      "LB Smoothed 3.6754171511293556\n"
     ]
    },
    {
     "name": "stderr",
     "output_type": "stream",
     "text": [
      "\r",
      " 13%|██████████▎                                                                    | 655/5000 [02:19<14:23,  5.03it/s]"
     ]
    },
    {
     "name": "stdout",
     "output_type": "stream",
     "text": [
      "LB Smoothed 3.6754206997592993\n"
     ]
    },
    {
     "name": "stderr",
     "output_type": "stream",
     "text": [
      "\r",
      " 13%|██████████▎                                                                    | 656/5000 [02:19<14:44,  4.91it/s]"
     ]
    },
    {
     "name": "stdout",
     "output_type": "stream",
     "text": [
      "LB Smoothed 3.675424209304777\n"
     ]
    },
    {
     "name": "stderr",
     "output_type": "stream",
     "text": [
      "\r",
      " 13%|██████████▍                                                                    | 657/5000 [02:20<15:55,  4.54it/s]"
     ]
    },
    {
     "name": "stdout",
     "output_type": "stream",
     "text": [
      "LB Smoothed 3.6754276802282324\n"
     ]
    },
    {
     "name": "stderr",
     "output_type": "stream",
     "text": [
      "\r",
      " 13%|██████████▍                                                                    | 658/5000 [02:20<16:26,  4.40it/s]"
     ]
    },
    {
     "name": "stdout",
     "output_type": "stream",
     "text": [
      "LB Smoothed 3.6754311129860655\n"
     ]
    },
    {
     "name": "stderr",
     "output_type": "stream",
     "text": [
      " 13%|██████████▍                                                                    | 660/5000 [02:20<15:38,  4.63it/s]"
     ]
    },
    {
     "name": "stdout",
     "output_type": "stream",
     "text": [
      "LB Smoothed 3.675434508028712\n",
      "LB Smoothed 3.6754378658007396\n"
     ]
    },
    {
     "name": "stderr",
     "output_type": "stream",
     "text": [
      " 13%|██████████▍                                                                    | 662/5000 [02:21<14:07,  5.12it/s]"
     ]
    },
    {
     "name": "stdout",
     "output_type": "stream",
     "text": [
      "LB Smoothed 3.6754411867409247\n",
      "LB Smoothed 3.6754444712823413\n"
     ]
    },
    {
     "name": "stderr",
     "output_type": "stream",
     "text": [
      " 13%|██████████▍                                                                    | 664/5000 [02:21<13:59,  5.16it/s]"
     ]
    },
    {
     "name": "stdout",
     "output_type": "stream",
     "text": [
      "LB Smoothed 3.675447719852444\n",
      "LB Smoothed 3.675450932873154\n"
     ]
    },
    {
     "name": "stderr",
     "output_type": "stream",
     "text": [
      " 13%|██████████▌                                                                    | 666/5000 [02:21<13:40,  5.28it/s]"
     ]
    },
    {
     "name": "stdout",
     "output_type": "stream",
     "text": [
      "LB Smoothed 3.67545411076093\n",
      "LB Smoothed 3.6754572539268553\n"
     ]
    },
    {
     "name": "stderr",
     "output_type": "stream",
     "text": [
      "\r",
      " 13%|██████████▌                                                                    | 667/5000 [02:22<13:55,  5.18it/s]"
     ]
    },
    {
     "name": "stdout",
     "output_type": "stream",
     "text": [
      "LB Smoothed 3.675460362776713\n"
     ]
    },
    {
     "name": "stderr",
     "output_type": "stream",
     "text": [
      " 13%|██████████▌                                                                    | 669/5000 [02:22<14:21,  5.03it/s]"
     ]
    },
    {
     "name": "stdout",
     "output_type": "stream",
     "text": [
      "LB Smoothed 3.675463437711065\n",
      "LB Smoothed 3.67546647912532\n"
     ]
    },
    {
     "name": "stderr",
     "output_type": "stream",
     "text": [
      "\r",
      " 13%|██████████▌                                                                    | 670/5000 [02:22<14:45,  4.89it/s]"
     ]
    },
    {
     "name": "stdout",
     "output_type": "stream",
     "text": [
      "LB Smoothed 3.675469487409819\n"
     ]
    },
    {
     "name": "stderr",
     "output_type": "stream",
     "text": [
      "\r",
      " 13%|██████████▌                                                                    | 671/5000 [02:22<15:46,  4.57it/s]"
     ]
    },
    {
     "name": "stdout",
     "output_type": "stream",
     "text": [
      "LB Smoothed 3.6754724629498994\n"
     ]
    },
    {
     "name": "stderr",
     "output_type": "stream",
     "text": [
      "\r",
      " 13%|██████████▌                                                                    | 672/5000 [02:23<15:43,  4.59it/s]"
     ]
    },
    {
     "name": "stdout",
     "output_type": "stream",
     "text": [
      "LB Smoothed 3.6754754061259702\n",
      "LB Smoothed 3.675478317313582\n"
     ]
    },
    {
     "name": "stderr",
     "output_type": "stream",
     "text": [
      " 14%|██████████▋                                                                    | 675/5000 [02:23<15:05,  4.78it/s]"
     ]
    },
    {
     "name": "stdout",
     "output_type": "stream",
     "text": [
      "LB Smoothed 3.675481196883499\n",
      "LB Smoothed 3.675484045201762\n"
     ]
    },
    {
     "name": "stderr",
     "output_type": "stream",
     "text": [
      "\r",
      " 14%|██████████▋                                                                    | 676/5000 [02:23<14:24,  5.00it/s]"
     ]
    },
    {
     "name": "stdout",
     "output_type": "stream",
     "text": [
      "LB Smoothed 3.6754868626297603\n"
     ]
    },
    {
     "name": "stderr",
     "output_type": "stream",
     "text": [
      "\r",
      " 14%|██████████▋                                                                    | 677/5000 [02:24<15:19,  4.70it/s]"
     ]
    },
    {
     "name": "stdout",
     "output_type": "stream",
     "text": [
      "LB Smoothed 3.675489649524298\n",
      "LB Smoothed 3.6754924062376584\n"
     ]
    },
    {
     "name": "stderr",
     "output_type": "stream",
     "text": [
      " 14%|██████████▋                                                                    | 679/5000 [02:24<14:42,  4.90it/s]"
     ]
    },
    {
     "name": "stdout",
     "output_type": "stream",
     "text": [
      "LB Smoothed 3.675495133117665\n"
     ]
    },
    {
     "name": "stderr",
     "output_type": "stream",
     "text": [
      "\r",
      " 14%|██████████▋                                                                    | 680/5000 [02:24<14:50,  4.85it/s]"
     ]
    },
    {
     "name": "stdout",
     "output_type": "stream",
     "text": [
      "LB Smoothed 3.6754978305077484\n"
     ]
    },
    {
     "name": "stderr",
     "output_type": "stream",
     "text": [
      "\r",
      " 14%|██████████▊                                                                    | 681/5000 [02:25<15:11,  4.74it/s]"
     ]
    },
    {
     "name": "stdout",
     "output_type": "stream",
     "text": [
      "LB Smoothed 3.6755004987470095\n"
     ]
    },
    {
     "name": "stderr",
     "output_type": "stream",
     "text": [
      "\r",
      " 14%|██████████▊                                                                    | 682/5000 [02:25<15:48,  4.55it/s]"
     ]
    },
    {
     "name": "stdout",
     "output_type": "stream",
     "text": [
      "LB Smoothed 3.675503138170275\n"
     ]
    },
    {
     "name": "stderr",
     "output_type": "stream",
     "text": [
      " 14%|██████████▊                                                                    | 684/5000 [02:25<15:54,  4.52it/s]"
     ]
    },
    {
     "name": "stdout",
     "output_type": "stream",
     "text": [
      "LB Smoothed 3.675505749108165\n",
      "LB Smoothed 3.6755083318871473\n"
     ]
    },
    {
     "name": "stderr",
     "output_type": "stream",
     "text": [
      "\r",
      " 14%|██████████▊                                                                    | 685/5000 [02:25<15:21,  4.68it/s]"
     ]
    },
    {
     "name": "stdout",
     "output_type": "stream",
     "text": [
      "LB Smoothed 3.675510886829594\n"
     ]
    },
    {
     "name": "stderr",
     "output_type": "stream",
     "text": [
      "\r",
      " 14%|██████████▊                                                                    | 686/5000 [02:26<16:08,  4.46it/s]"
     ]
    },
    {
     "name": "stdout",
     "output_type": "stream",
     "text": [
      "LB Smoothed 3.675513414253846\n"
     ]
    },
    {
     "name": "stderr",
     "output_type": "stream",
     "text": [
      "\r",
      " 14%|██████████▊                                                                    | 687/5000 [02:26<15:47,  4.55it/s]"
     ]
    },
    {
     "name": "stdout",
     "output_type": "stream",
     "text": [
      "LB Smoothed 3.675515914474264\n"
     ]
    },
    {
     "name": "stderr",
     "output_type": "stream",
     "text": [
      "\r",
      " 14%|██████████▊                                                                    | 688/5000 [02:26<16:21,  4.39it/s]"
     ]
    },
    {
     "name": "stdout",
     "output_type": "stream",
     "text": [
      "LB Smoothed 3.6755183878012843\n"
     ]
    },
    {
     "name": "stderr",
     "output_type": "stream",
     "text": [
      "\r",
      " 14%|██████████▉                                                                    | 689/5000 [02:26<15:43,  4.57it/s]"
     ]
    },
    {
     "name": "stdout",
     "output_type": "stream",
     "text": [
      "LB Smoothed 3.6755208345414743\n"
     ]
    },
    {
     "name": "stderr",
     "output_type": "stream",
     "text": [
      "\r",
      " 14%|██████████▉                                                                    | 690/5000 [02:27<16:37,  4.32it/s]"
     ]
    },
    {
     "name": "stdout",
     "output_type": "stream",
     "text": [
      "LB Smoothed 3.675523254997591\n"
     ]
    },
    {
     "name": "stderr",
     "output_type": "stream",
     "text": [
      "\r",
      " 14%|██████████▉                                                                    | 691/5000 [02:27<16:06,  4.46it/s]"
     ]
    },
    {
     "name": "stdout",
     "output_type": "stream",
     "text": [
      "LB Smoothed 3.6755256494686237\n"
     ]
    },
    {
     "name": "stderr",
     "output_type": "stream",
     "text": [
      "\r",
      " 14%|██████████▉                                                                    | 692/5000 [02:27<17:54,  4.01it/s]"
     ]
    },
    {
     "name": "stdout",
     "output_type": "stream",
     "text": [
      "LB Smoothed 3.675528018249857\n"
     ]
    },
    {
     "name": "stderr",
     "output_type": "stream",
     "text": [
      " 14%|██████████▉                                                                    | 694/5000 [02:28<16:16,  4.41it/s]"
     ]
    },
    {
     "name": "stdout",
     "output_type": "stream",
     "text": [
      "LB Smoothed 3.675530361632917\n",
      "LB Smoothed 3.6755326799058192\n"
     ]
    },
    {
     "name": "stderr",
     "output_type": "stream",
     "text": [
      "\r",
      " 14%|██████████▉                                                                    | 695/5000 [02:28<15:52,  4.52it/s]"
     ]
    },
    {
     "name": "stdout",
     "output_type": "stream",
     "text": [
      "LB Smoothed 3.675534973353025\n",
      "LB Smoothed 3.675537242255488\n"
     ]
    },
    {
     "name": "stderr",
     "output_type": "stream",
     "text": [
      " 14%|███████████                                                                    | 697/5000 [02:28<14:48,  4.84it/s]"
     ]
    },
    {
     "name": "stdout",
     "output_type": "stream",
     "text": [
      "LB Smoothed 3.6755394868906968\n"
     ]
    },
    {
     "name": "stderr",
     "output_type": "stream",
     "text": [
      "\r",
      " 14%|███████████                                                                    | 698/5000 [02:28<15:28,  4.64it/s]"
     ]
    },
    {
     "name": "stdout",
     "output_type": "stream",
     "text": [
      "LB Smoothed 3.6755417075327323\n"
     ]
    },
    {
     "name": "stderr",
     "output_type": "stream",
     "text": [
      "\r",
      " 14%|███████████                                                                    | 699/5000 [02:29<16:34,  4.33it/s]"
     ]
    },
    {
     "name": "stdout",
     "output_type": "stream",
     "text": [
      "LB Smoothed 3.6755439044523084\n"
     ]
    },
    {
     "name": "stderr",
     "output_type": "stream",
     "text": [
      " 14%|███████████                                                                    | 701/5000 [02:29<15:24,  4.65it/s]"
     ]
    },
    {
     "name": "stdout",
     "output_type": "stream",
     "text": [
      "LB Smoothed 3.675546077916819\n",
      "LB Smoothed 3.675548228190381\n"
     ]
    },
    {
     "name": "stderr",
     "output_type": "stream",
     "text": [
      "\r",
      " 14%|███████████                                                                    | 702/5000 [02:29<15:42,  4.56it/s]"
     ]
    },
    {
     "name": "stdout",
     "output_type": "stream",
     "text": [
      "LB Smoothed 3.675550355533886\n"
     ]
    },
    {
     "name": "stderr",
     "output_type": "stream",
     "text": [
      "\r",
      " 14%|███████████                                                                    | 703/5000 [02:30<15:49,  4.53it/s]"
     ]
    },
    {
     "name": "stdout",
     "output_type": "stream",
     "text": [
      "LB Smoothed 3.6755524602050387\n"
     ]
    },
    {
     "name": "stderr",
     "output_type": "stream",
     "text": [
      "\r",
      " 14%|███████████                                                                    | 704/5000 [02:30<16:14,  4.41it/s]"
     ]
    },
    {
     "name": "stdout",
     "output_type": "stream",
     "text": [
      "LB Smoothed 3.6755545424584\n"
     ]
    },
    {
     "name": "stderr",
     "output_type": "stream",
     "text": [
      " 14%|███████████▏                                                                   | 706/5000 [02:30<15:54,  4.50it/s]"
     ]
    },
    {
     "name": "stdout",
     "output_type": "stream",
     "text": [
      "LB Smoothed 3.675556602545433\n",
      "LB Smoothed 3.675558640714543\n"
     ]
    },
    {
     "name": "stderr",
     "output_type": "stream",
     "text": [
      "\r",
      " 14%|███████████▏                                                                   | 707/5000 [02:30<15:38,  4.57it/s]"
     ]
    },
    {
     "name": "stdout",
     "output_type": "stream",
     "text": [
      "LB Smoothed 3.6755606572111166\n"
     ]
    },
    {
     "name": "stderr",
     "output_type": "stream",
     "text": [
      "\r",
      " 14%|███████████▏                                                                   | 708/5000 [02:31<15:55,  4.49it/s]"
     ]
    },
    {
     "name": "stdout",
     "output_type": "stream",
     "text": [
      "LB Smoothed 3.6755626522775686\n"
     ]
    },
    {
     "name": "stderr",
     "output_type": "stream",
     "text": [
      "\r",
      " 14%|███████████▏                                                                   | 709/5000 [02:31<15:45,  4.54it/s]"
     ]
    },
    {
     "name": "stdout",
     "output_type": "stream",
     "text": [
      "LB Smoothed 3.6755646261533763\n"
     ]
    },
    {
     "name": "stderr",
     "output_type": "stream",
     "text": [
      "\r",
      " 14%|███████████▏                                                                   | 710/5000 [02:31<16:27,  4.34it/s]"
     ]
    },
    {
     "name": "stdout",
     "output_type": "stream",
     "text": [
      "LB Smoothed 3.6755665790751206\n"
     ]
    },
    {
     "name": "stderr",
     "output_type": "stream",
     "text": [
      " 14%|███████████▏                                                                   | 712/5000 [02:31<14:56,  4.78it/s]"
     ]
    },
    {
     "name": "stdout",
     "output_type": "stream",
     "text": [
      "LB Smoothed 3.675568511276529\n",
      "LB Smoothed 3.6755704229885056\n"
     ]
    },
    {
     "name": "stderr",
     "output_type": "stream",
     "text": [
      " 14%|███████████▎                                                                   | 714/5000 [02:32<14:01,  5.10it/s]"
     ]
    },
    {
     "name": "stdout",
     "output_type": "stream",
     "text": [
      "LB Smoothed 3.6755723144391785\n",
      "LB Smoothed 3.675574185853929\n"
     ]
    },
    {
     "name": "stderr",
     "output_type": "stream",
     "text": [
      "\r",
      " 14%|███████████▎                                                                   | 715/5000 [02:32<15:19,  4.66it/s]"
     ]
    },
    {
     "name": "stdout",
     "output_type": "stream",
     "text": [
      "LB Smoothed 3.675576037455432\n"
     ]
    },
    {
     "name": "stderr",
     "output_type": "stream",
     "text": [
      " 14%|███████████▎                                                                   | 717/5000 [02:33<14:14,  5.01it/s]"
     ]
    },
    {
     "name": "stdout",
     "output_type": "stream",
     "text": [
      "LB Smoothed 3.6755778694636922\n",
      "LB Smoothed 3.67557968209608\n"
     ]
    },
    {
     "name": "stderr",
     "output_type": "stream",
     "text": [
      "\r",
      " 14%|███████████▎                                                                   | 718/5000 [02:33<14:26,  4.94it/s]"
     ]
    },
    {
     "name": "stdout",
     "output_type": "stream",
     "text": [
      "LB Smoothed 3.675581475567363\n"
     ]
    },
    {
     "name": "stderr",
     "output_type": "stream",
     "text": [
      " 14%|███████████▍                                                                   | 720/5000 [02:33<13:53,  5.13it/s]"
     ]
    },
    {
     "name": "stdout",
     "output_type": "stream",
     "text": [
      "LB Smoothed 3.675583250089745\n",
      "LB Smoothed 3.675585005872897\n"
     ]
    },
    {
     "name": "stderr",
     "output_type": "stream",
     "text": [
      "\r",
      " 14%|███████████▍                                                                   | 721/5000 [02:33<13:41,  5.21it/s]"
     ]
    },
    {
     "name": "stdout",
     "output_type": "stream",
     "text": [
      "LB Smoothed 3.675586743123992\n"
     ]
    },
    {
     "name": "stderr",
     "output_type": "stream",
     "text": [
      "\r",
      " 14%|███████████▍                                                                   | 722/5000 [02:33<14:03,  5.07it/s]"
     ]
    },
    {
     "name": "stdout",
     "output_type": "stream",
     "text": [
      "LB Smoothed 3.6755884620477386\n"
     ]
    },
    {
     "name": "stderr",
     "output_type": "stream",
     "text": [
      "\r",
      " 14%|███████████▍                                                                   | 723/5000 [02:34<14:23,  4.95it/s]"
     ]
    },
    {
     "name": "stdout",
     "output_type": "stream",
     "text": [
      "LB Smoothed 3.675590162846411\n"
     ]
    },
    {
     "name": "stderr",
     "output_type": "stream",
     "text": [
      " 14%|███████████▍                                                                   | 725/5000 [02:34<14:41,  4.85it/s]"
     ]
    },
    {
     "name": "stdout",
     "output_type": "stream",
     "text": [
      "LB Smoothed 3.6755918457198824\n",
      "LB Smoothed 3.6755935108656583\n"
     ]
    },
    {
     "name": "stderr",
     "output_type": "stream",
     "text": [
      "\r",
      " 15%|███████████▍                                                                   | 726/5000 [02:34<14:12,  5.01it/s]"
     ]
    },
    {
     "name": "stdout",
     "output_type": "stream",
     "text": [
      "LB Smoothed 3.675595158478904\n"
     ]
    },
    {
     "name": "stderr",
     "output_type": "stream",
     "text": [
      " 15%|███████████▌                                                                   | 728/5000 [02:35<14:21,  4.96it/s]"
     ]
    },
    {
     "name": "stdout",
     "output_type": "stream",
     "text": [
      "LB Smoothed 3.6755967887524803\n",
      "LB Smoothed 3.6755984018769645\n"
     ]
    },
    {
     "name": "stderr",
     "output_type": "stream",
     "text": [
      " 15%|███████████▌                                                                   | 730/5000 [02:35<14:31,  4.90it/s]"
     ]
    },
    {
     "name": "stdout",
     "output_type": "stream",
     "text": [
      "LB Smoothed 3.6755999980406933\n",
      "LB Smoothed 3.675601577429782\n"
     ]
    },
    {
     "name": "stderr",
     "output_type": "stream",
     "text": [
      "\r",
      " 15%|███████████▌                                                                   | 731/5000 [02:35<15:01,  4.74it/s]"
     ]
    },
    {
     "name": "stdout",
     "output_type": "stream",
     "text": [
      "LB Smoothed 3.6756031402281524\n"
     ]
    },
    {
     "name": "stderr",
     "output_type": "stream",
     "text": [
      "\r",
      " 15%|███████████▌                                                                   | 732/5000 [02:36<15:59,  4.45it/s]"
     ]
    },
    {
     "name": "stdout",
     "output_type": "stream",
     "text": [
      "LB Smoothed 3.6756046866175716\n"
     ]
    },
    {
     "name": "stderr",
     "output_type": "stream",
     "text": [
      "\r",
      " 15%|███████████▌                                                                   | 733/5000 [02:36<16:16,  4.37it/s]"
     ]
    },
    {
     "name": "stdout",
     "output_type": "stream",
     "text": [
      "LB Smoothed 3.6756062167776684\n"
     ]
    },
    {
     "name": "stderr",
     "output_type": "stream",
     "text": [
      "\r",
      " 15%|███████████▌                                                                   | 734/5000 [02:36<16:00,  4.44it/s]"
     ]
    },
    {
     "name": "stdout",
     "output_type": "stream",
     "text": [
      "LB Smoothed 3.6756077308859703\n"
     ]
    },
    {
     "name": "stderr",
     "output_type": "stream",
     "text": [
      "\r",
      " 15%|███████████▌                                                                   | 735/5000 [02:36<17:27,  4.07it/s]"
     ]
    },
    {
     "name": "stdout",
     "output_type": "stream",
     "text": [
      "LB Smoothed 3.675609229117921\n"
     ]
    },
    {
     "name": "stderr",
     "output_type": "stream",
     "text": [
      "\r",
      " 15%|███████████▋                                                                   | 736/5000 [02:37<17:01,  4.18it/s]"
     ]
    },
    {
     "name": "stdout",
     "output_type": "stream",
     "text": [
      "LB Smoothed 3.6756107116469185\n"
     ]
    },
    {
     "name": "stderr",
     "output_type": "stream",
     "text": [
      "\r",
      " 15%|███████████▋                                                                   | 737/5000 [02:37<16:30,  4.30it/s]"
     ]
    },
    {
     "name": "stdout",
     "output_type": "stream",
     "text": [
      "LB Smoothed 3.6756121786443323\n"
     ]
    },
    {
     "name": "stderr",
     "output_type": "stream",
     "text": [
      "\r",
      " 15%|███████████▋                                                                   | 738/5000 [02:37<17:06,  4.15it/s]"
     ]
    },
    {
     "name": "stdout",
     "output_type": "stream",
     "text": [
      "LB Smoothed 3.675613630279533\n"
     ]
    },
    {
     "name": "stderr",
     "output_type": "stream",
     "text": [
      " 15%|███████████▋                                                                   | 740/5000 [02:38<16:00,  4.44it/s]"
     ]
    },
    {
     "name": "stdout",
     "output_type": "stream",
     "text": [
      "LB Smoothed 3.675615066719918\n",
      "LB Smoothed 3.6756164881309386\n"
     ]
    },
    {
     "name": "stderr",
     "output_type": "stream",
     "text": [
      "\r",
      " 15%|███████████▋                                                                   | 741/5000 [02:38<16:09,  4.39it/s]"
     ]
    },
    {
     "name": "stdout",
     "output_type": "stream",
     "text": [
      "LB Smoothed 3.6756178946761193\n"
     ]
    },
    {
     "name": "stderr",
     "output_type": "stream",
     "text": [
      " 15%|███████████▋                                                                   | 743/5000 [02:38<14:54,  4.76it/s]"
     ]
    },
    {
     "name": "stdout",
     "output_type": "stream",
     "text": [
      "LB Smoothed 3.675619286517089\n",
      "LB Smoothed 3.6756206638136013\n"
     ]
    },
    {
     "name": "stderr",
     "output_type": "stream",
     "text": [
      "\r",
      " 15%|███████████▊                                                                   | 744/5000 [02:38<14:56,  4.75it/s]"
     ]
    },
    {
     "name": "stdout",
     "output_type": "stream",
     "text": [
      "LB Smoothed 3.6756220267235578\n"
     ]
    },
    {
     "name": "stderr",
     "output_type": "stream",
     "text": [
      " 15%|███████████▊                                                                   | 746/5000 [02:39<14:26,  4.91it/s]"
     ]
    },
    {
     "name": "stdout",
     "output_type": "stream",
     "text": [
      "LB Smoothed 3.675623375403036\n",
      "LB Smoothed 3.675624710006308\n"
     ]
    },
    {
     "name": "stderr",
     "output_type": "stream",
     "text": [
      "\r",
      " 15%|███████████▊                                                                   | 747/5000 [02:39<14:51,  4.77it/s]"
     ]
    },
    {
     "name": "stdout",
     "output_type": "stream",
     "text": [
      "LB Smoothed 3.6756260306858652\n"
     ]
    },
    {
     "name": "stderr",
     "output_type": "stream",
     "text": [
      " 15%|███████████▊                                                                   | 749/5000 [02:39<14:59,  4.72it/s]"
     ]
    },
    {
     "name": "stdout",
     "output_type": "stream",
     "text": [
      "LB Smoothed 3.6756273375924393\n",
      "LB Smoothed 3.675628630875028\n"
     ]
    },
    {
     "name": "stderr",
     "output_type": "stream",
     "text": [
      " 15%|███████████▊                                                                   | 751/5000 [02:40<14:07,  5.02it/s]"
     ]
    },
    {
     "name": "stdout",
     "output_type": "stream",
     "text": [
      "LB Smoothed 3.6756299106809145\n",
      "LB Smoothed 3.67563117715569\n"
     ]
    },
    {
     "name": "stderr",
     "output_type": "stream",
     "text": [
      "\r",
      " 15%|███████████▉                                                                   | 752/5000 [02:40<14:31,  4.88it/s]"
     ]
    },
    {
     "name": "stdout",
     "output_type": "stream",
     "text": [
      "LB Smoothed 3.675632430443271\n"
     ]
    },
    {
     "name": "stderr",
     "output_type": "stream",
     "text": [
      " 15%|███████████▉                                                                   | 754/5000 [02:40<14:40,  4.82it/s]"
     ]
    },
    {
     "name": "stdout",
     "output_type": "stream",
     "text": [
      "LB Smoothed 3.675633670685927\n",
      "LB Smoothed 3.675634898024299\n"
     ]
    },
    {
     "name": "stderr",
     "output_type": "stream",
     "text": [
      "\r",
      " 15%|███████████▉                                                                   | 755/5000 [02:41<14:12,  4.98it/s]"
     ]
    },
    {
     "name": "stdout",
     "output_type": "stream",
     "text": [
      "LB Smoothed 3.6756361125974144\n"
     ]
    },
    {
     "name": "stderr",
     "output_type": "stream",
     "text": [
      "\r",
      " 15%|███████████▉                                                                   | 756/5000 [02:41<14:39,  4.83it/s]"
     ]
    },
    {
     "name": "stdout",
     "output_type": "stream",
     "text": [
      "LB Smoothed 3.6756373145427155\n"
     ]
    },
    {
     "name": "stderr",
     "output_type": "stream",
     "text": [
      "\r",
      " 15%|███████████▉                                                                   | 757/5000 [02:41<15:54,  4.45it/s]"
     ]
    },
    {
     "name": "stdout",
     "output_type": "stream",
     "text": [
      "LB Smoothed 3.675638503996072\n"
     ]
    },
    {
     "name": "stderr",
     "output_type": "stream",
     "text": [
      "\r",
      " 15%|███████████▉                                                                   | 758/5000 [02:41<16:16,  4.35it/s]"
     ]
    },
    {
     "name": "stdout",
     "output_type": "stream",
     "text": [
      "LB Smoothed 3.675639681091808\n"
     ]
    },
    {
     "name": "stderr",
     "output_type": "stream",
     "text": [
      "\r",
      " 15%|███████████▉                                                                   | 759/5000 [02:42<16:09,  4.37it/s]"
     ]
    },
    {
     "name": "stdout",
     "output_type": "stream",
     "text": [
      "LB Smoothed 3.675640845962715\n"
     ]
    },
    {
     "name": "stderr",
     "output_type": "stream",
     "text": [
      "\r",
      " 15%|████████████                                                                   | 760/5000 [02:42<15:58,  4.42it/s]"
     ]
    },
    {
     "name": "stdout",
     "output_type": "stream",
     "text": [
      "LB Smoothed 3.675641998740073\n"
     ]
    },
    {
     "name": "stderr",
     "output_type": "stream",
     "text": [
      "\r",
      " 15%|████████████                                                                   | 761/5000 [02:42<17:11,  4.11it/s]"
     ]
    },
    {
     "name": "stdout",
     "output_type": "stream",
     "text": [
      "LB Smoothed 3.6756431395536686\n"
     ]
    },
    {
     "name": "stderr",
     "output_type": "stream",
     "text": [
      "\r",
      " 15%|████████████                                                                   | 762/5000 [02:42<16:56,  4.17it/s]"
     ]
    },
    {
     "name": "stdout",
     "output_type": "stream",
     "text": [
      "LB Smoothed 3.675644268531818\n",
      "LB Smoothed 3.6756453858013765\n"
     ]
    },
    {
     "name": "stderr",
     "output_type": "stream",
     "text": [
      " 15%|████████████                                                                   | 765/5000 [02:43<13:28,  5.24it/s]"
     ]
    },
    {
     "name": "stdout",
     "output_type": "stream",
     "text": [
      "LB Smoothed 3.6756464914877673\n",
      "LB Smoothed 3.675647585714988\n"
     ]
    },
    {
     "name": "stderr",
     "output_type": "stream",
     "text": [
      "\r",
      " 15%|████████████                                                                   | 766/5000 [02:43<13:27,  5.24it/s]"
     ]
    },
    {
     "name": "stdout",
     "output_type": "stream",
     "text": [
      "LB Smoothed 3.6756486686056373\n"
     ]
    },
    {
     "name": "stderr",
     "output_type": "stream",
     "text": [
      " 15%|████████████▏                                                                  | 768/5000 [02:43<14:06,  5.00it/s]"
     ]
    },
    {
     "name": "stdout",
     "output_type": "stream",
     "text": [
      "LB Smoothed 3.675649740280927\n",
      "LB Smoothed 3.6756508008607027\n"
     ]
    },
    {
     "name": "stderr",
     "output_type": "stream",
     "text": [
      " 15%|████████████▏                                                                  | 770/5000 [02:44<13:49,  5.10it/s]"
     ]
    },
    {
     "name": "stdout",
     "output_type": "stream",
     "text": [
      "LB Smoothed 3.675651850463455\n",
      "LB Smoothed 3.675652889206342\n"
     ]
    },
    {
     "name": "stderr",
     "output_type": "stream",
     "text": [
      "\r",
      " 15%|████████████▏                                                                  | 771/5000 [02:44<14:29,  4.86it/s]"
     ]
    },
    {
     "name": "stdout",
     "output_type": "stream",
     "text": [
      "LB Smoothed 3.6756539172052034\n"
     ]
    },
    {
     "name": "stderr",
     "output_type": "stream",
     "text": [
      " 15%|████████████▏                                                                  | 773/5000 [02:44<14:22,  4.90it/s]"
     ]
    },
    {
     "name": "stdout",
     "output_type": "stream",
     "text": [
      "LB Smoothed 3.6756549345745744\n",
      "LB Smoothed 3.6756559414277077\n"
     ]
    },
    {
     "name": "stderr",
     "output_type": "stream",
     "text": [
      " 16%|████████████▏                                                                  | 775/5000 [02:45<14:01,  5.02it/s]"
     ]
    },
    {
     "name": "stdout",
     "output_type": "stream",
     "text": [
      "LB Smoothed 3.6756569378765804\n",
      "LB Smoothed 3.675657924031915\n"
     ]
    },
    {
     "name": "stderr",
     "output_type": "stream",
     "text": [
      "\r",
      " 16%|████████████▎                                                                  | 776/5000 [02:45<14:27,  4.87it/s]"
     ]
    },
    {
     "name": "stdout",
     "output_type": "stream",
     "text": [
      "LB Smoothed 3.675658900003198\n"
     ]
    },
    {
     "name": "stderr",
     "output_type": "stream",
     "text": [
      "\r",
      " 16%|████████████▎                                                                  | 777/5000 [02:45<14:48,  4.75it/s]"
     ]
    },
    {
     "name": "stdout",
     "output_type": "stream",
     "text": [
      "LB Smoothed 3.6756598658986848\n"
     ]
    },
    {
     "name": "stderr",
     "output_type": "stream",
     "text": [
      "\r",
      " 16%|████████████▎                                                                  | 778/5000 [02:46<15:27,  4.55it/s]"
     ]
    },
    {
     "name": "stdout",
     "output_type": "stream",
     "text": [
      "LB Smoothed 3.6756608218254256\n"
     ]
    },
    {
     "name": "stderr",
     "output_type": "stream",
     "text": [
      "\r",
      " 16%|████████████▎                                                                  | 779/5000 [02:46<16:08,  4.36it/s]"
     ]
    },
    {
     "name": "stdout",
     "output_type": "stream",
     "text": [
      "LB Smoothed 3.675661767889271\n"
     ]
    },
    {
     "name": "stderr",
     "output_type": "stream",
     "text": [
      "\r",
      " 16%|████████████▎                                                                  | 780/5000 [02:46<16:39,  4.22it/s]"
     ]
    },
    {
     "name": "stdout",
     "output_type": "stream",
     "text": [
      "LB Smoothed 3.675662704194894\n"
     ]
    },
    {
     "name": "stderr",
     "output_type": "stream",
     "text": [
      " 16%|████████████▎                                                                  | 782/5000 [02:47<16:04,  4.37it/s]"
     ]
    },
    {
     "name": "stdout",
     "output_type": "stream",
     "text": [
      "LB Smoothed 3.6756636308457975\n",
      "LB Smoothed 3.675664547944333\n"
     ]
    },
    {
     "name": "stderr",
     "output_type": "stream",
     "text": [
      " 16%|████████████▍                                                                  | 784/5000 [02:47<14:06,  4.98it/s]"
     ]
    },
    {
     "name": "stdout",
     "output_type": "stream",
     "text": [
      "LB Smoothed 3.6756654555917123\n",
      "LB Smoothed 3.6756663538880243\n"
     ]
    },
    {
     "name": "stderr",
     "output_type": "stream",
     "text": [
      " 16%|████████████▍                                                                  | 786/5000 [02:47<14:46,  4.75it/s]"
     ]
    },
    {
     "name": "stdout",
     "output_type": "stream",
     "text": [
      "LB Smoothed 3.6756672429322426\n",
      "LB Smoothed 3.6756681228222434\n"
     ]
    },
    {
     "name": "stderr",
     "output_type": "stream",
     "text": [
      "\r",
      " 16%|████████████▍                                                                  | 787/5000 [02:47<14:02,  5.00it/s]"
     ]
    },
    {
     "name": "stdout",
     "output_type": "stream",
     "text": [
      "LB Smoothed 3.675668993654819\n"
     ]
    },
    {
     "name": "stderr",
     "output_type": "stream",
     "text": [
      "\r",
      " 16%|████████████▍                                                                  | 788/5000 [02:48<15:22,  4.57it/s]"
     ]
    },
    {
     "name": "stdout",
     "output_type": "stream",
     "text": [
      "LB Smoothed 3.675669855525687\n"
     ]
    },
    {
     "name": "stderr",
     "output_type": "stream",
     "text": [
      "\r",
      " 16%|████████████▍                                                                  | 789/5000 [02:48<16:17,  4.31it/s]"
     ]
    },
    {
     "name": "stdout",
     "output_type": "stream",
     "text": [
      "LB Smoothed 3.6752043135556405\n"
     ]
    },
    {
     "name": "stderr",
     "output_type": "stream",
     "text": [
      "\r",
      " 16%|████████████▍                                                                  | 790/5000 [02:48<17:06,  4.10it/s]"
     ]
    },
    {
     "name": "stdout",
     "output_type": "stream",
     "text": [
      "LB Smoothed 3.6752049249562155\n"
     ]
    },
    {
     "name": "stderr",
     "output_type": "stream",
     "text": [
      "\r",
      " 16%|████████████▍                                                                  | 791/5000 [02:49<17:42,  3.96it/s]"
     ]
    },
    {
     "name": "stdout",
     "output_type": "stream",
     "text": [
      "LB Smoothed 3.675205532051154\n"
     ]
    },
    {
     "name": "stderr",
     "output_type": "stream",
     "text": [
      "\r",
      " 16%|████████████▌                                                                  | 792/5000 [02:49<17:52,  3.92it/s]"
     ]
    },
    {
     "name": "stdout",
     "output_type": "stream",
     "text": [
      "LB Smoothed 3.67520613484694\n"
     ]
    },
    {
     "name": "stderr",
     "output_type": "stream",
     "text": [
      " 16%|████████████▌                                                                  | 793/5000 [02:49<15:00,  4.67it/s]"
     ]
    },
    {
     "name": "stdout",
     "output_type": "stream",
     "text": [
      "LB Smoothed 3.6752067333507363\n",
      "LB Smoothed 3.6752073275703676\n",
      "Stop at 793\n"
     ]
    },
    {
     "name": "stderr",
     "output_type": "stream",
     "text": [
      "\n"
     ]
    }
   ],
   "source": [
    "for t in tqdm(range(stop)):\n",
    "    stepsize = eps\n",
    "\n",
    "    train_grad_log_f = grad_log_density_mixture(wass_train_summary_statistics, mixture_model[2], mixture_model[3], mixture_model[4])[1]\n",
    "    v = -wass_train_summary_statistics-train_grad_log_f\n",
    "    wass_train_summary_statistics = wass_train_summary_statistics + stepsize * v\n",
    "\n",
    "    val_grad_log_f = grad_log_density_mixture(wass_val_summary_statistics, mixture_model[2], mixture_model[3], mixture_model[4])[1]\n",
    "    val_log_f = grad_log_density_mixture(wass_val_summary_statistics, mixture_model[2], mixture_model[3], mixture_model[4])[0]\n",
    "    v = -wass_val_summary_statistics-val_grad_log_f\n",
    "    wass_val_summary_statistics = wass_val_summary_statistics + stepsize * v\n",
    "    h_vector = -1/2 * np.diag(wass_val_summary_statistics @ wass_val_summary_statistics.T) - val_log_f \n",
    "\n",
    "    test_grad_log_f = grad_log_density_mixture(wass_test_summary_statistics, mixture_model[2], mixture_model[3], mixture_model[4])[1]\n",
    "    v = -wass_test_summary_statistics-test_grad_log_f\n",
    "    wass_test_summary_statistics = wass_test_summary_statistics + stepsize * v\n",
    "\n",
    "    # Update new mixture model\n",
    "    mixture_model = mixture_model_fit(wass_train_summary_statistics, maxG)\n",
    "    mixture_obj = mixture_model[0]\n",
    "    bestG = mixture_model[1]\n",
    "\n",
    "    if min(mixture_obj.weights_) < 0.005:\n",
    "        mixture_obj = mixture_model_fit(wass_train_summary_statistics, bestG - 1)[0]\n",
    "\n",
    "    mixture_obj_seq.append(mixture_obj)\n",
    "    bestG_seq.append(bestG)\n",
    "\n",
    "    lb.append(np.mean(h_vector))\n",
    "\n",
    "    if t < t_w:\n",
    "        print('LB', np.mean(h_vector))\n",
    "\n",
    "    if t >= t_w:\n",
    "        LB_smoothed = np.mean(lb[t - t_w + 1 : t])\n",
    "        print('LB Smoothed', LB_smoothed)\n",
    "        LB_Smoothed.append(LB_smoothed)\n",
    "        if LB_smoothed >= np.max(LB_Smoothed):\n",
    "            patience = 0\n",
    "        else:\n",
    "            patience += 1\n",
    "            if patience > patience_max:\n",
    "                print(\"Stop at\", t)\n",
    "                break"
   ]
  },
  {
   "cell_type": "code",
   "execution_count": 14,
   "metadata": {},
   "outputs": [
    {
     "data": {
      "text/plain": [
       "<AxesSubplot: title={'center': 'Smoothed Lower Bound Estimate'}>"
      ]
     },
     "execution_count": 14,
     "metadata": {},
     "output_type": "execute_result"
    },
    {
     "data": {
      "text/plain": [
       "<Figure size 640x480 with 0 Axes>"
      ]
     },
     "metadata": {},
     "output_type": "display_data"
    },
    {
     "data": {
      "image/png": "[encoded data removed]",
      "text/plain": [
       "<Figure size 640x480 with 1 Axes>"
      ]
     },
     "metadata": {},
     "output_type": "display_data"
    }
   ],
   "source": [
    "wass_smoothed_lb_df = pd.DataFrame(np.array(LB_Smoothed))\n",
    "plt.figure()\n",
    "wass_smoothed_lb_df.plot(title = 'Smoothed Lower Bound Estimate', legend = False)"
   ]
  },
  {
   "cell_type": "code",
   "execution_count": 62,
   "metadata": {},
   "outputs": [
    {
     "data": {
      "image/png": "[encoded data removed]",
      "text/plain": [
       "<Figure size 700x500 with 16 Axes>"
      ]
     },
     "metadata": {},
     "output_type": "display_data"
    }
   ],
   "source": [
    "# Initialise the subplot function using number of rows and columns\n",
    "figure, axis = plt.subplots(4, 4, figsize=(7,5), constrained_layout=True)\n",
    "\n",
    "# For Sine Function\n",
    "for x in range(4):\n",
    "    for y in range(4):\n",
    "        if x != y:\n",
    "            axis[x, y].scatter(original_train_summary_statistics[:,x], original_train_summary_statistics[:,y], s = 0.1)\n",
    "            axis[x, y].tick_params(axis='both', which='major', labelsize=5)\n",
    "        else:\n",
    "            axis[x, y].hist(original_train_summary_statistics[:,x], bins = 20, edgecolor='black', linewidth=0.5)\n",
    "            axis[x, y].tick_params(axis='both', which='major', labelsize=5)\n",
    "\n",
    "# Combine all the operations and display\n",
    "figure.suptitle('Original Summary Statistics')\n",
    "plt.show()\n"
   ]
  },
  {
   "cell_type": "code",
   "execution_count": 63,
   "metadata": {},
   "outputs": [
    {
     "data": {
      "image/png": "[encoded data removed]",
      "text/plain": [
       "<Figure size 700x500 with 16 Axes>"
      ]
     },
     "metadata": {},
     "output_type": "display_data"
    }
   ],
   "source": [
    "# Initialise the subplot function using number of rows and columns\n",
    "figure, axis = plt.subplots(4, 4, figsize=(7,5), constrained_layout=True)\n",
    "\n",
    "# For Sine Function\n",
    "for x in range(4):\n",
    "    for y in range(4):\n",
    "        if x != y:\n",
    "            axis[x, y].scatter(wass_train_summary_statistics[:,x], wass_train_summary_statistics[:,y], s = 0.1)\n",
    "            axis[x, y].tick_params(axis='both', which='major', labelsize=5)\n",
    "        else:\n",
    "            axis[x, y].hist(wass_train_summary_statistics[:,x], bins = 20, edgecolor='black', linewidth=0.5)\n",
    "            axis[x, y].tick_params(axis='both', which='major', labelsize=5)\n",
    "\n",
    "# Combine all the operations and display\n",
    "figure.suptitle('Transformed Summary Statistics')\n",
    "plt.show()"
   ]
  },
  {
   "cell_type": "code",
   "execution_count": 20,
   "metadata": {},
   "outputs": [
    {
     "data": {
      "text/plain": [
       "<AxesSubplot: >"
      ]
     },
     "execution_count": 20,
     "metadata": {},
     "output_type": "execute_result"
    },
    {
     "data": {
      "image/png": "[encoded data removed]",
      "text/plain": [
       "<Figure size 640x480 with 1 Axes>"
      ]
     },
     "metadata": {},
     "output_type": "display_data"
    }
   ],
   "source": [
    "pd.Series(np.random.normal(np.mean(original_train_summary_statistics[:,0]),np.std(original_train_summary_statistics[:,0]), len(original_train_summary_statistics[:,0]))\n",
    ").hist(bins = 20)"
   ]
  },
  {
   "cell_type": "code",
   "execution_count": 36,
   "metadata": {},
   "outputs": [
    {
     "data": {
      "text/plain": [
       "(array([  9.,  24.,  52., 139., 187., 268., 308., 280., 222., 205., 129.,\n",
       "         81.,  45.,  21.,  12.,  11.,   2.,   3.,   1.,   1.]),\n",
       " array([2.76860403, 2.80135999, 2.83411595, 2.86687192, 2.89962788,\n",
       "        2.93238384, 2.96513981, 2.99789577, 3.03065174, 3.0634077 ,\n",
       "        3.09616366, 3.12891963, 3.16167559, 3.19443155, 3.22718752,\n",
       "        3.25994348, 3.29269944, 3.32545541, 3.35821137, 3.39096733,\n",
       "        3.4237233 ]),\n",
       " <BarContainer object of 20 artists>)"
      ]
     },
     "execution_count": 36,
     "metadata": {},
     "output_type": "execute_result"
    },
    {
     "data": {
      "image/png": "[encoded data removed]",
      "text/plain": [
       "<Figure size 640x480 with 1 Axes>"
      ]
     },
     "metadata": {},
     "output_type": "display_data"
    }
   ],
   "source": [
    "plt.hist(original_train_summary_statistics[:,0], bins = 20, edgecolor='black', linewidth=1.2)"
   ]
  },
  {
   "cell_type": "code",
   "execution_count": 18,
   "metadata": {},
   "outputs": [
    {
     "data": {
      "text/plain": [
       "[GaussianMixture(n_components=4, reg_covar=1e-05),\n",
       " GaussianMixture(n_components=4, reg_covar=1e-05),\n",
       " GaussianMixture(n_components=4, reg_covar=1e-05),\n",
       " GaussianMixture(n_components=4, reg_covar=1e-05),\n",
       " GaussianMixture(n_components=4, reg_covar=1e-05),\n",
       " GaussianMixture(n_components=2, reg_covar=1e-05),\n",
       " GaussianMixture(n_components=2, reg_covar=1e-05),\n",
       " GaussianMixture(n_components=2, reg_covar=1e-05),\n",
       " GaussianMixture(n_components=2, reg_covar=1e-05),\n",
       " GaussianMixture(n_components=2, reg_covar=1e-05),\n",
       " GaussianMixture(n_components=2, reg_covar=1e-05),\n",
       " GaussianMixture(n_components=2, reg_covar=1e-05),\n",
       " GaussianMixture(n_components=2, reg_covar=1e-05),\n",
       " GaussianMixture(n_components=2, reg_covar=1e-05),\n",
       " GaussianMixture(n_components=2, reg_covar=1e-05),\n",
       " GaussianMixture(n_components=2, reg_covar=1e-05),\n",
       " GaussianMixture(n_components=2, reg_covar=1e-05),\n",
       " GaussianMixture(n_components=2, reg_covar=1e-05),\n",
       " GaussianMixture(n_components=2, reg_covar=1e-05),\n",
       " GaussianMixture(reg_covar=1e-05),\n",
       " GaussianMixture(n_components=3, reg_covar=1e-05),\n",
       " GaussianMixture(reg_covar=1e-05),\n",
       " GaussianMixture(reg_covar=1e-05),\n",
       " GaussianMixture(reg_covar=1e-05),\n",
       " GaussianMixture(reg_covar=1e-05),\n",
       " GaussianMixture(reg_covar=1e-05),\n",
       " GaussianMixture(reg_covar=1e-05),\n",
       " GaussianMixture(reg_covar=1e-05),\n",
       " GaussianMixture(reg_covar=1e-05),\n",
       " GaussianMixture(reg_covar=1e-05),\n",
       " GaussianMixture(reg_covar=1e-05),\n",
       " GaussianMixture(reg_covar=1e-05),\n",
       " GaussianMixture(reg_covar=1e-05),\n",
       " GaussianMixture(reg_covar=1e-05),\n",
       " GaussianMixture(reg_covar=1e-05),\n",
       " GaussianMixture(reg_covar=1e-05),\n",
       " GaussianMixture(reg_covar=1e-05),\n",
       " GaussianMixture(reg_covar=1e-05),\n",
       " GaussianMixture(reg_covar=1e-05),\n",
       " GaussianMixture(n_components=3, reg_covar=1e-05),\n",
       " GaussianMixture(reg_covar=1e-05),\n",
       " GaussianMixture(reg_covar=1e-05),\n",
       " GaussianMixture(reg_covar=1e-05),\n",
       " GaussianMixture(reg_covar=1e-05),\n",
       " GaussianMixture(n_components=3, reg_covar=1e-05),\n",
       " GaussianMixture(reg_covar=1e-05),\n",
       " GaussianMixture(reg_covar=1e-05),\n",
       " GaussianMixture(n_components=2, reg_covar=1e-05),\n",
       " GaussianMixture(reg_covar=1e-05),\n",
       " GaussianMixture(n_components=2, reg_covar=1e-05),\n",
       " GaussianMixture(n_components=2, reg_covar=1e-05),\n",
       " GaussianMixture(n_components=2, reg_covar=1e-05),\n",
       " GaussianMixture(reg_covar=1e-05),\n",
       " GaussianMixture(reg_covar=1e-05),\n",
       " GaussianMixture(reg_covar=1e-05),\n",
       " GaussianMixture(reg_covar=1e-05),\n",
       " GaussianMixture(reg_covar=1e-05),\n",
       " GaussianMixture(reg_covar=1e-05),\n",
       " GaussianMixture(reg_covar=1e-05),\n",
       " GaussianMixture(reg_covar=1e-05),\n",
       " GaussianMixture(reg_covar=1e-05),\n",
       " GaussianMixture(reg_covar=1e-05),\n",
       " GaussianMixture(reg_covar=1e-05),\n",
       " GaussianMixture(n_components=2, reg_covar=1e-05),\n",
       " GaussianMixture(n_components=2, reg_covar=1e-05),\n",
       " GaussianMixture(reg_covar=1e-05),\n",
       " GaussianMixture(reg_covar=1e-05),\n",
       " GaussianMixture(reg_covar=1e-05),\n",
       " GaussianMixture(reg_covar=1e-05),\n",
       " GaussianMixture(reg_covar=1e-05),\n",
       " GaussianMixture(reg_covar=1e-05),\n",
       " GaussianMixture(reg_covar=1e-05),\n",
       " GaussianMixture(reg_covar=1e-05),\n",
       " GaussianMixture(reg_covar=1e-05),\n",
       " GaussianMixture(n_components=2, reg_covar=1e-05),\n",
       " GaussianMixture(reg_covar=1e-05),\n",
       " GaussianMixture(n_components=2, reg_covar=1e-05),\n",
       " GaussianMixture(reg_covar=1e-05),\n",
       " GaussianMixture(reg_covar=1e-05),\n",
       " GaussianMixture(n_components=2, reg_covar=1e-05),\n",
       " GaussianMixture(reg_covar=1e-05),\n",
       " GaussianMixture(reg_covar=1e-05),\n",
       " GaussianMixture(n_components=2, reg_covar=1e-05),\n",
       " GaussianMixture(reg_covar=1e-05),\n",
       " GaussianMixture(reg_covar=1e-05),\n",
       " GaussianMixture(reg_covar=1e-05),\n",
       " GaussianMixture(reg_covar=1e-05),\n",
       " GaussianMixture(n_components=2, reg_covar=1e-05),\n",
       " GaussianMixture(reg_covar=1e-05),\n",
       " GaussianMixture(reg_covar=1e-05),\n",
       " GaussianMixture(reg_covar=1e-05),\n",
       " GaussianMixture(n_components=2, reg_covar=1e-05),\n",
       " GaussianMixture(n_components=2, reg_covar=1e-05),\n",
       " GaussianMixture(reg_covar=1e-05),\n",
       " GaussianMixture(reg_covar=1e-05),\n",
       " GaussianMixture(reg_covar=1e-05),\n",
       " GaussianMixture(n_components=2, reg_covar=1e-05),\n",
       " GaussianMixture(reg_covar=1e-05),\n",
       " GaussianMixture(reg_covar=1e-05),\n",
       " GaussianMixture(n_components=2, reg_covar=1e-05),\n",
       " GaussianMixture(reg_covar=1e-05),\n",
       " GaussianMixture(n_components=2, reg_covar=1e-05),\n",
       " GaussianMixture(reg_covar=1e-05),\n",
       " GaussianMixture(reg_covar=1e-05),\n",
       " GaussianMixture(reg_covar=1e-05),\n",
       " GaussianMixture(reg_covar=1e-05),\n",
       " GaussianMixture(reg_covar=1e-05),\n",
       " GaussianMixture(reg_covar=1e-05),\n",
       " GaussianMixture(reg_covar=1e-05),\n",
       " GaussianMixture(reg_covar=1e-05),\n",
       " GaussianMixture(reg_covar=1e-05),\n",
       " GaussianMixture(reg_covar=1e-05),\n",
       " GaussianMixture(reg_covar=1e-05),\n",
       " GaussianMixture(reg_covar=1e-05),\n",
       " GaussianMixture(reg_covar=1e-05),\n",
       " GaussianMixture(reg_covar=1e-05),\n",
       " GaussianMixture(reg_covar=1e-05),\n",
       " GaussianMixture(reg_covar=1e-05),\n",
       " GaussianMixture(reg_covar=1e-05),\n",
       " GaussianMixture(reg_covar=1e-05),\n",
       " GaussianMixture(reg_covar=1e-05),\n",
       " GaussianMixture(reg_covar=1e-05),\n",
       " GaussianMixture(reg_covar=1e-05),\n",
       " GaussianMixture(reg_covar=1e-05),\n",
       " GaussianMixture(reg_covar=1e-05),\n",
       " GaussianMixture(reg_covar=1e-05),\n",
       " GaussianMixture(reg_covar=1e-05),\n",
       " GaussianMixture(reg_covar=1e-05),\n",
       " GaussianMixture(reg_covar=1e-05),\n",
       " GaussianMixture(reg_covar=1e-05),\n",
       " GaussianMixture(reg_covar=1e-05),\n",
       " GaussianMixture(reg_covar=1e-05),\n",
       " GaussianMixture(reg_covar=1e-05),\n",
       " GaussianMixture(reg_covar=1e-05),\n",
       " GaussianMixture(reg_covar=1e-05),\n",
       " GaussianMixture(reg_covar=1e-05),\n",
       " GaussianMixture(reg_covar=1e-05),\n",
       " GaussianMixture(reg_covar=1e-05),\n",
       " GaussianMixture(reg_covar=1e-05),\n",
       " GaussianMixture(reg_covar=1e-05),\n",
       " GaussianMixture(reg_covar=1e-05),\n",
       " GaussianMixture(reg_covar=1e-05),\n",
       " GaussianMixture(reg_covar=1e-05),\n",
       " GaussianMixture(reg_covar=1e-05),\n",
       " GaussianMixture(reg_covar=1e-05),\n",
       " GaussianMixture(reg_covar=1e-05),\n",
       " GaussianMixture(reg_covar=1e-05),\n",
       " GaussianMixture(reg_covar=1e-05),\n",
       " GaussianMixture(reg_covar=1e-05),\n",
       " GaussianMixture(reg_covar=1e-05),\n",
       " GaussianMixture(reg_covar=1e-05),\n",
       " GaussianMixture(reg_covar=1e-05),\n",
       " GaussianMixture(reg_covar=1e-05),\n",
       " GaussianMixture(reg_covar=1e-05),\n",
       " GaussianMixture(reg_covar=1e-05),\n",
       " GaussianMixture(reg_covar=1e-05),\n",
       " GaussianMixture(reg_covar=1e-05),\n",
       " GaussianMixture(reg_covar=1e-05),\n",
       " GaussianMixture(reg_covar=1e-05),\n",
       " GaussianMixture(reg_covar=1e-05),\n",
       " GaussianMixture(reg_covar=1e-05),\n",
       " GaussianMixture(reg_covar=1e-05),\n",
       " GaussianMixture(reg_covar=1e-05),\n",
       " GaussianMixture(reg_covar=1e-05),\n",
       " GaussianMixture(reg_covar=1e-05),\n",
       " GaussianMixture(reg_covar=1e-05)]"
      ]
     },
     "execution_count": 18,
     "metadata": {},
     "output_type": "execute_result"
    }
   ],
   "source": [
    "mixture_obj_seq = [i for i in mixture_obj_seq if i!=0]\n",
    "mixture_obj_seq = mixture_obj_seq[:-300]\n",
    "mixture_obj_seq"
   ]
  },
  {
   "cell_type": "code",
   "execution_count": 19,
   "metadata": {},
   "outputs": [],
   "source": [
    "def wasserstein_transform(mixture_obj_seq, n_summary_statistics):\n",
    "    for i in range(len(mixture_obj_seq)):\n",
    "        stepsize = eps\n",
    "        mixture_obj = mixture_obj_seq[i]\n",
    "        mean_mixture_obj = mixture_obj.means_\n",
    "        sigma_mixture_obj = mixture_obj.covariances_\n",
    "        weights_mixture_obj = mixture_obj.weights_\n",
    "        grad_log_f = grad_log_density_mixture(n_summary_statistics, mean_mixture_obj, sigma_mixture_obj, weights_mixture_obj)[1]\n",
    "        v = -n_summary_statistics-grad_log_f\n",
    "        n_summary_statistics = n_summary_statistics + stepsize * v\n",
    "    return n_summary_statistics"
   ]
  },
  {
   "cell_type": "code",
   "execution_count": 20,
   "metadata": {},
   "outputs": [],
   "source": [
    "def summary_statistics(theta, mixture_obj_seq, num_samples, num_datasets):\n",
    "    n_summary_statistics = np.zeros((num_datasets, num_latent))\n",
    "    for i in range(0, num_datasets):\n",
    "        y = simulate_gandk(theta, num_samples)\n",
    "        n_summary_statistics[i,:] = compute_summary_statistics(y)\n",
    "    transformed_summary_statistics = wasserstein_transform(mixture_obj_seq, n_summary_statistics)\n",
    "\n",
    "    sample_mean = np.mean(transformed_summary_statistics, axis = 0)\n",
    "    cov = np.cov(np.array(transformed_summary_statistics).T)\n",
    "    sample_variance = cov + (np.eye(cov.shape[0]) * 5 * 1e-7)\n",
    "    return sample_mean, sample_variance"
   ]
  },
  {
   "cell_type": "code",
   "execution_count": 21,
   "metadata": {},
   "outputs": [],
   "source": [
    "def mean_adjustment_summary_statistics(adjusted_theta, mixture_obj_seq, num_samples, num_datasets):\n",
    "    theta = adjusted_theta[:num_coeffs]\n",
    "    Gamma = adjusted_theta[-num_latent:]\n",
    "    sample_mean, sample_variance = summary_statistics(theta, mixture_obj_seq, num_samples, num_datasets)\n",
    "    adjusted_sample_mean = sample_mean + np.diag(scipy.linalg.sqrtm(sample_variance)) * Gamma\n",
    "    return adjusted_sample_mean, sample_variance"
   ]
  },
  {
   "cell_type": "code",
   "execution_count": 22,
   "metadata": {},
   "outputs": [],
   "source": [
    "def prior(theta): \n",
    "    log_prior = np.sum(np.log(np.exp(theta) / (1 + np.exp(theta))**2))\n",
    "    return log_prior\n",
    "\n",
    "def unbiased_log_likelihood(theta):\n",
    "    ss = summary_statistics(theta, num_samples, num_datasets)\n",
    "    sample_mean = ss[0]\n",
    "    sample_variance = ss[1]\n",
    "    # diff_mean_s = actual_summary_statistics - sample_mean\n",
    "    # part1 = diff_mean_s.T @ np.linalg.inv(sample_variance) @ diff_mean_s\n",
    "    # # u_est_log_likelihood = -1/2 * np.log(np.linalg.det(sample_variance)) - (self.num_datasets - self.num_coeffs - 2) / (2 * (self.num_datasets-1)) * part1\n",
    "    # u_est_log_likelihood = -1/2 * np.log(np.linalg.det(sample_variance)) - part1\n",
    "\n",
    "    u_est_log_likelihood = multivariate_normal.logpdf(actual_summary_statistics, mean = sample_mean, cov= sample_variance)\n",
    "\n",
    "    return u_est_log_likelihood\n",
    "\n",
    "def prior_gamma(gamma, sigma_latent, num_latent): \n",
    "    log_prior = multivariate_normal.logpdf(gamma, cov= sigma_latent * np.identity(num_latent))\n",
    "    return log_prior\n",
    "\n",
    "def mean_adjustment_unbiased_log_likelihood(gs_adjusted_theta, num_samples, num_datasets, actual_summary_statistics, mixture_obj_seq):\n",
    "    mean_adj_ss = mean_adjustment_summary_statistics(gs_adjusted_theta, mixture_obj_seq, num_samples, num_datasets)\n",
    "    adjusted_sample_mean = mean_adj_ss[0]\n",
    "    sample_variance = mean_adj_ss[1]\n",
    "\n",
    "    # mean_u_est_log_likelihood = multivariate_normal.logpdf(actual_summary_statistics, mean = adjusted_sample_mean, cov= sample_variance)\n",
    "\n",
    "    diff_mean_s = actual_summary_statistics - adjusted_sample_mean\n",
    "    part1 = diff_mean_s.T @ my_inv(sample_variance) @ diff_mean_s\n",
    "    mean_u_est_log_likelihood = -1/2 * np.linalg.slogdet(sample_variance)[1] - 1/2 * part1\n",
    "    return mean_u_est_log_likelihood\n",
    "\n",
    "def nuissance_mean_adjustment_unbiased_log_likelihood(Gamma, mean_nuissance, variance_nuissance):\n",
    "    part1 = (Gamma - mean_nuissance).T @ my_inv(variance_nuissance) @ (Gamma - mean_nuissance)\n",
    "    nuissance_mean_u_est_log_likelihood = -1/2 * np.linalg.slogdet(variance_nuissance)[1] - part1\n",
    "    # nuissance_mean_u_est_log_likelihood = multivariate_normal.logpdf(Gamma, mean = mean_nuissance, cov= variance_nuissance)\n",
    "    return nuissance_mean_u_est_log_likelihood"
   ]
  },
  {
   "cell_type": "code",
   "execution_count": 21,
   "metadata": {},
   "outputs": [
    {
     "data": {
      "text/plain": [
       "array([[42.5611843 , -8.28970004,  5.43955494, -1.25900294],\n",
       "       [-8.28970004,  7.88174052, -1.33079381,  2.31714084],\n",
       "       [ 5.43955494, -1.33079381,  4.66869461, -0.42495144],\n",
       "       [-1.25900294,  2.31714084, -0.42495144,  3.30653549]])"
      ]
     },
     "execution_count": 21,
     "metadata": {},
     "output_type": "execute_result"
    }
   ],
   "source": [
    "Sigma_0 = np.array([[0.00354862371705708,0.0100432715000140,-0.00892228604398757,-0.0115360428708387],\n",
    "                   [0.0100432715000140,0.0583090115606533,-0.000835188303313756,-0.0757252081004190],\n",
    "                   [-0.00892228604398757,-0.000835188303313756,0.0653624479615574,0.0107535785728523],\n",
    "                   [-0.0115360428708387,-0.0757252081004190,0.0107535785728523,0.167430224841150]])\n",
    "Sigma_0_inv = scipy.linalg.inv(Sigma_0)\n",
    "l_0 = scipy.linalg.sqrtm(Sigma_0_inv)\n",
    "l_0"
   ]
  },
  {
   "cell_type": "code",
   "execution_count": 31,
   "metadata": {},
   "outputs": [],
   "source": [
    "class GVB:\n",
    "    def __init__(self, samples, actual_summary_statistics, learning_rate, threshold, l_threshold, adaptive_lr_1, adaptive_lr_2, t_w, Patience):\n",
    "        self.samples = samples\n",
    "        self.actual_summary_statistics = actual_summary_statistics\n",
    "        self.num_datasets = 200 # number of datasets\n",
    "        self.num_coeffs = 4 # number of coeffs\n",
    "        self.lambda_dim = self.num_coeffs + int((self.num_coeffs * (self.num_coeffs + 1)) / 2)\n",
    "        self.learning_rate = learning_rate\n",
    "        self.threshold = threshold\n",
    "        self.l_threshold = l_threshold\n",
    "        self.adaptive_lr_1 = adaptive_lr_1\n",
    "        self.adaptive_lr_2 = adaptive_lr_2\n",
    "        self.t_w = t_w\n",
    "        self.Patience = Patience\n",
    "\n",
    "    def fun_log_q(self, theta, mu, l):\n",
    "        log_q = multivariate_normal.logpdf(theta, mean = mu, cov= np.linalg.inv(l @ l.T))\n",
    "        return log_q\n",
    "\n",
    "    def gradient_log_q(self, theta, mu, l): #indep theta\n",
    "        gradient_log_q_mu = np.matmul(np.matmul(l, l.T), (theta - mu))\n",
    "        diag_inv_l = np.zeros((num_coeffs, num_coeffs))\n",
    "        np.fill_diagonal(diag_inv_l, np.diag(np.linalg.inv(l)))\n",
    "        gradient_log_q_l = (diag_inv_l - np.reshape(theta - mu, (num_coeffs,1)) @ np.reshape(theta - mu, (1,num_coeffs)) @ l).T[np.triu_indices(num_coeffs)] #use * because matmul gives scalar \n",
    "        gradient_log_q = np.array([gradient_log_q_mu, gradient_log_q_l], dtype=object)\n",
    "        return gradient_log_q\n",
    "\n",
    "    def control_variates(self, Flat_grad_log_q, Flat_grad_lb):\n",
    "        c = []\n",
    "        stacked_gradient_lb = np.stack(Flat_grad_lb)\n",
    "        stacked_gradient_log_q = np.stack(Flat_grad_log_q)\n",
    "        for i in range(self.lambda_dim):\n",
    "            sample_cov = np.cov((stacked_gradient_lb[:, i], stacked_gradient_log_q[:, i]))\n",
    "            c_i = sample_cov[0, 1] / sample_cov[1, 1]\n",
    "            c.append(c_i)\n",
    "        c_mu = np.array(c[0:self.num_coeffs])\n",
    "        c_vech_l = np.array(c[self.num_coeffs:])\n",
    "        return np.array([c_mu, c_vech_l], dtype = object)\n",
    "\n",
    "    def vb_posterior(self, stop):\n",
    "        # Initialize mu_0, L_0\n",
    "        # mu_0 = np.array([np.log((self.actual_summary_statistics[0]-1.1)/(2-self.actual_summary_statistics[0])), np.log((1+self.actual_summary_statistics[1])/(1-self.actual_summary_statistics[1])), np.log(self.actual_summary_statistics[2]), self.actual_summary_statistics[3]])\n",
    "        #mu_0 = np.array([1.5, 0.5, 3, 0])\n",
    "        mu_0 = np.array([true_theta[0], np.log(true_theta[1]), true_theta[2], np.log(true_theta[3])])\n",
    "        #mu_0 = np.array([self.actual_summary_statistics[0], self.actual_summary_statistics[1], self.actual_summary_statistics[2], self.actual_summary_statistics[3]])\n",
    "        # mu_0 = np.array([0] * self.num_coeffs)\n",
    "        # l_0 = np.tril(np.identity(self.num_coeffs) * 10)\n",
    "        l_0 = np.array([[42.5611843 , -8.28970004,  5.43955494, -1.25900294],\n",
    "                        [-8.28970004,  7.88174052, -1.33079381,  2.31714084],\n",
    "                        [ 5.43955494, -1.33079381,  4.66869461, -0.42495144],\n",
    "                        [-1.25900294,  2.31714084, -0.42495144,  3.30653549]])\n",
    "\n",
    "        Sigma_0_inv = l_0 @ l_0.T\n",
    "        Sigma_0 = np.linalg.inv(Sigma_0_inv)\n",
    "        l_0_inv = np.linalg.inv(l_0)\n",
    "        ### Change ways to get vech(l0)\n",
    "        vech_l0 = l_0.T[np.triu_indices(self.num_coeffs)]\n",
    "\n",
    "        lambda_0 = np.array([mu_0, vech_l0], dtype = object)\n",
    "        lambda_q = lambda_0\n",
    "        # Initilize best lambda\n",
    "        lambda_best = lambda_0\n",
    "        # List of Lambda\n",
    "        Lambda = [lambda_0]\n",
    "        # List of calculations of LB\n",
    "        LB_all = []\n",
    "        LB_Smoothed = []\n",
    "        patience = 0\n",
    "        # List of flattened gradients\n",
    "        Flattened_gradient_lb = []\n",
    "        Flattened_gradient_log_q = []\n",
    "        for t in tqdm(range(stop)):\n",
    "            if t == 0:        \n",
    "                # Draw samples of theta from  variational q\n",
    "                # List of gradients\n",
    "                Gradient_lb_init = []\n",
    "                lb_0 = []\n",
    "                rng = np.random.default_rng()\n",
    "                theta_0_samples = rng.multivariate_normal(mean = mu_0, cov = Sigma_0, size = self.samples)\n",
    "                for s in range(self.samples):\n",
    "                    # True params have been reparam into epsilon\n",
    "                    theta_tilde_0 = theta_0_samples[s]\n",
    "                    alpha_0 = (4 * np.exp(theta_tilde_0[0]) + 1) / (1 + np.exp(theta_tilde_0[0]))\n",
    "                    beta_0 = (2 * np.exp(theta_tilde_0[1]) + 0) / (1 + np.exp(theta_tilde_0[1]))\n",
    "                    gamma_0 = (2.25 * np.exp(theta_tilde_0[2]) + 0) / (1 + np.exp(theta_tilde_0[2]))\n",
    "                    delta_0 = (1 * np.exp(theta_tilde_0[3]) + 0) / (1 + np.exp(theta_tilde_0[3]))\n",
    "\n",
    "                    theta_0 = np.array([alpha_0, beta_0, gamma_0, delta_0])\n",
    "\n",
    "                    ss_0 = summary_statistics(theta_0, mixture_obj_seq, n_samples, num_datasets)\n",
    "                    sample_mean_0 = ss_0[0]\n",
    "                    sample_variance_0 = ss_0[1]\n",
    "\n",
    "                    # Find mean and variance for p(gamma | theta, obs)\n",
    "                \n",
    "                    diag_var = np.zeros((num_latent, num_latent))\n",
    "                    np.fill_diagonal(diag_var, np.diag(sample_variance_0))\n",
    "                    mean_nuissance_p1 = my_inv(np.identity(num_latent) / 10 + diag_var.T @ my_inv(sample_variance_0) @ diag_var)\n",
    "                    diff_mean = self.actual_summary_statistics - sample_mean_0\n",
    "                    mean_nuissance_p2 = diag_var @ my_inv(sample_variance_0) @ diff_mean\n",
    "                    mean_nuissance_0 = mean_nuissance_p1 @ mean_nuissance_p2\n",
    "\n",
    "                    variance_nuissance_0 = mean_nuissance_p1  + (np.eye(mean_nuissance_p1.shape[0]) * 5 * 1e-7)\n",
    "\n",
    "                    # GENERATE GAMMA\n",
    "                    rng = np.random.default_rng()\n",
    "                    Gamma = rng.multivariate_normal(mean = mean_nuissance_0, cov = variance_nuissance_0)\n",
    "                    # Gamma = Gamma[0]\n",
    "                    adjusted_theta_0 = np.concatenate((theta_0, Gamma))\n",
    "\n",
    "                    # Find gradient of LB\n",
    "                    llh = mean_adjustment_unbiased_log_likelihood(adjusted_theta_0, n_samples, num_datasets, self.actual_summary_statistics, mixture_obj_seq)\n",
    "                    llh_gamma = nuissance_mean_adjustment_unbiased_log_likelihood(Gamma, mean_nuissance_0, variance_nuissance_0)\n",
    "\n",
    "                    # Find gradient of LB\n",
    "                    h_lambda_init = prior(theta_tilde_0) + prior_gamma(Gamma, 10, num_latent) + llh - self.fun_log_q(theta_tilde_0, mu_0, l_0) - llh_gamma\n",
    "\n",
    "                    gradient_lb_init = self.gradient_log_q(theta_tilde_0, mu_0, l_0) * (h_lambda_init)\n",
    "                    Gradient_lb_init.append(gradient_lb_init)\n",
    "                    # Calculate control variates\n",
    "                    flattened_gradient_log_q = np.concatenate((self.gradient_log_q(theta_tilde_0, mu_0, l_0)[0], self.gradient_log_q(theta_tilde_0, mu_0, l_0)[1]), axis = None)\n",
    "                    Flattened_gradient_log_q.append(flattened_gradient_log_q)\n",
    "                    flattened_gradient_lb = np.concatenate((gradient_lb_init[0], gradient_lb_init[1]), axis = None)\n",
    "                    Flattened_gradient_lb.append(flattened_gradient_lb)\n",
    "                    # Calculate lower bound\n",
    "                    lb_0.append(h_lambda_init)\n",
    "                # Calculate control variates using all samples\n",
    "                c = self.control_variates(Flattened_gradient_log_q, Flattened_gradient_lb)\n",
    "                # Update lambda_q\n",
    "                self.g_init = np.mean(Gradient_lb_init, axis = 0)\n",
    "                # Gradient clipping\n",
    "                if np.linalg.norm(np.concatenate(self.g_init, axis = None)) > self.l_threshold:\n",
    "                    self.g_init = self.l_threshold * self.g_init / np.linalg.norm(np.concatenate(self.g_init, axis = None))\n",
    "                self.v_init = self.g_init ** 2\n",
    "                # Calculate lower bound\n",
    "                LB_all.append(np.mean(lb_0))\n",
    "                print('LB', (np.mean(lb_0)))\n",
    "                lambda_q = lambda_0\n",
    "\n",
    "            if t > 0:\n",
    "                # From lambda_q find mu_q and L_q\n",
    "                mu_q = lambda_q[0]\n",
    "\n",
    "                ### Change ways to convert from vech_l0 to l0\n",
    "                vech_lq = list(lambda_q[1])\n",
    "                l_q = np.zeros((self.num_coeffs, self.num_coeffs))\n",
    "                # l_q[:, 0] = lambda_q[1][0:self.num_coeffs]\n",
    "                # l_q[1:self.num_coeffs, 1] = lambda_q[1][4:7]\n",
    "                # l_q[2:self.num_coeffs, 2] = lambda_q[1][7:9]\n",
    "                # l_q[3:self.num_coeffs, 3] = lambda_q[1][9:10]\n",
    "                for i in range(self.num_coeffs):\n",
    "                    l_q[i:self.num_coeffs,i] = vech_lq[:self.num_coeffs - i]\n",
    "                    del vech_lq[:self.num_coeffs-i]\n",
    "\n",
    "                Sigma_q_inv = l_q @ l_q.T\n",
    "                Sigma_q =  np.linalg.inv(Sigma_q_inv)\n",
    "                l_q_inv =  np.linalg.inv(l_q)\n",
    "                # List of gradients\n",
    "                Gradient_lb = []\n",
    "                lb_t = []\n",
    "                rng = np.random.default_rng()\n",
    "                theta_q_samples = rng.multivariate_normal(mean = mu_q, cov = Sigma_q, size = self.samples)\n",
    "                for s in range(self.samples):\n",
    "                    theta_tilde_q = theta_q_samples[s]\n",
    "                    # Calculate theta from mu, l (lambda)\n",
    "                    alpha_q = (4 * np.exp(theta_tilde_q[0]) + 1) / (1 + np.exp(theta_tilde_q[0]))\n",
    "                    beta_q = (2 * np.exp(theta_tilde_q[1]) + 0) / (1 + np.exp(theta_tilde_q[1]))\n",
    "                    gamma_q = (2.25 * np.exp(theta_tilde_q[2]) + 0) / (1 + np.exp(theta_tilde_q[2]))\n",
    "                    delta_q = (1 * np.exp(theta_tilde_q[3]) + 0) / (1 + np.exp(theta_tilde_q[3]))\n",
    "\n",
    "                    theta_q = np.array([alpha_q, beta_q, gamma_q, delta_q])\n",
    "\n",
    "                    ss_q = summary_statistics(theta_q, mixture_obj_seq, n_samples, num_datasets)\n",
    "                    sample_mean_q = ss_q[0]\n",
    "                    sample_variance_q = ss_q[1]\n",
    "\n",
    "                    # Find mean and variance for p(gamma | theta, obs)\n",
    "                \n",
    "                    diag_var = np.zeros((num_latent, num_latent))\n",
    "                    np.fill_diagonal(diag_var, np.diag(sample_variance_q))\n",
    "                    mean_nuissance_p1 = my_inv(np.identity(num_latent) / 10 + diag_var.T @ my_inv(sample_variance_q) @ diag_var)\n",
    "                    diff_mean = self.actual_summary_statistics - sample_mean_q\n",
    "                    mean_nuissance_p2 = diag_var @ my_inv(sample_variance_q) @ diff_mean\n",
    "                    mean_nuissance_q = mean_nuissance_p1 @ mean_nuissance_p2\n",
    "\n",
    "                    variance_nuissance_q = mean_nuissance_p1  + (np.eye(mean_nuissance_p1.shape[0]) * 5 * 1e-7)\n",
    "\n",
    "      \n",
    "                    # GENERATE GAMMA\n",
    "                    rng = np.random.default_rng()\n",
    "                    Gamma = rng.multivariate_normal(mean = mean_nuissance_q, cov = variance_nuissance_q)\n",
    "                    # Gamma = Gamma[0]\n",
    "                    adjusted_theta_q = np.concatenate((theta_q, Gamma))\n",
    "\n",
    "                    # Find gradient of LB\n",
    "                    llh = mean_adjustment_unbiased_log_likelihood(adjusted_theta_q, n_samples, num_datasets, self.actual_summary_statistics, mixture_obj_seq)\n",
    "                    llh_gamma = nuissance_mean_adjustment_unbiased_log_likelihood(Gamma, mean_nuissance_q, variance_nuissance_q)\n",
    "\n",
    "                    # Find gradient of LB\n",
    "                    h_lambda = prior(theta_tilde_q) + prior_gamma(Gamma, 10, num_latent) + llh - self.fun_log_q(theta_tilde_q, mu_q, l_q) - llh_gamma\n",
    "                    # Find gradient of LB\n",
    "                    gradient_lb = self.gradient_log_q(theta_tilde_q, mu_q, l_q) * (h_lambda - c)\n",
    "\n",
    "                    Gradient_lb.append(gradient_lb)\n",
    "                    # Calculate control variates\n",
    "                    Flattened_gradient_log_q[s] = np.concatenate((self.gradient_log_q(theta_tilde_q, mu_q, l_q)[0], self.gradient_log_q(theta_tilde_q, mu_q, l_q)[1]), axis = None)\n",
    "                    Flattened_gradient_lb[s] = np.concatenate((gradient_lb[0], gradient_lb[1]), axis = None)\n",
    "                    # Calc lower bound estimate\n",
    "                    lb_t.append(h_lambda)\n",
    "                # Update control variates\n",
    "                c = self.control_variates(Flattened_gradient_log_q, Flattened_gradient_lb)\n",
    "                # Calc gradient of h\n",
    "                g_t = np.mean(Gradient_lb, axis = 0)\n",
    "                # Gradient clipping\n",
    "                if np.linalg.norm(np.concatenate(g_t, axis = None)) > self.l_threshold:\n",
    "                    g_t = self.l_threshold * g_t / np.linalg.norm(np.concatenate(g_t, axis = None))\n",
    "                v_t = g_t ** 2\n",
    "\n",
    "                #---- Update lambda\n",
    "                self.g_init = self.adaptive_lr_1 * self.g_init + (1 - self.adaptive_lr_1) * g_t\n",
    "                self.v_init = self.adaptive_lr_2 * self.v_init + (1 - self.adaptive_lr_2) * v_t\n",
    "                if t >= self.threshold:\n",
    "                    update_t = self.learning_rate * self.threshold / t\n",
    "                else:\n",
    "                    update_t = self.learning_rate\n",
    "\n",
    "                lambda_q = lambda_q + update_t * self.g_init / (self.v_init ** 0.5)\n",
    "                Lambda.append(lambda_q)\n",
    "                # Calculate lower bound\n",
    "                LB_all.append(np.mean(lb_t))\n",
    "\n",
    "                if t < self.t_w:\n",
    "                    print('LB', np.mean(lb_t))\n",
    "\n",
    "                if t >= self.t_w:\n",
    "                    LB_smoothed = np.mean(LB_all[t - self.t_w + 1 : t])\n",
    "                    print('LB Smoothed', LB_smoothed)\n",
    "                    LB_Smoothed.append(LB_smoothed)\n",
    "                    if LB_smoothed >= max(LB_Smoothed):\n",
    "                        patience = 0\n",
    "                        lambda_best = lambda_q\n",
    "                    else:\n",
    "                        patience += 1\n",
    "                        if patience > self.Patience:\n",
    "                            print(\"Stop at\", t)\n",
    "                            break\n",
    "\n",
    "        return LB_all, LB_Smoothed, lambda_best"
   ]
  },
  {
   "cell_type": "code",
   "execution_count": 24,
   "metadata": {},
   "outputs": [
    {
     "data": {
      "text/plain": [
       "array([[2.96978227, 1.45609898, 0.4837584 , 2.00723605]])"
      ]
     },
     "execution_count": 24,
     "metadata": {},
     "output_type": "execute_result"
    }
   ],
   "source": [
    "actual_summary_statistics = np.reshape(actual_summary_statistics, (1, len(actual_summary_statistics)))\n",
    "actual_summary_statistics"
   ]
  },
  {
   "cell_type": "code",
   "execution_count": 25,
   "metadata": {},
   "outputs": [
    {
     "data": {
      "text/plain": [
       "array([0.49772725, 0.26557537, 0.34368967, 0.81164569])"
      ]
     },
     "execution_count": 25,
     "metadata": {},
     "output_type": "execute_result"
    }
   ],
   "source": [
    "# Set hyperparameters\n",
    "stop = 5000\n",
    "transformed_summary_statistics = wasserstein_transform(mixture_obj_seq, actual_summary_statistics)\n",
    "transformed_summary_statistics[0]"
   ]
  },
  {
   "cell_type": "code",
   "execution_count": 32,
   "metadata": {},
   "outputs": [
    {
     "name": "stderr",
     "output_type": "stream",
     "text": [
      "  0%|                                                                            | 1/5000 [08:06<674:59:50, 486.10s/it]"
     ]
    },
    {
     "name": "stdout",
     "output_type": "stream",
     "text": [
      "LB -2677.3050294839154\n"
     ]
    },
    {
     "name": "stderr",
     "output_type": "stream",
     "text": [
      "\r",
      "  0%|                                                                            | 2/5000 [17:17<728:10:09, 524.49s/it]"
     ]
    },
    {
     "name": "stdout",
     "output_type": "stream",
     "text": [
      "LB -2517.6392559650208\n"
     ]
    },
    {
     "name": "stderr",
     "output_type": "stream",
     "text": [
      "\r",
      "  0%|                                                                            | 3/5000 [26:22<740:47:08, 533.69s/it]"
     ]
    },
    {
     "name": "stdout",
     "output_type": "stream",
     "text": [
      "LB -2515.275141029983\n"
     ]
    },
    {
     "name": "stderr",
     "output_type": "stream",
     "text": [
      "\r",
      "  0%|                                                                            | 4/5000 [33:20<677:40:15, 488.31s/it]"
     ]
    },
    {
     "name": "stdout",
     "output_type": "stream",
     "text": [
      "LB -2147.4368236087535\n"
     ]
    },
    {
     "name": "stderr",
     "output_type": "stream",
     "text": [
      "\r",
      "  0%|                                                                            | 5/5000 [39:23<614:51:02, 443.14s/it]"
     ]
    },
    {
     "name": "stdout",
     "output_type": "stream",
     "text": [
      "LB -2268.489370302831\n"
     ]
    },
    {
     "name": "stderr",
     "output_type": "stream",
     "text": [
      "\r",
      "  0%|                                                                            | 6/5000 [44:10<540:50:46, 389.88s/it]"
     ]
    },
    {
     "name": "stdout",
     "output_type": "stream",
     "text": [
      "LB -2030.4340289614058\n"
     ]
    },
    {
     "name": "stderr",
     "output_type": "stream",
     "text": [
      "\r",
      "  0%|                                                                            | 7/5000 [48:41<486:56:36, 351.09s/it]"
     ]
    },
    {
     "name": "stdout",
     "output_type": "stream",
     "text": [
      "LB -2123.950400944608\n"
     ]
    },
    {
     "name": "stderr",
     "output_type": "stream",
     "text": [
      "\r",
      "  0%|                                                                            | 8/5000 [53:59<472:04:41, 340.44s/it]"
     ]
    },
    {
     "name": "stdout",
     "output_type": "stream",
     "text": [
      "LB -1842.8853749814384\n"
     ]
    },
    {
     "name": "stderr",
     "output_type": "stream",
     "text": [
      "\r",
      "  0%|▏                                                                           | 9/5000 [59:34<469:45:29, 338.84s/it]"
     ]
    },
    {
     "name": "stdout",
     "output_type": "stream",
     "text": [
      "LB -1931.1705186008785\n"
     ]
    },
    {
     "name": "stderr",
     "output_type": "stream",
     "text": [
      "\r",
      "  0%|▏                                                                        | 10/5000 [1:04:42<456:14:38, 329.15s/it]"
     ]
    },
    {
     "name": "stdout",
     "output_type": "stream",
     "text": [
      "LB -2035.803659704356\n"
     ]
    },
    {
     "name": "stderr",
     "output_type": "stream",
     "text": [
      "\r",
      "  0%|▏                                                                        | 11/5000 [1:10:27<463:00:49, 334.10s/it]"
     ]
    },
    {
     "name": "stdout",
     "output_type": "stream",
     "text": [
      "LB -1993.8428456524334\n"
     ]
    },
    {
     "name": "stderr",
     "output_type": "stream",
     "text": [
      "\r",
      "  0%|▏                                                                        | 12/5000 [1:16:25<472:58:51, 341.37s/it]"
     ]
    },
    {
     "name": "stdout",
     "output_type": "stream",
     "text": [
      "LB -1852.1083960626293\n"
     ]
    },
    {
     "name": "stderr",
     "output_type": "stream",
     "text": [
      "\r",
      "  0%|▏                                                                        | 13/5000 [1:21:17<452:23:56, 326.58s/it]"
     ]
    },
    {
     "name": "stdout",
     "output_type": "stream",
     "text": [
      "LB -1724.631719480319\n"
     ]
    },
    {
     "name": "stderr",
     "output_type": "stream",
     "text": [
      "\r",
      "  0%|▏                                                                        | 14/5000 [1:26:22<443:08:33, 319.96s/it]"
     ]
    },
    {
     "name": "stdout",
     "output_type": "stream",
     "text": [
      "LB -1765.488859689489\n"
     ]
    },
    {
     "name": "stderr",
     "output_type": "stream",
     "text": [
      "  0%|▏                                                                        | 14/5000 [1:28:57<528:00:56, 381.24s/it]\n"
     ]
    },
    {
     "ename": "KeyboardInterrupt",
     "evalue": "",
     "output_type": "error",
     "traceback": [
      "\u001b[1;31m---------------------------------------------------------------------------\u001b[0m",
      "\u001b[1;31mKeyboardInterrupt\u001b[0m                         Traceback (most recent call last)",
      "\u001b[1;32m~\\AppData\\Local\\Temp\\ipykernel_35404\\3373889753.py\u001b[0m in \u001b[0;36m<module>\u001b[1;34m\u001b[0m\n\u001b[0;32m      1\u001b[0m \u001b[1;31m# Set hyperparameters\u001b[0m\u001b[1;33m\u001b[0m\u001b[1;33m\u001b[0m\u001b[0m\n\u001b[0;32m      2\u001b[0m \u001b[0mvb\u001b[0m \u001b[1;33m=\u001b[0m \u001b[0mGVB\u001b[0m\u001b[1;33m(\u001b[0m\u001b[1;36m200\u001b[0m\u001b[1;33m,\u001b[0m \u001b[0mtransformed_summary_statistics\u001b[0m\u001b[1;33m[\u001b[0m\u001b[1;36m0\u001b[0m\u001b[1;33m]\u001b[0m\u001b[1;33m,\u001b[0m \u001b[1;36m0.005\u001b[0m\u001b[1;33m,\u001b[0m \u001b[1;36m2500\u001b[0m\u001b[1;33m,\u001b[0m \u001b[1;36m100\u001b[0m\u001b[1;33m,\u001b[0m \u001b[1;36m0.9\u001b[0m\u001b[1;33m,\u001b[0m \u001b[1;36m0.9\u001b[0m\u001b[1;33m,\u001b[0m \u001b[1;36m50\u001b[0m\u001b[1;33m,\u001b[0m \u001b[1;36m50\u001b[0m\u001b[1;33m)\u001b[0m\u001b[1;33m\u001b[0m\u001b[1;33m\u001b[0m\u001b[0m\n\u001b[1;32m----> 3\u001b[1;33m \u001b[0mLB_estimate\u001b[0m\u001b[1;33m,\u001b[0m \u001b[0msmoothed_LB_estimate\u001b[0m\u001b[1;33m,\u001b[0m \u001b[0mbest_lambda\u001b[0m \u001b[1;33m=\u001b[0m \u001b[0mvb\u001b[0m\u001b[1;33m.\u001b[0m\u001b[0mvb_posterior\u001b[0m\u001b[1;33m(\u001b[0m\u001b[0mstop\u001b[0m\u001b[1;33m)\u001b[0m\u001b[1;33m\u001b[0m\u001b[1;33m\u001b[0m\u001b[0m\n\u001b[0m",
      "\u001b[1;32m~\\AppData\\Local\\Temp\\ipykernel_35404\\3106017743.py\u001b[0m in \u001b[0;36mvb_posterior\u001b[1;34m(self, stop)\u001b[0m\n\u001b[0;32m    194\u001b[0m \u001b[1;33m\u001b[0m\u001b[0m\n\u001b[0;32m    195\u001b[0m                     \u001b[1;31m# Find gradient of LB\u001b[0m\u001b[1;33m\u001b[0m\u001b[1;33m\u001b[0m\u001b[0m\n\u001b[1;32m--> 196\u001b[1;33m                     \u001b[0mllh\u001b[0m \u001b[1;33m=\u001b[0m \u001b[0mmean_adjustment_unbiased_log_likelihood\u001b[0m\u001b[1;33m(\u001b[0m\u001b[0madjusted_theta_q\u001b[0m\u001b[1;33m,\u001b[0m \u001b[0mn_samples\u001b[0m\u001b[1;33m,\u001b[0m \u001b[0mnum_datasets\u001b[0m\u001b[1;33m,\u001b[0m \u001b[0mself\u001b[0m\u001b[1;33m.\u001b[0m\u001b[0mactual_summary_statistics\u001b[0m\u001b[1;33m,\u001b[0m \u001b[0mmixture_obj_seq\u001b[0m\u001b[1;33m)\u001b[0m\u001b[1;33m\u001b[0m\u001b[1;33m\u001b[0m\u001b[0m\n\u001b[0m\u001b[0;32m    197\u001b[0m                     \u001b[0mllh_gamma\u001b[0m \u001b[1;33m=\u001b[0m \u001b[0mnuissance_mean_adjustment_unbiased_log_likelihood\u001b[0m\u001b[1;33m(\u001b[0m\u001b[0mGamma\u001b[0m\u001b[1;33m,\u001b[0m \u001b[0mmean_nuissance_q\u001b[0m\u001b[1;33m,\u001b[0m \u001b[0mvariance_nuissance_q\u001b[0m\u001b[1;33m)\u001b[0m\u001b[1;33m\u001b[0m\u001b[1;33m\u001b[0m\u001b[0m\n\u001b[0;32m    198\u001b[0m \u001b[1;33m\u001b[0m\u001b[0m\n",
      "\u001b[1;32m~\\AppData\\Local\\Temp\\ipykernel_35404\\3166659067.py\u001b[0m in \u001b[0;36mmean_adjustment_unbiased_log_likelihood\u001b[1;34m(gs_adjusted_theta, num_samples, num_datasets, actual_summary_statistics, mixture_obj_seq)\u001b[0m\n\u001b[0;32m     21\u001b[0m \u001b[1;33m\u001b[0m\u001b[0m\n\u001b[0;32m     22\u001b[0m \u001b[1;32mdef\u001b[0m \u001b[0mmean_adjustment_unbiased_log_likelihood\u001b[0m\u001b[1;33m(\u001b[0m\u001b[0mgs_adjusted_theta\u001b[0m\u001b[1;33m,\u001b[0m \u001b[0mnum_samples\u001b[0m\u001b[1;33m,\u001b[0m \u001b[0mnum_datasets\u001b[0m\u001b[1;33m,\u001b[0m \u001b[0mactual_summary_statistics\u001b[0m\u001b[1;33m,\u001b[0m \u001b[0mmixture_obj_seq\u001b[0m\u001b[1;33m)\u001b[0m\u001b[1;33m:\u001b[0m\u001b[1;33m\u001b[0m\u001b[1;33m\u001b[0m\u001b[0m\n\u001b[1;32m---> 23\u001b[1;33m     \u001b[0mmean_adj_ss\u001b[0m \u001b[1;33m=\u001b[0m \u001b[0mmean_adjustment_summary_statistics\u001b[0m\u001b[1;33m(\u001b[0m\u001b[0mgs_adjusted_theta\u001b[0m\u001b[1;33m,\u001b[0m \u001b[0mmixture_obj_seq\u001b[0m\u001b[1;33m,\u001b[0m \u001b[0mnum_samples\u001b[0m\u001b[1;33m,\u001b[0m \u001b[0mnum_datasets\u001b[0m\u001b[1;33m)\u001b[0m\u001b[1;33m\u001b[0m\u001b[1;33m\u001b[0m\u001b[0m\n\u001b[0m\u001b[0;32m     24\u001b[0m     \u001b[0madjusted_sample_mean\u001b[0m \u001b[1;33m=\u001b[0m \u001b[0mmean_adj_ss\u001b[0m\u001b[1;33m[\u001b[0m\u001b[1;36m0\u001b[0m\u001b[1;33m]\u001b[0m\u001b[1;33m\u001b[0m\u001b[1;33m\u001b[0m\u001b[0m\n\u001b[0;32m     25\u001b[0m     \u001b[0msample_variance\u001b[0m \u001b[1;33m=\u001b[0m \u001b[0mmean_adj_ss\u001b[0m\u001b[1;33m[\u001b[0m\u001b[1;36m1\u001b[0m\u001b[1;33m]\u001b[0m\u001b[1;33m\u001b[0m\u001b[1;33m\u001b[0m\u001b[0m\n",
      "\u001b[1;32m~\\AppData\\Local\\Temp\\ipykernel_35404\\847964838.py\u001b[0m in \u001b[0;36mmean_adjustment_summary_statistics\u001b[1;34m(adjusted_theta, mixture_obj_seq, num_samples, num_datasets)\u001b[0m\n\u001b[0;32m      2\u001b[0m     \u001b[0mtheta\u001b[0m \u001b[1;33m=\u001b[0m \u001b[0madjusted_theta\u001b[0m\u001b[1;33m[\u001b[0m\u001b[1;33m:\u001b[0m\u001b[0mnum_coeffs\u001b[0m\u001b[1;33m]\u001b[0m\u001b[1;33m\u001b[0m\u001b[1;33m\u001b[0m\u001b[0m\n\u001b[0;32m      3\u001b[0m     \u001b[0mGamma\u001b[0m \u001b[1;33m=\u001b[0m \u001b[0madjusted_theta\u001b[0m\u001b[1;33m[\u001b[0m\u001b[1;33m-\u001b[0m\u001b[0mnum_latent\u001b[0m\u001b[1;33m:\u001b[0m\u001b[1;33m]\u001b[0m\u001b[1;33m\u001b[0m\u001b[1;33m\u001b[0m\u001b[0m\n\u001b[1;32m----> 4\u001b[1;33m     \u001b[0msample_mean\u001b[0m\u001b[1;33m,\u001b[0m \u001b[0msample_variance\u001b[0m \u001b[1;33m=\u001b[0m \u001b[0msummary_statistics\u001b[0m\u001b[1;33m(\u001b[0m\u001b[0mtheta\u001b[0m\u001b[1;33m,\u001b[0m \u001b[0mmixture_obj_seq\u001b[0m\u001b[1;33m,\u001b[0m \u001b[0mnum_samples\u001b[0m\u001b[1;33m,\u001b[0m \u001b[0mnum_datasets\u001b[0m\u001b[1;33m)\u001b[0m\u001b[1;33m\u001b[0m\u001b[1;33m\u001b[0m\u001b[0m\n\u001b[0m\u001b[0;32m      5\u001b[0m     \u001b[0madjusted_sample_mean\u001b[0m \u001b[1;33m=\u001b[0m \u001b[0msample_mean\u001b[0m \u001b[1;33m+\u001b[0m \u001b[0mnp\u001b[0m\u001b[1;33m.\u001b[0m\u001b[0mdiag\u001b[0m\u001b[1;33m(\u001b[0m\u001b[0mscipy\u001b[0m\u001b[1;33m.\u001b[0m\u001b[0mlinalg\u001b[0m\u001b[1;33m.\u001b[0m\u001b[0msqrtm\u001b[0m\u001b[1;33m(\u001b[0m\u001b[0msample_variance\u001b[0m\u001b[1;33m)\u001b[0m\u001b[1;33m)\u001b[0m \u001b[1;33m*\u001b[0m \u001b[0mGamma\u001b[0m\u001b[1;33m\u001b[0m\u001b[1;33m\u001b[0m\u001b[0m\n\u001b[0;32m      6\u001b[0m     \u001b[1;32mreturn\u001b[0m \u001b[0madjusted_sample_mean\u001b[0m\u001b[1;33m,\u001b[0m \u001b[0msample_variance\u001b[0m\u001b[1;33m\u001b[0m\u001b[1;33m\u001b[0m\u001b[0m\n",
      "\u001b[1;32m~\\AppData\\Local\\Temp\\ipykernel_35404\\267586238.py\u001b[0m in \u001b[0;36msummary_statistics\u001b[1;34m(theta, mixture_obj_seq, num_samples, num_datasets)\u001b[0m\n\u001b[0;32m      4\u001b[0m         \u001b[0my\u001b[0m \u001b[1;33m=\u001b[0m \u001b[0msimulate_gandk\u001b[0m\u001b[1;33m(\u001b[0m\u001b[0mtheta\u001b[0m\u001b[1;33m,\u001b[0m \u001b[0mnum_samples\u001b[0m\u001b[1;33m)\u001b[0m\u001b[1;33m\u001b[0m\u001b[1;33m\u001b[0m\u001b[0m\n\u001b[0;32m      5\u001b[0m         \u001b[0mn_summary_statistics\u001b[0m\u001b[1;33m[\u001b[0m\u001b[0mi\u001b[0m\u001b[1;33m,\u001b[0m\u001b[1;33m:\u001b[0m\u001b[1;33m]\u001b[0m \u001b[1;33m=\u001b[0m \u001b[0mcompute_summary_statistics\u001b[0m\u001b[1;33m(\u001b[0m\u001b[0my\u001b[0m\u001b[1;33m)\u001b[0m\u001b[1;33m\u001b[0m\u001b[1;33m\u001b[0m\u001b[0m\n\u001b[1;32m----> 6\u001b[1;33m     \u001b[0mtransformed_summary_statistics\u001b[0m \u001b[1;33m=\u001b[0m \u001b[0mwasserstein_transform\u001b[0m\u001b[1;33m(\u001b[0m\u001b[0mmixture_obj_seq\u001b[0m\u001b[1;33m,\u001b[0m \u001b[0mn_summary_statistics\u001b[0m\u001b[1;33m)\u001b[0m\u001b[1;33m\u001b[0m\u001b[1;33m\u001b[0m\u001b[0m\n\u001b[0m\u001b[0;32m      7\u001b[0m \u001b[1;33m\u001b[0m\u001b[0m\n\u001b[0;32m      8\u001b[0m     \u001b[0msample_mean\u001b[0m \u001b[1;33m=\u001b[0m \u001b[0mnp\u001b[0m\u001b[1;33m.\u001b[0m\u001b[0mmean\u001b[0m\u001b[1;33m(\u001b[0m\u001b[0mtransformed_summary_statistics\u001b[0m\u001b[1;33m,\u001b[0m \u001b[0maxis\u001b[0m \u001b[1;33m=\u001b[0m \u001b[1;36m0\u001b[0m\u001b[1;33m)\u001b[0m\u001b[1;33m\u001b[0m\u001b[1;33m\u001b[0m\u001b[0m\n",
      "\u001b[1;32m~\\AppData\\Local\\Temp\\ipykernel_35404\\2578220412.py\u001b[0m in \u001b[0;36mwasserstein_transform\u001b[1;34m(mixture_obj_seq, n_summary_statistics)\u001b[0m\n\u001b[0;32m      6\u001b[0m         \u001b[0msigma_mixture_obj\u001b[0m \u001b[1;33m=\u001b[0m \u001b[0mmixture_obj\u001b[0m\u001b[1;33m.\u001b[0m\u001b[0mcovariances_\u001b[0m\u001b[1;33m\u001b[0m\u001b[1;33m\u001b[0m\u001b[0m\n\u001b[0;32m      7\u001b[0m         \u001b[0mweights_mixture_obj\u001b[0m \u001b[1;33m=\u001b[0m \u001b[0mmixture_obj\u001b[0m\u001b[1;33m.\u001b[0m\u001b[0mweights_\u001b[0m\u001b[1;33m\u001b[0m\u001b[1;33m\u001b[0m\u001b[0m\n\u001b[1;32m----> 8\u001b[1;33m         \u001b[0mgrad_log_f\u001b[0m \u001b[1;33m=\u001b[0m \u001b[0mgrad_log_density_mixture\u001b[0m\u001b[1;33m(\u001b[0m\u001b[0mn_summary_statistics\u001b[0m\u001b[1;33m,\u001b[0m \u001b[0mmean_mixture_obj\u001b[0m\u001b[1;33m,\u001b[0m \u001b[0msigma_mixture_obj\u001b[0m\u001b[1;33m,\u001b[0m \u001b[0mweights_mixture_obj\u001b[0m\u001b[1;33m)\u001b[0m\u001b[1;33m[\u001b[0m\u001b[1;36m1\u001b[0m\u001b[1;33m]\u001b[0m\u001b[1;33m\u001b[0m\u001b[1;33m\u001b[0m\u001b[0m\n\u001b[0m\u001b[0;32m      9\u001b[0m         \u001b[0mv\u001b[0m \u001b[1;33m=\u001b[0m \u001b[1;33m-\u001b[0m\u001b[0mn_summary_statistics\u001b[0m\u001b[1;33m-\u001b[0m\u001b[0mgrad_log_f\u001b[0m\u001b[1;33m\u001b[0m\u001b[1;33m\u001b[0m\u001b[0m\n\u001b[0;32m     10\u001b[0m         \u001b[0mn_summary_statistics\u001b[0m \u001b[1;33m=\u001b[0m \u001b[0mn_summary_statistics\u001b[0m \u001b[1;33m+\u001b[0m \u001b[0mstepsize\u001b[0m \u001b[1;33m*\u001b[0m \u001b[0mv\u001b[0m\u001b[1;33m\u001b[0m\u001b[1;33m\u001b[0m\u001b[0m\n",
      "\u001b[1;32m~\\AppData\\Local\\Temp\\ipykernel_35404\\3723449730.py\u001b[0m in \u001b[0;36mgrad_log_density_mixture\u001b[1;34m(data, mean_mixture_obj, sigma_mixture_obj, weights_mixture_obj)\u001b[0m\n\u001b[0;32m      9\u001b[0m         \u001b[0mweight_kth_mixture\u001b[0m \u001b[1;33m=\u001b[0m \u001b[0mweights_mixture_obj\u001b[0m\u001b[1;33m[\u001b[0m\u001b[0mk\u001b[0m\u001b[1;33m]\u001b[0m\u001b[1;33m\u001b[0m\u001b[1;33m\u001b[0m\u001b[0m\n\u001b[0;32m     10\u001b[0m         \u001b[0mdiff_mean_kth_mixture\u001b[0m \u001b[1;33m=\u001b[0m \u001b[0mdata\u001b[0m \u001b[1;33m-\u001b[0m \u001b[0mmean_kth_mixture\u001b[0m \u001b[1;31m#99 x g aux\u001b[0m\u001b[1;33m\u001b[0m\u001b[1;33m\u001b[0m\u001b[0m\n\u001b[1;32m---> 11\u001b[1;33m         \u001b[0mloglh_all_mixture\u001b[0m\u001b[1;33m.\u001b[0m\u001b[0mappend\u001b[0m\u001b[1;33m(\u001b[0m\u001b[0mnp\u001b[0m\u001b[1;33m.\u001b[0m\u001b[0mlog\u001b[0m\u001b[1;33m(\u001b[0m\u001b[0mweight_kth_mixture\u001b[0m\u001b[1;33m)\u001b[0m \u001b[1;33m-\u001b[0m \u001b[0mnum_coeffs\u001b[0m\u001b[1;33m/\u001b[0m\u001b[1;36m2\u001b[0m \u001b[1;33m*\u001b[0m \u001b[0mnp\u001b[0m\u001b[1;33m.\u001b[0m\u001b[0mlog\u001b[0m\u001b[1;33m(\u001b[0m\u001b[1;36m2\u001b[0m \u001b[1;33m*\u001b[0m \u001b[0mnp\u001b[0m\u001b[1;33m.\u001b[0m\u001b[0mpi\u001b[0m\u001b[1;33m)\u001b[0m\u001b[1;33m-\u001b[0m\u001b[1;36m1\u001b[0m\u001b[1;33m/\u001b[0m\u001b[1;36m2\u001b[0m \u001b[1;33m*\u001b[0m \u001b[0mnp\u001b[0m\u001b[1;33m.\u001b[0m\u001b[0mlog\u001b[0m\u001b[1;33m(\u001b[0m\u001b[0mnp\u001b[0m\u001b[1;33m.\u001b[0m\u001b[0mlinalg\u001b[0m\u001b[1;33m.\u001b[0m\u001b[0mdet\u001b[0m\u001b[1;33m(\u001b[0m\u001b[0msigma_kth_mixture\u001b[0m\u001b[1;33m)\u001b[0m\u001b[1;33m)\u001b[0m \u001b[1;33m-\u001b[0m \u001b[1;36m1\u001b[0m\u001b[1;33m/\u001b[0m\u001b[1;36m2\u001b[0m \u001b[1;33m*\u001b[0m \u001b[0mnp\u001b[0m\u001b[1;33m.\u001b[0m\u001b[0mdiag\u001b[0m\u001b[1;33m(\u001b[0m\u001b[0mdiff_mean_kth_mixture\u001b[0m \u001b[1;33m@\u001b[0m \u001b[0mmy_inv\u001b[0m\u001b[1;33m(\u001b[0m\u001b[0msigma_kth_mixture\u001b[0m\u001b[1;33m)\u001b[0m \u001b[1;33m@\u001b[0m \u001b[0mdiff_mean_kth_mixture\u001b[0m\u001b[1;33m.\u001b[0m\u001b[0mT\u001b[0m\u001b[1;33m)\u001b[0m\u001b[1;33m)\u001b[0m \u001b[1;31m# 99x99 -> diag:1x99->gx99 lw\u001b[0m\u001b[1;33m\u001b[0m\u001b[1;33m\u001b[0m\u001b[0m\n\u001b[0m\u001b[0;32m     12\u001b[0m         \u001b[0mgrad_loglh_all_mixture\u001b[0m\u001b[1;33m.\u001b[0m\u001b[0mappend\u001b[0m\u001b[1;33m(\u001b[0m\u001b[1;33m-\u001b[0m\u001b[0mdiff_mean_kth_mixture\u001b[0m \u001b[1;33m@\u001b[0m \u001b[0mmy_inv\u001b[0m\u001b[1;33m(\u001b[0m\u001b[0msigma_kth_mixture\u001b[0m\u001b[1;33m)\u001b[0m\u001b[1;33m)\u001b[0m \u001b[1;31m#M =99 x dim of ss =4\u001b[0m\u001b[1;33m\u001b[0m\u001b[1;33m\u001b[0m\u001b[0m\n\u001b[0;32m     13\u001b[0m \u001b[1;33m\u001b[0m\u001b[0m\n",
      "\u001b[1;31mKeyboardInterrupt\u001b[0m: "
     ]
    }
   ],
   "source": [
    "# Set hyperparameters\n",
    "vb = GVB(200, transformed_summary_statistics[0], 0.005, 2500, 100, 0.9, 0.9, 50, 50)\n",
    "LB_estimate, smoothed_LB_estimate, best_lambda = vb.vb_posterior(stop)"
   ]
  },
  {
   "cell_type": "code",
   "execution_count": 33,
   "metadata": {},
   "outputs": [],
   "source": [
    "best_lambda = np.array([np.array([ 3.19810092,  0.09903016,  1.84708307, -0.31620551]),\n",
    "       np.array([41.94118703, -8.53190355,  5.26819136, -1.2521479 ,  8.1421152 ,\n",
    "              -1.12904861,  2.65895337,  4.05549818, -0.29774536,  3.31271867])],\n",
    "      dtype=object)"
   ]
  },
  {
   "cell_type": "code",
   "execution_count": 44,
   "metadata": {},
   "outputs": [
    {
     "data": {
      "text/plain": [
       "<AxesSubplot: title={'center': 'Lower Bound Estimate'}>"
      ]
     },
     "execution_count": 44,
     "metadata": {},
     "output_type": "execute_result"
    },
    {
     "data": {
      "text/plain": [
       "<Figure size 640x480 with 0 Axes>"
      ]
     },
     "metadata": {},
     "output_type": "display_data"
    },
    {
     "data": {
      "image/png": "[encoded data removed]",
      "text/plain": [
       "<Figure size 640x480 with 1 Axes>"
      ]
     },
     "metadata": {},
     "output_type": "display_data"
    }
   ],
   "source": [
    "lb_df = pd.DataFrame(np.array(LB_estimate))\n",
    "plt.figure()\n",
    "lb_df.plot(title = 'Lower Bound Estimate', legend = False)"
   ]
  },
  {
   "cell_type": "code",
   "execution_count": 45,
   "metadata": {},
   "outputs": [
    {
     "data": {
      "text/plain": [
       "<AxesSubplot: title={'center': 'Smoothed Lower Bound Estimate'}>"
      ]
     },
     "execution_count": 45,
     "metadata": {},
     "output_type": "execute_result"
    },
    {
     "data": {
      "text/plain": [
       "<Figure size 640x480 with 0 Axes>"
      ]
     },
     "metadata": {},
     "output_type": "display_data"
    },
    {
     "data": {
      "image/png": "[encoded data removed]",
      "text/plain": [
       "<Figure size 640x480 with 1 Axes>"
      ]
     },
     "metadata": {},
     "output_type": "display_data"
    }
   ],
   "source": [
    "lb_df = pd.DataFrame(np.array(smoothed_LB_estimate))\n",
    "plt.figure()\n",
    "lb_df.plot(title = 'Smoothed Lower Bound Estimate', legend = False)"
   ]
  },
  {
   "cell_type": "code",
   "execution_count": 34,
   "metadata": {},
   "outputs": [
    {
     "data": {
      "text/plain": [
       "array([1.21788474, 8.328837  , 1.21265657, 7.90678226])"
      ]
     },
     "execution_count": 34,
     "metadata": {},
     "output_type": "execute_result"
    }
   ],
   "source": [
    "best_mu = best_lambda[0]\n",
    "best_vech_l = list(best_lambda[1])\n",
    "best_l = np.zeros((num_coeffs, num_coeffs))\n",
    "for i in range(num_coeffs):\n",
    "    best_l[i:num_coeffs,i] = best_vech_l[:num_coeffs - i]\n",
    "    del best_vech_l[:num_coeffs-i]\n",
    "best_Sigma_inv = best_l @ best_l.T\n",
    "best_Sigma =  np.linalg.inv(best_Sigma_inv)\n",
    "\n",
    "best_theta_tilde = multivariate_normal.rvs(mean = best_mu, cov = best_Sigma, size = 10000)\n",
    "best_alpha = best_theta_tilde[0]\n",
    "best_beta = np.exp(best_theta_tilde[1])\n",
    "best_gamma = best_theta_tilde[2]\n",
    "best_delta = np.exp(best_theta_tilde[3])\n",
    "best_theta = np.array([best_alpha, best_beta, best_gamma, best_delta])\n",
    "posterior_mean_estimate = np.mean(best_theta, axis = 1)\n",
    "posterior_mean_estimate"
   ]
  },
  {
   "cell_type": "code",
   "execution_count": null,
   "metadata": {},
   "outputs": [
    {
     "data": {
      "text/plain": [
       "Text(0.5, 1.0, 'Posterior density of alpha')"
      ]
     },
     "execution_count": 31,
     "metadata": {},
     "output_type": "execute_result"
    },
    {
     "data": {
      "image/png": "[encoded data removed]",
      "text/plain": [
       "<Figure size 640x480 with 1 Axes>"
      ]
     },
     "metadata": {},
     "output_type": "display_data"
    }
   ],
   "source": [
    "plt.figure()\n",
    "x_plot = np.arange((np.mean(best_alpha)-5*np.std(best_alpha)), (np.mean(best_alpha)+5*np.std(best_alpha)), 0.001)\n",
    "y_plot = ss.norm.pdf(x_plot, np.mean(best_alpha), np.std(best_alpha))\n",
    "plt.plot(x_plot, y_plot, '-', linewidth=2.0)\n",
    "plt.xlabel(r'$\\alpha$')\n",
    "plt.title('Posterior density of alpha')"
   ]
  },
  {
   "cell_type": "code",
   "execution_count": null,
   "metadata": {},
   "outputs": [
    {
     "data": {
      "text/plain": [
       "Text(0.5, 1.0, 'Posterior density of beta')"
      ]
     },
     "execution_count": 32,
     "metadata": {},
     "output_type": "execute_result"
    },
    {
     "data": {
      "image/png": "[encoded data removed]",
      "text/plain": [
       "<Figure size 640x480 with 1 Axes>"
      ]
     },
     "metadata": {},
     "output_type": "display_data"
    }
   ],
   "source": [
    "plt.figure()\n",
    "x_plot = np.arange((np.mean(best_beta)-4*np.std(best_beta)), (np.mean(best_beta)+4*np.std(best_beta)), 0.001)\n",
    "y_plot = ss.norm.pdf(x_plot, np.mean(best_beta), np.std(best_beta))\n",
    "plt.plot(x_plot, y_plot, '-', linewidth=2.0)\n",
    "plt.xlabel(r'$\\beta$')\n",
    "plt.title('Posterior density of beta')"
   ]
  },
  {
   "cell_type": "code",
   "execution_count": null,
   "metadata": {},
   "outputs": [
    {
     "data": {
      "text/plain": [
       "Text(0.5, 1.0, 'Posterior density of gamma')"
      ]
     },
     "execution_count": 33,
     "metadata": {},
     "output_type": "execute_result"
    },
    {
     "data": {
      "image/png": "[encoded data removed]",
      "text/plain": [
       "<Figure size 640x480 with 1 Axes>"
      ]
     },
     "metadata": {},
     "output_type": "display_data"
    }
   ],
   "source": [
    "plt.figure()\n",
    "x_plot = np.arange((np.mean(best_gamma)-4*np.std(best_gamma)), (np.mean(best_gamma)+4*np.std(best_gamma)), 0.001)\n",
    "y_plot = ss.norm.pdf(x_plot, np.mean(best_gamma), np.std(best_gamma))\n",
    "plt.plot(x_plot, y_plot, '-', linewidth=2.0)\n",
    "plt.xlabel(r'$\\gamma$')\n",
    "plt.title('Posterior density of gamma')"
   ]
  },
  {
   "cell_type": "markdown",
   "metadata": {},
   "source": [
    "## RUN MCMC WITH ADAPTIVE RANDOM WALK"
   ]
  },
  {
   "cell_type": "code",
   "execution_count": null,
   "metadata": {},
   "outputs": [],
   "source": [
    "num_samples = 20000\n",
    "num_burnin = 0.2 * num_samples"
   ]
  },
  {
   "cell_type": "code",
   "execution_count": null,
   "metadata": {},
   "outputs": [],
   "source": [
    "def sampler(samples):\n",
    "\n",
    "    # ------------------- initialize MCMC\n",
    "\n",
    "    theta_size = num_coeffs  # num of weights and bias\n",
    "\n",
    "    pos_theta = np.ones((samples, theta_size))  # posterior of all weights and bias over all samples\n",
    "    pos_theta_tilde = np.ones((samples, theta_size))\n",
    "\n",
    "    theta_tilde = np.array([np.log((true_theta[0]-0)/(5-true_theta[0])), np.log((true_theta[1]-0)/(2-true_theta[1])), np.log((true_theta[2]-0)/(3-true_theta[2])), np.log((true_theta[3]-0)/(1-true_theta[3]))])\n",
    "\n",
    "    alpha = (5 * np.exp(theta_tilde[0]) + 0) / (1 + np.exp(theta_tilde[0]))\n",
    "    beta = (2 * np.exp(theta_tilde[1]) + 0) / (1 + np.exp(theta_tilde[1]))\n",
    "    gamma = (3 * np.exp(theta_tilde[2]) + 0) / (1 + np.exp(theta_tilde[2]))\n",
    "    delta = (1 * np.exp(theta_tilde[3]) + 0) / (1 + np.exp(theta_tilde[3]))\n",
    "\n",
    "    theta = np.array([alpha, beta, gamma, delta])\n",
    "\n",
    "    # GENERATE GAMMA\n",
    "    ss = summary_statistics(theta, mixture_obj_seq, n_samples, num_datasets)\n",
    "    sample_mean = ss[0]\n",
    "    sample_variance = ss[1]\n",
    "\n",
    "    # Find mean and variance for p(gamma | theta, obs)\n",
    "\n",
    "    diag_var = np.zeros((num_latent, num_latent))\n",
    "    np.fill_diagonal(diag_var, np.diag(sample_variance))\n",
    "    mean_nuissance_p1 = my_inv(np.identity(num_latent) / sigma_latent + diag_var.T @ my_inv(sample_variance) @ diag_var)\n",
    "    diff_mean = actual_summary_statistics - sample_mean\n",
    "    mean_nuissance_p2 = diag_var @ my_inv(sample_variance) @ diff_mean\n",
    "    mean_nuissance = mean_nuissance_p1 @ mean_nuissance_p2\n",
    "\n",
    "    variance_nuissance = mean_nuissance_p1  #+ (np.eye(mean_nuissance_p1.shape[0]) * 5 * 1e-7)\n",
    "\n",
    "    # GENERATE GAMMA\n",
    "    rng = np.random.default_rng()\n",
    "    Gamma_init = rng.multivariate_normal(mean = mean_nuissance, cov = variance_nuissance)\n",
    "    # Gamma = Gamma[0]\n",
    "    adjusted_theta = np.concatenate((theta, Gamma_init))\n",
    "\n",
    "    # Find gradient of LB\n",
    "    llh = mean_adjustment_unbiased_log_likelihood(adjusted_theta, n_samples, num_datasets, actual_summary_statistics)\n",
    "    llh_gamma = nuissance_mean_adjustment_unbiased_log_likelihood(Gamma_init, mean_nuissance, variance_nuissance)\n",
    "\n",
    "    # --------------------- \n",
    "\n",
    "    prior_current = prior(theta_tilde)  # takes care of the gradients\n",
    "\n",
    "    likelihood_current = llh\n",
    "\n",
    "    naccept = 0\n",
    "\n",
    "    for i in tqdm(range(samples - 1)):\n",
    "        if i < 2000:\n",
    "#             theta_proposal_tilde = multivariate_normal.rvs(mean = theta_tilde, cov = ((0.1**2/theta_size) * np.identity(theta_size)))\n",
    "            theta_proposal_tilde = multivariate_normal.rvs(mean = theta_tilde, cov = ((0.1**2.5/theta_size) * best_Sigma))\n",
    "        else:\n",
    "            if i % 500 == 0:\n",
    "                Sign = np.cov(pos_theta_tilde[0:i, :].T)\n",
    "            u_proposal = random.uniform(0, 1)\n",
    "            if u_proposal < 0.05:\n",
    "#                 theta_proposal_tilde = multivariate_normal.rvs(mean = theta_tilde, cov = ((0.1**2/theta_size) * np.identity(theta_size)))\n",
    "                theta_proposal_tilde = multivariate_normal.rvs(mean = theta_tilde, cov = ((0.1**2.5/theta_size) * best_Sigma))    \n",
    "            else:\n",
    "#                 theta_proposal_tilde = multivariate_normal.rvs(mean = theta_tilde, cov = (2.38**2/theta_size) * Sign)\n",
    "                theta_proposal_tilde = multivariate_normal.rvs(mean = theta_tilde, cov = ((1.1**2.5/theta_size) * best_Sigma))\n",
    "\n",
    "        alpha_prop = (5 * np.exp(theta_proposal_tilde[0]) + 0) / (1 + np.exp(theta_proposal_tilde[0]))\n",
    "        beta_prop = (2 * np.exp(theta_proposal_tilde[1]) + 0) / (1 + np.exp(theta_proposal_tilde[1]))\n",
    "        gamma_prop = (3 * np.exp(theta_proposal_tilde[2]) + 0) / (1 + np.exp(theta_proposal_tilde[2]))\n",
    "        delta_prop = (1 * np.exp(theta_proposal_tilde[3]) + 0) / (1 + np.exp(theta_proposal_tilde[3]))\n",
    "\n",
    "        theta_proposal = np.array([alpha_prop, beta_prop, gamma_prop, delta_prop])\n",
    "\n",
    "        # GENERATE GAMMA\n",
    "        ss = summary_statistics(theta_proposal, n_samples, num_datasets)\n",
    "        sample_mean = ss[0]\n",
    "        sample_variance = ss[1]\n",
    "\n",
    "        # Find mean and variance for p(gamma | theta, obs)\n",
    "\n",
    "        diag_var = np.zeros((num_latent, num_latent))\n",
    "        np.fill_diagonal(diag_var, np.diag(sample_variance))\n",
    "        mean_nuissance_p1 = my_inv(np.identity(num_latent) / sigma_latent + diag_var.T @ my_inv(sample_variance) @ diag_var)\n",
    "        diff_mean = actual_summary_statistics - sample_mean\n",
    "        mean_nuissance_p2 = diag_var @ my_inv(sample_variance) @ diff_mean\n",
    "        mean_nuissance = mean_nuissance_p1 @ mean_nuissance_p2\n",
    "\n",
    "        variance_nuissance = mean_nuissance_p1  #+ (np.eye(mean_nuissance_p1.shape[0]) * 5 * 1e-7)\n",
    "\n",
    "        # GENERATE GAMMA\n",
    "        rng = np.random.default_rng()\n",
    "        Gamma = rng.multivariate_normal(mean = mean_nuissance, cov = variance_nuissance)\n",
    "        # Gamma = Gamma[0]\n",
    "        adjusted_theta_proposal = np.concatenate((theta_proposal, Gamma))\n",
    "\n",
    "        # Find gradient of LB\n",
    "        llh = mean_adjustment_unbiased_log_likelihood(adjusted_theta_proposal, n_samples, num_datasets, actual_summary_statistics)\n",
    "        llh_gamma = nuissance_mean_adjustment_unbiased_log_likelihood(Gamma, mean_nuissance, variance_nuissance)\n",
    "        # --------------------- \n",
    "\n",
    "        prior_proposal = prior(theta_proposal_tilde)  # takes care of the gradients\n",
    "        likelihood_proposal = llh\n",
    "\n",
    "        diff_prior = prior_proposal - prior_current\n",
    "\n",
    "        diff_likelihood = likelihood_proposal - likelihood_current\n",
    "\n",
    "        try:\n",
    "            mh_prob = min(1, math.exp(diff_likelihood+diff_prior))\n",
    "\n",
    "        except OverflowError as e:\n",
    "            mh_prob = 1\n",
    "\n",
    "\n",
    "        u = random.uniform(0, 1)\n",
    "\n",
    "        if u < mh_prob:\n",
    "            # Update position \n",
    "            naccept += 1\n",
    "            likelihood_current = likelihood_proposal\n",
    "            prior_current = prior_proposal\n",
    "            theta_tilde = theta_proposal_tilde\n",
    "            theta = theta_proposal\n",
    "            pos_theta_tilde[i + 1,] = theta_proposal_tilde\t\n",
    "            pos_theta[i + 1,] = theta_proposal\n",
    "            print(i, pos_theta[i + 1,])\n",
    "\n",
    "        else:\n",
    "            pos_theta_tilde[i + 1,] = pos_theta_tilde[i,]\n",
    "            pos_theta[i + 1,] = pos_theta[i,]\n",
    "\n",
    "    print(naccept, ' num accepted')\n",
    "    print(naccept / (samples * 1.0) * 100, '% was accepted')\n",
    "    accept_ratio = naccept / (samples * 1.0) * 100\n",
    "\n",
    "    return (pos_theta, pos_theta_tilde, accept_ratio)"
   ]
  },
  {
   "cell_type": "code",
   "execution_count": null,
   "metadata": {},
   "outputs": [],
   "source": [
    "pos_w, pos_w_tilde, accept_ratio = sampler(num_samples)"
   ]
  }
 ],
 "metadata": {
  "kernelspec": {
   "display_name": "Python 3 (ipykernel)",
   "language": "python",
   "name": "python3"
  },
  "language_info": {
   "codemirror_mode": {
    "name": "ipython",
    "version": 3
   },
   "file_extension": ".py",
   "mimetype": "text/x-python",
   "name": "python",
   "nbconvert_exporter": "python",
   "pygments_lexer": "ipython3",
   "version": "3.9.13"
  },
  "vscode": {
   "interpreter": {
    "hash": "a41329fe0cfbe6556a2d0d7f2960b9e807b2149fcdd1bbd308c99c3aea754318"
   }
  }
 },
 "nbformat": 4,
 "nbformat_minor": 2
}
